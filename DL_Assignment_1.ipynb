{
  "nbformat": 4,
  "nbformat_minor": 0,
  "metadata": {
    "colab": {
      "provenance": []
    },
    "kernelspec": {
      "name": "python3",
      "display_name": "Python 3"
    },
    "language_info": {
      "name": "python"
    }
  },
  "cells": [
    {
      "cell_type": "markdown",
      "source": [
        "DA6401 Assignment-1\n",
        "\n",
        "NAME: MOUSINA BARMAN\n",
        "\n",
        "ROLL: MA23M011\n",
        "\n"
      ],
      "metadata": {
        "id": "WBEU4eunJka-"
      }
    },
    {
      "cell_type": "code",
      "source": [
        "import numpy as np\n",
        "import matplotlib.pyplot as plt\n",
        "import wandb\n",
        "from keras.datasets import fashion_mnist\n",
        "\n",
        "# Initialize wandb\n",
        "wandb.init(project=\"DA6401_Assignment1_ma23m011\", name=\"sample-images-1\")\n",
        "\n",
        "# Load Fashion-MNIST dataset\n",
        "(x_train, y_train), (x_test, y_test) = fashion_mnist.load_data()\n",
        "\n",
        "# Define class labels for Fashion-MNIST\n",
        "class_labels = [\n",
        "    \"T-shirt/top\", \"Trouser\", \"Pullover\", \"Dress\", \"Coat\",\n",
        "    \"Sandal\", \"Shirt\", \"Sneaker\", \"Bag\", \"Ankle boot\"\n",
        "]\n",
        "\n",
        "# Get one example of each class\n",
        "sample_images = []\n",
        "sample_labels = []\n",
        "for class_id in range(10):\n",
        "    idx = np.where(y_train == class_id)[0][0]  # Find first occurrence of class_id\n",
        "    sample_images.append(x_train[idx])\n",
        "    sample_labels.append(class_labels[class_id])\n",
        "\n",
        "# Log images to wandb\n",
        "wandb.log({\"Sample Images\": [wandb.Image(img, caption=label) for img, label in zip(sample_images, sample_labels)]})\n",
        "\n",
        "# Plot images in a 2x5 grid\n",
        "fig, axes = plt.subplots(2, 5, figsize=(10, 5))\n",
        "fig.suptitle(\"Sample Images from Fashion-MNIST\", fontsize=14)\n",
        "\n",
        "for i, ax in enumerate(axes.flat):\n",
        "    ax.imshow(sample_images[i], cmap='gray')\n",
        "    ax.set_title(sample_labels[i])\n",
        "    ax.axis(\"off\")\n",
        "\n",
        "plt.show()\n",
        "\n",
        "# Finish wandb run\n",
        "wandb.finish()\n"
      ],
      "metadata": {
        "colab": {
          "base_uri": "https://localhost:8080/",
          "height": 931
        },
        "id": "J9_AV710S0g-",
        "outputId": "49634450-3195-4154-9b71-072181a4a60d"
      },
      "execution_count": 1,
      "outputs": [
        {
          "output_type": "stream",
          "name": "stderr",
          "text": [
            "\u001b[34m\u001b[1mwandb\u001b[0m: Using wandb-core as the SDK backend.  Please refer to https://wandb.me/wandb-core for more information.\n"
          ]
        },
        {
          "output_type": "display_data",
          "data": {
            "text/plain": [
              "<IPython.core.display.Javascript object>"
            ],
            "application/javascript": [
              "\n",
              "        window._wandbApiKey = new Promise((resolve, reject) => {\n",
              "            function loadScript(url) {\n",
              "            return new Promise(function(resolve, reject) {\n",
              "                let newScript = document.createElement(\"script\");\n",
              "                newScript.onerror = reject;\n",
              "                newScript.onload = resolve;\n",
              "                document.body.appendChild(newScript);\n",
              "                newScript.src = url;\n",
              "            });\n",
              "            }\n",
              "            loadScript(\"https://cdn.jsdelivr.net/npm/postmate/build/postmate.min.js\").then(() => {\n",
              "            const iframe = document.createElement('iframe')\n",
              "            iframe.style.cssText = \"width:0;height:0;border:none\"\n",
              "            document.body.appendChild(iframe)\n",
              "            const handshake = new Postmate({\n",
              "                container: iframe,\n",
              "                url: 'https://wandb.ai/authorize'\n",
              "            });\n",
              "            const timeout = setTimeout(() => reject(\"Couldn't auto authenticate\"), 5000)\n",
              "            handshake.then(function(child) {\n",
              "                child.on('authorize', data => {\n",
              "                    clearTimeout(timeout)\n",
              "                    resolve(data)\n",
              "                });\n",
              "            });\n",
              "            })\n",
              "        });\n",
              "    "
            ]
          },
          "metadata": {}
        },
        {
          "output_type": "stream",
          "name": "stderr",
          "text": [
            "\u001b[34m\u001b[1mwandb\u001b[0m: Logging into wandb.ai. (Learn how to deploy a W&B server locally: https://wandb.me/wandb-server)\n",
            "\u001b[34m\u001b[1mwandb\u001b[0m: You can find your API key in your browser here: https://wandb.ai/authorize\n",
            "wandb: Paste an API key from your profile and hit enter:"
          ]
        },
        {
          "name": "stdout",
          "output_type": "stream",
          "text": [
            " ··········\n"
          ]
        },
        {
          "output_type": "stream",
          "name": "stderr",
          "text": [
            "\u001b[34m\u001b[1mwandb\u001b[0m: \u001b[33mWARNING\u001b[0m If you're specifying your api key in code, ensure this code is not shared publicly.\n",
            "\u001b[34m\u001b[1mwandb\u001b[0m: \u001b[33mWARNING\u001b[0m Consider setting the WANDB_API_KEY environment variable, or running `wandb login` from the command line.\n",
            "\u001b[34m\u001b[1mwandb\u001b[0m: No netrc file found, creating one.\n",
            "\u001b[34m\u001b[1mwandb\u001b[0m: Appending key for api.wandb.ai to your netrc file: /root/.netrc\n",
            "\u001b[34m\u001b[1mwandb\u001b[0m: Currently logged in as: \u001b[33mma23m011\u001b[0m (\u001b[33mma23m011-iit-madras\u001b[0m) to \u001b[32mhttps://api.wandb.ai\u001b[0m. Use \u001b[1m`wandb login --relogin`\u001b[0m to force relogin\n"
          ]
        },
        {
          "output_type": "display_data",
          "data": {
            "text/plain": [
              "<IPython.core.display.HTML object>"
            ],
            "text/html": [
              "Tracking run with wandb version 0.19.7"
            ]
          },
          "metadata": {}
        },
        {
          "output_type": "display_data",
          "data": {
            "text/plain": [
              "<IPython.core.display.HTML object>"
            ],
            "text/html": [
              "Run data is saved locally in <code>/content/wandb/run-20250310_002444-aahdrpff</code>"
            ]
          },
          "metadata": {}
        },
        {
          "output_type": "display_data",
          "data": {
            "text/plain": [
              "<IPython.core.display.HTML object>"
            ],
            "text/html": [
              "Syncing run <strong><a href='https://wandb.ai/ma23m011-iit-madras/DA6401_Assignment1_ma23m011/runs/aahdrpff' target=\"_blank\">sample-images-1</a></strong> to <a href='https://wandb.ai/ma23m011-iit-madras/DA6401_Assignment1_ma23m011' target=\"_blank\">Weights & Biases</a> (<a href='https://wandb.me/developer-guide' target=\"_blank\">docs</a>)<br>"
            ]
          },
          "metadata": {}
        },
        {
          "output_type": "display_data",
          "data": {
            "text/plain": [
              "<IPython.core.display.HTML object>"
            ],
            "text/html": [
              " View project at <a href='https://wandb.ai/ma23m011-iit-madras/DA6401_Assignment1_ma23m011' target=\"_blank\">https://wandb.ai/ma23m011-iit-madras/DA6401_Assignment1_ma23m011</a>"
            ]
          },
          "metadata": {}
        },
        {
          "output_type": "display_data",
          "data": {
            "text/plain": [
              "<IPython.core.display.HTML object>"
            ],
            "text/html": [
              " View run at <a href='https://wandb.ai/ma23m011-iit-madras/DA6401_Assignment1_ma23m011/runs/aahdrpff' target=\"_blank\">https://wandb.ai/ma23m011-iit-madras/DA6401_Assignment1_ma23m011/runs/aahdrpff</a>"
            ]
          },
          "metadata": {}
        },
        {
          "output_type": "stream",
          "name": "stdout",
          "text": [
            "Downloading data from https://storage.googleapis.com/tensorflow/tf-keras-datasets/train-labels-idx1-ubyte.gz\n",
            "\u001b[1m29515/29515\u001b[0m \u001b[32m━━━━━━━━━━━━━━━━━━━━\u001b[0m\u001b[37m\u001b[0m \u001b[1m0s\u001b[0m 0us/step\n",
            "Downloading data from https://storage.googleapis.com/tensorflow/tf-keras-datasets/train-images-idx3-ubyte.gz\n",
            "\u001b[1m26421880/26421880\u001b[0m \u001b[32m━━━━━━━━━━━━━━━━━━━━\u001b[0m\u001b[37m\u001b[0m \u001b[1m0s\u001b[0m 0us/step\n",
            "Downloading data from https://storage.googleapis.com/tensorflow/tf-keras-datasets/t10k-labels-idx1-ubyte.gz\n",
            "\u001b[1m5148/5148\u001b[0m \u001b[32m━━━━━━━━━━━━━━━━━━━━\u001b[0m\u001b[37m\u001b[0m \u001b[1m0s\u001b[0m 1us/step\n",
            "Downloading data from https://storage.googleapis.com/tensorflow/tf-keras-datasets/t10k-images-idx3-ubyte.gz\n",
            "\u001b[1m4422102/4422102\u001b[0m \u001b[32m━━━━━━━━━━━━━━━━━━━━\u001b[0m\u001b[37m\u001b[0m \u001b[1m0s\u001b[0m 0us/step\n"
          ]
        },
        {
          "output_type": "display_data",
          "data": {
            "text/plain": [
              "<Figure size 1000x500 with 10 Axes>"
            ],
            "image/png": "[encoded data removed]"
          },
          "metadata": {}
        },
        {
          "output_type": "display_data",
          "data": {
            "text/plain": [
              "<IPython.core.display.HTML object>"
            ],
            "text/html": []
          },
          "metadata": {}
        },
        {
          "output_type": "display_data",
          "data": {
            "text/plain": [
              "<IPython.core.display.HTML object>"
            ],
            "text/html": [
              " View run <strong style=\"color:#cdcd00\">sample-images-1</strong> at: <a href='https://wandb.ai/ma23m011-iit-madras/DA6401_Assignment1_ma23m011/runs/aahdrpff' target=\"_blank\">https://wandb.ai/ma23m011-iit-madras/DA6401_Assignment1_ma23m011/runs/aahdrpff</a><br> View project at: <a href='https://wandb.ai/ma23m011-iit-madras/DA6401_Assignment1_ma23m011' target=\"_blank\">https://wandb.ai/ma23m011-iit-madras/DA6401_Assignment1_ma23m011</a><br>Synced 5 W&B file(s), 10 media file(s), 0 artifact file(s) and 0 other file(s)"
            ]
          },
          "metadata": {}
        },
        {
          "output_type": "display_data",
          "data": {
            "text/plain": [
              "<IPython.core.display.HTML object>"
            ],
            "text/html": [
              "Find logs at: <code>./wandb/run-20250310_002444-aahdrpff/logs</code>"
            ]
          },
          "metadata": {}
        }
      ]
    },
    {
      "cell_type": "code",
      "source": [
        "# # Normalize the input images (scale pixel values to [0,1])\n",
        "# x_train = x_train.reshape(x_train.shape[0], -1) / 255.0  # Flatten 28x28 images to 784-dim vector\n",
        "# x_test = x_test.reshape(x_test.shape[0], -1) / 255.0\n",
        "\n",
        "# # Convert labels to one-hot encoding\n",
        "# def one_hot_encode(y, num_classes=10):\n",
        "#     one_hot = np.zeros((y.size, num_classes))\n",
        "#     one_hot[np.arange(y.size), y] = 1\n",
        "#     return one_hot\n",
        "\n",
        "# y_train = one_hot_encode(y_train)\n",
        "# y_val = one_hot_encode(y_val)\n",
        "# y_test = one_hot_encode(y_test)\n",
        "# # Print to verify\n",
        "# print(\"y_train shape:\", y_train.shape)  # (54000, 10)\n",
        "# print(\"y_val shape:\", y_val.shape)      # (6000, 10)\n",
        "# print(\"y_test shape:\", y_test.shape)      # (10000, 10)\n",
        "\n",
        "# # Define the Feedforward Neural Network class\n",
        "# class NeuralNetwork:\n",
        "#     def __init__(self, input_size=784, hidden_layers=[128, 64], output_size=10):\n",
        "#         \"\"\"\n",
        "#         Initializes a fully connected neural network.\n",
        "#         Parameters:\n",
        "#             input_size (int): Number of input neurons (784 for Fashion-MNIST).\n",
        "#             hidden_layers (list): List containing the number of neurons in each hidden layer.\n",
        "#             output_size (int): Number of output neurons (10 for classification).\n",
        "#         \"\"\"\n",
        "#         self.layers = [input_size] + hidden_layers + [output_size]  # Layers including input & output\n",
        "#         self.weights = []\n",
        "#         self.biases = []\n",
        "\n",
        "#         # Initialize weights and biases\n",
        "#         for i in range(len(self.layers) - 1):\n",
        "#             self.weights.append(np.random.randn(self.layers[i], self.layers[i+1]) * 0.01)\n",
        "#             self.biases.append(np.zeros((1, self.layers[i+1])))\n",
        "\n",
        "#     def sigmoid(self, z):\n",
        "#         z = np.clip(z, -500, 500)  # Prevent extreme values\n",
        "#         return 1 / (1 + np.exp(-z))\n",
        "\n",
        "#     def softmax(self, z):\n",
        "#         exp_z = np.exp(z - np.max(z, axis=1, keepdims=True))  # Stability trick\n",
        "#         return exp_z / np.sum(exp_z, axis=1, keepdims=True)\n",
        "\n",
        "#     def forward(self, X):\n",
        "#         \"\"\"\n",
        "#         Forward pass through the network.\n",
        "#         Returns activations of all layers.\n",
        "#         \"\"\"\n",
        "#         activations = [X]\n",
        "#         for i in range(len(self.weights) - 1):\n",
        "#             z = np.dot(activations[-1], self.weights[i]) + self.biases[i]\n",
        "#             a = self.sigmoid(z)\n",
        "#             activations.append(a)\n",
        "\n",
        "#         # Output layer (softmax activation)\n",
        "#         z_out = np.dot(activations[-1], self.weights[-1]) + self.biases[-1]\n",
        "#         a_out = self.softmax(z_out)\n",
        "#         activations.append(a_out)\n",
        "\n",
        "#         return activations\n",
        "\n",
        "#     def predict(self, X):\n",
        "#         \"\"\"\n",
        "#         Predict class labels for given input.\n",
        "#         \"\"\"\n",
        "#         output = self.forward(X)[-1]\n",
        "#         return np.argmax(output, axis=1)\n",
        "\n",
        "\n",
        "# # Create a neural network with a flexible architecture\n",
        "# nn = NeuralNetwork(input_size=784, hidden_layers=[128, 64], output_size=10)\n",
        "\n",
        "# # Forward pass example\n",
        "# sample_input = x_train[:5]  # Take 5 sample images\n",
        "# output_probs = nn.forward(sample_input)[-1]  # Get output probability distribution\n",
        "\n",
        "# # Print predictions\n",
        "# print(\"Predicted class probabilities:\\n\", output_probs)\n",
        "# print(\"Predicted classes:\", np.argmax(output_probs, axis=1))\n"
      ],
      "metadata": {
        "id": "_cH1MaAwcGxw"
      },
      "execution_count": 2,
      "outputs": []
    },
    {
      "cell_type": "code",
      "source": [
        "import numpy as np\n",
        "from keras.datasets import fashion_mnist\n",
        "\n",
        "# Load Fashion-MNIST dataset\n",
        "(x_train, y_train), (x_test, y_test) = fashion_mnist.load_data()\n",
        "\n",
        "# Normalize and flatten images\n",
        "x_train = x_train.reshape(x_train.shape[0], -1) / 255.0\n",
        "x_test = x_test.reshape(x_test.shape[0], -1) / 255.0\n",
        "\n",
        "# Create validation set (last 6000 samples from training set)\n",
        "x_val = x_train[54000:]\n",
        "y_val = y_train[54000:]\n",
        "\n",
        "# Use the first 54,000 samples for training\n",
        "x_train = x_train[:54000]\n",
        "y_train = y_train[:54000]\n",
        "\n",
        "# Convert labels to one-hot encoding\n",
        "def one_hot_encode(y, num_classes=10):\n",
        "    one_hot = np.zeros((y.size, num_classes))\n",
        "    one_hot[np.arange(y.size), y] = 1\n",
        "    return one_hot\n",
        "\n",
        "y_train = one_hot_encode(y_train)\n",
        "y_val = one_hot_encode(y_val)\n",
        "y_test = one_hot_encode(y_test)\n",
        "\n",
        "# ------------------------------ Neural Network Class --------------------------------------\n",
        "class NeuralNetwork:\n",
        "    def __init__(self, input_size=784, hidden_layers=[128, 64], output_size=10,\n",
        "                 learning_rate=0.01, optimizer=\"sgd\", weight_init=\"random\",\n",
        "                 activation=\"sigmoid\", weight_decay=0.0):\n",
        "        \"\"\"\n",
        "        Flexible Feedforward Neural Network with:\n",
        "        - Weight Initialization: 'random' or 'xavier'\n",
        "        - Activation Functions: 'sigmoid', 'tanh', 'relu'\n",
        "        - Weight Decay (L2 Regularization): 0, 0.0005, 0.5\n",
        "        \"\"\"\n",
        "        self.layers = [input_size] + hidden_layers + [output_size]\n",
        "        self.learning_rate = learning_rate\n",
        "        self.optimizer = optimizer\n",
        "        self.weight_init = weight_init\n",
        "        self.activation = activation\n",
        "        self.weight_decay = weight_decay\n",
        "        self.init_weights()\n",
        "\n",
        "        # Optimizer-specific variables\n",
        "        self.momentum = 0.9\n",
        "        self.beta1 = 0.9  # Adam/Nadam\n",
        "        self.beta2 = 0.999\n",
        "        self.epsilon = 1e-8\n",
        "        self.velocity = [np.zeros_like(w) for w in self.weights]\n",
        "        self.squared_grads = [np.zeros_like(w) for w in self.weights]\n",
        "        self.m = [np.zeros_like(w) for w in self.weights]\n",
        "        self.v = [np.zeros_like(w) for w in self.weights]\n",
        "        self.t = 0  # Time step\n",
        "\n",
        "    def init_weights(self):\n",
        "        \"\"\" Initialize weights and biases based on chosen method. \"\"\"\n",
        "        self.weights = []\n",
        "        self.biases = []\n",
        "        for i in range(len(self.layers) - 1):\n",
        "            if self.weight_init == \"random\":\n",
        "                self.weights.append(np.random.randn(self.layers[i], self.layers[i+1]) * 0.01)\n",
        "            elif self.weight_init == \"xavier\":\n",
        "                self.weights.append(np.random.randn(self.layers[i], self.layers[i+1]) * np.sqrt(1 / self.layers[i]))\n",
        "            self.biases.append(np.zeros((1, self.layers[i+1])))\n",
        "\n",
        "    def activation_function(self, z):\n",
        "        \"\"\" Compute activation function based on user choice. \"\"\"\n",
        "        if self.activation == \"sigmoid\":\n",
        "            return 1 / (1 + np.exp(-np.clip(z, -10, 10)))  # Prevent overflow\n",
        "        elif self.activation == \"tanh\":\n",
        "            return np.tanh(z)\n",
        "        elif self.activation == \"relu\":\n",
        "            return np.maximum(0, z)\n",
        "\n",
        "    def activation_derivative(self, a):\n",
        "        \"\"\" Compute derivative of activation function. \"\"\"\n",
        "        if self.activation == \"sigmoid\":\n",
        "            return a * (1 - a)\n",
        "        elif self.activation == \"tanh\":\n",
        "            return 1 - a**2\n",
        "        elif self.activation == \"relu\":\n",
        "            return (a > 0).astype(float)\n",
        "\n",
        "    def softmax(self, z):\n",
        "        exp_z = np.exp(z - np.max(z, axis=1, keepdims=True))\n",
        "        return exp_z / np.sum(exp_z, axis=1, keepdims=True)\n",
        "\n",
        "    def forward(self, X):\n",
        "        \"\"\" Forward pass through the network. \"\"\"\n",
        "        activations = [X]\n",
        "        z_values = []\n",
        "\n",
        "        for i in range(len(self.weights) - 1):\n",
        "            z = np.dot(activations[-1], self.weights[i]) + self.biases[i]\n",
        "            z_values.append(z)\n",
        "            activations.append(self.activation_function(z))\n",
        "\n",
        "        z_out = np.dot(activations[-1], self.weights[-1]) + self.biases[-1]\n",
        "        z_values.append(z_out)\n",
        "        activations.append(self.softmax(z_out))\n",
        "\n",
        "        return activations, z_values\n",
        "\n",
        "    def compute_loss(self, y_true, y_pred):\n",
        "        \"\"\" Compute cross-entropy loss with optional L2 regularization. \"\"\"\n",
        "        loss = -np.sum(y_true * np.log(y_pred + self.epsilon)) / y_true.shape[0]\n",
        "        l2_penalty = self.weight_decay * sum(np.sum(w**2) for w in self.weights) / 2\n",
        "        return loss + l2_penalty\n",
        "\n",
        "    def compute_accuracy(self, y_true, y_pred):\n",
        "        \"\"\" Compute accuracy by comparing true vs predicted labels. \"\"\"\n",
        "        correct_predictions = np.sum(np.argmax(y_pred, axis=1) == np.argmax(y_true, axis=1))\n",
        "        return correct_predictions / y_true.shape[0]\n",
        "\n",
        "    def backward(self, X, y_true, activations, z_values):\n",
        "        \"\"\" Backpropagation to compute gradients. \"\"\"\n",
        "        gradients_w = [np.zeros_like(w) for w in self.weights]\n",
        "        gradients_b = [np.zeros_like(b) for b in self.biases]\n",
        "\n",
        "        # Output layer gradient\n",
        "        dL_dz = activations[-1] - y_true\n",
        "        gradients_w[-1] = np.dot(activations[-2].T, dL_dz) + self.weight_decay * self.weights[-1]\n",
        "        gradients_b[-1] = np.sum(dL_dz, axis=0, keepdims=True)\n",
        "\n",
        "        # Hidden layers\n",
        "        for i in reversed(range(len(self.weights) - 1)):\n",
        "            dL_dz = np.dot(dL_dz, self.weights[i+1].T) * self.activation_derivative(activations[i+1])\n",
        "            gradients_w[i] = np.dot(activations[i].T, dL_dz) + self.weight_decay * self.weights[i]\n",
        "            gradients_b[i] = np.sum(dL_dz, axis=0, keepdims=True)\n",
        "\n",
        "        return gradients_w, gradients_b\n",
        "\n",
        "    def update_weights(self, gradients_w, gradients_b):\n",
        "        \"\"\" Apply gradient updates using different optimizers. \"\"\"\n",
        "        self.t += 1  # Update time step for Adam/Nadam\n",
        "\n",
        "        for i in range(len(self.weights)):\n",
        "            if self.optimizer == \"sgd\":\n",
        "                self.weights[i] -= self.learning_rate * gradients_w[i]\n",
        "                self.biases[i] -= self.learning_rate * gradients_b[i]\n",
        "\n",
        "            elif self.optimizer == \"momentum\":\n",
        "                self.velocity[i] = self.momentum * self.velocity[i] - self.learning_rate * gradients_w[i]\n",
        "                self.weights[i] += self.velocity[i]\n",
        "                self.biases[i] -= self.learning_rate * gradients_b[i]\n",
        "\n",
        "            elif self.optimizer == \"nesterov\":\n",
        "                temp_weights = self.weights[i] + self.momentum * self.velocity[i]\n",
        "                self.velocity[i] = self.momentum * self.velocity[i] - self.learning_rate * gradients_w[i]\n",
        "                self.weights[i] = temp_weights + self.velocity[i]\n",
        "\n",
        "            elif self.optimizer == \"rmsprop\":\n",
        "                self.squared_grads[i] = 0.9 * self.squared_grads[i] + 0.1 * (gradients_w[i] ** 2)\n",
        "                self.weights[i] -= self.learning_rate * gradients_w[i] / (np.sqrt(self.squared_grads[i]) + self.epsilon)\n",
        "\n",
        "            elif self.optimizer == \"adam\":\n",
        "                self.m[i] = self.beta1 * self.m[i] + (1 - self.beta1) * gradients_w[i]\n",
        "                self.v[i] = self.beta2 * self.v[i] + (1 - self.beta2) * (gradients_w[i] ** 2)\n",
        "                m_hat = self.m[i] / (1 - self.beta1 ** self.t)\n",
        "                v_hat = self.v[i] / (1 - self.beta2 ** self.t)\n",
        "                self.weights[i] -= self.learning_rate * m_hat / (np.sqrt(v_hat) + self.epsilon)\n",
        "\n",
        "            elif self.optimizer == \"nadam\":\n",
        "                m_hat = (self.beta1 * self.m[i] + (1 - self.beta1) * gradients_w[i]) / (1 - self.beta1 ** self.t)\n",
        "                v_hat = self.v[i] / (1 - self.beta2 ** self.t)\n",
        "                self.weights[i] -= self.learning_rate * (self.momentum * m_hat + (1 - self.momentum) * gradients_w[i]) / (np.sqrt(v_hat) + self.epsilon)\n",
        "\n",
        "    def train(self, X_train, y_train, X_val, y_val, epochs=10, batch_size=32):\n",
        "        \"\"\" Train the network using mini-batch gradient descent and track accuracy. \"\"\"\n",
        "        num_samples = X_train.shape[0]\n",
        "\n",
        "        for epoch in range(epochs):\n",
        "            # Shuffle training data\n",
        "            indices = np.arange(num_samples)\n",
        "            np.random.shuffle(indices)\n",
        "            X_train, y_train = X_train[indices], y_train[indices]\n",
        "\n",
        "            # Mini-batch training\n",
        "            for i in range(0, num_samples, batch_size):\n",
        "                X_batch = X_train[i:i + batch_size]\n",
        "                y_batch = y_train[i:i + batch_size]\n",
        "\n",
        "                # Forward pass\n",
        "                activations, z_values = self.forward(X_batch)\n",
        "\n",
        "                # Compute gradients\n",
        "                gradients_w, gradients_b = self.backward(X_batch, y_batch, activations, z_values)\n",
        "\n",
        "                # Update weights\n",
        "                self.update_weights(gradients_w, gradients_b)\n",
        "\n",
        "            # Compute training loss & accuracy\n",
        "            train_activations, _ = self.forward(X_train)\n",
        "            Train_loss = self.compute_loss(y_train, train_activations[-1])\n",
        "            Train_accuracy = compute_accuracy(y_train, train_activations[-1])\n",
        "\n",
        "            # Compute validation loss & accuracy\n",
        "            val_activations, _ = self.forward(X_val)\n",
        "            Val_loss = self.compute_loss(y_val, val_activations[-1])\n",
        "            Val_accuracy = compute_accuracy(y_val, val_activations[-1])\n",
        "            wandb.log({'Train_loss': Train_loss})\n",
        "            wandb.log({'Train_accuracy': Train_accuracy })\n",
        "            wandb.log({'epoch': epoch + 1})\n",
        "            wandb.log({'Val_loss': Val_loss})\n",
        "            wandb.log({'Val_accuracy': Val_accuracy })\n",
        "\n",
        "            print(f\"Epoch {epoch+1}: Train Loss = {Train_loss:.4f}, Train Acc = {Train_accuracy:.4f}, Val Loss = {Val_loss:.4f}, Val Acc = {Val_accuracy:.4f}\")\n",
        "\n",
        "def compute_accuracy(y_true, y_pred):\n",
        "        \"\"\" Compute accuracy by comparing true vs predicted labels. \"\"\"\n",
        "        correct_predictions = np.sum(np.argmax(y_pred, axis=1) == np.argmax(y_true, axis=1))\n",
        "        accuracy = correct_predictions / y_true.shape[0]\n",
        "        return accuracy*100"
      ],
      "metadata": {
        "id": "Byp9Ww38eBEy"
      },
      "execution_count": 3,
      "outputs": []
    },
    {
      "cell_type": "code",
      "source": [
        "# # Flatten both training and validation sets\n",
        "# x_train = x_train.reshape(x_train.shape[0], -1)  # (54000, 784)\n",
        "# x_val = x_val.reshape(x_val.shape[0], -1)  # (6000, 784)\n",
        "\n",
        "# # Create Neural Network\n",
        "# nn = NeuralNetwork(input_size=784, hidden_layers=[128, 64], output_size=10, learning_rate=0.01, optimizer=\"sgd\", weight_init=\"xavier\", activation=\"relu\", weight_decay=0.0005)\n",
        "\n",
        "# # Train the model and track accuracy\n",
        "# nn.train(x_train, y_train, x_val, y_val, epochs=10, batch_size=32)\n"
      ],
      "metadata": {
        "id": "28CtxYnXh9N7"
      },
      "execution_count": 4,
      "outputs": []
    },
    {
      "cell_type": "code",
      "source": [
        "!pip install wandb"
      ],
      "metadata": {
        "colab": {
          "base_uri": "https://localhost:8080/"
        },
        "id": "NPaPqPFLsMN3",
        "outputId": "0e974d14-d398-4450-8cc0-48c12d8c2e20"
      },
      "execution_count": 5,
      "outputs": [
        {
          "output_type": "stream",
          "name": "stdout",
          "text": [
            "Requirement already satisfied: wandb in /usr/local/lib/python3.11/dist-packages (0.19.7)\n",
            "Requirement already satisfied: click!=8.0.0,>=7.1 in /usr/local/lib/python3.11/dist-packages (from wandb) (8.1.8)\n",
            "Requirement already satisfied: docker-pycreds>=0.4.0 in /usr/local/lib/python3.11/dist-packages (from wandb) (0.4.0)\n",
            "Requirement already satisfied: gitpython!=3.1.29,>=1.0.0 in /usr/local/lib/python3.11/dist-packages (from wandb) (3.1.44)\n",
            "Requirement already satisfied: platformdirs in /usr/local/lib/python3.11/dist-packages (from wandb) (4.3.6)\n",
            "Requirement already satisfied: protobuf!=4.21.0,!=5.28.0,<6,>=3.19.0 in /usr/local/lib/python3.11/dist-packages (from wandb) (4.25.6)\n",
            "Requirement already satisfied: psutil>=5.0.0 in /usr/local/lib/python3.11/dist-packages (from wandb) (5.9.5)\n",
            "Requirement already satisfied: pydantic<3,>=2.6 in /usr/local/lib/python3.11/dist-packages (from wandb) (2.10.6)\n",
            "Requirement already satisfied: pyyaml in /usr/local/lib/python3.11/dist-packages (from wandb) (6.0.2)\n",
            "Requirement already satisfied: requests<3,>=2.0.0 in /usr/local/lib/python3.11/dist-packages (from wandb) (2.32.3)\n",
            "Requirement already satisfied: sentry-sdk>=2.0.0 in /usr/local/lib/python3.11/dist-packages (from wandb) (2.22.0)\n",
            "Requirement already satisfied: setproctitle in /usr/local/lib/python3.11/dist-packages (from wandb) (1.3.5)\n",
            "Requirement already satisfied: setuptools in /usr/local/lib/python3.11/dist-packages (from wandb) (75.1.0)\n",
            "Requirement already satisfied: typing-extensions<5,>=4.4 in /usr/local/lib/python3.11/dist-packages (from wandb) (4.12.2)\n",
            "Requirement already satisfied: six>=1.4.0 in /usr/local/lib/python3.11/dist-packages (from docker-pycreds>=0.4.0->wandb) (1.17.0)\n",
            "Requirement already satisfied: gitdb<5,>=4.0.1 in /usr/local/lib/python3.11/dist-packages (from gitpython!=3.1.29,>=1.0.0->wandb) (4.0.12)\n",
            "Requirement already satisfied: annotated-types>=0.6.0 in /usr/local/lib/python3.11/dist-packages (from pydantic<3,>=2.6->wandb) (0.7.0)\n",
            "Requirement already satisfied: pydantic-core==2.27.2 in /usr/local/lib/python3.11/dist-packages (from pydantic<3,>=2.6->wandb) (2.27.2)\n",
            "Requirement already satisfied: charset-normalizer<4,>=2 in /usr/local/lib/python3.11/dist-packages (from requests<3,>=2.0.0->wandb) (3.4.1)\n",
            "Requirement already satisfied: idna<4,>=2.5 in /usr/local/lib/python3.11/dist-packages (from requests<3,>=2.0.0->wandb) (3.10)\n",
            "Requirement already satisfied: urllib3<3,>=1.21.1 in /usr/local/lib/python3.11/dist-packages (from requests<3,>=2.0.0->wandb) (2.3.0)\n",
            "Requirement already satisfied: certifi>=2017.4.17 in /usr/local/lib/python3.11/dist-packages (from requests<3,>=2.0.0->wandb) (2025.1.31)\n",
            "Requirement already satisfied: smmap<6,>=3.0.1 in /usr/local/lib/python3.11/dist-packages (from gitdb<5,>=4.0.1->gitpython!=3.1.29,>=1.0.0->wandb) (5.0.2)\n"
          ]
        }
      ]
    },
    {
      "cell_type": "code",
      "source": [
        "import wandb\n",
        "import numpy as np\n",
        "from types import SimpleNamespace\n",
        "import random"
      ],
      "metadata": {
        "id": "QMJr7Y_nMdBf"
      },
      "execution_count": 6,
      "outputs": []
    },
    {
      "cell_type": "code",
      "source": [
        "key = input('Enter your API:')\n",
        "wandb.login(key=key)"
      ],
      "metadata": {
        "colab": {
          "base_uri": "https://localhost:8080/"
        },
        "id": "Fm0DP-ImMg1c",
        "outputId": "a3f5083c-41ad-4f05-f775-a6ac5800cf99"
      },
      "execution_count": 7,
      "outputs": [
        {
          "name": "stdout",
          "output_type": "stream",
          "text": [
            "Enter your API:580e769ee2f34eafdded556ce52aaf31c265ad3b\n"
          ]
        },
        {
          "output_type": "stream",
          "name": "stderr",
          "text": [
            "\u001b[34m\u001b[1mwandb\u001b[0m: \u001b[33mWARNING\u001b[0m If you're specifying your api key in code, ensure this code is not shared publicly.\n",
            "\u001b[34m\u001b[1mwandb\u001b[0m: \u001b[33mWARNING\u001b[0m Consider setting the WANDB_API_KEY environment variable, or running `wandb login` from the command line.\n",
            "\u001b[34m\u001b[1mwandb\u001b[0m: Appending key for api.wandb.ai to your netrc file: /root/.netrc\n"
          ]
        },
        {
          "output_type": "execute_result",
          "data": {
            "text/plain": [
              "True"
            ]
          },
          "metadata": {},
          "execution_count": 7
        }
      ]
    },
    {
      "cell_type": "code",
      "source": [
        "sweep_config = {\n",
        "    'method': 'bayes',\n",
        "    'name' : 'sweep cross entropy-3',\n",
        "    'metric': {\n",
        "      'name': 'Val_accuracy',\n",
        "      'goal': 'maximize'\n",
        "    },\n",
        "    'parameters': {\n",
        "        'epochs': {\n",
        "            'values': [5,10]\n",
        "        },\n",
        "        'hidden_layers':{\n",
        "            'values':[3,4,5]\n",
        "        },\n",
        "         'hidden_size':{\n",
        "            'values':[32,64,128]\n",
        "        },\n",
        "        'weight_decay':{\n",
        "            'values':[0, 0.0005, 0.5]\n",
        "        },\n",
        "        'learning_rate': {\n",
        "            'values': [1e-3, 1e-4]\n",
        "        },\n",
        "        'optimizer': {\n",
        "            'values': ['rmsprop', 'nadam','adam', 'nag','mgd','sgd']\n",
        "        },\n",
        "        'batch_size':{\n",
        "            'values':[16,32,64]\n",
        "        },\n",
        "        'weight_init': {\n",
        "            'values': ['xavier','random']\n",
        "        },\n",
        "        'activation': {\n",
        "            'values': ['relu','tanh','sigmoid']\n",
        "        },\n",
        "    }\n",
        "}\n",
        "\n",
        "sweep_id = wandb.sweep(sweep=sweep_config, project='DA6401_Assignment1_ma23m011')"
      ],
      "metadata": {
        "colab": {
          "base_uri": "https://localhost:8080/"
        },
        "id": "YS_kdae5MpB1",
        "outputId": "d483f3da-0e5f-4f01-c2a5-2988dca46f8b"
      },
      "execution_count": 8,
      "outputs": [
        {
          "output_type": "stream",
          "name": "stdout",
          "text": [
            "Create sweep with ID: augzj4ot\n",
            "Sweep URL: https://wandb.ai/ma23m011-iit-madras/DA6401_Assignment1_ma23m011/sweeps/augzj4ot\n"
          ]
        }
      ]
    },
    {
      "cell_type": "code",
      "source": [
        "def main():\n",
        "    with wandb.init() as run:\n",
        "        run_name=\"-ac_\"+wandb.config.activation+\"-hs_\"+str(wandb.config.hidden_size)+\"-epc_\"+str(wandb.config.epochs)+\"-hl_\"+str(wandb.config.hidden_layers)+\"-regu_\"+str(wandb.config.weight_decay)+\"-eta_\"+str(wandb.config.learning_rate)+\"-optmz_\"+wandb.config.optimizer+\"-batch_\"+str(wandb.config.batch_size)+\"-wght_\"+wandb.config.weight_init\n",
        "        wandb.run.name=run_name\n",
        "        nn = NeuralNetwork(input_size=784, hidden_layers=[wandb.config.hidden_size] * wandb.config.hidden_layers, output_size=10, learning_rate=wandb.config.learning_rate, optimizer=wandb.config.optimizer, weight_init=wandb.config.weight_init, activation=wandb.config.activation, weight_decay=wandb.config.weight_decay)\n",
        "        nn.train(x_train, y_train, x_val, y_val, epochs=wandb.config.epochs, batch_size=wandb.config.batch_size)\n",
        "\n",
        "\n",
        "# # Create Neural Network\n",
        "# nn = NeuralNetwork(input_size=784, hidden_layers=[128, 64], output_size=10, learning_rate=0.01, optimizer=\"sgd\")\n",
        "\n",
        "# # Train the model and track accuracy\n",
        "# nn.train(x_train, y_train, x_val, y_val, epochs=10, batch_size=32)\n",
        "\n",
        "wandb.agent(sweep_id, function=main,count=100) # calls main function for count number of times.\n",
        "wandb.finish()"
      ],
      "metadata": {
        "colab": {
          "base_uri": "https://localhost:8080/",
          "height": 1000
        },
        "id": "C6O7PlwoM8Cu",
        "outputId": "5b60ce3b-c328-4227-89cd-3722364c41ae"
      },
      "execution_count": 9,
      "outputs": [
        {
          "output_type": "stream",
          "name": "stderr",
          "text": [
            "\u001b[34m\u001b[1mwandb\u001b[0m: Agent Starting Run: b9eeqx07 with config:\n",
            "\u001b[34m\u001b[1mwandb\u001b[0m: \tactivation: tanh\n",
            "\u001b[34m\u001b[1mwandb\u001b[0m: \tbatch_size: 16\n",
            "\u001b[34m\u001b[1mwandb\u001b[0m: \tepochs: 5\n",
            "\u001b[34m\u001b[1mwandb\u001b[0m: \thidden_layers: 4\n",
            "\u001b[34m\u001b[1mwandb\u001b[0m: \thidden_size: 64\n",
            "\u001b[34m\u001b[1mwandb\u001b[0m: \tlearning_rate: 0.001\n",
            "\u001b[34m\u001b[1mwandb\u001b[0m: \toptimizer: nadam\n",
            "\u001b[34m\u001b[1mwandb\u001b[0m: \tweight_decay: 0\n",
            "\u001b[34m\u001b[1mwandb\u001b[0m: \tweight_init: random\n"
          ]
        },
        {
          "output_type": "display_data",
          "data": {
            "text/plain": [
              "<IPython.core.display.HTML object>"
            ],
            "text/html": [
              "Tracking run with wandb version 0.19.7"
            ]
          },
          "metadata": {}
        },
        {
          "output_type": "display_data",
          "data": {
            "text/plain": [
              "<IPython.core.display.HTML object>"
            ],
            "text/html": [
              "Run data is saved locally in <code>/content/wandb/run-20250310_002519-b9eeqx07</code>"
            ]
          },
          "metadata": {}
        },
        {
          "output_type": "display_data",
          "data": {
            "text/plain": [
              "<IPython.core.display.HTML object>"
            ],
            "text/html": [
              "Syncing run <strong><a href='https://wandb.ai/ma23m011-iit-madras/DA6401_Assignment1_ma23m011/runs/b9eeqx07' target=\"_blank\">hardy-sweep-1</a></strong> to <a href='https://wandb.ai/ma23m011-iit-madras/DA6401_Assignment1_ma23m011' target=\"_blank\">Weights & Biases</a> (<a href='https://wandb.me/developer-guide' target=\"_blank\">docs</a>)<br>Sweep page: <a href='https://wandb.ai/ma23m011-iit-madras/DA6401_Assignment1_ma23m011/sweeps/augzj4ot' target=\"_blank\">https://wandb.ai/ma23m011-iit-madras/DA6401_Assignment1_ma23m011/sweeps/augzj4ot</a>"
            ]
          },
          "metadata": {}
        },
        {
          "output_type": "display_data",
          "data": {
            "text/plain": [
              "<IPython.core.display.HTML object>"
            ],
            "text/html": [
              " View project at <a href='https://wandb.ai/ma23m011-iit-madras/DA6401_Assignment1_ma23m011' target=\"_blank\">https://wandb.ai/ma23m011-iit-madras/DA6401_Assignment1_ma23m011</a>"
            ]
          },
          "metadata": {}
        },
        {
          "output_type": "display_data",
          "data": {
            "text/plain": [
              "<IPython.core.display.HTML object>"
            ],
            "text/html": [
              " View sweep at <a href='https://wandb.ai/ma23m011-iit-madras/DA6401_Assignment1_ma23m011/sweeps/augzj4ot' target=\"_blank\">https://wandb.ai/ma23m011-iit-madras/DA6401_Assignment1_ma23m011/sweeps/augzj4ot</a>"
            ]
          },
          "metadata": {}
        },
        {
          "output_type": "display_data",
          "data": {
            "text/plain": [
              "<IPython.core.display.HTML object>"
            ],
            "text/html": [
              " View run at <a href='https://wandb.ai/ma23m011-iit-madras/DA6401_Assignment1_ma23m011/runs/b9eeqx07' target=\"_blank\">https://wandb.ai/ma23m011-iit-madras/DA6401_Assignment1_ma23m011/runs/b9eeqx07</a>"
            ]
          },
          "metadata": {}
        },
        {
          "output_type": "stream",
          "name": "stdout",
          "text": [
            "Epoch 1: Train Loss = 16.5732, Train Acc = 10.0296, Val Loss = 16.6277, Val Acc = 9.7333\n",
            "Epoch 2: Train Loss = 16.5841, Train Acc = 9.9704, Val Loss = 16.5295, Val Acc = 10.2667\n",
            "Epoch 3: Train Loss = 16.5851, Train Acc = 9.9648, Val Loss = 16.5203, Val Acc = 10.3167\n",
            "Epoch 4: Train Loss = 16.5803, Train Acc = 9.9907, Val Loss = 16.5633, Val Acc = 10.0833\n",
            "Epoch 5: Train Loss = 16.5633, Train Acc = 10.0833, Val Loss = 16.7168, Val Acc = 9.2500\n"
          ]
        },
        {
          "output_type": "display_data",
          "data": {
            "text/plain": [
              "<IPython.core.display.HTML object>"
            ],
            "text/html": []
          },
          "metadata": {}
        },
        {
          "output_type": "display_data",
          "data": {
            "text/plain": [
              "<IPython.core.display.HTML object>"
            ],
            "text/html": [
              "<br>    <style><br>        .wandb-row {<br>            display: flex;<br>            flex-direction: row;<br>            flex-wrap: wrap;<br>            justify-content: flex-start;<br>            width: 100%;<br>        }<br>        .wandb-col {<br>            display: flex;<br>            flex-direction: column;<br>            flex-basis: 100%;<br>            flex: 1;<br>            padding: 10px;<br>        }<br>    </style><br><div class=\"wandb-row\"><div class=\"wandb-col\"><h3>Run history:</h3><br/><table class=\"wandb\"><tr><td>Train_accuracy</td><td>▅▁▁▃█</td></tr><tr><td>Train_loss</td><td>▄██▆▁</td></tr><tr><td>Val_accuracy</td><td>▄██▆▁</td></tr><tr><td>Val_loss</td><td>▅▁▁▃█</td></tr><tr><td>epoch</td><td>▁▃▅▆█</td></tr></table><br/></div><div class=\"wandb-col\"><h3>Run summary:</h3><br/><table class=\"wandb\"><tr><td>Train_accuracy</td><td>10.08333</td></tr><tr><td>Train_loss</td><td>16.56326</td></tr><tr><td>Val_accuracy</td><td>9.25</td></tr><tr><td>Val_loss</td><td>16.71677</td></tr><tr><td>epoch</td><td>5</td></tr></table><br/></div></div>"
            ]
          },
          "metadata": {}
        },
        {
          "output_type": "display_data",
          "data": {
            "text/plain": [
              "<IPython.core.display.HTML object>"
            ],
            "text/html": [
              " View run <strong style=\"color:#cdcd00\">-ac_tanh-hs_64-epc_5-hl_4-regu_0-eta_0.001-optmz_nadam-batch_16-wght_random</strong> at: <a href='https://wandb.ai/ma23m011-iit-madras/DA6401_Assignment1_ma23m011/runs/b9eeqx07' target=\"_blank\">https://wandb.ai/ma23m011-iit-madras/DA6401_Assignment1_ma23m011/runs/b9eeqx07</a><br> View project at: <a href='https://wandb.ai/ma23m011-iit-madras/DA6401_Assignment1_ma23m011' target=\"_blank\">https://wandb.ai/ma23m011-iit-madras/DA6401_Assignment1_ma23m011</a><br>Synced 5 W&B file(s), 0 media file(s), 0 artifact file(s) and 0 other file(s)"
            ]
          },
          "metadata": {}
        },
        {
          "output_type": "display_data",
          "data": {
            "text/plain": [
              "<IPython.core.display.HTML object>"
            ],
            "text/html": [
              "Find logs at: <code>./wandb/run-20250310_002519-b9eeqx07/logs</code>"
            ]
          },
          "metadata": {}
        },
        {
          "output_type": "stream",
          "name": "stderr",
          "text": [
            "\u001b[34m\u001b[1mwandb\u001b[0m: Agent Starting Run: ir7t8tx5 with config:\n",
            "\u001b[34m\u001b[1mwandb\u001b[0m: \tactivation: relu\n",
            "\u001b[34m\u001b[1mwandb\u001b[0m: \tbatch_size: 64\n",
            "\u001b[34m\u001b[1mwandb\u001b[0m: \tepochs: 5\n",
            "\u001b[34m\u001b[1mwandb\u001b[0m: \thidden_layers: 3\n",
            "\u001b[34m\u001b[1mwandb\u001b[0m: \thidden_size: 128\n",
            "\u001b[34m\u001b[1mwandb\u001b[0m: \tlearning_rate: 0.0001\n",
            "\u001b[34m\u001b[1mwandb\u001b[0m: \toptimizer: adam\n",
            "\u001b[34m\u001b[1mwandb\u001b[0m: \tweight_decay: 0.5\n",
            "\u001b[34m\u001b[1mwandb\u001b[0m: \tweight_init: random\n"
          ]
        },
        {
          "output_type": "display_data",
          "data": {
            "text/plain": [
              "<IPython.core.display.HTML object>"
            ],
            "text/html": [
              "Tracking run with wandb version 0.19.7"
            ]
          },
          "metadata": {}
        },
        {
          "output_type": "display_data",
          "data": {
            "text/plain": [
              "<IPython.core.display.HTML object>"
            ],
            "text/html": [
              "Run data is saved locally in <code>/content/wandb/run-20250310_002630-ir7t8tx5</code>"
            ]
          },
          "metadata": {}
        },
        {
          "output_type": "display_data",
          "data": {
            "text/plain": [
              "<IPython.core.display.HTML object>"
            ],
            "text/html": [
              "Syncing run <strong><a href='https://wandb.ai/ma23m011-iit-madras/DA6401_Assignment1_ma23m011/runs/ir7t8tx5' target=\"_blank\">likely-sweep-2</a></strong> to <a href='https://wandb.ai/ma23m011-iit-madras/DA6401_Assignment1_ma23m011' target=\"_blank\">Weights & Biases</a> (<a href='https://wandb.me/developer-guide' target=\"_blank\">docs</a>)<br>Sweep page: <a href='https://wandb.ai/ma23m011-iit-madras/DA6401_Assignment1_ma23m011/sweeps/augzj4ot' target=\"_blank\">https://wandb.ai/ma23m011-iit-madras/DA6401_Assignment1_ma23m011/sweeps/augzj4ot</a>"
            ]
          },
          "metadata": {}
        },
        {
          "output_type": "display_data",
          "data": {
            "text/plain": [
              "<IPython.core.display.HTML object>"
            ],
            "text/html": [
              " View project at <a href='https://wandb.ai/ma23m011-iit-madras/DA6401_Assignment1_ma23m011' target=\"_blank\">https://wandb.ai/ma23m011-iit-madras/DA6401_Assignment1_ma23m011</a>"
            ]
          },
          "metadata": {}
        },
        {
          "output_type": "display_data",
          "data": {
            "text/plain": [
              "<IPython.core.display.HTML object>"
            ],
            "text/html": [
              " View sweep at <a href='https://wandb.ai/ma23m011-iit-madras/DA6401_Assignment1_ma23m011/sweeps/augzj4ot' target=\"_blank\">https://wandb.ai/ma23m011-iit-madras/DA6401_Assignment1_ma23m011/sweeps/augzj4ot</a>"
            ]
          },
          "metadata": {}
        },
        {
          "output_type": "display_data",
          "data": {
            "text/plain": [
              "<IPython.core.display.HTML object>"
            ],
            "text/html": [
              " View run at <a href='https://wandb.ai/ma23m011-iit-madras/DA6401_Assignment1_ma23m011/runs/ir7t8tx5' target=\"_blank\">https://wandb.ai/ma23m011-iit-madras/DA6401_Assignment1_ma23m011/runs/ir7t8tx5</a>"
            ]
          },
          "metadata": {}
        },
        {
          "output_type": "stream",
          "name": "stdout",
          "text": [
            "Epoch 1: Train Loss = 2.3026, Train Acc = 9.9444, Val Loss = 2.3026, Val Acc = 10.5000\n",
            "Epoch 2: Train Loss = 2.3026, Train Acc = 9.9444, Val Loss = 2.3026, Val Acc = 10.5000\n",
            "Epoch 3: Train Loss = 2.3026, Train Acc = 9.9444, Val Loss = 2.3026, Val Acc = 10.5000\n",
            "Epoch 4: Train Loss = 2.3026, Train Acc = 9.9444, Val Loss = 2.3026, Val Acc = 10.5000\n",
            "Epoch 5: Train Loss = 2.3026, Train Acc = 9.9444, Val Loss = 2.3026, Val Acc = 10.5000\n"
          ]
        },
        {
          "output_type": "display_data",
          "data": {
            "text/plain": [
              "<IPython.core.display.HTML object>"
            ],
            "text/html": []
          },
          "metadata": {}
        },
        {
          "output_type": "display_data",
          "data": {
            "text/plain": [
              "<IPython.core.display.HTML object>"
            ],
            "text/html": [
              "<br>    <style><br>        .wandb-row {<br>            display: flex;<br>            flex-direction: row;<br>            flex-wrap: wrap;<br>            justify-content: flex-start;<br>            width: 100%;<br>        }<br>        .wandb-col {<br>            display: flex;<br>            flex-direction: column;<br>            flex-basis: 100%;<br>            flex: 1;<br>            padding: 10px;<br>        }<br>    </style><br><div class=\"wandb-row\"><div class=\"wandb-col\"><h3>Run history:</h3><br/><table class=\"wandb\"><tr><td>Train_accuracy</td><td>▁▁▁▁▁</td></tr><tr><td>Train_loss</td><td>█▁▁▁▁</td></tr><tr><td>Val_accuracy</td><td>▁▁▁▁▁</td></tr><tr><td>Val_loss</td><td>█▁▁▁▁</td></tr><tr><td>epoch</td><td>▁▃▅▆█</td></tr></table><br/></div><div class=\"wandb-col\"><h3>Run summary:</h3><br/><table class=\"wandb\"><tr><td>Train_accuracy</td><td>9.94444</td></tr><tr><td>Train_loss</td><td>2.30258</td></tr><tr><td>Val_accuracy</td><td>10.5</td></tr><tr><td>Val_loss</td><td>2.30258</td></tr><tr><td>epoch</td><td>5</td></tr></table><br/></div></div>"
            ]
          },
          "metadata": {}
        },
        {
          "output_type": "display_data",
          "data": {
            "text/plain": [
              "<IPython.core.display.HTML object>"
            ],
            "text/html": [
              " View run <strong style=\"color:#cdcd00\">-ac_relu-hs_128-epc_5-hl_3-regu_0.5-eta_0.0001-optmz_adam-batch_64-wght_random</strong> at: <a href='https://wandb.ai/ma23m011-iit-madras/DA6401_Assignment1_ma23m011/runs/ir7t8tx5' target=\"_blank\">https://wandb.ai/ma23m011-iit-madras/DA6401_Assignment1_ma23m011/runs/ir7t8tx5</a><br> View project at: <a href='https://wandb.ai/ma23m011-iit-madras/DA6401_Assignment1_ma23m011' target=\"_blank\">https://wandb.ai/ma23m011-iit-madras/DA6401_Assignment1_ma23m011</a><br>Synced 5 W&B file(s), 0 media file(s), 0 artifact file(s) and 0 other file(s)"
            ]
          },
          "metadata": {}
        },
        {
          "output_type": "display_data",
          "data": {
            "text/plain": [
              "<IPython.core.display.HTML object>"
            ],
            "text/html": [
              "Find logs at: <code>./wandb/run-20250310_002630-ir7t8tx5/logs</code>"
            ]
          },
          "metadata": {}
        },
        {
          "output_type": "stream",
          "name": "stderr",
          "text": [
            "\u001b[34m\u001b[1mwandb\u001b[0m: Agent Starting Run: 2y9qsm38 with config:\n",
            "\u001b[34m\u001b[1mwandb\u001b[0m: \tactivation: sigmoid\n",
            "\u001b[34m\u001b[1mwandb\u001b[0m: \tbatch_size: 64\n",
            "\u001b[34m\u001b[1mwandb\u001b[0m: \tepochs: 10\n",
            "\u001b[34m\u001b[1mwandb\u001b[0m: \thidden_layers: 3\n",
            "\u001b[34m\u001b[1mwandb\u001b[0m: \thidden_size: 64\n",
            "\u001b[34m\u001b[1mwandb\u001b[0m: \tlearning_rate: 0.001\n",
            "\u001b[34m\u001b[1mwandb\u001b[0m: \toptimizer: adam\n",
            "\u001b[34m\u001b[1mwandb\u001b[0m: \tweight_decay: 0.0005\n",
            "\u001b[34m\u001b[1mwandb\u001b[0m: \tweight_init: xavier\n"
          ]
        },
        {
          "output_type": "display_data",
          "data": {
            "text/plain": [
              "<IPython.core.display.HTML object>"
            ],
            "text/html": [
              "Tracking run with wandb version 0.19.7"
            ]
          },
          "metadata": {}
        },
        {
          "output_type": "display_data",
          "data": {
            "text/plain": [
              "<IPython.core.display.HTML object>"
            ],
            "text/html": [
              "Run data is saved locally in <code>/content/wandb/run-20250310_002720-2y9qsm38</code>"
            ]
          },
          "metadata": {}
        },
        {
          "output_type": "display_data",
          "data": {
            "text/plain": [
              "<IPython.core.display.HTML object>"
            ],
            "text/html": [
              "Syncing run <strong><a href='https://wandb.ai/ma23m011-iit-madras/DA6401_Assignment1_ma23m011/runs/2y9qsm38' target=\"_blank\">deep-sweep-3</a></strong> to <a href='https://wandb.ai/ma23m011-iit-madras/DA6401_Assignment1_ma23m011' target=\"_blank\">Weights & Biases</a> (<a href='https://wandb.me/developer-guide' target=\"_blank\">docs</a>)<br>Sweep page: <a href='https://wandb.ai/ma23m011-iit-madras/DA6401_Assignment1_ma23m011/sweeps/augzj4ot' target=\"_blank\">https://wandb.ai/ma23m011-iit-madras/DA6401_Assignment1_ma23m011/sweeps/augzj4ot</a>"
            ]
          },
          "metadata": {}
        },
        {
          "output_type": "display_data",
          "data": {
            "text/plain": [
              "<IPython.core.display.HTML object>"
            ],
            "text/html": [
              " View project at <a href='https://wandb.ai/ma23m011-iit-madras/DA6401_Assignment1_ma23m011' target=\"_blank\">https://wandb.ai/ma23m011-iit-madras/DA6401_Assignment1_ma23m011</a>"
            ]
          },
          "metadata": {}
        },
        {
          "output_type": "display_data",
          "data": {
            "text/plain": [
              "<IPython.core.display.HTML object>"
            ],
            "text/html": [
              " View sweep at <a href='https://wandb.ai/ma23m011-iit-madras/DA6401_Assignment1_ma23m011/sweeps/augzj4ot' target=\"_blank\">https://wandb.ai/ma23m011-iit-madras/DA6401_Assignment1_ma23m011/sweeps/augzj4ot</a>"
            ]
          },
          "metadata": {}
        },
        {
          "output_type": "display_data",
          "data": {
            "text/plain": [
              "<IPython.core.display.HTML object>"
            ],
            "text/html": [
              " View run at <a href='https://wandb.ai/ma23m011-iit-madras/DA6401_Assignment1_ma23m011/runs/2y9qsm38' target=\"_blank\">https://wandb.ai/ma23m011-iit-madras/DA6401_Assignment1_ma23m011/runs/2y9qsm38</a>"
            ]
          },
          "metadata": {}
        },
        {
          "output_type": "stream",
          "name": "stdout",
          "text": [
            "Epoch 1: Train Loss = 0.8493, Train Acc = 79.9093, Val Loss = 0.8512, Val Acc = 79.8667\n",
            "Epoch 2: Train Loss = 0.8044, Train Acc = 84.9593, Val Loss = 0.8130, Val Acc = 84.1833\n",
            "Epoch 3: Train Loss = 0.8007, Train Acc = 87.1019, Val Loss = 0.8175, Val Acc = 86.0500\n",
            "Epoch 4: Train Loss = 0.8099, Train Acc = 87.9870, Val Loss = 0.8348, Val Acc = 86.7167\n",
            "Epoch 5: Train Loss = 0.8324, Train Acc = 88.1056, Val Loss = 0.8647, Val Acc = 86.7833\n",
            "Epoch 6: Train Loss = 0.8480, Train Acc = 88.5407, Val Loss = 0.8846, Val Acc = 86.9000\n",
            "Epoch 7: Train Loss = 0.8590, Train Acc = 89.3278, Val Loss = 0.8994, Val Acc = 87.6500\n",
            "Epoch 8: Train Loss = 0.8798, Train Acc = 89.1074, Val Loss = 0.9228, Val Acc = 87.3333\n",
            "Epoch 9: Train Loss = 0.9007, Train Acc = 89.3444, Val Loss = 0.9399, Val Acc = 88.2333\n",
            "Epoch 10: Train Loss = 0.9004, Train Acc = 90.3833, Val Loss = 0.9500, Val Acc = 88.4667\n"
          ]
        },
        {
          "output_type": "display_data",
          "data": {
            "text/plain": [
              "<IPython.core.display.HTML object>"
            ],
            "text/html": []
          },
          "metadata": {}
        },
        {
          "output_type": "display_data",
          "data": {
            "text/plain": [
              "<IPython.core.display.HTML object>"
            ],
            "text/html": [
              "<br>    <style><br>        .wandb-row {<br>            display: flex;<br>            flex-direction: row;<br>            flex-wrap: wrap;<br>            justify-content: flex-start;<br>            width: 100%;<br>        }<br>        .wandb-col {<br>            display: flex;<br>            flex-direction: column;<br>            flex-basis: 100%;<br>            flex: 1;<br>            padding: 10px;<br>        }<br>    </style><br><div class=\"wandb-row\"><div class=\"wandb-col\"><h3>Run history:</h3><br/><table class=\"wandb\"><tr><td>Train_accuracy</td><td>▁▄▆▆▆▇▇▇▇█</td></tr><tr><td>Train_loss</td><td>▄▁▁▂▃▄▅▇██</td></tr><tr><td>Val_accuracy</td><td>▁▅▆▇▇▇▇▇██</td></tr><tr><td>Val_loss</td><td>▃▁▁▂▄▅▅▇▇█</td></tr><tr><td>epoch</td><td>▁▂▃▃▄▅▆▆▇█</td></tr></table><br/></div><div class=\"wandb-col\"><h3>Run summary:</h3><br/><table class=\"wandb\"><tr><td>Train_accuracy</td><td>90.38333</td></tr><tr><td>Train_loss</td><td>0.9004</td></tr><tr><td>Val_accuracy</td><td>88.46667</td></tr><tr><td>Val_loss</td><td>0.95004</td></tr><tr><td>epoch</td><td>10</td></tr></table><br/></div></div>"
            ]
          },
          "metadata": {}
        },
        {
          "output_type": "display_data",
          "data": {
            "text/plain": [
              "<IPython.core.display.HTML object>"
            ],
            "text/html": [
              " View run <strong style=\"color:#cdcd00\">-ac_sigmoid-hs_64-epc_10-hl_3-regu_0.0005-eta_0.001-optmz_adam-batch_64-wght_xavier</strong> at: <a href='https://wandb.ai/ma23m011-iit-madras/DA6401_Assignment1_ma23m011/runs/2y9qsm38' target=\"_blank\">https://wandb.ai/ma23m011-iit-madras/DA6401_Assignment1_ma23m011/runs/2y9qsm38</a><br> View project at: <a href='https://wandb.ai/ma23m011-iit-madras/DA6401_Assignment1_ma23m011' target=\"_blank\">https://wandb.ai/ma23m011-iit-madras/DA6401_Assignment1_ma23m011</a><br>Synced 5 W&B file(s), 0 media file(s), 0 artifact file(s) and 0 other file(s)"
            ]
          },
          "metadata": {}
        },
        {
          "output_type": "display_data",
          "data": {
            "text/plain": [
              "<IPython.core.display.HTML object>"
            ],
            "text/html": [
              "Find logs at: <code>./wandb/run-20250310_002720-2y9qsm38/logs</code>"
            ]
          },
          "metadata": {}
        },
        {
          "output_type": "stream",
          "name": "stderr",
          "text": [
            "\u001b[34m\u001b[1mwandb\u001b[0m: Agent Starting Run: qdf7xw8l with config:\n",
            "\u001b[34m\u001b[1mwandb\u001b[0m: \tactivation: sigmoid\n",
            "\u001b[34m\u001b[1mwandb\u001b[0m: \tbatch_size: 64\n",
            "\u001b[34m\u001b[1mwandb\u001b[0m: \tepochs: 10\n",
            "\u001b[34m\u001b[1mwandb\u001b[0m: \thidden_layers: 4\n",
            "\u001b[34m\u001b[1mwandb\u001b[0m: \thidden_size: 32\n",
            "\u001b[34m\u001b[1mwandb\u001b[0m: \tlearning_rate: 0.001\n",
            "\u001b[34m\u001b[1mwandb\u001b[0m: \toptimizer: nadam\n",
            "\u001b[34m\u001b[1mwandb\u001b[0m: \tweight_decay: 0\n",
            "\u001b[34m\u001b[1mwandb\u001b[0m: \tweight_init: random\n"
          ]
        },
        {
          "output_type": "display_data",
          "data": {
            "text/plain": [
              "<IPython.core.display.HTML object>"
            ],
            "text/html": [
              "Tracking run with wandb version 0.19.7"
            ]
          },
          "metadata": {}
        },
        {
          "output_type": "display_data",
          "data": {
            "text/plain": [
              "<IPython.core.display.HTML object>"
            ],
            "text/html": [
              "Run data is saved locally in <code>/content/wandb/run-20250310_002816-qdf7xw8l</code>"
            ]
          },
          "metadata": {}
        },
        {
          "output_type": "display_data",
          "data": {
            "text/plain": [
              "<IPython.core.display.HTML object>"
            ],
            "text/html": [
              "Syncing run <strong><a href='https://wandb.ai/ma23m011-iit-madras/DA6401_Assignment1_ma23m011/runs/qdf7xw8l' target=\"_blank\">sage-sweep-4</a></strong> to <a href='https://wandb.ai/ma23m011-iit-madras/DA6401_Assignment1_ma23m011' target=\"_blank\">Weights & Biases</a> (<a href='https://wandb.me/developer-guide' target=\"_blank\">docs</a>)<br>Sweep page: <a href='https://wandb.ai/ma23m011-iit-madras/DA6401_Assignment1_ma23m011/sweeps/augzj4ot' target=\"_blank\">https://wandb.ai/ma23m011-iit-madras/DA6401_Assignment1_ma23m011/sweeps/augzj4ot</a>"
            ]
          },
          "metadata": {}
        },
        {
          "output_type": "display_data",
          "data": {
            "text/plain": [
              "<IPython.core.display.HTML object>"
            ],
            "text/html": [
              " View project at <a href='https://wandb.ai/ma23m011-iit-madras/DA6401_Assignment1_ma23m011' target=\"_blank\">https://wandb.ai/ma23m011-iit-madras/DA6401_Assignment1_ma23m011</a>"
            ]
          },
          "metadata": {}
        },
        {
          "output_type": "display_data",
          "data": {
            "text/plain": [
              "<IPython.core.display.HTML object>"
            ],
            "text/html": [
              " View sweep at <a href='https://wandb.ai/ma23m011-iit-madras/DA6401_Assignment1_ma23m011/sweeps/augzj4ot' target=\"_blank\">https://wandb.ai/ma23m011-iit-madras/DA6401_Assignment1_ma23m011/sweeps/augzj4ot</a>"
            ]
          },
          "metadata": {}
        },
        {
          "output_type": "display_data",
          "data": {
            "text/plain": [
              "<IPython.core.display.HTML object>"
            ],
            "text/html": [
              " View run at <a href='https://wandb.ai/ma23m011-iit-madras/DA6401_Assignment1_ma23m011/runs/qdf7xw8l' target=\"_blank\">https://wandb.ai/ma23m011-iit-madras/DA6401_Assignment1_ma23m011/runs/qdf7xw8l</a>"
            ]
          },
          "metadata": {}
        },
        {
          "output_type": "stream",
          "name": "stdout",
          "text": [
            "Epoch 1: Train Loss = 14.9390, Train Acc = 9.9389, Val Loss = 14.8554, Val Acc = 10.5500\n",
            "Epoch 2: Train Loss = 13.2379, Train Acc = 10.0167, Val Loss = 13.0999, Val Acc = 9.8500\n",
            "Epoch 3: Train Loss = 13.2379, Train Acc = 9.9648, Val Loss = 13.0999, Val Acc = 10.3167\n",
            "Epoch 4: Train Loss = 13.2379, Train Acc = 9.9648, Val Loss = 13.1001, Val Acc = 10.3167\n",
            "Epoch 5: Train Loss = 12.2265, Train Acc = 9.9648, Val Loss = 12.1185, Val Acc = 10.3167\n",
            "Epoch 6: Train Loss = 11.6013, Train Acc = 10.0167, Val Loss = 11.5162, Val Acc = 9.8500\n",
            "Epoch 7: Train Loss = 10.1418, Train Acc = 9.9648, Val Loss = 10.0512, Val Acc = 10.3167\n",
            "Epoch 8: Train Loss = 10.0242, Train Acc = 9.9963, Val Loss = 9.9337, Val Acc = 10.0333\n",
            "Epoch 9: Train Loss = 9.9974, Train Acc = 10.0167, Val Loss = 9.9090, Val Acc = 9.8500\n",
            "Epoch 10: Train Loss = 8.7797, Train Acc = 9.9389, Val Loss = 8.7695, Val Acc = 10.5500\n"
          ]
        },
        {
          "output_type": "display_data",
          "data": {
            "text/plain": [
              "<IPython.core.display.HTML object>"
            ],
            "text/html": []
          },
          "metadata": {}
        },
        {
          "output_type": "display_data",
          "data": {
            "text/plain": [
              "<IPython.core.display.HTML object>"
            ],
            "text/html": [
              "<br>    <style><br>        .wandb-row {<br>            display: flex;<br>            flex-direction: row;<br>            flex-wrap: wrap;<br>            justify-content: flex-start;<br>            width: 100%;<br>        }<br>        .wandb-col {<br>            display: flex;<br>            flex-direction: column;<br>            flex-basis: 100%;<br>            flex: 1;<br>            padding: 10px;<br>        }<br>    </style><br><div class=\"wandb-row\"><div class=\"wandb-col\"><h3>Run history:</h3><br/><table class=\"wandb\"><tr><td>Train_accuracy</td><td>▁█▃▃▃█▃▆█▁</td></tr><tr><td>Train_loss</td><td>█▆▆▆▅▄▃▂▂▁</td></tr><tr><td>Val_accuracy</td><td>█▁▆▆▆▁▆▃▁█</td></tr><tr><td>Val_loss</td><td>█▆▆▆▅▄▂▂▂▁</td></tr><tr><td>epoch</td><td>▁▂▃▃▄▅▆▆▇█</td></tr></table><br/></div><div class=\"wandb-col\"><h3>Run summary:</h3><br/><table class=\"wandb\"><tr><td>Train_accuracy</td><td>9.93889</td></tr><tr><td>Train_loss</td><td>8.77965</td></tr><tr><td>Val_accuracy</td><td>10.55</td></tr><tr><td>Val_loss</td><td>8.76946</td></tr><tr><td>epoch</td><td>10</td></tr></table><br/></div></div>"
            ]
          },
          "metadata": {}
        },
        {
          "output_type": "display_data",
          "data": {
            "text/plain": [
              "<IPython.core.display.HTML object>"
            ],
            "text/html": [
              " View run <strong style=\"color:#cdcd00\">-ac_sigmoid-hs_32-epc_10-hl_4-regu_0-eta_0.001-optmz_nadam-batch_64-wght_random</strong> at: <a href='https://wandb.ai/ma23m011-iit-madras/DA6401_Assignment1_ma23m011/runs/qdf7xw8l' target=\"_blank\">https://wandb.ai/ma23m011-iit-madras/DA6401_Assignment1_ma23m011/runs/qdf7xw8l</a><br> View project at: <a href='https://wandb.ai/ma23m011-iit-madras/DA6401_Assignment1_ma23m011' target=\"_blank\">https://wandb.ai/ma23m011-iit-madras/DA6401_Assignment1_ma23m011</a><br>Synced 5 W&B file(s), 0 media file(s), 0 artifact file(s) and 0 other file(s)"
            ]
          },
          "metadata": {}
        },
        {
          "output_type": "display_data",
          "data": {
            "text/plain": [
              "<IPython.core.display.HTML object>"
            ],
            "text/html": [
              "Find logs at: <code>./wandb/run-20250310_002816-qdf7xw8l/logs</code>"
            ]
          },
          "metadata": {}
        },
        {
          "output_type": "stream",
          "name": "stderr",
          "text": [
            "\u001b[34m\u001b[1mwandb\u001b[0m: Agent Starting Run: 7x0tpzgt with config:\n",
            "\u001b[34m\u001b[1mwandb\u001b[0m: \tactivation: sigmoid\n",
            "\u001b[34m\u001b[1mwandb\u001b[0m: \tbatch_size: 64\n",
            "\u001b[34m\u001b[1mwandb\u001b[0m: \tepochs: 10\n",
            "\u001b[34m\u001b[1mwandb\u001b[0m: \thidden_layers: 4\n",
            "\u001b[34m\u001b[1mwandb\u001b[0m: \thidden_size: 64\n",
            "\u001b[34m\u001b[1mwandb\u001b[0m: \tlearning_rate: 0.001\n",
            "\u001b[34m\u001b[1mwandb\u001b[0m: \toptimizer: adam\n",
            "\u001b[34m\u001b[1mwandb\u001b[0m: \tweight_decay: 0.0005\n",
            "\u001b[34m\u001b[1mwandb\u001b[0m: \tweight_init: random\n"
          ]
        },
        {
          "output_type": "display_data",
          "data": {
            "text/plain": [
              "<IPython.core.display.HTML object>"
            ],
            "text/html": [
              "Tracking run with wandb version 0.19.7"
            ]
          },
          "metadata": {}
        },
        {
          "output_type": "display_data",
          "data": {
            "text/plain": [
              "<IPython.core.display.HTML object>"
            ],
            "text/html": [
              "Run data is saved locally in <code>/content/wandb/run-20250310_002857-7x0tpzgt</code>"
            ]
          },
          "metadata": {}
        },
        {
          "output_type": "display_data",
          "data": {
            "text/plain": [
              "<IPython.core.display.HTML object>"
            ],
            "text/html": [
              "Syncing run <strong><a href='https://wandb.ai/ma23m011-iit-madras/DA6401_Assignment1_ma23m011/runs/7x0tpzgt' target=\"_blank\">eager-sweep-5</a></strong> to <a href='https://wandb.ai/ma23m011-iit-madras/DA6401_Assignment1_ma23m011' target=\"_blank\">Weights & Biases</a> (<a href='https://wandb.me/developer-guide' target=\"_blank\">docs</a>)<br>Sweep page: <a href='https://wandb.ai/ma23m011-iit-madras/DA6401_Assignment1_ma23m011/sweeps/augzj4ot' target=\"_blank\">https://wandb.ai/ma23m011-iit-madras/DA6401_Assignment1_ma23m011/sweeps/augzj4ot</a>"
            ]
          },
          "metadata": {}
        },
        {
          "output_type": "display_data",
          "data": {
            "text/plain": [
              "<IPython.core.display.HTML object>"
            ],
            "text/html": [
              " View project at <a href='https://wandb.ai/ma23m011-iit-madras/DA6401_Assignment1_ma23m011' target=\"_blank\">https://wandb.ai/ma23m011-iit-madras/DA6401_Assignment1_ma23m011</a>"
            ]
          },
          "metadata": {}
        },
        {
          "output_type": "display_data",
          "data": {
            "text/plain": [
              "<IPython.core.display.HTML object>"
            ],
            "text/html": [
              " View sweep at <a href='https://wandb.ai/ma23m011-iit-madras/DA6401_Assignment1_ma23m011/sweeps/augzj4ot' target=\"_blank\">https://wandb.ai/ma23m011-iit-madras/DA6401_Assignment1_ma23m011/sweeps/augzj4ot</a>"
            ]
          },
          "metadata": {}
        },
        {
          "output_type": "display_data",
          "data": {
            "text/plain": [
              "<IPython.core.display.HTML object>"
            ],
            "text/html": [
              " View run at <a href='https://wandb.ai/ma23m011-iit-madras/DA6401_Assignment1_ma23m011/runs/7x0tpzgt' target=\"_blank\">https://wandb.ai/ma23m011-iit-madras/DA6401_Assignment1_ma23m011/runs/7x0tpzgt</a>"
            ]
          },
          "metadata": {}
        },
        {
          "output_type": "stream",
          "name": "stdout",
          "text": [
            "Epoch 1: Train Loss = 2.3204, Train Acc = 19.8556, Val Loss = 2.3203, Val Acc = 20.3000\n",
            "Epoch 2: Train Loss = 1.9835, Train Acc = 20.1056, Val Loss = 1.9863, Val Acc = 19.2167\n",
            "Epoch 3: Train Loss = 1.9554, Train Acc = 22.6704, Val Loss = 1.9584, Val Acc = 21.9667\n",
            "Epoch 4: Train Loss = 1.9284, Train Acc = 29.5500, Val Loss = 1.9311, Val Acc = 29.6333\n",
            "Epoch 5: Train Loss = 1.9223, Train Acc = 29.6759, Val Loss = 1.9265, Val Acc = 28.5000\n",
            "Epoch 6: Train Loss = 1.9264, Train Acc = 29.5259, Val Loss = 1.9299, Val Acc = 28.8833\n",
            "Epoch 7: Train Loss = 1.8904, Train Acc = 29.7870, Val Loss = 1.8930, Val Acc = 30.3333\n",
            "Epoch 8: Train Loss = 1.5623, Train Acc = 54.0593, Val Loss = 1.5582, Val Acc = 54.9833\n",
            "Epoch 9: Train Loss = 1.3734, Train Acc = 68.7778, Val Loss = 1.3893, Val Acc = 68.9333\n",
            "Epoch 10: Train Loss = 1.2952, Train Acc = 76.2389, Val Loss = 1.3197, Val Acc = 75.2333\n"
          ]
        },
        {
          "output_type": "display_data",
          "data": {
            "text/plain": [
              "<IPython.core.display.HTML object>"
            ],
            "text/html": []
          },
          "metadata": {}
        },
        {
          "output_type": "display_data",
          "data": {
            "text/plain": [
              "<IPython.core.display.HTML object>"
            ],
            "text/html": [
              "<br>    <style><br>        .wandb-row {<br>            display: flex;<br>            flex-direction: row;<br>            flex-wrap: wrap;<br>            justify-content: flex-start;<br>            width: 100%;<br>        }<br>        .wandb-col {<br>            display: flex;<br>            flex-direction: column;<br>            flex-basis: 100%;<br>            flex: 1;<br>            padding: 10px;<br>        }<br>    </style><br><div class=\"wandb-row\"><div class=\"wandb-col\"><h3>Run history:</h3><br/><table class=\"wandb\"><tr><td>Train_accuracy</td><td>▁▁▁▂▂▂▂▅▇█</td></tr><tr><td>Train_loss</td><td>█▆▆▅▅▅▅▃▂▁</td></tr><tr><td>Val_accuracy</td><td>▁▁▁▂▂▂▂▅▇█</td></tr><tr><td>Val_loss</td><td>█▆▅▅▅▅▅▃▁▁</td></tr><tr><td>epoch</td><td>▁▂▃▃▄▅▆▆▇█</td></tr></table><br/></div><div class=\"wandb-col\"><h3>Run summary:</h3><br/><table class=\"wandb\"><tr><td>Train_accuracy</td><td>76.23889</td></tr><tr><td>Train_loss</td><td>1.2952</td></tr><tr><td>Val_accuracy</td><td>75.23333</td></tr><tr><td>Val_loss</td><td>1.31968</td></tr><tr><td>epoch</td><td>10</td></tr></table><br/></div></div>"
            ]
          },
          "metadata": {}
        },
        {
          "output_type": "display_data",
          "data": {
            "text/plain": [
              "<IPython.core.display.HTML object>"
            ],
            "text/html": [
              " View run <strong style=\"color:#cdcd00\">-ac_sigmoid-hs_64-epc_10-hl_4-regu_0.0005-eta_0.001-optmz_adam-batch_64-wght_random</strong> at: <a href='https://wandb.ai/ma23m011-iit-madras/DA6401_Assignment1_ma23m011/runs/7x0tpzgt' target=\"_blank\">https://wandb.ai/ma23m011-iit-madras/DA6401_Assignment1_ma23m011/runs/7x0tpzgt</a><br> View project at: <a href='https://wandb.ai/ma23m011-iit-madras/DA6401_Assignment1_ma23m011' target=\"_blank\">https://wandb.ai/ma23m011-iit-madras/DA6401_Assignment1_ma23m011</a><br>Synced 5 W&B file(s), 0 media file(s), 0 artifact file(s) and 0 other file(s)"
            ]
          },
          "metadata": {}
        },
        {
          "output_type": "display_data",
          "data": {
            "text/plain": [
              "<IPython.core.display.HTML object>"
            ],
            "text/html": [
              "Find logs at: <code>./wandb/run-20250310_002857-7x0tpzgt/logs</code>"
            ]
          },
          "metadata": {}
        },
        {
          "output_type": "stream",
          "name": "stderr",
          "text": [
            "\u001b[34m\u001b[1mwandb\u001b[0m: Sweep Agent: Waiting for job.\n",
            "\u001b[34m\u001b[1mwandb\u001b[0m: Job received.\n",
            "\u001b[34m\u001b[1mwandb\u001b[0m: Agent Starting Run: u8fglj5r with config:\n",
            "\u001b[34m\u001b[1mwandb\u001b[0m: \tactivation: sigmoid\n",
            "\u001b[34m\u001b[1mwandb\u001b[0m: \tbatch_size: 64\n",
            "\u001b[34m\u001b[1mwandb\u001b[0m: \tepochs: 10\n",
            "\u001b[34m\u001b[1mwandb\u001b[0m: \thidden_layers: 3\n",
            "\u001b[34m\u001b[1mwandb\u001b[0m: \thidden_size: 128\n",
            "\u001b[34m\u001b[1mwandb\u001b[0m: \tlearning_rate: 0.0001\n",
            "\u001b[34m\u001b[1mwandb\u001b[0m: \toptimizer: rmsprop\n",
            "\u001b[34m\u001b[1mwandb\u001b[0m: \tweight_decay: 0\n",
            "\u001b[34m\u001b[1mwandb\u001b[0m: \tweight_init: xavier\n"
          ]
        },
        {
          "output_type": "display_data",
          "data": {
            "text/plain": [
              "<IPython.core.display.HTML object>"
            ],
            "text/html": [
              "Tracking run with wandb version 0.19.7"
            ]
          },
          "metadata": {}
        },
        {
          "output_type": "display_data",
          "data": {
            "text/plain": [
              "<IPython.core.display.HTML object>"
            ],
            "text/html": [
              "Run data is saved locally in <code>/content/wandb/run-20250310_003008-u8fglj5r</code>"
            ]
          },
          "metadata": {}
        },
        {
          "output_type": "display_data",
          "data": {
            "text/plain": [
              "<IPython.core.display.HTML object>"
            ],
            "text/html": [
              "Syncing run <strong><a href='https://wandb.ai/ma23m011-iit-madras/DA6401_Assignment1_ma23m011/runs/u8fglj5r' target=\"_blank\">elated-sweep-6</a></strong> to <a href='https://wandb.ai/ma23m011-iit-madras/DA6401_Assignment1_ma23m011' target=\"_blank\">Weights & Biases</a> (<a href='https://wandb.me/developer-guide' target=\"_blank\">docs</a>)<br>Sweep page: <a href='https://wandb.ai/ma23m011-iit-madras/DA6401_Assignment1_ma23m011/sweeps/augzj4ot' target=\"_blank\">https://wandb.ai/ma23m011-iit-madras/DA6401_Assignment1_ma23m011/sweeps/augzj4ot</a>"
            ]
          },
          "metadata": {}
        },
        {
          "output_type": "display_data",
          "data": {
            "text/plain": [
              "<IPython.core.display.HTML object>"
            ],
            "text/html": [
              " View project at <a href='https://wandb.ai/ma23m011-iit-madras/DA6401_Assignment1_ma23m011' target=\"_blank\">https://wandb.ai/ma23m011-iit-madras/DA6401_Assignment1_ma23m011</a>"
            ]
          },
          "metadata": {}
        },
        {
          "output_type": "display_data",
          "data": {
            "text/plain": [
              "<IPython.core.display.HTML object>"
            ],
            "text/html": [
              " View sweep at <a href='https://wandb.ai/ma23m011-iit-madras/DA6401_Assignment1_ma23m011/sweeps/augzj4ot' target=\"_blank\">https://wandb.ai/ma23m011-iit-madras/DA6401_Assignment1_ma23m011/sweeps/augzj4ot</a>"
            ]
          },
          "metadata": {}
        },
        {
          "output_type": "display_data",
          "data": {
            "text/plain": [
              "<IPython.core.display.HTML object>"
            ],
            "text/html": [
              " View run at <a href='https://wandb.ai/ma23m011-iit-madras/DA6401_Assignment1_ma23m011/runs/u8fglj5r' target=\"_blank\">https://wandb.ai/ma23m011-iit-madras/DA6401_Assignment1_ma23m011/runs/u8fglj5r</a>"
            ]
          },
          "metadata": {}
        },
        {
          "output_type": "stream",
          "name": "stdout",
          "text": [
            "Epoch 1: Train Loss = 1.4133, Train Acc = 53.8148, Val Loss = 1.4072, Val Acc = 54.9000\n",
            "Epoch 2: Train Loss = 0.9651, Train Acc = 63.9444, Val Loss = 0.9536, Val Acc = 64.8500\n",
            "Epoch 3: Train Loss = 0.7570, Train Acc = 72.5148, Val Loss = 0.7499, Val Acc = 72.9500\n",
            "Epoch 4: Train Loss = 0.6458, Train Acc = 75.4852, Val Loss = 0.6409, Val Acc = 75.9500\n",
            "Epoch 5: Train Loss = 0.5911, Train Acc = 77.1648, Val Loss = 0.5876, Val Acc = 77.5667\n",
            "Epoch 6: Train Loss = 0.5560, Train Acc = 78.4796, Val Loss = 0.5532, Val Acc = 78.3833\n",
            "Epoch 7: Train Loss = 0.5295, Train Acc = 79.8130, Val Loss = 0.5308, Val Acc = 79.6667\n",
            "Epoch 8: Train Loss = 0.5134, Train Acc = 80.8019, Val Loss = 0.5165, Val Acc = 80.4167\n",
            "Epoch 9: Train Loss = 0.4935, Train Acc = 81.8722, Val Loss = 0.5002, Val Acc = 81.1833\n",
            "Epoch 10: Train Loss = 0.4774, Train Acc = 82.6833, Val Loss = 0.4816, Val Acc = 81.9000\n"
          ]
        },
        {
          "output_type": "display_data",
          "data": {
            "text/plain": [
              "<IPython.core.display.HTML object>"
            ],
            "text/html": []
          },
          "metadata": {}
        },
        {
          "output_type": "display_data",
          "data": {
            "text/plain": [
              "<IPython.core.display.HTML object>"
            ],
            "text/html": [
              "<br>    <style><br>        .wandb-row {<br>            display: flex;<br>            flex-direction: row;<br>            flex-wrap: wrap;<br>            justify-content: flex-start;<br>            width: 100%;<br>        }<br>        .wandb-col {<br>            display: flex;<br>            flex-direction: column;<br>            flex-basis: 100%;<br>            flex: 1;<br>            padding: 10px;<br>        }<br>    </style><br><div class=\"wandb-row\"><div class=\"wandb-col\"><h3>Run history:</h3><br/><table class=\"wandb\"><tr><td>Train_accuracy</td><td>▁▃▆▆▇▇▇███</td></tr><tr><td>Train_loss</td><td>█▅▃▂▂▂▁▁▁▁</td></tr><tr><td>Val_accuracy</td><td>▁▄▆▆▇▇▇███</td></tr><tr><td>Val_loss</td><td>█▅▃▂▂▂▁▁▁▁</td></tr><tr><td>epoch</td><td>▁▂▃▃▄▅▆▆▇█</td></tr></table><br/></div><div class=\"wandb-col\"><h3>Run summary:</h3><br/><table class=\"wandb\"><tr><td>Train_accuracy</td><td>82.68333</td></tr><tr><td>Train_loss</td><td>0.47744</td></tr><tr><td>Val_accuracy</td><td>81.9</td></tr><tr><td>Val_loss</td><td>0.48161</td></tr><tr><td>epoch</td><td>10</td></tr></table><br/></div></div>"
            ]
          },
          "metadata": {}
        },
        {
          "output_type": "display_data",
          "data": {
            "text/plain": [
              "<IPython.core.display.HTML object>"
            ],
            "text/html": [
              " View run <strong style=\"color:#cdcd00\">-ac_sigmoid-hs_128-epc_10-hl_3-regu_0-eta_0.0001-optmz_rmsprop-batch_64-wght_xavier</strong> at: <a href='https://wandb.ai/ma23m011-iit-madras/DA6401_Assignment1_ma23m011/runs/u8fglj5r' target=\"_blank\">https://wandb.ai/ma23m011-iit-madras/DA6401_Assignment1_ma23m011/runs/u8fglj5r</a><br> View project at: <a href='https://wandb.ai/ma23m011-iit-madras/DA6401_Assignment1_ma23m011' target=\"_blank\">https://wandb.ai/ma23m011-iit-madras/DA6401_Assignment1_ma23m011</a><br>Synced 5 W&B file(s), 0 media file(s), 0 artifact file(s) and 0 other file(s)"
            ]
          },
          "metadata": {}
        },
        {
          "output_type": "display_data",
          "data": {
            "text/plain": [
              "<IPython.core.display.HTML object>"
            ],
            "text/html": [
              "Find logs at: <code>./wandb/run-20250310_003008-u8fglj5r/logs</code>"
            ]
          },
          "metadata": {}
        },
        {
          "output_type": "stream",
          "name": "stderr",
          "text": [
            "\u001b[34m\u001b[1mwandb\u001b[0m: Agent Starting Run: 61qrhu8c with config:\n",
            "\u001b[34m\u001b[1mwandb\u001b[0m: \tactivation: relu\n",
            "\u001b[34m\u001b[1mwandb\u001b[0m: \tbatch_size: 64\n",
            "\u001b[34m\u001b[1mwandb\u001b[0m: \tepochs: 5\n",
            "\u001b[34m\u001b[1mwandb\u001b[0m: \thidden_layers: 5\n",
            "\u001b[34m\u001b[1mwandb\u001b[0m: \thidden_size: 32\n",
            "\u001b[34m\u001b[1mwandb\u001b[0m: \tlearning_rate: 0.001\n",
            "\u001b[34m\u001b[1mwandb\u001b[0m: \toptimizer: sgd\n",
            "\u001b[34m\u001b[1mwandb\u001b[0m: \tweight_decay: 0\n",
            "\u001b[34m\u001b[1mwandb\u001b[0m: \tweight_init: random\n"
          ]
        },
        {
          "output_type": "display_data",
          "data": {
            "text/plain": [
              "<IPython.core.display.HTML object>"
            ],
            "text/html": [
              "Tracking run with wandb version 0.19.7"
            ]
          },
          "metadata": {}
        },
        {
          "output_type": "display_data",
          "data": {
            "text/plain": [
              "<IPython.core.display.HTML object>"
            ],
            "text/html": [
              "Run data is saved locally in <code>/content/wandb/run-20250310_003140-61qrhu8c</code>"
            ]
          },
          "metadata": {}
        },
        {
          "output_type": "display_data",
          "data": {
            "text/plain": [
              "<IPython.core.display.HTML object>"
            ],
            "text/html": [
              "Syncing run <strong><a href='https://wandb.ai/ma23m011-iit-madras/DA6401_Assignment1_ma23m011/runs/61qrhu8c' target=\"_blank\">polar-sweep-7</a></strong> to <a href='https://wandb.ai/ma23m011-iit-madras/DA6401_Assignment1_ma23m011' target=\"_blank\">Weights & Biases</a> (<a href='https://wandb.me/developer-guide' target=\"_blank\">docs</a>)<br>Sweep page: <a href='https://wandb.ai/ma23m011-iit-madras/DA6401_Assignment1_ma23m011/sweeps/augzj4ot' target=\"_blank\">https://wandb.ai/ma23m011-iit-madras/DA6401_Assignment1_ma23m011/sweeps/augzj4ot</a>"
            ]
          },
          "metadata": {}
        },
        {
          "output_type": "display_data",
          "data": {
            "text/plain": [
              "<IPython.core.display.HTML object>"
            ],
            "text/html": [
              " View project at <a href='https://wandb.ai/ma23m011-iit-madras/DA6401_Assignment1_ma23m011' target=\"_blank\">https://wandb.ai/ma23m011-iit-madras/DA6401_Assignment1_ma23m011</a>"
            ]
          },
          "metadata": {}
        },
        {
          "output_type": "display_data",
          "data": {
            "text/plain": [
              "<IPython.core.display.HTML object>"
            ],
            "text/html": [
              " View sweep at <a href='https://wandb.ai/ma23m011-iit-madras/DA6401_Assignment1_ma23m011/sweeps/augzj4ot' target=\"_blank\">https://wandb.ai/ma23m011-iit-madras/DA6401_Assignment1_ma23m011/sweeps/augzj4ot</a>"
            ]
          },
          "metadata": {}
        },
        {
          "output_type": "display_data",
          "data": {
            "text/plain": [
              "<IPython.core.display.HTML object>"
            ],
            "text/html": [
              " View run at <a href='https://wandb.ai/ma23m011-iit-madras/DA6401_Assignment1_ma23m011/runs/61qrhu8c' target=\"_blank\">https://wandb.ai/ma23m011-iit-madras/DA6401_Assignment1_ma23m011/runs/61qrhu8c</a>"
            ]
          },
          "metadata": {}
        },
        {
          "output_type": "stream",
          "name": "stdout",
          "text": [
            "Epoch 1: Train Loss = 2.3028, Train Acc = 10.0833, Val Loss = 2.3037, Val Acc = 9.2500\n",
            "Epoch 2: Train Loss = 2.3027, Train Acc = 10.0167, Val Loss = 2.3028, Val Acc = 9.8500\n",
            "Epoch 3: Train Loss = 2.3027, Train Acc = 9.9389, Val Loss = 2.3024, Val Acc = 10.5500\n",
            "Epoch 4: Train Loss = 2.3026, Train Acc = 10.0167, Val Loss = 2.3029, Val Acc = 9.8500\n",
            "Epoch 5: Train Loss = 2.3027, Train Acc = 10.0296, Val Loss = 2.3028, Val Acc = 9.7333\n"
          ]
        },
        {
          "output_type": "display_data",
          "data": {
            "text/plain": [
              "<IPython.core.display.HTML object>"
            ],
            "text/html": []
          },
          "metadata": {}
        },
        {
          "output_type": "display_data",
          "data": {
            "text/plain": [
              "<IPython.core.display.HTML object>"
            ],
            "text/html": [
              "<br>    <style><br>        .wandb-row {<br>            display: flex;<br>            flex-direction: row;<br>            flex-wrap: wrap;<br>            justify-content: flex-start;<br>            width: 100%;<br>        }<br>        .wandb-col {<br>            display: flex;<br>            flex-direction: column;<br>            flex-basis: 100%;<br>            flex: 1;<br>            padding: 10px;<br>        }<br>    </style><br><div class=\"wandb-row\"><div class=\"wandb-col\"><h3>Run history:</h3><br/><table class=\"wandb\"><tr><td>Train_accuracy</td><td>█▅▁▅▅</td></tr><tr><td>Train_loss</td><td>█▂▅▁▂</td></tr><tr><td>Val_accuracy</td><td>▁▄█▄▄</td></tr><tr><td>Val_loss</td><td>█▃▁▄▃</td></tr><tr><td>epoch</td><td>▁▃▅▆█</td></tr></table><br/></div><div class=\"wandb-col\"><h3>Run summary:</h3><br/><table class=\"wandb\"><tr><td>Train_accuracy</td><td>10.02963</td></tr><tr><td>Train_loss</td><td>2.30268</td></tr><tr><td>Val_accuracy</td><td>9.73333</td></tr><tr><td>Val_loss</td><td>2.30281</td></tr><tr><td>epoch</td><td>5</td></tr></table><br/></div></div>"
            ]
          },
          "metadata": {}
        },
        {
          "output_type": "display_data",
          "data": {
            "text/plain": [
              "<IPython.core.display.HTML object>"
            ],
            "text/html": [
              " View run <strong style=\"color:#cdcd00\">-ac_relu-hs_32-epc_5-hl_5-regu_0-eta_0.001-optmz_sgd-batch_64-wght_random</strong> at: <a href='https://wandb.ai/ma23m011-iit-madras/DA6401_Assignment1_ma23m011/runs/61qrhu8c' target=\"_blank\">https://wandb.ai/ma23m011-iit-madras/DA6401_Assignment1_ma23m011/runs/61qrhu8c</a><br> View project at: <a href='https://wandb.ai/ma23m011-iit-madras/DA6401_Assignment1_ma23m011' target=\"_blank\">https://wandb.ai/ma23m011-iit-madras/DA6401_Assignment1_ma23m011</a><br>Synced 5 W&B file(s), 0 media file(s), 0 artifact file(s) and 0 other file(s)"
            ]
          },
          "metadata": {}
        },
        {
          "output_type": "display_data",
          "data": {
            "text/plain": [
              "<IPython.core.display.HTML object>"
            ],
            "text/html": [
              "Find logs at: <code>./wandb/run-20250310_003140-61qrhu8c/logs</code>"
            ]
          },
          "metadata": {}
        },
        {
          "output_type": "stream",
          "name": "stderr",
          "text": [
            "\u001b[34m\u001b[1mwandb\u001b[0m: Agent Starting Run: lb5eieud with config:\n",
            "\u001b[34m\u001b[1mwandb\u001b[0m: \tactivation: sigmoid\n",
            "\u001b[34m\u001b[1mwandb\u001b[0m: \tbatch_size: 32\n",
            "\u001b[34m\u001b[1mwandb\u001b[0m: \tepochs: 10\n",
            "\u001b[34m\u001b[1mwandb\u001b[0m: \thidden_layers: 4\n",
            "\u001b[34m\u001b[1mwandb\u001b[0m: \thidden_size: 128\n",
            "\u001b[34m\u001b[1mwandb\u001b[0m: \tlearning_rate: 0.001\n",
            "\u001b[34m\u001b[1mwandb\u001b[0m: \toptimizer: nag\n",
            "\u001b[34m\u001b[1mwandb\u001b[0m: \tweight_decay: 0.0005\n",
            "\u001b[34m\u001b[1mwandb\u001b[0m: \tweight_init: random\n"
          ]
        },
        {
          "output_type": "display_data",
          "data": {
            "text/plain": [
              "<IPython.core.display.HTML object>"
            ],
            "text/html": [
              "Tracking run with wandb version 0.19.7"
            ]
          },
          "metadata": {}
        },
        {
          "output_type": "display_data",
          "data": {
            "text/plain": [
              "<IPython.core.display.HTML object>"
            ],
            "text/html": [
              "Run data is saved locally in <code>/content/wandb/run-20250310_003200-lb5eieud</code>"
            ]
          },
          "metadata": {}
        },
        {
          "output_type": "display_data",
          "data": {
            "text/plain": [
              "<IPython.core.display.HTML object>"
            ],
            "text/html": [
              "Syncing run <strong><a href='https://wandb.ai/ma23m011-iit-madras/DA6401_Assignment1_ma23m011/runs/lb5eieud' target=\"_blank\">zany-sweep-8</a></strong> to <a href='https://wandb.ai/ma23m011-iit-madras/DA6401_Assignment1_ma23m011' target=\"_blank\">Weights & Biases</a> (<a href='https://wandb.me/developer-guide' target=\"_blank\">docs</a>)<br>Sweep page: <a href='https://wandb.ai/ma23m011-iit-madras/DA6401_Assignment1_ma23m011/sweeps/augzj4ot' target=\"_blank\">https://wandb.ai/ma23m011-iit-madras/DA6401_Assignment1_ma23m011/sweeps/augzj4ot</a>"
            ]
          },
          "metadata": {}
        },
        {
          "output_type": "display_data",
          "data": {
            "text/plain": [
              "<IPython.core.display.HTML object>"
            ],
            "text/html": [
              " View project at <a href='https://wandb.ai/ma23m011-iit-madras/DA6401_Assignment1_ma23m011' target=\"_blank\">https://wandb.ai/ma23m011-iit-madras/DA6401_Assignment1_ma23m011</a>"
            ]
          },
          "metadata": {}
        },
        {
          "output_type": "display_data",
          "data": {
            "text/plain": [
              "<IPython.core.display.HTML object>"
            ],
            "text/html": [
              " View sweep at <a href='https://wandb.ai/ma23m011-iit-madras/DA6401_Assignment1_ma23m011/sweeps/augzj4ot' target=\"_blank\">https://wandb.ai/ma23m011-iit-madras/DA6401_Assignment1_ma23m011/sweeps/augzj4ot</a>"
            ]
          },
          "metadata": {}
        },
        {
          "output_type": "display_data",
          "data": {
            "text/plain": [
              "<IPython.core.display.HTML object>"
            ],
            "text/html": [
              " View run at <a href='https://wandb.ai/ma23m011-iit-madras/DA6401_Assignment1_ma23m011/runs/lb5eieud' target=\"_blank\">https://wandb.ai/ma23m011-iit-madras/DA6401_Assignment1_ma23m011/runs/lb5eieud</a>"
            ]
          },
          "metadata": {}
        },
        {
          "output_type": "stream",
          "name": "stdout",
          "text": [
            "Epoch 1: Train Loss = 2.3083, Train Acc = 9.9389, Val Loss = 2.3079, Val Acc = 10.5500\n",
            "Epoch 2: Train Loss = 2.3083, Train Acc = 9.9389, Val Loss = 2.3079, Val Acc = 10.5500\n",
            "Epoch 3: Train Loss = 2.3083, Train Acc = 9.9389, Val Loss = 2.3079, Val Acc = 10.5500\n",
            "Epoch 4: Train Loss = 2.3083, Train Acc = 9.9389, Val Loss = 2.3079, Val Acc = 10.5500\n",
            "Epoch 5: Train Loss = 2.3083, Train Acc = 9.9389, Val Loss = 2.3079, Val Acc = 10.5500\n",
            "Epoch 6: Train Loss = 2.3083, Train Acc = 9.9389, Val Loss = 2.3079, Val Acc = 10.5500\n",
            "Epoch 7: Train Loss = 2.3083, Train Acc = 9.9389, Val Loss = 2.3079, Val Acc = 10.5500\n",
            "Epoch 8: Train Loss = 2.3083, Train Acc = 9.9389, Val Loss = 2.3079, Val Acc = 10.5500\n",
            "Epoch 9: Train Loss = 2.3083, Train Acc = 9.9389, Val Loss = 2.3079, Val Acc = 10.5500\n",
            "Epoch 10: Train Loss = 2.3083, Train Acc = 9.9389, Val Loss = 2.3079, Val Acc = 10.5500\n"
          ]
        },
        {
          "output_type": "display_data",
          "data": {
            "text/plain": [
              "<IPython.core.display.HTML object>"
            ],
            "text/html": []
          },
          "metadata": {}
        },
        {
          "output_type": "display_data",
          "data": {
            "text/plain": [
              "<IPython.core.display.HTML object>"
            ],
            "text/html": [
              "<br>    <style><br>        .wandb-row {<br>            display: flex;<br>            flex-direction: row;<br>            flex-wrap: wrap;<br>            justify-content: flex-start;<br>            width: 100%;<br>        }<br>        .wandb-col {<br>            display: flex;<br>            flex-direction: column;<br>            flex-basis: 100%;<br>            flex: 1;<br>            padding: 10px;<br>        }<br>    </style><br><div class=\"wandb-row\"><div class=\"wandb-col\"><h3>Run history:</h3><br/><table class=\"wandb\"><tr><td>Train_accuracy</td><td>▁▁▁▁▁▁▁▁▁▁</td></tr><tr><td>Train_loss</td><td>▁▁▁▁▁▁▁▁▁▁</td></tr><tr><td>Val_accuracy</td><td>▁▁▁▁▁▁▁▁▁▁</td></tr><tr><td>Val_loss</td><td>▁▁▁▁▁▁▁▁▁▁</td></tr><tr><td>epoch</td><td>▁▂▃▃▄▅▆▆▇█</td></tr></table><br/></div><div class=\"wandb-col\"><h3>Run summary:</h3><br/><table class=\"wandb\"><tr><td>Train_accuracy</td><td>9.93889</td></tr><tr><td>Train_loss</td><td>2.30828</td></tr><tr><td>Val_accuracy</td><td>10.55</td></tr><tr><td>Val_loss</td><td>2.30795</td></tr><tr><td>epoch</td><td>10</td></tr></table><br/></div></div>"
            ]
          },
          "metadata": {}
        },
        {
          "output_type": "display_data",
          "data": {
            "text/plain": [
              "<IPython.core.display.HTML object>"
            ],
            "text/html": [
              " View run <strong style=\"color:#cdcd00\">-ac_sigmoid-hs_128-epc_10-hl_4-regu_0.0005-eta_0.001-optmz_nag-batch_32-wght_random</strong> at: <a href='https://wandb.ai/ma23m011-iit-madras/DA6401_Assignment1_ma23m011/runs/lb5eieud' target=\"_blank\">https://wandb.ai/ma23m011-iit-madras/DA6401_Assignment1_ma23m011/runs/lb5eieud</a><br> View project at: <a href='https://wandb.ai/ma23m011-iit-madras/DA6401_Assignment1_ma23m011' target=\"_blank\">https://wandb.ai/ma23m011-iit-madras/DA6401_Assignment1_ma23m011</a><br>Synced 5 W&B file(s), 0 media file(s), 0 artifact file(s) and 0 other file(s)"
            ]
          },
          "metadata": {}
        },
        {
          "output_type": "display_data",
          "data": {
            "text/plain": [
              "<IPython.core.display.HTML object>"
            ],
            "text/html": [
              "Find logs at: <code>./wandb/run-20250310_003200-lb5eieud/logs</code>"
            ]
          },
          "metadata": {}
        },
        {
          "output_type": "stream",
          "name": "stderr",
          "text": [
            "\u001b[34m\u001b[1mwandb\u001b[0m: Agent Starting Run: e2sakmmz with config:\n",
            "\u001b[34m\u001b[1mwandb\u001b[0m: \tactivation: relu\n",
            "\u001b[34m\u001b[1mwandb\u001b[0m: \tbatch_size: 16\n",
            "\u001b[34m\u001b[1mwandb\u001b[0m: \tepochs: 5\n",
            "\u001b[34m\u001b[1mwandb\u001b[0m: \thidden_layers: 5\n",
            "\u001b[34m\u001b[1mwandb\u001b[0m: \thidden_size: 64\n",
            "\u001b[34m\u001b[1mwandb\u001b[0m: \tlearning_rate: 0.0001\n",
            "\u001b[34m\u001b[1mwandb\u001b[0m: \toptimizer: nadam\n",
            "\u001b[34m\u001b[1mwandb\u001b[0m: \tweight_decay: 0.5\n",
            "\u001b[34m\u001b[1mwandb\u001b[0m: \tweight_init: random\n"
          ]
        },
        {
          "output_type": "display_data",
          "data": {
            "text/plain": [
              "<IPython.core.display.HTML object>"
            ],
            "text/html": [
              "Tracking run with wandb version 0.19.7"
            ]
          },
          "metadata": {}
        },
        {
          "output_type": "display_data",
          "data": {
            "text/plain": [
              "<IPython.core.display.HTML object>"
            ],
            "text/html": [
              "Run data is saved locally in <code>/content/wandb/run-20250310_003352-e2sakmmz</code>"
            ]
          },
          "metadata": {}
        },
        {
          "output_type": "display_data",
          "data": {
            "text/plain": [
              "<IPython.core.display.HTML object>"
            ],
            "text/html": [
              "Syncing run <strong><a href='https://wandb.ai/ma23m011-iit-madras/DA6401_Assignment1_ma23m011/runs/e2sakmmz' target=\"_blank\">crisp-sweep-9</a></strong> to <a href='https://wandb.ai/ma23m011-iit-madras/DA6401_Assignment1_ma23m011' target=\"_blank\">Weights & Biases</a> (<a href='https://wandb.me/developer-guide' target=\"_blank\">docs</a>)<br>Sweep page: <a href='https://wandb.ai/ma23m011-iit-madras/DA6401_Assignment1_ma23m011/sweeps/augzj4ot' target=\"_blank\">https://wandb.ai/ma23m011-iit-madras/DA6401_Assignment1_ma23m011/sweeps/augzj4ot</a>"
            ]
          },
          "metadata": {}
        },
        {
          "output_type": "display_data",
          "data": {
            "text/plain": [
              "<IPython.core.display.HTML object>"
            ],
            "text/html": [
              " View project at <a href='https://wandb.ai/ma23m011-iit-madras/DA6401_Assignment1_ma23m011' target=\"_blank\">https://wandb.ai/ma23m011-iit-madras/DA6401_Assignment1_ma23m011</a>"
            ]
          },
          "metadata": {}
        },
        {
          "output_type": "display_data",
          "data": {
            "text/plain": [
              "<IPython.core.display.HTML object>"
            ],
            "text/html": [
              " View sweep at <a href='https://wandb.ai/ma23m011-iit-madras/DA6401_Assignment1_ma23m011/sweeps/augzj4ot' target=\"_blank\">https://wandb.ai/ma23m011-iit-madras/DA6401_Assignment1_ma23m011/sweeps/augzj4ot</a>"
            ]
          },
          "metadata": {}
        },
        {
          "output_type": "display_data",
          "data": {
            "text/plain": [
              "<IPython.core.display.HTML object>"
            ],
            "text/html": [
              " View run at <a href='https://wandb.ai/ma23m011-iit-madras/DA6401_Assignment1_ma23m011/runs/e2sakmmz' target=\"_blank\">https://wandb.ai/ma23m011-iit-madras/DA6401_Assignment1_ma23m011/runs/e2sakmmz</a>"
            ]
          },
          "metadata": {}
        },
        {
          "output_type": "stream",
          "name": "stdout",
          "text": [
            "Epoch 1: Train Loss = nan, Train Acc = 9.9444, Val Loss = nan, Val Acc = 10.5000\n",
            "Epoch 2: Train Loss = nan, Train Acc = 9.9444, Val Loss = nan, Val Acc = 10.5000\n",
            "Epoch 3: Train Loss = nan, Train Acc = 9.9444, Val Loss = nan, Val Acc = 10.5000\n",
            "Epoch 4: Train Loss = nan, Train Acc = 9.9444, Val Loss = nan, Val Acc = 10.5000\n",
            "Epoch 5: Train Loss = nan, Train Acc = 9.9444, Val Loss = nan, Val Acc = 10.5000\n"
          ]
        },
        {
          "output_type": "display_data",
          "data": {
            "text/plain": [
              "<IPython.core.display.HTML object>"
            ],
            "text/html": []
          },
          "metadata": {}
        },
        {
          "output_type": "display_data",
          "data": {
            "text/plain": [
              "<IPython.core.display.HTML object>"
            ],
            "text/html": [
              "<br>    <style><br>        .wandb-row {<br>            display: flex;<br>            flex-direction: row;<br>            flex-wrap: wrap;<br>            justify-content: flex-start;<br>            width: 100%;<br>        }<br>        .wandb-col {<br>            display: flex;<br>            flex-direction: column;<br>            flex-basis: 100%;<br>            flex: 1;<br>            padding: 10px;<br>        }<br>    </style><br><div class=\"wandb-row\"><div class=\"wandb-col\"><h3>Run history:</h3><br/><table class=\"wandb\"><tr><td>Train_accuracy</td><td>▁▁▁▁▁</td></tr><tr><td>Val_accuracy</td><td>▁▁▁▁▁</td></tr><tr><td>epoch</td><td>▁▃▅▆█</td></tr></table><br/></div><div class=\"wandb-col\"><h3>Run summary:</h3><br/><table class=\"wandb\"><tr><td>Train_accuracy</td><td>9.94444</td></tr><tr><td>Train_loss</td><td>nan</td></tr><tr><td>Val_accuracy</td><td>10.5</td></tr><tr><td>Val_loss</td><td>nan</td></tr><tr><td>epoch</td><td>5</td></tr></table><br/></div></div>"
            ]
          },
          "metadata": {}
        },
        {
          "output_type": "display_data",
          "data": {
            "text/plain": [
              "<IPython.core.display.HTML object>"
            ],
            "text/html": [
              " View run <strong style=\"color:#cdcd00\">-ac_relu-hs_64-epc_5-hl_5-regu_0.5-eta_0.0001-optmz_nadam-batch_16-wght_random</strong> at: <a href='https://wandb.ai/ma23m011-iit-madras/DA6401_Assignment1_ma23m011/runs/e2sakmmz' target=\"_blank\">https://wandb.ai/ma23m011-iit-madras/DA6401_Assignment1_ma23m011/runs/e2sakmmz</a><br> View project at: <a href='https://wandb.ai/ma23m011-iit-madras/DA6401_Assignment1_ma23m011' target=\"_blank\">https://wandb.ai/ma23m011-iit-madras/DA6401_Assignment1_ma23m011</a><br>Synced 5 W&B file(s), 0 media file(s), 0 artifact file(s) and 0 other file(s)"
            ]
          },
          "metadata": {}
        },
        {
          "output_type": "display_data",
          "data": {
            "text/plain": [
              "<IPython.core.display.HTML object>"
            ],
            "text/html": [
              "Find logs at: <code>./wandb/run-20250310_003352-e2sakmmz/logs</code>"
            ]
          },
          "metadata": {}
        },
        {
          "output_type": "stream",
          "name": "stderr",
          "text": [
            "\u001b[34m\u001b[1mwandb\u001b[0m: Agent Starting Run: 6apnc971 with config:\n",
            "\u001b[34m\u001b[1mwandb\u001b[0m: \tactivation: relu\n",
            "\u001b[34m\u001b[1mwandb\u001b[0m: \tbatch_size: 64\n",
            "\u001b[34m\u001b[1mwandb\u001b[0m: \tepochs: 10\n",
            "\u001b[34m\u001b[1mwandb\u001b[0m: \thidden_layers: 5\n",
            "\u001b[34m\u001b[1mwandb\u001b[0m: \thidden_size: 32\n",
            "\u001b[34m\u001b[1mwandb\u001b[0m: \tlearning_rate: 0.001\n",
            "\u001b[34m\u001b[1mwandb\u001b[0m: \toptimizer: rmsprop\n",
            "\u001b[34m\u001b[1mwandb\u001b[0m: \tweight_decay: 0.0005\n",
            "\u001b[34m\u001b[1mwandb\u001b[0m: \tweight_init: random\n"
          ]
        },
        {
          "output_type": "display_data",
          "data": {
            "text/plain": [
              "<IPython.core.display.HTML object>"
            ],
            "text/html": [
              "Tracking run with wandb version 0.19.7"
            ]
          },
          "metadata": {}
        },
        {
          "output_type": "display_data",
          "data": {
            "text/plain": [
              "<IPython.core.display.HTML object>"
            ],
            "text/html": [
              "Run data is saved locally in <code>/content/wandb/run-20250310_003458-6apnc971</code>"
            ]
          },
          "metadata": {}
        },
        {
          "output_type": "display_data",
          "data": {
            "text/plain": [
              "<IPython.core.display.HTML object>"
            ],
            "text/html": [
              "Syncing run <strong><a href='https://wandb.ai/ma23m011-iit-madras/DA6401_Assignment1_ma23m011/runs/6apnc971' target=\"_blank\">dashing-sweep-10</a></strong> to <a href='https://wandb.ai/ma23m011-iit-madras/DA6401_Assignment1_ma23m011' target=\"_blank\">Weights & Biases</a> (<a href='https://wandb.me/developer-guide' target=\"_blank\">docs</a>)<br>Sweep page: <a href='https://wandb.ai/ma23m011-iit-madras/DA6401_Assignment1_ma23m011/sweeps/augzj4ot' target=\"_blank\">https://wandb.ai/ma23m011-iit-madras/DA6401_Assignment1_ma23m011/sweeps/augzj4ot</a>"
            ]
          },
          "metadata": {}
        },
        {
          "output_type": "display_data",
          "data": {
            "text/plain": [
              "<IPython.core.display.HTML object>"
            ],
            "text/html": [
              " View project at <a href='https://wandb.ai/ma23m011-iit-madras/DA6401_Assignment1_ma23m011' target=\"_blank\">https://wandb.ai/ma23m011-iit-madras/DA6401_Assignment1_ma23m011</a>"
            ]
          },
          "metadata": {}
        },
        {
          "output_type": "display_data",
          "data": {
            "text/plain": [
              "<IPython.core.display.HTML object>"
            ],
            "text/html": [
              " View sweep at <a href='https://wandb.ai/ma23m011-iit-madras/DA6401_Assignment1_ma23m011/sweeps/augzj4ot' target=\"_blank\">https://wandb.ai/ma23m011-iit-madras/DA6401_Assignment1_ma23m011/sweeps/augzj4ot</a>"
            ]
          },
          "metadata": {}
        },
        {
          "output_type": "display_data",
          "data": {
            "text/plain": [
              "<IPython.core.display.HTML object>"
            ],
            "text/html": [
              " View run at <a href='https://wandb.ai/ma23m011-iit-madras/DA6401_Assignment1_ma23m011/runs/6apnc971' target=\"_blank\">https://wandb.ai/ma23m011-iit-madras/DA6401_Assignment1_ma23m011/runs/6apnc971</a>"
            ]
          },
          "metadata": {}
        },
        {
          "output_type": "stream",
          "name": "stdout",
          "text": [
            "Epoch 1: Train Loss = 2.3026, Train Acc = 10.8204, Val Loss = 2.3026, Val Acc = 10.8833\n",
            "Epoch 2: Train Loss = 2.3026, Train Acc = 10.8185, Val Loss = 2.3026, Val Acc = 10.8833\n",
            "Epoch 3: Train Loss = 2.3026, Train Acc = 10.8167, Val Loss = 2.3026, Val Acc = 10.8833\n",
            "Epoch 4: Train Loss = 2.3026, Train Acc = 10.8111, Val Loss = 2.3026, Val Acc = 10.8833\n",
            "Epoch 5: Train Loss = 2.3026, Train Acc = 10.8185, Val Loss = 2.3026, Val Acc = 10.8833\n",
            "Epoch 6: Train Loss = 2.3026, Train Acc = 10.8130, Val Loss = 2.3026, Val Acc = 10.8833\n",
            "Epoch 7: Train Loss = 2.3026, Train Acc = 10.8185, Val Loss = 2.3026, Val Acc = 10.8833\n",
            "Epoch 8: Train Loss = 2.3026, Train Acc = 10.8111, Val Loss = 2.3026, Val Acc = 10.8833\n",
            "Epoch 9: Train Loss = 2.3026, Train Acc = 10.8093, Val Loss = 2.3026, Val Acc = 10.8833\n",
            "Epoch 10: Train Loss = 2.3026, Train Acc = 10.8185, Val Loss = 2.3026, Val Acc = 10.8833\n"
          ]
        },
        {
          "output_type": "display_data",
          "data": {
            "text/plain": [
              "<IPython.core.display.HTML object>"
            ],
            "text/html": []
          },
          "metadata": {}
        },
        {
          "output_type": "display_data",
          "data": {
            "text/plain": [
              "<IPython.core.display.HTML object>"
            ],
            "text/html": [
              "<br>    <style><br>        .wandb-row {<br>            display: flex;<br>            flex-direction: row;<br>            flex-wrap: wrap;<br>            justify-content: flex-start;<br>            width: 100%;<br>        }<br>        .wandb-col {<br>            display: flex;<br>            flex-direction: column;<br>            flex-basis: 100%;<br>            flex: 1;<br>            padding: 10px;<br>        }<br>    </style><br><div class=\"wandb-row\"><div class=\"wandb-col\"><h3>Run history:</h3><br/><table class=\"wandb\"><tr><td>Train_accuracy</td><td>█▇▆▂▇▃▇▂▁▇</td></tr><tr><td>Train_loss</td><td>▁▁▁▁▁▁▁▁▁▁</td></tr><tr><td>Val_accuracy</td><td>▁▁▁▁▁▁▁▁▁▁</td></tr><tr><td>Val_loss</td><td>▁▁▁▁▁▁▁▁▁▁</td></tr><tr><td>epoch</td><td>▁▂▃▃▄▅▆▆▇█</td></tr></table><br/></div><div class=\"wandb-col\"><h3>Run summary:</h3><br/><table class=\"wandb\"><tr><td>Train_accuracy</td><td>10.81852</td></tr><tr><td>Train_loss</td><td>2.30259</td></tr><tr><td>Val_accuracy</td><td>10.88333</td></tr><tr><td>Val_loss</td><td>2.30259</td></tr><tr><td>epoch</td><td>10</td></tr></table><br/></div></div>"
            ]
          },
          "metadata": {}
        },
        {
          "output_type": "display_data",
          "data": {
            "text/plain": [
              "<IPython.core.display.HTML object>"
            ],
            "text/html": [
              " View run <strong style=\"color:#cdcd00\">-ac_relu-hs_32-epc_10-hl_5-regu_0.0005-eta_0.001-optmz_rmsprop-batch_64-wght_random</strong> at: <a href='https://wandb.ai/ma23m011-iit-madras/DA6401_Assignment1_ma23m011/runs/6apnc971' target=\"_blank\">https://wandb.ai/ma23m011-iit-madras/DA6401_Assignment1_ma23m011/runs/6apnc971</a><br> View project at: <a href='https://wandb.ai/ma23m011-iit-madras/DA6401_Assignment1_ma23m011' target=\"_blank\">https://wandb.ai/ma23m011-iit-madras/DA6401_Assignment1_ma23m011</a><br>Synced 5 W&B file(s), 0 media file(s), 0 artifact file(s) and 0 other file(s)"
            ]
          },
          "metadata": {}
        },
        {
          "output_type": "display_data",
          "data": {
            "text/plain": [
              "<IPython.core.display.HTML object>"
            ],
            "text/html": [
              "Find logs at: <code>./wandb/run-20250310_003458-6apnc971/logs</code>"
            ]
          },
          "metadata": {}
        },
        {
          "output_type": "stream",
          "name": "stderr",
          "text": [
            "\u001b[34m\u001b[1mwandb\u001b[0m: Agent Starting Run: 3df7lmn4 with config:\n",
            "\u001b[34m\u001b[1mwandb\u001b[0m: \tactivation: relu\n",
            "\u001b[34m\u001b[1mwandb\u001b[0m: \tbatch_size: 16\n",
            "\u001b[34m\u001b[1mwandb\u001b[0m: \tepochs: 10\n",
            "\u001b[34m\u001b[1mwandb\u001b[0m: \thidden_layers: 5\n",
            "\u001b[34m\u001b[1mwandb\u001b[0m: \thidden_size: 128\n",
            "\u001b[34m\u001b[1mwandb\u001b[0m: \tlearning_rate: 0.001\n",
            "\u001b[34m\u001b[1mwandb\u001b[0m: \toptimizer: adam\n",
            "\u001b[34m\u001b[1mwandb\u001b[0m: \tweight_decay: 0\n",
            "\u001b[34m\u001b[1mwandb\u001b[0m: \tweight_init: random\n"
          ]
        },
        {
          "output_type": "display_data",
          "data": {
            "text/plain": [
              "<IPython.core.display.HTML object>"
            ],
            "text/html": [
              "Tracking run with wandb version 0.19.7"
            ]
          },
          "metadata": {}
        },
        {
          "output_type": "display_data",
          "data": {
            "text/plain": [
              "<IPython.core.display.HTML object>"
            ],
            "text/html": [
              "Run data is saved locally in <code>/content/wandb/run-20250310_003534-3df7lmn4</code>"
            ]
          },
          "metadata": {}
        },
        {
          "output_type": "display_data",
          "data": {
            "text/plain": [
              "<IPython.core.display.HTML object>"
            ],
            "text/html": [
              "Syncing run <strong><a href='https://wandb.ai/ma23m011-iit-madras/DA6401_Assignment1_ma23m011/runs/3df7lmn4' target=\"_blank\">wandering-sweep-11</a></strong> to <a href='https://wandb.ai/ma23m011-iit-madras/DA6401_Assignment1_ma23m011' target=\"_blank\">Weights & Biases</a> (<a href='https://wandb.me/developer-guide' target=\"_blank\">docs</a>)<br>Sweep page: <a href='https://wandb.ai/ma23m011-iit-madras/DA6401_Assignment1_ma23m011/sweeps/augzj4ot' target=\"_blank\">https://wandb.ai/ma23m011-iit-madras/DA6401_Assignment1_ma23m011/sweeps/augzj4ot</a>"
            ]
          },
          "metadata": {}
        },
        {
          "output_type": "display_data",
          "data": {
            "text/plain": [
              "<IPython.core.display.HTML object>"
            ],
            "text/html": [
              " View project at <a href='https://wandb.ai/ma23m011-iit-madras/DA6401_Assignment1_ma23m011' target=\"_blank\">https://wandb.ai/ma23m011-iit-madras/DA6401_Assignment1_ma23m011</a>"
            ]
          },
          "metadata": {}
        },
        {
          "output_type": "display_data",
          "data": {
            "text/plain": [
              "<IPython.core.display.HTML object>"
            ],
            "text/html": [
              " View sweep at <a href='https://wandb.ai/ma23m011-iit-madras/DA6401_Assignment1_ma23m011/sweeps/augzj4ot' target=\"_blank\">https://wandb.ai/ma23m011-iit-madras/DA6401_Assignment1_ma23m011/sweeps/augzj4ot</a>"
            ]
          },
          "metadata": {}
        },
        {
          "output_type": "display_data",
          "data": {
            "text/plain": [
              "<IPython.core.display.HTML object>"
            ],
            "text/html": [
              " View run at <a href='https://wandb.ai/ma23m011-iit-madras/DA6401_Assignment1_ma23m011/runs/3df7lmn4' target=\"_blank\">https://wandb.ai/ma23m011-iit-madras/DA6401_Assignment1_ma23m011/runs/3df7lmn4</a>"
            ]
          },
          "metadata": {}
        },
        {
          "output_type": "stream",
          "name": "stdout",
          "text": [
            "Epoch 1: Train Loss = 0.6289, Train Acc = 74.9778, Val Loss = 0.6276, Val Acc = 74.7000\n",
            "Epoch 2: Train Loss = 0.5327, Train Acc = 79.6685, Val Loss = 0.5405, Val Acc = 79.8500\n",
            "Epoch 3: Train Loss = 0.4782, Train Acc = 81.2852, Val Loss = 0.5051, Val Acc = 80.9000\n",
            "Epoch 4: Train Loss = 0.4394, Train Acc = 82.3111, Val Loss = 0.4706, Val Acc = 81.8500\n",
            "Epoch 5: Train Loss = 0.4648, Train Acc = 81.8333, Val Loss = 0.4973, Val Acc = 81.7167\n",
            "Epoch 6: Train Loss = 0.3399, Train Acc = 87.5000, Val Loss = 0.3888, Val Acc = 85.7833\n",
            "Epoch 7: Train Loss = 0.3338, Train Acc = 87.7778, Val Loss = 0.3958, Val Acc = 86.1500\n",
            "Epoch 8: Train Loss = 0.3321, Train Acc = 88.3833, Val Loss = 0.4010, Val Acc = 86.6000\n",
            "Epoch 9: Train Loss = 0.3040, Train Acc = 88.8389, Val Loss = 0.3726, Val Acc = 87.3000\n",
            "Epoch 10: Train Loss = 0.2874, Train Acc = 89.5370, Val Loss = 0.3828, Val Acc = 87.6333\n"
          ]
        },
        {
          "output_type": "display_data",
          "data": {
            "text/plain": [
              "<IPython.core.display.HTML object>"
            ],
            "text/html": []
          },
          "metadata": {}
        },
        {
          "output_type": "display_data",
          "data": {
            "text/plain": [
              "<IPython.core.display.HTML object>"
            ],
            "text/html": [
              "<br>    <style><br>        .wandb-row {<br>            display: flex;<br>            flex-direction: row;<br>            flex-wrap: wrap;<br>            justify-content: flex-start;<br>            width: 100%;<br>        }<br>        .wandb-col {<br>            display: flex;<br>            flex-direction: column;<br>            flex-basis: 100%;<br>            flex: 1;<br>            padding: 10px;<br>        }<br>    </style><br><div class=\"wandb-row\"><div class=\"wandb-col\"><h3>Run history:</h3><br/><table class=\"wandb\"><tr><td>Train_accuracy</td><td>▁▃▄▅▄▇▇▇██</td></tr><tr><td>Train_loss</td><td>█▆▅▄▅▂▂▂▁▁</td></tr><tr><td>Val_accuracy</td><td>▁▄▄▅▅▇▇▇██</td></tr><tr><td>Val_loss</td><td>█▆▅▄▄▁▂▂▁▁</td></tr><tr><td>epoch</td><td>▁▂▃▃▄▅▆▆▇█</td></tr></table><br/></div><div class=\"wandb-col\"><h3>Run summary:</h3><br/><table class=\"wandb\"><tr><td>Train_accuracy</td><td>89.53704</td></tr><tr><td>Train_loss</td><td>0.28739</td></tr><tr><td>Val_accuracy</td><td>87.63333</td></tr><tr><td>Val_loss</td><td>0.38278</td></tr><tr><td>epoch</td><td>10</td></tr></table><br/></div></div>"
            ]
          },
          "metadata": {}
        },
        {
          "output_type": "display_data",
          "data": {
            "text/plain": [
              "<IPython.core.display.HTML object>"
            ],
            "text/html": [
              " View run <strong style=\"color:#cdcd00\">-ac_relu-hs_128-epc_10-hl_5-regu_0-eta_0.001-optmz_adam-batch_16-wght_random</strong> at: <a href='https://wandb.ai/ma23m011-iit-madras/DA6401_Assignment1_ma23m011/runs/3df7lmn4' target=\"_blank\">https://wandb.ai/ma23m011-iit-madras/DA6401_Assignment1_ma23m011/runs/3df7lmn4</a><br> View project at: <a href='https://wandb.ai/ma23m011-iit-madras/DA6401_Assignment1_ma23m011' target=\"_blank\">https://wandb.ai/ma23m011-iit-madras/DA6401_Assignment1_ma23m011</a><br>Synced 5 W&B file(s), 0 media file(s), 0 artifact file(s) and 0 other file(s)"
            ]
          },
          "metadata": {}
        },
        {
          "output_type": "display_data",
          "data": {
            "text/plain": [
              "<IPython.core.display.HTML object>"
            ],
            "text/html": [
              "Find logs at: <code>./wandb/run-20250310_003534-3df7lmn4/logs</code>"
            ]
          },
          "metadata": {}
        },
        {
          "output_type": "stream",
          "name": "stderr",
          "text": [
            "\u001b[34m\u001b[1mwandb\u001b[0m: Agent Starting Run: h0krfs6o with config:\n",
            "\u001b[34m\u001b[1mwandb\u001b[0m: \tactivation: sigmoid\n",
            "\u001b[34m\u001b[1mwandb\u001b[0m: \tbatch_size: 32\n",
            "\u001b[34m\u001b[1mwandb\u001b[0m: \tepochs: 10\n",
            "\u001b[34m\u001b[1mwandb\u001b[0m: \thidden_layers: 4\n",
            "\u001b[34m\u001b[1mwandb\u001b[0m: \thidden_size: 128\n",
            "\u001b[34m\u001b[1mwandb\u001b[0m: \tlearning_rate: 0.0001\n",
            "\u001b[34m\u001b[1mwandb\u001b[0m: \toptimizer: adam\n",
            "\u001b[34m\u001b[1mwandb\u001b[0m: \tweight_decay: 0.0005\n",
            "\u001b[34m\u001b[1mwandb\u001b[0m: \tweight_init: xavier\n"
          ]
        },
        {
          "output_type": "display_data",
          "data": {
            "text/plain": [
              "<IPython.core.display.HTML object>"
            ],
            "text/html": [
              "Tracking run with wandb version 0.19.7"
            ]
          },
          "metadata": {}
        },
        {
          "output_type": "display_data",
          "data": {
            "text/plain": [
              "<IPython.core.display.HTML object>"
            ],
            "text/html": [
              "Run data is saved locally in <code>/content/wandb/run-20250310_004406-h0krfs6o</code>"
            ]
          },
          "metadata": {}
        },
        {
          "output_type": "display_data",
          "data": {
            "text/plain": [
              "<IPython.core.display.HTML object>"
            ],
            "text/html": [
              "Syncing run <strong><a href='https://wandb.ai/ma23m011-iit-madras/DA6401_Assignment1_ma23m011/runs/h0krfs6o' target=\"_blank\">leafy-sweep-12</a></strong> to <a href='https://wandb.ai/ma23m011-iit-madras/DA6401_Assignment1_ma23m011' target=\"_blank\">Weights & Biases</a> (<a href='https://wandb.me/developer-guide' target=\"_blank\">docs</a>)<br>Sweep page: <a href='https://wandb.ai/ma23m011-iit-madras/DA6401_Assignment1_ma23m011/sweeps/augzj4ot' target=\"_blank\">https://wandb.ai/ma23m011-iit-madras/DA6401_Assignment1_ma23m011/sweeps/augzj4ot</a>"
            ]
          },
          "metadata": {}
        },
        {
          "output_type": "display_data",
          "data": {
            "text/plain": [
              "<IPython.core.display.HTML object>"
            ],
            "text/html": [
              " View project at <a href='https://wandb.ai/ma23m011-iit-madras/DA6401_Assignment1_ma23m011' target=\"_blank\">https://wandb.ai/ma23m011-iit-madras/DA6401_Assignment1_ma23m011</a>"
            ]
          },
          "metadata": {}
        },
        {
          "output_type": "display_data",
          "data": {
            "text/plain": [
              "<IPython.core.display.HTML object>"
            ],
            "text/html": [
              " View sweep at <a href='https://wandb.ai/ma23m011-iit-madras/DA6401_Assignment1_ma23m011/sweeps/augzj4ot' target=\"_blank\">https://wandb.ai/ma23m011-iit-madras/DA6401_Assignment1_ma23m011/sweeps/augzj4ot</a>"
            ]
          },
          "metadata": {}
        },
        {
          "output_type": "display_data",
          "data": {
            "text/plain": [
              "<IPython.core.display.HTML object>"
            ],
            "text/html": [
              " View run at <a href='https://wandb.ai/ma23m011-iit-madras/DA6401_Assignment1_ma23m011/runs/h0krfs6o' target=\"_blank\">https://wandb.ai/ma23m011-iit-madras/DA6401_Assignment1_ma23m011/runs/h0krfs6o</a>"
            ]
          },
          "metadata": {}
        },
        {
          "output_type": "stream",
          "name": "stdout",
          "text": [
            "Epoch 1: Train Loss = 1.4368, Train Acc = 50.1222, Val Loss = 1.4263, Val Acc = 51.0500\n",
            "Epoch 2: Train Loss = 1.1664, Train Acc = 66.2815, Val Loss = 1.1557, Val Acc = 66.9167\n",
            "Epoch 3: Train Loss = 1.0308, Train Acc = 74.6926, Val Loss = 1.0317, Val Acc = 75.2333\n",
            "Epoch 4: Train Loss = 0.9689, Train Acc = 77.5222, Val Loss = 0.9756, Val Acc = 77.6000\n",
            "Epoch 5: Train Loss = 0.9380, Train Acc = 78.7481, Val Loss = 0.9451, Val Acc = 78.9333\n",
            "Epoch 6: Train Loss = 0.9257, Train Acc = 79.5019, Val Loss = 0.9357, Val Acc = 79.4833\n",
            "Epoch 7: Train Loss = 0.9148, Train Acc = 80.4333, Val Loss = 0.9258, Val Acc = 80.3500\n",
            "Epoch 8: Train Loss = 0.9031, Train Acc = 81.1093, Val Loss = 0.9174, Val Acc = 81.0167\n",
            "Epoch 9: Train Loss = 0.8956, Train Acc = 81.5722, Val Loss = 0.9082, Val Acc = 81.2667\n",
            "Epoch 10: Train Loss = 0.8930, Train Acc = 81.7444, Val Loss = 0.9031, Val Acc = 81.4333\n"
          ]
        },
        {
          "output_type": "display_data",
          "data": {
            "text/plain": [
              "<IPython.core.display.HTML object>"
            ],
            "text/html": []
          },
          "metadata": {}
        },
        {
          "output_type": "display_data",
          "data": {
            "text/plain": [
              "<IPython.core.display.HTML object>"
            ],
            "text/html": [
              "<br>    <style><br>        .wandb-row {<br>            display: flex;<br>            flex-direction: row;<br>            flex-wrap: wrap;<br>            justify-content: flex-start;<br>            width: 100%;<br>        }<br>        .wandb-col {<br>            display: flex;<br>            flex-direction: column;<br>            flex-basis: 100%;<br>            flex: 1;<br>            padding: 10px;<br>        }<br>    </style><br><div class=\"wandb-row\"><div class=\"wandb-col\"><h3>Run history:</h3><br/><table class=\"wandb\"><tr><td>Train_accuracy</td><td>▁▅▆▇▇█████</td></tr><tr><td>Train_loss</td><td>█▅▃▂▂▁▁▁▁▁</td></tr><tr><td>Val_accuracy</td><td>▁▅▇▇▇█████</td></tr><tr><td>Val_loss</td><td>█▄▃▂▂▁▁▁▁▁</td></tr><tr><td>epoch</td><td>▁▂▃▃▄▅▆▆▇█</td></tr></table><br/></div><div class=\"wandb-col\"><h3>Run summary:</h3><br/><table class=\"wandb\"><tr><td>Train_accuracy</td><td>81.74444</td></tr><tr><td>Train_loss</td><td>0.893</td></tr><tr><td>Val_accuracy</td><td>81.43333</td></tr><tr><td>Val_loss</td><td>0.90308</td></tr><tr><td>epoch</td><td>10</td></tr></table><br/></div></div>"
            ]
          },
          "metadata": {}
        },
        {
          "output_type": "display_data",
          "data": {
            "text/plain": [
              "<IPython.core.display.HTML object>"
            ],
            "text/html": [
              " View run <strong style=\"color:#cdcd00\">-ac_sigmoid-hs_128-epc_10-hl_4-regu_0.0005-eta_0.0001-optmz_adam-batch_32-wght_xavier</strong> at: <a href='https://wandb.ai/ma23m011-iit-madras/DA6401_Assignment1_ma23m011/runs/h0krfs6o' target=\"_blank\">https://wandb.ai/ma23m011-iit-madras/DA6401_Assignment1_ma23m011/runs/h0krfs6o</a><br> View project at: <a href='https://wandb.ai/ma23m011-iit-madras/DA6401_Assignment1_ma23m011' target=\"_blank\">https://wandb.ai/ma23m011-iit-madras/DA6401_Assignment1_ma23m011</a><br>Synced 5 W&B file(s), 0 media file(s), 0 artifact file(s) and 0 other file(s)"
            ]
          },
          "metadata": {}
        },
        {
          "output_type": "display_data",
          "data": {
            "text/plain": [
              "<IPython.core.display.HTML object>"
            ],
            "text/html": [
              "Find logs at: <code>./wandb/run-20250310_004406-h0krfs6o/logs</code>"
            ]
          },
          "metadata": {}
        },
        {
          "output_type": "stream",
          "name": "stderr",
          "text": [
            "\u001b[34m\u001b[1mwandb\u001b[0m: Agent Starting Run: a5nra6ex with config:\n",
            "\u001b[34m\u001b[1mwandb\u001b[0m: \tactivation: relu\n",
            "\u001b[34m\u001b[1mwandb\u001b[0m: \tbatch_size: 16\n",
            "\u001b[34m\u001b[1mwandb\u001b[0m: \tepochs: 5\n",
            "\u001b[34m\u001b[1mwandb\u001b[0m: \thidden_layers: 5\n",
            "\u001b[34m\u001b[1mwandb\u001b[0m: \thidden_size: 32\n",
            "\u001b[34m\u001b[1mwandb\u001b[0m: \tlearning_rate: 0.001\n",
            "\u001b[34m\u001b[1mwandb\u001b[0m: \toptimizer: sgd\n",
            "\u001b[34m\u001b[1mwandb\u001b[0m: \tweight_decay: 0.5\n",
            "\u001b[34m\u001b[1mwandb\u001b[0m: \tweight_init: xavier\n"
          ]
        },
        {
          "output_type": "display_data",
          "data": {
            "text/plain": [
              "<IPython.core.display.HTML object>"
            ],
            "text/html": [
              "Tracking run with wandb version 0.19.7"
            ]
          },
          "metadata": {}
        },
        {
          "output_type": "display_data",
          "data": {
            "text/plain": [
              "<IPython.core.display.HTML object>"
            ],
            "text/html": [
              "Run data is saved locally in <code>/content/wandb/run-20250310_004701-a5nra6ex</code>"
            ]
          },
          "metadata": {}
        },
        {
          "output_type": "display_data",
          "data": {
            "text/plain": [
              "<IPython.core.display.HTML object>"
            ],
            "text/html": [
              "Syncing run <strong><a href='https://wandb.ai/ma23m011-iit-madras/DA6401_Assignment1_ma23m011/runs/a5nra6ex' target=\"_blank\">eternal-sweep-13</a></strong> to <a href='https://wandb.ai/ma23m011-iit-madras/DA6401_Assignment1_ma23m011' target=\"_blank\">Weights & Biases</a> (<a href='https://wandb.me/developer-guide' target=\"_blank\">docs</a>)<br>Sweep page: <a href='https://wandb.ai/ma23m011-iit-madras/DA6401_Assignment1_ma23m011/sweeps/augzj4ot' target=\"_blank\">https://wandb.ai/ma23m011-iit-madras/DA6401_Assignment1_ma23m011/sweeps/augzj4ot</a>"
            ]
          },
          "metadata": {}
        },
        {
          "output_type": "display_data",
          "data": {
            "text/plain": [
              "<IPython.core.display.HTML object>"
            ],
            "text/html": [
              " View project at <a href='https://wandb.ai/ma23m011-iit-madras/DA6401_Assignment1_ma23m011' target=\"_blank\">https://wandb.ai/ma23m011-iit-madras/DA6401_Assignment1_ma23m011</a>"
            ]
          },
          "metadata": {}
        },
        {
          "output_type": "display_data",
          "data": {
            "text/plain": [
              "<IPython.core.display.HTML object>"
            ],
            "text/html": [
              " View sweep at <a href='https://wandb.ai/ma23m011-iit-madras/DA6401_Assignment1_ma23m011/sweeps/augzj4ot' target=\"_blank\">https://wandb.ai/ma23m011-iit-madras/DA6401_Assignment1_ma23m011/sweeps/augzj4ot</a>"
            ]
          },
          "metadata": {}
        },
        {
          "output_type": "display_data",
          "data": {
            "text/plain": [
              "<IPython.core.display.HTML object>"
            ],
            "text/html": [
              " View run at <a href='https://wandb.ai/ma23m011-iit-madras/DA6401_Assignment1_ma23m011/runs/a5nra6ex' target=\"_blank\">https://wandb.ai/ma23m011-iit-madras/DA6401_Assignment1_ma23m011/runs/a5nra6ex</a>"
            ]
          },
          "metadata": {}
        },
        {
          "output_type": "stream",
          "name": "stdout",
          "text": [
            "Epoch 1: Train Loss = 10.4337, Train Acc = 71.2296, Val Loss = 10.4205, Val Acc = 71.5333\n",
            "Epoch 2: Train Loss = 9.1059, Train Acc = 73.9389, Val Loss = 9.0955, Val Acc = 74.9167\n",
            "Epoch 3: Train Loss = 8.9651, Train Acc = 74.4907, Val Loss = 8.9617, Val Acc = 74.3833\n",
            "Epoch 4: Train Loss = 8.8555, Train Acc = 72.6574, Val Loss = 8.8487, Val Acc = 73.1333\n",
            "Epoch 5: Train Loss = 8.8419, Train Acc = 74.0370, Val Loss = 8.8366, Val Acc = 74.7167\n"
          ]
        },
        {
          "output_type": "display_data",
          "data": {
            "text/plain": [
              "<IPython.core.display.HTML object>"
            ],
            "text/html": []
          },
          "metadata": {}
        },
        {
          "output_type": "display_data",
          "data": {
            "text/plain": [
              "<IPython.core.display.HTML object>"
            ],
            "text/html": [
              "<br>    <style><br>        .wandb-row {<br>            display: flex;<br>            flex-direction: row;<br>            flex-wrap: wrap;<br>            justify-content: flex-start;<br>            width: 100%;<br>        }<br>        .wandb-col {<br>            display: flex;<br>            flex-direction: column;<br>            flex-basis: 100%;<br>            flex: 1;<br>            padding: 10px;<br>        }<br>    </style><br><div class=\"wandb-row\"><div class=\"wandb-col\"><h3>Run history:</h3><br/><table class=\"wandb\"><tr><td>Train_accuracy</td><td>▁▇█▄▇</td></tr><tr><td>Train_loss</td><td>█▂▂▁▁</td></tr><tr><td>Val_accuracy</td><td>▁█▇▄█</td></tr><tr><td>Val_loss</td><td>█▂▂▁▁</td></tr><tr><td>epoch</td><td>▁▃▅▆█</td></tr></table><br/></div><div class=\"wandb-col\"><h3>Run summary:</h3><br/><table class=\"wandb\"><tr><td>Train_accuracy</td><td>74.03704</td></tr><tr><td>Train_loss</td><td>8.84189</td></tr><tr><td>Val_accuracy</td><td>74.71667</td></tr><tr><td>Val_loss</td><td>8.83656</td></tr><tr><td>epoch</td><td>5</td></tr></table><br/></div></div>"
            ]
          },
          "metadata": {}
        },
        {
          "output_type": "display_data",
          "data": {
            "text/plain": [
              "<IPython.core.display.HTML object>"
            ],
            "text/html": [
              " View run <strong style=\"color:#cdcd00\">-ac_relu-hs_32-epc_5-hl_5-regu_0.5-eta_0.001-optmz_sgd-batch_16-wght_xavier</strong> at: <a href='https://wandb.ai/ma23m011-iit-madras/DA6401_Assignment1_ma23m011/runs/a5nra6ex' target=\"_blank\">https://wandb.ai/ma23m011-iit-madras/DA6401_Assignment1_ma23m011/runs/a5nra6ex</a><br> View project at: <a href='https://wandb.ai/ma23m011-iit-madras/DA6401_Assignment1_ma23m011' target=\"_blank\">https://wandb.ai/ma23m011-iit-madras/DA6401_Assignment1_ma23m011</a><br>Synced 5 W&B file(s), 0 media file(s), 0 artifact file(s) and 0 other file(s)"
            ]
          },
          "metadata": {}
        },
        {
          "output_type": "display_data",
          "data": {
            "text/plain": [
              "<IPython.core.display.HTML object>"
            ],
            "text/html": [
              "Find logs at: <code>./wandb/run-20250310_004701-a5nra6ex/logs</code>"
            ]
          },
          "metadata": {}
        },
        {
          "output_type": "stream",
          "name": "stderr",
          "text": [
            "\u001b[34m\u001b[1mwandb\u001b[0m: Sweep Agent: Waiting for job.\n",
            "\u001b[34m\u001b[1mwandb\u001b[0m: Job received.\n",
            "\u001b[34m\u001b[1mwandb\u001b[0m: Agent Starting Run: vnqilo8g with config:\n",
            "\u001b[34m\u001b[1mwandb\u001b[0m: \tactivation: relu\n",
            "\u001b[34m\u001b[1mwandb\u001b[0m: \tbatch_size: 64\n",
            "\u001b[34m\u001b[1mwandb\u001b[0m: \tepochs: 10\n",
            "\u001b[34m\u001b[1mwandb\u001b[0m: \thidden_layers: 5\n",
            "\u001b[34m\u001b[1mwandb\u001b[0m: \thidden_size: 32\n",
            "\u001b[34m\u001b[1mwandb\u001b[0m: \tlearning_rate: 0.0001\n",
            "\u001b[34m\u001b[1mwandb\u001b[0m: \toptimizer: sgd\n",
            "\u001b[34m\u001b[1mwandb\u001b[0m: \tweight_decay: 0\n",
            "\u001b[34m\u001b[1mwandb\u001b[0m: \tweight_init: xavier\n"
          ]
        },
        {
          "output_type": "display_data",
          "data": {
            "text/plain": [
              "<IPython.core.display.HTML object>"
            ],
            "text/html": [
              "Tracking run with wandb version 0.19.7"
            ]
          },
          "metadata": {}
        },
        {
          "output_type": "display_data",
          "data": {
            "text/plain": [
              "<IPython.core.display.HTML object>"
            ],
            "text/html": [
              "Run data is saved locally in <code>/content/wandb/run-20250310_004736-vnqilo8g</code>"
            ]
          },
          "metadata": {}
        },
        {
          "output_type": "display_data",
          "data": {
            "text/plain": [
              "<IPython.core.display.HTML object>"
            ],
            "text/html": [
              "Syncing run <strong><a href='https://wandb.ai/ma23m011-iit-madras/DA6401_Assignment1_ma23m011/runs/vnqilo8g' target=\"_blank\">desert-sweep-14</a></strong> to <a href='https://wandb.ai/ma23m011-iit-madras/DA6401_Assignment1_ma23m011' target=\"_blank\">Weights & Biases</a> (<a href='https://wandb.me/developer-guide' target=\"_blank\">docs</a>)<br>Sweep page: <a href='https://wandb.ai/ma23m011-iit-madras/DA6401_Assignment1_ma23m011/sweeps/augzj4ot' target=\"_blank\">https://wandb.ai/ma23m011-iit-madras/DA6401_Assignment1_ma23m011/sweeps/augzj4ot</a>"
            ]
          },
          "metadata": {}
        },
        {
          "output_type": "display_data",
          "data": {
            "text/plain": [
              "<IPython.core.display.HTML object>"
            ],
            "text/html": [
              " View project at <a href='https://wandb.ai/ma23m011-iit-madras/DA6401_Assignment1_ma23m011' target=\"_blank\">https://wandb.ai/ma23m011-iit-madras/DA6401_Assignment1_ma23m011</a>"
            ]
          },
          "metadata": {}
        },
        {
          "output_type": "display_data",
          "data": {
            "text/plain": [
              "<IPython.core.display.HTML object>"
            ],
            "text/html": [
              " View sweep at <a href='https://wandb.ai/ma23m011-iit-madras/DA6401_Assignment1_ma23m011/sweeps/augzj4ot' target=\"_blank\">https://wandb.ai/ma23m011-iit-madras/DA6401_Assignment1_ma23m011/sweeps/augzj4ot</a>"
            ]
          },
          "metadata": {}
        },
        {
          "output_type": "display_data",
          "data": {
            "text/plain": [
              "<IPython.core.display.HTML object>"
            ],
            "text/html": [
              " View run at <a href='https://wandb.ai/ma23m011-iit-madras/DA6401_Assignment1_ma23m011/runs/vnqilo8g' target=\"_blank\">https://wandb.ai/ma23m011-iit-madras/DA6401_Assignment1_ma23m011/runs/vnqilo8g</a>"
            ]
          },
          "metadata": {}
        },
        {
          "output_type": "stream",
          "name": "stdout",
          "text": [
            "Epoch 1: Train Loss = 1.0930, Train Acc = 56.6222, Val Loss = 1.0724, Val Acc = 57.8167\n",
            "Epoch 2: Train Loss = 0.7989, Train Acc = 70.2574, Val Loss = 0.7908, Val Acc = 70.9000\n",
            "Epoch 3: Train Loss = 0.6860, Train Acc = 77.0889, Val Loss = 0.6836, Val Acc = 77.2167\n",
            "Epoch 4: Train Loss = 0.5983, Train Acc = 79.7926, Val Loss = 0.6013, Val Acc = 79.6167\n",
            "Epoch 5: Train Loss = 0.5855, Train Acc = 79.4852, Val Loss = 0.5986, Val Acc = 77.9500\n",
            "Epoch 6: Train Loss = 0.5246, Train Acc = 81.7148, Val Loss = 0.5404, Val Acc = 80.1000\n",
            "Epoch 7: Train Loss = 0.4967, Train Acc = 82.9296, Val Loss = 0.5081, Val Acc = 82.0500\n",
            "Epoch 8: Train Loss = 0.4807, Train Acc = 83.0944, Val Loss = 0.5023, Val Acc = 82.2833\n",
            "Epoch 9: Train Loss = 0.4568, Train Acc = 83.9463, Val Loss = 0.4754, Val Acc = 82.8333\n",
            "Epoch 10: Train Loss = 0.4433, Train Acc = 84.4426, Val Loss = 0.4616, Val Acc = 83.3000\n"
          ]
        },
        {
          "output_type": "display_data",
          "data": {
            "text/plain": [
              "<IPython.core.display.HTML object>"
            ],
            "text/html": []
          },
          "metadata": {}
        },
        {
          "output_type": "display_data",
          "data": {
            "text/plain": [
              "<IPython.core.display.HTML object>"
            ],
            "text/html": [
              "<br>    <style><br>        .wandb-row {<br>            display: flex;<br>            flex-direction: row;<br>            flex-wrap: wrap;<br>            justify-content: flex-start;<br>            width: 100%;<br>        }<br>        .wandb-col {<br>            display: flex;<br>            flex-direction: column;<br>            flex-basis: 100%;<br>            flex: 1;<br>            padding: 10px;<br>        }<br>    </style><br><div class=\"wandb-row\"><div class=\"wandb-col\"><h3>Run history:</h3><br/><table class=\"wandb\"><tr><td>Train_accuracy</td><td>▁▄▆▇▇▇████</td></tr><tr><td>Train_loss</td><td>█▅▄▃▃▂▂▁▁▁</td></tr><tr><td>Val_accuracy</td><td>▁▅▆▇▇▇████</td></tr><tr><td>Val_loss</td><td>█▅▄▃▃▂▂▁▁▁</td></tr><tr><td>epoch</td><td>▁▂▃▃▄▅▆▆▇█</td></tr></table><br/></div><div class=\"wandb-col\"><h3>Run summary:</h3><br/><table class=\"wandb\"><tr><td>Train_accuracy</td><td>84.44259</td></tr><tr><td>Train_loss</td><td>0.44333</td></tr><tr><td>Val_accuracy</td><td>83.3</td></tr><tr><td>Val_loss</td><td>0.46156</td></tr><tr><td>epoch</td><td>10</td></tr></table><br/></div></div>"
            ]
          },
          "metadata": {}
        },
        {
          "output_type": "display_data",
          "data": {
            "text/plain": [
              "<IPython.core.display.HTML object>"
            ],
            "text/html": [
              " View run <strong style=\"color:#cdcd00\">-ac_relu-hs_32-epc_10-hl_5-regu_0-eta_0.0001-optmz_sgd-batch_64-wght_xavier</strong> at: <a href='https://wandb.ai/ma23m011-iit-madras/DA6401_Assignment1_ma23m011/runs/vnqilo8g' target=\"_blank\">https://wandb.ai/ma23m011-iit-madras/DA6401_Assignment1_ma23m011/runs/vnqilo8g</a><br> View project at: <a href='https://wandb.ai/ma23m011-iit-madras/DA6401_Assignment1_ma23m011' target=\"_blank\">https://wandb.ai/ma23m011-iit-madras/DA6401_Assignment1_ma23m011</a><br>Synced 5 W&B file(s), 0 media file(s), 0 artifact file(s) and 0 other file(s)"
            ]
          },
          "metadata": {}
        },
        {
          "output_type": "display_data",
          "data": {
            "text/plain": [
              "<IPython.core.display.HTML object>"
            ],
            "text/html": [
              "Find logs at: <code>./wandb/run-20250310_004736-vnqilo8g/logs</code>"
            ]
          },
          "metadata": {}
        },
        {
          "output_type": "stream",
          "name": "stderr",
          "text": [
            "\u001b[34m\u001b[1mwandb\u001b[0m: Agent Starting Run: vnsvpdir with config:\n",
            "\u001b[34m\u001b[1mwandb\u001b[0m: \tactivation: sigmoid\n",
            "\u001b[34m\u001b[1mwandb\u001b[0m: \tbatch_size: 16\n",
            "\u001b[34m\u001b[1mwandb\u001b[0m: \tepochs: 5\n",
            "\u001b[34m\u001b[1mwandb\u001b[0m: \thidden_layers: 3\n",
            "\u001b[34m\u001b[1mwandb\u001b[0m: \thidden_size: 64\n",
            "\u001b[34m\u001b[1mwandb\u001b[0m: \tlearning_rate: 0.0001\n",
            "\u001b[34m\u001b[1mwandb\u001b[0m: \toptimizer: sgd\n",
            "\u001b[34m\u001b[1mwandb\u001b[0m: \tweight_decay: 0.5\n",
            "\u001b[34m\u001b[1mwandb\u001b[0m: \tweight_init: random\n"
          ]
        },
        {
          "output_type": "display_data",
          "data": {
            "text/plain": [
              "<IPython.core.display.HTML object>"
            ],
            "text/html": [
              "Tracking run with wandb version 0.19.7"
            ]
          },
          "metadata": {}
        },
        {
          "output_type": "display_data",
          "data": {
            "text/plain": [
              "<IPython.core.display.HTML object>"
            ],
            "text/html": [
              "Run data is saved locally in <code>/content/wandb/run-20250310_004807-vnsvpdir</code>"
            ]
          },
          "metadata": {}
        },
        {
          "output_type": "display_data",
          "data": {
            "text/plain": [
              "<IPython.core.display.HTML object>"
            ],
            "text/html": [
              "Syncing run <strong><a href='https://wandb.ai/ma23m011-iit-madras/DA6401_Assignment1_ma23m011/runs/vnsvpdir' target=\"_blank\">kind-sweep-15</a></strong> to <a href='https://wandb.ai/ma23m011-iit-madras/DA6401_Assignment1_ma23m011' target=\"_blank\">Weights & Biases</a> (<a href='https://wandb.me/developer-guide' target=\"_blank\">docs</a>)<br>Sweep page: <a href='https://wandb.ai/ma23m011-iit-madras/DA6401_Assignment1_ma23m011/sweeps/augzj4ot' target=\"_blank\">https://wandb.ai/ma23m011-iit-madras/DA6401_Assignment1_ma23m011/sweeps/augzj4ot</a>"
            ]
          },
          "metadata": {}
        },
        {
          "output_type": "display_data",
          "data": {
            "text/plain": [
              "<IPython.core.display.HTML object>"
            ],
            "text/html": [
              " View project at <a href='https://wandb.ai/ma23m011-iit-madras/DA6401_Assignment1_ma23m011' target=\"_blank\">https://wandb.ai/ma23m011-iit-madras/DA6401_Assignment1_ma23m011</a>"
            ]
          },
          "metadata": {}
        },
        {
          "output_type": "display_data",
          "data": {
            "text/plain": [
              "<IPython.core.display.HTML object>"
            ],
            "text/html": [
              " View sweep at <a href='https://wandb.ai/ma23m011-iit-madras/DA6401_Assignment1_ma23m011/sweeps/augzj4ot' target=\"_blank\">https://wandb.ai/ma23m011-iit-madras/DA6401_Assignment1_ma23m011/sweeps/augzj4ot</a>"
            ]
          },
          "metadata": {}
        },
        {
          "output_type": "display_data",
          "data": {
            "text/plain": [
              "<IPython.core.display.HTML object>"
            ],
            "text/html": [
              " View run at <a href='https://wandb.ai/ma23m011-iit-madras/DA6401_Assignment1_ma23m011/runs/vnsvpdir' target=\"_blank\">https://wandb.ai/ma23m011-iit-madras/DA6401_Assignment1_ma23m011/runs/vnsvpdir</a>"
            ]
          },
          "metadata": {}
        },
        {
          "output_type": "stream",
          "name": "stdout",
          "text": [
            "Epoch 1: Train Loss = 3.3547, Train Acc = 9.9963, Val Loss = 3.3546, Val Acc = 10.0333\n",
            "Epoch 2: Train Loss = 3.0537, Train Acc = 10.0648, Val Loss = 3.0543, Val Acc = 9.4167\n",
            "Epoch 3: Train Loss = 2.8384, Train Acc = 9.9963, Val Loss = 2.8384, Val Acc = 10.0333\n",
            "Epoch 4: Train Loss = 2.6851, Train Acc = 10.0648, Val Loss = 2.6853, Val Acc = 9.4167\n",
            "Epoch 5: Train Loss = 2.5755, Train Acc = 10.0648, Val Loss = 2.5753, Val Acc = 9.4167\n"
          ]
        },
        {
          "output_type": "display_data",
          "data": {
            "text/plain": [
              "<IPython.core.display.HTML object>"
            ],
            "text/html": []
          },
          "metadata": {}
        },
        {
          "output_type": "display_data",
          "data": {
            "text/plain": [
              "<IPython.core.display.HTML object>"
            ],
            "text/html": [
              "<br>    <style><br>        .wandb-row {<br>            display: flex;<br>            flex-direction: row;<br>            flex-wrap: wrap;<br>            justify-content: flex-start;<br>            width: 100%;<br>        }<br>        .wandb-col {<br>            display: flex;<br>            flex-direction: column;<br>            flex-basis: 100%;<br>            flex: 1;<br>            padding: 10px;<br>        }<br>    </style><br><div class=\"wandb-row\"><div class=\"wandb-col\"><h3>Run history:</h3><br/><table class=\"wandb\"><tr><td>Train_accuracy</td><td>▁█▁██</td></tr><tr><td>Train_loss</td><td>█▅▃▂▁</td></tr><tr><td>Val_accuracy</td><td>█▁█▁▁</td></tr><tr><td>Val_loss</td><td>█▅▃▂▁</td></tr><tr><td>epoch</td><td>▁▃▅▆█</td></tr></table><br/></div><div class=\"wandb-col\"><h3>Run summary:</h3><br/><table class=\"wandb\"><tr><td>Train_accuracy</td><td>10.06481</td></tr><tr><td>Train_loss</td><td>2.57553</td></tr><tr><td>Val_accuracy</td><td>9.41667</td></tr><tr><td>Val_loss</td><td>2.57534</td></tr><tr><td>epoch</td><td>5</td></tr></table><br/></div></div>"
            ]
          },
          "metadata": {}
        },
        {
          "output_type": "display_data",
          "data": {
            "text/plain": [
              "<IPython.core.display.HTML object>"
            ],
            "text/html": [
              " View run <strong style=\"color:#cdcd00\">-ac_sigmoid-hs_64-epc_5-hl_3-regu_0.5-eta_0.0001-optmz_sgd-batch_16-wght_random</strong> at: <a href='https://wandb.ai/ma23m011-iit-madras/DA6401_Assignment1_ma23m011/runs/vnsvpdir' target=\"_blank\">https://wandb.ai/ma23m011-iit-madras/DA6401_Assignment1_ma23m011/runs/vnsvpdir</a><br> View project at: <a href='https://wandb.ai/ma23m011-iit-madras/DA6401_Assignment1_ma23m011' target=\"_blank\">https://wandb.ai/ma23m011-iit-madras/DA6401_Assignment1_ma23m011</a><br>Synced 5 W&B file(s), 0 media file(s), 0 artifact file(s) and 0 other file(s)"
            ]
          },
          "metadata": {}
        },
        {
          "output_type": "display_data",
          "data": {
            "text/plain": [
              "<IPython.core.display.HTML object>"
            ],
            "text/html": [
              "Find logs at: <code>./wandb/run-20250310_004807-vnsvpdir/logs</code>"
            ]
          },
          "metadata": {}
        },
        {
          "output_type": "stream",
          "name": "stderr",
          "text": [
            "\u001b[34m\u001b[1mwandb\u001b[0m: Agent Starting Run: xwbvbwlx with config:\n",
            "\u001b[34m\u001b[1mwandb\u001b[0m: \tactivation: sigmoid\n",
            "\u001b[34m\u001b[1mwandb\u001b[0m: \tbatch_size: 32\n",
            "\u001b[34m\u001b[1mwandb\u001b[0m: \tepochs: 5\n",
            "\u001b[34m\u001b[1mwandb\u001b[0m: \thidden_layers: 3\n",
            "\u001b[34m\u001b[1mwandb\u001b[0m: \thidden_size: 64\n",
            "\u001b[34m\u001b[1mwandb\u001b[0m: \tlearning_rate: 0.001\n",
            "\u001b[34m\u001b[1mwandb\u001b[0m: \toptimizer: nadam\n",
            "\u001b[34m\u001b[1mwandb\u001b[0m: \tweight_decay: 0\n",
            "\u001b[34m\u001b[1mwandb\u001b[0m: \tweight_init: xavier\n"
          ]
        },
        {
          "output_type": "display_data",
          "data": {
            "text/plain": [
              "<IPython.core.display.HTML object>"
            ],
            "text/html": [
              "Tracking run with wandb version 0.19.7"
            ]
          },
          "metadata": {}
        },
        {
          "output_type": "display_data",
          "data": {
            "text/plain": [
              "<IPython.core.display.HTML object>"
            ],
            "text/html": [
              "Run data is saved locally in <code>/content/wandb/run-20250310_004848-xwbvbwlx</code>"
            ]
          },
          "metadata": {}
        },
        {
          "output_type": "display_data",
          "data": {
            "text/plain": [
              "<IPython.core.display.HTML object>"
            ],
            "text/html": [
              "Syncing run <strong><a href='https://wandb.ai/ma23m011-iit-madras/DA6401_Assignment1_ma23m011/runs/xwbvbwlx' target=\"_blank\">lemon-sweep-16</a></strong> to <a href='https://wandb.ai/ma23m011-iit-madras/DA6401_Assignment1_ma23m011' target=\"_blank\">Weights & Biases</a> (<a href='https://wandb.me/developer-guide' target=\"_blank\">docs</a>)<br>Sweep page: <a href='https://wandb.ai/ma23m011-iit-madras/DA6401_Assignment1_ma23m011/sweeps/augzj4ot' target=\"_blank\">https://wandb.ai/ma23m011-iit-madras/DA6401_Assignment1_ma23m011/sweeps/augzj4ot</a>"
            ]
          },
          "metadata": {}
        },
        {
          "output_type": "display_data",
          "data": {
            "text/plain": [
              "<IPython.core.display.HTML object>"
            ],
            "text/html": [
              " View project at <a href='https://wandb.ai/ma23m011-iit-madras/DA6401_Assignment1_ma23m011' target=\"_blank\">https://wandb.ai/ma23m011-iit-madras/DA6401_Assignment1_ma23m011</a>"
            ]
          },
          "metadata": {}
        },
        {
          "output_type": "display_data",
          "data": {
            "text/plain": [
              "<IPython.core.display.HTML object>"
            ],
            "text/html": [
              " View sweep at <a href='https://wandb.ai/ma23m011-iit-madras/DA6401_Assignment1_ma23m011/sweeps/augzj4ot' target=\"_blank\">https://wandb.ai/ma23m011-iit-madras/DA6401_Assignment1_ma23m011/sweeps/augzj4ot</a>"
            ]
          },
          "metadata": {}
        },
        {
          "output_type": "display_data",
          "data": {
            "text/plain": [
              "<IPython.core.display.HTML object>"
            ],
            "text/html": [
              " View run at <a href='https://wandb.ai/ma23m011-iit-madras/DA6401_Assignment1_ma23m011/runs/xwbvbwlx' target=\"_blank\">https://wandb.ai/ma23m011-iit-madras/DA6401_Assignment1_ma23m011/runs/xwbvbwlx</a>"
            ]
          },
          "metadata": {}
        },
        {
          "output_type": "stream",
          "name": "stdout",
          "text": [
            "Epoch 1: Train Loss = 16.5633, Train Acc = 10.0833, Val Loss = 16.7168, Val Acc = 9.2500\n",
            "Epoch 2: Train Loss = 14.8666, Train Acc = 10.0833, Val Loss = 14.9520, Val Acc = 9.2500\n",
            "Epoch 3: Train Loss = 13.4326, Train Acc = 9.9648, Val Loss = 13.5033, Val Acc = 10.3167\n",
            "Epoch 4: Train Loss = 11.6044, Train Acc = 10.0833, Val Loss = 11.6298, Val Acc = 9.2500\n",
            "Epoch 5: Train Loss = 11.6044, Train Acc = 10.0833, Val Loss = 11.6298, Val Acc = 9.2500\n"
          ]
        },
        {
          "output_type": "display_data",
          "data": {
            "text/plain": [
              "<IPython.core.display.HTML object>"
            ],
            "text/html": []
          },
          "metadata": {}
        },
        {
          "output_type": "display_data",
          "data": {
            "text/plain": [
              "<IPython.core.display.HTML object>"
            ],
            "text/html": [
              "<br>    <style><br>        .wandb-row {<br>            display: flex;<br>            flex-direction: row;<br>            flex-wrap: wrap;<br>            justify-content: flex-start;<br>            width: 100%;<br>        }<br>        .wandb-col {<br>            display: flex;<br>            flex-direction: column;<br>            flex-basis: 100%;<br>            flex: 1;<br>            padding: 10px;<br>        }<br>    </style><br><div class=\"wandb-row\"><div class=\"wandb-col\"><h3>Run history:</h3><br/><table class=\"wandb\"><tr><td>Train_accuracy</td><td>██▁██</td></tr><tr><td>Train_loss</td><td>█▆▄▁▁</td></tr><tr><td>Val_accuracy</td><td>▁▁█▁▁</td></tr><tr><td>Val_loss</td><td>█▆▄▁▁</td></tr><tr><td>epoch</td><td>▁▃▅▆█</td></tr></table><br/></div><div class=\"wandb-col\"><h3>Run summary:</h3><br/><table class=\"wandb\"><tr><td>Train_accuracy</td><td>10.08333</td></tr><tr><td>Train_loss</td><td>11.60443</td></tr><tr><td>Val_accuracy</td><td>9.25</td></tr><tr><td>Val_loss</td><td>11.62981</td></tr><tr><td>epoch</td><td>5</td></tr></table><br/></div></div>"
            ]
          },
          "metadata": {}
        },
        {
          "output_type": "display_data",
          "data": {
            "text/plain": [
              "<IPython.core.display.HTML object>"
            ],
            "text/html": [
              " View run <strong style=\"color:#cdcd00\">-ac_sigmoid-hs_64-epc_5-hl_3-regu_0-eta_0.001-optmz_nadam-batch_32-wght_xavier</strong> at: <a href='https://wandb.ai/ma23m011-iit-madras/DA6401_Assignment1_ma23m011/runs/xwbvbwlx' target=\"_blank\">https://wandb.ai/ma23m011-iit-madras/DA6401_Assignment1_ma23m011/runs/xwbvbwlx</a><br> View project at: <a href='https://wandb.ai/ma23m011-iit-madras/DA6401_Assignment1_ma23m011' target=\"_blank\">https://wandb.ai/ma23m011-iit-madras/DA6401_Assignment1_ma23m011</a><br>Synced 5 W&B file(s), 0 media file(s), 0 artifact file(s) and 0 other file(s)"
            ]
          },
          "metadata": {}
        },
        {
          "output_type": "display_data",
          "data": {
            "text/plain": [
              "<IPython.core.display.HTML object>"
            ],
            "text/html": [
              "Find logs at: <code>./wandb/run-20250310_004848-xwbvbwlx/logs</code>"
            ]
          },
          "metadata": {}
        },
        {
          "output_type": "stream",
          "name": "stderr",
          "text": [
            "\u001b[34m\u001b[1mwandb\u001b[0m: Agent Starting Run: 3om4hhs6 with config:\n",
            "\u001b[34m\u001b[1mwandb\u001b[0m: \tactivation: tanh\n",
            "\u001b[34m\u001b[1mwandb\u001b[0m: \tbatch_size: 32\n",
            "\u001b[34m\u001b[1mwandb\u001b[0m: \tepochs: 10\n",
            "\u001b[34m\u001b[1mwandb\u001b[0m: \thidden_layers: 5\n",
            "\u001b[34m\u001b[1mwandb\u001b[0m: \thidden_size: 64\n",
            "\u001b[34m\u001b[1mwandb\u001b[0m: \tlearning_rate: 0.0001\n",
            "\u001b[34m\u001b[1mwandb\u001b[0m: \toptimizer: mgd\n",
            "\u001b[34m\u001b[1mwandb\u001b[0m: \tweight_decay: 0.5\n",
            "\u001b[34m\u001b[1mwandb\u001b[0m: \tweight_init: random\n"
          ]
        },
        {
          "output_type": "display_data",
          "data": {
            "text/plain": [
              "<IPython.core.display.HTML object>"
            ],
            "text/html": [
              "Tracking run with wandb version 0.19.7"
            ]
          },
          "metadata": {}
        },
        {
          "output_type": "display_data",
          "data": {
            "text/plain": [
              "<IPython.core.display.HTML object>"
            ],
            "text/html": [
              "Run data is saved locally in <code>/content/wandb/run-20250310_004929-3om4hhs6</code>"
            ]
          },
          "metadata": {}
        },
        {
          "output_type": "display_data",
          "data": {
            "text/plain": [
              "<IPython.core.display.HTML object>"
            ],
            "text/html": [
              "Syncing run <strong><a href='https://wandb.ai/ma23m011-iit-madras/DA6401_Assignment1_ma23m011/runs/3om4hhs6' target=\"_blank\">legendary-sweep-17</a></strong> to <a href='https://wandb.ai/ma23m011-iit-madras/DA6401_Assignment1_ma23m011' target=\"_blank\">Weights & Biases</a> (<a href='https://wandb.me/developer-guide' target=\"_blank\">docs</a>)<br>Sweep page: <a href='https://wandb.ai/ma23m011-iit-madras/DA6401_Assignment1_ma23m011/sweeps/augzj4ot' target=\"_blank\">https://wandb.ai/ma23m011-iit-madras/DA6401_Assignment1_ma23m011/sweeps/augzj4ot</a>"
            ]
          },
          "metadata": {}
        },
        {
          "output_type": "display_data",
          "data": {
            "text/plain": [
              "<IPython.core.display.HTML object>"
            ],
            "text/html": [
              " View project at <a href='https://wandb.ai/ma23m011-iit-madras/DA6401_Assignment1_ma23m011' target=\"_blank\">https://wandb.ai/ma23m011-iit-madras/DA6401_Assignment1_ma23m011</a>"
            ]
          },
          "metadata": {}
        },
        {
          "output_type": "display_data",
          "data": {
            "text/plain": [
              "<IPython.core.display.HTML object>"
            ],
            "text/html": [
              " View sweep at <a href='https://wandb.ai/ma23m011-iit-madras/DA6401_Assignment1_ma23m011/sweeps/augzj4ot' target=\"_blank\">https://wandb.ai/ma23m011-iit-madras/DA6401_Assignment1_ma23m011/sweeps/augzj4ot</a>"
            ]
          },
          "metadata": {}
        },
        {
          "output_type": "display_data",
          "data": {
            "text/plain": [
              "<IPython.core.display.HTML object>"
            ],
            "text/html": [
              " View run at <a href='https://wandb.ai/ma23m011-iit-madras/DA6401_Assignment1_ma23m011/runs/3om4hhs6' target=\"_blank\">https://wandb.ai/ma23m011-iit-madras/DA6401_Assignment1_ma23m011/runs/3om4hhs6</a>"
            ]
          },
          "metadata": {}
        },
        {
          "output_type": "stream",
          "name": "stdout",
          "text": [
            "Epoch 1: Train Loss = 3.9770, Train Acc = 9.6241, Val Loss = 3.9770, Val Acc = 9.4833\n",
            "Epoch 2: Train Loss = 3.9770, Train Acc = 9.6241, Val Loss = 3.9770, Val Acc = 9.4833\n",
            "Epoch 3: Train Loss = 3.9770, Train Acc = 9.6241, Val Loss = 3.9770, Val Acc = 9.4833\n",
            "Epoch 4: Train Loss = 3.9770, Train Acc = 9.6241, Val Loss = 3.9770, Val Acc = 9.4833\n",
            "Epoch 5: Train Loss = 3.9770, Train Acc = 9.6241, Val Loss = 3.9770, Val Acc = 9.4833\n",
            "Epoch 6: Train Loss = 3.9770, Train Acc = 9.6241, Val Loss = 3.9770, Val Acc = 9.4833\n",
            "Epoch 7: Train Loss = 3.9770, Train Acc = 9.6241, Val Loss = 3.9770, Val Acc = 9.4833\n",
            "Epoch 8: Train Loss = 3.9770, Train Acc = 9.6241, Val Loss = 3.9770, Val Acc = 9.4833\n",
            "Epoch 9: Train Loss = 3.9770, Train Acc = 9.6241, Val Loss = 3.9770, Val Acc = 9.4833\n",
            "Epoch 10: Train Loss = 3.9770, Train Acc = 9.6241, Val Loss = 3.9770, Val Acc = 9.4833\n"
          ]
        },
        {
          "output_type": "display_data",
          "data": {
            "text/plain": [
              "<IPython.core.display.HTML object>"
            ],
            "text/html": []
          },
          "metadata": {}
        },
        {
          "output_type": "display_data",
          "data": {
            "text/plain": [
              "<IPython.core.display.HTML object>"
            ],
            "text/html": [
              "<br>    <style><br>        .wandb-row {<br>            display: flex;<br>            flex-direction: row;<br>            flex-wrap: wrap;<br>            justify-content: flex-start;<br>            width: 100%;<br>        }<br>        .wandb-col {<br>            display: flex;<br>            flex-direction: column;<br>            flex-basis: 100%;<br>            flex: 1;<br>            padding: 10px;<br>        }<br>    </style><br><div class=\"wandb-row\"><div class=\"wandb-col\"><h3>Run history:</h3><br/><table class=\"wandb\"><tr><td>Train_accuracy</td><td>▁▁▁▁▁▁▁▁▁▁</td></tr><tr><td>Train_loss</td><td>▁▁▁▁▁▁▁▁▁▁</td></tr><tr><td>Val_accuracy</td><td>▁▁▁▁▁▁▁▁▁▁</td></tr><tr><td>Val_loss</td><td>▁▁▁▁▁▁▁▁▁▁</td></tr><tr><td>epoch</td><td>▁▂▃▃▄▅▆▆▇█</td></tr></table><br/></div><div class=\"wandb-col\"><h3>Run summary:</h3><br/><table class=\"wandb\"><tr><td>Train_accuracy</td><td>9.62407</td></tr><tr><td>Train_loss</td><td>3.97698</td></tr><tr><td>Val_accuracy</td><td>9.48333</td></tr><tr><td>Val_loss</td><td>3.97698</td></tr><tr><td>epoch</td><td>10</td></tr></table><br/></div></div>"
            ]
          },
          "metadata": {}
        },
        {
          "output_type": "display_data",
          "data": {
            "text/plain": [
              "<IPython.core.display.HTML object>"
            ],
            "text/html": [
              " View run <strong style=\"color:#cdcd00\">-ac_tanh-hs_64-epc_10-hl_5-regu_0.5-eta_0.0001-optmz_mgd-batch_32-wght_random</strong> at: <a href='https://wandb.ai/ma23m011-iit-madras/DA6401_Assignment1_ma23m011/runs/3om4hhs6' target=\"_blank\">https://wandb.ai/ma23m011-iit-madras/DA6401_Assignment1_ma23m011/runs/3om4hhs6</a><br> View project at: <a href='https://wandb.ai/ma23m011-iit-madras/DA6401_Assignment1_ma23m011' target=\"_blank\">https://wandb.ai/ma23m011-iit-madras/DA6401_Assignment1_ma23m011</a><br>Synced 5 W&B file(s), 0 media file(s), 0 artifact file(s) and 0 other file(s)"
            ]
          },
          "metadata": {}
        },
        {
          "output_type": "display_data",
          "data": {
            "text/plain": [
              "<IPython.core.display.HTML object>"
            ],
            "text/html": [
              "Find logs at: <code>./wandb/run-20250310_004929-3om4hhs6/logs</code>"
            ]
          },
          "metadata": {}
        },
        {
          "output_type": "stream",
          "name": "stderr",
          "text": [
            "\u001b[34m\u001b[1mwandb\u001b[0m: Agent Starting Run: qdtaucap with config:\n",
            "\u001b[34m\u001b[1mwandb\u001b[0m: \tactivation: tanh\n",
            "\u001b[34m\u001b[1mwandb\u001b[0m: \tbatch_size: 16\n",
            "\u001b[34m\u001b[1mwandb\u001b[0m: \tepochs: 5\n",
            "\u001b[34m\u001b[1mwandb\u001b[0m: \thidden_layers: 4\n",
            "\u001b[34m\u001b[1mwandb\u001b[0m: \thidden_size: 128\n",
            "\u001b[34m\u001b[1mwandb\u001b[0m: \tlearning_rate: 0.001\n",
            "\u001b[34m\u001b[1mwandb\u001b[0m: \toptimizer: rmsprop\n",
            "\u001b[34m\u001b[1mwandb\u001b[0m: \tweight_decay: 0.0005\n",
            "\u001b[34m\u001b[1mwandb\u001b[0m: \tweight_init: xavier\n"
          ]
        },
        {
          "output_type": "display_data",
          "data": {
            "text/plain": [
              "<IPython.core.display.HTML object>"
            ],
            "text/html": [
              "Tracking run with wandb version 0.19.7"
            ]
          },
          "metadata": {}
        },
        {
          "output_type": "display_data",
          "data": {
            "text/plain": [
              "<IPython.core.display.HTML object>"
            ],
            "text/html": [
              "Run data is saved locally in <code>/content/wandb/run-20250310_005055-qdtaucap</code>"
            ]
          },
          "metadata": {}
        },
        {
          "output_type": "display_data",
          "data": {
            "text/plain": [
              "<IPython.core.display.HTML object>"
            ],
            "text/html": [
              "Syncing run <strong><a href='https://wandb.ai/ma23m011-iit-madras/DA6401_Assignment1_ma23m011/runs/qdtaucap' target=\"_blank\">denim-sweep-18</a></strong> to <a href='https://wandb.ai/ma23m011-iit-madras/DA6401_Assignment1_ma23m011' target=\"_blank\">Weights & Biases</a> (<a href='https://wandb.me/developer-guide' target=\"_blank\">docs</a>)<br>Sweep page: <a href='https://wandb.ai/ma23m011-iit-madras/DA6401_Assignment1_ma23m011/sweeps/augzj4ot' target=\"_blank\">https://wandb.ai/ma23m011-iit-madras/DA6401_Assignment1_ma23m011/sweeps/augzj4ot</a>"
            ]
          },
          "metadata": {}
        },
        {
          "output_type": "display_data",
          "data": {
            "text/plain": [
              "<IPython.core.display.HTML object>"
            ],
            "text/html": [
              " View project at <a href='https://wandb.ai/ma23m011-iit-madras/DA6401_Assignment1_ma23m011' target=\"_blank\">https://wandb.ai/ma23m011-iit-madras/DA6401_Assignment1_ma23m011</a>"
            ]
          },
          "metadata": {}
        },
        {
          "output_type": "display_data",
          "data": {
            "text/plain": [
              "<IPython.core.display.HTML object>"
            ],
            "text/html": [
              " View sweep at <a href='https://wandb.ai/ma23m011-iit-madras/DA6401_Assignment1_ma23m011/sweeps/augzj4ot' target=\"_blank\">https://wandb.ai/ma23m011-iit-madras/DA6401_Assignment1_ma23m011/sweeps/augzj4ot</a>"
            ]
          },
          "metadata": {}
        },
        {
          "output_type": "display_data",
          "data": {
            "text/plain": [
              "<IPython.core.display.HTML object>"
            ],
            "text/html": [
              " View run at <a href='https://wandb.ai/ma23m011-iit-madras/DA6401_Assignment1_ma23m011/runs/qdtaucap' target=\"_blank\">https://wandb.ai/ma23m011-iit-madras/DA6401_Assignment1_ma23m011/runs/qdtaucap</a>"
            ]
          },
          "metadata": {}
        },
        {
          "output_type": "stream",
          "name": "stdout",
          "text": [
            "Epoch 1: Train Loss = 0.6770, Train Acc = 83.7741, Val Loss = 0.7011, Val Acc = 82.6667\n",
            "Epoch 2: Train Loss = 0.6567, Train Acc = 87.3333, Val Loss = 0.6913, Val Acc = 86.3333\n",
            "Epoch 3: Train Loss = 0.6985, Train Acc = 86.5981, Val Loss = 0.7317, Val Acc = 85.6333\n",
            "Epoch 4: Train Loss = 0.7150, Train Acc = 88.2222, Val Loss = 0.7618, Val Acc = 86.7167\n",
            "Epoch 5: Train Loss = 0.7600, Train Acc = 87.7759, Val Loss = 0.8080, Val Acc = 86.3000\n"
          ]
        },
        {
          "output_type": "display_data",
          "data": {
            "text/plain": [
              "<IPython.core.display.HTML object>"
            ],
            "text/html": []
          },
          "metadata": {}
        },
        {
          "output_type": "display_data",
          "data": {
            "text/plain": [
              "<IPython.core.display.HTML object>"
            ],
            "text/html": [
              "<br>    <style><br>        .wandb-row {<br>            display: flex;<br>            flex-direction: row;<br>            flex-wrap: wrap;<br>            justify-content: flex-start;<br>            width: 100%;<br>        }<br>        .wandb-col {<br>            display: flex;<br>            flex-direction: column;<br>            flex-basis: 100%;<br>            flex: 1;<br>            padding: 10px;<br>        }<br>    </style><br><div class=\"wandb-row\"><div class=\"wandb-col\"><h3>Run history:</h3><br/><table class=\"wandb\"><tr><td>Train_accuracy</td><td>▁▇▅█▇</td></tr><tr><td>Train_loss</td><td>▂▁▄▅█</td></tr><tr><td>Val_accuracy</td><td>▁▇▆█▇</td></tr><tr><td>Val_loss</td><td>▂▁▃▅█</td></tr><tr><td>epoch</td><td>▁▃▅▆█</td></tr></table><br/></div><div class=\"wandb-col\"><h3>Run summary:</h3><br/><table class=\"wandb\"><tr><td>Train_accuracy</td><td>87.77593</td></tr><tr><td>Train_loss</td><td>0.75997</td></tr><tr><td>Val_accuracy</td><td>86.3</td></tr><tr><td>Val_loss</td><td>0.80799</td></tr><tr><td>epoch</td><td>5</td></tr></table><br/></div></div>"
            ]
          },
          "metadata": {}
        },
        {
          "output_type": "display_data",
          "data": {
            "text/plain": [
              "<IPython.core.display.HTML object>"
            ],
            "text/html": [
              " View run <strong style=\"color:#cdcd00\">-ac_tanh-hs_128-epc_5-hl_4-regu_0.0005-eta_0.001-optmz_rmsprop-batch_16-wght_xavier</strong> at: <a href='https://wandb.ai/ma23m011-iit-madras/DA6401_Assignment1_ma23m011/runs/qdtaucap' target=\"_blank\">https://wandb.ai/ma23m011-iit-madras/DA6401_Assignment1_ma23m011/runs/qdtaucap</a><br> View project at: <a href='https://wandb.ai/ma23m011-iit-madras/DA6401_Assignment1_ma23m011' target=\"_blank\">https://wandb.ai/ma23m011-iit-madras/DA6401_Assignment1_ma23m011</a><br>Synced 5 W&B file(s), 0 media file(s), 0 artifact file(s) and 0 other file(s)"
            ]
          },
          "metadata": {}
        },
        {
          "output_type": "display_data",
          "data": {
            "text/plain": [
              "<IPython.core.display.HTML object>"
            ],
            "text/html": [
              "Find logs at: <code>./wandb/run-20250310_005055-qdtaucap/logs</code>"
            ]
          },
          "metadata": {}
        },
        {
          "output_type": "stream",
          "name": "stderr",
          "text": [
            "\u001b[34m\u001b[1mwandb\u001b[0m: Agent Starting Run: ijyu2b9f with config:\n",
            "\u001b[34m\u001b[1mwandb\u001b[0m: \tactivation: sigmoid\n",
            "\u001b[34m\u001b[1mwandb\u001b[0m: \tbatch_size: 64\n",
            "\u001b[34m\u001b[1mwandb\u001b[0m: \tepochs: 10\n",
            "\u001b[34m\u001b[1mwandb\u001b[0m: \thidden_layers: 4\n",
            "\u001b[34m\u001b[1mwandb\u001b[0m: \thidden_size: 32\n",
            "\u001b[34m\u001b[1mwandb\u001b[0m: \tlearning_rate: 0.0001\n",
            "\u001b[34m\u001b[1mwandb\u001b[0m: \toptimizer: rmsprop\n",
            "\u001b[34m\u001b[1mwandb\u001b[0m: \tweight_decay: 0.5\n",
            "\u001b[34m\u001b[1mwandb\u001b[0m: \tweight_init: xavier\n"
          ]
        },
        {
          "output_type": "display_data",
          "data": {
            "text/plain": [
              "<IPython.core.display.HTML object>"
            ],
            "text/html": [
              "Tracking run with wandb version 0.19.7"
            ]
          },
          "metadata": {}
        },
        {
          "output_type": "display_data",
          "data": {
            "text/plain": [
              "<IPython.core.display.HTML object>"
            ],
            "text/html": [
              "Run data is saved locally in <code>/content/wandb/run-20250310_005307-ijyu2b9f</code>"
            ]
          },
          "metadata": {}
        },
        {
          "output_type": "display_data",
          "data": {
            "text/plain": [
              "<IPython.core.display.HTML object>"
            ],
            "text/html": [
              "Syncing run <strong><a href='https://wandb.ai/ma23m011-iit-madras/DA6401_Assignment1_ma23m011/runs/ijyu2b9f' target=\"_blank\">toasty-sweep-19</a></strong> to <a href='https://wandb.ai/ma23m011-iit-madras/DA6401_Assignment1_ma23m011' target=\"_blank\">Weights & Biases</a> (<a href='https://wandb.me/developer-guide' target=\"_blank\">docs</a>)<br>Sweep page: <a href='https://wandb.ai/ma23m011-iit-madras/DA6401_Assignment1_ma23m011/sweeps/augzj4ot' target=\"_blank\">https://wandb.ai/ma23m011-iit-madras/DA6401_Assignment1_ma23m011/sweeps/augzj4ot</a>"
            ]
          },
          "metadata": {}
        },
        {
          "output_type": "display_data",
          "data": {
            "text/plain": [
              "<IPython.core.display.HTML object>"
            ],
            "text/html": [
              " View project at <a href='https://wandb.ai/ma23m011-iit-madras/DA6401_Assignment1_ma23m011' target=\"_blank\">https://wandb.ai/ma23m011-iit-madras/DA6401_Assignment1_ma23m011</a>"
            ]
          },
          "metadata": {}
        },
        {
          "output_type": "display_data",
          "data": {
            "text/plain": [
              "<IPython.core.display.HTML object>"
            ],
            "text/html": [
              " View sweep at <a href='https://wandb.ai/ma23m011-iit-madras/DA6401_Assignment1_ma23m011/sweeps/augzj4ot' target=\"_blank\">https://wandb.ai/ma23m011-iit-madras/DA6401_Assignment1_ma23m011/sweeps/augzj4ot</a>"
            ]
          },
          "metadata": {}
        },
        {
          "output_type": "display_data",
          "data": {
            "text/plain": [
              "<IPython.core.display.HTML object>"
            ],
            "text/html": [
              " View run at <a href='https://wandb.ai/ma23m011-iit-madras/DA6401_Assignment1_ma23m011/runs/ijyu2b9f' target=\"_blank\">https://wandb.ai/ma23m011-iit-madras/DA6401_Assignment1_ma23m011/runs/ijyu2b9f</a>"
            ]
          },
          "metadata": {}
        },
        {
          "output_type": "stream",
          "name": "stdout",
          "text": [
            "Epoch 1: Train Loss = 17.8489, Train Acc = 9.9389, Val Loss = 17.8484, Val Acc = 10.5500\n",
            "Epoch 2: Train Loss = 11.2234, Train Acc = 9.9389, Val Loss = 11.2230, Val Acc = 10.5500\n",
            "Epoch 3: Train Loss = 7.8055, Train Acc = 9.9389, Val Loss = 7.8053, Val Acc = 10.5500\n",
            "Epoch 4: Train Loss = 6.0696, Train Acc = 10.0648, Val Loss = 6.0701, Val Acc = 9.4167\n",
            "Epoch 5: Train Loss = 5.1803, Train Acc = 10.0648, Val Loss = 5.1807, Val Acc = 9.4167\n",
            "Epoch 6: Train Loss = 4.6656, Train Acc = 10.0296, Val Loss = 4.6658, Val Acc = 9.7333\n",
            "Epoch 7: Train Loss = 4.3255, Train Acc = 10.0167, Val Loss = 4.3260, Val Acc = 9.8500\n",
            "Epoch 8: Train Loss = 4.0834, Train Acc = 10.0833, Val Loss = 4.0838, Val Acc = 9.2500\n",
            "Epoch 9: Train Loss = 3.9008, Train Acc = 9.9648, Val Loss = 3.9009, Val Acc = 10.3167\n",
            "Epoch 10: Train Loss = 3.7556, Train Acc = 10.0296, Val Loss = 3.7556, Val Acc = 9.7333\n"
          ]
        },
        {
          "output_type": "display_data",
          "data": {
            "text/plain": [
              "<IPython.core.display.HTML object>"
            ],
            "text/html": []
          },
          "metadata": {}
        },
        {
          "output_type": "display_data",
          "data": {
            "text/plain": [
              "<IPython.core.display.HTML object>"
            ],
            "text/html": [
              "<br>    <style><br>        .wandb-row {<br>            display: flex;<br>            flex-direction: row;<br>            flex-wrap: wrap;<br>            justify-content: flex-start;<br>            width: 100%;<br>        }<br>        .wandb-col {<br>            display: flex;<br>            flex-direction: column;<br>            flex-basis: 100%;<br>            flex: 1;<br>            padding: 10px;<br>        }<br>    </style><br><div class=\"wandb-row\"><div class=\"wandb-col\"><h3>Run history:</h3><br/><table class=\"wandb\"><tr><td>Train_accuracy</td><td>▁▁▁▇▇▅▅█▂▅</td></tr><tr><td>Train_loss</td><td>█▅▃▂▂▁▁▁▁▁</td></tr><tr><td>Val_accuracy</td><td>███▂▂▄▄▁▇▄</td></tr><tr><td>Val_loss</td><td>█▅▃▂▂▁▁▁▁▁</td></tr><tr><td>epoch</td><td>▁▂▃▃▄▅▆▆▇█</td></tr></table><br/></div><div class=\"wandb-col\"><h3>Run summary:</h3><br/><table class=\"wandb\"><tr><td>Train_accuracy</td><td>10.02963</td></tr><tr><td>Train_loss</td><td>3.75561</td></tr><tr><td>Val_accuracy</td><td>9.73333</td></tr><tr><td>Val_loss</td><td>3.75565</td></tr><tr><td>epoch</td><td>10</td></tr></table><br/></div></div>"
            ]
          },
          "metadata": {}
        },
        {
          "output_type": "display_data",
          "data": {
            "text/plain": [
              "<IPython.core.display.HTML object>"
            ],
            "text/html": [
              " View run <strong style=\"color:#cdcd00\">-ac_sigmoid-hs_32-epc_10-hl_4-regu_0.5-eta_0.0001-optmz_rmsprop-batch_64-wght_xavier</strong> at: <a href='https://wandb.ai/ma23m011-iit-madras/DA6401_Assignment1_ma23m011/runs/ijyu2b9f' target=\"_blank\">https://wandb.ai/ma23m011-iit-madras/DA6401_Assignment1_ma23m011/runs/ijyu2b9f</a><br> View project at: <a href='https://wandb.ai/ma23m011-iit-madras/DA6401_Assignment1_ma23m011' target=\"_blank\">https://wandb.ai/ma23m011-iit-madras/DA6401_Assignment1_ma23m011</a><br>Synced 5 W&B file(s), 0 media file(s), 0 artifact file(s) and 0 other file(s)"
            ]
          },
          "metadata": {}
        },
        {
          "output_type": "display_data",
          "data": {
            "text/plain": [
              "<IPython.core.display.HTML object>"
            ],
            "text/html": [
              "Find logs at: <code>./wandb/run-20250310_005307-ijyu2b9f/logs</code>"
            ]
          },
          "metadata": {}
        },
        {
          "output_type": "stream",
          "name": "stderr",
          "text": [
            "\u001b[34m\u001b[1mwandb\u001b[0m: Agent Starting Run: r8hzu6fl with config:\n",
            "\u001b[34m\u001b[1mwandb\u001b[0m: \tactivation: sigmoid\n",
            "\u001b[34m\u001b[1mwandb\u001b[0m: \tbatch_size: 64\n",
            "\u001b[34m\u001b[1mwandb\u001b[0m: \tepochs: 10\n",
            "\u001b[34m\u001b[1mwandb\u001b[0m: \thidden_layers: 5\n",
            "\u001b[34m\u001b[1mwandb\u001b[0m: \thidden_size: 32\n",
            "\u001b[34m\u001b[1mwandb\u001b[0m: \tlearning_rate: 0.0001\n",
            "\u001b[34m\u001b[1mwandb\u001b[0m: \toptimizer: rmsprop\n",
            "\u001b[34m\u001b[1mwandb\u001b[0m: \tweight_decay: 0.5\n",
            "\u001b[34m\u001b[1mwandb\u001b[0m: \tweight_init: xavier\n"
          ]
        },
        {
          "output_type": "display_data",
          "data": {
            "text/plain": [
              "<IPython.core.display.HTML object>"
            ],
            "text/html": [
              "Tracking run with wandb version 0.19.7"
            ]
          },
          "metadata": {}
        },
        {
          "output_type": "display_data",
          "data": {
            "text/plain": [
              "<IPython.core.display.HTML object>"
            ],
            "text/html": [
              "Run data is saved locally in <code>/content/wandb/run-20250310_005343-r8hzu6fl</code>"
            ]
          },
          "metadata": {}
        },
        {
          "output_type": "display_data",
          "data": {
            "text/plain": [
              "<IPython.core.display.HTML object>"
            ],
            "text/html": [
              "Syncing run <strong><a href='https://wandb.ai/ma23m011-iit-madras/DA6401_Assignment1_ma23m011/runs/r8hzu6fl' target=\"_blank\">classic-sweep-20</a></strong> to <a href='https://wandb.ai/ma23m011-iit-madras/DA6401_Assignment1_ma23m011' target=\"_blank\">Weights & Biases</a> (<a href='https://wandb.me/developer-guide' target=\"_blank\">docs</a>)<br>Sweep page: <a href='https://wandb.ai/ma23m011-iit-madras/DA6401_Assignment1_ma23m011/sweeps/augzj4ot' target=\"_blank\">https://wandb.ai/ma23m011-iit-madras/DA6401_Assignment1_ma23m011/sweeps/augzj4ot</a>"
            ]
          },
          "metadata": {}
        },
        {
          "output_type": "display_data",
          "data": {
            "text/plain": [
              "<IPython.core.display.HTML object>"
            ],
            "text/html": [
              " View project at <a href='https://wandb.ai/ma23m011-iit-madras/DA6401_Assignment1_ma23m011' target=\"_blank\">https://wandb.ai/ma23m011-iit-madras/DA6401_Assignment1_ma23m011</a>"
            ]
          },
          "metadata": {}
        },
        {
          "output_type": "display_data",
          "data": {
            "text/plain": [
              "<IPython.core.display.HTML object>"
            ],
            "text/html": [
              " View sweep at <a href='https://wandb.ai/ma23m011-iit-madras/DA6401_Assignment1_ma23m011/sweeps/augzj4ot' target=\"_blank\">https://wandb.ai/ma23m011-iit-madras/DA6401_Assignment1_ma23m011/sweeps/augzj4ot</a>"
            ]
          },
          "metadata": {}
        },
        {
          "output_type": "display_data",
          "data": {
            "text/plain": [
              "<IPython.core.display.HTML object>"
            ],
            "text/html": [
              " View run at <a href='https://wandb.ai/ma23m011-iit-madras/DA6401_Assignment1_ma23m011/runs/r8hzu6fl' target=\"_blank\">https://wandb.ai/ma23m011-iit-madras/DA6401_Assignment1_ma23m011/runs/r8hzu6fl</a>"
            ]
          },
          "metadata": {}
        },
        {
          "output_type": "stream",
          "name": "stdout",
          "text": [
            "Epoch 1: Train Loss = 20.8919, Train Acc = 9.9907, Val Loss = 20.8920, Val Acc = 10.0833\n",
            "Epoch 2: Train Loss = 12.1324, Train Acc = 10.0833, Val Loss = 12.1328, Val Acc = 9.2500\n",
            "Epoch 3: Train Loss = 7.9007, Train Acc = 9.9963, Val Loss = 7.9010, Val Acc = 10.0333\n",
            "Epoch 4: Train Loss = 5.9582, Train Acc = 9.9704, Val Loss = 5.9586, Val Acc = 10.2667\n",
            "Epoch 5: Train Loss = 5.0280, Train Acc = 10.0833, Val Loss = 5.0281, Val Acc = 9.2500\n",
            "Epoch 6: Train Loss = 4.5213, Train Acc = 9.9704, Val Loss = 4.5212, Val Acc = 10.2667\n",
            "Epoch 7: Train Loss = 4.1956, Train Acc = 9.9704, Val Loss = 4.1958, Val Acc = 10.2667\n",
            "Epoch 8: Train Loss = 3.9670, Train Acc = 10.0296, Val Loss = 3.9673, Val Acc = 9.7333\n",
            "Epoch 9: Train Loss = 3.7957, Train Acc = 9.9704, Val Loss = 3.7958, Val Acc = 10.2667\n",
            "Epoch 10: Train Loss = 3.6625, Train Acc = 9.9648, Val Loss = 3.6626, Val Acc = 10.3167\n"
          ]
        },
        {
          "output_type": "display_data",
          "data": {
            "text/plain": [
              "<IPython.core.display.HTML object>"
            ],
            "text/html": []
          },
          "metadata": {}
        },
        {
          "output_type": "display_data",
          "data": {
            "text/plain": [
              "<IPython.core.display.HTML object>"
            ],
            "text/html": [
              "<br>    <style><br>        .wandb-row {<br>            display: flex;<br>            flex-direction: row;<br>            flex-wrap: wrap;<br>            justify-content: flex-start;<br>            width: 100%;<br>        }<br>        .wandb-col {<br>            display: flex;<br>            flex-direction: column;<br>            flex-basis: 100%;<br>            flex: 1;<br>            padding: 10px;<br>        }<br>    </style><br><div class=\"wandb-row\"><div class=\"wandb-col\"><h3>Run history:</h3><br/><table class=\"wandb\"><tr><td>Train_accuracy</td><td>▃█▃▁█▁▁▅▁▁</td></tr><tr><td>Train_loss</td><td>█▄▃▂▂▁▁▁▁▁</td></tr><tr><td>Val_accuracy</td><td>▆▁▆█▁██▄██</td></tr><tr><td>Val_loss</td><td>█▄▃▂▂▁▁▁▁▁</td></tr><tr><td>epoch</td><td>▁▂▃▃▄▅▆▆▇█</td></tr></table><br/></div><div class=\"wandb-col\"><h3>Run summary:</h3><br/><table class=\"wandb\"><tr><td>Train_accuracy</td><td>9.96481</td></tr><tr><td>Train_loss</td><td>3.66248</td></tr><tr><td>Val_accuracy</td><td>10.31667</td></tr><tr><td>Val_loss</td><td>3.66257</td></tr><tr><td>epoch</td><td>10</td></tr></table><br/></div></div>"
            ]
          },
          "metadata": {}
        },
        {
          "output_type": "display_data",
          "data": {
            "text/plain": [
              "<IPython.core.display.HTML object>"
            ],
            "text/html": [
              " View run <strong style=\"color:#cdcd00\">-ac_sigmoid-hs_32-epc_10-hl_5-regu_0.5-eta_0.0001-optmz_rmsprop-batch_64-wght_xavier</strong> at: <a href='https://wandb.ai/ma23m011-iit-madras/DA6401_Assignment1_ma23m011/runs/r8hzu6fl' target=\"_blank\">https://wandb.ai/ma23m011-iit-madras/DA6401_Assignment1_ma23m011/runs/r8hzu6fl</a><br> View project at: <a href='https://wandb.ai/ma23m011-iit-madras/DA6401_Assignment1_ma23m011' target=\"_blank\">https://wandb.ai/ma23m011-iit-madras/DA6401_Assignment1_ma23m011</a><br>Synced 5 W&B file(s), 0 media file(s), 0 artifact file(s) and 0 other file(s)"
            ]
          },
          "metadata": {}
        },
        {
          "output_type": "display_data",
          "data": {
            "text/plain": [
              "<IPython.core.display.HTML object>"
            ],
            "text/html": [
              "Find logs at: <code>./wandb/run-20250310_005343-r8hzu6fl/logs</code>"
            ]
          },
          "metadata": {}
        },
        {
          "output_type": "stream",
          "name": "stderr",
          "text": [
            "\u001b[34m\u001b[1mwandb\u001b[0m: Agent Starting Run: 937mtij7 with config:\n",
            "\u001b[34m\u001b[1mwandb\u001b[0m: \tactivation: sigmoid\n",
            "\u001b[34m\u001b[1mwandb\u001b[0m: \tbatch_size: 16\n",
            "\u001b[34m\u001b[1mwandb\u001b[0m: \tepochs: 10\n",
            "\u001b[34m\u001b[1mwandb\u001b[0m: \thidden_layers: 4\n",
            "\u001b[34m\u001b[1mwandb\u001b[0m: \thidden_size: 128\n",
            "\u001b[34m\u001b[1mwandb\u001b[0m: \tlearning_rate: 0.001\n",
            "\u001b[34m\u001b[1mwandb\u001b[0m: \toptimizer: nadam\n",
            "\u001b[34m\u001b[1mwandb\u001b[0m: \tweight_decay: 0.0005\n",
            "\u001b[34m\u001b[1mwandb\u001b[0m: \tweight_init: random\n"
          ]
        },
        {
          "output_type": "display_data",
          "data": {
            "text/plain": [
              "<IPython.core.display.HTML object>"
            ],
            "text/html": [
              "Tracking run with wandb version 0.19.7"
            ]
          },
          "metadata": {}
        },
        {
          "output_type": "display_data",
          "data": {
            "text/plain": [
              "<IPython.core.display.HTML object>"
            ],
            "text/html": [
              "Run data is saved locally in <code>/content/wandb/run-20250310_005423-937mtij7</code>"
            ]
          },
          "metadata": {}
        },
        {
          "output_type": "display_data",
          "data": {
            "text/plain": [
              "<IPython.core.display.HTML object>"
            ],
            "text/html": [
              "Syncing run <strong><a href='https://wandb.ai/ma23m011-iit-madras/DA6401_Assignment1_ma23m011/runs/937mtij7' target=\"_blank\">silver-sweep-21</a></strong> to <a href='https://wandb.ai/ma23m011-iit-madras/DA6401_Assignment1_ma23m011' target=\"_blank\">Weights & Biases</a> (<a href='https://wandb.me/developer-guide' target=\"_blank\">docs</a>)<br>Sweep page: <a href='https://wandb.ai/ma23m011-iit-madras/DA6401_Assignment1_ma23m011/sweeps/augzj4ot' target=\"_blank\">https://wandb.ai/ma23m011-iit-madras/DA6401_Assignment1_ma23m011/sweeps/augzj4ot</a>"
            ]
          },
          "metadata": {}
        },
        {
          "output_type": "display_data",
          "data": {
            "text/plain": [
              "<IPython.core.display.HTML object>"
            ],
            "text/html": [
              " View project at <a href='https://wandb.ai/ma23m011-iit-madras/DA6401_Assignment1_ma23m011' target=\"_blank\">https://wandb.ai/ma23m011-iit-madras/DA6401_Assignment1_ma23m011</a>"
            ]
          },
          "metadata": {}
        },
        {
          "output_type": "display_data",
          "data": {
            "text/plain": [
              "<IPython.core.display.HTML object>"
            ],
            "text/html": [
              " View sweep at <a href='https://wandb.ai/ma23m011-iit-madras/DA6401_Assignment1_ma23m011/sweeps/augzj4ot' target=\"_blank\">https://wandb.ai/ma23m011-iit-madras/DA6401_Assignment1_ma23m011/sweeps/augzj4ot</a>"
            ]
          },
          "metadata": {}
        },
        {
          "output_type": "display_data",
          "data": {
            "text/plain": [
              "<IPython.core.display.HTML object>"
            ],
            "text/html": [
              " View run at <a href='https://wandb.ai/ma23m011-iit-madras/DA6401_Assignment1_ma23m011/runs/937mtij7' target=\"_blank\">https://wandb.ai/ma23m011-iit-madras/DA6401_Assignment1_ma23m011/runs/937mtij7</a>"
            ]
          },
          "metadata": {}
        },
        {
          "output_type": "stream",
          "name": "stdout",
          "text": [
            "Epoch 1: Train Loss = nan, Train Acc = 9.9444, Val Loss = nan, Val Acc = 10.5000\n",
            "Epoch 2: Train Loss = nan, Train Acc = 9.9444, Val Loss = nan, Val Acc = 10.5000\n",
            "Epoch 3: Train Loss = nan, Train Acc = 9.9444, Val Loss = nan, Val Acc = 10.5000\n",
            "Epoch 4: Train Loss = nan, Train Acc = 9.9444, Val Loss = nan, Val Acc = 10.5000\n",
            "Epoch 5: Train Loss = nan, Train Acc = 9.9444, Val Loss = nan, Val Acc = 10.5000\n",
            "Epoch 6: Train Loss = nan, Train Acc = 9.9444, Val Loss = nan, Val Acc = 10.5000\n",
            "Epoch 7: Train Loss = nan, Train Acc = 9.9444, Val Loss = nan, Val Acc = 10.5000\n",
            "Epoch 8: Train Loss = nan, Train Acc = 9.9444, Val Loss = nan, Val Acc = 10.5000\n",
            "Epoch 9: Train Loss = nan, Train Acc = 9.9444, Val Loss = nan, Val Acc = 10.5000\n",
            "Epoch 10: Train Loss = nan, Train Acc = 9.9444, Val Loss = nan, Val Acc = 10.5000\n"
          ]
        },
        {
          "output_type": "display_data",
          "data": {
            "text/plain": [
              "<IPython.core.display.HTML object>"
            ],
            "text/html": []
          },
          "metadata": {}
        },
        {
          "output_type": "display_data",
          "data": {
            "text/plain": [
              "<IPython.core.display.HTML object>"
            ],
            "text/html": [
              "<br>    <style><br>        .wandb-row {<br>            display: flex;<br>            flex-direction: row;<br>            flex-wrap: wrap;<br>            justify-content: flex-start;<br>            width: 100%;<br>        }<br>        .wandb-col {<br>            display: flex;<br>            flex-direction: column;<br>            flex-basis: 100%;<br>            flex: 1;<br>            padding: 10px;<br>        }<br>    </style><br><div class=\"wandb-row\"><div class=\"wandb-col\"><h3>Run history:</h3><br/><table class=\"wandb\"><tr><td>Train_accuracy</td><td>▁▁▁▁▁▁▁▁▁▁</td></tr><tr><td>Val_accuracy</td><td>▁▁▁▁▁▁▁▁▁▁</td></tr><tr><td>epoch</td><td>▁▂▃▃▄▅▆▆▇█</td></tr></table><br/></div><div class=\"wandb-col\"><h3>Run summary:</h3><br/><table class=\"wandb\"><tr><td>Train_accuracy</td><td>9.94444</td></tr><tr><td>Train_loss</td><td>nan</td></tr><tr><td>Val_accuracy</td><td>10.5</td></tr><tr><td>Val_loss</td><td>nan</td></tr><tr><td>epoch</td><td>10</td></tr></table><br/></div></div>"
            ]
          },
          "metadata": {}
        },
        {
          "output_type": "display_data",
          "data": {
            "text/plain": [
              "<IPython.core.display.HTML object>"
            ],
            "text/html": [
              " View run <strong style=\"color:#cdcd00\">-ac_sigmoid-hs_128-epc_10-hl_4-regu_0.0005-eta_0.001-optmz_nadam-batch_16-wght_random</strong> at: <a href='https://wandb.ai/ma23m011-iit-madras/DA6401_Assignment1_ma23m011/runs/937mtij7' target=\"_blank\">https://wandb.ai/ma23m011-iit-madras/DA6401_Assignment1_ma23m011/runs/937mtij7</a><br> View project at: <a href='https://wandb.ai/ma23m011-iit-madras/DA6401_Assignment1_ma23m011' target=\"_blank\">https://wandb.ai/ma23m011-iit-madras/DA6401_Assignment1_ma23m011</a><br>Synced 5 W&B file(s), 0 media file(s), 0 artifact file(s) and 0 other file(s)"
            ]
          },
          "metadata": {}
        },
        {
          "output_type": "display_data",
          "data": {
            "text/plain": [
              "<IPython.core.display.HTML object>"
            ],
            "text/html": [
              "Find logs at: <code>./wandb/run-20250310_005423-937mtij7/logs</code>"
            ]
          },
          "metadata": {}
        },
        {
          "output_type": "stream",
          "name": "stderr",
          "text": [
            "\u001b[34m\u001b[1mwandb\u001b[0m: Agent Starting Run: 8nl223t5 with config:\n",
            "\u001b[34m\u001b[1mwandb\u001b[0m: \tactivation: sigmoid\n",
            "\u001b[34m\u001b[1mwandb\u001b[0m: \tbatch_size: 64\n",
            "\u001b[34m\u001b[1mwandb\u001b[0m: \tepochs: 10\n",
            "\u001b[34m\u001b[1mwandb\u001b[0m: \thidden_layers: 3\n",
            "\u001b[34m\u001b[1mwandb\u001b[0m: \thidden_size: 128\n",
            "\u001b[34m\u001b[1mwandb\u001b[0m: \tlearning_rate: 0.0001\n",
            "\u001b[34m\u001b[1mwandb\u001b[0m: \toptimizer: nadam\n",
            "\u001b[34m\u001b[1mwandb\u001b[0m: \tweight_decay: 0.0005\n",
            "\u001b[34m\u001b[1mwandb\u001b[0m: \tweight_init: xavier\n"
          ]
        },
        {
          "output_type": "display_data",
          "data": {
            "text/plain": [
              "<IPython.core.display.HTML object>"
            ],
            "text/html": [
              "Tracking run with wandb version 0.19.7"
            ]
          },
          "metadata": {}
        },
        {
          "output_type": "display_data",
          "data": {
            "text/plain": [
              "<IPython.core.display.HTML object>"
            ],
            "text/html": [
              "Run data is saved locally in <code>/content/wandb/run-20250310_005842-8nl223t5</code>"
            ]
          },
          "metadata": {}
        },
        {
          "output_type": "display_data",
          "data": {
            "text/plain": [
              "<IPython.core.display.HTML object>"
            ],
            "text/html": [
              "Syncing run <strong><a href='https://wandb.ai/ma23m011-iit-madras/DA6401_Assignment1_ma23m011/runs/8nl223t5' target=\"_blank\">vibrant-sweep-22</a></strong> to <a href='https://wandb.ai/ma23m011-iit-madras/DA6401_Assignment1_ma23m011' target=\"_blank\">Weights & Biases</a> (<a href='https://wandb.me/developer-guide' target=\"_blank\">docs</a>)<br>Sweep page: <a href='https://wandb.ai/ma23m011-iit-madras/DA6401_Assignment1_ma23m011/sweeps/augzj4ot' target=\"_blank\">https://wandb.ai/ma23m011-iit-madras/DA6401_Assignment1_ma23m011/sweeps/augzj4ot</a>"
            ]
          },
          "metadata": {}
        },
        {
          "output_type": "display_data",
          "data": {
            "text/plain": [
              "<IPython.core.display.HTML object>"
            ],
            "text/html": [
              " View project at <a href='https://wandb.ai/ma23m011-iit-madras/DA6401_Assignment1_ma23m011' target=\"_blank\">https://wandb.ai/ma23m011-iit-madras/DA6401_Assignment1_ma23m011</a>"
            ]
          },
          "metadata": {}
        },
        {
          "output_type": "display_data",
          "data": {
            "text/plain": [
              "<IPython.core.display.HTML object>"
            ],
            "text/html": [
              " View sweep at <a href='https://wandb.ai/ma23m011-iit-madras/DA6401_Assignment1_ma23m011/sweeps/augzj4ot' target=\"_blank\">https://wandb.ai/ma23m011-iit-madras/DA6401_Assignment1_ma23m011/sweeps/augzj4ot</a>"
            ]
          },
          "metadata": {}
        },
        {
          "output_type": "display_data",
          "data": {
            "text/plain": [
              "<IPython.core.display.HTML object>"
            ],
            "text/html": [
              " View run at <a href='https://wandb.ai/ma23m011-iit-madras/DA6401_Assignment1_ma23m011/runs/8nl223t5' target=\"_blank\">https://wandb.ai/ma23m011-iit-madras/DA6401_Assignment1_ma23m011/runs/8nl223t5</a>"
            ]
          },
          "metadata": {}
        },
        {
          "output_type": "stream",
          "name": "stdout",
          "text": [
            "Epoch 1: Train Loss = 233109705.7213, Train Acc = 9.9648, Val Loss = 233109705.6784, Val Acc = 10.3167\n",
            "Epoch 2: Train Loss = 3167526784577873903616.0000, Train Acc = 9.9907, Val Loss = 3167526784577873903616.0000, Val Acc = 10.0833\n",
            "Epoch 3: Train Loss = 305664919490.4352, Train Acc = 9.9648, Val Loss = 305664919490.4416, Val Acc = 10.3167\n",
            "Epoch 4: Train Loss = 4473.0382, Train Acc = 10.0833, Val Loss = 4473.0382, Val Acc = 9.2500\n",
            "Epoch 5: Train Loss = 365548676804050.8125, Train Acc = 9.9704, Val Loss = 365548676804050.8125, Val Acc = 10.2667\n",
            "Epoch 6: Train Loss = 4485.8656, Train Acc = 10.0167, Val Loss = 4485.8656, Val Acc = 9.8500\n",
            "Epoch 7: Train Loss = 6506141028468828160.0000, Train Acc = 10.0296, Val Loss = 6506141028468828160.0000, Val Acc = 9.7333\n",
            "Epoch 8: Train Loss = 225241272.8651, Train Acc = 9.9648, Val Loss = 225241272.8651, Val Acc = 10.3167\n",
            "Epoch 9: Train Loss = 4958406117883385856.0000, Train Acc = 10.0833, Val Loss = 4958406117883385856.0000, Val Acc = 9.2500\n",
            "Epoch 10: Train Loss = 69417874322489752.0000, Train Acc = 9.9907, Val Loss = 69417874322489752.0000, Val Acc = 10.0833\n"
          ]
        },
        {
          "output_type": "display_data",
          "data": {
            "text/plain": [
              "<IPython.core.display.HTML object>"
            ],
            "text/html": []
          },
          "metadata": {}
        },
        {
          "output_type": "display_data",
          "data": {
            "text/plain": [
              "<IPython.core.display.HTML object>"
            ],
            "text/html": [
              "<br>    <style><br>        .wandb-row {<br>            display: flex;<br>            flex-direction: row;<br>            flex-wrap: wrap;<br>            justify-content: flex-start;<br>            width: 100%;<br>        }<br>        .wandb-col {<br>            display: flex;<br>            flex-direction: column;<br>            flex-basis: 100%;<br>            flex: 1;<br>            padding: 10px;<br>        }<br>    </style><br><div class=\"wandb-row\"><div class=\"wandb-col\"><h3>Run history:</h3><br/><table class=\"wandb\"><tr><td>Train_accuracy</td><td>▁▃▁█▁▄▅▁█▃</td></tr><tr><td>Train_loss</td><td>▁█▁▁▁▁▁▁▁▁</td></tr><tr><td>Val_accuracy</td><td>█▆█▁█▅▄█▁▆</td></tr><tr><td>Val_loss</td><td>▁█▁▁▁▁▁▁▁▁</td></tr><tr><td>epoch</td><td>▁▂▃▃▄▅▆▆▇█</td></tr></table><br/></div><div class=\"wandb-col\"><h3>Run summary:</h3><br/><table class=\"wandb\"><tr><td>Train_accuracy</td><td>9.99074</td></tr><tr><td>Train_loss</td><td>6.941787432248975e+16</td></tr><tr><td>Val_accuracy</td><td>10.08333</td></tr><tr><td>Val_loss</td><td>6.941787432248975e+16</td></tr><tr><td>epoch</td><td>10</td></tr></table><br/></div></div>"
            ]
          },
          "metadata": {}
        },
        {
          "output_type": "display_data",
          "data": {
            "text/plain": [
              "<IPython.core.display.HTML object>"
            ],
            "text/html": [
              " View run <strong style=\"color:#cdcd00\">-ac_sigmoid-hs_128-epc_10-hl_3-regu_0.0005-eta_0.0001-optmz_nadam-batch_64-wght_xavier</strong> at: <a href='https://wandb.ai/ma23m011-iit-madras/DA6401_Assignment1_ma23m011/runs/8nl223t5' target=\"_blank\">https://wandb.ai/ma23m011-iit-madras/DA6401_Assignment1_ma23m011/runs/8nl223t5</a><br> View project at: <a href='https://wandb.ai/ma23m011-iit-madras/DA6401_Assignment1_ma23m011' target=\"_blank\">https://wandb.ai/ma23m011-iit-madras/DA6401_Assignment1_ma23m011</a><br>Synced 5 W&B file(s), 0 media file(s), 0 artifact file(s) and 0 other file(s)"
            ]
          },
          "metadata": {}
        },
        {
          "output_type": "display_data",
          "data": {
            "text/plain": [
              "<IPython.core.display.HTML object>"
            ],
            "text/html": [
              "Find logs at: <code>./wandb/run-20250310_005842-8nl223t5/logs</code>"
            ]
          },
          "metadata": {}
        },
        {
          "output_type": "stream",
          "name": "stderr",
          "text": [
            "\u001b[34m\u001b[1mwandb\u001b[0m: Agent Starting Run: 59dqjtqz with config:\n",
            "\u001b[34m\u001b[1mwandb\u001b[0m: \tactivation: sigmoid\n",
            "\u001b[34m\u001b[1mwandb\u001b[0m: \tbatch_size: 64\n",
            "\u001b[34m\u001b[1mwandb\u001b[0m: \tepochs: 10\n",
            "\u001b[34m\u001b[1mwandb\u001b[0m: \thidden_layers: 4\n",
            "\u001b[34m\u001b[1mwandb\u001b[0m: \thidden_size: 128\n",
            "\u001b[34m\u001b[1mwandb\u001b[0m: \tlearning_rate: 0.001\n",
            "\u001b[34m\u001b[1mwandb\u001b[0m: \toptimizer: nag\n",
            "\u001b[34m\u001b[1mwandb\u001b[0m: \tweight_decay: 0.0005\n",
            "\u001b[34m\u001b[1mwandb\u001b[0m: \tweight_init: random\n"
          ]
        },
        {
          "output_type": "display_data",
          "data": {
            "text/plain": [
              "<IPython.core.display.HTML object>"
            ],
            "text/html": [
              "Tracking run with wandb version 0.19.7"
            ]
          },
          "metadata": {}
        },
        {
          "output_type": "display_data",
          "data": {
            "text/plain": [
              "<IPython.core.display.HTML object>"
            ],
            "text/html": [
              "Run data is saved locally in <code>/content/wandb/run-20250310_010028-59dqjtqz</code>"
            ]
          },
          "metadata": {}
        },
        {
          "output_type": "display_data",
          "data": {
            "text/plain": [
              "<IPython.core.display.HTML object>"
            ],
            "text/html": [
              "Syncing run <strong><a href='https://wandb.ai/ma23m011-iit-madras/DA6401_Assignment1_ma23m011/runs/59dqjtqz' target=\"_blank\">clear-sweep-23</a></strong> to <a href='https://wandb.ai/ma23m011-iit-madras/DA6401_Assignment1_ma23m011' target=\"_blank\">Weights & Biases</a> (<a href='https://wandb.me/developer-guide' target=\"_blank\">docs</a>)<br>Sweep page: <a href='https://wandb.ai/ma23m011-iit-madras/DA6401_Assignment1_ma23m011/sweeps/augzj4ot' target=\"_blank\">https://wandb.ai/ma23m011-iit-madras/DA6401_Assignment1_ma23m011/sweeps/augzj4ot</a>"
            ]
          },
          "metadata": {}
        },
        {
          "output_type": "display_data",
          "data": {
            "text/plain": [
              "<IPython.core.display.HTML object>"
            ],
            "text/html": [
              " View project at <a href='https://wandb.ai/ma23m011-iit-madras/DA6401_Assignment1_ma23m011' target=\"_blank\">https://wandb.ai/ma23m011-iit-madras/DA6401_Assignment1_ma23m011</a>"
            ]
          },
          "metadata": {}
        },
        {
          "output_type": "display_data",
          "data": {
            "text/plain": [
              "<IPython.core.display.HTML object>"
            ],
            "text/html": [
              " View sweep at <a href='https://wandb.ai/ma23m011-iit-madras/DA6401_Assignment1_ma23m011/sweeps/augzj4ot' target=\"_blank\">https://wandb.ai/ma23m011-iit-madras/DA6401_Assignment1_ma23m011/sweeps/augzj4ot</a>"
            ]
          },
          "metadata": {}
        },
        {
          "output_type": "display_data",
          "data": {
            "text/plain": [
              "<IPython.core.display.HTML object>"
            ],
            "text/html": [
              " View run at <a href='https://wandb.ai/ma23m011-iit-madras/DA6401_Assignment1_ma23m011/runs/59dqjtqz' target=\"_blank\">https://wandb.ai/ma23m011-iit-madras/DA6401_Assignment1_ma23m011/runs/59dqjtqz</a>"
            ]
          },
          "metadata": {}
        },
        {
          "output_type": "stream",
          "name": "stdout",
          "text": [
            "Epoch 1: Train Loss = 2.3088, Train Acc = 9.9963, Val Loss = 2.3072, Val Acc = 10.0333\n",
            "Epoch 2: Train Loss = 2.3088, Train Acc = 9.9963, Val Loss = 2.3072, Val Acc = 10.0333\n",
            "Epoch 3: Train Loss = 2.3088, Train Acc = 9.9963, Val Loss = 2.3072, Val Acc = 10.0333\n",
            "Epoch 4: Train Loss = 2.3088, Train Acc = 9.9963, Val Loss = 2.3072, Val Acc = 10.0333\n",
            "Epoch 5: Train Loss = 2.3088, Train Acc = 9.9963, Val Loss = 2.3072, Val Acc = 10.0333\n",
            "Epoch 6: Train Loss = 2.3088, Train Acc = 9.9963, Val Loss = 2.3072, Val Acc = 10.0333\n",
            "Epoch 7: Train Loss = 2.3088, Train Acc = 9.9963, Val Loss = 2.3072, Val Acc = 10.0333\n",
            "Epoch 8: Train Loss = 2.3088, Train Acc = 9.9963, Val Loss = 2.3072, Val Acc = 10.0333\n",
            "Epoch 9: Train Loss = 2.3088, Train Acc = 9.9963, Val Loss = 2.3072, Val Acc = 10.0333\n",
            "Epoch 10: Train Loss = 2.3088, Train Acc = 9.9963, Val Loss = 2.3072, Val Acc = 10.0333\n"
          ]
        },
        {
          "output_type": "display_data",
          "data": {
            "text/plain": [
              "<IPython.core.display.HTML object>"
            ],
            "text/html": []
          },
          "metadata": {}
        },
        {
          "output_type": "display_data",
          "data": {
            "text/plain": [
              "<IPython.core.display.HTML object>"
            ],
            "text/html": [
              "<br>    <style><br>        .wandb-row {<br>            display: flex;<br>            flex-direction: row;<br>            flex-wrap: wrap;<br>            justify-content: flex-start;<br>            width: 100%;<br>        }<br>        .wandb-col {<br>            display: flex;<br>            flex-direction: column;<br>            flex-basis: 100%;<br>            flex: 1;<br>            padding: 10px;<br>        }<br>    </style><br><div class=\"wandb-row\"><div class=\"wandb-col\"><h3>Run history:</h3><br/><table class=\"wandb\"><tr><td>Train_accuracy</td><td>▁▁▁▁▁▁▁▁▁▁</td></tr><tr><td>Train_loss</td><td>▁▁▁▁▁▁▁▁▁▁</td></tr><tr><td>Val_accuracy</td><td>▁▁▁▁▁▁▁▁▁▁</td></tr><tr><td>Val_loss</td><td>▁▁▁▁▁▁▁▁▁▁</td></tr><tr><td>epoch</td><td>▁▂▃▃▄▅▆▆▇█</td></tr></table><br/></div><div class=\"wandb-col\"><h3>Run summary:</h3><br/><table class=\"wandb\"><tr><td>Train_accuracy</td><td>9.9963</td></tr><tr><td>Train_loss</td><td>2.3088</td></tr><tr><td>Val_accuracy</td><td>10.03333</td></tr><tr><td>Val_loss</td><td>2.30721</td></tr><tr><td>epoch</td><td>10</td></tr></table><br/></div></div>"
            ]
          },
          "metadata": {}
        },
        {
          "output_type": "display_data",
          "data": {
            "text/plain": [
              "<IPython.core.display.HTML object>"
            ],
            "text/html": [
              " View run <strong style=\"color:#cdcd00\">-ac_sigmoid-hs_128-epc_10-hl_4-regu_0.0005-eta_0.001-optmz_nag-batch_64-wght_random</strong> at: <a href='https://wandb.ai/ma23m011-iit-madras/DA6401_Assignment1_ma23m011/runs/59dqjtqz' target=\"_blank\">https://wandb.ai/ma23m011-iit-madras/DA6401_Assignment1_ma23m011/runs/59dqjtqz</a><br> View project at: <a href='https://wandb.ai/ma23m011-iit-madras/DA6401_Assignment1_ma23m011' target=\"_blank\">https://wandb.ai/ma23m011-iit-madras/DA6401_Assignment1_ma23m011</a><br>Synced 5 W&B file(s), 0 media file(s), 0 artifact file(s) and 0 other file(s)"
            ]
          },
          "metadata": {}
        },
        {
          "output_type": "display_data",
          "data": {
            "text/plain": [
              "<IPython.core.display.HTML object>"
            ],
            "text/html": [
              "Find logs at: <code>./wandb/run-20250310_010028-59dqjtqz/logs</code>"
            ]
          },
          "metadata": {}
        },
        {
          "output_type": "stream",
          "name": "stderr",
          "text": [
            "\u001b[34m\u001b[1mwandb\u001b[0m: Agent Starting Run: 7qzf8lmi with config:\n",
            "\u001b[34m\u001b[1mwandb\u001b[0m: \tactivation: tanh\n",
            "\u001b[34m\u001b[1mwandb\u001b[0m: \tbatch_size: 16\n",
            "\u001b[34m\u001b[1mwandb\u001b[0m: \tepochs: 10\n",
            "\u001b[34m\u001b[1mwandb\u001b[0m: \thidden_layers: 4\n",
            "\u001b[34m\u001b[1mwandb\u001b[0m: \thidden_size: 128\n",
            "\u001b[34m\u001b[1mwandb\u001b[0m: \tlearning_rate: 0.0001\n",
            "\u001b[34m\u001b[1mwandb\u001b[0m: \toptimizer: nadam\n",
            "\u001b[34m\u001b[1mwandb\u001b[0m: \tweight_decay: 0.5\n",
            "\u001b[34m\u001b[1mwandb\u001b[0m: \tweight_init: xavier\n"
          ]
        },
        {
          "output_type": "display_data",
          "data": {
            "text/plain": [
              "<IPython.core.display.HTML object>"
            ],
            "text/html": [
              "Tracking run with wandb version 0.19.7"
            ]
          },
          "metadata": {}
        },
        {
          "output_type": "display_data",
          "data": {
            "text/plain": [
              "<IPython.core.display.HTML object>"
            ],
            "text/html": [
              "Run data is saved locally in <code>/content/wandb/run-20250310_010155-7qzf8lmi</code>"
            ]
          },
          "metadata": {}
        },
        {
          "output_type": "display_data",
          "data": {
            "text/plain": [
              "<IPython.core.display.HTML object>"
            ],
            "text/html": [
              "Syncing run <strong><a href='https://wandb.ai/ma23m011-iit-madras/DA6401_Assignment1_ma23m011/runs/7qzf8lmi' target=\"_blank\">misunderstood-sweep-24</a></strong> to <a href='https://wandb.ai/ma23m011-iit-madras/DA6401_Assignment1_ma23m011' target=\"_blank\">Weights & Biases</a> (<a href='https://wandb.me/developer-guide' target=\"_blank\">docs</a>)<br>Sweep page: <a href='https://wandb.ai/ma23m011-iit-madras/DA6401_Assignment1_ma23m011/sweeps/augzj4ot' target=\"_blank\">https://wandb.ai/ma23m011-iit-madras/DA6401_Assignment1_ma23m011/sweeps/augzj4ot</a>"
            ]
          },
          "metadata": {}
        },
        {
          "output_type": "display_data",
          "data": {
            "text/plain": [
              "<IPython.core.display.HTML object>"
            ],
            "text/html": [
              " View project at <a href='https://wandb.ai/ma23m011-iit-madras/DA6401_Assignment1_ma23m011' target=\"_blank\">https://wandb.ai/ma23m011-iit-madras/DA6401_Assignment1_ma23m011</a>"
            ]
          },
          "metadata": {}
        },
        {
          "output_type": "display_data",
          "data": {
            "text/plain": [
              "<IPython.core.display.HTML object>"
            ],
            "text/html": [
              " View sweep at <a href='https://wandb.ai/ma23m011-iit-madras/DA6401_Assignment1_ma23m011/sweeps/augzj4ot' target=\"_blank\">https://wandb.ai/ma23m011-iit-madras/DA6401_Assignment1_ma23m011/sweeps/augzj4ot</a>"
            ]
          },
          "metadata": {}
        },
        {
          "output_type": "display_data",
          "data": {
            "text/plain": [
              "<IPython.core.display.HTML object>"
            ],
            "text/html": [
              " View run at <a href='https://wandb.ai/ma23m011-iit-madras/DA6401_Assignment1_ma23m011/runs/7qzf8lmi' target=\"_blank\">https://wandb.ai/ma23m011-iit-madras/DA6401_Assignment1_ma23m011/runs/7qzf8lmi</a>"
            ]
          },
          "metadata": {}
        },
        {
          "output_type": "stream",
          "name": "stderr",
          "text": [
            "<ipython-input-3-b7f5dafee785>:89: RuntimeWarning: invalid value encountered in subtract\n",
            "  exp_z = np.exp(z - np.max(z, axis=1, keepdims=True))\n"
          ]
        },
        {
          "output_type": "stream",
          "name": "stdout",
          "text": [
            "Epoch 1: Train Loss = nan, Train Acc = 9.9444, Val Loss = nan, Val Acc = 10.5000\n",
            "Epoch 2: Train Loss = nan, Train Acc = 9.9444, Val Loss = nan, Val Acc = 10.5000\n",
            "Epoch 3: Train Loss = nan, Train Acc = 9.9444, Val Loss = nan, Val Acc = 10.5000\n",
            "Epoch 4: Train Loss = nan, Train Acc = 9.9444, Val Loss = nan, Val Acc = 10.5000\n",
            "Epoch 5: Train Loss = nan, Train Acc = 9.9444, Val Loss = nan, Val Acc = 10.5000\n",
            "Epoch 6: Train Loss = nan, Train Acc = 9.9444, Val Loss = nan, Val Acc = 10.5000\n",
            "Epoch 7: Train Loss = nan, Train Acc = 9.9444, Val Loss = nan, Val Acc = 10.5000\n",
            "Epoch 8: Train Loss = nan, Train Acc = 9.9444, Val Loss = nan, Val Acc = 10.5000\n",
            "Epoch 9: Train Loss = nan, Train Acc = 9.9444, Val Loss = nan, Val Acc = 10.5000\n",
            "Epoch 10: Train Loss = nan, Train Acc = 9.9444, Val Loss = nan, Val Acc = 10.5000\n"
          ]
        },
        {
          "output_type": "display_data",
          "data": {
            "text/plain": [
              "<IPython.core.display.HTML object>"
            ],
            "text/html": []
          },
          "metadata": {}
        },
        {
          "output_type": "display_data",
          "data": {
            "text/plain": [
              "<IPython.core.display.HTML object>"
            ],
            "text/html": [
              "<br>    <style><br>        .wandb-row {<br>            display: flex;<br>            flex-direction: row;<br>            flex-wrap: wrap;<br>            justify-content: flex-start;<br>            width: 100%;<br>        }<br>        .wandb-col {<br>            display: flex;<br>            flex-direction: column;<br>            flex-basis: 100%;<br>            flex: 1;<br>            padding: 10px;<br>        }<br>    </style><br><div class=\"wandb-row\"><div class=\"wandb-col\"><h3>Run history:</h3><br/><table class=\"wandb\"><tr><td>Train_accuracy</td><td>▁▁▁▁▁▁▁▁▁▁</td></tr><tr><td>Val_accuracy</td><td>▁▁▁▁▁▁▁▁▁▁</td></tr><tr><td>epoch</td><td>▁▂▃▃▄▅▆▆▇█</td></tr></table><br/></div><div class=\"wandb-col\"><h3>Run summary:</h3><br/><table class=\"wandb\"><tr><td>Train_accuracy</td><td>9.94444</td></tr><tr><td>Train_loss</td><td>nan</td></tr><tr><td>Val_accuracy</td><td>10.5</td></tr><tr><td>Val_loss</td><td>nan</td></tr><tr><td>epoch</td><td>10</td></tr></table><br/></div></div>"
            ]
          },
          "metadata": {}
        },
        {
          "output_type": "display_data",
          "data": {
            "text/plain": [
              "<IPython.core.display.HTML object>"
            ],
            "text/html": [
              " View run <strong style=\"color:#cdcd00\">-ac_tanh-hs_128-epc_10-hl_4-regu_0.5-eta_0.0001-optmz_nadam-batch_16-wght_xavier</strong> at: <a href='https://wandb.ai/ma23m011-iit-madras/DA6401_Assignment1_ma23m011/runs/7qzf8lmi' target=\"_blank\">https://wandb.ai/ma23m011-iit-madras/DA6401_Assignment1_ma23m011/runs/7qzf8lmi</a><br> View project at: <a href='https://wandb.ai/ma23m011-iit-madras/DA6401_Assignment1_ma23m011' target=\"_blank\">https://wandb.ai/ma23m011-iit-madras/DA6401_Assignment1_ma23m011</a><br>Synced 5 W&B file(s), 0 media file(s), 0 artifact file(s) and 0 other file(s)"
            ]
          },
          "metadata": {}
        },
        {
          "output_type": "display_data",
          "data": {
            "text/plain": [
              "<IPython.core.display.HTML object>"
            ],
            "text/html": [
              "Find logs at: <code>./wandb/run-20250310_010155-7qzf8lmi/logs</code>"
            ]
          },
          "metadata": {}
        },
        {
          "output_type": "stream",
          "name": "stderr",
          "text": [
            "\u001b[34m\u001b[1mwandb\u001b[0m: Agent Starting Run: g5ko8pxz with config:\n",
            "\u001b[34m\u001b[1mwandb\u001b[0m: \tactivation: relu\n",
            "\u001b[34m\u001b[1mwandb\u001b[0m: \tbatch_size: 32\n",
            "\u001b[34m\u001b[1mwandb\u001b[0m: \tepochs: 10\n",
            "\u001b[34m\u001b[1mwandb\u001b[0m: \thidden_layers: 5\n",
            "\u001b[34m\u001b[1mwandb\u001b[0m: \thidden_size: 128\n",
            "\u001b[34m\u001b[1mwandb\u001b[0m: \tlearning_rate: 0.001\n",
            "\u001b[34m\u001b[1mwandb\u001b[0m: \toptimizer: adam\n",
            "\u001b[34m\u001b[1mwandb\u001b[0m: \tweight_decay: 0\n",
            "\u001b[34m\u001b[1mwandb\u001b[0m: \tweight_init: random\n"
          ]
        },
        {
          "output_type": "display_data",
          "data": {
            "text/plain": [
              "<IPython.core.display.HTML object>"
            ],
            "text/html": [
              "Tracking run with wandb version 0.19.7"
            ]
          },
          "metadata": {}
        },
        {
          "output_type": "display_data",
          "data": {
            "text/plain": [
              "<IPython.core.display.HTML object>"
            ],
            "text/html": [
              "Run data is saved locally in <code>/content/wandb/run-20250310_010644-g5ko8pxz</code>"
            ]
          },
          "metadata": {}
        },
        {
          "output_type": "display_data",
          "data": {
            "text/plain": [
              "<IPython.core.display.HTML object>"
            ],
            "text/html": [
              "Syncing run <strong><a href='https://wandb.ai/ma23m011-iit-madras/DA6401_Assignment1_ma23m011/runs/g5ko8pxz' target=\"_blank\">kind-sweep-25</a></strong> to <a href='https://wandb.ai/ma23m011-iit-madras/DA6401_Assignment1_ma23m011' target=\"_blank\">Weights & Biases</a> (<a href='https://wandb.me/developer-guide' target=\"_blank\">docs</a>)<br>Sweep page: <a href='https://wandb.ai/ma23m011-iit-madras/DA6401_Assignment1_ma23m011/sweeps/augzj4ot' target=\"_blank\">https://wandb.ai/ma23m011-iit-madras/DA6401_Assignment1_ma23m011/sweeps/augzj4ot</a>"
            ]
          },
          "metadata": {}
        },
        {
          "output_type": "display_data",
          "data": {
            "text/plain": [
              "<IPython.core.display.HTML object>"
            ],
            "text/html": [
              " View project at <a href='https://wandb.ai/ma23m011-iit-madras/DA6401_Assignment1_ma23m011' target=\"_blank\">https://wandb.ai/ma23m011-iit-madras/DA6401_Assignment1_ma23m011</a>"
            ]
          },
          "metadata": {}
        },
        {
          "output_type": "display_data",
          "data": {
            "text/plain": [
              "<IPython.core.display.HTML object>"
            ],
            "text/html": [
              " View sweep at <a href='https://wandb.ai/ma23m011-iit-madras/DA6401_Assignment1_ma23m011/sweeps/augzj4ot' target=\"_blank\">https://wandb.ai/ma23m011-iit-madras/DA6401_Assignment1_ma23m011/sweeps/augzj4ot</a>"
            ]
          },
          "metadata": {}
        },
        {
          "output_type": "display_data",
          "data": {
            "text/plain": [
              "<IPython.core.display.HTML object>"
            ],
            "text/html": [
              " View run at <a href='https://wandb.ai/ma23m011-iit-madras/DA6401_Assignment1_ma23m011/runs/g5ko8pxz' target=\"_blank\">https://wandb.ai/ma23m011-iit-madras/DA6401_Assignment1_ma23m011/runs/g5ko8pxz</a>"
            ]
          },
          "metadata": {}
        },
        {
          "output_type": "stream",
          "name": "stdout",
          "text": [
            "Epoch 1: Train Loss = 0.7300, Train Acc = 71.6778, Val Loss = 0.7227, Val Acc = 72.7000\n",
            "Epoch 2: Train Loss = 0.5498, Train Acc = 79.2593, Val Loss = 0.5633, Val Acc = 79.5333\n",
            "Epoch 3: Train Loss = 0.5740, Train Acc = 78.3019, Val Loss = 0.5977, Val Acc = 78.1333\n",
            "Epoch 4: Train Loss = 0.4711, Train Acc = 82.9481, Val Loss = 0.4949, Val Acc = 82.1000\n",
            "Epoch 5: Train Loss = 0.3975, Train Acc = 86.4389, Val Loss = 0.4296, Val Acc = 85.3000\n",
            "Epoch 6: Train Loss = 0.3790, Train Acc = 86.1333, Val Loss = 0.4279, Val Acc = 85.4000\n",
            "Epoch 7: Train Loss = 0.3389, Train Acc = 87.8111, Val Loss = 0.3973, Val Acc = 86.7000\n",
            "Epoch 8: Train Loss = 0.3302, Train Acc = 88.0870, Val Loss = 0.3824, Val Acc = 86.0667\n",
            "Epoch 9: Train Loss = 0.3019, Train Acc = 89.2093, Val Loss = 0.3600, Val Acc = 87.4333\n",
            "Epoch 10: Train Loss = 0.3002, Train Acc = 88.8111, Val Loss = 0.3645, Val Acc = 87.4667\n"
          ]
        },
        {
          "output_type": "display_data",
          "data": {
            "text/plain": [
              "<IPython.core.display.HTML object>"
            ],
            "text/html": []
          },
          "metadata": {}
        },
        {
          "output_type": "display_data",
          "data": {
            "text/plain": [
              "<IPython.core.display.HTML object>"
            ],
            "text/html": [
              "<br>    <style><br>        .wandb-row {<br>            display: flex;<br>            flex-direction: row;<br>            flex-wrap: wrap;<br>            justify-content: flex-start;<br>            width: 100%;<br>        }<br>        .wandb-col {<br>            display: flex;<br>            flex-direction: column;<br>            flex-basis: 100%;<br>            flex: 1;<br>            padding: 10px;<br>        }<br>    </style><br><div class=\"wandb-row\"><div class=\"wandb-col\"><h3>Run history:</h3><br/><table class=\"wandb\"><tr><td>Train_accuracy</td><td>▁▄▄▆▇▇▇███</td></tr><tr><td>Train_loss</td><td>█▅▅▄▃▂▂▁▁▁</td></tr><tr><td>Val_accuracy</td><td>▁▄▄▅▇▇█▇██</td></tr><tr><td>Val_loss</td><td>█▅▆▄▂▂▂▁▁▁</td></tr><tr><td>epoch</td><td>▁▂▃▃▄▅▆▆▇█</td></tr></table><br/></div><div class=\"wandb-col\"><h3>Run summary:</h3><br/><table class=\"wandb\"><tr><td>Train_accuracy</td><td>88.81111</td></tr><tr><td>Train_loss</td><td>0.3002</td></tr><tr><td>Val_accuracy</td><td>87.46667</td></tr><tr><td>Val_loss</td><td>0.36451</td></tr><tr><td>epoch</td><td>10</td></tr></table><br/></div></div>"
            ]
          },
          "metadata": {}
        },
        {
          "output_type": "display_data",
          "data": {
            "text/plain": [
              "<IPython.core.display.HTML object>"
            ],
            "text/html": [
              " View run <strong style=\"color:#cdcd00\">-ac_relu-hs_128-epc_10-hl_5-regu_0-eta_0.001-optmz_adam-batch_32-wght_random</strong> at: <a href='https://wandb.ai/ma23m011-iit-madras/DA6401_Assignment1_ma23m011/runs/g5ko8pxz' target=\"_blank\">https://wandb.ai/ma23m011-iit-madras/DA6401_Assignment1_ma23m011/runs/g5ko8pxz</a><br> View project at: <a href='https://wandb.ai/ma23m011-iit-madras/DA6401_Assignment1_ma23m011' target=\"_blank\">https://wandb.ai/ma23m011-iit-madras/DA6401_Assignment1_ma23m011</a><br>Synced 5 W&B file(s), 0 media file(s), 0 artifact file(s) and 0 other file(s)"
            ]
          },
          "metadata": {}
        },
        {
          "output_type": "display_data",
          "data": {
            "text/plain": [
              "<IPython.core.display.HTML object>"
            ],
            "text/html": [
              "Find logs at: <code>./wandb/run-20250310_010644-g5ko8pxz/logs</code>"
            ]
          },
          "metadata": {}
        },
        {
          "output_type": "stream",
          "name": "stderr",
          "text": [
            "\u001b[34m\u001b[1mwandb\u001b[0m: Agent Starting Run: tbjuxbtc with config:\n",
            "\u001b[34m\u001b[1mwandb\u001b[0m: \tactivation: sigmoid\n",
            "\u001b[34m\u001b[1mwandb\u001b[0m: \tbatch_size: 64\n",
            "\u001b[34m\u001b[1mwandb\u001b[0m: \tepochs: 10\n",
            "\u001b[34m\u001b[1mwandb\u001b[0m: \thidden_layers: 4\n",
            "\u001b[34m\u001b[1mwandb\u001b[0m: \thidden_size: 64\n",
            "\u001b[34m\u001b[1mwandb\u001b[0m: \tlearning_rate: 0.001\n",
            "\u001b[34m\u001b[1mwandb\u001b[0m: \toptimizer: adam\n",
            "\u001b[34m\u001b[1mwandb\u001b[0m: \tweight_decay: 0.0005\n",
            "\u001b[34m\u001b[1mwandb\u001b[0m: \tweight_init: random\n"
          ]
        },
        {
          "output_type": "display_data",
          "data": {
            "text/plain": [
              "<IPython.core.display.HTML object>"
            ],
            "text/html": [
              "Tracking run with wandb version 0.19.7"
            ]
          },
          "metadata": {}
        },
        {
          "output_type": "display_data",
          "data": {
            "text/plain": [
              "<IPython.core.display.HTML object>"
            ],
            "text/html": [
              "Run data is saved locally in <code>/content/wandb/run-20250310_011102-tbjuxbtc</code>"
            ]
          },
          "metadata": {}
        },
        {
          "output_type": "display_data",
          "data": {
            "text/plain": [
              "<IPython.core.display.HTML object>"
            ],
            "text/html": [
              "Syncing run <strong><a href='https://wandb.ai/ma23m011-iit-madras/DA6401_Assignment1_ma23m011/runs/tbjuxbtc' target=\"_blank\">lemon-sweep-26</a></strong> to <a href='https://wandb.ai/ma23m011-iit-madras/DA6401_Assignment1_ma23m011' target=\"_blank\">Weights & Biases</a> (<a href='https://wandb.me/developer-guide' target=\"_blank\">docs</a>)<br>Sweep page: <a href='https://wandb.ai/ma23m011-iit-madras/DA6401_Assignment1_ma23m011/sweeps/augzj4ot' target=\"_blank\">https://wandb.ai/ma23m011-iit-madras/DA6401_Assignment1_ma23m011/sweeps/augzj4ot</a>"
            ]
          },
          "metadata": {}
        },
        {
          "output_type": "display_data",
          "data": {
            "text/plain": [
              "<IPython.core.display.HTML object>"
            ],
            "text/html": [
              " View project at <a href='https://wandb.ai/ma23m011-iit-madras/DA6401_Assignment1_ma23m011' target=\"_blank\">https://wandb.ai/ma23m011-iit-madras/DA6401_Assignment1_ma23m011</a>"
            ]
          },
          "metadata": {}
        },
        {
          "output_type": "display_data",
          "data": {
            "text/plain": [
              "<IPython.core.display.HTML object>"
            ],
            "text/html": [
              " View sweep at <a href='https://wandb.ai/ma23m011-iit-madras/DA6401_Assignment1_ma23m011/sweeps/augzj4ot' target=\"_blank\">https://wandb.ai/ma23m011-iit-madras/DA6401_Assignment1_ma23m011/sweeps/augzj4ot</a>"
            ]
          },
          "metadata": {}
        },
        {
          "output_type": "display_data",
          "data": {
            "text/plain": [
              "<IPython.core.display.HTML object>"
            ],
            "text/html": [
              " View run at <a href='https://wandb.ai/ma23m011-iit-madras/DA6401_Assignment1_ma23m011/runs/tbjuxbtc' target=\"_blank\">https://wandb.ai/ma23m011-iit-madras/DA6401_Assignment1_ma23m011/runs/tbjuxbtc</a>"
            ]
          },
          "metadata": {}
        },
        {
          "output_type": "stream",
          "name": "stdout",
          "text": [
            "Epoch 1: Train Loss = 2.3976, Train Acc = 20.0259, Val Loss = 2.3996, Val Acc = 19.2667\n",
            "Epoch 2: Train Loss = 2.0854, Train Acc = 21.4704, Val Loss = 2.0887, Val Acc = 21.3000\n",
            "Epoch 3: Train Loss = 2.0239, Train Acc = 28.1389, Val Loss = 2.0292, Val Acc = 28.8833\n",
            "Epoch 4: Train Loss = 2.0082, Train Acc = 28.4426, Val Loss = 2.0152, Val Acc = 27.0333\n",
            "Epoch 5: Train Loss = 1.9983, Train Acc = 30.1630, Val Loss = 2.0059, Val Acc = 29.6667\n",
            "Epoch 6: Train Loss = 1.9913, Train Acc = 38.1500, Val Loss = 2.0005, Val Acc = 36.3000\n",
            "Epoch 7: Train Loss = 2.0046, Train Acc = 38.6222, Val Loss = 2.0164, Val Acc = 37.5667\n",
            "Epoch 8: Train Loss = 2.0095, Train Acc = 31.5259, Val Loss = 2.0240, Val Acc = 30.0167\n",
            "Epoch 9: Train Loss = 1.6387, Train Acc = 54.6963, Val Loss = 1.6472, Val Acc = 55.7167\n",
            "Epoch 10: Train Loss = 1.5688, Train Acc = 59.9037, Val Loss = 1.5836, Val Acc = 59.6500\n"
          ]
        },
        {
          "output_type": "display_data",
          "data": {
            "text/plain": [
              "<IPython.core.display.HTML object>"
            ],
            "text/html": []
          },
          "metadata": {}
        },
        {
          "output_type": "display_data",
          "data": {
            "text/plain": [
              "<IPython.core.display.HTML object>"
            ],
            "text/html": [
              "<br>    <style><br>        .wandb-row {<br>            display: flex;<br>            flex-direction: row;<br>            flex-wrap: wrap;<br>            justify-content: flex-start;<br>            width: 100%;<br>        }<br>        .wandb-col {<br>            display: flex;<br>            flex-direction: column;<br>            flex-basis: 100%;<br>            flex: 1;<br>            padding: 10px;<br>        }<br>    </style><br><div class=\"wandb-row\"><div class=\"wandb-col\"><h3>Run history:</h3><br/><table class=\"wandb\"><tr><td>Train_accuracy</td><td>▁▁▂▂▃▄▄▃▇█</td></tr><tr><td>Train_loss</td><td>█▅▅▅▅▅▅▅▂▁</td></tr><tr><td>Val_accuracy</td><td>▁▁▃▂▃▄▄▃▇█</td></tr><tr><td>Val_loss</td><td>█▅▅▅▅▅▅▅▂▁</td></tr><tr><td>epoch</td><td>▁▂▃▃▄▅▆▆▇█</td></tr></table><br/></div><div class=\"wandb-col\"><h3>Run summary:</h3><br/><table class=\"wandb\"><tr><td>Train_accuracy</td><td>59.9037</td></tr><tr><td>Train_loss</td><td>1.56876</td></tr><tr><td>Val_accuracy</td><td>59.65</td></tr><tr><td>Val_loss</td><td>1.58357</td></tr><tr><td>epoch</td><td>10</td></tr></table><br/></div></div>"
            ]
          },
          "metadata": {}
        },
        {
          "output_type": "display_data",
          "data": {
            "text/plain": [
              "<IPython.core.display.HTML object>"
            ],
            "text/html": [
              " View run <strong style=\"color:#cdcd00\">-ac_sigmoid-hs_64-epc_10-hl_4-regu_0.0005-eta_0.001-optmz_adam-batch_64-wght_random</strong> at: <a href='https://wandb.ai/ma23m011-iit-madras/DA6401_Assignment1_ma23m011/runs/tbjuxbtc' target=\"_blank\">https://wandb.ai/ma23m011-iit-madras/DA6401_Assignment1_ma23m011/runs/tbjuxbtc</a><br> View project at: <a href='https://wandb.ai/ma23m011-iit-madras/DA6401_Assignment1_ma23m011' target=\"_blank\">https://wandb.ai/ma23m011-iit-madras/DA6401_Assignment1_ma23m011</a><br>Synced 5 W&B file(s), 0 media file(s), 0 artifact file(s) and 0 other file(s)"
            ]
          },
          "metadata": {}
        },
        {
          "output_type": "display_data",
          "data": {
            "text/plain": [
              "<IPython.core.display.HTML object>"
            ],
            "text/html": [
              "Find logs at: <code>./wandb/run-20250310_011102-tbjuxbtc/logs</code>"
            ]
          },
          "metadata": {}
        },
        {
          "output_type": "stream",
          "name": "stderr",
          "text": [
            "\u001b[34m\u001b[1mwandb\u001b[0m: Agent Starting Run: ev2m18wx with config:\n",
            "\u001b[34m\u001b[1mwandb\u001b[0m: \tactivation: sigmoid\n",
            "\u001b[34m\u001b[1mwandb\u001b[0m: \tbatch_size: 32\n",
            "\u001b[34m\u001b[1mwandb\u001b[0m: \tepochs: 10\n",
            "\u001b[34m\u001b[1mwandb\u001b[0m: \thidden_layers: 5\n",
            "\u001b[34m\u001b[1mwandb\u001b[0m: \thidden_size: 128\n",
            "\u001b[34m\u001b[1mwandb\u001b[0m: \tlearning_rate: 0.001\n",
            "\u001b[34m\u001b[1mwandb\u001b[0m: \toptimizer: rmsprop\n",
            "\u001b[34m\u001b[1mwandb\u001b[0m: \tweight_decay: 0.5\n",
            "\u001b[34m\u001b[1mwandb\u001b[0m: \tweight_init: xavier\n"
          ]
        },
        {
          "output_type": "display_data",
          "data": {
            "text/plain": [
              "<IPython.core.display.HTML object>"
            ],
            "text/html": [
              "Tracking run with wandb version 0.19.7"
            ]
          },
          "metadata": {}
        },
        {
          "output_type": "display_data",
          "data": {
            "text/plain": [
              "<IPython.core.display.HTML object>"
            ],
            "text/html": [
              "Run data is saved locally in <code>/content/wandb/run-20250310_011203-ev2m18wx</code>"
            ]
          },
          "metadata": {}
        },
        {
          "output_type": "display_data",
          "data": {
            "text/plain": [
              "<IPython.core.display.HTML object>"
            ],
            "text/html": [
              "Syncing run <strong><a href='https://wandb.ai/ma23m011-iit-madras/DA6401_Assignment1_ma23m011/runs/ev2m18wx' target=\"_blank\">confused-sweep-27</a></strong> to <a href='https://wandb.ai/ma23m011-iit-madras/DA6401_Assignment1_ma23m011' target=\"_blank\">Weights & Biases</a> (<a href='https://wandb.me/developer-guide' target=\"_blank\">docs</a>)<br>Sweep page: <a href='https://wandb.ai/ma23m011-iit-madras/DA6401_Assignment1_ma23m011/sweeps/augzj4ot' target=\"_blank\">https://wandb.ai/ma23m011-iit-madras/DA6401_Assignment1_ma23m011/sweeps/augzj4ot</a>"
            ]
          },
          "metadata": {}
        },
        {
          "output_type": "display_data",
          "data": {
            "text/plain": [
              "<IPython.core.display.HTML object>"
            ],
            "text/html": [
              " View project at <a href='https://wandb.ai/ma23m011-iit-madras/DA6401_Assignment1_ma23m011' target=\"_blank\">https://wandb.ai/ma23m011-iit-madras/DA6401_Assignment1_ma23m011</a>"
            ]
          },
          "metadata": {}
        },
        {
          "output_type": "display_data",
          "data": {
            "text/plain": [
              "<IPython.core.display.HTML object>"
            ],
            "text/html": [
              " View sweep at <a href='https://wandb.ai/ma23m011-iit-madras/DA6401_Assignment1_ma23m011/sweeps/augzj4ot' target=\"_blank\">https://wandb.ai/ma23m011-iit-madras/DA6401_Assignment1_ma23m011/sweeps/augzj4ot</a>"
            ]
          },
          "metadata": {}
        },
        {
          "output_type": "display_data",
          "data": {
            "text/plain": [
              "<IPython.core.display.HTML object>"
            ],
            "text/html": [
              " View run at <a href='https://wandb.ai/ma23m011-iit-madras/DA6401_Assignment1_ma23m011/runs/ev2m18wx' target=\"_blank\">https://wandb.ai/ma23m011-iit-madras/DA6401_Assignment1_ma23m011/runs/ev2m18wx</a>"
            ]
          },
          "metadata": {}
        },
        {
          "output_type": "stream",
          "name": "stdout",
          "text": [
            "Epoch 1: Train Loss = 2.6432, Train Acc = 10.0648, Val Loss = 2.6447, Val Acc = 9.4167\n",
            "Epoch 2: Train Loss = 2.4291, Train Acc = 9.9704, Val Loss = 2.4254, Val Acc = 10.2667\n",
            "Epoch 3: Train Loss = 2.3922, Train Acc = 10.0296, Val Loss = 2.3925, Val Acc = 9.7333\n",
            "Epoch 4: Train Loss = 2.3950, Train Acc = 10.0648, Val Loss = 2.3939, Val Acc = 9.4167\n",
            "Epoch 5: Train Loss = 2.4155, Train Acc = 9.9648, Val Loss = 2.4164, Val Acc = 10.3167\n",
            "Epoch 6: Train Loss = 2.4012, Train Acc = 9.9389, Val Loss = 2.3999, Val Acc = 10.5500\n",
            "Epoch 7: Train Loss = 2.3982, Train Acc = 9.9444, Val Loss = 2.3929, Val Acc = 10.5000\n",
            "Epoch 8: Train Loss = 2.4126, Train Acc = 9.9648, Val Loss = 2.4167, Val Acc = 10.3167\n",
            "Epoch 9: Train Loss = 2.3841, Train Acc = 9.9648, Val Loss = 2.3806, Val Acc = 10.3167\n",
            "Epoch 10: Train Loss = 2.4088, Train Acc = 9.9907, Val Loss = 2.4063, Val Acc = 10.0833\n"
          ]
        },
        {
          "output_type": "display_data",
          "data": {
            "text/plain": [
              "<IPython.core.display.HTML object>"
            ],
            "text/html": []
          },
          "metadata": {}
        },
        {
          "output_type": "display_data",
          "data": {
            "text/plain": [
              "<IPython.core.display.HTML object>"
            ],
            "text/html": [
              "<br>    <style><br>        .wandb-row {<br>            display: flex;<br>            flex-direction: row;<br>            flex-wrap: wrap;<br>            justify-content: flex-start;<br>            width: 100%;<br>        }<br>        .wandb-col {<br>            display: flex;<br>            flex-direction: column;<br>            flex-basis: 100%;<br>            flex: 1;<br>            padding: 10px;<br>        }<br>    </style><br><div class=\"wandb-row\"><div class=\"wandb-col\"><h3>Run history:</h3><br/><table class=\"wandb\"><tr><td>Train_accuracy</td><td>█▃▆█▂▁▁▂▂▄</td></tr><tr><td>Train_loss</td><td>█▂▁▁▂▁▁▂▁▂</td></tr><tr><td>Val_accuracy</td><td>▁▆▃▁▇██▇▇▅</td></tr><tr><td>Val_loss</td><td>█▂▁▁▂▂▁▂▁▂</td></tr><tr><td>epoch</td><td>▁▂▃▃▄▅▆▆▇█</td></tr></table><br/></div><div class=\"wandb-col\"><h3>Run summary:</h3><br/><table class=\"wandb\"><tr><td>Train_accuracy</td><td>9.99074</td></tr><tr><td>Train_loss</td><td>2.40879</td></tr><tr><td>Val_accuracy</td><td>10.08333</td></tr><tr><td>Val_loss</td><td>2.40633</td></tr><tr><td>epoch</td><td>10</td></tr></table><br/></div></div>"
            ]
          },
          "metadata": {}
        },
        {
          "output_type": "display_data",
          "data": {
            "text/plain": [
              "<IPython.core.display.HTML object>"
            ],
            "text/html": [
              " View run <strong style=\"color:#cdcd00\">-ac_sigmoid-hs_128-epc_10-hl_5-regu_0.5-eta_0.001-optmz_rmsprop-batch_32-wght_xavier</strong> at: <a href='https://wandb.ai/ma23m011-iit-madras/DA6401_Assignment1_ma23m011/runs/ev2m18wx' target=\"_blank\">https://wandb.ai/ma23m011-iit-madras/DA6401_Assignment1_ma23m011/runs/ev2m18wx</a><br> View project at: <a href='https://wandb.ai/ma23m011-iit-madras/DA6401_Assignment1_ma23m011' target=\"_blank\">https://wandb.ai/ma23m011-iit-madras/DA6401_Assignment1_ma23m011</a><br>Synced 5 W&B file(s), 0 media file(s), 0 artifact file(s) and 0 other file(s)"
            ]
          },
          "metadata": {}
        },
        {
          "output_type": "display_data",
          "data": {
            "text/plain": [
              "<IPython.core.display.HTML object>"
            ],
            "text/html": [
              "Find logs at: <code>./wandb/run-20250310_011203-ev2m18wx/logs</code>"
            ]
          },
          "metadata": {}
        },
        {
          "output_type": "stream",
          "name": "stderr",
          "text": [
            "\u001b[34m\u001b[1mwandb\u001b[0m: Agent Starting Run: 3ki8o78o with config:\n",
            "\u001b[34m\u001b[1mwandb\u001b[0m: \tactivation: sigmoid\n",
            "\u001b[34m\u001b[1mwandb\u001b[0m: \tbatch_size: 16\n",
            "\u001b[34m\u001b[1mwandb\u001b[0m: \tepochs: 5\n",
            "\u001b[34m\u001b[1mwandb\u001b[0m: \thidden_layers: 5\n",
            "\u001b[34m\u001b[1mwandb\u001b[0m: \thidden_size: 128\n",
            "\u001b[34m\u001b[1mwandb\u001b[0m: \tlearning_rate: 0.001\n",
            "\u001b[34m\u001b[1mwandb\u001b[0m: \toptimizer: nadam\n",
            "\u001b[34m\u001b[1mwandb\u001b[0m: \tweight_decay: 0.5\n",
            "\u001b[34m\u001b[1mwandb\u001b[0m: \tweight_init: random\n"
          ]
        },
        {
          "output_type": "display_data",
          "data": {
            "text/plain": [
              "<IPython.core.display.HTML object>"
            ],
            "text/html": [
              "Tracking run with wandb version 0.19.7"
            ]
          },
          "metadata": {}
        },
        {
          "output_type": "display_data",
          "data": {
            "text/plain": [
              "<IPython.core.display.HTML object>"
            ],
            "text/html": [
              "Run data is saved locally in <code>/content/wandb/run-20250310_011451-3ki8o78o</code>"
            ]
          },
          "metadata": {}
        },
        {
          "output_type": "display_data",
          "data": {
            "text/plain": [
              "<IPython.core.display.HTML object>"
            ],
            "text/html": [
              "Syncing run <strong><a href='https://wandb.ai/ma23m011-iit-madras/DA6401_Assignment1_ma23m011/runs/3ki8o78o' target=\"_blank\">valiant-sweep-28</a></strong> to <a href='https://wandb.ai/ma23m011-iit-madras/DA6401_Assignment1_ma23m011' target=\"_blank\">Weights & Biases</a> (<a href='https://wandb.me/developer-guide' target=\"_blank\">docs</a>)<br>Sweep page: <a href='https://wandb.ai/ma23m011-iit-madras/DA6401_Assignment1_ma23m011/sweeps/augzj4ot' target=\"_blank\">https://wandb.ai/ma23m011-iit-madras/DA6401_Assignment1_ma23m011/sweeps/augzj4ot</a>"
            ]
          },
          "metadata": {}
        },
        {
          "output_type": "display_data",
          "data": {
            "text/plain": [
              "<IPython.core.display.HTML object>"
            ],
            "text/html": [
              " View project at <a href='https://wandb.ai/ma23m011-iit-madras/DA6401_Assignment1_ma23m011' target=\"_blank\">https://wandb.ai/ma23m011-iit-madras/DA6401_Assignment1_ma23m011</a>"
            ]
          },
          "metadata": {}
        },
        {
          "output_type": "display_data",
          "data": {
            "text/plain": [
              "<IPython.core.display.HTML object>"
            ],
            "text/html": [
              " View sweep at <a href='https://wandb.ai/ma23m011-iit-madras/DA6401_Assignment1_ma23m011/sweeps/augzj4ot' target=\"_blank\">https://wandb.ai/ma23m011-iit-madras/DA6401_Assignment1_ma23m011/sweeps/augzj4ot</a>"
            ]
          },
          "metadata": {}
        },
        {
          "output_type": "display_data",
          "data": {
            "text/plain": [
              "<IPython.core.display.HTML object>"
            ],
            "text/html": [
              " View run at <a href='https://wandb.ai/ma23m011-iit-madras/DA6401_Assignment1_ma23m011/runs/3ki8o78o' target=\"_blank\">https://wandb.ai/ma23m011-iit-madras/DA6401_Assignment1_ma23m011/runs/3ki8o78o</a>"
            ]
          },
          "metadata": {}
        },
        {
          "output_type": "stream",
          "name": "stdout",
          "text": [
            "Epoch 1: Train Loss = nan, Train Acc = 9.9444, Val Loss = nan, Val Acc = 10.5000\n",
            "Epoch 2: Train Loss = nan, Train Acc = 9.9444, Val Loss = nan, Val Acc = 10.5000\n",
            "Epoch 3: Train Loss = nan, Train Acc = 9.9444, Val Loss = nan, Val Acc = 10.5000\n",
            "Epoch 4: Train Loss = nan, Train Acc = 9.9444, Val Loss = nan, Val Acc = 10.5000\n",
            "Epoch 5: Train Loss = nan, Train Acc = 9.9444, Val Loss = nan, Val Acc = 10.5000\n"
          ]
        },
        {
          "output_type": "display_data",
          "data": {
            "text/plain": [
              "<IPython.core.display.HTML object>"
            ],
            "text/html": []
          },
          "metadata": {}
        },
        {
          "output_type": "display_data",
          "data": {
            "text/plain": [
              "<IPython.core.display.HTML object>"
            ],
            "text/html": [
              "<br>    <style><br>        .wandb-row {<br>            display: flex;<br>            flex-direction: row;<br>            flex-wrap: wrap;<br>            justify-content: flex-start;<br>            width: 100%;<br>        }<br>        .wandb-col {<br>            display: flex;<br>            flex-direction: column;<br>            flex-basis: 100%;<br>            flex: 1;<br>            padding: 10px;<br>        }<br>    </style><br><div class=\"wandb-row\"><div class=\"wandb-col\"><h3>Run history:</h3><br/><table class=\"wandb\"><tr><td>Train_accuracy</td><td>▁▁▁▁▁</td></tr><tr><td>Val_accuracy</td><td>▁▁▁▁▁</td></tr><tr><td>epoch</td><td>▁▃▅▆█</td></tr></table><br/></div><div class=\"wandb-col\"><h3>Run summary:</h3><br/><table class=\"wandb\"><tr><td>Train_accuracy</td><td>9.94444</td></tr><tr><td>Train_loss</td><td>nan</td></tr><tr><td>Val_accuracy</td><td>10.5</td></tr><tr><td>Val_loss</td><td>nan</td></tr><tr><td>epoch</td><td>5</td></tr></table><br/></div></div>"
            ]
          },
          "metadata": {}
        },
        {
          "output_type": "display_data",
          "data": {
            "text/plain": [
              "<IPython.core.display.HTML object>"
            ],
            "text/html": [
              " View run <strong style=\"color:#cdcd00\">-ac_sigmoid-hs_128-epc_5-hl_5-regu_0.5-eta_0.001-optmz_nadam-batch_16-wght_random</strong> at: <a href='https://wandb.ai/ma23m011-iit-madras/DA6401_Assignment1_ma23m011/runs/3ki8o78o' target=\"_blank\">https://wandb.ai/ma23m011-iit-madras/DA6401_Assignment1_ma23m011/runs/3ki8o78o</a><br> View project at: <a href='https://wandb.ai/ma23m011-iit-madras/DA6401_Assignment1_ma23m011' target=\"_blank\">https://wandb.ai/ma23m011-iit-madras/DA6401_Assignment1_ma23m011</a><br>Synced 5 W&B file(s), 0 media file(s), 0 artifact file(s) and 0 other file(s)"
            ]
          },
          "metadata": {}
        },
        {
          "output_type": "display_data",
          "data": {
            "text/plain": [
              "<IPython.core.display.HTML object>"
            ],
            "text/html": [
              "Find logs at: <code>./wandb/run-20250310_011451-3ki8o78o/logs</code>"
            ]
          },
          "metadata": {}
        },
        {
          "output_type": "stream",
          "name": "stderr",
          "text": [
            "\u001b[34m\u001b[1mwandb\u001b[0m: Agent Starting Run: aj1u991y with config:\n",
            "\u001b[34m\u001b[1mwandb\u001b[0m: \tactivation: tanh\n",
            "\u001b[34m\u001b[1mwandb\u001b[0m: \tbatch_size: 16\n",
            "\u001b[34m\u001b[1mwandb\u001b[0m: \tepochs: 10\n",
            "\u001b[34m\u001b[1mwandb\u001b[0m: \thidden_layers: 5\n",
            "\u001b[34m\u001b[1mwandb\u001b[0m: \thidden_size: 128\n",
            "\u001b[34m\u001b[1mwandb\u001b[0m: \tlearning_rate: 0.001\n",
            "\u001b[34m\u001b[1mwandb\u001b[0m: \toptimizer: nadam\n",
            "\u001b[34m\u001b[1mwandb\u001b[0m: \tweight_decay: 0.0005\n",
            "\u001b[34m\u001b[1mwandb\u001b[0m: \tweight_init: xavier\n"
          ]
        },
        {
          "output_type": "display_data",
          "data": {
            "text/plain": [
              "<IPython.core.display.HTML object>"
            ],
            "text/html": [
              "Tracking run with wandb version 0.19.7"
            ]
          },
          "metadata": {}
        },
        {
          "output_type": "display_data",
          "data": {
            "text/plain": [
              "<IPython.core.display.HTML object>"
            ],
            "text/html": [
              "Run data is saved locally in <code>/content/wandb/run-20250310_011723-aj1u991y</code>"
            ]
          },
          "metadata": {}
        },
        {
          "output_type": "display_data",
          "data": {
            "text/plain": [
              "<IPython.core.display.HTML object>"
            ],
            "text/html": [
              "Syncing run <strong><a href='https://wandb.ai/ma23m011-iit-madras/DA6401_Assignment1_ma23m011/runs/aj1u991y' target=\"_blank\">lunar-sweep-29</a></strong> to <a href='https://wandb.ai/ma23m011-iit-madras/DA6401_Assignment1_ma23m011' target=\"_blank\">Weights & Biases</a> (<a href='https://wandb.me/developer-guide' target=\"_blank\">docs</a>)<br>Sweep page: <a href='https://wandb.ai/ma23m011-iit-madras/DA6401_Assignment1_ma23m011/sweeps/augzj4ot' target=\"_blank\">https://wandb.ai/ma23m011-iit-madras/DA6401_Assignment1_ma23m011/sweeps/augzj4ot</a>"
            ]
          },
          "metadata": {}
        },
        {
          "output_type": "display_data",
          "data": {
            "text/plain": [
              "<IPython.core.display.HTML object>"
            ],
            "text/html": [
              " View project at <a href='https://wandb.ai/ma23m011-iit-madras/DA6401_Assignment1_ma23m011' target=\"_blank\">https://wandb.ai/ma23m011-iit-madras/DA6401_Assignment1_ma23m011</a>"
            ]
          },
          "metadata": {}
        },
        {
          "output_type": "display_data",
          "data": {
            "text/plain": [
              "<IPython.core.display.HTML object>"
            ],
            "text/html": [
              " View sweep at <a href='https://wandb.ai/ma23m011-iit-madras/DA6401_Assignment1_ma23m011/sweeps/augzj4ot' target=\"_blank\">https://wandb.ai/ma23m011-iit-madras/DA6401_Assignment1_ma23m011/sweeps/augzj4ot</a>"
            ]
          },
          "metadata": {}
        },
        {
          "output_type": "display_data",
          "data": {
            "text/plain": [
              "<IPython.core.display.HTML object>"
            ],
            "text/html": [
              " View run at <a href='https://wandb.ai/ma23m011-iit-madras/DA6401_Assignment1_ma23m011/runs/aj1u991y' target=\"_blank\">https://wandb.ai/ma23m011-iit-madras/DA6401_Assignment1_ma23m011/runs/aj1u991y</a>"
            ]
          },
          "metadata": {}
        },
        {
          "output_type": "stream",
          "name": "stderr",
          "text": [
            "<ipython-input-3-b7f5dafee785>:89: RuntimeWarning: overflow encountered in subtract\n",
            "  exp_z = np.exp(z - np.max(z, axis=1, keepdims=True))\n"
          ]
        },
        {
          "output_type": "stream",
          "name": "stdout",
          "text": [
            "Epoch 1: Train Loss = nan, Train Acc = 9.9444, Val Loss = nan, Val Acc = 10.5000\n",
            "Epoch 2: Train Loss = nan, Train Acc = 9.9444, Val Loss = nan, Val Acc = 10.5000\n",
            "Epoch 3: Train Loss = nan, Train Acc = 9.9444, Val Loss = nan, Val Acc = 10.5000\n",
            "Epoch 4: Train Loss = nan, Train Acc = 9.9444, Val Loss = nan, Val Acc = 10.5000\n",
            "Epoch 5: Train Loss = nan, Train Acc = 9.9444, Val Loss = nan, Val Acc = 10.5000\n",
            "Epoch 6: Train Loss = nan, Train Acc = 9.9444, Val Loss = nan, Val Acc = 10.5000\n",
            "Epoch 7: Train Loss = nan, Train Acc = 9.9444, Val Loss = nan, Val Acc = 10.5000\n",
            "Epoch 8: Train Loss = nan, Train Acc = 9.9444, Val Loss = nan, Val Acc = 10.5000\n",
            "Epoch 9: Train Loss = nan, Train Acc = 9.9444, Val Loss = nan, Val Acc = 10.5000\n",
            "Epoch 10: Train Loss = nan, Train Acc = 9.9444, Val Loss = nan, Val Acc = 10.5000\n"
          ]
        },
        {
          "output_type": "display_data",
          "data": {
            "text/plain": [
              "<IPython.core.display.HTML object>"
            ],
            "text/html": []
          },
          "metadata": {}
        },
        {
          "output_type": "display_data",
          "data": {
            "text/plain": [
              "<IPython.core.display.HTML object>"
            ],
            "text/html": [
              "<br>    <style><br>        .wandb-row {<br>            display: flex;<br>            flex-direction: row;<br>            flex-wrap: wrap;<br>            justify-content: flex-start;<br>            width: 100%;<br>        }<br>        .wandb-col {<br>            display: flex;<br>            flex-direction: column;<br>            flex-basis: 100%;<br>            flex: 1;<br>            padding: 10px;<br>        }<br>    </style><br><div class=\"wandb-row\"><div class=\"wandb-col\"><h3>Run history:</h3><br/><table class=\"wandb\"><tr><td>Train_accuracy</td><td>▁▁▁▁▁▁▁▁▁▁</td></tr><tr><td>Val_accuracy</td><td>▁▁▁▁▁▁▁▁▁▁</td></tr><tr><td>epoch</td><td>▁▂▃▃▄▅▆▆▇█</td></tr></table><br/></div><div class=\"wandb-col\"><h3>Run summary:</h3><br/><table class=\"wandb\"><tr><td>Train_accuracy</td><td>9.94444</td></tr><tr><td>Train_loss</td><td>nan</td></tr><tr><td>Val_accuracy</td><td>10.5</td></tr><tr><td>Val_loss</td><td>nan</td></tr><tr><td>epoch</td><td>10</td></tr></table><br/></div></div>"
            ]
          },
          "metadata": {}
        },
        {
          "output_type": "display_data",
          "data": {
            "text/plain": [
              "<IPython.core.display.HTML object>"
            ],
            "text/html": [
              " View run <strong style=\"color:#cdcd00\">-ac_tanh-hs_128-epc_10-hl_5-regu_0.0005-eta_0.001-optmz_nadam-batch_16-wght_xavier</strong> at: <a href='https://wandb.ai/ma23m011-iit-madras/DA6401_Assignment1_ma23m011/runs/aj1u991y' target=\"_blank\">https://wandb.ai/ma23m011-iit-madras/DA6401_Assignment1_ma23m011/runs/aj1u991y</a><br> View project at: <a href='https://wandb.ai/ma23m011-iit-madras/DA6401_Assignment1_ma23m011' target=\"_blank\">https://wandb.ai/ma23m011-iit-madras/DA6401_Assignment1_ma23m011</a><br>Synced 5 W&B file(s), 0 media file(s), 0 artifact file(s) and 0 other file(s)"
            ]
          },
          "metadata": {}
        },
        {
          "output_type": "display_data",
          "data": {
            "text/plain": [
              "<IPython.core.display.HTML object>"
            ],
            "text/html": [
              "Find logs at: <code>./wandb/run-20250310_011723-aj1u991y/logs</code>"
            ]
          },
          "metadata": {}
        },
        {
          "output_type": "stream",
          "name": "stderr",
          "text": [
            "\u001b[34m\u001b[1mwandb\u001b[0m: Agent Starting Run: c14z54qr with config:\n",
            "\u001b[34m\u001b[1mwandb\u001b[0m: \tactivation: tanh\n",
            "\u001b[34m\u001b[1mwandb\u001b[0m: \tbatch_size: 16\n",
            "\u001b[34m\u001b[1mwandb\u001b[0m: \tepochs: 5\n",
            "\u001b[34m\u001b[1mwandb\u001b[0m: \thidden_layers: 5\n",
            "\u001b[34m\u001b[1mwandb\u001b[0m: \thidden_size: 64\n",
            "\u001b[34m\u001b[1mwandb\u001b[0m: \tlearning_rate: 0.001\n",
            "\u001b[34m\u001b[1mwandb\u001b[0m: \toptimizer: mgd\n",
            "\u001b[34m\u001b[1mwandb\u001b[0m: \tweight_decay: 0.5\n",
            "\u001b[34m\u001b[1mwandb\u001b[0m: \tweight_init: xavier\n"
          ]
        },
        {
          "output_type": "display_data",
          "data": {
            "text/plain": [
              "<IPython.core.display.HTML object>"
            ],
            "text/html": [
              "Tracking run with wandb version 0.19.7"
            ]
          },
          "metadata": {}
        },
        {
          "output_type": "display_data",
          "data": {
            "text/plain": [
              "<IPython.core.display.HTML object>"
            ],
            "text/html": [
              "Run data is saved locally in <code>/content/wandb/run-20250310_012257-c14z54qr</code>"
            ]
          },
          "metadata": {}
        },
        {
          "output_type": "display_data",
          "data": {
            "text/plain": [
              "<IPython.core.display.HTML object>"
            ],
            "text/html": [
              "Syncing run <strong><a href='https://wandb.ai/ma23m011-iit-madras/DA6401_Assignment1_ma23m011/runs/c14z54qr' target=\"_blank\">quiet-sweep-30</a></strong> to <a href='https://wandb.ai/ma23m011-iit-madras/DA6401_Assignment1_ma23m011' target=\"_blank\">Weights & Biases</a> (<a href='https://wandb.me/developer-guide' target=\"_blank\">docs</a>)<br>Sweep page: <a href='https://wandb.ai/ma23m011-iit-madras/DA6401_Assignment1_ma23m011/sweeps/augzj4ot' target=\"_blank\">https://wandb.ai/ma23m011-iit-madras/DA6401_Assignment1_ma23m011/sweeps/augzj4ot</a>"
            ]
          },
          "metadata": {}
        },
        {
          "output_type": "display_data",
          "data": {
            "text/plain": [
              "<IPython.core.display.HTML object>"
            ],
            "text/html": [
              " View project at <a href='https://wandb.ai/ma23m011-iit-madras/DA6401_Assignment1_ma23m011' target=\"_blank\">https://wandb.ai/ma23m011-iit-madras/DA6401_Assignment1_ma23m011</a>"
            ]
          },
          "metadata": {}
        },
        {
          "output_type": "display_data",
          "data": {
            "text/plain": [
              "<IPython.core.display.HTML object>"
            ],
            "text/html": [
              " View sweep at <a href='https://wandb.ai/ma23m011-iit-madras/DA6401_Assignment1_ma23m011/sweeps/augzj4ot' target=\"_blank\">https://wandb.ai/ma23m011-iit-madras/DA6401_Assignment1_ma23m011/sweeps/augzj4ot</a>"
            ]
          },
          "metadata": {}
        },
        {
          "output_type": "display_data",
          "data": {
            "text/plain": [
              "<IPython.core.display.HTML object>"
            ],
            "text/html": [
              " View run at <a href='https://wandb.ai/ma23m011-iit-madras/DA6401_Assignment1_ma23m011/runs/c14z54qr' target=\"_blank\">https://wandb.ai/ma23m011-iit-madras/DA6401_Assignment1_ma23m011/runs/c14z54qr</a>"
            ]
          },
          "metadata": {}
        },
        {
          "output_type": "stream",
          "name": "stdout",
          "text": [
            "Epoch 1: Train Loss = 83.8385, Train Acc = 6.2722, Val Loss = 83.8412, Val Acc = 5.8833\n",
            "Epoch 2: Train Loss = 83.8385, Train Acc = 6.2722, Val Loss = 83.8412, Val Acc = 5.8833\n",
            "Epoch 3: Train Loss = 83.8385, Train Acc = 6.2722, Val Loss = 83.8412, Val Acc = 5.8833\n",
            "Epoch 4: Train Loss = 83.8385, Train Acc = 6.2722, Val Loss = 83.8412, Val Acc = 5.8833\n",
            "Epoch 5: Train Loss = 83.8385, Train Acc = 6.2722, Val Loss = 83.8412, Val Acc = 5.8833\n"
          ]
        },
        {
          "output_type": "display_data",
          "data": {
            "text/plain": [
              "<IPython.core.display.HTML object>"
            ],
            "text/html": []
          },
          "metadata": {}
        },
        {
          "output_type": "display_data",
          "data": {
            "text/plain": [
              "<IPython.core.display.HTML object>"
            ],
            "text/html": [
              "<br>    <style><br>        .wandb-row {<br>            display: flex;<br>            flex-direction: row;<br>            flex-wrap: wrap;<br>            justify-content: flex-start;<br>            width: 100%;<br>        }<br>        .wandb-col {<br>            display: flex;<br>            flex-direction: column;<br>            flex-basis: 100%;<br>            flex: 1;<br>            padding: 10px;<br>        }<br>    </style><br><div class=\"wandb-row\"><div class=\"wandb-col\"><h3>Run history:</h3><br/><table class=\"wandb\"><tr><td>Train_accuracy</td><td>▁▁▁▁▁</td></tr><tr><td>Train_loss</td><td>▁▁▁▁▁</td></tr><tr><td>Val_accuracy</td><td>▁▁▁▁▁</td></tr><tr><td>Val_loss</td><td>▁▁▁▁▁</td></tr><tr><td>epoch</td><td>▁▃▅▆█</td></tr></table><br/></div><div class=\"wandb-col\"><h3>Run summary:</h3><br/><table class=\"wandb\"><tr><td>Train_accuracy</td><td>6.27222</td></tr><tr><td>Train_loss</td><td>83.83845</td></tr><tr><td>Val_accuracy</td><td>5.88333</td></tr><tr><td>Val_loss</td><td>83.84121</td></tr><tr><td>epoch</td><td>5</td></tr></table><br/></div></div>"
            ]
          },
          "metadata": {}
        },
        {
          "output_type": "display_data",
          "data": {
            "text/plain": [
              "<IPython.core.display.HTML object>"
            ],
            "text/html": [
              " View run <strong style=\"color:#cdcd00\">-ac_tanh-hs_64-epc_5-hl_5-regu_0.5-eta_0.001-optmz_mgd-batch_16-wght_xavier</strong> at: <a href='https://wandb.ai/ma23m011-iit-madras/DA6401_Assignment1_ma23m011/runs/c14z54qr' target=\"_blank\">https://wandb.ai/ma23m011-iit-madras/DA6401_Assignment1_ma23m011/runs/c14z54qr</a><br> View project at: <a href='https://wandb.ai/ma23m011-iit-madras/DA6401_Assignment1_ma23m011' target=\"_blank\">https://wandb.ai/ma23m011-iit-madras/DA6401_Assignment1_ma23m011</a><br>Synced 5 W&B file(s), 0 media file(s), 0 artifact file(s) and 0 other file(s)"
            ]
          },
          "metadata": {}
        },
        {
          "output_type": "display_data",
          "data": {
            "text/plain": [
              "<IPython.core.display.HTML object>"
            ],
            "text/html": [
              "Find logs at: <code>./wandb/run-20250310_012257-c14z54qr/logs</code>"
            ]
          },
          "metadata": {}
        },
        {
          "output_type": "stream",
          "name": "stderr",
          "text": [
            "\u001b[34m\u001b[1mwandb\u001b[0m: Sweep Agent: Waiting for job.\n",
            "\u001b[34m\u001b[1mwandb\u001b[0m: Job received.\n",
            "\u001b[34m\u001b[1mwandb\u001b[0m: Agent Starting Run: 58vf6zq3 with config:\n",
            "\u001b[34m\u001b[1mwandb\u001b[0m: \tactivation: tanh\n",
            "\u001b[34m\u001b[1mwandb\u001b[0m: \tbatch_size: 16\n",
            "\u001b[34m\u001b[1mwandb\u001b[0m: \tepochs: 10\n",
            "\u001b[34m\u001b[1mwandb\u001b[0m: \thidden_layers: 4\n",
            "\u001b[34m\u001b[1mwandb\u001b[0m: \thidden_size: 128\n",
            "\u001b[34m\u001b[1mwandb\u001b[0m: \tlearning_rate: 0.001\n",
            "\u001b[34m\u001b[1mwandb\u001b[0m: \toptimizer: nadam\n",
            "\u001b[34m\u001b[1mwandb\u001b[0m: \tweight_decay: 0.0005\n",
            "\u001b[34m\u001b[1mwandb\u001b[0m: \tweight_init: xavier\n"
          ]
        },
        {
          "output_type": "display_data",
          "data": {
            "text/plain": [
              "<IPython.core.display.HTML object>"
            ],
            "text/html": [
              "Tracking run with wandb version 0.19.7"
            ]
          },
          "metadata": {}
        },
        {
          "output_type": "display_data",
          "data": {
            "text/plain": [
              "<IPython.core.display.HTML object>"
            ],
            "text/html": [
              "Run data is saved locally in <code>/content/wandb/run-20250310_012358-58vf6zq3</code>"
            ]
          },
          "metadata": {}
        },
        {
          "output_type": "display_data",
          "data": {
            "text/plain": [
              "<IPython.core.display.HTML object>"
            ],
            "text/html": [
              "Syncing run <strong><a href='https://wandb.ai/ma23m011-iit-madras/DA6401_Assignment1_ma23m011/runs/58vf6zq3' target=\"_blank\">toasty-sweep-31</a></strong> to <a href='https://wandb.ai/ma23m011-iit-madras/DA6401_Assignment1_ma23m011' target=\"_blank\">Weights & Biases</a> (<a href='https://wandb.me/developer-guide' target=\"_blank\">docs</a>)<br>Sweep page: <a href='https://wandb.ai/ma23m011-iit-madras/DA6401_Assignment1_ma23m011/sweeps/augzj4ot' target=\"_blank\">https://wandb.ai/ma23m011-iit-madras/DA6401_Assignment1_ma23m011/sweeps/augzj4ot</a>"
            ]
          },
          "metadata": {}
        },
        {
          "output_type": "display_data",
          "data": {
            "text/plain": [
              "<IPython.core.display.HTML object>"
            ],
            "text/html": [
              " View project at <a href='https://wandb.ai/ma23m011-iit-madras/DA6401_Assignment1_ma23m011' target=\"_blank\">https://wandb.ai/ma23m011-iit-madras/DA6401_Assignment1_ma23m011</a>"
            ]
          },
          "metadata": {}
        },
        {
          "output_type": "display_data",
          "data": {
            "text/plain": [
              "<IPython.core.display.HTML object>"
            ],
            "text/html": [
              " View sweep at <a href='https://wandb.ai/ma23m011-iit-madras/DA6401_Assignment1_ma23m011/sweeps/augzj4ot' target=\"_blank\">https://wandb.ai/ma23m011-iit-madras/DA6401_Assignment1_ma23m011/sweeps/augzj4ot</a>"
            ]
          },
          "metadata": {}
        },
        {
          "output_type": "display_data",
          "data": {
            "text/plain": [
              "<IPython.core.display.HTML object>"
            ],
            "text/html": [
              " View run at <a href='https://wandb.ai/ma23m011-iit-madras/DA6401_Assignment1_ma23m011/runs/58vf6zq3' target=\"_blank\">https://wandb.ai/ma23m011-iit-madras/DA6401_Assignment1_ma23m011/runs/58vf6zq3</a>"
            ]
          },
          "metadata": {}
        },
        {
          "output_type": "stream",
          "name": "stdout",
          "text": [
            "Epoch 1: Train Loss = nan, Train Acc = 9.9444, Val Loss = nan, Val Acc = 10.5000\n",
            "Epoch 2: Train Loss = nan, Train Acc = 9.9444, Val Loss = nan, Val Acc = 10.5000\n",
            "Epoch 3: Train Loss = nan, Train Acc = 9.9444, Val Loss = nan, Val Acc = 10.5000\n",
            "Epoch 4: Train Loss = nan, Train Acc = 9.9444, Val Loss = nan, Val Acc = 10.5000\n",
            "Epoch 5: Train Loss = nan, Train Acc = 9.9444, Val Loss = nan, Val Acc = 10.5000\n",
            "Epoch 6: Train Loss = nan, Train Acc = 9.9444, Val Loss = nan, Val Acc = 10.5000\n",
            "Epoch 7: Train Loss = nan, Train Acc = 9.9444, Val Loss = nan, Val Acc = 10.5000\n",
            "Epoch 8: Train Loss = nan, Train Acc = 9.9444, Val Loss = nan, Val Acc = 10.5000\n",
            "Epoch 9: Train Loss = nan, Train Acc = 9.9444, Val Loss = nan, Val Acc = 10.5000\n",
            "Epoch 10: Train Loss = nan, Train Acc = 9.9444, Val Loss = nan, Val Acc = 10.5000\n"
          ]
        },
        {
          "output_type": "display_data",
          "data": {
            "text/plain": [
              "<IPython.core.display.HTML object>"
            ],
            "text/html": []
          },
          "metadata": {}
        },
        {
          "output_type": "display_data",
          "data": {
            "text/plain": [
              "<IPython.core.display.HTML object>"
            ],
            "text/html": [
              "<br>    <style><br>        .wandb-row {<br>            display: flex;<br>            flex-direction: row;<br>            flex-wrap: wrap;<br>            justify-content: flex-start;<br>            width: 100%;<br>        }<br>        .wandb-col {<br>            display: flex;<br>            flex-direction: column;<br>            flex-basis: 100%;<br>            flex: 1;<br>            padding: 10px;<br>        }<br>    </style><br><div class=\"wandb-row\"><div class=\"wandb-col\"><h3>Run history:</h3><br/><table class=\"wandb\"><tr><td>Train_accuracy</td><td>▁▁▁▁▁▁▁▁▁▁</td></tr><tr><td>Val_accuracy</td><td>▁▁▁▁▁▁▁▁▁▁</td></tr><tr><td>epoch</td><td>▁▂▃▃▄▅▆▆▇█</td></tr></table><br/></div><div class=\"wandb-col\"><h3>Run summary:</h3><br/><table class=\"wandb\"><tr><td>Train_accuracy</td><td>9.94444</td></tr><tr><td>Train_loss</td><td>nan</td></tr><tr><td>Val_accuracy</td><td>10.5</td></tr><tr><td>Val_loss</td><td>nan</td></tr><tr><td>epoch</td><td>10</td></tr></table><br/></div></div>"
            ]
          },
          "metadata": {}
        },
        {
          "output_type": "display_data",
          "data": {
            "text/plain": [
              "<IPython.core.display.HTML object>"
            ],
            "text/html": [
              " View run <strong style=\"color:#cdcd00\">-ac_tanh-hs_128-epc_10-hl_4-regu_0.0005-eta_0.001-optmz_nadam-batch_16-wght_xavier</strong> at: <a href='https://wandb.ai/ma23m011-iit-madras/DA6401_Assignment1_ma23m011/runs/58vf6zq3' target=\"_blank\">https://wandb.ai/ma23m011-iit-madras/DA6401_Assignment1_ma23m011/runs/58vf6zq3</a><br> View project at: <a href='https://wandb.ai/ma23m011-iit-madras/DA6401_Assignment1_ma23m011' target=\"_blank\">https://wandb.ai/ma23m011-iit-madras/DA6401_Assignment1_ma23m011</a><br>Synced 5 W&B file(s), 0 media file(s), 0 artifact file(s) and 0 other file(s)"
            ]
          },
          "metadata": {}
        },
        {
          "output_type": "display_data",
          "data": {
            "text/plain": [
              "<IPython.core.display.HTML object>"
            ],
            "text/html": [
              "Find logs at: <code>./wandb/run-20250310_012358-58vf6zq3/logs</code>"
            ]
          },
          "metadata": {}
        },
        {
          "output_type": "stream",
          "name": "stderr",
          "text": [
            "\u001b[34m\u001b[1mwandb\u001b[0m: Agent Starting Run: 24uehrx5 with config:\n",
            "\u001b[34m\u001b[1mwandb\u001b[0m: \tactivation: relu\n",
            "\u001b[34m\u001b[1mwandb\u001b[0m: \tbatch_size: 16\n",
            "\u001b[34m\u001b[1mwandb\u001b[0m: \tepochs: 10\n",
            "\u001b[34m\u001b[1mwandb\u001b[0m: \thidden_layers: 5\n",
            "\u001b[34m\u001b[1mwandb\u001b[0m: \thidden_size: 64\n",
            "\u001b[34m\u001b[1mwandb\u001b[0m: \tlearning_rate: 0.0001\n",
            "\u001b[34m\u001b[1mwandb\u001b[0m: \toptimizer: mgd\n",
            "\u001b[34m\u001b[1mwandb\u001b[0m: \tweight_decay: 0.5\n",
            "\u001b[34m\u001b[1mwandb\u001b[0m: \tweight_init: xavier\n"
          ]
        },
        {
          "output_type": "display_data",
          "data": {
            "text/plain": [
              "<IPython.core.display.HTML object>"
            ],
            "text/html": [
              "Tracking run with wandb version 0.19.7"
            ]
          },
          "metadata": {}
        },
        {
          "output_type": "display_data",
          "data": {
            "text/plain": [
              "<IPython.core.display.HTML object>"
            ],
            "text/html": [
              "Run data is saved locally in <code>/content/wandb/run-20250310_012852-24uehrx5</code>"
            ]
          },
          "metadata": {}
        },
        {
          "output_type": "display_data",
          "data": {
            "text/plain": [
              "<IPython.core.display.HTML object>"
            ],
            "text/html": [
              "Syncing run <strong><a href='https://wandb.ai/ma23m011-iit-madras/DA6401_Assignment1_ma23m011/runs/24uehrx5' target=\"_blank\">scarlet-sweep-32</a></strong> to <a href='https://wandb.ai/ma23m011-iit-madras/DA6401_Assignment1_ma23m011' target=\"_blank\">Weights & Biases</a> (<a href='https://wandb.me/developer-guide' target=\"_blank\">docs</a>)<br>Sweep page: <a href='https://wandb.ai/ma23m011-iit-madras/DA6401_Assignment1_ma23m011/sweeps/augzj4ot' target=\"_blank\">https://wandb.ai/ma23m011-iit-madras/DA6401_Assignment1_ma23m011/sweeps/augzj4ot</a>"
            ]
          },
          "metadata": {}
        },
        {
          "output_type": "display_data",
          "data": {
            "text/plain": [
              "<IPython.core.display.HTML object>"
            ],
            "text/html": [
              " View project at <a href='https://wandb.ai/ma23m011-iit-madras/DA6401_Assignment1_ma23m011' target=\"_blank\">https://wandb.ai/ma23m011-iit-madras/DA6401_Assignment1_ma23m011</a>"
            ]
          },
          "metadata": {}
        },
        {
          "output_type": "display_data",
          "data": {
            "text/plain": [
              "<IPython.core.display.HTML object>"
            ],
            "text/html": [
              " View sweep at <a href='https://wandb.ai/ma23m011-iit-madras/DA6401_Assignment1_ma23m011/sweeps/augzj4ot' target=\"_blank\">https://wandb.ai/ma23m011-iit-madras/DA6401_Assignment1_ma23m011/sweeps/augzj4ot</a>"
            ]
          },
          "metadata": {}
        },
        {
          "output_type": "display_data",
          "data": {
            "text/plain": [
              "<IPython.core.display.HTML object>"
            ],
            "text/html": [
              " View run at <a href='https://wandb.ai/ma23m011-iit-madras/DA6401_Assignment1_ma23m011/runs/24uehrx5' target=\"_blank\">https://wandb.ai/ma23m011-iit-madras/DA6401_Assignment1_ma23m011/runs/24uehrx5</a>"
            ]
          },
          "metadata": {}
        },
        {
          "output_type": "stream",
          "name": "stdout",
          "text": [
            "Epoch 1: Train Loss = 85.7216, Train Acc = 12.0685, Val Loss = 85.7222, Val Acc = 11.5167\n",
            "Epoch 2: Train Loss = 85.7216, Train Acc = 12.0685, Val Loss = 85.7222, Val Acc = 11.5167\n",
            "Epoch 3: Train Loss = 85.7216, Train Acc = 12.0685, Val Loss = 85.7222, Val Acc = 11.5167\n",
            "Epoch 4: Train Loss = 85.7216, Train Acc = 12.0685, Val Loss = 85.7222, Val Acc = 11.5167\n",
            "Epoch 5: Train Loss = 85.7216, Train Acc = 12.0685, Val Loss = 85.7222, Val Acc = 11.5167\n",
            "Epoch 6: Train Loss = 85.7216, Train Acc = 12.0685, Val Loss = 85.7222, Val Acc = 11.5167\n",
            "Epoch 7: Train Loss = 85.7216, Train Acc = 12.0685, Val Loss = 85.7222, Val Acc = 11.5167\n",
            "Epoch 8: Train Loss = 85.7216, Train Acc = 12.0685, Val Loss = 85.7222, Val Acc = 11.5167\n",
            "Epoch 9: Train Loss = 85.7216, Train Acc = 12.0685, Val Loss = 85.7222, Val Acc = 11.5167\n",
            "Epoch 10: Train Loss = 85.7216, Train Acc = 12.0685, Val Loss = 85.7222, Val Acc = 11.5167\n"
          ]
        },
        {
          "output_type": "display_data",
          "data": {
            "text/plain": [
              "<IPython.core.display.HTML object>"
            ],
            "text/html": []
          },
          "metadata": {}
        },
        {
          "output_type": "display_data",
          "data": {
            "text/plain": [
              "<IPython.core.display.HTML object>"
            ],
            "text/html": [
              "<br>    <style><br>        .wandb-row {<br>            display: flex;<br>            flex-direction: row;<br>            flex-wrap: wrap;<br>            justify-content: flex-start;<br>            width: 100%;<br>        }<br>        .wandb-col {<br>            display: flex;<br>            flex-direction: column;<br>            flex-basis: 100%;<br>            flex: 1;<br>            padding: 10px;<br>        }<br>    </style><br><div class=\"wandb-row\"><div class=\"wandb-col\"><h3>Run history:</h3><br/><table class=\"wandb\"><tr><td>Train_accuracy</td><td>▁▁▁▁▁▁▁▁▁▁</td></tr><tr><td>Train_loss</td><td>▁▁▁▁▁▁▁▁▁▁</td></tr><tr><td>Val_accuracy</td><td>▁▁▁▁▁▁▁▁▁▁</td></tr><tr><td>Val_loss</td><td>▁▁▁▁▁▁▁▁▁▁</td></tr><tr><td>epoch</td><td>▁▂▃▃▄▅▆▆▇█</td></tr></table><br/></div><div class=\"wandb-col\"><h3>Run summary:</h3><br/><table class=\"wandb\"><tr><td>Train_accuracy</td><td>12.06852</td></tr><tr><td>Train_loss</td><td>85.7216</td></tr><tr><td>Val_accuracy</td><td>11.51667</td></tr><tr><td>Val_loss</td><td>85.72225</td></tr><tr><td>epoch</td><td>10</td></tr></table><br/></div></div>"
            ]
          },
          "metadata": {}
        },
        {
          "output_type": "display_data",
          "data": {
            "text/plain": [
              "<IPython.core.display.HTML object>"
            ],
            "text/html": [
              " View run <strong style=\"color:#cdcd00\">-ac_relu-hs_64-epc_10-hl_5-regu_0.5-eta_0.0001-optmz_mgd-batch_16-wght_xavier</strong> at: <a href='https://wandb.ai/ma23m011-iit-madras/DA6401_Assignment1_ma23m011/runs/24uehrx5' target=\"_blank\">https://wandb.ai/ma23m011-iit-madras/DA6401_Assignment1_ma23m011/runs/24uehrx5</a><br> View project at: <a href='https://wandb.ai/ma23m011-iit-madras/DA6401_Assignment1_ma23m011' target=\"_blank\">https://wandb.ai/ma23m011-iit-madras/DA6401_Assignment1_ma23m011</a><br>Synced 5 W&B file(s), 0 media file(s), 0 artifact file(s) and 0 other file(s)"
            ]
          },
          "metadata": {}
        },
        {
          "output_type": "display_data",
          "data": {
            "text/plain": [
              "<IPython.core.display.HTML object>"
            ],
            "text/html": [
              "Find logs at: <code>./wandb/run-20250310_012852-24uehrx5/logs</code>"
            ]
          },
          "metadata": {}
        },
        {
          "output_type": "stream",
          "name": "stderr",
          "text": [
            "\u001b[34m\u001b[1mwandb\u001b[0m: Agent Starting Run: p6h2p5ro with config:\n",
            "\u001b[34m\u001b[1mwandb\u001b[0m: \tactivation: tanh\n",
            "\u001b[34m\u001b[1mwandb\u001b[0m: \tbatch_size: 16\n",
            "\u001b[34m\u001b[1mwandb\u001b[0m: \tepochs: 10\n",
            "\u001b[34m\u001b[1mwandb\u001b[0m: \thidden_layers: 5\n",
            "\u001b[34m\u001b[1mwandb\u001b[0m: \thidden_size: 128\n",
            "\u001b[34m\u001b[1mwandb\u001b[0m: \tlearning_rate: 0.001\n",
            "\u001b[34m\u001b[1mwandb\u001b[0m: \toptimizer: adam\n",
            "\u001b[34m\u001b[1mwandb\u001b[0m: \tweight_decay: 0\n",
            "\u001b[34m\u001b[1mwandb\u001b[0m: \tweight_init: random\n"
          ]
        },
        {
          "output_type": "display_data",
          "data": {
            "text/plain": [
              "<IPython.core.display.HTML object>"
            ],
            "text/html": [
              "Tracking run with wandb version 0.19.7"
            ]
          },
          "metadata": {}
        },
        {
          "output_type": "display_data",
          "data": {
            "text/plain": [
              "<IPython.core.display.HTML object>"
            ],
            "text/html": [
              "Run data is saved locally in <code>/content/wandb/run-20250310_013003-p6h2p5ro</code>"
            ]
          },
          "metadata": {}
        },
        {
          "output_type": "display_data",
          "data": {
            "text/plain": [
              "<IPython.core.display.HTML object>"
            ],
            "text/html": [
              "Syncing run <strong><a href='https://wandb.ai/ma23m011-iit-madras/DA6401_Assignment1_ma23m011/runs/p6h2p5ro' target=\"_blank\">treasured-sweep-33</a></strong> to <a href='https://wandb.ai/ma23m011-iit-madras/DA6401_Assignment1_ma23m011' target=\"_blank\">Weights & Biases</a> (<a href='https://wandb.me/developer-guide' target=\"_blank\">docs</a>)<br>Sweep page: <a href='https://wandb.ai/ma23m011-iit-madras/DA6401_Assignment1_ma23m011/sweeps/augzj4ot' target=\"_blank\">https://wandb.ai/ma23m011-iit-madras/DA6401_Assignment1_ma23m011/sweeps/augzj4ot</a>"
            ]
          },
          "metadata": {}
        },
        {
          "output_type": "display_data",
          "data": {
            "text/plain": [
              "<IPython.core.display.HTML object>"
            ],
            "text/html": [
              " View project at <a href='https://wandb.ai/ma23m011-iit-madras/DA6401_Assignment1_ma23m011' target=\"_blank\">https://wandb.ai/ma23m011-iit-madras/DA6401_Assignment1_ma23m011</a>"
            ]
          },
          "metadata": {}
        },
        {
          "output_type": "display_data",
          "data": {
            "text/plain": [
              "<IPython.core.display.HTML object>"
            ],
            "text/html": [
              " View sweep at <a href='https://wandb.ai/ma23m011-iit-madras/DA6401_Assignment1_ma23m011/sweeps/augzj4ot' target=\"_blank\">https://wandb.ai/ma23m011-iit-madras/DA6401_Assignment1_ma23m011/sweeps/augzj4ot</a>"
            ]
          },
          "metadata": {}
        },
        {
          "output_type": "display_data",
          "data": {
            "text/plain": [
              "<IPython.core.display.HTML object>"
            ],
            "text/html": [
              " View run at <a href='https://wandb.ai/ma23m011-iit-madras/DA6401_Assignment1_ma23m011/runs/p6h2p5ro' target=\"_blank\">https://wandb.ai/ma23m011-iit-madras/DA6401_Assignment1_ma23m011/runs/p6h2p5ro</a>"
            ]
          },
          "metadata": {}
        },
        {
          "output_type": "stream",
          "name": "stdout",
          "text": [
            "Epoch 1: Train Loss = 0.5375, Train Acc = 80.9704, Val Loss = 0.5346, Val Acc = 81.2000\n",
            "Epoch 2: Train Loss = 0.4930, Train Acc = 82.7574, Val Loss = 0.5110, Val Acc = 81.6000\n",
            "Epoch 3: Train Loss = 0.4593, Train Acc = 84.2889, Val Loss = 0.4774, Val Acc = 83.4833\n",
            "Epoch 4: Train Loss = 0.4496, Train Acc = 84.4389, Val Loss = 0.4767, Val Acc = 84.0333\n",
            "Epoch 5: Train Loss = 0.4150, Train Acc = 85.0593, Val Loss = 0.4368, Val Acc = 84.2000\n",
            "Epoch 6: Train Loss = 0.3896, Train Acc = 86.4500, Val Loss = 0.4263, Val Acc = 85.1000\n",
            "Epoch 7: Train Loss = 0.4222, Train Acc = 84.8444, Val Loss = 0.4391, Val Acc = 84.1667\n",
            "Epoch 8: Train Loss = 0.3876, Train Acc = 86.2222, Val Loss = 0.4327, Val Acc = 84.9000\n",
            "Epoch 9: Train Loss = 0.3934, Train Acc = 86.3963, Val Loss = 0.4280, Val Acc = 85.6500\n",
            "Epoch 10: Train Loss = 0.3505, Train Acc = 87.9037, Val Loss = 0.3903, Val Acc = 86.5333\n"
          ]
        },
        {
          "output_type": "display_data",
          "data": {
            "text/plain": [
              "<IPython.core.display.HTML object>"
            ],
            "text/html": []
          },
          "metadata": {}
        },
        {
          "output_type": "display_data",
          "data": {
            "text/plain": [
              "<IPython.core.display.HTML object>"
            ],
            "text/html": [
              "<br>    <style><br>        .wandb-row {<br>            display: flex;<br>            flex-direction: row;<br>            flex-wrap: wrap;<br>            justify-content: flex-start;<br>            width: 100%;<br>        }<br>        .wandb-col {<br>            display: flex;<br>            flex-direction: column;<br>            flex-basis: 100%;<br>            flex: 1;<br>            padding: 10px;<br>        }<br>    </style><br><div class=\"wandb-row\"><div class=\"wandb-col\"><h3>Run history:</h3><br/><table class=\"wandb\"><tr><td>Train_accuracy</td><td>▁▃▄▅▅▇▅▆▆█</td></tr><tr><td>Train_loss</td><td>█▆▅▅▃▂▄▂▃▁</td></tr><tr><td>Val_accuracy</td><td>▁▂▄▅▅▆▅▆▇█</td></tr><tr><td>Val_loss</td><td>█▇▅▅▃▃▃▃▃▁</td></tr><tr><td>epoch</td><td>▁▂▃▃▄▅▆▆▇█</td></tr></table><br/></div><div class=\"wandb-col\"><h3>Run summary:</h3><br/><table class=\"wandb\"><tr><td>Train_accuracy</td><td>87.9037</td></tr><tr><td>Train_loss</td><td>0.3505</td></tr><tr><td>Val_accuracy</td><td>86.53333</td></tr><tr><td>Val_loss</td><td>0.39028</td></tr><tr><td>epoch</td><td>10</td></tr></table><br/></div></div>"
            ]
          },
          "metadata": {}
        },
        {
          "output_type": "display_data",
          "data": {
            "text/plain": [
              "<IPython.core.display.HTML object>"
            ],
            "text/html": [
              " View run <strong style=\"color:#cdcd00\">-ac_tanh-hs_128-epc_10-hl_5-regu_0-eta_0.001-optmz_adam-batch_16-wght_random</strong> at: <a href='https://wandb.ai/ma23m011-iit-madras/DA6401_Assignment1_ma23m011/runs/p6h2p5ro' target=\"_blank\">https://wandb.ai/ma23m011-iit-madras/DA6401_Assignment1_ma23m011/runs/p6h2p5ro</a><br> View project at: <a href='https://wandb.ai/ma23m011-iit-madras/DA6401_Assignment1_ma23m011' target=\"_blank\">https://wandb.ai/ma23m011-iit-madras/DA6401_Assignment1_ma23m011</a><br>Synced 5 W&B file(s), 0 media file(s), 0 artifact file(s) and 0 other file(s)"
            ]
          },
          "metadata": {}
        },
        {
          "output_type": "display_data",
          "data": {
            "text/plain": [
              "<IPython.core.display.HTML object>"
            ],
            "text/html": [
              "Find logs at: <code>./wandb/run-20250310_013003-p6h2p5ro/logs</code>"
            ]
          },
          "metadata": {}
        },
        {
          "output_type": "stream",
          "name": "stderr",
          "text": [
            "\u001b[34m\u001b[1mwandb\u001b[0m: Agent Starting Run: 2gjdesoi with config:\n",
            "\u001b[34m\u001b[1mwandb\u001b[0m: \tactivation: tanh\n",
            "\u001b[34m\u001b[1mwandb\u001b[0m: \tbatch_size: 16\n",
            "\u001b[34m\u001b[1mwandb\u001b[0m: \tepochs: 10\n",
            "\u001b[34m\u001b[1mwandb\u001b[0m: \thidden_layers: 5\n",
            "\u001b[34m\u001b[1mwandb\u001b[0m: \thidden_size: 128\n",
            "\u001b[34m\u001b[1mwandb\u001b[0m: \tlearning_rate: 0.001\n",
            "\u001b[34m\u001b[1mwandb\u001b[0m: \toptimizer: nag\n",
            "\u001b[34m\u001b[1mwandb\u001b[0m: \tweight_decay: 0.0005\n",
            "\u001b[34m\u001b[1mwandb\u001b[0m: \tweight_init: random\n"
          ]
        },
        {
          "output_type": "display_data",
          "data": {
            "text/plain": [
              "<IPython.core.display.HTML object>"
            ],
            "text/html": [
              "Tracking run with wandb version 0.19.7"
            ]
          },
          "metadata": {}
        },
        {
          "output_type": "display_data",
          "data": {
            "text/plain": [
              "<IPython.core.display.HTML object>"
            ],
            "text/html": [
              "Run data is saved locally in <code>/content/wandb/run-20250310_013603-2gjdesoi</code>"
            ]
          },
          "metadata": {}
        },
        {
          "output_type": "display_data",
          "data": {
            "text/plain": [
              "<IPython.core.display.HTML object>"
            ],
            "text/html": [
              "Syncing run <strong><a href='https://wandb.ai/ma23m011-iit-madras/DA6401_Assignment1_ma23m011/runs/2gjdesoi' target=\"_blank\">volcanic-sweep-34</a></strong> to <a href='https://wandb.ai/ma23m011-iit-madras/DA6401_Assignment1_ma23m011' target=\"_blank\">Weights & Biases</a> (<a href='https://wandb.me/developer-guide' target=\"_blank\">docs</a>)<br>Sweep page: <a href='https://wandb.ai/ma23m011-iit-madras/DA6401_Assignment1_ma23m011/sweeps/augzj4ot' target=\"_blank\">https://wandb.ai/ma23m011-iit-madras/DA6401_Assignment1_ma23m011/sweeps/augzj4ot</a>"
            ]
          },
          "metadata": {}
        },
        {
          "output_type": "display_data",
          "data": {
            "text/plain": [
              "<IPython.core.display.HTML object>"
            ],
            "text/html": [
              " View project at <a href='https://wandb.ai/ma23m011-iit-madras/DA6401_Assignment1_ma23m011' target=\"_blank\">https://wandb.ai/ma23m011-iit-madras/DA6401_Assignment1_ma23m011</a>"
            ]
          },
          "metadata": {}
        },
        {
          "output_type": "display_data",
          "data": {
            "text/plain": [
              "<IPython.core.display.HTML object>"
            ],
            "text/html": [
              " View sweep at <a href='https://wandb.ai/ma23m011-iit-madras/DA6401_Assignment1_ma23m011/sweeps/augzj4ot' target=\"_blank\">https://wandb.ai/ma23m011-iit-madras/DA6401_Assignment1_ma23m011/sweeps/augzj4ot</a>"
            ]
          },
          "metadata": {}
        },
        {
          "output_type": "display_data",
          "data": {
            "text/plain": [
              "<IPython.core.display.HTML object>"
            ],
            "text/html": [
              " View run at <a href='https://wandb.ai/ma23m011-iit-madras/DA6401_Assignment1_ma23m011/runs/2gjdesoi' target=\"_blank\">https://wandb.ai/ma23m011-iit-madras/DA6401_Assignment1_ma23m011/runs/2gjdesoi</a>"
            ]
          },
          "metadata": {}
        },
        {
          "output_type": "stream",
          "name": "stdout",
          "text": [
            "Epoch 1: Train Loss = 2.3067, Train Acc = 16.7907, Val Loss = 2.3067, Val Acc = 16.5500\n",
            "Epoch 2: Train Loss = 2.3067, Train Acc = 16.7907, Val Loss = 2.3067, Val Acc = 16.5500\n",
            "Epoch 3: Train Loss = 2.3067, Train Acc = 16.7907, Val Loss = 2.3067, Val Acc = 16.5500\n",
            "Epoch 4: Train Loss = 2.3067, Train Acc = 16.7907, Val Loss = 2.3067, Val Acc = 16.5500\n",
            "Epoch 5: Train Loss = 2.3067, Train Acc = 16.7907, Val Loss = 2.3067, Val Acc = 16.5500\n",
            "Epoch 6: Train Loss = 2.3067, Train Acc = 16.7907, Val Loss = 2.3067, Val Acc = 16.5500\n",
            "Epoch 7: Train Loss = 2.3067, Train Acc = 16.7907, Val Loss = 2.3067, Val Acc = 16.5500\n",
            "Epoch 8: Train Loss = 2.3067, Train Acc = 16.7907, Val Loss = 2.3067, Val Acc = 16.5500\n",
            "Epoch 9: Train Loss = 2.3067, Train Acc = 16.7907, Val Loss = 2.3067, Val Acc = 16.5500\n",
            "Epoch 10: Train Loss = 2.3067, Train Acc = 16.7907, Val Loss = 2.3067, Val Acc = 16.5500\n"
          ]
        },
        {
          "output_type": "display_data",
          "data": {
            "text/plain": [
              "<IPython.core.display.HTML object>"
            ],
            "text/html": []
          },
          "metadata": {}
        },
        {
          "output_type": "display_data",
          "data": {
            "text/plain": [
              "<IPython.core.display.HTML object>"
            ],
            "text/html": [
              "<br>    <style><br>        .wandb-row {<br>            display: flex;<br>            flex-direction: row;<br>            flex-wrap: wrap;<br>            justify-content: flex-start;<br>            width: 100%;<br>        }<br>        .wandb-col {<br>            display: flex;<br>            flex-direction: column;<br>            flex-basis: 100%;<br>            flex: 1;<br>            padding: 10px;<br>        }<br>    </style><br><div class=\"wandb-row\"><div class=\"wandb-col\"><h3>Run history:</h3><br/><table class=\"wandb\"><tr><td>Train_accuracy</td><td>▁▁▁▁▁▁▁▁▁▁</td></tr><tr><td>Train_loss</td><td>▁▁▁▁▁▁▁▁▁▁</td></tr><tr><td>Val_accuracy</td><td>▁▁▁▁▁▁▁▁▁▁</td></tr><tr><td>Val_loss</td><td>▁▁▁▁▁▁▁▁▁▁</td></tr><tr><td>epoch</td><td>▁▂▃▃▄▅▆▆▇█</td></tr></table><br/></div><div class=\"wandb-col\"><h3>Run summary:</h3><br/><table class=\"wandb\"><tr><td>Train_accuracy</td><td>16.79074</td></tr><tr><td>Train_loss</td><td>2.30673</td></tr><tr><td>Val_accuracy</td><td>16.55</td></tr><tr><td>Val_loss</td><td>2.30673</td></tr><tr><td>epoch</td><td>10</td></tr></table><br/></div></div>"
            ]
          },
          "metadata": {}
        },
        {
          "output_type": "display_data",
          "data": {
            "text/plain": [
              "<IPython.core.display.HTML object>"
            ],
            "text/html": [
              " View run <strong style=\"color:#cdcd00\">-ac_tanh-hs_128-epc_10-hl_5-regu_0.0005-eta_0.001-optmz_nag-batch_16-wght_random</strong> at: <a href='https://wandb.ai/ma23m011-iit-madras/DA6401_Assignment1_ma23m011/runs/2gjdesoi' target=\"_blank\">https://wandb.ai/ma23m011-iit-madras/DA6401_Assignment1_ma23m011/runs/2gjdesoi</a><br> View project at: <a href='https://wandb.ai/ma23m011-iit-madras/DA6401_Assignment1_ma23m011' target=\"_blank\">https://wandb.ai/ma23m011-iit-madras/DA6401_Assignment1_ma23m011</a><br>Synced 5 W&B file(s), 0 media file(s), 0 artifact file(s) and 0 other file(s)"
            ]
          },
          "metadata": {}
        },
        {
          "output_type": "display_data",
          "data": {
            "text/plain": [
              "<IPython.core.display.HTML object>"
            ],
            "text/html": [
              "Find logs at: <code>./wandb/run-20250310_013603-2gjdesoi/logs</code>"
            ]
          },
          "metadata": {}
        },
        {
          "output_type": "stream",
          "name": "stderr",
          "text": [
            "\u001b[34m\u001b[1mwandb\u001b[0m: Agent Starting Run: urguj0jt with config:\n",
            "\u001b[34m\u001b[1mwandb\u001b[0m: \tactivation: tanh\n",
            "\u001b[34m\u001b[1mwandb\u001b[0m: \tbatch_size: 32\n",
            "\u001b[34m\u001b[1mwandb\u001b[0m: \tepochs: 5\n",
            "\u001b[34m\u001b[1mwandb\u001b[0m: \thidden_layers: 5\n",
            "\u001b[34m\u001b[1mwandb\u001b[0m: \thidden_size: 128\n",
            "\u001b[34m\u001b[1mwandb\u001b[0m: \tlearning_rate: 0.001\n",
            "\u001b[34m\u001b[1mwandb\u001b[0m: \toptimizer: rmsprop\n",
            "\u001b[34m\u001b[1mwandb\u001b[0m: \tweight_decay: 0.5\n",
            "\u001b[34m\u001b[1mwandb\u001b[0m: \tweight_init: xavier\n"
          ]
        },
        {
          "output_type": "display_data",
          "data": {
            "text/plain": [
              "<IPython.core.display.HTML object>"
            ],
            "text/html": [
              "Tracking run with wandb version 0.19.7"
            ]
          },
          "metadata": {}
        },
        {
          "output_type": "display_data",
          "data": {
            "text/plain": [
              "<IPython.core.display.HTML object>"
            ],
            "text/html": [
              "Run data is saved locally in <code>/content/wandb/run-20250310_013921-urguj0jt</code>"
            ]
          },
          "metadata": {}
        },
        {
          "output_type": "display_data",
          "data": {
            "text/plain": [
              "<IPython.core.display.HTML object>"
            ],
            "text/html": [
              "Syncing run <strong><a href='https://wandb.ai/ma23m011-iit-madras/DA6401_Assignment1_ma23m011/runs/urguj0jt' target=\"_blank\">northern-sweep-35</a></strong> to <a href='https://wandb.ai/ma23m011-iit-madras/DA6401_Assignment1_ma23m011' target=\"_blank\">Weights & Biases</a> (<a href='https://wandb.me/developer-guide' target=\"_blank\">docs</a>)<br>Sweep page: <a href='https://wandb.ai/ma23m011-iit-madras/DA6401_Assignment1_ma23m011/sweeps/augzj4ot' target=\"_blank\">https://wandb.ai/ma23m011-iit-madras/DA6401_Assignment1_ma23m011/sweeps/augzj4ot</a>"
            ]
          },
          "metadata": {}
        },
        {
          "output_type": "display_data",
          "data": {
            "text/plain": [
              "<IPython.core.display.HTML object>"
            ],
            "text/html": [
              " View project at <a href='https://wandb.ai/ma23m011-iit-madras/DA6401_Assignment1_ma23m011' target=\"_blank\">https://wandb.ai/ma23m011-iit-madras/DA6401_Assignment1_ma23m011</a>"
            ]
          },
          "metadata": {}
        },
        {
          "output_type": "display_data",
          "data": {
            "text/plain": [
              "<IPython.core.display.HTML object>"
            ],
            "text/html": [
              " View sweep at <a href='https://wandb.ai/ma23m011-iit-madras/DA6401_Assignment1_ma23m011/sweeps/augzj4ot' target=\"_blank\">https://wandb.ai/ma23m011-iit-madras/DA6401_Assignment1_ma23m011/sweeps/augzj4ot</a>"
            ]
          },
          "metadata": {}
        },
        {
          "output_type": "display_data",
          "data": {
            "text/plain": [
              "<IPython.core.display.HTML object>"
            ],
            "text/html": [
              " View run at <a href='https://wandb.ai/ma23m011-iit-madras/DA6401_Assignment1_ma23m011/runs/urguj0jt' target=\"_blank\">https://wandb.ai/ma23m011-iit-madras/DA6401_Assignment1_ma23m011/runs/urguj0jt</a>"
            ]
          },
          "metadata": {}
        },
        {
          "output_type": "stream",
          "name": "stdout",
          "text": [
            "Epoch 1: Train Loss = 14.1673, Train Acc = 80.3889, Val Loss = 14.1655, Val Acc = 79.8333\n",
            "Epoch 2: Train Loss = 14.3187, Train Acc = 78.5278, Val Loss = 14.3089, Val Acc = 79.1500\n",
            "Epoch 3: Train Loss = 14.2056, Train Acc = 79.5981, Val Loss = 14.2139, Val Acc = 78.9667\n",
            "Epoch 4: Train Loss = 14.4173, Train Acc = 82.3315, Val Loss = 14.4234, Val Acc = 81.9667\n",
            "Epoch 5: Train Loss = 14.5396, Train Acc = 76.3296, Val Loss = 14.5464, Val Acc = 75.9000\n"
          ]
        },
        {
          "output_type": "display_data",
          "data": {
            "text/plain": [
              "<IPython.core.display.HTML object>"
            ],
            "text/html": []
          },
          "metadata": {}
        },
        {
          "output_type": "display_data",
          "data": {
            "text/plain": [
              "<IPython.core.display.HTML object>"
            ],
            "text/html": [
              "<br>    <style><br>        .wandb-row {<br>            display: flex;<br>            flex-direction: row;<br>            flex-wrap: wrap;<br>            justify-content: flex-start;<br>            width: 100%;<br>        }<br>        .wandb-col {<br>            display: flex;<br>            flex-direction: column;<br>            flex-basis: 100%;<br>            flex: 1;<br>            padding: 10px;<br>        }<br>    </style><br><div class=\"wandb-row\"><div class=\"wandb-col\"><h3>Run history:</h3><br/><table class=\"wandb\"><tr><td>Train_accuracy</td><td>▆▄▅█▁</td></tr><tr><td>Train_loss</td><td>▁▄▂▆█</td></tr><tr><td>Val_accuracy</td><td>▆▅▅█▁</td></tr><tr><td>Val_loss</td><td>▁▄▂▆█</td></tr><tr><td>epoch</td><td>▁▃▅▆█</td></tr></table><br/></div><div class=\"wandb-col\"><h3>Run summary:</h3><br/><table class=\"wandb\"><tr><td>Train_accuracy</td><td>76.32963</td></tr><tr><td>Train_loss</td><td>14.53963</td></tr><tr><td>Val_accuracy</td><td>75.9</td></tr><tr><td>Val_loss</td><td>14.54641</td></tr><tr><td>epoch</td><td>5</td></tr></table><br/></div></div>"
            ]
          },
          "metadata": {}
        },
        {
          "output_type": "display_data",
          "data": {
            "text/plain": [
              "<IPython.core.display.HTML object>"
            ],
            "text/html": [
              " View run <strong style=\"color:#cdcd00\">-ac_tanh-hs_128-epc_5-hl_5-regu_0.5-eta_0.001-optmz_rmsprop-batch_32-wght_xavier</strong> at: <a href='https://wandb.ai/ma23m011-iit-madras/DA6401_Assignment1_ma23m011/runs/urguj0jt' target=\"_blank\">https://wandb.ai/ma23m011-iit-madras/DA6401_Assignment1_ma23m011/runs/urguj0jt</a><br> View project at: <a href='https://wandb.ai/ma23m011-iit-madras/DA6401_Assignment1_ma23m011' target=\"_blank\">https://wandb.ai/ma23m011-iit-madras/DA6401_Assignment1_ma23m011</a><br>Synced 5 W&B file(s), 0 media file(s), 0 artifact file(s) and 0 other file(s)"
            ]
          },
          "metadata": {}
        },
        {
          "output_type": "display_data",
          "data": {
            "text/plain": [
              "<IPython.core.display.HTML object>"
            ],
            "text/html": [
              "Find logs at: <code>./wandb/run-20250310_013921-urguj0jt/logs</code>"
            ]
          },
          "metadata": {}
        },
        {
          "output_type": "stream",
          "name": "stderr",
          "text": [
            "\u001b[34m\u001b[1mwandb\u001b[0m: Sweep Agent: Waiting for job.\n",
            "\u001b[34m\u001b[1mwandb\u001b[0m: Job received.\n",
            "\u001b[34m\u001b[1mwandb\u001b[0m: Agent Starting Run: ztnpeso0 with config:\n",
            "\u001b[34m\u001b[1mwandb\u001b[0m: \tactivation: relu\n",
            "\u001b[34m\u001b[1mwandb\u001b[0m: \tbatch_size: 16\n",
            "\u001b[34m\u001b[1mwandb\u001b[0m: \tepochs: 10\n",
            "\u001b[34m\u001b[1mwandb\u001b[0m: \thidden_layers: 5\n",
            "\u001b[34m\u001b[1mwandb\u001b[0m: \thidden_size: 128\n",
            "\u001b[34m\u001b[1mwandb\u001b[0m: \tlearning_rate: 0.001\n",
            "\u001b[34m\u001b[1mwandb\u001b[0m: \toptimizer: adam\n",
            "\u001b[34m\u001b[1mwandb\u001b[0m: \tweight_decay: 0\n",
            "\u001b[34m\u001b[1mwandb\u001b[0m: \tweight_init: random\n"
          ]
        },
        {
          "output_type": "display_data",
          "data": {
            "text/plain": [
              "<IPython.core.display.HTML object>"
            ],
            "text/html": [
              "Tracking run with wandb version 0.19.7"
            ]
          },
          "metadata": {}
        },
        {
          "output_type": "display_data",
          "data": {
            "text/plain": [
              "<IPython.core.display.HTML object>"
            ],
            "text/html": [
              "Run data is saved locally in <code>/content/wandb/run-20250310_014112-ztnpeso0</code>"
            ]
          },
          "metadata": {}
        },
        {
          "output_type": "display_data",
          "data": {
            "text/plain": [
              "<IPython.core.display.HTML object>"
            ],
            "text/html": [
              "Syncing run <strong><a href='https://wandb.ai/ma23m011-iit-madras/DA6401_Assignment1_ma23m011/runs/ztnpeso0' target=\"_blank\">sunny-sweep-36</a></strong> to <a href='https://wandb.ai/ma23m011-iit-madras/DA6401_Assignment1_ma23m011' target=\"_blank\">Weights & Biases</a> (<a href='https://wandb.me/developer-guide' target=\"_blank\">docs</a>)<br>Sweep page: <a href='https://wandb.ai/ma23m011-iit-madras/DA6401_Assignment1_ma23m011/sweeps/augzj4ot' target=\"_blank\">https://wandb.ai/ma23m011-iit-madras/DA6401_Assignment1_ma23m011/sweeps/augzj4ot</a>"
            ]
          },
          "metadata": {}
        },
        {
          "output_type": "display_data",
          "data": {
            "text/plain": [
              "<IPython.core.display.HTML object>"
            ],
            "text/html": [
              " View project at <a href='https://wandb.ai/ma23m011-iit-madras/DA6401_Assignment1_ma23m011' target=\"_blank\">https://wandb.ai/ma23m011-iit-madras/DA6401_Assignment1_ma23m011</a>"
            ]
          },
          "metadata": {}
        },
        {
          "output_type": "display_data",
          "data": {
            "text/plain": [
              "<IPython.core.display.HTML object>"
            ],
            "text/html": [
              " View sweep at <a href='https://wandb.ai/ma23m011-iit-madras/DA6401_Assignment1_ma23m011/sweeps/augzj4ot' target=\"_blank\">https://wandb.ai/ma23m011-iit-madras/DA6401_Assignment1_ma23m011/sweeps/augzj4ot</a>"
            ]
          },
          "metadata": {}
        },
        {
          "output_type": "display_data",
          "data": {
            "text/plain": [
              "<IPython.core.display.HTML object>"
            ],
            "text/html": [
              " View run at <a href='https://wandb.ai/ma23m011-iit-madras/DA6401_Assignment1_ma23m011/runs/ztnpeso0' target=\"_blank\">https://wandb.ai/ma23m011-iit-madras/DA6401_Assignment1_ma23m011/runs/ztnpeso0</a>"
            ]
          },
          "metadata": {}
        },
        {
          "output_type": "stream",
          "name": "stdout",
          "text": [
            "Epoch 1: Train Loss = 0.6232, Train Acc = 76.0370, Val Loss = 0.6314, Val Acc = 76.4833\n",
            "Epoch 2: Train Loss = 0.4905, Train Acc = 80.5241, Val Loss = 0.5017, Val Acc = 80.4500\n",
            "Epoch 3: Train Loss = 0.4438, Train Acc = 83.0630, Val Loss = 0.4618, Val Acc = 82.8667\n",
            "Epoch 4: Train Loss = 0.3685, Train Acc = 86.5741, Val Loss = 0.3992, Val Acc = 85.6667\n",
            "Epoch 5: Train Loss = 0.3466, Train Acc = 87.3796, Val Loss = 0.3962, Val Acc = 86.3333\n",
            "Epoch 6: Train Loss = 0.3136, Train Acc = 88.5111, Val Loss = 0.3723, Val Acc = 87.1167\n",
            "Epoch 7: Train Loss = 0.2985, Train Acc = 88.7926, Val Loss = 0.3735, Val Acc = 87.1833\n",
            "Epoch 8: Train Loss = 0.2895, Train Acc = 89.4630, Val Loss = 0.3655, Val Acc = 87.1167\n",
            "Epoch 9: Train Loss = 0.2691, Train Acc = 89.9463, Val Loss = 0.3593, Val Acc = 88.0333\n",
            "Epoch 10: Train Loss = 0.3112, Train Acc = 88.6130, Val Loss = 0.4075, Val Acc = 86.7500\n"
          ]
        },
        {
          "output_type": "display_data",
          "data": {
            "text/plain": [
              "<IPython.core.display.HTML object>"
            ],
            "text/html": []
          },
          "metadata": {}
        },
        {
          "output_type": "display_data",
          "data": {
            "text/plain": [
              "<IPython.core.display.HTML object>"
            ],
            "text/html": [
              "<br>    <style><br>        .wandb-row {<br>            display: flex;<br>            flex-direction: row;<br>            flex-wrap: wrap;<br>            justify-content: flex-start;<br>            width: 100%;<br>        }<br>        .wandb-col {<br>            display: flex;<br>            flex-direction: column;<br>            flex-basis: 100%;<br>            flex: 1;<br>            padding: 10px;<br>        }<br>    </style><br><div class=\"wandb-row\"><div class=\"wandb-col\"><h3>Run history:</h3><br/><table class=\"wandb\"><tr><td>Train_accuracy</td><td>▁▃▅▆▇▇▇██▇</td></tr><tr><td>Train_loss</td><td>█▅▄▃▃▂▂▁▁▂</td></tr><tr><td>Val_accuracy</td><td>▁▃▅▇▇▇▇▇█▇</td></tr><tr><td>Val_loss</td><td>█▅▄▂▂▁▁▁▁▂</td></tr><tr><td>epoch</td><td>▁▂▃▃▄▅▆▆▇█</td></tr></table><br/></div><div class=\"wandb-col\"><h3>Run summary:</h3><br/><table class=\"wandb\"><tr><td>Train_accuracy</td><td>88.61296</td></tr><tr><td>Train_loss</td><td>0.31121</td></tr><tr><td>Val_accuracy</td><td>86.75</td></tr><tr><td>Val_loss</td><td>0.40752</td></tr><tr><td>epoch</td><td>10</td></tr></table><br/></div></div>"
            ]
          },
          "metadata": {}
        },
        {
          "output_type": "display_data",
          "data": {
            "text/plain": [
              "<IPython.core.display.HTML object>"
            ],
            "text/html": [
              " View run <strong style=\"color:#cdcd00\">-ac_relu-hs_128-epc_10-hl_5-regu_0-eta_0.001-optmz_adam-batch_16-wght_random</strong> at: <a href='https://wandb.ai/ma23m011-iit-madras/DA6401_Assignment1_ma23m011/runs/ztnpeso0' target=\"_blank\">https://wandb.ai/ma23m011-iit-madras/DA6401_Assignment1_ma23m011/runs/ztnpeso0</a><br> View project at: <a href='https://wandb.ai/ma23m011-iit-madras/DA6401_Assignment1_ma23m011' target=\"_blank\">https://wandb.ai/ma23m011-iit-madras/DA6401_Assignment1_ma23m011</a><br>Synced 5 W&B file(s), 0 media file(s), 0 artifact file(s) and 0 other file(s)"
            ]
          },
          "metadata": {}
        },
        {
          "output_type": "display_data",
          "data": {
            "text/plain": [
              "<IPython.core.display.HTML object>"
            ],
            "text/html": [
              "Find logs at: <code>./wandb/run-20250310_014112-ztnpeso0/logs</code>"
            ]
          },
          "metadata": {}
        },
        {
          "output_type": "stream",
          "name": "stderr",
          "text": [
            "\u001b[34m\u001b[1mwandb\u001b[0m: Agent Starting Run: xjjkvume with config:\n",
            "\u001b[34m\u001b[1mwandb\u001b[0m: \tactivation: sigmoid\n",
            "\u001b[34m\u001b[1mwandb\u001b[0m: \tbatch_size: 32\n",
            "\u001b[34m\u001b[1mwandb\u001b[0m: \tepochs: 5\n",
            "\u001b[34m\u001b[1mwandb\u001b[0m: \thidden_layers: 5\n",
            "\u001b[34m\u001b[1mwandb\u001b[0m: \thidden_size: 128\n",
            "\u001b[34m\u001b[1mwandb\u001b[0m: \tlearning_rate: 0.0001\n",
            "\u001b[34m\u001b[1mwandb\u001b[0m: \toptimizer: rmsprop\n",
            "\u001b[34m\u001b[1mwandb\u001b[0m: \tweight_decay: 0.5\n",
            "\u001b[34m\u001b[1mwandb\u001b[0m: \tweight_init: random\n"
          ]
        },
        {
          "output_type": "display_data",
          "data": {
            "text/plain": [
              "<IPython.core.display.HTML object>"
            ],
            "text/html": [
              "Tracking run with wandb version 0.19.7"
            ]
          },
          "metadata": {}
        },
        {
          "output_type": "display_data",
          "data": {
            "text/plain": [
              "<IPython.core.display.HTML object>"
            ],
            "text/html": [
              "Run data is saved locally in <code>/content/wandb/run-20250310_014959-xjjkvume</code>"
            ]
          },
          "metadata": {}
        },
        {
          "output_type": "display_data",
          "data": {
            "text/plain": [
              "<IPython.core.display.HTML object>"
            ],
            "text/html": [
              "Syncing run <strong><a href='https://wandb.ai/ma23m011-iit-madras/DA6401_Assignment1_ma23m011/runs/xjjkvume' target=\"_blank\">stilted-sweep-37</a></strong> to <a href='https://wandb.ai/ma23m011-iit-madras/DA6401_Assignment1_ma23m011' target=\"_blank\">Weights & Biases</a> (<a href='https://wandb.me/developer-guide' target=\"_blank\">docs</a>)<br>Sweep page: <a href='https://wandb.ai/ma23m011-iit-madras/DA6401_Assignment1_ma23m011/sweeps/augzj4ot' target=\"_blank\">https://wandb.ai/ma23m011-iit-madras/DA6401_Assignment1_ma23m011/sweeps/augzj4ot</a>"
            ]
          },
          "metadata": {}
        },
        {
          "output_type": "display_data",
          "data": {
            "text/plain": [
              "<IPython.core.display.HTML object>"
            ],
            "text/html": [
              " View project at <a href='https://wandb.ai/ma23m011-iit-madras/DA6401_Assignment1_ma23m011' target=\"_blank\">https://wandb.ai/ma23m011-iit-madras/DA6401_Assignment1_ma23m011</a>"
            ]
          },
          "metadata": {}
        },
        {
          "output_type": "display_data",
          "data": {
            "text/plain": [
              "<IPython.core.display.HTML object>"
            ],
            "text/html": [
              " View sweep at <a href='https://wandb.ai/ma23m011-iit-madras/DA6401_Assignment1_ma23m011/sweeps/augzj4ot' target=\"_blank\">https://wandb.ai/ma23m011-iit-madras/DA6401_Assignment1_ma23m011/sweeps/augzj4ot</a>"
            ]
          },
          "metadata": {}
        },
        {
          "output_type": "display_data",
          "data": {
            "text/plain": [
              "<IPython.core.display.HTML object>"
            ],
            "text/html": [
              " View run at <a href='https://wandb.ai/ma23m011-iit-madras/DA6401_Assignment1_ma23m011/runs/xjjkvume' target=\"_blank\">https://wandb.ai/ma23m011-iit-madras/DA6401_Assignment1_ma23m011/runs/xjjkvume</a>"
            ]
          },
          "metadata": {}
        },
        {
          "output_type": "stream",
          "name": "stdout",
          "text": [
            "Epoch 1: Train Loss = 2.3316, Train Acc = 10.0296, Val Loss = 2.3310, Val Acc = 9.7333\n",
            "Epoch 2: Train Loss = 2.3322, Train Acc = 9.9648, Val Loss = 2.3328, Val Acc = 10.3167\n",
            "Epoch 3: Train Loss = 2.3337, Train Acc = 9.9704, Val Loss = 2.3335, Val Acc = 10.2667\n",
            "Epoch 4: Train Loss = 2.3400, Train Acc = 9.9704, Val Loss = 2.3404, Val Acc = 10.2667\n",
            "Epoch 5: Train Loss = 2.3474, Train Acc = 9.9704, Val Loss = 2.3475, Val Acc = 10.2667\n"
          ]
        },
        {
          "output_type": "display_data",
          "data": {
            "text/plain": [
              "<IPython.core.display.HTML object>"
            ],
            "text/html": []
          },
          "metadata": {}
        },
        {
          "output_type": "display_data",
          "data": {
            "text/plain": [
              "<IPython.core.display.HTML object>"
            ],
            "text/html": [
              "<br>    <style><br>        .wandb-row {<br>            display: flex;<br>            flex-direction: row;<br>            flex-wrap: wrap;<br>            justify-content: flex-start;<br>            width: 100%;<br>        }<br>        .wandb-col {<br>            display: flex;<br>            flex-direction: column;<br>            flex-basis: 100%;<br>            flex: 1;<br>            padding: 10px;<br>        }<br>    </style><br><div class=\"wandb-row\"><div class=\"wandb-col\"><h3>Run history:</h3><br/><table class=\"wandb\"><tr><td>Train_accuracy</td><td>█▁▂▂▂</td></tr><tr><td>Train_loss</td><td>▁▁▂▅█</td></tr><tr><td>Val_accuracy</td><td>▁█▇▇▇</td></tr><tr><td>Val_loss</td><td>▁▂▂▅█</td></tr><tr><td>epoch</td><td>▁▃▅▆█</td></tr></table><br/></div><div class=\"wandb-col\"><h3>Run summary:</h3><br/><table class=\"wandb\"><tr><td>Train_accuracy</td><td>9.97037</td></tr><tr><td>Train_loss</td><td>2.34742</td></tr><tr><td>Val_accuracy</td><td>10.26667</td></tr><tr><td>Val_loss</td><td>2.34745</td></tr><tr><td>epoch</td><td>5</td></tr></table><br/></div></div>"
            ]
          },
          "metadata": {}
        },
        {
          "output_type": "display_data",
          "data": {
            "text/plain": [
              "<IPython.core.display.HTML object>"
            ],
            "text/html": [
              " View run <strong style=\"color:#cdcd00\">-ac_sigmoid-hs_128-epc_5-hl_5-regu_0.5-eta_0.0001-optmz_rmsprop-batch_32-wght_random</strong> at: <a href='https://wandb.ai/ma23m011-iit-madras/DA6401_Assignment1_ma23m011/runs/xjjkvume' target=\"_blank\">https://wandb.ai/ma23m011-iit-madras/DA6401_Assignment1_ma23m011/runs/xjjkvume</a><br> View project at: <a href='https://wandb.ai/ma23m011-iit-madras/DA6401_Assignment1_ma23m011' target=\"_blank\">https://wandb.ai/ma23m011-iit-madras/DA6401_Assignment1_ma23m011</a><br>Synced 5 W&B file(s), 0 media file(s), 0 artifact file(s) and 0 other file(s)"
            ]
          },
          "metadata": {}
        },
        {
          "output_type": "display_data",
          "data": {
            "text/plain": [
              "<IPython.core.display.HTML object>"
            ],
            "text/html": [
              "Find logs at: <code>./wandb/run-20250310_014959-xjjkvume/logs</code>"
            ]
          },
          "metadata": {}
        },
        {
          "output_type": "stream",
          "name": "stderr",
          "text": [
            "\u001b[34m\u001b[1mwandb\u001b[0m: Agent Starting Run: zqfkj09u with config:\n",
            "\u001b[34m\u001b[1mwandb\u001b[0m: \tactivation: sigmoid\n",
            "\u001b[34m\u001b[1mwandb\u001b[0m: \tbatch_size: 64\n",
            "\u001b[34m\u001b[1mwandb\u001b[0m: \tepochs: 10\n",
            "\u001b[34m\u001b[1mwandb\u001b[0m: \thidden_layers: 4\n",
            "\u001b[34m\u001b[1mwandb\u001b[0m: \thidden_size: 128\n",
            "\u001b[34m\u001b[1mwandb\u001b[0m: \tlearning_rate: 0.001\n",
            "\u001b[34m\u001b[1mwandb\u001b[0m: \toptimizer: mgd\n",
            "\u001b[34m\u001b[1mwandb\u001b[0m: \tweight_decay: 0.0005\n",
            "\u001b[34m\u001b[1mwandb\u001b[0m: \tweight_init: xavier\n"
          ]
        },
        {
          "output_type": "display_data",
          "data": {
            "text/plain": [
              "<IPython.core.display.HTML object>"
            ],
            "text/html": [
              "Tracking run with wandb version 0.19.7"
            ]
          },
          "metadata": {}
        },
        {
          "output_type": "display_data",
          "data": {
            "text/plain": [
              "<IPython.core.display.HTML object>"
            ],
            "text/html": [
              "Run data is saved locally in <code>/content/wandb/run-20250310_015125-zqfkj09u</code>"
            ]
          },
          "metadata": {}
        },
        {
          "output_type": "display_data",
          "data": {
            "text/plain": [
              "<IPython.core.display.HTML object>"
            ],
            "text/html": [
              "Syncing run <strong><a href='https://wandb.ai/ma23m011-iit-madras/DA6401_Assignment1_ma23m011/runs/zqfkj09u' target=\"_blank\">sage-sweep-38</a></strong> to <a href='https://wandb.ai/ma23m011-iit-madras/DA6401_Assignment1_ma23m011' target=\"_blank\">Weights & Biases</a> (<a href='https://wandb.me/developer-guide' target=\"_blank\">docs</a>)<br>Sweep page: <a href='https://wandb.ai/ma23m011-iit-madras/DA6401_Assignment1_ma23m011/sweeps/augzj4ot' target=\"_blank\">https://wandb.ai/ma23m011-iit-madras/DA6401_Assignment1_ma23m011/sweeps/augzj4ot</a>"
            ]
          },
          "metadata": {}
        },
        {
          "output_type": "display_data",
          "data": {
            "text/plain": [
              "<IPython.core.display.HTML object>"
            ],
            "text/html": [
              " View project at <a href='https://wandb.ai/ma23m011-iit-madras/DA6401_Assignment1_ma23m011' target=\"_blank\">https://wandb.ai/ma23m011-iit-madras/DA6401_Assignment1_ma23m011</a>"
            ]
          },
          "metadata": {}
        },
        {
          "output_type": "display_data",
          "data": {
            "text/plain": [
              "<IPython.core.display.HTML object>"
            ],
            "text/html": [
              " View sweep at <a href='https://wandb.ai/ma23m011-iit-madras/DA6401_Assignment1_ma23m011/sweeps/augzj4ot' target=\"_blank\">https://wandb.ai/ma23m011-iit-madras/DA6401_Assignment1_ma23m011/sweeps/augzj4ot</a>"
            ]
          },
          "metadata": {}
        },
        {
          "output_type": "display_data",
          "data": {
            "text/plain": [
              "<IPython.core.display.HTML object>"
            ],
            "text/html": [
              " View run at <a href='https://wandb.ai/ma23m011-iit-madras/DA6401_Assignment1_ma23m011/runs/zqfkj09u' target=\"_blank\">https://wandb.ai/ma23m011-iit-madras/DA6401_Assignment1_ma23m011/runs/zqfkj09u</a>"
            ]
          },
          "metadata": {}
        },
        {
          "output_type": "stream",
          "name": "stdout",
          "text": [
            "Epoch 1: Train Loss = 2.4858, Train Acc = 10.0296, Val Loss = 2.4909, Val Acc = 9.7333\n",
            "Epoch 2: Train Loss = 2.4858, Train Acc = 10.0296, Val Loss = 2.4909, Val Acc = 9.7333\n",
            "Epoch 3: Train Loss = 2.4858, Train Acc = 10.0296, Val Loss = 2.4909, Val Acc = 9.7333\n",
            "Epoch 4: Train Loss = 2.4858, Train Acc = 10.0296, Val Loss = 2.4909, Val Acc = 9.7333\n",
            "Epoch 5: Train Loss = 2.4858, Train Acc = 10.0296, Val Loss = 2.4909, Val Acc = 9.7333\n",
            "Epoch 6: Train Loss = 2.4858, Train Acc = 10.0296, Val Loss = 2.4909, Val Acc = 9.7333\n",
            "Epoch 7: Train Loss = 2.4858, Train Acc = 10.0296, Val Loss = 2.4909, Val Acc = 9.7333\n",
            "Epoch 8: Train Loss = 2.4858, Train Acc = 10.0296, Val Loss = 2.4909, Val Acc = 9.7333\n",
            "Epoch 9: Train Loss = 2.4858, Train Acc = 10.0296, Val Loss = 2.4909, Val Acc = 9.7333\n",
            "Epoch 10: Train Loss = 2.4858, Train Acc = 10.0296, Val Loss = 2.4909, Val Acc = 9.7333\n"
          ]
        },
        {
          "output_type": "display_data",
          "data": {
            "text/plain": [
              "<IPython.core.display.HTML object>"
            ],
            "text/html": []
          },
          "metadata": {}
        },
        {
          "output_type": "display_data",
          "data": {
            "text/plain": [
              "<IPython.core.display.HTML object>"
            ],
            "text/html": [
              "<br>    <style><br>        .wandb-row {<br>            display: flex;<br>            flex-direction: row;<br>            flex-wrap: wrap;<br>            justify-content: flex-start;<br>            width: 100%;<br>        }<br>        .wandb-col {<br>            display: flex;<br>            flex-direction: column;<br>            flex-basis: 100%;<br>            flex: 1;<br>            padding: 10px;<br>        }<br>    </style><br><div class=\"wandb-row\"><div class=\"wandb-col\"><h3>Run history:</h3><br/><table class=\"wandb\"><tr><td>Train_accuracy</td><td>▁▁▁▁▁▁▁▁▁▁</td></tr><tr><td>Train_loss</td><td>▁▁▁▁▁▁▁▁▁▁</td></tr><tr><td>Val_accuracy</td><td>▁▁▁▁▁▁▁▁▁▁</td></tr><tr><td>Val_loss</td><td>▁▁▁▁▁▁▁▁▁▁</td></tr><tr><td>epoch</td><td>▁▂▃▃▄▅▆▆▇█</td></tr></table><br/></div><div class=\"wandb-col\"><h3>Run summary:</h3><br/><table class=\"wandb\"><tr><td>Train_accuracy</td><td>10.02963</td></tr><tr><td>Train_loss</td><td>2.48577</td></tr><tr><td>Val_accuracy</td><td>9.73333</td></tr><tr><td>Val_loss</td><td>2.49093</td></tr><tr><td>epoch</td><td>10</td></tr></table><br/></div></div>"
            ]
          },
          "metadata": {}
        },
        {
          "output_type": "display_data",
          "data": {
            "text/plain": [
              "<IPython.core.display.HTML object>"
            ],
            "text/html": [
              " View run <strong style=\"color:#cdcd00\">-ac_sigmoid-hs_128-epc_10-hl_4-regu_0.0005-eta_0.001-optmz_mgd-batch_64-wght_xavier</strong> at: <a href='https://wandb.ai/ma23m011-iit-madras/DA6401_Assignment1_ma23m011/runs/zqfkj09u' target=\"_blank\">https://wandb.ai/ma23m011-iit-madras/DA6401_Assignment1_ma23m011/runs/zqfkj09u</a><br> View project at: <a href='https://wandb.ai/ma23m011-iit-madras/DA6401_Assignment1_ma23m011' target=\"_blank\">https://wandb.ai/ma23m011-iit-madras/DA6401_Assignment1_ma23m011</a><br>Synced 5 W&B file(s), 0 media file(s), 0 artifact file(s) and 0 other file(s)"
            ]
          },
          "metadata": {}
        },
        {
          "output_type": "display_data",
          "data": {
            "text/plain": [
              "<IPython.core.display.HTML object>"
            ],
            "text/html": [
              "Find logs at: <code>./wandb/run-20250310_015125-zqfkj09u/logs</code>"
            ]
          },
          "metadata": {}
        },
        {
          "output_type": "stream",
          "name": "stderr",
          "text": [
            "\u001b[34m\u001b[1mwandb\u001b[0m: Agent Starting Run: ukzf8gem with config:\n",
            "\u001b[34m\u001b[1mwandb\u001b[0m: \tactivation: tanh\n",
            "\u001b[34m\u001b[1mwandb\u001b[0m: \tbatch_size: 32\n",
            "\u001b[34m\u001b[1mwandb\u001b[0m: \tepochs: 10\n",
            "\u001b[34m\u001b[1mwandb\u001b[0m: \thidden_layers: 5\n",
            "\u001b[34m\u001b[1mwandb\u001b[0m: \thidden_size: 128\n",
            "\u001b[34m\u001b[1mwandb\u001b[0m: \tlearning_rate: 0.001\n",
            "\u001b[34m\u001b[1mwandb\u001b[0m: \toptimizer: adam\n",
            "\u001b[34m\u001b[1mwandb\u001b[0m: \tweight_decay: 0.0005\n",
            "\u001b[34m\u001b[1mwandb\u001b[0m: \tweight_init: random\n"
          ]
        },
        {
          "output_type": "display_data",
          "data": {
            "text/plain": [
              "<IPython.core.display.HTML object>"
            ],
            "text/html": [
              "Tracking run with wandb version 0.19.7"
            ]
          },
          "metadata": {}
        },
        {
          "output_type": "display_data",
          "data": {
            "text/plain": [
              "<IPython.core.display.HTML object>"
            ],
            "text/html": [
              "Run data is saved locally in <code>/content/wandb/run-20250310_015252-ukzf8gem</code>"
            ]
          },
          "metadata": {}
        },
        {
          "output_type": "display_data",
          "data": {
            "text/plain": [
              "<IPython.core.display.HTML object>"
            ],
            "text/html": [
              "Syncing run <strong><a href='https://wandb.ai/ma23m011-iit-madras/DA6401_Assignment1_ma23m011/runs/ukzf8gem' target=\"_blank\">feasible-sweep-39</a></strong> to <a href='https://wandb.ai/ma23m011-iit-madras/DA6401_Assignment1_ma23m011' target=\"_blank\">Weights & Biases</a> (<a href='https://wandb.me/developer-guide' target=\"_blank\">docs</a>)<br>Sweep page: <a href='https://wandb.ai/ma23m011-iit-madras/DA6401_Assignment1_ma23m011/sweeps/augzj4ot' target=\"_blank\">https://wandb.ai/ma23m011-iit-madras/DA6401_Assignment1_ma23m011/sweeps/augzj4ot</a>"
            ]
          },
          "metadata": {}
        },
        {
          "output_type": "display_data",
          "data": {
            "text/plain": [
              "<IPython.core.display.HTML object>"
            ],
            "text/html": [
              " View project at <a href='https://wandb.ai/ma23m011-iit-madras/DA6401_Assignment1_ma23m011' target=\"_blank\">https://wandb.ai/ma23m011-iit-madras/DA6401_Assignment1_ma23m011</a>"
            ]
          },
          "metadata": {}
        },
        {
          "output_type": "display_data",
          "data": {
            "text/plain": [
              "<IPython.core.display.HTML object>"
            ],
            "text/html": [
              " View sweep at <a href='https://wandb.ai/ma23m011-iit-madras/DA6401_Assignment1_ma23m011/sweeps/augzj4ot' target=\"_blank\">https://wandb.ai/ma23m011-iit-madras/DA6401_Assignment1_ma23m011/sweeps/augzj4ot</a>"
            ]
          },
          "metadata": {}
        },
        {
          "output_type": "display_data",
          "data": {
            "text/plain": [
              "<IPython.core.display.HTML object>"
            ],
            "text/html": [
              " View run at <a href='https://wandb.ai/ma23m011-iit-madras/DA6401_Assignment1_ma23m011/runs/ukzf8gem' target=\"_blank\">https://wandb.ai/ma23m011-iit-madras/DA6401_Assignment1_ma23m011/runs/ukzf8gem</a>"
            ]
          },
          "metadata": {}
        },
        {
          "output_type": "stream",
          "name": "stdout",
          "text": [
            "Epoch 1: Train Loss = 0.7032, Train Acc = 78.1889, Val Loss = 0.6956, Val Acc = 78.5167\n",
            "Epoch 2: Train Loss = 0.7206, Train Acc = 81.0926, Val Loss = 0.7317, Val Acc = 80.6167\n",
            "Epoch 3: Train Loss = 0.7086, Train Acc = 84.4370, Val Loss = 0.7377, Val Acc = 83.5500\n",
            "Epoch 4: Train Loss = 0.7435, Train Acc = 83.9685, Val Loss = 0.7706, Val Acc = 82.9667\n",
            "Epoch 5: Train Loss = 0.7212, Train Acc = 87.0778, Val Loss = 0.7459, Val Acc = 85.9500\n",
            "Epoch 6: Train Loss = 0.7695, Train Acc = 87.0259, Val Loss = 0.8089, Val Acc = 85.0000\n",
            "Epoch 7: Train Loss = 0.7906, Train Acc = 86.9926, Val Loss = 0.8155, Val Acc = 86.1500\n",
            "Epoch 8: Train Loss = 0.7881, Train Acc = 88.8611, Val Loss = 0.8308, Val Acc = 87.1500\n",
            "Epoch 9: Train Loss = 0.8345, Train Acc = 87.4389, Val Loss = 0.8837, Val Acc = 86.0833\n",
            "Epoch 10: Train Loss = 0.9013, Train Acc = 85.9852, Val Loss = 0.9556, Val Acc = 84.2000\n"
          ]
        },
        {
          "output_type": "display_data",
          "data": {
            "text/plain": [
              "<IPython.core.display.HTML object>"
            ],
            "text/html": []
          },
          "metadata": {}
        },
        {
          "output_type": "display_data",
          "data": {
            "text/plain": [
              "<IPython.core.display.HTML object>"
            ],
            "text/html": [
              "<br>    <style><br>        .wandb-row {<br>            display: flex;<br>            flex-direction: row;<br>            flex-wrap: wrap;<br>            justify-content: flex-start;<br>            width: 100%;<br>        }<br>        .wandb-col {<br>            display: flex;<br>            flex-direction: column;<br>            flex-basis: 100%;<br>            flex: 1;<br>            padding: 10px;<br>        }<br>    </style><br><div class=\"wandb-row\"><div class=\"wandb-col\"><h3>Run history:</h3><br/><table class=\"wandb\"><tr><td>Train_accuracy</td><td>▁▃▅▅▇▇▇█▇▆</td></tr><tr><td>Train_loss</td><td>▁▂▁▂▂▃▄▄▆█</td></tr><tr><td>Val_accuracy</td><td>▁▃▅▅▇▆▇█▇▆</td></tr><tr><td>Val_loss</td><td>▁▂▂▃▂▄▄▅▆█</td></tr><tr><td>epoch</td><td>▁▂▃▃▄▅▆▆▇█</td></tr></table><br/></div><div class=\"wandb-col\"><h3>Run summary:</h3><br/><table class=\"wandb\"><tr><td>Train_accuracy</td><td>85.98519</td></tr><tr><td>Train_loss</td><td>0.90125</td></tr><tr><td>Val_accuracy</td><td>84.2</td></tr><tr><td>Val_loss</td><td>0.95559</td></tr><tr><td>epoch</td><td>10</td></tr></table><br/></div></div>"
            ]
          },
          "metadata": {}
        },
        {
          "output_type": "display_data",
          "data": {
            "text/plain": [
              "<IPython.core.display.HTML object>"
            ],
            "text/html": [
              " View run <strong style=\"color:#cdcd00\">-ac_tanh-hs_128-epc_10-hl_5-regu_0.0005-eta_0.001-optmz_adam-batch_32-wght_random</strong> at: <a href='https://wandb.ai/ma23m011-iit-madras/DA6401_Assignment1_ma23m011/runs/ukzf8gem' target=\"_blank\">https://wandb.ai/ma23m011-iit-madras/DA6401_Assignment1_ma23m011/runs/ukzf8gem</a><br> View project at: <a href='https://wandb.ai/ma23m011-iit-madras/DA6401_Assignment1_ma23m011' target=\"_blank\">https://wandb.ai/ma23m011-iit-madras/DA6401_Assignment1_ma23m011</a><br>Synced 5 W&B file(s), 0 media file(s), 0 artifact file(s) and 0 other file(s)"
            ]
          },
          "metadata": {}
        },
        {
          "output_type": "display_data",
          "data": {
            "text/plain": [
              "<IPython.core.display.HTML object>"
            ],
            "text/html": [
              "Find logs at: <code>./wandb/run-20250310_015252-ukzf8gem/logs</code>"
            ]
          },
          "metadata": {}
        },
        {
          "output_type": "stream",
          "name": "stderr",
          "text": [
            "\u001b[34m\u001b[1mwandb\u001b[0m: Agent Starting Run: 0tr6w1lz with config:\n",
            "\u001b[34m\u001b[1mwandb\u001b[0m: \tactivation: sigmoid\n",
            "\u001b[34m\u001b[1mwandb\u001b[0m: \tbatch_size: 32\n",
            "\u001b[34m\u001b[1mwandb\u001b[0m: \tepochs: 10\n",
            "\u001b[34m\u001b[1mwandb\u001b[0m: \thidden_layers: 4\n",
            "\u001b[34m\u001b[1mwandb\u001b[0m: \thidden_size: 128\n",
            "\u001b[34m\u001b[1mwandb\u001b[0m: \tlearning_rate: 0.0001\n",
            "\u001b[34m\u001b[1mwandb\u001b[0m: \toptimizer: nadam\n",
            "\u001b[34m\u001b[1mwandb\u001b[0m: \tweight_decay: 0.0005\n",
            "\u001b[34m\u001b[1mwandb\u001b[0m: \tweight_init: xavier\n"
          ]
        },
        {
          "output_type": "display_data",
          "data": {
            "text/plain": [
              "<IPython.core.display.HTML object>"
            ],
            "text/html": [
              "Tracking run with wandb version 0.19.7"
            ]
          },
          "metadata": {}
        },
        {
          "output_type": "display_data",
          "data": {
            "text/plain": [
              "<IPython.core.display.HTML object>"
            ],
            "text/html": [
              "Run data is saved locally in <code>/content/wandb/run-20250310_015645-0tr6w1lz</code>"
            ]
          },
          "metadata": {}
        },
        {
          "output_type": "display_data",
          "data": {
            "text/plain": [
              "<IPython.core.display.HTML object>"
            ],
            "text/html": [
              "Syncing run <strong><a href='https://wandb.ai/ma23m011-iit-madras/DA6401_Assignment1_ma23m011/runs/0tr6w1lz' target=\"_blank\">amber-sweep-40</a></strong> to <a href='https://wandb.ai/ma23m011-iit-madras/DA6401_Assignment1_ma23m011' target=\"_blank\">Weights & Biases</a> (<a href='https://wandb.me/developer-guide' target=\"_blank\">docs</a>)<br>Sweep page: <a href='https://wandb.ai/ma23m011-iit-madras/DA6401_Assignment1_ma23m011/sweeps/augzj4ot' target=\"_blank\">https://wandb.ai/ma23m011-iit-madras/DA6401_Assignment1_ma23m011/sweeps/augzj4ot</a>"
            ]
          },
          "metadata": {}
        },
        {
          "output_type": "display_data",
          "data": {
            "text/plain": [
              "<IPython.core.display.HTML object>"
            ],
            "text/html": [
              " View project at <a href='https://wandb.ai/ma23m011-iit-madras/DA6401_Assignment1_ma23m011' target=\"_blank\">https://wandb.ai/ma23m011-iit-madras/DA6401_Assignment1_ma23m011</a>"
            ]
          },
          "metadata": {}
        },
        {
          "output_type": "display_data",
          "data": {
            "text/plain": [
              "<IPython.core.display.HTML object>"
            ],
            "text/html": [
              " View sweep at <a href='https://wandb.ai/ma23m011-iit-madras/DA6401_Assignment1_ma23m011/sweeps/augzj4ot' target=\"_blank\">https://wandb.ai/ma23m011-iit-madras/DA6401_Assignment1_ma23m011/sweeps/augzj4ot</a>"
            ]
          },
          "metadata": {}
        },
        {
          "output_type": "display_data",
          "data": {
            "text/plain": [
              "<IPython.core.display.HTML object>"
            ],
            "text/html": [
              " View run at <a href='https://wandb.ai/ma23m011-iit-madras/DA6401_Assignment1_ma23m011/runs/0tr6w1lz' target=\"_blank\">https://wandb.ai/ma23m011-iit-madras/DA6401_Assignment1_ma23m011/runs/0tr6w1lz</a>"
            ]
          },
          "metadata": {}
        },
        {
          "output_type": "stream",
          "name": "stdout",
          "text": [
            "Epoch 1: Train Loss = 42037685.4363, Train Acc = 9.9963, Val Loss = 42037685.4345, Val Acc = 10.0333\n",
            "Epoch 2: Train Loss = 3910718606136.3618, Train Acc = 9.9704, Val Loss = 3910718606136.3726, Val Acc = 10.2667\n",
            "Epoch 3: Train Loss = 37366452688600.6875, Train Acc = 9.9704, Val Loss = 37366452688600.7500, Val Acc = 10.2667\n",
            "Epoch 4: Train Loss = 170929647314612420608.0000, Train Acc = 10.0167, Val Loss = 170929647314612420608.0000, Val Acc = 9.8500\n",
            "Epoch 5: Train Loss = 117438569460316.8438, Train Acc = 10.0167, Val Loss = 117438569460316.8594, Val Acc = 9.8500\n",
            "Epoch 6: Train Loss = 2090034086089.6553, Train Acc = 10.0296, Val Loss = 2090034086089.6621, Val Acc = 9.7333\n",
            "Epoch 7: Train Loss = 153247355716015.6562, Train Acc = 9.9648, Val Loss = 153247355716015.6562, Val Acc = 10.3167\n",
            "Epoch 8: Train Loss = 4523007769866241536.0000, Train Acc = 10.0167, Val Loss = 4523007769866241536.0000, Val Acc = 9.8500\n",
            "Epoch 9: Train Loss = 301324898.5566, Train Acc = 10.0167, Val Loss = 301324898.5566, Val Acc = 9.8500\n",
            "Epoch 10: Train Loss = 3878.5416, Train Acc = 10.0296, Val Loss = 3878.5416, Val Acc = 9.7333\n"
          ]
        },
        {
          "output_type": "display_data",
          "data": {
            "text/plain": [
              "<IPython.core.display.HTML object>"
            ],
            "text/html": []
          },
          "metadata": {}
        },
        {
          "output_type": "display_data",
          "data": {
            "text/plain": [
              "<IPython.core.display.HTML object>"
            ],
            "text/html": [
              "<br>    <style><br>        .wandb-row {<br>            display: flex;<br>            flex-direction: row;<br>            flex-wrap: wrap;<br>            justify-content: flex-start;<br>            width: 100%;<br>        }<br>        .wandb-col {<br>            display: flex;<br>            flex-direction: column;<br>            flex-basis: 100%;<br>            flex: 1;<br>            padding: 10px;<br>        }<br>    </style><br><div class=\"wandb-row\"><div class=\"wandb-col\"><h3>Run history:</h3><br/><table class=\"wandb\"><tr><td>Train_accuracy</td><td>▄▂▂▇▇█▁▇▇█</td></tr><tr><td>Train_loss</td><td>▁▁▁█▁▁▁▁▁▁</td></tr><tr><td>Val_accuracy</td><td>▅▇▇▂▂▁█▂▂▁</td></tr><tr><td>Val_loss</td><td>▁▁▁█▁▁▁▁▁▁</td></tr><tr><td>epoch</td><td>▁▂▃▃▄▅▆▆▇█</td></tr></table><br/></div><div class=\"wandb-col\"><h3>Run summary:</h3><br/><table class=\"wandb\"><tr><td>Train_accuracy</td><td>10.02963</td></tr><tr><td>Train_loss</td><td>3878.54155</td></tr><tr><td>Val_accuracy</td><td>9.73333</td></tr><tr><td>Val_loss</td><td>3878.54157</td></tr><tr><td>epoch</td><td>10</td></tr></table><br/></div></div>"
            ]
          },
          "metadata": {}
        },
        {
          "output_type": "display_data",
          "data": {
            "text/plain": [
              "<IPython.core.display.HTML object>"
            ],
            "text/html": [
              " View run <strong style=\"color:#cdcd00\">-ac_sigmoid-hs_128-epc_10-hl_4-regu_0.0005-eta_0.0001-optmz_nadam-batch_32-wght_xavier</strong> at: <a href='https://wandb.ai/ma23m011-iit-madras/DA6401_Assignment1_ma23m011/runs/0tr6w1lz' target=\"_blank\">https://wandb.ai/ma23m011-iit-madras/DA6401_Assignment1_ma23m011/runs/0tr6w1lz</a><br> View project at: <a href='https://wandb.ai/ma23m011-iit-madras/DA6401_Assignment1_ma23m011' target=\"_blank\">https://wandb.ai/ma23m011-iit-madras/DA6401_Assignment1_ma23m011</a><br>Synced 5 W&B file(s), 0 media file(s), 0 artifact file(s) and 0 other file(s)"
            ]
          },
          "metadata": {}
        },
        {
          "output_type": "display_data",
          "data": {
            "text/plain": [
              "<IPython.core.display.HTML object>"
            ],
            "text/html": [
              "Find logs at: <code>./wandb/run-20250310_015645-0tr6w1lz/logs</code>"
            ]
          },
          "metadata": {}
        },
        {
          "output_type": "stream",
          "name": "stderr",
          "text": [
            "\u001b[34m\u001b[1mwandb\u001b[0m: Sweep Agent: Waiting for job.\n",
            "\u001b[34m\u001b[1mwandb\u001b[0m: Job received.\n",
            "\u001b[34m\u001b[1mwandb\u001b[0m: Agent Starting Run: u6v65du2 with config:\n",
            "\u001b[34m\u001b[1mwandb\u001b[0m: \tactivation: relu\n",
            "\u001b[34m\u001b[1mwandb\u001b[0m: \tbatch_size: 32\n",
            "\u001b[34m\u001b[1mwandb\u001b[0m: \tepochs: 10\n",
            "\u001b[34m\u001b[1mwandb\u001b[0m: \thidden_layers: 3\n",
            "\u001b[34m\u001b[1mwandb\u001b[0m: \thidden_size: 128\n",
            "\u001b[34m\u001b[1mwandb\u001b[0m: \tlearning_rate: 0.001\n",
            "\u001b[34m\u001b[1mwandb\u001b[0m: \toptimizer: adam\n",
            "\u001b[34m\u001b[1mwandb\u001b[0m: \tweight_decay: 0.0005\n",
            "\u001b[34m\u001b[1mwandb\u001b[0m: \tweight_init: xavier\n"
          ]
        },
        {
          "output_type": "display_data",
          "data": {
            "text/plain": [
              "<IPython.core.display.HTML object>"
            ],
            "text/html": [
              "Tracking run with wandb version 0.19.7"
            ]
          },
          "metadata": {}
        },
        {
          "output_type": "display_data",
          "data": {
            "text/plain": [
              "<IPython.core.display.HTML object>"
            ],
            "text/html": [
              "Run data is saved locally in <code>/content/wandb/run-20250310_015937-u6v65du2</code>"
            ]
          },
          "metadata": {}
        },
        {
          "output_type": "display_data",
          "data": {
            "text/plain": [
              "<IPython.core.display.HTML object>"
            ],
            "text/html": [
              "Syncing run <strong><a href='https://wandb.ai/ma23m011-iit-madras/DA6401_Assignment1_ma23m011/runs/u6v65du2' target=\"_blank\">lilac-sweep-41</a></strong> to <a href='https://wandb.ai/ma23m011-iit-madras/DA6401_Assignment1_ma23m011' target=\"_blank\">Weights & Biases</a> (<a href='https://wandb.me/developer-guide' target=\"_blank\">docs</a>)<br>Sweep page: <a href='https://wandb.ai/ma23m011-iit-madras/DA6401_Assignment1_ma23m011/sweeps/augzj4ot' target=\"_blank\">https://wandb.ai/ma23m011-iit-madras/DA6401_Assignment1_ma23m011/sweeps/augzj4ot</a>"
            ]
          },
          "metadata": {}
        },
        {
          "output_type": "display_data",
          "data": {
            "text/plain": [
              "<IPython.core.display.HTML object>"
            ],
            "text/html": [
              " View project at <a href='https://wandb.ai/ma23m011-iit-madras/DA6401_Assignment1_ma23m011' target=\"_blank\">https://wandb.ai/ma23m011-iit-madras/DA6401_Assignment1_ma23m011</a>"
            ]
          },
          "metadata": {}
        },
        {
          "output_type": "display_data",
          "data": {
            "text/plain": [
              "<IPython.core.display.HTML object>"
            ],
            "text/html": [
              " View sweep at <a href='https://wandb.ai/ma23m011-iit-madras/DA6401_Assignment1_ma23m011/sweeps/augzj4ot' target=\"_blank\">https://wandb.ai/ma23m011-iit-madras/DA6401_Assignment1_ma23m011/sweeps/augzj4ot</a>"
            ]
          },
          "metadata": {}
        },
        {
          "output_type": "display_data",
          "data": {
            "text/plain": [
              "<IPython.core.display.HTML object>"
            ],
            "text/html": [
              " View run at <a href='https://wandb.ai/ma23m011-iit-madras/DA6401_Assignment1_ma23m011/runs/u6v65du2' target=\"_blank\">https://wandb.ai/ma23m011-iit-madras/DA6401_Assignment1_ma23m011/runs/u6v65du2</a>"
            ]
          },
          "metadata": {}
        },
        {
          "output_type": "stream",
          "name": "stdout",
          "text": [
            "Epoch 1: Train Loss = 0.5281, Train Acc = 85.8907, Val Loss = 0.5526, Val Acc = 85.2500\n",
            "Epoch 2: Train Loss = 0.5413, Train Acc = 87.2685, Val Loss = 0.5667, Val Acc = 86.4333\n",
            "Epoch 3: Train Loss = 0.5577, Train Acc = 87.8407, Val Loss = 0.5996, Val Acc = 87.0333\n",
            "Epoch 4: Train Loss = 0.5989, Train Acc = 87.3093, Val Loss = 0.6522, Val Acc = 85.8000\n",
            "Epoch 5: Train Loss = 0.6026, Train Acc = 89.0630, Val Loss = 0.6803, Val Acc = 87.0667\n",
            "Epoch 6: Train Loss = 0.6191, Train Acc = 89.5426, Val Loss = 0.6845, Val Acc = 87.2667\n",
            "Epoch 7: Train Loss = 0.6333, Train Acc = 90.3944, Val Loss = 0.7286, Val Acc = 87.9667\n",
            "Epoch 8: Train Loss = 0.6549, Train Acc = 91.0000, Val Loss = 0.7545, Val Acc = 88.4167\n",
            "Epoch 9: Train Loss = 0.6691, Train Acc = 91.4111, Val Loss = 0.7622, Val Acc = 88.3667\n",
            "Epoch 10: Train Loss = 0.7058, Train Acc = 91.2037, Val Loss = 0.8204, Val Acc = 87.9833\n"
          ]
        },
        {
          "output_type": "display_data",
          "data": {
            "text/plain": [
              "<IPython.core.display.HTML object>"
            ],
            "text/html": []
          },
          "metadata": {}
        },
        {
          "output_type": "display_data",
          "data": {
            "text/plain": [
              "<IPython.core.display.HTML object>"
            ],
            "text/html": [
              "<br>    <style><br>        .wandb-row {<br>            display: flex;<br>            flex-direction: row;<br>            flex-wrap: wrap;<br>            justify-content: flex-start;<br>            width: 100%;<br>        }<br>        .wandb-col {<br>            display: flex;<br>            flex-direction: column;<br>            flex-basis: 100%;<br>            flex: 1;<br>            padding: 10px;<br>        }<br>    </style><br><div class=\"wandb-row\"><div class=\"wandb-col\"><h3>Run history:</h3><br/><table class=\"wandb\"><tr><td>Train_accuracy</td><td>▁▃▃▃▅▆▇▇██</td></tr><tr><td>Train_loss</td><td>▁▂▂▄▄▅▅▆▇█</td></tr><tr><td>Val_accuracy</td><td>▁▄▅▂▅▅▇██▇</td></tr><tr><td>Val_loss</td><td>▁▁▂▄▄▄▆▆▆█</td></tr><tr><td>epoch</td><td>▁▂▃▃▄▅▆▆▇█</td></tr></table><br/></div><div class=\"wandb-col\"><h3>Run summary:</h3><br/><table class=\"wandb\"><tr><td>Train_accuracy</td><td>91.2037</td></tr><tr><td>Train_loss</td><td>0.70579</td></tr><tr><td>Val_accuracy</td><td>87.98333</td></tr><tr><td>Val_loss</td><td>0.82041</td></tr><tr><td>epoch</td><td>10</td></tr></table><br/></div></div>"
            ]
          },
          "metadata": {}
        },
        {
          "output_type": "display_data",
          "data": {
            "text/plain": [
              "<IPython.core.display.HTML object>"
            ],
            "text/html": [
              " View run <strong style=\"color:#cdcd00\">-ac_relu-hs_128-epc_10-hl_3-regu_0.0005-eta_0.001-optmz_adam-batch_32-wght_xavier</strong> at: <a href='https://wandb.ai/ma23m011-iit-madras/DA6401_Assignment1_ma23m011/runs/u6v65du2' target=\"_blank\">https://wandb.ai/ma23m011-iit-madras/DA6401_Assignment1_ma23m011/runs/u6v65du2</a><br> View project at: <a href='https://wandb.ai/ma23m011-iit-madras/DA6401_Assignment1_ma23m011' target=\"_blank\">https://wandb.ai/ma23m011-iit-madras/DA6401_Assignment1_ma23m011</a><br>Synced 5 W&B file(s), 0 media file(s), 0 artifact file(s) and 0 other file(s)"
            ]
          },
          "metadata": {}
        },
        {
          "output_type": "display_data",
          "data": {
            "text/plain": [
              "<IPython.core.display.HTML object>"
            ],
            "text/html": [
              "Find logs at: <code>./wandb/run-20250310_015937-u6v65du2/logs</code>"
            ]
          },
          "metadata": {}
        },
        {
          "output_type": "stream",
          "name": "stderr",
          "text": [
            "\u001b[34m\u001b[1mwandb\u001b[0m: Agent Starting Run: x7ny0k93 with config:\n",
            "\u001b[34m\u001b[1mwandb\u001b[0m: \tactivation: tanh\n",
            "\u001b[34m\u001b[1mwandb\u001b[0m: \tbatch_size: 16\n",
            "\u001b[34m\u001b[1mwandb\u001b[0m: \tepochs: 10\n",
            "\u001b[34m\u001b[1mwandb\u001b[0m: \thidden_layers: 4\n",
            "\u001b[34m\u001b[1mwandb\u001b[0m: \thidden_size: 128\n",
            "\u001b[34m\u001b[1mwandb\u001b[0m: \tlearning_rate: 0.0001\n",
            "\u001b[34m\u001b[1mwandb\u001b[0m: \toptimizer: adam\n",
            "\u001b[34m\u001b[1mwandb\u001b[0m: \tweight_decay: 0\n",
            "\u001b[34m\u001b[1mwandb\u001b[0m: \tweight_init: xavier\n"
          ]
        },
        {
          "output_type": "display_data",
          "data": {
            "text/plain": [
              "<IPython.core.display.HTML object>"
            ],
            "text/html": [
              "Tracking run with wandb version 0.19.7"
            ]
          },
          "metadata": {}
        },
        {
          "output_type": "display_data",
          "data": {
            "text/plain": [
              "<IPython.core.display.HTML object>"
            ],
            "text/html": [
              "Run data is saved locally in <code>/content/wandb/run-20250310_020154-x7ny0k93</code>"
            ]
          },
          "metadata": {}
        },
        {
          "output_type": "display_data",
          "data": {
            "text/plain": [
              "<IPython.core.display.HTML object>"
            ],
            "text/html": [
              "Syncing run <strong><a href='https://wandb.ai/ma23m011-iit-madras/DA6401_Assignment1_ma23m011/runs/x7ny0k93' target=\"_blank\">restful-sweep-42</a></strong> to <a href='https://wandb.ai/ma23m011-iit-madras/DA6401_Assignment1_ma23m011' target=\"_blank\">Weights & Biases</a> (<a href='https://wandb.me/developer-guide' target=\"_blank\">docs</a>)<br>Sweep page: <a href='https://wandb.ai/ma23m011-iit-madras/DA6401_Assignment1_ma23m011/sweeps/augzj4ot' target=\"_blank\">https://wandb.ai/ma23m011-iit-madras/DA6401_Assignment1_ma23m011/sweeps/augzj4ot</a>"
            ]
          },
          "metadata": {}
        },
        {
          "output_type": "display_data",
          "data": {
            "text/plain": [
              "<IPython.core.display.HTML object>"
            ],
            "text/html": [
              " View project at <a href='https://wandb.ai/ma23m011-iit-madras/DA6401_Assignment1_ma23m011' target=\"_blank\">https://wandb.ai/ma23m011-iit-madras/DA6401_Assignment1_ma23m011</a>"
            ]
          },
          "metadata": {}
        },
        {
          "output_type": "display_data",
          "data": {
            "text/plain": [
              "<IPython.core.display.HTML object>"
            ],
            "text/html": [
              " View sweep at <a href='https://wandb.ai/ma23m011-iit-madras/DA6401_Assignment1_ma23m011/sweeps/augzj4ot' target=\"_blank\">https://wandb.ai/ma23m011-iit-madras/DA6401_Assignment1_ma23m011/sweeps/augzj4ot</a>"
            ]
          },
          "metadata": {}
        },
        {
          "output_type": "display_data",
          "data": {
            "text/plain": [
              "<IPython.core.display.HTML object>"
            ],
            "text/html": [
              " View run at <a href='https://wandb.ai/ma23m011-iit-madras/DA6401_Assignment1_ma23m011/runs/x7ny0k93' target=\"_blank\">https://wandb.ai/ma23m011-iit-madras/DA6401_Assignment1_ma23m011/runs/x7ny0k93</a>"
            ]
          },
          "metadata": {}
        },
        {
          "output_type": "stream",
          "name": "stdout",
          "text": [
            "Epoch 1: Train Loss = 0.4289, Train Acc = 84.5852, Val Loss = 0.4400, Val Acc = 84.0833\n",
            "Epoch 2: Train Loss = 0.3736, Train Acc = 86.6759, Val Loss = 0.3829, Val Acc = 85.7833\n",
            "Epoch 3: Train Loss = 0.3430, Train Acc = 87.6500, Val Loss = 0.3672, Val Acc = 86.4500\n",
            "Epoch 4: Train Loss = 0.3341, Train Acc = 87.6944, Val Loss = 0.3569, Val Acc = 86.4833\n",
            "Epoch 5: Train Loss = 0.3154, Train Acc = 88.4333, Val Loss = 0.3437, Val Acc = 87.3500\n",
            "Epoch 6: Train Loss = 0.2933, Train Acc = 89.3537, Val Loss = 0.3270, Val Acc = 88.0333\n",
            "Epoch 7: Train Loss = 0.2874, Train Acc = 89.2852, Val Loss = 0.3307, Val Acc = 87.5333\n",
            "Epoch 8: Train Loss = 0.2771, Train Acc = 89.8611, Val Loss = 0.3237, Val Acc = 88.0667\n",
            "Epoch 9: Train Loss = 0.2848, Train Acc = 89.5426, Val Loss = 0.3362, Val Acc = 87.8333\n",
            "Epoch 10: Train Loss = 0.2649, Train Acc = 90.2630, Val Loss = 0.3245, Val Acc = 88.1833\n"
          ]
        },
        {
          "output_type": "display_data",
          "data": {
            "text/plain": [
              "<IPython.core.display.HTML object>"
            ],
            "text/html": []
          },
          "metadata": {}
        },
        {
          "output_type": "display_data",
          "data": {
            "text/plain": [
              "<IPython.core.display.HTML object>"
            ],
            "text/html": [
              "<br>    <style><br>        .wandb-row {<br>            display: flex;<br>            flex-direction: row;<br>            flex-wrap: wrap;<br>            justify-content: flex-start;<br>            width: 100%;<br>        }<br>        .wandb-col {<br>            display: flex;<br>            flex-direction: column;<br>            flex-basis: 100%;<br>            flex: 1;<br>            padding: 10px;<br>        }<br>    </style><br><div class=\"wandb-row\"><div class=\"wandb-col\"><h3>Run history:</h3><br/><table class=\"wandb\"><tr><td>Train_accuracy</td><td>▁▄▅▅▆▇▇█▇█</td></tr><tr><td>Train_loss</td><td>█▆▄▄▃▂▂▂▂▁</td></tr><tr><td>Val_accuracy</td><td>▁▄▅▅▇█▇█▇█</td></tr><tr><td>Val_loss</td><td>█▅▄▃▂▁▁▁▂▁</td></tr><tr><td>epoch</td><td>▁▂▃▃▄▅▆▆▇█</td></tr></table><br/></div><div class=\"wandb-col\"><h3>Run summary:</h3><br/><table class=\"wandb\"><tr><td>Train_accuracy</td><td>90.26296</td></tr><tr><td>Train_loss</td><td>0.26493</td></tr><tr><td>Val_accuracy</td><td>88.18333</td></tr><tr><td>Val_loss</td><td>0.32452</td></tr><tr><td>epoch</td><td>10</td></tr></table><br/></div></div>"
            ]
          },
          "metadata": {}
        },
        {
          "output_type": "display_data",
          "data": {
            "text/plain": [
              "<IPython.core.display.HTML object>"
            ],
            "text/html": [
              " View run <strong style=\"color:#cdcd00\">-ac_tanh-hs_128-epc_10-hl_4-regu_0-eta_0.0001-optmz_adam-batch_16-wght_xavier</strong> at: <a href='https://wandb.ai/ma23m011-iit-madras/DA6401_Assignment1_ma23m011/runs/x7ny0k93' target=\"_blank\">https://wandb.ai/ma23m011-iit-madras/DA6401_Assignment1_ma23m011/runs/x7ny0k93</a><br> View project at: <a href='https://wandb.ai/ma23m011-iit-madras/DA6401_Assignment1_ma23m011' target=\"_blank\">https://wandb.ai/ma23m011-iit-madras/DA6401_Assignment1_ma23m011</a><br>Synced 5 W&B file(s), 0 media file(s), 0 artifact file(s) and 0 other file(s)"
            ]
          },
          "metadata": {}
        },
        {
          "output_type": "display_data",
          "data": {
            "text/plain": [
              "<IPython.core.display.HTML object>"
            ],
            "text/html": [
              "Find logs at: <code>./wandb/run-20250310_020154-x7ny0k93/logs</code>"
            ]
          },
          "metadata": {}
        },
        {
          "output_type": "stream",
          "name": "stderr",
          "text": [
            "\u001b[34m\u001b[1mwandb\u001b[0m: Agent Starting Run: 1kbltqqt with config:\n",
            "\u001b[34m\u001b[1mwandb\u001b[0m: \tactivation: relu\n",
            "\u001b[34m\u001b[1mwandb\u001b[0m: \tbatch_size: 64\n",
            "\u001b[34m\u001b[1mwandb\u001b[0m: \tepochs: 10\n",
            "\u001b[34m\u001b[1mwandb\u001b[0m: \thidden_layers: 5\n",
            "\u001b[34m\u001b[1mwandb\u001b[0m: \thidden_size: 64\n",
            "\u001b[34m\u001b[1mwandb\u001b[0m: \tlearning_rate: 0.0001\n",
            "\u001b[34m\u001b[1mwandb\u001b[0m: \toptimizer: sgd\n",
            "\u001b[34m\u001b[1mwandb\u001b[0m: \tweight_decay: 0.5\n",
            "\u001b[34m\u001b[1mwandb\u001b[0m: \tweight_init: xavier\n"
          ]
        },
        {
          "output_type": "display_data",
          "data": {
            "text/plain": [
              "<IPython.core.display.HTML object>"
            ],
            "text/html": [
              "Tracking run with wandb version 0.19.7"
            ]
          },
          "metadata": {}
        },
        {
          "output_type": "display_data",
          "data": {
            "text/plain": [
              "<IPython.core.display.HTML object>"
            ],
            "text/html": [
              "Run data is saved locally in <code>/content/wandb/run-20250310_020703-1kbltqqt</code>"
            ]
          },
          "metadata": {}
        },
        {
          "output_type": "display_data",
          "data": {
            "text/plain": [
              "<IPython.core.display.HTML object>"
            ],
            "text/html": [
              "Syncing run <strong><a href='https://wandb.ai/ma23m011-iit-madras/DA6401_Assignment1_ma23m011/runs/1kbltqqt' target=\"_blank\">good-sweep-43</a></strong> to <a href='https://wandb.ai/ma23m011-iit-madras/DA6401_Assignment1_ma23m011' target=\"_blank\">Weights & Biases</a> (<a href='https://wandb.me/developer-guide' target=\"_blank\">docs</a>)<br>Sweep page: <a href='https://wandb.ai/ma23m011-iit-madras/DA6401_Assignment1_ma23m011/sweeps/augzj4ot' target=\"_blank\">https://wandb.ai/ma23m011-iit-madras/DA6401_Assignment1_ma23m011/sweeps/augzj4ot</a>"
            ]
          },
          "metadata": {}
        },
        {
          "output_type": "display_data",
          "data": {
            "text/plain": [
              "<IPython.core.display.HTML object>"
            ],
            "text/html": [
              " View project at <a href='https://wandb.ai/ma23m011-iit-madras/DA6401_Assignment1_ma23m011' target=\"_blank\">https://wandb.ai/ma23m011-iit-madras/DA6401_Assignment1_ma23m011</a>"
            ]
          },
          "metadata": {}
        },
        {
          "output_type": "display_data",
          "data": {
            "text/plain": [
              "<IPython.core.display.HTML object>"
            ],
            "text/html": [
              " View sweep at <a href='https://wandb.ai/ma23m011-iit-madras/DA6401_Assignment1_ma23m011/sweeps/augzj4ot' target=\"_blank\">https://wandb.ai/ma23m011-iit-madras/DA6401_Assignment1_ma23m011/sweeps/augzj4ot</a>"
            ]
          },
          "metadata": {}
        },
        {
          "output_type": "display_data",
          "data": {
            "text/plain": [
              "<IPython.core.display.HTML object>"
            ],
            "text/html": [
              " View run at <a href='https://wandb.ai/ma23m011-iit-madras/DA6401_Assignment1_ma23m011/runs/1kbltqqt' target=\"_blank\">https://wandb.ai/ma23m011-iit-madras/DA6401_Assignment1_ma23m011/runs/1kbltqqt</a>"
            ]
          },
          "metadata": {}
        },
        {
          "output_type": "stream",
          "name": "stdout",
          "text": [
            "Epoch 1: Train Loss = 78.6496, Train Acc = 62.3481, Val Loss = 78.6374, Val Acc = 62.9833\n",
            "Epoch 2: Train Loss = 74.7140, Train Acc = 72.0907, Val Loss = 74.6981, Val Acc = 72.6667\n",
            "Epoch 3: Train Loss = 70.4482, Train Acc = 76.7926, Val Loss = 70.4475, Val Acc = 76.9500\n",
            "Epoch 4: Train Loss = 66.2891, Train Acc = 78.9315, Val Loss = 66.2826, Val Acc = 79.3333\n",
            "Epoch 5: Train Loss = 62.2605, Train Acc = 81.9778, Val Loss = 62.2602, Val Acc = 81.6333\n",
            "Epoch 6: Train Loss = 58.5694, Train Acc = 82.5722, Val Loss = 58.5730, Val Acc = 82.3000\n",
            "Epoch 7: Train Loss = 55.1851, Train Acc = 82.9778, Val Loss = 55.1867, Val Acc = 83.0667\n",
            "Epoch 8: Train Loss = 52.0196, Train Acc = 82.5907, Val Loss = 52.0177, Val Acc = 82.7667\n",
            "Epoch 9: Train Loss = 49.1021, Train Acc = 83.7759, Val Loss = 49.1102, Val Acc = 83.0167\n",
            "Epoch 10: Train Loss = 46.4451, Train Acc = 84.1056, Val Loss = 46.4528, Val Acc = 83.7500\n"
          ]
        },
        {
          "output_type": "display_data",
          "data": {
            "text/plain": [
              "<IPython.core.display.HTML object>"
            ],
            "text/html": []
          },
          "metadata": {}
        },
        {
          "output_type": "display_data",
          "data": {
            "text/plain": [
              "<IPython.core.display.HTML object>"
            ],
            "text/html": [
              "<br>    <style><br>        .wandb-row {<br>            display: flex;<br>            flex-direction: row;<br>            flex-wrap: wrap;<br>            justify-content: flex-start;<br>            width: 100%;<br>        }<br>        .wandb-col {<br>            display: flex;<br>            flex-direction: column;<br>            flex-basis: 100%;<br>            flex: 1;<br>            padding: 10px;<br>        }<br>    </style><br><div class=\"wandb-row\"><div class=\"wandb-col\"><h3>Run history:</h3><br/><table class=\"wandb\"><tr><td>Train_accuracy</td><td>▁▄▆▆▇█████</td></tr><tr><td>Train_loss</td><td>█▇▆▅▄▄▃▂▂▁</td></tr><tr><td>Val_accuracy</td><td>▁▄▆▇▇█████</td></tr><tr><td>Val_loss</td><td>█▇▆▅▄▄▃▂▂▁</td></tr><tr><td>epoch</td><td>▁▂▃▃▄▅▆▆▇█</td></tr></table><br/></div><div class=\"wandb-col\"><h3>Run summary:</h3><br/><table class=\"wandb\"><tr><td>Train_accuracy</td><td>84.10556</td></tr><tr><td>Train_loss</td><td>46.44512</td></tr><tr><td>Val_accuracy</td><td>83.75</td></tr><tr><td>Val_loss</td><td>46.45282</td></tr><tr><td>epoch</td><td>10</td></tr></table><br/></div></div>"
            ]
          },
          "metadata": {}
        },
        {
          "output_type": "display_data",
          "data": {
            "text/plain": [
              "<IPython.core.display.HTML object>"
            ],
            "text/html": [
              " View run <strong style=\"color:#cdcd00\">-ac_relu-hs_64-epc_10-hl_5-regu_0.5-eta_0.0001-optmz_sgd-batch_64-wght_xavier</strong> at: <a href='https://wandb.ai/ma23m011-iit-madras/DA6401_Assignment1_ma23m011/runs/1kbltqqt' target=\"_blank\">https://wandb.ai/ma23m011-iit-madras/DA6401_Assignment1_ma23m011/runs/1kbltqqt</a><br> View project at: <a href='https://wandb.ai/ma23m011-iit-madras/DA6401_Assignment1_ma23m011' target=\"_blank\">https://wandb.ai/ma23m011-iit-madras/DA6401_Assignment1_ma23m011</a><br>Synced 5 W&B file(s), 0 media file(s), 0 artifact file(s) and 0 other file(s)"
            ]
          },
          "metadata": {}
        },
        {
          "output_type": "display_data",
          "data": {
            "text/plain": [
              "<IPython.core.display.HTML object>"
            ],
            "text/html": [
              "Find logs at: <code>./wandb/run-20250310_020703-1kbltqqt/logs</code>"
            ]
          },
          "metadata": {}
        },
        {
          "output_type": "stream",
          "name": "stderr",
          "text": [
            "\u001b[34m\u001b[1mwandb\u001b[0m: Agent Starting Run: ujgi03l4 with config:\n",
            "\u001b[34m\u001b[1mwandb\u001b[0m: \tactivation: relu\n",
            "\u001b[34m\u001b[1mwandb\u001b[0m: \tbatch_size: 16\n",
            "\u001b[34m\u001b[1mwandb\u001b[0m: \tepochs: 10\n",
            "\u001b[34m\u001b[1mwandb\u001b[0m: \thidden_layers: 3\n",
            "\u001b[34m\u001b[1mwandb\u001b[0m: \thidden_size: 32\n",
            "\u001b[34m\u001b[1mwandb\u001b[0m: \tlearning_rate: 0.001\n",
            "\u001b[34m\u001b[1mwandb\u001b[0m: \toptimizer: nadam\n",
            "\u001b[34m\u001b[1mwandb\u001b[0m: \tweight_decay: 0\n",
            "\u001b[34m\u001b[1mwandb\u001b[0m: \tweight_init: random\n"
          ]
        },
        {
          "output_type": "display_data",
          "data": {
            "text/plain": [
              "<IPython.core.display.HTML object>"
            ],
            "text/html": [
              "Tracking run with wandb version 0.19.7"
            ]
          },
          "metadata": {}
        },
        {
          "output_type": "display_data",
          "data": {
            "text/plain": [
              "<IPython.core.display.HTML object>"
            ],
            "text/html": [
              "Run data is saved locally in <code>/content/wandb/run-20250310_020749-ujgi03l4</code>"
            ]
          },
          "metadata": {}
        },
        {
          "output_type": "display_data",
          "data": {
            "text/plain": [
              "<IPython.core.display.HTML object>"
            ],
            "text/html": [
              "Syncing run <strong><a href='https://wandb.ai/ma23m011-iit-madras/DA6401_Assignment1_ma23m011/runs/ujgi03l4' target=\"_blank\">sunny-sweep-44</a></strong> to <a href='https://wandb.ai/ma23m011-iit-madras/DA6401_Assignment1_ma23m011' target=\"_blank\">Weights & Biases</a> (<a href='https://wandb.me/developer-guide' target=\"_blank\">docs</a>)<br>Sweep page: <a href='https://wandb.ai/ma23m011-iit-madras/DA6401_Assignment1_ma23m011/sweeps/augzj4ot' target=\"_blank\">https://wandb.ai/ma23m011-iit-madras/DA6401_Assignment1_ma23m011/sweeps/augzj4ot</a>"
            ]
          },
          "metadata": {}
        },
        {
          "output_type": "display_data",
          "data": {
            "text/plain": [
              "<IPython.core.display.HTML object>"
            ],
            "text/html": [
              " View project at <a href='https://wandb.ai/ma23m011-iit-madras/DA6401_Assignment1_ma23m011' target=\"_blank\">https://wandb.ai/ma23m011-iit-madras/DA6401_Assignment1_ma23m011</a>"
            ]
          },
          "metadata": {}
        },
        {
          "output_type": "display_data",
          "data": {
            "text/plain": [
              "<IPython.core.display.HTML object>"
            ],
            "text/html": [
              " View sweep at <a href='https://wandb.ai/ma23m011-iit-madras/DA6401_Assignment1_ma23m011/sweeps/augzj4ot' target=\"_blank\">https://wandb.ai/ma23m011-iit-madras/DA6401_Assignment1_ma23m011/sweeps/augzj4ot</a>"
            ]
          },
          "metadata": {}
        },
        {
          "output_type": "display_data",
          "data": {
            "text/plain": [
              "<IPython.core.display.HTML object>"
            ],
            "text/html": [
              " View run at <a href='https://wandb.ai/ma23m011-iit-madras/DA6401_Assignment1_ma23m011/runs/ujgi03l4' target=\"_blank\">https://wandb.ai/ma23m011-iit-madras/DA6401_Assignment1_ma23m011/runs/ujgi03l4</a>"
            ]
          },
          "metadata": {}
        },
        {
          "output_type": "stream",
          "name": "stdout",
          "text": [
            "Epoch 1: Train Loss = 2.3026, Train Acc = 9.9444, Val Loss = 2.3026, Val Acc = 10.5000\n",
            "Epoch 2: Train Loss = 2.3026, Train Acc = 9.9444, Val Loss = 2.3026, Val Acc = 10.5000\n",
            "Epoch 3: Train Loss = 2.3026, Train Acc = 9.9444, Val Loss = 2.3026, Val Acc = 10.5000\n",
            "Epoch 4: Train Loss = 2.3026, Train Acc = 9.9444, Val Loss = 2.3026, Val Acc = 10.5000\n",
            "Epoch 5: Train Loss = 2.3026, Train Acc = 9.9444, Val Loss = 2.3026, Val Acc = 10.5000\n",
            "Epoch 6: Train Loss = 2.3026, Train Acc = 9.9444, Val Loss = 2.3026, Val Acc = 10.5000\n",
            "Epoch 7: Train Loss = 2.3026, Train Acc = 9.9444, Val Loss = 2.3026, Val Acc = 10.5000\n",
            "Epoch 8: Train Loss = 2.3026, Train Acc = 9.9444, Val Loss = 2.3026, Val Acc = 10.5000\n",
            "Epoch 9: Train Loss = 2.3026, Train Acc = 9.9444, Val Loss = 2.3026, Val Acc = 10.5000\n",
            "Epoch 10: Train Loss = 2.3026, Train Acc = 9.9444, Val Loss = 2.3026, Val Acc = 10.5000\n"
          ]
        },
        {
          "output_type": "display_data",
          "data": {
            "text/plain": [
              "<IPython.core.display.HTML object>"
            ],
            "text/html": []
          },
          "metadata": {}
        },
        {
          "output_type": "display_data",
          "data": {
            "text/plain": [
              "<IPython.core.display.HTML object>"
            ],
            "text/html": [
              "<br>    <style><br>        .wandb-row {<br>            display: flex;<br>            flex-direction: row;<br>            flex-wrap: wrap;<br>            justify-content: flex-start;<br>            width: 100%;<br>        }<br>        .wandb-col {<br>            display: flex;<br>            flex-direction: column;<br>            flex-basis: 100%;<br>            flex: 1;<br>            padding: 10px;<br>        }<br>    </style><br><div class=\"wandb-row\"><div class=\"wandb-col\"><h3>Run history:</h3><br/><table class=\"wandb\"><tr><td>Train_accuracy</td><td>▁▁▁▁▁▁▁▁▁▁</td></tr><tr><td>Train_loss</td><td>▁▁▁▁▁▁▁▁▁▁</td></tr><tr><td>Val_accuracy</td><td>▁▁▁▁▁▁▁▁▁▁</td></tr><tr><td>Val_loss</td><td>▁▁▁▁▁▁▁▁▁▁</td></tr><tr><td>epoch</td><td>▁▂▃▃▄▅▆▆▇█</td></tr></table><br/></div><div class=\"wandb-col\"><h3>Run summary:</h3><br/><table class=\"wandb\"><tr><td>Train_accuracy</td><td>9.94444</td></tr><tr><td>Train_loss</td><td>2.30258</td></tr><tr><td>Val_accuracy</td><td>10.5</td></tr><tr><td>Val_loss</td><td>2.30258</td></tr><tr><td>epoch</td><td>10</td></tr></table><br/></div></div>"
            ]
          },
          "metadata": {}
        },
        {
          "output_type": "display_data",
          "data": {
            "text/plain": [
              "<IPython.core.display.HTML object>"
            ],
            "text/html": [
              " View run <strong style=\"color:#cdcd00\">-ac_relu-hs_32-epc_10-hl_3-regu_0-eta_0.001-optmz_nadam-batch_16-wght_random</strong> at: <a href='https://wandb.ai/ma23m011-iit-madras/DA6401_Assignment1_ma23m011/runs/ujgi03l4' target=\"_blank\">https://wandb.ai/ma23m011-iit-madras/DA6401_Assignment1_ma23m011/runs/ujgi03l4</a><br> View project at: <a href='https://wandb.ai/ma23m011-iit-madras/DA6401_Assignment1_ma23m011' target=\"_blank\">https://wandb.ai/ma23m011-iit-madras/DA6401_Assignment1_ma23m011</a><br>Synced 5 W&B file(s), 0 media file(s), 0 artifact file(s) and 0 other file(s)"
            ]
          },
          "metadata": {}
        },
        {
          "output_type": "display_data",
          "data": {
            "text/plain": [
              "<IPython.core.display.HTML object>"
            ],
            "text/html": [
              "Find logs at: <code>./wandb/run-20250310_020749-ujgi03l4/logs</code>"
            ]
          },
          "metadata": {}
        },
        {
          "output_type": "stream",
          "name": "stderr",
          "text": [
            "\u001b[34m\u001b[1mwandb\u001b[0m: Agent Starting Run: cfa82vzv with config:\n",
            "\u001b[34m\u001b[1mwandb\u001b[0m: \tactivation: relu\n",
            "\u001b[34m\u001b[1mwandb\u001b[0m: \tbatch_size: 16\n",
            "\u001b[34m\u001b[1mwandb\u001b[0m: \tepochs: 10\n",
            "\u001b[34m\u001b[1mwandb\u001b[0m: \thidden_layers: 5\n",
            "\u001b[34m\u001b[1mwandb\u001b[0m: \thidden_size: 128\n",
            "\u001b[34m\u001b[1mwandb\u001b[0m: \tlearning_rate: 0.0001\n",
            "\u001b[34m\u001b[1mwandb\u001b[0m: \toptimizer: mgd\n",
            "\u001b[34m\u001b[1mwandb\u001b[0m: \tweight_decay: 0\n",
            "\u001b[34m\u001b[1mwandb\u001b[0m: \tweight_init: xavier\n"
          ]
        },
        {
          "output_type": "display_data",
          "data": {
            "text/plain": [
              "<IPython.core.display.HTML object>"
            ],
            "text/html": [
              "Tracking run with wandb version 0.19.7"
            ]
          },
          "metadata": {}
        },
        {
          "output_type": "display_data",
          "data": {
            "text/plain": [
              "<IPython.core.display.HTML object>"
            ],
            "text/html": [
              "Run data is saved locally in <code>/content/wandb/run-20250310_020850-cfa82vzv</code>"
            ]
          },
          "metadata": {}
        },
        {
          "output_type": "display_data",
          "data": {
            "text/plain": [
              "<IPython.core.display.HTML object>"
            ],
            "text/html": [
              "Syncing run <strong><a href='https://wandb.ai/ma23m011-iit-madras/DA6401_Assignment1_ma23m011/runs/cfa82vzv' target=\"_blank\">honest-sweep-45</a></strong> to <a href='https://wandb.ai/ma23m011-iit-madras/DA6401_Assignment1_ma23m011' target=\"_blank\">Weights & Biases</a> (<a href='https://wandb.me/developer-guide' target=\"_blank\">docs</a>)<br>Sweep page: <a href='https://wandb.ai/ma23m011-iit-madras/DA6401_Assignment1_ma23m011/sweeps/augzj4ot' target=\"_blank\">https://wandb.ai/ma23m011-iit-madras/DA6401_Assignment1_ma23m011/sweeps/augzj4ot</a>"
            ]
          },
          "metadata": {}
        },
        {
          "output_type": "display_data",
          "data": {
            "text/plain": [
              "<IPython.core.display.HTML object>"
            ],
            "text/html": [
              " View project at <a href='https://wandb.ai/ma23m011-iit-madras/DA6401_Assignment1_ma23m011' target=\"_blank\">https://wandb.ai/ma23m011-iit-madras/DA6401_Assignment1_ma23m011</a>"
            ]
          },
          "metadata": {}
        },
        {
          "output_type": "display_data",
          "data": {
            "text/plain": [
              "<IPython.core.display.HTML object>"
            ],
            "text/html": [
              " View sweep at <a href='https://wandb.ai/ma23m011-iit-madras/DA6401_Assignment1_ma23m011/sweeps/augzj4ot' target=\"_blank\">https://wandb.ai/ma23m011-iit-madras/DA6401_Assignment1_ma23m011/sweeps/augzj4ot</a>"
            ]
          },
          "metadata": {}
        },
        {
          "output_type": "display_data",
          "data": {
            "text/plain": [
              "<IPython.core.display.HTML object>"
            ],
            "text/html": [
              " View run at <a href='https://wandb.ai/ma23m011-iit-madras/DA6401_Assignment1_ma23m011/runs/cfa82vzv' target=\"_blank\">https://wandb.ai/ma23m011-iit-madras/DA6401_Assignment1_ma23m011/runs/cfa82vzv</a>"
            ]
          },
          "metadata": {}
        },
        {
          "output_type": "stream",
          "name": "stdout",
          "text": [
            "Epoch 1: Train Loss = 2.3083, Train Acc = 11.8056, Val Loss = 2.3085, Val Acc = 11.9667\n",
            "Epoch 2: Train Loss = 2.3083, Train Acc = 11.8056, Val Loss = 2.3085, Val Acc = 11.9667\n",
            "Epoch 3: Train Loss = 2.3083, Train Acc = 11.8056, Val Loss = 2.3085, Val Acc = 11.9667\n",
            "Epoch 4: Train Loss = 2.3083, Train Acc = 11.8056, Val Loss = 2.3085, Val Acc = 11.9667\n",
            "Epoch 5: Train Loss = 2.3083, Train Acc = 11.8056, Val Loss = 2.3085, Val Acc = 11.9667\n",
            "Epoch 6: Train Loss = 2.3083, Train Acc = 11.8056, Val Loss = 2.3085, Val Acc = 11.9667\n",
            "Epoch 7: Train Loss = 2.3083, Train Acc = 11.8056, Val Loss = 2.3085, Val Acc = 11.9667\n",
            "Epoch 8: Train Loss = 2.3083, Train Acc = 11.8056, Val Loss = 2.3085, Val Acc = 11.9667\n",
            "Epoch 9: Train Loss = 2.3083, Train Acc = 11.8056, Val Loss = 2.3085, Val Acc = 11.9667\n",
            "Epoch 10: Train Loss = 2.3083, Train Acc = 11.8056, Val Loss = 2.3085, Val Acc = 11.9667\n"
          ]
        },
        {
          "output_type": "display_data",
          "data": {
            "text/plain": [
              "<IPython.core.display.HTML object>"
            ],
            "text/html": []
          },
          "metadata": {}
        },
        {
          "output_type": "display_data",
          "data": {
            "text/plain": [
              "<IPython.core.display.HTML object>"
            ],
            "text/html": [
              "<br>    <style><br>        .wandb-row {<br>            display: flex;<br>            flex-direction: row;<br>            flex-wrap: wrap;<br>            justify-content: flex-start;<br>            width: 100%;<br>        }<br>        .wandb-col {<br>            display: flex;<br>            flex-direction: column;<br>            flex-basis: 100%;<br>            flex: 1;<br>            padding: 10px;<br>        }<br>    </style><br><div class=\"wandb-row\"><div class=\"wandb-col\"><h3>Run history:</h3><br/><table class=\"wandb\"><tr><td>Train_accuracy</td><td>▁▁▁▁▁▁▁▁▁▁</td></tr><tr><td>Train_loss</td><td>▁▁▁▁▁▁▁▁▁▁</td></tr><tr><td>Val_accuracy</td><td>▁▁▁▁▁▁▁▁▁▁</td></tr><tr><td>Val_loss</td><td>▁▁▁▁▁▁▁▁▁▁</td></tr><tr><td>epoch</td><td>▁▂▃▃▄▅▆▆▇█</td></tr></table><br/></div><div class=\"wandb-col\"><h3>Run summary:</h3><br/><table class=\"wandb\"><tr><td>Train_accuracy</td><td>11.80556</td></tr><tr><td>Train_loss</td><td>2.30829</td></tr><tr><td>Val_accuracy</td><td>11.96667</td></tr><tr><td>Val_loss</td><td>2.30846</td></tr><tr><td>epoch</td><td>10</td></tr></table><br/></div></div>"
            ]
          },
          "metadata": {}
        },
        {
          "output_type": "display_data",
          "data": {
            "text/plain": [
              "<IPython.core.display.HTML object>"
            ],
            "text/html": [
              " View run <strong style=\"color:#cdcd00\">-ac_relu-hs_128-epc_10-hl_5-regu_0-eta_0.0001-optmz_mgd-batch_16-wght_xavier</strong> at: <a href='https://wandb.ai/ma23m011-iit-madras/DA6401_Assignment1_ma23m011/runs/cfa82vzv' target=\"_blank\">https://wandb.ai/ma23m011-iit-madras/DA6401_Assignment1_ma23m011/runs/cfa82vzv</a><br> View project at: <a href='https://wandb.ai/ma23m011-iit-madras/DA6401_Assignment1_ma23m011' target=\"_blank\">https://wandb.ai/ma23m011-iit-madras/DA6401_Assignment1_ma23m011</a><br>Synced 5 W&B file(s), 0 media file(s), 0 artifact file(s) and 0 other file(s)"
            ]
          },
          "metadata": {}
        },
        {
          "output_type": "display_data",
          "data": {
            "text/plain": [
              "<IPython.core.display.HTML object>"
            ],
            "text/html": [
              "Find logs at: <code>./wandb/run-20250310_020850-cfa82vzv/logs</code>"
            ]
          },
          "metadata": {}
        },
        {
          "output_type": "stream",
          "name": "stderr",
          "text": [
            "\u001b[34m\u001b[1mwandb\u001b[0m: Agent Starting Run: i69g0pu2 with config:\n",
            "\u001b[34m\u001b[1mwandb\u001b[0m: \tactivation: tanh\n",
            "\u001b[34m\u001b[1mwandb\u001b[0m: \tbatch_size: 16\n",
            "\u001b[34m\u001b[1mwandb\u001b[0m: \tepochs: 10\n",
            "\u001b[34m\u001b[1mwandb\u001b[0m: \thidden_layers: 4\n",
            "\u001b[34m\u001b[1mwandb\u001b[0m: \thidden_size: 64\n",
            "\u001b[34m\u001b[1mwandb\u001b[0m: \tlearning_rate: 0.001\n",
            "\u001b[34m\u001b[1mwandb\u001b[0m: \toptimizer: sgd\n",
            "\u001b[34m\u001b[1mwandb\u001b[0m: \tweight_decay: 0.5\n",
            "\u001b[34m\u001b[1mwandb\u001b[0m: \tweight_init: xavier\n"
          ]
        },
        {
          "output_type": "display_data",
          "data": {
            "text/plain": [
              "<IPython.core.display.HTML object>"
            ],
            "text/html": [
              "Tracking run with wandb version 0.19.7"
            ]
          },
          "metadata": {}
        },
        {
          "output_type": "display_data",
          "data": {
            "text/plain": [
              "<IPython.core.display.HTML object>"
            ],
            "text/html": [
              "Run data is saved locally in <code>/content/wandb/run-20250310_021123-i69g0pu2</code>"
            ]
          },
          "metadata": {}
        },
        {
          "output_type": "display_data",
          "data": {
            "text/plain": [
              "<IPython.core.display.HTML object>"
            ],
            "text/html": [
              "Syncing run <strong><a href='https://wandb.ai/ma23m011-iit-madras/DA6401_Assignment1_ma23m011/runs/i69g0pu2' target=\"_blank\">gentle-sweep-46</a></strong> to <a href='https://wandb.ai/ma23m011-iit-madras/DA6401_Assignment1_ma23m011' target=\"_blank\">Weights & Biases</a> (<a href='https://wandb.me/developer-guide' target=\"_blank\">docs</a>)<br>Sweep page: <a href='https://wandb.ai/ma23m011-iit-madras/DA6401_Assignment1_ma23m011/sweeps/augzj4ot' target=\"_blank\">https://wandb.ai/ma23m011-iit-madras/DA6401_Assignment1_ma23m011/sweeps/augzj4ot</a>"
            ]
          },
          "metadata": {}
        },
        {
          "output_type": "display_data",
          "data": {
            "text/plain": [
              "<IPython.core.display.HTML object>"
            ],
            "text/html": [
              " View project at <a href='https://wandb.ai/ma23m011-iit-madras/DA6401_Assignment1_ma23m011' target=\"_blank\">https://wandb.ai/ma23m011-iit-madras/DA6401_Assignment1_ma23m011</a>"
            ]
          },
          "metadata": {}
        },
        {
          "output_type": "display_data",
          "data": {
            "text/plain": [
              "<IPython.core.display.HTML object>"
            ],
            "text/html": [
              " View sweep at <a href='https://wandb.ai/ma23m011-iit-madras/DA6401_Assignment1_ma23m011/sweeps/augzj4ot' target=\"_blank\">https://wandb.ai/ma23m011-iit-madras/DA6401_Assignment1_ma23m011/sweeps/augzj4ot</a>"
            ]
          },
          "metadata": {}
        },
        {
          "output_type": "display_data",
          "data": {
            "text/plain": [
              "<IPython.core.display.HTML object>"
            ],
            "text/html": [
              " View run at <a href='https://wandb.ai/ma23m011-iit-madras/DA6401_Assignment1_ma23m011/runs/i69g0pu2' target=\"_blank\">https://wandb.ai/ma23m011-iit-madras/DA6401_Assignment1_ma23m011/runs/i69g0pu2</a>"
            ]
          },
          "metadata": {}
        },
        {
          "output_type": "stream",
          "name": "stdout",
          "text": [
            "Epoch 1: Train Loss = 12.6804, Train Acc = 79.1889, Val Loss = 12.6797, Val Acc = 79.0333\n",
            "Epoch 2: Train Loss = 10.0812, Train Acc = 78.6500, Val Loss = 10.0810, Val Acc = 78.6833\n",
            "Epoch 3: Train Loss = 9.8985, Train Acc = 80.0241, Val Loss = 9.8975, Val Acc = 79.6667\n",
            "Epoch 4: Train Loss = 9.8606, Train Acc = 79.0648, Val Loss = 9.8595, Val Acc = 79.0167\n",
            "Epoch 5: Train Loss = 9.8100, Train Acc = 79.5148, Val Loss = 9.8066, Val Acc = 79.5833\n",
            "Epoch 6: Train Loss = 9.8321, Train Acc = 80.0944, Val Loss = 9.8287, Val Acc = 79.8167\n",
            "Epoch 7: Train Loss = 9.7539, Train Acc = 79.7981, Val Loss = 9.7511, Val Acc = 79.8167\n",
            "Epoch 8: Train Loss = 9.7834, Train Acc = 78.0630, Val Loss = 9.7834, Val Acc = 78.2833\n",
            "Epoch 9: Train Loss = 9.8122, Train Acc = 80.3333, Val Loss = 9.8119, Val Acc = 79.9667\n",
            "Epoch 10: Train Loss = 9.7345, Train Acc = 79.5685, Val Loss = 9.7298, Val Acc = 79.4000\n"
          ]
        },
        {
          "output_type": "display_data",
          "data": {
            "text/plain": [
              "<IPython.core.display.HTML object>"
            ],
            "text/html": []
          },
          "metadata": {}
        },
        {
          "output_type": "display_data",
          "data": {
            "text/plain": [
              "<IPython.core.display.HTML object>"
            ],
            "text/html": [
              "<br>    <style><br>        .wandb-row {<br>            display: flex;<br>            flex-direction: row;<br>            flex-wrap: wrap;<br>            justify-content: flex-start;<br>            width: 100%;<br>        }<br>        .wandb-col {<br>            display: flex;<br>            flex-direction: column;<br>            flex-basis: 100%;<br>            flex: 1;<br>            padding: 10px;<br>        }<br>    </style><br><div class=\"wandb-row\"><div class=\"wandb-col\"><h3>Run history:</h3><br/><table class=\"wandb\"><tr><td>Train_accuracy</td><td>▄▃▇▄▅▇▆▁█▆</td></tr><tr><td>Train_loss</td><td>█▂▁▁▁▁▁▁▁▁</td></tr><tr><td>Val_accuracy</td><td>▄▃▇▄▆▇▇▁█▆</td></tr><tr><td>Val_loss</td><td>█▂▁▁▁▁▁▁▁▁</td></tr><tr><td>epoch</td><td>▁▂▃▃▄▅▆▆▇█</td></tr></table><br/></div><div class=\"wandb-col\"><h3>Run summary:</h3><br/><table class=\"wandb\"><tr><td>Train_accuracy</td><td>79.56852</td></tr><tr><td>Train_loss</td><td>9.7345</td></tr><tr><td>Val_accuracy</td><td>79.4</td></tr><tr><td>Val_loss</td><td>9.72977</td></tr><tr><td>epoch</td><td>10</td></tr></table><br/></div></div>"
            ]
          },
          "metadata": {}
        },
        {
          "output_type": "display_data",
          "data": {
            "text/plain": [
              "<IPython.core.display.HTML object>"
            ],
            "text/html": [
              " View run <strong style=\"color:#cdcd00\">-ac_tanh-hs_64-epc_10-hl_4-regu_0.5-eta_0.001-optmz_sgd-batch_16-wght_xavier</strong> at: <a href='https://wandb.ai/ma23m011-iit-madras/DA6401_Assignment1_ma23m011/runs/i69g0pu2' target=\"_blank\">https://wandb.ai/ma23m011-iit-madras/DA6401_Assignment1_ma23m011/runs/i69g0pu2</a><br> View project at: <a href='https://wandb.ai/ma23m011-iit-madras/DA6401_Assignment1_ma23m011' target=\"_blank\">https://wandb.ai/ma23m011-iit-madras/DA6401_Assignment1_ma23m011</a><br>Synced 5 W&B file(s), 0 media file(s), 0 artifact file(s) and 0 other file(s)"
            ]
          },
          "metadata": {}
        },
        {
          "output_type": "display_data",
          "data": {
            "text/plain": [
              "<IPython.core.display.HTML object>"
            ],
            "text/html": [
              "Find logs at: <code>./wandb/run-20250310_021123-i69g0pu2/logs</code>"
            ]
          },
          "metadata": {}
        },
        {
          "output_type": "stream",
          "name": "stderr",
          "text": [
            "\u001b[34m\u001b[1mwandb\u001b[0m: Agent Starting Run: zve334sf with config:\n",
            "\u001b[34m\u001b[1mwandb\u001b[0m: \tactivation: relu\n",
            "\u001b[34m\u001b[1mwandb\u001b[0m: \tbatch_size: 32\n",
            "\u001b[34m\u001b[1mwandb\u001b[0m: \tepochs: 10\n",
            "\u001b[34m\u001b[1mwandb\u001b[0m: \thidden_layers: 5\n",
            "\u001b[34m\u001b[1mwandb\u001b[0m: \thidden_size: 128\n",
            "\u001b[34m\u001b[1mwandb\u001b[0m: \tlearning_rate: 0.001\n",
            "\u001b[34m\u001b[1mwandb\u001b[0m: \toptimizer: sgd\n",
            "\u001b[34m\u001b[1mwandb\u001b[0m: \tweight_decay: 0.5\n",
            "\u001b[34m\u001b[1mwandb\u001b[0m: \tweight_init: random\n"
          ]
        },
        {
          "output_type": "display_data",
          "data": {
            "text/plain": [
              "<IPython.core.display.HTML object>"
            ],
            "text/html": [
              "Tracking run with wandb version 0.19.7"
            ]
          },
          "metadata": {}
        },
        {
          "output_type": "display_data",
          "data": {
            "text/plain": [
              "<IPython.core.display.HTML object>"
            ],
            "text/html": [
              "Run data is saved locally in <code>/content/wandb/run-20250310_021254-zve334sf</code>"
            ]
          },
          "metadata": {}
        },
        {
          "output_type": "display_data",
          "data": {
            "text/plain": [
              "<IPython.core.display.HTML object>"
            ],
            "text/html": [
              "Syncing run <strong><a href='https://wandb.ai/ma23m011-iit-madras/DA6401_Assignment1_ma23m011/runs/zve334sf' target=\"_blank\">summer-sweep-47</a></strong> to <a href='https://wandb.ai/ma23m011-iit-madras/DA6401_Assignment1_ma23m011' target=\"_blank\">Weights & Biases</a> (<a href='https://wandb.me/developer-guide' target=\"_blank\">docs</a>)<br>Sweep page: <a href='https://wandb.ai/ma23m011-iit-madras/DA6401_Assignment1_ma23m011/sweeps/augzj4ot' target=\"_blank\">https://wandb.ai/ma23m011-iit-madras/DA6401_Assignment1_ma23m011/sweeps/augzj4ot</a>"
            ]
          },
          "metadata": {}
        },
        {
          "output_type": "display_data",
          "data": {
            "text/plain": [
              "<IPython.core.display.HTML object>"
            ],
            "text/html": [
              " View project at <a href='https://wandb.ai/ma23m011-iit-madras/DA6401_Assignment1_ma23m011' target=\"_blank\">https://wandb.ai/ma23m011-iit-madras/DA6401_Assignment1_ma23m011</a>"
            ]
          },
          "metadata": {}
        },
        {
          "output_type": "display_data",
          "data": {
            "text/plain": [
              "<IPython.core.display.HTML object>"
            ],
            "text/html": [
              " View sweep at <a href='https://wandb.ai/ma23m011-iit-madras/DA6401_Assignment1_ma23m011/sweeps/augzj4ot' target=\"_blank\">https://wandb.ai/ma23m011-iit-madras/DA6401_Assignment1_ma23m011/sweeps/augzj4ot</a>"
            ]
          },
          "metadata": {}
        },
        {
          "output_type": "display_data",
          "data": {
            "text/plain": [
              "<IPython.core.display.HTML object>"
            ],
            "text/html": [
              " View run at <a href='https://wandb.ai/ma23m011-iit-madras/DA6401_Assignment1_ma23m011/runs/zve334sf' target=\"_blank\">https://wandb.ai/ma23m011-iit-madras/DA6401_Assignment1_ma23m011/runs/zve334sf</a>"
            ]
          },
          "metadata": {}
        },
        {
          "output_type": "stream",
          "name": "stdout",
          "text": [
            "Epoch 1: Train Loss = 3.0762, Train Acc = 10.0648, Val Loss = 3.0763, Val Acc = 9.4167\n",
            "Epoch 2: Train Loss = 2.4457, Train Acc = 10.0648, Val Loss = 2.4461, Val Acc = 9.4167\n",
            "Epoch 3: Train Loss = 2.3291, Train Acc = 10.0648, Val Loss = 2.3297, Val Acc = 9.4167\n",
            "Epoch 4: Train Loss = 2.3075, Train Acc = 10.0296, Val Loss = 2.3075, Val Acc = 9.7333\n",
            "Epoch 5: Train Loss = 2.3035, Train Acc = 10.0167, Val Loss = 2.3039, Val Acc = 9.8500\n",
            "Epoch 6: Train Loss = 2.3029, Train Acc = 9.9389, Val Loss = 2.3030, Val Acc = 10.5500\n",
            "Epoch 7: Train Loss = 2.3027, Train Acc = 10.0648, Val Loss = 2.3029, Val Acc = 9.4167\n",
            "Epoch 8: Train Loss = 2.3030, Train Acc = 10.0833, Val Loss = 2.3039, Val Acc = 9.2500\n",
            "Epoch 9: Train Loss = 2.3027, Train Acc = 10.0648, Val Loss = 2.3033, Val Acc = 9.4167\n",
            "Epoch 10: Train Loss = 2.3026, Train Acc = 10.0833, Val Loss = 2.3030, Val Acc = 9.2500\n"
          ]
        },
        {
          "output_type": "display_data",
          "data": {
            "text/plain": [
              "<IPython.core.display.HTML object>"
            ],
            "text/html": []
          },
          "metadata": {}
        },
        {
          "output_type": "display_data",
          "data": {
            "text/plain": [
              "<IPython.core.display.HTML object>"
            ],
            "text/html": [
              "<br>    <style><br>        .wandb-row {<br>            display: flex;<br>            flex-direction: row;<br>            flex-wrap: wrap;<br>            justify-content: flex-start;<br>            width: 100%;<br>        }<br>        .wandb-col {<br>            display: flex;<br>            flex-direction: column;<br>            flex-basis: 100%;<br>            flex: 1;<br>            padding: 10px;<br>        }<br>    </style><br><div class=\"wandb-row\"><div class=\"wandb-col\"><h3>Run history:</h3><br/><table class=\"wandb\"><tr><td>Train_accuracy</td><td>▇▇▇▅▅▁▇█▇█</td></tr><tr><td>Train_loss</td><td>█▂▁▁▁▁▁▁▁▁</td></tr><tr><td>Val_accuracy</td><td>▂▂▂▄▄█▂▁▂▁</td></tr><tr><td>Val_loss</td><td>█▂▁▁▁▁▁▁▁▁</td></tr><tr><td>epoch</td><td>▁▂▃▃▄▅▆▆▇█</td></tr></table><br/></div><div class=\"wandb-col\"><h3>Run summary:</h3><br/><table class=\"wandb\"><tr><td>Train_accuracy</td><td>10.08333</td></tr><tr><td>Train_loss</td><td>2.30263</td></tr><tr><td>Val_accuracy</td><td>9.25</td></tr><tr><td>Val_loss</td><td>2.30297</td></tr><tr><td>epoch</td><td>10</td></tr></table><br/></div></div>"
            ]
          },
          "metadata": {}
        },
        {
          "output_type": "display_data",
          "data": {
            "text/plain": [
              "<IPython.core.display.HTML object>"
            ],
            "text/html": [
              " View run <strong style=\"color:#cdcd00\">-ac_relu-hs_128-epc_10-hl_5-regu_0.5-eta_0.001-optmz_sgd-batch_32-wght_random</strong> at: <a href='https://wandb.ai/ma23m011-iit-madras/DA6401_Assignment1_ma23m011/runs/zve334sf' target=\"_blank\">https://wandb.ai/ma23m011-iit-madras/DA6401_Assignment1_ma23m011/runs/zve334sf</a><br> View project at: <a href='https://wandb.ai/ma23m011-iit-madras/DA6401_Assignment1_ma23m011' target=\"_blank\">https://wandb.ai/ma23m011-iit-madras/DA6401_Assignment1_ma23m011</a><br>Synced 5 W&B file(s), 0 media file(s), 0 artifact file(s) and 0 other file(s)"
            ]
          },
          "metadata": {}
        },
        {
          "output_type": "display_data",
          "data": {
            "text/plain": [
              "<IPython.core.display.HTML object>"
            ],
            "text/html": [
              "Find logs at: <code>./wandb/run-20250310_021254-zve334sf/logs</code>"
            ]
          },
          "metadata": {}
        },
        {
          "output_type": "stream",
          "name": "stderr",
          "text": [
            "\u001b[34m\u001b[1mwandb\u001b[0m: Agent Starting Run: ogz8iyvo with config:\n",
            "\u001b[34m\u001b[1mwandb\u001b[0m: \tactivation: relu\n",
            "\u001b[34m\u001b[1mwandb\u001b[0m: \tbatch_size: 16\n",
            "\u001b[34m\u001b[1mwandb\u001b[0m: \tepochs: 5\n",
            "\u001b[34m\u001b[1mwandb\u001b[0m: \thidden_layers: 5\n",
            "\u001b[34m\u001b[1mwandb\u001b[0m: \thidden_size: 128\n",
            "\u001b[34m\u001b[1mwandb\u001b[0m: \tlearning_rate: 0.001\n",
            "\u001b[34m\u001b[1mwandb\u001b[0m: \toptimizer: nadam\n",
            "\u001b[34m\u001b[1mwandb\u001b[0m: \tweight_decay: 0\n",
            "\u001b[34m\u001b[1mwandb\u001b[0m: \tweight_init: random\n"
          ]
        },
        {
          "output_type": "display_data",
          "data": {
            "text/plain": [
              "<IPython.core.display.HTML object>"
            ],
            "text/html": [
              "Tracking run with wandb version 0.19.7"
            ]
          },
          "metadata": {}
        },
        {
          "output_type": "display_data",
          "data": {
            "text/plain": [
              "<IPython.core.display.HTML object>"
            ],
            "text/html": [
              "Run data is saved locally in <code>/content/wandb/run-20250310_021446-ogz8iyvo</code>"
            ]
          },
          "metadata": {}
        },
        {
          "output_type": "display_data",
          "data": {
            "text/plain": [
              "<IPython.core.display.HTML object>"
            ],
            "text/html": [
              "Syncing run <strong><a href='https://wandb.ai/ma23m011-iit-madras/DA6401_Assignment1_ma23m011/runs/ogz8iyvo' target=\"_blank\">lyric-sweep-48</a></strong> to <a href='https://wandb.ai/ma23m011-iit-madras/DA6401_Assignment1_ma23m011' target=\"_blank\">Weights & Biases</a> (<a href='https://wandb.me/developer-guide' target=\"_blank\">docs</a>)<br>Sweep page: <a href='https://wandb.ai/ma23m011-iit-madras/DA6401_Assignment1_ma23m011/sweeps/augzj4ot' target=\"_blank\">https://wandb.ai/ma23m011-iit-madras/DA6401_Assignment1_ma23m011/sweeps/augzj4ot</a>"
            ]
          },
          "metadata": {}
        },
        {
          "output_type": "display_data",
          "data": {
            "text/plain": [
              "<IPython.core.display.HTML object>"
            ],
            "text/html": [
              " View project at <a href='https://wandb.ai/ma23m011-iit-madras/DA6401_Assignment1_ma23m011' target=\"_blank\">https://wandb.ai/ma23m011-iit-madras/DA6401_Assignment1_ma23m011</a>"
            ]
          },
          "metadata": {}
        },
        {
          "output_type": "display_data",
          "data": {
            "text/plain": [
              "<IPython.core.display.HTML object>"
            ],
            "text/html": [
              " View sweep at <a href='https://wandb.ai/ma23m011-iit-madras/DA6401_Assignment1_ma23m011/sweeps/augzj4ot' target=\"_blank\">https://wandb.ai/ma23m011-iit-madras/DA6401_Assignment1_ma23m011/sweeps/augzj4ot</a>"
            ]
          },
          "metadata": {}
        },
        {
          "output_type": "display_data",
          "data": {
            "text/plain": [
              "<IPython.core.display.HTML object>"
            ],
            "text/html": [
              " View run at <a href='https://wandb.ai/ma23m011-iit-madras/DA6401_Assignment1_ma23m011/runs/ogz8iyvo' target=\"_blank\">https://wandb.ai/ma23m011-iit-madras/DA6401_Assignment1_ma23m011/runs/ogz8iyvo</a>"
            ]
          },
          "metadata": {}
        },
        {
          "output_type": "stream",
          "name": "stdout",
          "text": [
            "Epoch 1: Train Loss = nan, Train Acc = 9.9444, Val Loss = nan, Val Acc = 10.5000\n",
            "Epoch 2: Train Loss = nan, Train Acc = 9.9444, Val Loss = nan, Val Acc = 10.5000\n",
            "Epoch 3: Train Loss = nan, Train Acc = 9.9444, Val Loss = nan, Val Acc = 10.5000\n",
            "Epoch 4: Train Loss = nan, Train Acc = 9.9444, Val Loss = nan, Val Acc = 10.5000\n",
            "Epoch 5: Train Loss = nan, Train Acc = 9.9444, Val Loss = nan, Val Acc = 10.5000\n"
          ]
        },
        {
          "output_type": "display_data",
          "data": {
            "text/plain": [
              "<IPython.core.display.HTML object>"
            ],
            "text/html": []
          },
          "metadata": {}
        },
        {
          "output_type": "display_data",
          "data": {
            "text/plain": [
              "<IPython.core.display.HTML object>"
            ],
            "text/html": [
              "<br>    <style><br>        .wandb-row {<br>            display: flex;<br>            flex-direction: row;<br>            flex-wrap: wrap;<br>            justify-content: flex-start;<br>            width: 100%;<br>        }<br>        .wandb-col {<br>            display: flex;<br>            flex-direction: column;<br>            flex-basis: 100%;<br>            flex: 1;<br>            padding: 10px;<br>        }<br>    </style><br><div class=\"wandb-row\"><div class=\"wandb-col\"><h3>Run history:</h3><br/><table class=\"wandb\"><tr><td>Train_accuracy</td><td>▁▁▁▁▁</td></tr><tr><td>Val_accuracy</td><td>▁▁▁▁▁</td></tr><tr><td>epoch</td><td>▁▃▅▆█</td></tr></table><br/></div><div class=\"wandb-col\"><h3>Run summary:</h3><br/><table class=\"wandb\"><tr><td>Train_accuracy</td><td>9.94444</td></tr><tr><td>Train_loss</td><td>nan</td></tr><tr><td>Val_accuracy</td><td>10.5</td></tr><tr><td>Val_loss</td><td>nan</td></tr><tr><td>epoch</td><td>5</td></tr></table><br/></div></div>"
            ]
          },
          "metadata": {}
        },
        {
          "output_type": "display_data",
          "data": {
            "text/plain": [
              "<IPython.core.display.HTML object>"
            ],
            "text/html": [
              " View run <strong style=\"color:#cdcd00\">-ac_relu-hs_128-epc_5-hl_5-regu_0-eta_0.001-optmz_nadam-batch_16-wght_random</strong> at: <a href='https://wandb.ai/ma23m011-iit-madras/DA6401_Assignment1_ma23m011/runs/ogz8iyvo' target=\"_blank\">https://wandb.ai/ma23m011-iit-madras/DA6401_Assignment1_ma23m011/runs/ogz8iyvo</a><br> View project at: <a href='https://wandb.ai/ma23m011-iit-madras/DA6401_Assignment1_ma23m011' target=\"_blank\">https://wandb.ai/ma23m011-iit-madras/DA6401_Assignment1_ma23m011</a><br>Synced 5 W&B file(s), 0 media file(s), 0 artifact file(s) and 0 other file(s)"
            ]
          },
          "metadata": {}
        },
        {
          "output_type": "display_data",
          "data": {
            "text/plain": [
              "<IPython.core.display.HTML object>"
            ],
            "text/html": [
              "Find logs at: <code>./wandb/run-20250310_021446-ogz8iyvo/logs</code>"
            ]
          },
          "metadata": {}
        },
        {
          "output_type": "stream",
          "name": "stderr",
          "text": [
            "\u001b[34m\u001b[1mwandb\u001b[0m: Agent Starting Run: 6wbwwuvz with config:\n",
            "\u001b[34m\u001b[1mwandb\u001b[0m: \tactivation: tanh\n",
            "\u001b[34m\u001b[1mwandb\u001b[0m: \tbatch_size: 32\n",
            "\u001b[34m\u001b[1mwandb\u001b[0m: \tepochs: 5\n",
            "\u001b[34m\u001b[1mwandb\u001b[0m: \thidden_layers: 5\n",
            "\u001b[34m\u001b[1mwandb\u001b[0m: \thidden_size: 32\n",
            "\u001b[34m\u001b[1mwandb\u001b[0m: \tlearning_rate: 0.0001\n",
            "\u001b[34m\u001b[1mwandb\u001b[0m: \toptimizer: nadam\n",
            "\u001b[34m\u001b[1mwandb\u001b[0m: \tweight_decay: 0.0005\n",
            "\u001b[34m\u001b[1mwandb\u001b[0m: \tweight_init: xavier\n"
          ]
        },
        {
          "output_type": "display_data",
          "data": {
            "text/plain": [
              "<IPython.core.display.HTML object>"
            ],
            "text/html": [
              "Tracking run with wandb version 0.19.7"
            ]
          },
          "metadata": {}
        },
        {
          "output_type": "display_data",
          "data": {
            "text/plain": [
              "<IPython.core.display.HTML object>"
            ],
            "text/html": [
              "Run data is saved locally in <code>/content/wandb/run-20250310_021708-6wbwwuvz</code>"
            ]
          },
          "metadata": {}
        },
        {
          "output_type": "display_data",
          "data": {
            "text/plain": [
              "<IPython.core.display.HTML object>"
            ],
            "text/html": [
              "Syncing run <strong><a href='https://wandb.ai/ma23m011-iit-madras/DA6401_Assignment1_ma23m011/runs/6wbwwuvz' target=\"_blank\">robust-sweep-49</a></strong> to <a href='https://wandb.ai/ma23m011-iit-madras/DA6401_Assignment1_ma23m011' target=\"_blank\">Weights & Biases</a> (<a href='https://wandb.me/developer-guide' target=\"_blank\">docs</a>)<br>Sweep page: <a href='https://wandb.ai/ma23m011-iit-madras/DA6401_Assignment1_ma23m011/sweeps/augzj4ot' target=\"_blank\">https://wandb.ai/ma23m011-iit-madras/DA6401_Assignment1_ma23m011/sweeps/augzj4ot</a>"
            ]
          },
          "metadata": {}
        },
        {
          "output_type": "display_data",
          "data": {
            "text/plain": [
              "<IPython.core.display.HTML object>"
            ],
            "text/html": [
              " View project at <a href='https://wandb.ai/ma23m011-iit-madras/DA6401_Assignment1_ma23m011' target=\"_blank\">https://wandb.ai/ma23m011-iit-madras/DA6401_Assignment1_ma23m011</a>"
            ]
          },
          "metadata": {}
        },
        {
          "output_type": "display_data",
          "data": {
            "text/plain": [
              "<IPython.core.display.HTML object>"
            ],
            "text/html": [
              " View sweep at <a href='https://wandb.ai/ma23m011-iit-madras/DA6401_Assignment1_ma23m011/sweeps/augzj4ot' target=\"_blank\">https://wandb.ai/ma23m011-iit-madras/DA6401_Assignment1_ma23m011/sweeps/augzj4ot</a>"
            ]
          },
          "metadata": {}
        },
        {
          "output_type": "display_data",
          "data": {
            "text/plain": [
              "<IPython.core.display.HTML object>"
            ],
            "text/html": [
              " View run at <a href='https://wandb.ai/ma23m011-iit-madras/DA6401_Assignment1_ma23m011/runs/6wbwwuvz' target=\"_blank\">https://wandb.ai/ma23m011-iit-madras/DA6401_Assignment1_ma23m011/runs/6wbwwuvz</a>"
            ]
          },
          "metadata": {}
        },
        {
          "output_type": "stream",
          "name": "stdout",
          "text": [
            "Epoch 1: Train Loss = 2762077765516823.0000, Train Acc = 9.9704, Val Loss = 2762077765516823.0000, Val Acc = 10.2667\n",
            "Epoch 2: Train Loss = 25783338067395676.0000, Train Acc = 9.9963, Val Loss = 25783338067395676.0000, Val Acc = 10.0333\n",
            "Epoch 3: Train Loss = 28551283414238836.0000, Train Acc = 10.0296, Val Loss = 28551283414238836.0000, Val Acc = 9.7333\n",
            "Epoch 4: Train Loss = 2228564120330921.7500, Train Acc = 9.9648, Val Loss = 2228564120330921.7500, Val Acc = 10.3167\n",
            "Epoch 5: Train Loss = 292149512019425.5625, Train Acc = 10.0167, Val Loss = 292149512019425.6250, Val Acc = 9.8500\n"
          ]
        },
        {
          "output_type": "display_data",
          "data": {
            "text/plain": [
              "<IPython.core.display.HTML object>"
            ],
            "text/html": []
          },
          "metadata": {}
        },
        {
          "output_type": "display_data",
          "data": {
            "text/plain": [
              "<IPython.core.display.HTML object>"
            ],
            "text/html": [
              "<br>    <style><br>        .wandb-row {<br>            display: flex;<br>            flex-direction: row;<br>            flex-wrap: wrap;<br>            justify-content: flex-start;<br>            width: 100%;<br>        }<br>        .wandb-col {<br>            display: flex;<br>            flex-direction: column;<br>            flex-basis: 100%;<br>            flex: 1;<br>            padding: 10px;<br>        }<br>    </style><br><div class=\"wandb-row\"><div class=\"wandb-col\"><h3>Run history:</h3><br/><table class=\"wandb\"><tr><td>Train_accuracy</td><td>▂▄█▁▇</td></tr><tr><td>Train_loss</td><td>▂▇█▁▁</td></tr><tr><td>Val_accuracy</td><td>▇▅▁█▂</td></tr><tr><td>Val_loss</td><td>▂▇█▁▁</td></tr><tr><td>epoch</td><td>▁▃▅▆█</td></tr></table><br/></div><div class=\"wandb-col\"><h3>Run summary:</h3><br/><table class=\"wandb\"><tr><td>Train_accuracy</td><td>10.01667</td></tr><tr><td>Train_loss</td><td>292149512019425.56</td></tr><tr><td>Val_accuracy</td><td>9.85</td></tr><tr><td>Val_loss</td><td>292149512019425.6</td></tr><tr><td>epoch</td><td>5</td></tr></table><br/></div></div>"
            ]
          },
          "metadata": {}
        },
        {
          "output_type": "display_data",
          "data": {
            "text/plain": [
              "<IPython.core.display.HTML object>"
            ],
            "text/html": [
              " View run <strong style=\"color:#cdcd00\">-ac_tanh-hs_32-epc_5-hl_5-regu_0.0005-eta_0.0001-optmz_nadam-batch_32-wght_xavier</strong> at: <a href='https://wandb.ai/ma23m011-iit-madras/DA6401_Assignment1_ma23m011/runs/6wbwwuvz' target=\"_blank\">https://wandb.ai/ma23m011-iit-madras/DA6401_Assignment1_ma23m011/runs/6wbwwuvz</a><br> View project at: <a href='https://wandb.ai/ma23m011-iit-madras/DA6401_Assignment1_ma23m011' target=\"_blank\">https://wandb.ai/ma23m011-iit-madras/DA6401_Assignment1_ma23m011</a><br>Synced 5 W&B file(s), 0 media file(s), 0 artifact file(s) and 0 other file(s)"
            ]
          },
          "metadata": {}
        },
        {
          "output_type": "display_data",
          "data": {
            "text/plain": [
              "<IPython.core.display.HTML object>"
            ],
            "text/html": [
              "Find logs at: <code>./wandb/run-20250310_021708-6wbwwuvz/logs</code>"
            ]
          },
          "metadata": {}
        },
        {
          "output_type": "stream",
          "name": "stderr",
          "text": [
            "\u001b[34m\u001b[1mwandb\u001b[0m: Agent Starting Run: 2vp5dj5v with config:\n",
            "\u001b[34m\u001b[1mwandb\u001b[0m: \tactivation: sigmoid\n",
            "\u001b[34m\u001b[1mwandb\u001b[0m: \tbatch_size: 32\n",
            "\u001b[34m\u001b[1mwandb\u001b[0m: \tepochs: 5\n",
            "\u001b[34m\u001b[1mwandb\u001b[0m: \thidden_layers: 3\n",
            "\u001b[34m\u001b[1mwandb\u001b[0m: \thidden_size: 32\n",
            "\u001b[34m\u001b[1mwandb\u001b[0m: \tlearning_rate: 0.0001\n",
            "\u001b[34m\u001b[1mwandb\u001b[0m: \toptimizer: nadam\n",
            "\u001b[34m\u001b[1mwandb\u001b[0m: \tweight_decay: 0\n",
            "\u001b[34m\u001b[1mwandb\u001b[0m: \tweight_init: random\n"
          ]
        },
        {
          "output_type": "display_data",
          "data": {
            "text/plain": [
              "<IPython.core.display.HTML object>"
            ],
            "text/html": [
              "Tracking run with wandb version 0.19.7"
            ]
          },
          "metadata": {}
        },
        {
          "output_type": "display_data",
          "data": {
            "text/plain": [
              "<IPython.core.display.HTML object>"
            ],
            "text/html": [
              "Run data is saved locally in <code>/content/wandb/run-20250310_021744-2vp5dj5v</code>"
            ]
          },
          "metadata": {}
        },
        {
          "output_type": "display_data",
          "data": {
            "text/plain": [
              "<IPython.core.display.HTML object>"
            ],
            "text/html": [
              "Syncing run <strong><a href='https://wandb.ai/ma23m011-iit-madras/DA6401_Assignment1_ma23m011/runs/2vp5dj5v' target=\"_blank\">chocolate-sweep-50</a></strong> to <a href='https://wandb.ai/ma23m011-iit-madras/DA6401_Assignment1_ma23m011' target=\"_blank\">Weights & Biases</a> (<a href='https://wandb.me/developer-guide' target=\"_blank\">docs</a>)<br>Sweep page: <a href='https://wandb.ai/ma23m011-iit-madras/DA6401_Assignment1_ma23m011/sweeps/augzj4ot' target=\"_blank\">https://wandb.ai/ma23m011-iit-madras/DA6401_Assignment1_ma23m011/sweeps/augzj4ot</a>"
            ]
          },
          "metadata": {}
        },
        {
          "output_type": "display_data",
          "data": {
            "text/plain": [
              "<IPython.core.display.HTML object>"
            ],
            "text/html": [
              " View project at <a href='https://wandb.ai/ma23m011-iit-madras/DA6401_Assignment1_ma23m011' target=\"_blank\">https://wandb.ai/ma23m011-iit-madras/DA6401_Assignment1_ma23m011</a>"
            ]
          },
          "metadata": {}
        },
        {
          "output_type": "display_data",
          "data": {
            "text/plain": [
              "<IPython.core.display.HTML object>"
            ],
            "text/html": [
              " View sweep at <a href='https://wandb.ai/ma23m011-iit-madras/DA6401_Assignment1_ma23m011/sweeps/augzj4ot' target=\"_blank\">https://wandb.ai/ma23m011-iit-madras/DA6401_Assignment1_ma23m011/sweeps/augzj4ot</a>"
            ]
          },
          "metadata": {}
        },
        {
          "output_type": "display_data",
          "data": {
            "text/plain": [
              "<IPython.core.display.HTML object>"
            ],
            "text/html": [
              " View run at <a href='https://wandb.ai/ma23m011-iit-madras/DA6401_Assignment1_ma23m011/runs/2vp5dj5v' target=\"_blank\">https://wandb.ai/ma23m011-iit-madras/DA6401_Assignment1_ma23m011/runs/2vp5dj5v</a>"
            ]
          },
          "metadata": {}
        },
        {
          "output_type": "stream",
          "name": "stdout",
          "text": [
            "Epoch 1: Train Loss = 10.5477, Train Acc = 10.0167, Val Loss = 10.6838, Val Acc = 9.8500\n",
            "Epoch 2: Train Loss = 9.6696, Train Acc = 10.0167, Val Loss = 9.8278, Val Acc = 9.8500\n",
            "Epoch 3: Train Loss = 8.8054, Train Acc = 10.0167, Val Loss = 8.9855, Val Acc = 9.8500\n",
            "Epoch 4: Train Loss = 8.1049, Train Acc = 10.0296, Val Loss = 8.3013, Val Acc = 9.7333\n",
            "Epoch 5: Train Loss = 7.6579, Train Acc = 10.0296, Val Loss = 7.8608, Val Acc = 9.7333\n"
          ]
        },
        {
          "output_type": "display_data",
          "data": {
            "text/plain": [
              "<IPython.core.display.HTML object>"
            ],
            "text/html": []
          },
          "metadata": {}
        },
        {
          "output_type": "display_data",
          "data": {
            "text/plain": [
              "<IPython.core.display.HTML object>"
            ],
            "text/html": [
              "<br>    <style><br>        .wandb-row {<br>            display: flex;<br>            flex-direction: row;<br>            flex-wrap: wrap;<br>            justify-content: flex-start;<br>            width: 100%;<br>        }<br>        .wandb-col {<br>            display: flex;<br>            flex-direction: column;<br>            flex-basis: 100%;<br>            flex: 1;<br>            padding: 10px;<br>        }<br>    </style><br><div class=\"wandb-row\"><div class=\"wandb-col\"><h3>Run history:</h3><br/><table class=\"wandb\"><tr><td>Train_accuracy</td><td>▁▁▁██</td></tr><tr><td>Train_loss</td><td>█▆▄▂▁</td></tr><tr><td>Val_accuracy</td><td>███▁▁</td></tr><tr><td>Val_loss</td><td>█▆▄▂▁</td></tr><tr><td>epoch</td><td>▁▃▅▆█</td></tr></table><br/></div><div class=\"wandb-col\"><h3>Run summary:</h3><br/><table class=\"wandb\"><tr><td>Train_accuracy</td><td>10.02963</td></tr><tr><td>Train_loss</td><td>7.6579</td></tr><tr><td>Val_accuracy</td><td>9.73333</td></tr><tr><td>Val_loss</td><td>7.86082</td></tr><tr><td>epoch</td><td>5</td></tr></table><br/></div></div>"
            ]
          },
          "metadata": {}
        },
        {
          "output_type": "display_data",
          "data": {
            "text/plain": [
              "<IPython.core.display.HTML object>"
            ],
            "text/html": [
              " View run <strong style=\"color:#cdcd00\">-ac_sigmoid-hs_32-epc_5-hl_3-regu_0-eta_0.0001-optmz_nadam-batch_32-wght_random</strong> at: <a href='https://wandb.ai/ma23m011-iit-madras/DA6401_Assignment1_ma23m011/runs/2vp5dj5v' target=\"_blank\">https://wandb.ai/ma23m011-iit-madras/DA6401_Assignment1_ma23m011/runs/2vp5dj5v</a><br> View project at: <a href='https://wandb.ai/ma23m011-iit-madras/DA6401_Assignment1_ma23m011' target=\"_blank\">https://wandb.ai/ma23m011-iit-madras/DA6401_Assignment1_ma23m011</a><br>Synced 5 W&B file(s), 0 media file(s), 0 artifact file(s) and 0 other file(s)"
            ]
          },
          "metadata": {}
        },
        {
          "output_type": "display_data",
          "data": {
            "text/plain": [
              "<IPython.core.display.HTML object>"
            ],
            "text/html": [
              "Find logs at: <code>./wandb/run-20250310_021744-2vp5dj5v/logs</code>"
            ]
          },
          "metadata": {}
        },
        {
          "output_type": "stream",
          "name": "stderr",
          "text": [
            "\u001b[34m\u001b[1mwandb\u001b[0m: Agent Starting Run: 6q3g3bf4 with config:\n",
            "\u001b[34m\u001b[1mwandb\u001b[0m: \tactivation: tanh\n",
            "\u001b[34m\u001b[1mwandb\u001b[0m: \tbatch_size: 16\n",
            "\u001b[34m\u001b[1mwandb\u001b[0m: \tepochs: 10\n",
            "\u001b[34m\u001b[1mwandb\u001b[0m: \thidden_layers: 4\n",
            "\u001b[34m\u001b[1mwandb\u001b[0m: \thidden_size: 32\n",
            "\u001b[34m\u001b[1mwandb\u001b[0m: \tlearning_rate: 0.0001\n",
            "\u001b[34m\u001b[1mwandb\u001b[0m: \toptimizer: nadam\n",
            "\u001b[34m\u001b[1mwandb\u001b[0m: \tweight_decay: 0\n",
            "\u001b[34m\u001b[1mwandb\u001b[0m: \tweight_init: random\n"
          ]
        },
        {
          "output_type": "display_data",
          "data": {
            "text/plain": [
              "<IPython.core.display.HTML object>"
            ],
            "text/html": [
              "Tracking run with wandb version 0.19.7"
            ]
          },
          "metadata": {}
        },
        {
          "output_type": "display_data",
          "data": {
            "text/plain": [
              "<IPython.core.display.HTML object>"
            ],
            "text/html": [
              "Run data is saved locally in <code>/content/wandb/run-20250310_021815-6q3g3bf4</code>"
            ]
          },
          "metadata": {}
        },
        {
          "output_type": "display_data",
          "data": {
            "text/plain": [
              "<IPython.core.display.HTML object>"
            ],
            "text/html": [
              "Syncing run <strong><a href='https://wandb.ai/ma23m011-iit-madras/DA6401_Assignment1_ma23m011/runs/6q3g3bf4' target=\"_blank\">serene-sweep-51</a></strong> to <a href='https://wandb.ai/ma23m011-iit-madras/DA6401_Assignment1_ma23m011' target=\"_blank\">Weights & Biases</a> (<a href='https://wandb.me/developer-guide' target=\"_blank\">docs</a>)<br>Sweep page: <a href='https://wandb.ai/ma23m011-iit-madras/DA6401_Assignment1_ma23m011/sweeps/augzj4ot' target=\"_blank\">https://wandb.ai/ma23m011-iit-madras/DA6401_Assignment1_ma23m011/sweeps/augzj4ot</a>"
            ]
          },
          "metadata": {}
        },
        {
          "output_type": "display_data",
          "data": {
            "text/plain": [
              "<IPython.core.display.HTML object>"
            ],
            "text/html": [
              " View project at <a href='https://wandb.ai/ma23m011-iit-madras/DA6401_Assignment1_ma23m011' target=\"_blank\">https://wandb.ai/ma23m011-iit-madras/DA6401_Assignment1_ma23m011</a>"
            ]
          },
          "metadata": {}
        },
        {
          "output_type": "display_data",
          "data": {
            "text/plain": [
              "<IPython.core.display.HTML object>"
            ],
            "text/html": [
              " View sweep at <a href='https://wandb.ai/ma23m011-iit-madras/DA6401_Assignment1_ma23m011/sweeps/augzj4ot' target=\"_blank\">https://wandb.ai/ma23m011-iit-madras/DA6401_Assignment1_ma23m011/sweeps/augzj4ot</a>"
            ]
          },
          "metadata": {}
        },
        {
          "output_type": "display_data",
          "data": {
            "text/plain": [
              "<IPython.core.display.HTML object>"
            ],
            "text/html": [
              " View run at <a href='https://wandb.ai/ma23m011-iit-madras/DA6401_Assignment1_ma23m011/runs/6q3g3bf4' target=\"_blank\">https://wandb.ai/ma23m011-iit-madras/DA6401_Assignment1_ma23m011/runs/6q3g3bf4</a>"
            ]
          },
          "metadata": {}
        },
        {
          "output_type": "stream",
          "name": "stdout",
          "text": [
            "Epoch 1: Train Loss = 16.5841, Train Acc = 9.9704, Val Loss = 16.5295, Val Acc = 10.2667\n",
            "Epoch 2: Train Loss = 16.5803, Train Acc = 9.9907, Val Loss = 16.5633, Val Acc = 10.0833\n",
            "Epoch 3: Train Loss = 16.5793, Train Acc = 9.9963, Val Loss = 16.5725, Val Acc = 10.0333\n",
            "Epoch 4: Train Loss = 16.5851, Train Acc = 9.9648, Val Loss = 16.5203, Val Acc = 10.3167\n",
            "Epoch 5: Train Loss = 16.5633, Train Acc = 10.0833, Val Loss = 16.7168, Val Acc = 9.2500\n",
            "Epoch 6: Train Loss = 16.5899, Train Acc = 9.9389, Val Loss = 16.4773, Val Acc = 10.5500\n",
            "Epoch 7: Train Loss = 16.5732, Train Acc = 10.0296, Val Loss = 16.6277, Val Acc = 9.7333\n",
            "Epoch 8: Train Loss = 16.5755, Train Acc = 10.0167, Val Loss = 16.6062, Val Acc = 9.8500\n",
            "Epoch 9: Train Loss = 16.5888, Train Acc = 9.9444, Val Loss = 16.4865, Val Acc = 10.5000\n",
            "Epoch 10: Train Loss = 16.5851, Train Acc = 9.9648, Val Loss = 16.5203, Val Acc = 10.3167\n"
          ]
        },
        {
          "output_type": "display_data",
          "data": {
            "text/plain": [
              "<IPython.core.display.HTML object>"
            ],
            "text/html": []
          },
          "metadata": {}
        },
        {
          "output_type": "display_data",
          "data": {
            "text/plain": [
              "<IPython.core.display.HTML object>"
            ],
            "text/html": [
              "<br>    <style><br>        .wandb-row {<br>            display: flex;<br>            flex-direction: row;<br>            flex-wrap: wrap;<br>            justify-content: flex-start;<br>            width: 100%;<br>        }<br>        .wandb-col {<br>            display: flex;<br>            flex-direction: column;<br>            flex-basis: 100%;<br>            flex: 1;<br>            padding: 10px;<br>        }<br>    </style><br><div class=\"wandb-row\"><div class=\"wandb-col\"><h3>Run history:</h3><br/><table class=\"wandb\"><tr><td>Train_accuracy</td><td>▃▄▄▂█▁▅▅▁▂</td></tr><tr><td>Train_loss</td><td>▆▅▅▇▁█▄▄█▇</td></tr><tr><td>Val_accuracy</td><td>▆▅▅▇▁█▄▄█▇</td></tr><tr><td>Val_loss</td><td>▃▄▄▂█▁▅▅▁▂</td></tr><tr><td>epoch</td><td>▁▂▃▃▄▅▆▆▇█</td></tr></table><br/></div><div class=\"wandb-col\"><h3>Run summary:</h3><br/><table class=\"wandb\"><tr><td>Train_accuracy</td><td>9.96481</td></tr><tr><td>Train_loss</td><td>16.58509</td></tr><tr><td>Val_accuracy</td><td>10.31667</td></tr><tr><td>Val_loss</td><td>16.52028</td></tr><tr><td>epoch</td><td>10</td></tr></table><br/></div></div>"
            ]
          },
          "metadata": {}
        },
        {
          "output_type": "display_data",
          "data": {
            "text/plain": [
              "<IPython.core.display.HTML object>"
            ],
            "text/html": [
              " View run <strong style=\"color:#cdcd00\">-ac_tanh-hs_32-epc_10-hl_4-regu_0-eta_0.0001-optmz_nadam-batch_16-wght_random</strong> at: <a href='https://wandb.ai/ma23m011-iit-madras/DA6401_Assignment1_ma23m011/runs/6q3g3bf4' target=\"_blank\">https://wandb.ai/ma23m011-iit-madras/DA6401_Assignment1_ma23m011/runs/6q3g3bf4</a><br> View project at: <a href='https://wandb.ai/ma23m011-iit-madras/DA6401_Assignment1_ma23m011' target=\"_blank\">https://wandb.ai/ma23m011-iit-madras/DA6401_Assignment1_ma23m011</a><br>Synced 5 W&B file(s), 0 media file(s), 0 artifact file(s) and 0 other file(s)"
            ]
          },
          "metadata": {}
        },
        {
          "output_type": "display_data",
          "data": {
            "text/plain": [
              "<IPython.core.display.HTML object>"
            ],
            "text/html": [
              "Find logs at: <code>./wandb/run-20250310_021815-6q3g3bf4/logs</code>"
            ]
          },
          "metadata": {}
        },
        {
          "output_type": "stream",
          "name": "stderr",
          "text": [
            "\u001b[34m\u001b[1mwandb\u001b[0m: Agent Starting Run: liu5zuy6 with config:\n",
            "\u001b[34m\u001b[1mwandb\u001b[0m: \tactivation: sigmoid\n",
            "\u001b[34m\u001b[1mwandb\u001b[0m: \tbatch_size: 64\n",
            "\u001b[34m\u001b[1mwandb\u001b[0m: \tepochs: 5\n",
            "\u001b[34m\u001b[1mwandb\u001b[0m: \thidden_layers: 5\n",
            "\u001b[34m\u001b[1mwandb\u001b[0m: \thidden_size: 128\n",
            "\u001b[34m\u001b[1mwandb\u001b[0m: \tlearning_rate: 0.001\n",
            "\u001b[34m\u001b[1mwandb\u001b[0m: \toptimizer: nag\n",
            "\u001b[34m\u001b[1mwandb\u001b[0m: \tweight_decay: 0.5\n",
            "\u001b[34m\u001b[1mwandb\u001b[0m: \tweight_init: random\n"
          ]
        },
        {
          "output_type": "display_data",
          "data": {
            "text/plain": [
              "<IPython.core.display.HTML object>"
            ],
            "text/html": [
              "Tracking run with wandb version 0.19.7"
            ]
          },
          "metadata": {}
        },
        {
          "output_type": "display_data",
          "data": {
            "text/plain": [
              "<IPython.core.display.HTML object>"
            ],
            "text/html": [
              "Run data is saved locally in <code>/content/wandb/run-20250310_021936-liu5zuy6</code>"
            ]
          },
          "metadata": {}
        },
        {
          "output_type": "display_data",
          "data": {
            "text/plain": [
              "<IPython.core.display.HTML object>"
            ],
            "text/html": [
              "Syncing run <strong><a href='https://wandb.ai/ma23m011-iit-madras/DA6401_Assignment1_ma23m011/runs/liu5zuy6' target=\"_blank\">balmy-sweep-52</a></strong> to <a href='https://wandb.ai/ma23m011-iit-madras/DA6401_Assignment1_ma23m011' target=\"_blank\">Weights & Biases</a> (<a href='https://wandb.me/developer-guide' target=\"_blank\">docs</a>)<br>Sweep page: <a href='https://wandb.ai/ma23m011-iit-madras/DA6401_Assignment1_ma23m011/sweeps/augzj4ot' target=\"_blank\">https://wandb.ai/ma23m011-iit-madras/DA6401_Assignment1_ma23m011/sweeps/augzj4ot</a>"
            ]
          },
          "metadata": {}
        },
        {
          "output_type": "display_data",
          "data": {
            "text/plain": [
              "<IPython.core.display.HTML object>"
            ],
            "text/html": [
              " View project at <a href='https://wandb.ai/ma23m011-iit-madras/DA6401_Assignment1_ma23m011' target=\"_blank\">https://wandb.ai/ma23m011-iit-madras/DA6401_Assignment1_ma23m011</a>"
            ]
          },
          "metadata": {}
        },
        {
          "output_type": "display_data",
          "data": {
            "text/plain": [
              "<IPython.core.display.HTML object>"
            ],
            "text/html": [
              " View sweep at <a href='https://wandb.ai/ma23m011-iit-madras/DA6401_Assignment1_ma23m011/sweeps/augzj4ot' target=\"_blank\">https://wandb.ai/ma23m011-iit-madras/DA6401_Assignment1_ma23m011/sweeps/augzj4ot</a>"
            ]
          },
          "metadata": {}
        },
        {
          "output_type": "display_data",
          "data": {
            "text/plain": [
              "<IPython.core.display.HTML object>"
            ],
            "text/html": [
              " View run at <a href='https://wandb.ai/ma23m011-iit-madras/DA6401_Assignment1_ma23m011/runs/liu5zuy6' target=\"_blank\">https://wandb.ai/ma23m011-iit-madras/DA6401_Assignment1_ma23m011/runs/liu5zuy6</a>"
            ]
          },
          "metadata": {}
        },
        {
          "output_type": "stream",
          "name": "stdout",
          "text": [
            "Epoch 1: Train Loss = 6.4735, Train Acc = 10.0833, Val Loss = 6.4748, Val Acc = 9.2500\n",
            "Epoch 2: Train Loss = 6.4735, Train Acc = 10.0833, Val Loss = 6.4748, Val Acc = 9.2500\n",
            "Epoch 3: Train Loss = 6.4735, Train Acc = 10.0833, Val Loss = 6.4748, Val Acc = 9.2500\n",
            "Epoch 4: Train Loss = 6.4735, Train Acc = 10.0833, Val Loss = 6.4748, Val Acc = 9.2500\n",
            "Epoch 5: Train Loss = 6.4735, Train Acc = 10.0833, Val Loss = 6.4748, Val Acc = 9.2500\n"
          ]
        },
        {
          "output_type": "display_data",
          "data": {
            "text/plain": [
              "<IPython.core.display.HTML object>"
            ],
            "text/html": []
          },
          "metadata": {}
        },
        {
          "output_type": "display_data",
          "data": {
            "text/plain": [
              "<IPython.core.display.HTML object>"
            ],
            "text/html": [
              "<br>    <style><br>        .wandb-row {<br>            display: flex;<br>            flex-direction: row;<br>            flex-wrap: wrap;<br>            justify-content: flex-start;<br>            width: 100%;<br>        }<br>        .wandb-col {<br>            display: flex;<br>            flex-direction: column;<br>            flex-basis: 100%;<br>            flex: 1;<br>            padding: 10px;<br>        }<br>    </style><br><div class=\"wandb-row\"><div class=\"wandb-col\"><h3>Run history:</h3><br/><table class=\"wandb\"><tr><td>Train_accuracy</td><td>▁▁▁▁▁</td></tr><tr><td>Train_loss</td><td>▁▁▁▁▁</td></tr><tr><td>Val_accuracy</td><td>▁▁▁▁▁</td></tr><tr><td>Val_loss</td><td>▁▁▁▁▁</td></tr><tr><td>epoch</td><td>▁▃▅▆█</td></tr></table><br/></div><div class=\"wandb-col\"><h3>Run summary:</h3><br/><table class=\"wandb\"><tr><td>Train_accuracy</td><td>10.08333</td></tr><tr><td>Train_loss</td><td>6.47351</td></tr><tr><td>Val_accuracy</td><td>9.25</td></tr><tr><td>Val_loss</td><td>6.47483</td></tr><tr><td>epoch</td><td>5</td></tr></table><br/></div></div>"
            ]
          },
          "metadata": {}
        },
        {
          "output_type": "display_data",
          "data": {
            "text/plain": [
              "<IPython.core.display.HTML object>"
            ],
            "text/html": [
              " View run <strong style=\"color:#cdcd00\">-ac_sigmoid-hs_128-epc_5-hl_5-regu_0.5-eta_0.001-optmz_nag-batch_64-wght_random</strong> at: <a href='https://wandb.ai/ma23m011-iit-madras/DA6401_Assignment1_ma23m011/runs/liu5zuy6' target=\"_blank\">https://wandb.ai/ma23m011-iit-madras/DA6401_Assignment1_ma23m011/runs/liu5zuy6</a><br> View project at: <a href='https://wandb.ai/ma23m011-iit-madras/DA6401_Assignment1_ma23m011' target=\"_blank\">https://wandb.ai/ma23m011-iit-madras/DA6401_Assignment1_ma23m011</a><br>Synced 5 W&B file(s), 0 media file(s), 0 artifact file(s) and 0 other file(s)"
            ]
          },
          "metadata": {}
        },
        {
          "output_type": "display_data",
          "data": {
            "text/plain": [
              "<IPython.core.display.HTML object>"
            ],
            "text/html": [
              "Find logs at: <code>./wandb/run-20250310_021936-liu5zuy6/logs</code>"
            ]
          },
          "metadata": {}
        },
        {
          "output_type": "stream",
          "name": "stderr",
          "text": [
            "\u001b[34m\u001b[1mwandb\u001b[0m: Sweep Agent: Waiting for job.\n",
            "\u001b[34m\u001b[1mwandb\u001b[0m: Job received.\n",
            "\u001b[34m\u001b[1mwandb\u001b[0m: Agent Starting Run: 3kulg2sj with config:\n",
            "\u001b[34m\u001b[1mwandb\u001b[0m: \tactivation: tanh\n",
            "\u001b[34m\u001b[1mwandb\u001b[0m: \tbatch_size: 32\n",
            "\u001b[34m\u001b[1mwandb\u001b[0m: \tepochs: 5\n",
            "\u001b[34m\u001b[1mwandb\u001b[0m: \thidden_layers: 5\n",
            "\u001b[34m\u001b[1mwandb\u001b[0m: \thidden_size: 32\n",
            "\u001b[34m\u001b[1mwandb\u001b[0m: \tlearning_rate: 0.0001\n",
            "\u001b[34m\u001b[1mwandb\u001b[0m: \toptimizer: nadam\n",
            "\u001b[34m\u001b[1mwandb\u001b[0m: \tweight_decay: 0\n",
            "\u001b[34m\u001b[1mwandb\u001b[0m: \tweight_init: xavier\n"
          ]
        },
        {
          "output_type": "display_data",
          "data": {
            "text/plain": [
              "<IPython.core.display.HTML object>"
            ],
            "text/html": [
              "Tracking run with wandb version 0.19.7"
            ]
          },
          "metadata": {}
        },
        {
          "output_type": "display_data",
          "data": {
            "text/plain": [
              "<IPython.core.display.HTML object>"
            ],
            "text/html": [
              "Run data is saved locally in <code>/content/wandb/run-20250310_022037-3kulg2sj</code>"
            ]
          },
          "metadata": {}
        },
        {
          "output_type": "display_data",
          "data": {
            "text/plain": [
              "<IPython.core.display.HTML object>"
            ],
            "text/html": [
              "Syncing run <strong><a href='https://wandb.ai/ma23m011-iit-madras/DA6401_Assignment1_ma23m011/runs/3kulg2sj' target=\"_blank\">firm-sweep-53</a></strong> to <a href='https://wandb.ai/ma23m011-iit-madras/DA6401_Assignment1_ma23m011' target=\"_blank\">Weights & Biases</a> (<a href='https://wandb.me/developer-guide' target=\"_blank\">docs</a>)<br>Sweep page: <a href='https://wandb.ai/ma23m011-iit-madras/DA6401_Assignment1_ma23m011/sweeps/augzj4ot' target=\"_blank\">https://wandb.ai/ma23m011-iit-madras/DA6401_Assignment1_ma23m011/sweeps/augzj4ot</a>"
            ]
          },
          "metadata": {}
        },
        {
          "output_type": "display_data",
          "data": {
            "text/plain": [
              "<IPython.core.display.HTML object>"
            ],
            "text/html": [
              " View project at <a href='https://wandb.ai/ma23m011-iit-madras/DA6401_Assignment1_ma23m011' target=\"_blank\">https://wandb.ai/ma23m011-iit-madras/DA6401_Assignment1_ma23m011</a>"
            ]
          },
          "metadata": {}
        },
        {
          "output_type": "display_data",
          "data": {
            "text/plain": [
              "<IPython.core.display.HTML object>"
            ],
            "text/html": [
              " View sweep at <a href='https://wandb.ai/ma23m011-iit-madras/DA6401_Assignment1_ma23m011/sweeps/augzj4ot' target=\"_blank\">https://wandb.ai/ma23m011-iit-madras/DA6401_Assignment1_ma23m011/sweeps/augzj4ot</a>"
            ]
          },
          "metadata": {}
        },
        {
          "output_type": "display_data",
          "data": {
            "text/plain": [
              "<IPython.core.display.HTML object>"
            ],
            "text/html": [
              " View run at <a href='https://wandb.ai/ma23m011-iit-madras/DA6401_Assignment1_ma23m011/runs/3kulg2sj' target=\"_blank\">https://wandb.ai/ma23m011-iit-madras/DA6401_Assignment1_ma23m011/runs/3kulg2sj</a>"
            ]
          },
          "metadata": {}
        },
        {
          "output_type": "stream",
          "name": "stdout",
          "text": [
            "Epoch 1: Train Loss = 13.1005, Train Acc = 28.8815, Val Loss = 13.2844, Val Acc = 27.8833\n",
            "Epoch 2: Train Loss = 12.4817, Train Acc = 32.2407, Val Loss = 12.6888, Val Acc = 31.1167\n",
            "Epoch 3: Train Loss = 11.9376, Train Acc = 35.1944, Val Loss = 12.0318, Val Acc = 34.6833\n",
            "Epoch 4: Train Loss = 11.2755, Train Acc = 38.7889, Val Loss = 11.2980, Val Acc = 38.6667\n",
            "Epoch 5: Train Loss = 12.3569, Train Acc = 32.9185, Val Loss = 12.3940, Val Acc = 32.7167\n"
          ]
        },
        {
          "output_type": "display_data",
          "data": {
            "text/plain": [
              "<IPython.core.display.HTML object>"
            ],
            "text/html": []
          },
          "metadata": {}
        },
        {
          "output_type": "display_data",
          "data": {
            "text/plain": [
              "<IPython.core.display.HTML object>"
            ],
            "text/html": [
              "<br>    <style><br>        .wandb-row {<br>            display: flex;<br>            flex-direction: row;<br>            flex-wrap: wrap;<br>            justify-content: flex-start;<br>            width: 100%;<br>        }<br>        .wandb-col {<br>            display: flex;<br>            flex-direction: column;<br>            flex-basis: 100%;<br>            flex: 1;<br>            padding: 10px;<br>        }<br>    </style><br><div class=\"wandb-row\"><div class=\"wandb-col\"><h3>Run history:</h3><br/><table class=\"wandb\"><tr><td>Train_accuracy</td><td>▁▃▅█▄</td></tr><tr><td>Train_loss</td><td>█▆▄▁▅</td></tr><tr><td>Val_accuracy</td><td>▁▃▅█▄</td></tr><tr><td>Val_loss</td><td>█▆▄▁▅</td></tr><tr><td>epoch</td><td>▁▃▅▆█</td></tr></table><br/></div><div class=\"wandb-col\"><h3>Run summary:</h3><br/><table class=\"wandb\"><tr><td>Train_accuracy</td><td>32.91852</td></tr><tr><td>Train_loss</td><td>12.35687</td></tr><tr><td>Val_accuracy</td><td>32.71667</td></tr><tr><td>Val_loss</td><td>12.39405</td></tr><tr><td>epoch</td><td>5</td></tr></table><br/></div></div>"
            ]
          },
          "metadata": {}
        },
        {
          "output_type": "display_data",
          "data": {
            "text/plain": [
              "<IPython.core.display.HTML object>"
            ],
            "text/html": [
              " View run <strong style=\"color:#cdcd00\">-ac_tanh-hs_32-epc_5-hl_5-regu_0-eta_0.0001-optmz_nadam-batch_32-wght_xavier</strong> at: <a href='https://wandb.ai/ma23m011-iit-madras/DA6401_Assignment1_ma23m011/runs/3kulg2sj' target=\"_blank\">https://wandb.ai/ma23m011-iit-madras/DA6401_Assignment1_ma23m011/runs/3kulg2sj</a><br> View project at: <a href='https://wandb.ai/ma23m011-iit-madras/DA6401_Assignment1_ma23m011' target=\"_blank\">https://wandb.ai/ma23m011-iit-madras/DA6401_Assignment1_ma23m011</a><br>Synced 5 W&B file(s), 0 media file(s), 0 artifact file(s) and 0 other file(s)"
            ]
          },
          "metadata": {}
        },
        {
          "output_type": "display_data",
          "data": {
            "text/plain": [
              "<IPython.core.display.HTML object>"
            ],
            "text/html": [
              "Find logs at: <code>./wandb/run-20250310_022037-3kulg2sj/logs</code>"
            ]
          },
          "metadata": {}
        },
        {
          "output_type": "stream",
          "name": "stderr",
          "text": [
            "\u001b[34m\u001b[1mwandb\u001b[0m: Agent Starting Run: ld8vm9mf with config:\n",
            "\u001b[34m\u001b[1mwandb\u001b[0m: \tactivation: relu\n",
            "\u001b[34m\u001b[1mwandb\u001b[0m: \tbatch_size: 16\n",
            "\u001b[34m\u001b[1mwandb\u001b[0m: \tepochs: 10\n",
            "\u001b[34m\u001b[1mwandb\u001b[0m: \thidden_layers: 5\n",
            "\u001b[34m\u001b[1mwandb\u001b[0m: \thidden_size: 32\n",
            "\u001b[34m\u001b[1mwandb\u001b[0m: \tlearning_rate: 0.001\n",
            "\u001b[34m\u001b[1mwandb\u001b[0m: \toptimizer: mgd\n",
            "\u001b[34m\u001b[1mwandb\u001b[0m: \tweight_decay: 0\n",
            "\u001b[34m\u001b[1mwandb\u001b[0m: \tweight_init: random\n"
          ]
        },
        {
          "output_type": "display_data",
          "data": {
            "text/plain": [
              "<IPython.core.display.HTML object>"
            ],
            "text/html": [
              "Tracking run with wandb version 0.19.7"
            ]
          },
          "metadata": {}
        },
        {
          "output_type": "display_data",
          "data": {
            "text/plain": [
              "<IPython.core.display.HTML object>"
            ],
            "text/html": [
              "Run data is saved locally in <code>/content/wandb/run-20250310_022113-ld8vm9mf</code>"
            ]
          },
          "metadata": {}
        },
        {
          "output_type": "display_data",
          "data": {
            "text/plain": [
              "<IPython.core.display.HTML object>"
            ],
            "text/html": [
              "Syncing run <strong><a href='https://wandb.ai/ma23m011-iit-madras/DA6401_Assignment1_ma23m011/runs/ld8vm9mf' target=\"_blank\">whole-sweep-54</a></strong> to <a href='https://wandb.ai/ma23m011-iit-madras/DA6401_Assignment1_ma23m011' target=\"_blank\">Weights & Biases</a> (<a href='https://wandb.me/developer-guide' target=\"_blank\">docs</a>)<br>Sweep page: <a href='https://wandb.ai/ma23m011-iit-madras/DA6401_Assignment1_ma23m011/sweeps/augzj4ot' target=\"_blank\">https://wandb.ai/ma23m011-iit-madras/DA6401_Assignment1_ma23m011/sweeps/augzj4ot</a>"
            ]
          },
          "metadata": {}
        },
        {
          "output_type": "display_data",
          "data": {
            "text/plain": [
              "<IPython.core.display.HTML object>"
            ],
            "text/html": [
              " View project at <a href='https://wandb.ai/ma23m011-iit-madras/DA6401_Assignment1_ma23m011' target=\"_blank\">https://wandb.ai/ma23m011-iit-madras/DA6401_Assignment1_ma23m011</a>"
            ]
          },
          "metadata": {}
        },
        {
          "output_type": "display_data",
          "data": {
            "text/plain": [
              "<IPython.core.display.HTML object>"
            ],
            "text/html": [
              " View sweep at <a href='https://wandb.ai/ma23m011-iit-madras/DA6401_Assignment1_ma23m011/sweeps/augzj4ot' target=\"_blank\">https://wandb.ai/ma23m011-iit-madras/DA6401_Assignment1_ma23m011/sweeps/augzj4ot</a>"
            ]
          },
          "metadata": {}
        },
        {
          "output_type": "display_data",
          "data": {
            "text/plain": [
              "<IPython.core.display.HTML object>"
            ],
            "text/html": [
              " View run at <a href='https://wandb.ai/ma23m011-iit-madras/DA6401_Assignment1_ma23m011/runs/ld8vm9mf' target=\"_blank\">https://wandb.ai/ma23m011-iit-madras/DA6401_Assignment1_ma23m011/runs/ld8vm9mf</a>"
            ]
          },
          "metadata": {}
        },
        {
          "output_type": "stream",
          "name": "stdout",
          "text": [
            "Epoch 1: Train Loss = 2.3026, Train Acc = 10.5204, Val Loss = 2.3026, Val Acc = 10.4000\n",
            "Epoch 2: Train Loss = 2.3026, Train Acc = 10.5204, Val Loss = 2.3026, Val Acc = 10.4000\n",
            "Epoch 3: Train Loss = 2.3026, Train Acc = 10.5204, Val Loss = 2.3026, Val Acc = 10.4000\n",
            "Epoch 4: Train Loss = 2.3026, Train Acc = 10.5204, Val Loss = 2.3026, Val Acc = 10.4000\n",
            "Epoch 5: Train Loss = 2.3026, Train Acc = 10.5204, Val Loss = 2.3026, Val Acc = 10.4000\n",
            "Epoch 6: Train Loss = 2.3026, Train Acc = 10.5204, Val Loss = 2.3026, Val Acc = 10.4000\n",
            "Epoch 7: Train Loss = 2.3026, Train Acc = 10.5204, Val Loss = 2.3026, Val Acc = 10.4000\n",
            "Epoch 8: Train Loss = 2.3026, Train Acc = 10.5204, Val Loss = 2.3026, Val Acc = 10.4000\n",
            "Epoch 9: Train Loss = 2.3026, Train Acc = 10.5204, Val Loss = 2.3026, Val Acc = 10.4000\n",
            "Epoch 10: Train Loss = 2.3026, Train Acc = 10.5204, Val Loss = 2.3026, Val Acc = 10.4000\n"
          ]
        },
        {
          "output_type": "display_data",
          "data": {
            "text/plain": [
              "<IPython.core.display.HTML object>"
            ],
            "text/html": []
          },
          "metadata": {}
        },
        {
          "output_type": "display_data",
          "data": {
            "text/plain": [
              "<IPython.core.display.HTML object>"
            ],
            "text/html": [
              "<br>    <style><br>        .wandb-row {<br>            display: flex;<br>            flex-direction: row;<br>            flex-wrap: wrap;<br>            justify-content: flex-start;<br>            width: 100%;<br>        }<br>        .wandb-col {<br>            display: flex;<br>            flex-direction: column;<br>            flex-basis: 100%;<br>            flex: 1;<br>            padding: 10px;<br>        }<br>    </style><br><div class=\"wandb-row\"><div class=\"wandb-col\"><h3>Run history:</h3><br/><table class=\"wandb\"><tr><td>Train_accuracy</td><td>▁▁▁▁▁▁▁▁▁▁</td></tr><tr><td>Train_loss</td><td>▁▁▁▁▁▁▁▁▁▁</td></tr><tr><td>Val_accuracy</td><td>▁▁▁▁▁▁▁▁▁▁</td></tr><tr><td>Val_loss</td><td>▁▁▁▁▁▁▁▁▁▁</td></tr><tr><td>epoch</td><td>▁▂▃▃▄▅▆▆▇█</td></tr></table><br/></div><div class=\"wandb-col\"><h3>Run summary:</h3><br/><table class=\"wandb\"><tr><td>Train_accuracy</td><td>10.52037</td></tr><tr><td>Train_loss</td><td>2.30258</td></tr><tr><td>Val_accuracy</td><td>10.4</td></tr><tr><td>Val_loss</td><td>2.30258</td></tr><tr><td>epoch</td><td>10</td></tr></table><br/></div></div>"
            ]
          },
          "metadata": {}
        },
        {
          "output_type": "display_data",
          "data": {
            "text/plain": [
              "<IPython.core.display.HTML object>"
            ],
            "text/html": [
              " View run <strong style=\"color:#cdcd00\">-ac_relu-hs_32-epc_10-hl_5-regu_0-eta_0.001-optmz_mgd-batch_16-wght_random</strong> at: <a href='https://wandb.ai/ma23m011-iit-madras/DA6401_Assignment1_ma23m011/runs/ld8vm9mf' target=\"_blank\">https://wandb.ai/ma23m011-iit-madras/DA6401_Assignment1_ma23m011/runs/ld8vm9mf</a><br> View project at: <a href='https://wandb.ai/ma23m011-iit-madras/DA6401_Assignment1_ma23m011' target=\"_blank\">https://wandb.ai/ma23m011-iit-madras/DA6401_Assignment1_ma23m011</a><br>Synced 5 W&B file(s), 0 media file(s), 0 artifact file(s) and 0 other file(s)"
            ]
          },
          "metadata": {}
        },
        {
          "output_type": "display_data",
          "data": {
            "text/plain": [
              "<IPython.core.display.HTML object>"
            ],
            "text/html": [
              "Find logs at: <code>./wandb/run-20250310_022113-ld8vm9mf/logs</code>"
            ]
          },
          "metadata": {}
        },
        {
          "output_type": "stream",
          "name": "stderr",
          "text": [
            "\u001b[34m\u001b[1mwandb\u001b[0m: Sweep Agent: Waiting for job.\n",
            "\u001b[34m\u001b[1mwandb\u001b[0m: Job received.\n",
            "\u001b[34m\u001b[1mwandb\u001b[0m: Agent Starting Run: vztpisi3 with config:\n",
            "\u001b[34m\u001b[1mwandb\u001b[0m: \tactivation: relu\n",
            "\u001b[34m\u001b[1mwandb\u001b[0m: \tbatch_size: 64\n",
            "\u001b[34m\u001b[1mwandb\u001b[0m: \tepochs: 10\n",
            "\u001b[34m\u001b[1mwandb\u001b[0m: \thidden_layers: 3\n",
            "\u001b[34m\u001b[1mwandb\u001b[0m: \thidden_size: 128\n",
            "\u001b[34m\u001b[1mwandb\u001b[0m: \tlearning_rate: 0.001\n",
            "\u001b[34m\u001b[1mwandb\u001b[0m: \toptimizer: nag\n",
            "\u001b[34m\u001b[1mwandb\u001b[0m: \tweight_decay: 0.0005\n",
            "\u001b[34m\u001b[1mwandb\u001b[0m: \tweight_init: random\n"
          ]
        },
        {
          "output_type": "display_data",
          "data": {
            "text/plain": [
              "<IPython.core.display.HTML object>"
            ],
            "text/html": [
              "Tracking run with wandb version 0.19.7"
            ]
          },
          "metadata": {}
        },
        {
          "output_type": "display_data",
          "data": {
            "text/plain": [
              "<IPython.core.display.HTML object>"
            ],
            "text/html": [
              "Run data is saved locally in <code>/content/wandb/run-20250310_022209-vztpisi3</code>"
            ]
          },
          "metadata": {}
        },
        {
          "output_type": "display_data",
          "data": {
            "text/plain": [
              "<IPython.core.display.HTML object>"
            ],
            "text/html": [
              "Syncing run <strong><a href='https://wandb.ai/ma23m011-iit-madras/DA6401_Assignment1_ma23m011/runs/vztpisi3' target=\"_blank\">ethereal-sweep-55</a></strong> to <a href='https://wandb.ai/ma23m011-iit-madras/DA6401_Assignment1_ma23m011' target=\"_blank\">Weights & Biases</a> (<a href='https://wandb.me/developer-guide' target=\"_blank\">docs</a>)<br>Sweep page: <a href='https://wandb.ai/ma23m011-iit-madras/DA6401_Assignment1_ma23m011/sweeps/augzj4ot' target=\"_blank\">https://wandb.ai/ma23m011-iit-madras/DA6401_Assignment1_ma23m011/sweeps/augzj4ot</a>"
            ]
          },
          "metadata": {}
        },
        {
          "output_type": "display_data",
          "data": {
            "text/plain": [
              "<IPython.core.display.HTML object>"
            ],
            "text/html": [
              " View project at <a href='https://wandb.ai/ma23m011-iit-madras/DA6401_Assignment1_ma23m011' target=\"_blank\">https://wandb.ai/ma23m011-iit-madras/DA6401_Assignment1_ma23m011</a>"
            ]
          },
          "metadata": {}
        },
        {
          "output_type": "display_data",
          "data": {
            "text/plain": [
              "<IPython.core.display.HTML object>"
            ],
            "text/html": [
              " View sweep at <a href='https://wandb.ai/ma23m011-iit-madras/DA6401_Assignment1_ma23m011/sweeps/augzj4ot' target=\"_blank\">https://wandb.ai/ma23m011-iit-madras/DA6401_Assignment1_ma23m011/sweeps/augzj4ot</a>"
            ]
          },
          "metadata": {}
        },
        {
          "output_type": "display_data",
          "data": {
            "text/plain": [
              "<IPython.core.display.HTML object>"
            ],
            "text/html": [
              " View run at <a href='https://wandb.ai/ma23m011-iit-madras/DA6401_Assignment1_ma23m011/runs/vztpisi3' target=\"_blank\">https://wandb.ai/ma23m011-iit-madras/DA6401_Assignment1_ma23m011/runs/vztpisi3</a>"
            ]
          },
          "metadata": {}
        },
        {
          "output_type": "stream",
          "name": "stdout",
          "text": [
            "Epoch 1: Train Loss = 2.3060, Train Acc = 5.7222, Val Loss = 2.3060, Val Acc = 5.3667\n",
            "Epoch 2: Train Loss = 2.3060, Train Acc = 5.7222, Val Loss = 2.3060, Val Acc = 5.3667\n",
            "Epoch 3: Train Loss = 2.3060, Train Acc = 5.7222, Val Loss = 2.3060, Val Acc = 5.3667\n",
            "Epoch 4: Train Loss = 2.3060, Train Acc = 5.7222, Val Loss = 2.3060, Val Acc = 5.3667\n",
            "Epoch 5: Train Loss = 2.3060, Train Acc = 5.7222, Val Loss = 2.3060, Val Acc = 5.3667\n",
            "Epoch 6: Train Loss = 2.3060, Train Acc = 5.7222, Val Loss = 2.3060, Val Acc = 5.3667\n",
            "Epoch 7: Train Loss = 2.3060, Train Acc = 5.7222, Val Loss = 2.3060, Val Acc = 5.3667\n",
            "Epoch 8: Train Loss = 2.3060, Train Acc = 5.7222, Val Loss = 2.3060, Val Acc = 5.3667\n",
            "Epoch 9: Train Loss = 2.3060, Train Acc = 5.7222, Val Loss = 2.3060, Val Acc = 5.3667\n",
            "Epoch 10: Train Loss = 2.3060, Train Acc = 5.7222, Val Loss = 2.3060, Val Acc = 5.3667\n"
          ]
        },
        {
          "output_type": "display_data",
          "data": {
            "text/plain": [
              "<IPython.core.display.HTML object>"
            ],
            "text/html": []
          },
          "metadata": {}
        },
        {
          "output_type": "display_data",
          "data": {
            "text/plain": [
              "<IPython.core.display.HTML object>"
            ],
            "text/html": [
              "<br>    <style><br>        .wandb-row {<br>            display: flex;<br>            flex-direction: row;<br>            flex-wrap: wrap;<br>            justify-content: flex-start;<br>            width: 100%;<br>        }<br>        .wandb-col {<br>            display: flex;<br>            flex-direction: column;<br>            flex-basis: 100%;<br>            flex: 1;<br>            padding: 10px;<br>        }<br>    </style><br><div class=\"wandb-row\"><div class=\"wandb-col\"><h3>Run history:</h3><br/><table class=\"wandb\"><tr><td>Train_accuracy</td><td>▁▁▁▁▁▁▁▁▁▁</td></tr><tr><td>Train_loss</td><td>▁▁▁▁▁▁▁▁▁▁</td></tr><tr><td>Val_accuracy</td><td>▁▁▁▁▁▁▁▁▁▁</td></tr><tr><td>Val_loss</td><td>▁▁▁▁▁▁▁▁▁▁</td></tr><tr><td>epoch</td><td>▁▂▃▃▄▅▆▆▇█</td></tr></table><br/></div><div class=\"wandb-col\"><h3>Run summary:</h3><br/><table class=\"wandb\"><tr><td>Train_accuracy</td><td>5.72222</td></tr><tr><td>Train_loss</td><td>2.30598</td></tr><tr><td>Val_accuracy</td><td>5.36667</td></tr><tr><td>Val_loss</td><td>2.30598</td></tr><tr><td>epoch</td><td>10</td></tr></table><br/></div></div>"
            ]
          },
          "metadata": {}
        },
        {
          "output_type": "display_data",
          "data": {
            "text/plain": [
              "<IPython.core.display.HTML object>"
            ],
            "text/html": [
              " View run <strong style=\"color:#cdcd00\">-ac_relu-hs_128-epc_10-hl_3-regu_0.0005-eta_0.001-optmz_nag-batch_64-wght_random</strong> at: <a href='https://wandb.ai/ma23m011-iit-madras/DA6401_Assignment1_ma23m011/runs/vztpisi3' target=\"_blank\">https://wandb.ai/ma23m011-iit-madras/DA6401_Assignment1_ma23m011/runs/vztpisi3</a><br> View project at: <a href='https://wandb.ai/ma23m011-iit-madras/DA6401_Assignment1_ma23m011' target=\"_blank\">https://wandb.ai/ma23m011-iit-madras/DA6401_Assignment1_ma23m011</a><br>Synced 5 W&B file(s), 0 media file(s), 0 artifact file(s) and 0 other file(s)"
            ]
          },
          "metadata": {}
        },
        {
          "output_type": "display_data",
          "data": {
            "text/plain": [
              "<IPython.core.display.HTML object>"
            ],
            "text/html": [
              "Find logs at: <code>./wandb/run-20250310_022209-vztpisi3/logs</code>"
            ]
          },
          "metadata": {}
        },
        {
          "output_type": "stream",
          "name": "stderr",
          "text": [
            "\u001b[34m\u001b[1mwandb\u001b[0m: Agent Starting Run: k5or0sxc with config:\n",
            "\u001b[34m\u001b[1mwandb\u001b[0m: \tactivation: relu\n",
            "\u001b[34m\u001b[1mwandb\u001b[0m: \tbatch_size: 32\n",
            "\u001b[34m\u001b[1mwandb\u001b[0m: \tepochs: 10\n",
            "\u001b[34m\u001b[1mwandb\u001b[0m: \thidden_layers: 4\n",
            "\u001b[34m\u001b[1mwandb\u001b[0m: \thidden_size: 128\n",
            "\u001b[34m\u001b[1mwandb\u001b[0m: \tlearning_rate: 0.001\n",
            "\u001b[34m\u001b[1mwandb\u001b[0m: \toptimizer: nadam\n",
            "\u001b[34m\u001b[1mwandb\u001b[0m: \tweight_decay: 0\n",
            "\u001b[34m\u001b[1mwandb\u001b[0m: \tweight_init: random\n"
          ]
        },
        {
          "output_type": "display_data",
          "data": {
            "text/plain": [
              "<IPython.core.display.HTML object>"
            ],
            "text/html": [
              "Tracking run with wandb version 0.19.7"
            ]
          },
          "metadata": {}
        },
        {
          "output_type": "display_data",
          "data": {
            "text/plain": [
              "<IPython.core.display.HTML object>"
            ],
            "text/html": [
              "Run data is saved locally in <code>/content/wandb/run-20250310_022311-k5or0sxc</code>"
            ]
          },
          "metadata": {}
        },
        {
          "output_type": "display_data",
          "data": {
            "text/plain": [
              "<IPython.core.display.HTML object>"
            ],
            "text/html": [
              "Syncing run <strong><a href='https://wandb.ai/ma23m011-iit-madras/DA6401_Assignment1_ma23m011/runs/k5or0sxc' target=\"_blank\">trim-sweep-56</a></strong> to <a href='https://wandb.ai/ma23m011-iit-madras/DA6401_Assignment1_ma23m011' target=\"_blank\">Weights & Biases</a> (<a href='https://wandb.me/developer-guide' target=\"_blank\">docs</a>)<br>Sweep page: <a href='https://wandb.ai/ma23m011-iit-madras/DA6401_Assignment1_ma23m011/sweeps/augzj4ot' target=\"_blank\">https://wandb.ai/ma23m011-iit-madras/DA6401_Assignment1_ma23m011/sweeps/augzj4ot</a>"
            ]
          },
          "metadata": {}
        },
        {
          "output_type": "display_data",
          "data": {
            "text/plain": [
              "<IPython.core.display.HTML object>"
            ],
            "text/html": [
              " View project at <a href='https://wandb.ai/ma23m011-iit-madras/DA6401_Assignment1_ma23m011' target=\"_blank\">https://wandb.ai/ma23m011-iit-madras/DA6401_Assignment1_ma23m011</a>"
            ]
          },
          "metadata": {}
        },
        {
          "output_type": "display_data",
          "data": {
            "text/plain": [
              "<IPython.core.display.HTML object>"
            ],
            "text/html": [
              " View sweep at <a href='https://wandb.ai/ma23m011-iit-madras/DA6401_Assignment1_ma23m011/sweeps/augzj4ot' target=\"_blank\">https://wandb.ai/ma23m011-iit-madras/DA6401_Assignment1_ma23m011/sweeps/augzj4ot</a>"
            ]
          },
          "metadata": {}
        },
        {
          "output_type": "display_data",
          "data": {
            "text/plain": [
              "<IPython.core.display.HTML object>"
            ],
            "text/html": [
              " View run at <a href='https://wandb.ai/ma23m011-iit-madras/DA6401_Assignment1_ma23m011/runs/k5or0sxc' target=\"_blank\">https://wandb.ai/ma23m011-iit-madras/DA6401_Assignment1_ma23m011/runs/k5or0sxc</a>"
            ]
          },
          "metadata": {}
        },
        {
          "output_type": "stream",
          "name": "stderr",
          "text": [
            "<ipython-input-3-b7f5dafee785>:131: RuntimeWarning: invalid value encountered in multiply\n",
            "  dL_dz = np.dot(dL_dz, self.weights[i+1].T) * self.activation_derivative(activations[i+1])\n"
          ]
        },
        {
          "output_type": "stream",
          "name": "stdout",
          "text": [
            "Epoch 1: Train Loss = nan, Train Acc = 9.9444, Val Loss = nan, Val Acc = 10.5000\n",
            "Epoch 2: Train Loss = nan, Train Acc = 9.9444, Val Loss = nan, Val Acc = 10.5000\n",
            "Epoch 3: Train Loss = nan, Train Acc = 9.9444, Val Loss = nan, Val Acc = 10.5000\n",
            "Epoch 4: Train Loss = nan, Train Acc = 9.9444, Val Loss = nan, Val Acc = 10.5000\n",
            "Epoch 5: Train Loss = nan, Train Acc = 9.9444, Val Loss = nan, Val Acc = 10.5000\n",
            "Epoch 6: Train Loss = nan, Train Acc = 9.9444, Val Loss = nan, Val Acc = 10.5000\n",
            "Epoch 7: Train Loss = nan, Train Acc = 9.9444, Val Loss = nan, Val Acc = 10.5000\n",
            "Epoch 8: Train Loss = nan, Train Acc = 9.9444, Val Loss = nan, Val Acc = 10.5000\n",
            "Epoch 9: Train Loss = nan, Train Acc = 9.9444, Val Loss = nan, Val Acc = 10.5000\n",
            "Epoch 10: Train Loss = nan, Train Acc = 9.9444, Val Loss = nan, Val Acc = 10.5000\n"
          ]
        },
        {
          "output_type": "display_data",
          "data": {
            "text/plain": [
              "<IPython.core.display.HTML object>"
            ],
            "text/html": []
          },
          "metadata": {}
        },
        {
          "output_type": "display_data",
          "data": {
            "text/plain": [
              "<IPython.core.display.HTML object>"
            ],
            "text/html": [
              "<br>    <style><br>        .wandb-row {<br>            display: flex;<br>            flex-direction: row;<br>            flex-wrap: wrap;<br>            justify-content: flex-start;<br>            width: 100%;<br>        }<br>        .wandb-col {<br>            display: flex;<br>            flex-direction: column;<br>            flex-basis: 100%;<br>            flex: 1;<br>            padding: 10px;<br>        }<br>    </style><br><div class=\"wandb-row\"><div class=\"wandb-col\"><h3>Run history:</h3><br/><table class=\"wandb\"><tr><td>Train_accuracy</td><td>▁▁▁▁▁▁▁▁▁▁</td></tr><tr><td>Val_accuracy</td><td>▁▁▁▁▁▁▁▁▁▁</td></tr><tr><td>epoch</td><td>▁▂▃▃▄▅▆▆▇█</td></tr></table><br/></div><div class=\"wandb-col\"><h3>Run summary:</h3><br/><table class=\"wandb\"><tr><td>Train_accuracy</td><td>9.94444</td></tr><tr><td>Train_loss</td><td>nan</td></tr><tr><td>Val_accuracy</td><td>10.5</td></tr><tr><td>Val_loss</td><td>nan</td></tr><tr><td>epoch</td><td>10</td></tr></table><br/></div></div>"
            ]
          },
          "metadata": {}
        },
        {
          "output_type": "display_data",
          "data": {
            "text/plain": [
              "<IPython.core.display.HTML object>"
            ],
            "text/html": [
              " View run <strong style=\"color:#cdcd00\">-ac_relu-hs_128-epc_10-hl_4-regu_0-eta_0.001-optmz_nadam-batch_32-wght_random</strong> at: <a href='https://wandb.ai/ma23m011-iit-madras/DA6401_Assignment1_ma23m011/runs/k5or0sxc' target=\"_blank\">https://wandb.ai/ma23m011-iit-madras/DA6401_Assignment1_ma23m011/runs/k5or0sxc</a><br> View project at: <a href='https://wandb.ai/ma23m011-iit-madras/DA6401_Assignment1_ma23m011' target=\"_blank\">https://wandb.ai/ma23m011-iit-madras/DA6401_Assignment1_ma23m011</a><br>Synced 5 W&B file(s), 0 media file(s), 0 artifact file(s) and 0 other file(s)"
            ]
          },
          "metadata": {}
        },
        {
          "output_type": "display_data",
          "data": {
            "text/plain": [
              "<IPython.core.display.HTML object>"
            ],
            "text/html": [
              "Find logs at: <code>./wandb/run-20250310_022311-k5or0sxc/logs</code>"
            ]
          },
          "metadata": {}
        },
        {
          "output_type": "stream",
          "name": "stderr",
          "text": [
            "\u001b[34m\u001b[1mwandb\u001b[0m: Agent Starting Run: 3rphj1gd with config:\n",
            "\u001b[34m\u001b[1mwandb\u001b[0m: \tactivation: tanh\n",
            "\u001b[34m\u001b[1mwandb\u001b[0m: \tbatch_size: 64\n",
            "\u001b[34m\u001b[1mwandb\u001b[0m: \tepochs: 5\n",
            "\u001b[34m\u001b[1mwandb\u001b[0m: \thidden_layers: 3\n",
            "\u001b[34m\u001b[1mwandb\u001b[0m: \thidden_size: 64\n",
            "\u001b[34m\u001b[1mwandb\u001b[0m: \tlearning_rate: 0.0001\n",
            "\u001b[34m\u001b[1mwandb\u001b[0m: \toptimizer: nadam\n",
            "\u001b[34m\u001b[1mwandb\u001b[0m: \tweight_decay: 0.5\n",
            "\u001b[34m\u001b[1mwandb\u001b[0m: \tweight_init: xavier\n"
          ]
        },
        {
          "output_type": "display_data",
          "data": {
            "text/plain": [
              "<IPython.core.display.HTML object>"
            ],
            "text/html": [
              "Tracking run with wandb version 0.19.7"
            ]
          },
          "metadata": {}
        },
        {
          "output_type": "display_data",
          "data": {
            "text/plain": [
              "<IPython.core.display.HTML object>"
            ],
            "text/html": [
              "Run data is saved locally in <code>/content/wandb/run-20250310_022543-3rphj1gd</code>"
            ]
          },
          "metadata": {}
        },
        {
          "output_type": "display_data",
          "data": {
            "text/plain": [
              "<IPython.core.display.HTML object>"
            ],
            "text/html": [
              "Syncing run <strong><a href='https://wandb.ai/ma23m011-iit-madras/DA6401_Assignment1_ma23m011/runs/3rphj1gd' target=\"_blank\">glamorous-sweep-57</a></strong> to <a href='https://wandb.ai/ma23m011-iit-madras/DA6401_Assignment1_ma23m011' target=\"_blank\">Weights & Biases</a> (<a href='https://wandb.me/developer-guide' target=\"_blank\">docs</a>)<br>Sweep page: <a href='https://wandb.ai/ma23m011-iit-madras/DA6401_Assignment1_ma23m011/sweeps/augzj4ot' target=\"_blank\">https://wandb.ai/ma23m011-iit-madras/DA6401_Assignment1_ma23m011/sweeps/augzj4ot</a>"
            ]
          },
          "metadata": {}
        },
        {
          "output_type": "display_data",
          "data": {
            "text/plain": [
              "<IPython.core.display.HTML object>"
            ],
            "text/html": [
              " View project at <a href='https://wandb.ai/ma23m011-iit-madras/DA6401_Assignment1_ma23m011' target=\"_blank\">https://wandb.ai/ma23m011-iit-madras/DA6401_Assignment1_ma23m011</a>"
            ]
          },
          "metadata": {}
        },
        {
          "output_type": "display_data",
          "data": {
            "text/plain": [
              "<IPython.core.display.HTML object>"
            ],
            "text/html": [
              " View sweep at <a href='https://wandb.ai/ma23m011-iit-madras/DA6401_Assignment1_ma23m011/sweeps/augzj4ot' target=\"_blank\">https://wandb.ai/ma23m011-iit-madras/DA6401_Assignment1_ma23m011/sweeps/augzj4ot</a>"
            ]
          },
          "metadata": {}
        },
        {
          "output_type": "display_data",
          "data": {
            "text/plain": [
              "<IPython.core.display.HTML object>"
            ],
            "text/html": [
              " View run at <a href='https://wandb.ai/ma23m011-iit-madras/DA6401_Assignment1_ma23m011/runs/3rphj1gd' target=\"_blank\">https://wandb.ai/ma23m011-iit-madras/DA6401_Assignment1_ma23m011/runs/3rphj1gd</a>"
            ]
          },
          "metadata": {}
        },
        {
          "output_type": "stream",
          "name": "stdout",
          "text": [
            "Epoch 1: Train Loss = nan, Train Acc = 9.9444, Val Loss = nan, Val Acc = 10.5000\n",
            "Epoch 2: Train Loss = nan, Train Acc = 9.9444, Val Loss = nan, Val Acc = 10.5000\n",
            "Epoch 3: Train Loss = nan, Train Acc = 9.9444, Val Loss = nan, Val Acc = 10.5000\n",
            "Epoch 4: Train Loss = nan, Train Acc = 9.9444, Val Loss = nan, Val Acc = 10.5000\n",
            "Epoch 5: Train Loss = nan, Train Acc = 9.9444, Val Loss = nan, Val Acc = 10.5000\n"
          ]
        },
        {
          "output_type": "display_data",
          "data": {
            "text/plain": [
              "<IPython.core.display.HTML object>"
            ],
            "text/html": []
          },
          "metadata": {}
        },
        {
          "output_type": "display_data",
          "data": {
            "text/plain": [
              "<IPython.core.display.HTML object>"
            ],
            "text/html": [
              "<br>    <style><br>        .wandb-row {<br>            display: flex;<br>            flex-direction: row;<br>            flex-wrap: wrap;<br>            justify-content: flex-start;<br>            width: 100%;<br>        }<br>        .wandb-col {<br>            display: flex;<br>            flex-direction: column;<br>            flex-basis: 100%;<br>            flex: 1;<br>            padding: 10px;<br>        }<br>    </style><br><div class=\"wandb-row\"><div class=\"wandb-col\"><h3>Run history:</h3><br/><table class=\"wandb\"><tr><td>Train_accuracy</td><td>▁▁▁▁▁</td></tr><tr><td>Val_accuracy</td><td>▁▁▁▁▁</td></tr><tr><td>epoch</td><td>▁▃▅▆█</td></tr></table><br/></div><div class=\"wandb-col\"><h3>Run summary:</h3><br/><table class=\"wandb\"><tr><td>Train_accuracy</td><td>9.94444</td></tr><tr><td>Train_loss</td><td>nan</td></tr><tr><td>Val_accuracy</td><td>10.5</td></tr><tr><td>Val_loss</td><td>nan</td></tr><tr><td>epoch</td><td>5</td></tr></table><br/></div></div>"
            ]
          },
          "metadata": {}
        },
        {
          "output_type": "display_data",
          "data": {
            "text/plain": [
              "<IPython.core.display.HTML object>"
            ],
            "text/html": [
              " View run <strong style=\"color:#cdcd00\">-ac_tanh-hs_64-epc_5-hl_3-regu_0.5-eta_0.0001-optmz_nadam-batch_64-wght_xavier</strong> at: <a href='https://wandb.ai/ma23m011-iit-madras/DA6401_Assignment1_ma23m011/runs/3rphj1gd' target=\"_blank\">https://wandb.ai/ma23m011-iit-madras/DA6401_Assignment1_ma23m011/runs/3rphj1gd</a><br> View project at: <a href='https://wandb.ai/ma23m011-iit-madras/DA6401_Assignment1_ma23m011' target=\"_blank\">https://wandb.ai/ma23m011-iit-madras/DA6401_Assignment1_ma23m011</a><br>Synced 5 W&B file(s), 0 media file(s), 0 artifact file(s) and 0 other file(s)"
            ]
          },
          "metadata": {}
        },
        {
          "output_type": "display_data",
          "data": {
            "text/plain": [
              "<IPython.core.display.HTML object>"
            ],
            "text/html": [
              "Find logs at: <code>./wandb/run-20250310_022543-3rphj1gd/logs</code>"
            ]
          },
          "metadata": {}
        },
        {
          "output_type": "stream",
          "name": "stderr",
          "text": [
            "\u001b[34m\u001b[1mwandb\u001b[0m: Agent Starting Run: 0sflak86 with config:\n",
            "\u001b[34m\u001b[1mwandb\u001b[0m: \tactivation: tanh\n",
            "\u001b[34m\u001b[1mwandb\u001b[0m: \tbatch_size: 64\n",
            "\u001b[34m\u001b[1mwandb\u001b[0m: \tepochs: 10\n",
            "\u001b[34m\u001b[1mwandb\u001b[0m: \thidden_layers: 4\n",
            "\u001b[34m\u001b[1mwandb\u001b[0m: \thidden_size: 64\n",
            "\u001b[34m\u001b[1mwandb\u001b[0m: \tlearning_rate: 0.0001\n",
            "\u001b[34m\u001b[1mwandb\u001b[0m: \toptimizer: mgd\n",
            "\u001b[34m\u001b[1mwandb\u001b[0m: \tweight_decay: 0\n",
            "\u001b[34m\u001b[1mwandb\u001b[0m: \tweight_init: random\n"
          ]
        },
        {
          "output_type": "display_data",
          "data": {
            "text/plain": [
              "<IPython.core.display.HTML object>"
            ],
            "text/html": [
              "Tracking run with wandb version 0.19.7"
            ]
          },
          "metadata": {}
        },
        {
          "output_type": "display_data",
          "data": {
            "text/plain": [
              "<IPython.core.display.HTML object>"
            ],
            "text/html": [
              "Run data is saved locally in <code>/content/wandb/run-20250310_022619-0sflak86</code>"
            ]
          },
          "metadata": {}
        },
        {
          "output_type": "display_data",
          "data": {
            "text/plain": [
              "<IPython.core.display.HTML object>"
            ],
            "text/html": [
              "Syncing run <strong><a href='https://wandb.ai/ma23m011-iit-madras/DA6401_Assignment1_ma23m011/runs/0sflak86' target=\"_blank\">confused-sweep-58</a></strong> to <a href='https://wandb.ai/ma23m011-iit-madras/DA6401_Assignment1_ma23m011' target=\"_blank\">Weights & Biases</a> (<a href='https://wandb.me/developer-guide' target=\"_blank\">docs</a>)<br>Sweep page: <a href='https://wandb.ai/ma23m011-iit-madras/DA6401_Assignment1_ma23m011/sweeps/augzj4ot' target=\"_blank\">https://wandb.ai/ma23m011-iit-madras/DA6401_Assignment1_ma23m011/sweeps/augzj4ot</a>"
            ]
          },
          "metadata": {}
        },
        {
          "output_type": "display_data",
          "data": {
            "text/plain": [
              "<IPython.core.display.HTML object>"
            ],
            "text/html": [
              " View project at <a href='https://wandb.ai/ma23m011-iit-madras/DA6401_Assignment1_ma23m011' target=\"_blank\">https://wandb.ai/ma23m011-iit-madras/DA6401_Assignment1_ma23m011</a>"
            ]
          },
          "metadata": {}
        },
        {
          "output_type": "display_data",
          "data": {
            "text/plain": [
              "<IPython.core.display.HTML object>"
            ],
            "text/html": [
              " View sweep at <a href='https://wandb.ai/ma23m011-iit-madras/DA6401_Assignment1_ma23m011/sweeps/augzj4ot' target=\"_blank\">https://wandb.ai/ma23m011-iit-madras/DA6401_Assignment1_ma23m011/sweeps/augzj4ot</a>"
            ]
          },
          "metadata": {}
        },
        {
          "output_type": "display_data",
          "data": {
            "text/plain": [
              "<IPython.core.display.HTML object>"
            ],
            "text/html": [
              " View run at <a href='https://wandb.ai/ma23m011-iit-madras/DA6401_Assignment1_ma23m011/runs/0sflak86' target=\"_blank\">https://wandb.ai/ma23m011-iit-madras/DA6401_Assignment1_ma23m011/runs/0sflak86</a>"
            ]
          },
          "metadata": {}
        },
        {
          "output_type": "stream",
          "name": "stdout",
          "text": [
            "Epoch 1: Train Loss = 2.3026, Train Acc = 3.0037, Val Loss = 2.3026, Val Acc = 2.7667\n",
            "Epoch 2: Train Loss = 2.3026, Train Acc = 3.0037, Val Loss = 2.3026, Val Acc = 2.7667\n",
            "Epoch 3: Train Loss = 2.3026, Train Acc = 3.0037, Val Loss = 2.3026, Val Acc = 2.7667\n",
            "Epoch 4: Train Loss = 2.3026, Train Acc = 3.0037, Val Loss = 2.3026, Val Acc = 2.7667\n",
            "Epoch 5: Train Loss = 2.3026, Train Acc = 3.0037, Val Loss = 2.3026, Val Acc = 2.7667\n",
            "Epoch 6: Train Loss = 2.3026, Train Acc = 3.0037, Val Loss = 2.3026, Val Acc = 2.7667\n",
            "Epoch 7: Train Loss = 2.3026, Train Acc = 3.0037, Val Loss = 2.3026, Val Acc = 2.7667\n",
            "Epoch 8: Train Loss = 2.3026, Train Acc = 3.0037, Val Loss = 2.3026, Val Acc = 2.7667\n",
            "Epoch 9: Train Loss = 2.3026, Train Acc = 3.0037, Val Loss = 2.3026, Val Acc = 2.7667\n",
            "Epoch 10: Train Loss = 2.3026, Train Acc = 3.0037, Val Loss = 2.3026, Val Acc = 2.7667\n"
          ]
        },
        {
          "output_type": "display_data",
          "data": {
            "text/plain": [
              "<IPython.core.display.HTML object>"
            ],
            "text/html": []
          },
          "metadata": {}
        },
        {
          "output_type": "display_data",
          "data": {
            "text/plain": [
              "<IPython.core.display.HTML object>"
            ],
            "text/html": [
              "<br>    <style><br>        .wandb-row {<br>            display: flex;<br>            flex-direction: row;<br>            flex-wrap: wrap;<br>            justify-content: flex-start;<br>            width: 100%;<br>        }<br>        .wandb-col {<br>            display: flex;<br>            flex-direction: column;<br>            flex-basis: 100%;<br>            flex: 1;<br>            padding: 10px;<br>        }<br>    </style><br><div class=\"wandb-row\"><div class=\"wandb-col\"><h3>Run history:</h3><br/><table class=\"wandb\"><tr><td>Train_accuracy</td><td>▁▁▁▁▁▁▁▁▁▁</td></tr><tr><td>Train_loss</td><td>▁▁▁▁▁▁▁▁▁▁</td></tr><tr><td>Val_accuracy</td><td>▁▁▁▁▁▁▁▁▁▁</td></tr><tr><td>Val_loss</td><td>▁▁▁▁▁▁▁▁▁▁</td></tr><tr><td>epoch</td><td>▁▂▃▃▄▅▆▆▇█</td></tr></table><br/></div><div class=\"wandb-col\"><h3>Run summary:</h3><br/><table class=\"wandb\"><tr><td>Train_accuracy</td><td>3.0037</td></tr><tr><td>Train_loss</td><td>2.30259</td></tr><tr><td>Val_accuracy</td><td>2.76667</td></tr><tr><td>Val_loss</td><td>2.30259</td></tr><tr><td>epoch</td><td>10</td></tr></table><br/></div></div>"
            ]
          },
          "metadata": {}
        },
        {
          "output_type": "display_data",
          "data": {
            "text/plain": [
              "<IPython.core.display.HTML object>"
            ],
            "text/html": [
              " View run <strong style=\"color:#cdcd00\">-ac_tanh-hs_64-epc_10-hl_4-regu_0-eta_0.0001-optmz_mgd-batch_64-wght_random</strong> at: <a href='https://wandb.ai/ma23m011-iit-madras/DA6401_Assignment1_ma23m011/runs/0sflak86' target=\"_blank\">https://wandb.ai/ma23m011-iit-madras/DA6401_Assignment1_ma23m011/runs/0sflak86</a><br> View project at: <a href='https://wandb.ai/ma23m011-iit-madras/DA6401_Assignment1_ma23m011' target=\"_blank\">https://wandb.ai/ma23m011-iit-madras/DA6401_Assignment1_ma23m011</a><br>Synced 5 W&B file(s), 0 media file(s), 0 artifact file(s) and 0 other file(s)"
            ]
          },
          "metadata": {}
        },
        {
          "output_type": "display_data",
          "data": {
            "text/plain": [
              "<IPython.core.display.HTML object>"
            ],
            "text/html": [
              "Find logs at: <code>./wandb/run-20250310_022619-0sflak86/logs</code>"
            ]
          },
          "metadata": {}
        },
        {
          "output_type": "stream",
          "name": "stderr",
          "text": [
            "\u001b[34m\u001b[1mwandb\u001b[0m: Agent Starting Run: 7esedl3i with config:\n",
            "\u001b[34m\u001b[1mwandb\u001b[0m: \tactivation: tanh\n",
            "\u001b[34m\u001b[1mwandb\u001b[0m: \tbatch_size: 16\n",
            "\u001b[34m\u001b[1mwandb\u001b[0m: \tepochs: 5\n",
            "\u001b[34m\u001b[1mwandb\u001b[0m: \thidden_layers: 5\n",
            "\u001b[34m\u001b[1mwandb\u001b[0m: \thidden_size: 32\n",
            "\u001b[34m\u001b[1mwandb\u001b[0m: \tlearning_rate: 0.0001\n",
            "\u001b[34m\u001b[1mwandb\u001b[0m: \toptimizer: rmsprop\n",
            "\u001b[34m\u001b[1mwandb\u001b[0m: \tweight_decay: 0.5\n",
            "\u001b[34m\u001b[1mwandb\u001b[0m: \tweight_init: random\n"
          ]
        },
        {
          "output_type": "display_data",
          "data": {
            "text/plain": [
              "<IPython.core.display.HTML object>"
            ],
            "text/html": [
              "Tracking run with wandb version 0.19.7"
            ]
          },
          "metadata": {}
        },
        {
          "output_type": "display_data",
          "data": {
            "text/plain": [
              "<IPython.core.display.HTML object>"
            ],
            "text/html": [
              "Run data is saved locally in <code>/content/wandb/run-20250310_022720-7esedl3i</code>"
            ]
          },
          "metadata": {}
        },
        {
          "output_type": "display_data",
          "data": {
            "text/plain": [
              "<IPython.core.display.HTML object>"
            ],
            "text/html": [
              "Syncing run <strong><a href='https://wandb.ai/ma23m011-iit-madras/DA6401_Assignment1_ma23m011/runs/7esedl3i' target=\"_blank\">winter-sweep-59</a></strong> to <a href='https://wandb.ai/ma23m011-iit-madras/DA6401_Assignment1_ma23m011' target=\"_blank\">Weights & Biases</a> (<a href='https://wandb.me/developer-guide' target=\"_blank\">docs</a>)<br>Sweep page: <a href='https://wandb.ai/ma23m011-iit-madras/DA6401_Assignment1_ma23m011/sweeps/augzj4ot' target=\"_blank\">https://wandb.ai/ma23m011-iit-madras/DA6401_Assignment1_ma23m011/sweeps/augzj4ot</a>"
            ]
          },
          "metadata": {}
        },
        {
          "output_type": "display_data",
          "data": {
            "text/plain": [
              "<IPython.core.display.HTML object>"
            ],
            "text/html": [
              " View project at <a href='https://wandb.ai/ma23m011-iit-madras/DA6401_Assignment1_ma23m011' target=\"_blank\">https://wandb.ai/ma23m011-iit-madras/DA6401_Assignment1_ma23m011</a>"
            ]
          },
          "metadata": {}
        },
        {
          "output_type": "display_data",
          "data": {
            "text/plain": [
              "<IPython.core.display.HTML object>"
            ],
            "text/html": [
              " View sweep at <a href='https://wandb.ai/ma23m011-iit-madras/DA6401_Assignment1_ma23m011/sweeps/augzj4ot' target=\"_blank\">https://wandb.ai/ma23m011-iit-madras/DA6401_Assignment1_ma23m011/sweeps/augzj4ot</a>"
            ]
          },
          "metadata": {}
        },
        {
          "output_type": "display_data",
          "data": {
            "text/plain": [
              "<IPython.core.display.HTML object>"
            ],
            "text/html": [
              " View run at <a href='https://wandb.ai/ma23m011-iit-madras/DA6401_Assignment1_ma23m011/runs/7esedl3i' target=\"_blank\">https://wandb.ai/ma23m011-iit-madras/DA6401_Assignment1_ma23m011/runs/7esedl3i</a>"
            ]
          },
          "metadata": {}
        },
        {
          "output_type": "stream",
          "name": "stdout",
          "text": [
            "Epoch 1: Train Loss = 2.3026, Train Acc = 9.9444, Val Loss = 2.3026, Val Acc = 10.5000\n",
            "Epoch 2: Train Loss = 2.3026, Train Acc = 9.9444, Val Loss = 2.3026, Val Acc = 10.5000\n",
            "Epoch 3: Train Loss = 2.3026, Train Acc = 9.9444, Val Loss = 2.3026, Val Acc = 10.5000\n",
            "Epoch 4: Train Loss = 2.3026, Train Acc = 9.9444, Val Loss = 2.3026, Val Acc = 10.5000\n",
            "Epoch 5: Train Loss = 2.3026, Train Acc = 9.9444, Val Loss = 2.3026, Val Acc = 10.5000\n"
          ]
        },
        {
          "output_type": "display_data",
          "data": {
            "text/plain": [
              "<IPython.core.display.HTML object>"
            ],
            "text/html": []
          },
          "metadata": {}
        },
        {
          "output_type": "display_data",
          "data": {
            "text/plain": [
              "<IPython.core.display.HTML object>"
            ],
            "text/html": [
              "<br>    <style><br>        .wandb-row {<br>            display: flex;<br>            flex-direction: row;<br>            flex-wrap: wrap;<br>            justify-content: flex-start;<br>            width: 100%;<br>        }<br>        .wandb-col {<br>            display: flex;<br>            flex-direction: column;<br>            flex-basis: 100%;<br>            flex: 1;<br>            padding: 10px;<br>        }<br>    </style><br><div class=\"wandb-row\"><div class=\"wandb-col\"><h3>Run history:</h3><br/><table class=\"wandb\"><tr><td>Train_accuracy</td><td>▁▁▁▁▁</td></tr><tr><td>Train_loss</td><td>▁▁▁▁▁</td></tr><tr><td>Val_accuracy</td><td>▁▁▁▁▁</td></tr><tr><td>Val_loss</td><td>▁▁▁▁▁</td></tr><tr><td>epoch</td><td>▁▃▅▆█</td></tr></table><br/></div><div class=\"wandb-col\"><h3>Run summary:</h3><br/><table class=\"wandb\"><tr><td>Train_accuracy</td><td>9.94444</td></tr><tr><td>Train_loss</td><td>2.3026</td></tr><tr><td>Val_accuracy</td><td>10.5</td></tr><tr><td>Val_loss</td><td>2.3026</td></tr><tr><td>epoch</td><td>5</td></tr></table><br/></div></div>"
            ]
          },
          "metadata": {}
        },
        {
          "output_type": "display_data",
          "data": {
            "text/plain": [
              "<IPython.core.display.HTML object>"
            ],
            "text/html": [
              " View run <strong style=\"color:#cdcd00\">-ac_tanh-hs_32-epc_5-hl_5-regu_0.5-eta_0.0001-optmz_rmsprop-batch_16-wght_random</strong> at: <a href='https://wandb.ai/ma23m011-iit-madras/DA6401_Assignment1_ma23m011/runs/7esedl3i' target=\"_blank\">https://wandb.ai/ma23m011-iit-madras/DA6401_Assignment1_ma23m011/runs/7esedl3i</a><br> View project at: <a href='https://wandb.ai/ma23m011-iit-madras/DA6401_Assignment1_ma23m011' target=\"_blank\">https://wandb.ai/ma23m011-iit-madras/DA6401_Assignment1_ma23m011</a><br>Synced 5 W&B file(s), 0 media file(s), 0 artifact file(s) and 0 other file(s)"
            ]
          },
          "metadata": {}
        },
        {
          "output_type": "display_data",
          "data": {
            "text/plain": [
              "<IPython.core.display.HTML object>"
            ],
            "text/html": [
              "Find logs at: <code>./wandb/run-20250310_022720-7esedl3i/logs</code>"
            ]
          },
          "metadata": {}
        },
        {
          "output_type": "stream",
          "name": "stderr",
          "text": [
            "\u001b[34m\u001b[1mwandb\u001b[0m: Agent Starting Run: 8ssxf5ku with config:\n",
            "\u001b[34m\u001b[1mwandb\u001b[0m: \tactivation: sigmoid\n",
            "\u001b[34m\u001b[1mwandb\u001b[0m: \tbatch_size: 32\n",
            "\u001b[34m\u001b[1mwandb\u001b[0m: \tepochs: 10\n",
            "\u001b[34m\u001b[1mwandb\u001b[0m: \thidden_layers: 5\n",
            "\u001b[34m\u001b[1mwandb\u001b[0m: \thidden_size: 64\n",
            "\u001b[34m\u001b[1mwandb\u001b[0m: \tlearning_rate: 0.0001\n",
            "\u001b[34m\u001b[1mwandb\u001b[0m: \toptimizer: sgd\n",
            "\u001b[34m\u001b[1mwandb\u001b[0m: \tweight_decay: 0.0005\n",
            "\u001b[34m\u001b[1mwandb\u001b[0m: \tweight_init: xavier\n"
          ]
        },
        {
          "output_type": "display_data",
          "data": {
            "text/plain": [
              "<IPython.core.display.HTML object>"
            ],
            "text/html": [
              "Tracking run with wandb version 0.19.7"
            ]
          },
          "metadata": {}
        },
        {
          "output_type": "display_data",
          "data": {
            "text/plain": [
              "<IPython.core.display.HTML object>"
            ],
            "text/html": [
              "Run data is saved locally in <code>/content/wandb/run-20250310_022806-8ssxf5ku</code>"
            ]
          },
          "metadata": {}
        },
        {
          "output_type": "display_data",
          "data": {
            "text/plain": [
              "<IPython.core.display.HTML object>"
            ],
            "text/html": [
              "Syncing run <strong><a href='https://wandb.ai/ma23m011-iit-madras/DA6401_Assignment1_ma23m011/runs/8ssxf5ku' target=\"_blank\">fearless-sweep-60</a></strong> to <a href='https://wandb.ai/ma23m011-iit-madras/DA6401_Assignment1_ma23m011' target=\"_blank\">Weights & Biases</a> (<a href='https://wandb.me/developer-guide' target=\"_blank\">docs</a>)<br>Sweep page: <a href='https://wandb.ai/ma23m011-iit-madras/DA6401_Assignment1_ma23m011/sweeps/augzj4ot' target=\"_blank\">https://wandb.ai/ma23m011-iit-madras/DA6401_Assignment1_ma23m011/sweeps/augzj4ot</a>"
            ]
          },
          "metadata": {}
        },
        {
          "output_type": "display_data",
          "data": {
            "text/plain": [
              "<IPython.core.display.HTML object>"
            ],
            "text/html": [
              " View project at <a href='https://wandb.ai/ma23m011-iit-madras/DA6401_Assignment1_ma23m011' target=\"_blank\">https://wandb.ai/ma23m011-iit-madras/DA6401_Assignment1_ma23m011</a>"
            ]
          },
          "metadata": {}
        },
        {
          "output_type": "display_data",
          "data": {
            "text/plain": [
              "<IPython.core.display.HTML object>"
            ],
            "text/html": [
              " View sweep at <a href='https://wandb.ai/ma23m011-iit-madras/DA6401_Assignment1_ma23m011/sweeps/augzj4ot' target=\"_blank\">https://wandb.ai/ma23m011-iit-madras/DA6401_Assignment1_ma23m011/sweeps/augzj4ot</a>"
            ]
          },
          "metadata": {}
        },
        {
          "output_type": "display_data",
          "data": {
            "text/plain": [
              "<IPython.core.display.HTML object>"
            ],
            "text/html": [
              " View run at <a href='https://wandb.ai/ma23m011-iit-madras/DA6401_Assignment1_ma23m011/runs/8ssxf5ku' target=\"_blank\">https://wandb.ai/ma23m011-iit-madras/DA6401_Assignment1_ma23m011/runs/8ssxf5ku</a>"
            ]
          },
          "metadata": {}
        },
        {
          "output_type": "stream",
          "name": "stdout",
          "text": [
            "Epoch 1: Train Loss = 2.3866, Train Acc = 10.0648, Val Loss = 2.3874, Val Acc = 9.4167\n",
            "Epoch 2: Train Loss = 2.3867, Train Acc = 9.9963, Val Loss = 2.3870, Val Acc = 10.0333\n",
            "Epoch 3: Train Loss = 2.3861, Train Acc = 9.9444, Val Loss = 2.3860, Val Acc = 10.5000\n",
            "Epoch 4: Train Loss = 2.3864, Train Acc = 10.0296, Val Loss = 2.3872, Val Acc = 9.7333\n",
            "Epoch 5: Train Loss = 2.3863, Train Acc = 10.1130, Val Loss = 2.3867, Val Acc = 10.8000\n",
            "Epoch 6: Train Loss = 2.3865, Train Acc = 10.0833, Val Loss = 2.3876, Val Acc = 9.2500\n",
            "Epoch 7: Train Loss = 2.3860, Train Acc = 9.9963, Val Loss = 2.3862, Val Acc = 10.0333\n",
            "Epoch 8: Train Loss = 2.3863, Train Acc = 10.0648, Val Loss = 2.3866, Val Acc = 9.4167\n",
            "Epoch 9: Train Loss = 2.3863, Train Acc = 10.0648, Val Loss = 2.3874, Val Acc = 9.4167\n",
            "Epoch 10: Train Loss = 2.3864, Train Acc = 9.9389, Val Loss = 2.3858, Val Acc = 10.5500\n"
          ]
        },
        {
          "output_type": "display_data",
          "data": {
            "text/plain": [
              "<IPython.core.display.HTML object>"
            ],
            "text/html": []
          },
          "metadata": {}
        },
        {
          "output_type": "display_data",
          "data": {
            "text/plain": [
              "<IPython.core.display.HTML object>"
            ],
            "text/html": [
              "<br>    <style><br>        .wandb-row {<br>            display: flex;<br>            flex-direction: row;<br>            flex-wrap: wrap;<br>            justify-content: flex-start;<br>            width: 100%;<br>        }<br>        .wandb-col {<br>            display: flex;<br>            flex-direction: column;<br>            flex-basis: 100%;<br>            flex: 1;<br>            padding: 10px;<br>        }<br>    </style><br><div class=\"wandb-row\"><div class=\"wandb-col\"><h3>Run history:</h3><br/><table class=\"wandb\"><tr><td>Train_accuracy</td><td>▆▃▁▅█▇▃▆▆▁</td></tr><tr><td>Train_loss</td><td>▇█▂▅▄▆▁▄▄▅</td></tr><tr><td>Val_accuracy</td><td>▂▅▇▃█▁▅▂▂▇</td></tr><tr><td>Val_loss</td><td>▇▆▂▆▄█▃▄▇▁</td></tr><tr><td>epoch</td><td>▁▂▃▃▄▅▆▆▇█</td></tr></table><br/></div><div class=\"wandb-col\"><h3>Run summary:</h3><br/><table class=\"wandb\"><tr><td>Train_accuracy</td><td>9.93889</td></tr><tr><td>Train_loss</td><td>2.38636</td></tr><tr><td>Val_accuracy</td><td>10.55</td></tr><tr><td>Val_loss</td><td>2.38578</td></tr><tr><td>epoch</td><td>10</td></tr></table><br/></div></div>"
            ]
          },
          "metadata": {}
        },
        {
          "output_type": "display_data",
          "data": {
            "text/plain": [
              "<IPython.core.display.HTML object>"
            ],
            "text/html": [
              " View run <strong style=\"color:#cdcd00\">-ac_sigmoid-hs_64-epc_10-hl_5-regu_0.0005-eta_0.0001-optmz_sgd-batch_32-wght_xavier</strong> at: <a href='https://wandb.ai/ma23m011-iit-madras/DA6401_Assignment1_ma23m011/runs/8ssxf5ku' target=\"_blank\">https://wandb.ai/ma23m011-iit-madras/DA6401_Assignment1_ma23m011/runs/8ssxf5ku</a><br> View project at: <a href='https://wandb.ai/ma23m011-iit-madras/DA6401_Assignment1_ma23m011' target=\"_blank\">https://wandb.ai/ma23m011-iit-madras/DA6401_Assignment1_ma23m011</a><br>Synced 5 W&B file(s), 0 media file(s), 0 artifact file(s) and 0 other file(s)"
            ]
          },
          "metadata": {}
        },
        {
          "output_type": "display_data",
          "data": {
            "text/plain": [
              "<IPython.core.display.HTML object>"
            ],
            "text/html": [
              "Find logs at: <code>./wandb/run-20250310_022806-8ssxf5ku/logs</code>"
            ]
          },
          "metadata": {}
        },
        {
          "output_type": "stream",
          "name": "stderr",
          "text": [
            "\u001b[34m\u001b[1mwandb\u001b[0m: Sweep Agent: Waiting for job.\n",
            "\u001b[34m\u001b[1mwandb\u001b[0m: Job received.\n",
            "\u001b[34m\u001b[1mwandb\u001b[0m: Agent Starting Run: s19lqcyh with config:\n",
            "\u001b[34m\u001b[1mwandb\u001b[0m: \tactivation: sigmoid\n",
            "\u001b[34m\u001b[1mwandb\u001b[0m: \tbatch_size: 16\n",
            "\u001b[34m\u001b[1mwandb\u001b[0m: \tepochs: 10\n",
            "\u001b[34m\u001b[1mwandb\u001b[0m: \thidden_layers: 5\n",
            "\u001b[34m\u001b[1mwandb\u001b[0m: \thidden_size: 32\n",
            "\u001b[34m\u001b[1mwandb\u001b[0m: \tlearning_rate: 0.001\n",
            "\u001b[34m\u001b[1mwandb\u001b[0m: \toptimizer: sgd\n",
            "\u001b[34m\u001b[1mwandb\u001b[0m: \tweight_decay: 0.0005\n",
            "\u001b[34m\u001b[1mwandb\u001b[0m: \tweight_init: random\n"
          ]
        },
        {
          "output_type": "display_data",
          "data": {
            "text/plain": [
              "<IPython.core.display.HTML object>"
            ],
            "text/html": [
              "Tracking run with wandb version 0.19.7"
            ]
          },
          "metadata": {}
        },
        {
          "output_type": "display_data",
          "data": {
            "text/plain": [
              "<IPython.core.display.HTML object>"
            ],
            "text/html": [
              "Run data is saved locally in <code>/content/wandb/run-20250310_022927-s19lqcyh</code>"
            ]
          },
          "metadata": {}
        },
        {
          "output_type": "display_data",
          "data": {
            "text/plain": [
              "<IPython.core.display.HTML object>"
            ],
            "text/html": [
              "Syncing run <strong><a href='https://wandb.ai/ma23m011-iit-madras/DA6401_Assignment1_ma23m011/runs/s19lqcyh' target=\"_blank\">avid-sweep-61</a></strong> to <a href='https://wandb.ai/ma23m011-iit-madras/DA6401_Assignment1_ma23m011' target=\"_blank\">Weights & Biases</a> (<a href='https://wandb.me/developer-guide' target=\"_blank\">docs</a>)<br>Sweep page: <a href='https://wandb.ai/ma23m011-iit-madras/DA6401_Assignment1_ma23m011/sweeps/augzj4ot' target=\"_blank\">https://wandb.ai/ma23m011-iit-madras/DA6401_Assignment1_ma23m011/sweeps/augzj4ot</a>"
            ]
          },
          "metadata": {}
        },
        {
          "output_type": "display_data",
          "data": {
            "text/plain": [
              "<IPython.core.display.HTML object>"
            ],
            "text/html": [
              " View project at <a href='https://wandb.ai/ma23m011-iit-madras/DA6401_Assignment1_ma23m011' target=\"_blank\">https://wandb.ai/ma23m011-iit-madras/DA6401_Assignment1_ma23m011</a>"
            ]
          },
          "metadata": {}
        },
        {
          "output_type": "display_data",
          "data": {
            "text/plain": [
              "<IPython.core.display.HTML object>"
            ],
            "text/html": [
              " View sweep at <a href='https://wandb.ai/ma23m011-iit-madras/DA6401_Assignment1_ma23m011/sweeps/augzj4ot' target=\"_blank\">https://wandb.ai/ma23m011-iit-madras/DA6401_Assignment1_ma23m011/sweeps/augzj4ot</a>"
            ]
          },
          "metadata": {}
        },
        {
          "output_type": "display_data",
          "data": {
            "text/plain": [
              "<IPython.core.display.HTML object>"
            ],
            "text/html": [
              " View run at <a href='https://wandb.ai/ma23m011-iit-madras/DA6401_Assignment1_ma23m011/runs/s19lqcyh' target=\"_blank\">https://wandb.ai/ma23m011-iit-madras/DA6401_Assignment1_ma23m011/runs/s19lqcyh</a>"
            ]
          },
          "metadata": {}
        },
        {
          "output_type": "stream",
          "name": "stdout",
          "text": [
            "Epoch 1: Train Loss = 2.3046, Train Acc = 10.0296, Val Loss = 2.3063, Val Acc = 9.7333\n",
            "Epoch 2: Train Loss = 2.3060, Train Acc = 9.9907, Val Loss = 2.3070, Val Acc = 10.0833\n",
            "Epoch 3: Train Loss = 2.3056, Train Acc = 9.9389, Val Loss = 2.3053, Val Acc = 10.5500\n",
            "Epoch 4: Train Loss = 2.3048, Train Acc = 9.9648, Val Loss = 2.3034, Val Acc = 10.3167\n",
            "Epoch 5: Train Loss = 2.3043, Train Acc = 10.0648, Val Loss = 2.3063, Val Acc = 9.4167\n",
            "Epoch 6: Train Loss = 2.3042, Train Acc = 9.9444, Val Loss = 2.3043, Val Acc = 10.5000\n",
            "Epoch 7: Train Loss = 2.3053, Train Acc = 9.9444, Val Loss = 2.3047, Val Acc = 10.5000\n",
            "Epoch 8: Train Loss = 2.3048, Train Acc = 10.0648, Val Loss = 2.3050, Val Acc = 9.4167\n",
            "Epoch 9: Train Loss = 2.3050, Train Acc = 9.9704, Val Loss = 2.3040, Val Acc = 10.2667\n",
            "Epoch 10: Train Loss = 2.3054, Train Acc = 10.0648, Val Loss = 2.3079, Val Acc = 9.4167\n"
          ]
        },
        {
          "output_type": "display_data",
          "data": {
            "text/plain": [
              "<IPython.core.display.HTML object>"
            ],
            "text/html": []
          },
          "metadata": {}
        },
        {
          "output_type": "display_data",
          "data": {
            "text/plain": [
              "<IPython.core.display.HTML object>"
            ],
            "text/html": [
              "<br>    <style><br>        .wandb-row {<br>            display: flex;<br>            flex-direction: row;<br>            flex-wrap: wrap;<br>            justify-content: flex-start;<br>            width: 100%;<br>        }<br>        .wandb-col {<br>            display: flex;<br>            flex-direction: column;<br>            flex-basis: 100%;<br>            flex: 1;<br>            padding: 10px;<br>        }<br>    </style><br><div class=\"wandb-row\"><div class=\"wandb-col\"><h3>Run history:</h3><br/><table class=\"wandb\"><tr><td>Train_accuracy</td><td>▆▄▁▂█▁▁█▃█</td></tr><tr><td>Train_loss</td><td>▃█▇▃▂▁▅▃▄▅</td></tr><tr><td>Val_accuracy</td><td>▃▅█▇▁██▁▆▁</td></tr><tr><td>Val_loss</td><td>▅▇▄▁▅▂▃▃▂█</td></tr><tr><td>epoch</td><td>▁▂▃▃▄▅▆▆▇█</td></tr></table><br/></div><div class=\"wandb-col\"><h3>Run summary:</h3><br/><table class=\"wandb\"><tr><td>Train_accuracy</td><td>10.06481</td></tr><tr><td>Train_loss</td><td>2.30535</td></tr><tr><td>Val_accuracy</td><td>9.41667</td></tr><tr><td>Val_loss</td><td>2.30792</td></tr><tr><td>epoch</td><td>10</td></tr></table><br/></div></div>"
            ]
          },
          "metadata": {}
        },
        {
          "output_type": "display_data",
          "data": {
            "text/plain": [
              "<IPython.core.display.HTML object>"
            ],
            "text/html": [
              " View run <strong style=\"color:#cdcd00\">-ac_sigmoid-hs_32-epc_10-hl_5-regu_0.0005-eta_0.001-optmz_sgd-batch_16-wght_random</strong> at: <a href='https://wandb.ai/ma23m011-iit-madras/DA6401_Assignment1_ma23m011/runs/s19lqcyh' target=\"_blank\">https://wandb.ai/ma23m011-iit-madras/DA6401_Assignment1_ma23m011/runs/s19lqcyh</a><br> View project at: <a href='https://wandb.ai/ma23m011-iit-madras/DA6401_Assignment1_ma23m011' target=\"_blank\">https://wandb.ai/ma23m011-iit-madras/DA6401_Assignment1_ma23m011</a><br>Synced 5 W&B file(s), 0 media file(s), 0 artifact file(s) and 0 other file(s)"
            ]
          },
          "metadata": {}
        },
        {
          "output_type": "display_data",
          "data": {
            "text/plain": [
              "<IPython.core.display.HTML object>"
            ],
            "text/html": [
              "Find logs at: <code>./wandb/run-20250310_022927-s19lqcyh/logs</code>"
            ]
          },
          "metadata": {}
        },
        {
          "output_type": "stream",
          "name": "stderr",
          "text": [
            "\u001b[34m\u001b[1mwandb\u001b[0m: Agent Starting Run: ah57t9f3 with config:\n",
            "\u001b[34m\u001b[1mwandb\u001b[0m: \tactivation: relu\n",
            "\u001b[34m\u001b[1mwandb\u001b[0m: \tbatch_size: 16\n",
            "\u001b[34m\u001b[1mwandb\u001b[0m: \tepochs: 5\n",
            "\u001b[34m\u001b[1mwandb\u001b[0m: \thidden_layers: 4\n",
            "\u001b[34m\u001b[1mwandb\u001b[0m: \thidden_size: 128\n",
            "\u001b[34m\u001b[1mwandb\u001b[0m: \tlearning_rate: 0.0001\n",
            "\u001b[34m\u001b[1mwandb\u001b[0m: \toptimizer: rmsprop\n",
            "\u001b[34m\u001b[1mwandb\u001b[0m: \tweight_decay: 0\n",
            "\u001b[34m\u001b[1mwandb\u001b[0m: \tweight_init: random\n"
          ]
        },
        {
          "output_type": "display_data",
          "data": {
            "text/plain": [
              "<IPython.core.display.HTML object>"
            ],
            "text/html": [
              "Tracking run with wandb version 0.19.7"
            ]
          },
          "metadata": {}
        },
        {
          "output_type": "display_data",
          "data": {
            "text/plain": [
              "<IPython.core.display.HTML object>"
            ],
            "text/html": [
              "Run data is saved locally in <code>/content/wandb/run-20250310_023033-ah57t9f3</code>"
            ]
          },
          "metadata": {}
        },
        {
          "output_type": "display_data",
          "data": {
            "text/plain": [
              "<IPython.core.display.HTML object>"
            ],
            "text/html": [
              "Syncing run <strong><a href='https://wandb.ai/ma23m011-iit-madras/DA6401_Assignment1_ma23m011/runs/ah57t9f3' target=\"_blank\">fresh-sweep-62</a></strong> to <a href='https://wandb.ai/ma23m011-iit-madras/DA6401_Assignment1_ma23m011' target=\"_blank\">Weights & Biases</a> (<a href='https://wandb.me/developer-guide' target=\"_blank\">docs</a>)<br>Sweep page: <a href='https://wandb.ai/ma23m011-iit-madras/DA6401_Assignment1_ma23m011/sweeps/augzj4ot' target=\"_blank\">https://wandb.ai/ma23m011-iit-madras/DA6401_Assignment1_ma23m011/sweeps/augzj4ot</a>"
            ]
          },
          "metadata": {}
        },
        {
          "output_type": "display_data",
          "data": {
            "text/plain": [
              "<IPython.core.display.HTML object>"
            ],
            "text/html": [
              " View project at <a href='https://wandb.ai/ma23m011-iit-madras/DA6401_Assignment1_ma23m011' target=\"_blank\">https://wandb.ai/ma23m011-iit-madras/DA6401_Assignment1_ma23m011</a>"
            ]
          },
          "metadata": {}
        },
        {
          "output_type": "display_data",
          "data": {
            "text/plain": [
              "<IPython.core.display.HTML object>"
            ],
            "text/html": [
              " View sweep at <a href='https://wandb.ai/ma23m011-iit-madras/DA6401_Assignment1_ma23m011/sweeps/augzj4ot' target=\"_blank\">https://wandb.ai/ma23m011-iit-madras/DA6401_Assignment1_ma23m011/sweeps/augzj4ot</a>"
            ]
          },
          "metadata": {}
        },
        {
          "output_type": "display_data",
          "data": {
            "text/plain": [
              "<IPython.core.display.HTML object>"
            ],
            "text/html": [
              " View run at <a href='https://wandb.ai/ma23m011-iit-madras/DA6401_Assignment1_ma23m011/runs/ah57t9f3' target=\"_blank\">https://wandb.ai/ma23m011-iit-madras/DA6401_Assignment1_ma23m011/runs/ah57t9f3</a>"
            ]
          },
          "metadata": {}
        },
        {
          "output_type": "stream",
          "name": "stdout",
          "text": [
            "Epoch 1: Train Loss = 0.9690, Train Acc = 59.3796, Val Loss = 0.9648, Val Acc = 60.0333\n",
            "Epoch 2: Train Loss = 0.8908, Train Acc = 65.0056, Val Loss = 0.8862, Val Acc = 65.6667\n",
            "Epoch 3: Train Loss = 0.8456, Train Acc = 68.8426, Val Loss = 0.8494, Val Acc = 69.9500\n",
            "Epoch 4: Train Loss = 0.7879, Train Acc = 71.0074, Val Loss = 0.7959, Val Acc = 71.7500\n",
            "Epoch 5: Train Loss = 0.7600, Train Acc = 72.8778, Val Loss = 0.7616, Val Acc = 73.5833\n"
          ]
        },
        {
          "output_type": "display_data",
          "data": {
            "text/plain": [
              "<IPython.core.display.HTML object>"
            ],
            "text/html": []
          },
          "metadata": {}
        },
        {
          "output_type": "display_data",
          "data": {
            "text/plain": [
              "<IPython.core.display.HTML object>"
            ],
            "text/html": [
              "<br>    <style><br>        .wandb-row {<br>            display: flex;<br>            flex-direction: row;<br>            flex-wrap: wrap;<br>            justify-content: flex-start;<br>            width: 100%;<br>        }<br>        .wandb-col {<br>            display: flex;<br>            flex-direction: column;<br>            flex-basis: 100%;<br>            flex: 1;<br>            padding: 10px;<br>        }<br>    </style><br><div class=\"wandb-row\"><div class=\"wandb-col\"><h3>Run history:</h3><br/><table class=\"wandb\"><tr><td>Train_accuracy</td><td>▁▄▆▇█</td></tr><tr><td>Train_loss</td><td>█▅▄▂▁</td></tr><tr><td>Val_accuracy</td><td>▁▄▆▇█</td></tr><tr><td>Val_loss</td><td>█▅▄▂▁</td></tr><tr><td>epoch</td><td>▁▃▅▆█</td></tr></table><br/></div><div class=\"wandb-col\"><h3>Run summary:</h3><br/><table class=\"wandb\"><tr><td>Train_accuracy</td><td>72.87778</td></tr><tr><td>Train_loss</td><td>0.75999</td></tr><tr><td>Val_accuracy</td><td>73.58333</td></tr><tr><td>Val_loss</td><td>0.76162</td></tr><tr><td>epoch</td><td>5</td></tr></table><br/></div></div>"
            ]
          },
          "metadata": {}
        },
        {
          "output_type": "display_data",
          "data": {
            "text/plain": [
              "<IPython.core.display.HTML object>"
            ],
            "text/html": [
              " View run <strong style=\"color:#cdcd00\">-ac_relu-hs_128-epc_5-hl_4-regu_0-eta_0.0001-optmz_rmsprop-batch_16-wght_random</strong> at: <a href='https://wandb.ai/ma23m011-iit-madras/DA6401_Assignment1_ma23m011/runs/ah57t9f3' target=\"_blank\">https://wandb.ai/ma23m011-iit-madras/DA6401_Assignment1_ma23m011/runs/ah57t9f3</a><br> View project at: <a href='https://wandb.ai/ma23m011-iit-madras/DA6401_Assignment1_ma23m011' target=\"_blank\">https://wandb.ai/ma23m011-iit-madras/DA6401_Assignment1_ma23m011</a><br>Synced 5 W&B file(s), 0 media file(s), 0 artifact file(s) and 0 other file(s)"
            ]
          },
          "metadata": {}
        },
        {
          "output_type": "display_data",
          "data": {
            "text/plain": [
              "<IPython.core.display.HTML object>"
            ],
            "text/html": [
              "Find logs at: <code>./wandb/run-20250310_023033-ah57t9f3/logs</code>"
            ]
          },
          "metadata": {}
        },
        {
          "output_type": "stream",
          "name": "stderr",
          "text": [
            "\u001b[34m\u001b[1mwandb\u001b[0m: Agent Starting Run: wpe3aknh with config:\n",
            "\u001b[34m\u001b[1mwandb\u001b[0m: \tactivation: sigmoid\n",
            "\u001b[34m\u001b[1mwandb\u001b[0m: \tbatch_size: 64\n",
            "\u001b[34m\u001b[1mwandb\u001b[0m: \tepochs: 5\n",
            "\u001b[34m\u001b[1mwandb\u001b[0m: \thidden_layers: 5\n",
            "\u001b[34m\u001b[1mwandb\u001b[0m: \thidden_size: 128\n",
            "\u001b[34m\u001b[1mwandb\u001b[0m: \tlearning_rate: 0.001\n",
            "\u001b[34m\u001b[1mwandb\u001b[0m: \toptimizer: mgd\n",
            "\u001b[34m\u001b[1mwandb\u001b[0m: \tweight_decay: 0.0005\n",
            "\u001b[34m\u001b[1mwandb\u001b[0m: \tweight_init: random\n"
          ]
        },
        {
          "output_type": "display_data",
          "data": {
            "text/plain": [
              "<IPython.core.display.HTML object>"
            ],
            "text/html": [
              "Tracking run with wandb version 0.19.7"
            ]
          },
          "metadata": {}
        },
        {
          "output_type": "display_data",
          "data": {
            "text/plain": [
              "<IPython.core.display.HTML object>"
            ],
            "text/html": [
              "Run data is saved locally in <code>/content/wandb/run-20250310_023235-wpe3aknh</code>"
            ]
          },
          "metadata": {}
        },
        {
          "output_type": "display_data",
          "data": {
            "text/plain": [
              "<IPython.core.display.HTML object>"
            ],
            "text/html": [
              "Syncing run <strong><a href='https://wandb.ai/ma23m011-iit-madras/DA6401_Assignment1_ma23m011/runs/wpe3aknh' target=\"_blank\">magic-sweep-63</a></strong> to <a href='https://wandb.ai/ma23m011-iit-madras/DA6401_Assignment1_ma23m011' target=\"_blank\">Weights & Biases</a> (<a href='https://wandb.me/developer-guide' target=\"_blank\">docs</a>)<br>Sweep page: <a href='https://wandb.ai/ma23m011-iit-madras/DA6401_Assignment1_ma23m011/sweeps/augzj4ot' target=\"_blank\">https://wandb.ai/ma23m011-iit-madras/DA6401_Assignment1_ma23m011/sweeps/augzj4ot</a>"
            ]
          },
          "metadata": {}
        },
        {
          "output_type": "display_data",
          "data": {
            "text/plain": [
              "<IPython.core.display.HTML object>"
            ],
            "text/html": [
              " View project at <a href='https://wandb.ai/ma23m011-iit-madras/DA6401_Assignment1_ma23m011' target=\"_blank\">https://wandb.ai/ma23m011-iit-madras/DA6401_Assignment1_ma23m011</a>"
            ]
          },
          "metadata": {}
        },
        {
          "output_type": "display_data",
          "data": {
            "text/plain": [
              "<IPython.core.display.HTML object>"
            ],
            "text/html": [
              " View sweep at <a href='https://wandb.ai/ma23m011-iit-madras/DA6401_Assignment1_ma23m011/sweeps/augzj4ot' target=\"_blank\">https://wandb.ai/ma23m011-iit-madras/DA6401_Assignment1_ma23m011/sweeps/augzj4ot</a>"
            ]
          },
          "metadata": {}
        },
        {
          "output_type": "display_data",
          "data": {
            "text/plain": [
              "<IPython.core.display.HTML object>"
            ],
            "text/html": [
              " View run at <a href='https://wandb.ai/ma23m011-iit-madras/DA6401_Assignment1_ma23m011/runs/wpe3aknh' target=\"_blank\">https://wandb.ai/ma23m011-iit-madras/DA6401_Assignment1_ma23m011/runs/wpe3aknh</a>"
            ]
          },
          "metadata": {}
        },
        {
          "output_type": "stream",
          "name": "stdout",
          "text": [
            "Epoch 1: Train Loss = 2.3095, Train Acc = 10.0833, Val Loss = 2.3115, Val Acc = 9.2500\n",
            "Epoch 2: Train Loss = 2.3095, Train Acc = 10.0833, Val Loss = 2.3115, Val Acc = 9.2500\n",
            "Epoch 3: Train Loss = 2.3095, Train Acc = 10.0833, Val Loss = 2.3115, Val Acc = 9.2500\n",
            "Epoch 4: Train Loss = 2.3095, Train Acc = 10.0833, Val Loss = 2.3115, Val Acc = 9.2500\n",
            "Epoch 5: Train Loss = 2.3095, Train Acc = 10.0833, Val Loss = 2.3115, Val Acc = 9.2500\n"
          ]
        },
        {
          "output_type": "display_data",
          "data": {
            "text/plain": [
              "<IPython.core.display.HTML object>"
            ],
            "text/html": []
          },
          "metadata": {}
        },
        {
          "output_type": "display_data",
          "data": {
            "text/plain": [
              "<IPython.core.display.HTML object>"
            ],
            "text/html": [
              "<br>    <style><br>        .wandb-row {<br>            display: flex;<br>            flex-direction: row;<br>            flex-wrap: wrap;<br>            justify-content: flex-start;<br>            width: 100%;<br>        }<br>        .wandb-col {<br>            display: flex;<br>            flex-direction: column;<br>            flex-basis: 100%;<br>            flex: 1;<br>            padding: 10px;<br>        }<br>    </style><br><div class=\"wandb-row\"><div class=\"wandb-col\"><h3>Run history:</h3><br/><table class=\"wandb\"><tr><td>Train_accuracy</td><td>▁▁▁▁▁</td></tr><tr><td>Train_loss</td><td>▁▁▁▁▁</td></tr><tr><td>Val_accuracy</td><td>▁▁▁▁▁</td></tr><tr><td>Val_loss</td><td>▁▁▁▁▁</td></tr><tr><td>epoch</td><td>▁▃▅▆█</td></tr></table><br/></div><div class=\"wandb-col\"><h3>Run summary:</h3><br/><table class=\"wandb\"><tr><td>Train_accuracy</td><td>10.08333</td></tr><tr><td>Train_loss</td><td>2.30947</td></tr><tr><td>Val_accuracy</td><td>9.25</td></tr><tr><td>Val_loss</td><td>2.3115</td></tr><tr><td>epoch</td><td>5</td></tr></table><br/></div></div>"
            ]
          },
          "metadata": {}
        },
        {
          "output_type": "display_data",
          "data": {
            "text/plain": [
              "<IPython.core.display.HTML object>"
            ],
            "text/html": [
              " View run <strong style=\"color:#cdcd00\">-ac_sigmoid-hs_128-epc_5-hl_5-regu_0.0005-eta_0.001-optmz_mgd-batch_64-wght_random</strong> at: <a href='https://wandb.ai/ma23m011-iit-madras/DA6401_Assignment1_ma23m011/runs/wpe3aknh' target=\"_blank\">https://wandb.ai/ma23m011-iit-madras/DA6401_Assignment1_ma23m011/runs/wpe3aknh</a><br> View project at: <a href='https://wandb.ai/ma23m011-iit-madras/DA6401_Assignment1_ma23m011' target=\"_blank\">https://wandb.ai/ma23m011-iit-madras/DA6401_Assignment1_ma23m011</a><br>Synced 5 W&B file(s), 0 media file(s), 0 artifact file(s) and 0 other file(s)"
            ]
          },
          "metadata": {}
        },
        {
          "output_type": "display_data",
          "data": {
            "text/plain": [
              "<IPython.core.display.HTML object>"
            ],
            "text/html": [
              "Find logs at: <code>./wandb/run-20250310_023235-wpe3aknh/logs</code>"
            ]
          },
          "metadata": {}
        },
        {
          "output_type": "stream",
          "name": "stderr",
          "text": [
            "\u001b[34m\u001b[1mwandb\u001b[0m: Sweep Agent: Waiting for job.\n",
            "\u001b[34m\u001b[1mwandb\u001b[0m: Job received.\n",
            "\u001b[34m\u001b[1mwandb\u001b[0m: Agent Starting Run: go10m92l with config:\n",
            "\u001b[34m\u001b[1mwandb\u001b[0m: \tactivation: sigmoid\n",
            "\u001b[34m\u001b[1mwandb\u001b[0m: \tbatch_size: 32\n",
            "\u001b[34m\u001b[1mwandb\u001b[0m: \tepochs: 10\n",
            "\u001b[34m\u001b[1mwandb\u001b[0m: \thidden_layers: 3\n",
            "\u001b[34m\u001b[1mwandb\u001b[0m: \thidden_size: 128\n",
            "\u001b[34m\u001b[1mwandb\u001b[0m: \tlearning_rate: 0.0001\n",
            "\u001b[34m\u001b[1mwandb\u001b[0m: \toptimizer: nag\n",
            "\u001b[34m\u001b[1mwandb\u001b[0m: \tweight_decay: 0.0005\n",
            "\u001b[34m\u001b[1mwandb\u001b[0m: \tweight_init: random\n"
          ]
        },
        {
          "output_type": "display_data",
          "data": {
            "text/plain": [
              "<IPython.core.display.HTML object>"
            ],
            "text/html": [
              "Tracking run with wandb version 0.19.7"
            ]
          },
          "metadata": {}
        },
        {
          "output_type": "display_data",
          "data": {
            "text/plain": [
              "<IPython.core.display.HTML object>"
            ],
            "text/html": [
              "Run data is saved locally in <code>/content/wandb/run-20250310_023336-go10m92l</code>"
            ]
          },
          "metadata": {}
        },
        {
          "output_type": "display_data",
          "data": {
            "text/plain": [
              "<IPython.core.display.HTML object>"
            ],
            "text/html": [
              "Syncing run <strong><a href='https://wandb.ai/ma23m011-iit-madras/DA6401_Assignment1_ma23m011/runs/go10m92l' target=\"_blank\">clear-sweep-64</a></strong> to <a href='https://wandb.ai/ma23m011-iit-madras/DA6401_Assignment1_ma23m011' target=\"_blank\">Weights & Biases</a> (<a href='https://wandb.me/developer-guide' target=\"_blank\">docs</a>)<br>Sweep page: <a href='https://wandb.ai/ma23m011-iit-madras/DA6401_Assignment1_ma23m011/sweeps/augzj4ot' target=\"_blank\">https://wandb.ai/ma23m011-iit-madras/DA6401_Assignment1_ma23m011/sweeps/augzj4ot</a>"
            ]
          },
          "metadata": {}
        },
        {
          "output_type": "display_data",
          "data": {
            "text/plain": [
              "<IPython.core.display.HTML object>"
            ],
            "text/html": [
              " View project at <a href='https://wandb.ai/ma23m011-iit-madras/DA6401_Assignment1_ma23m011' target=\"_blank\">https://wandb.ai/ma23m011-iit-madras/DA6401_Assignment1_ma23m011</a>"
            ]
          },
          "metadata": {}
        },
        {
          "output_type": "display_data",
          "data": {
            "text/plain": [
              "<IPython.core.display.HTML object>"
            ],
            "text/html": [
              " View sweep at <a href='https://wandb.ai/ma23m011-iit-madras/DA6401_Assignment1_ma23m011/sweeps/augzj4ot' target=\"_blank\">https://wandb.ai/ma23m011-iit-madras/DA6401_Assignment1_ma23m011/sweeps/augzj4ot</a>"
            ]
          },
          "metadata": {}
        },
        {
          "output_type": "display_data",
          "data": {
            "text/plain": [
              "<IPython.core.display.HTML object>"
            ],
            "text/html": [
              " View run at <a href='https://wandb.ai/ma23m011-iit-madras/DA6401_Assignment1_ma23m011/runs/go10m92l' target=\"_blank\">https://wandb.ai/ma23m011-iit-madras/DA6401_Assignment1_ma23m011/runs/go10m92l</a>"
            ]
          },
          "metadata": {}
        },
        {
          "output_type": "stream",
          "name": "stdout",
          "text": [
            "Epoch 1: Train Loss = 2.3090, Train Acc = 10.0296, Val Loss = 2.3090, Val Acc = 9.7333\n",
            "Epoch 2: Train Loss = 2.3090, Train Acc = 10.0296, Val Loss = 2.3090, Val Acc = 9.7333\n",
            "Epoch 3: Train Loss = 2.3090, Train Acc = 10.0296, Val Loss = 2.3090, Val Acc = 9.7333\n",
            "Epoch 4: Train Loss = 2.3090, Train Acc = 10.0296, Val Loss = 2.3090, Val Acc = 9.7333\n",
            "Epoch 5: Train Loss = 2.3090, Train Acc = 10.0296, Val Loss = 2.3090, Val Acc = 9.7333\n",
            "Epoch 6: Train Loss = 2.3090, Train Acc = 10.0296, Val Loss = 2.3090, Val Acc = 9.7333\n",
            "Epoch 7: Train Loss = 2.3090, Train Acc = 10.0296, Val Loss = 2.3090, Val Acc = 9.7333\n",
            "Epoch 8: Train Loss = 2.3090, Train Acc = 10.0296, Val Loss = 2.3090, Val Acc = 9.7333\n",
            "Epoch 9: Train Loss = 2.3090, Train Acc = 10.0296, Val Loss = 2.3090, Val Acc = 9.7333\n",
            "Epoch 10: Train Loss = 2.3090, Train Acc = 10.0296, Val Loss = 2.3090, Val Acc = 9.7333\n"
          ]
        },
        {
          "output_type": "display_data",
          "data": {
            "text/plain": [
              "<IPython.core.display.HTML object>"
            ],
            "text/html": []
          },
          "metadata": {}
        },
        {
          "output_type": "display_data",
          "data": {
            "text/plain": [
              "<IPython.core.display.HTML object>"
            ],
            "text/html": [
              "<br>    <style><br>        .wandb-row {<br>            display: flex;<br>            flex-direction: row;<br>            flex-wrap: wrap;<br>            justify-content: flex-start;<br>            width: 100%;<br>        }<br>        .wandb-col {<br>            display: flex;<br>            flex-direction: column;<br>            flex-basis: 100%;<br>            flex: 1;<br>            padding: 10px;<br>        }<br>    </style><br><div class=\"wandb-row\"><div class=\"wandb-col\"><h3>Run history:</h3><br/><table class=\"wandb\"><tr><td>Train_accuracy</td><td>▁▁▁▁▁▁▁▁▁▁</td></tr><tr><td>Train_loss</td><td>▁▁▁▁▁▁▁▁▁▁</td></tr><tr><td>Val_accuracy</td><td>▁▁▁▁▁▁▁▁▁▁</td></tr><tr><td>Val_loss</td><td>▁▁▁▁▁▁▁▁▁▁</td></tr><tr><td>epoch</td><td>▁▂▃▃▄▅▆▆▇█</td></tr></table><br/></div><div class=\"wandb-col\"><h3>Run summary:</h3><br/><table class=\"wandb\"><tr><td>Train_accuracy</td><td>10.02963</td></tr><tr><td>Train_loss</td><td>2.30903</td></tr><tr><td>Val_accuracy</td><td>9.73333</td></tr><tr><td>Val_loss</td><td>2.30899</td></tr><tr><td>epoch</td><td>10</td></tr></table><br/></div></div>"
            ]
          },
          "metadata": {}
        },
        {
          "output_type": "display_data",
          "data": {
            "text/plain": [
              "<IPython.core.display.HTML object>"
            ],
            "text/html": [
              " View run <strong style=\"color:#cdcd00\">-ac_sigmoid-hs_128-epc_10-hl_3-regu_0.0005-eta_0.0001-optmz_nag-batch_32-wght_random</strong> at: <a href='https://wandb.ai/ma23m011-iit-madras/DA6401_Assignment1_ma23m011/runs/go10m92l' target=\"_blank\">https://wandb.ai/ma23m011-iit-madras/DA6401_Assignment1_ma23m011/runs/go10m92l</a><br> View project at: <a href='https://wandb.ai/ma23m011-iit-madras/DA6401_Assignment1_ma23m011' target=\"_blank\">https://wandb.ai/ma23m011-iit-madras/DA6401_Assignment1_ma23m011</a><br>Synced 5 W&B file(s), 0 media file(s), 0 artifact file(s) and 0 other file(s)"
            ]
          },
          "metadata": {}
        },
        {
          "output_type": "display_data",
          "data": {
            "text/plain": [
              "<IPython.core.display.HTML object>"
            ],
            "text/html": [
              "Find logs at: <code>./wandb/run-20250310_023336-go10m92l/logs</code>"
            ]
          },
          "metadata": {}
        },
        {
          "output_type": "stream",
          "name": "stderr",
          "text": [
            "\u001b[34m\u001b[1mwandb\u001b[0m: Agent Starting Run: dx0vrx9x with config:\n",
            "\u001b[34m\u001b[1mwandb\u001b[0m: \tactivation: sigmoid\n",
            "\u001b[34m\u001b[1mwandb\u001b[0m: \tbatch_size: 16\n",
            "\u001b[34m\u001b[1mwandb\u001b[0m: \tepochs: 10\n",
            "\u001b[34m\u001b[1mwandb\u001b[0m: \thidden_layers: 4\n",
            "\u001b[34m\u001b[1mwandb\u001b[0m: \thidden_size: 32\n",
            "\u001b[34m\u001b[1mwandb\u001b[0m: \tlearning_rate: 0.0001\n",
            "\u001b[34m\u001b[1mwandb\u001b[0m: \toptimizer: sgd\n",
            "\u001b[34m\u001b[1mwandb\u001b[0m: \tweight_decay: 0.5\n",
            "\u001b[34m\u001b[1mwandb\u001b[0m: \tweight_init: random\n"
          ]
        },
        {
          "output_type": "display_data",
          "data": {
            "text/plain": [
              "<IPython.core.display.HTML object>"
            ],
            "text/html": [
              "Tracking run with wandb version 0.19.7"
            ]
          },
          "metadata": {}
        },
        {
          "output_type": "display_data",
          "data": {
            "text/plain": [
              "<IPython.core.display.HTML object>"
            ],
            "text/html": [
              "Run data is saved locally in <code>/content/wandb/run-20250310_023508-dx0vrx9x</code>"
            ]
          },
          "metadata": {}
        },
        {
          "output_type": "display_data",
          "data": {
            "text/plain": [
              "<IPython.core.display.HTML object>"
            ],
            "text/html": [
              "Syncing run <strong><a href='https://wandb.ai/ma23m011-iit-madras/DA6401_Assignment1_ma23m011/runs/dx0vrx9x' target=\"_blank\">youthful-sweep-65</a></strong> to <a href='https://wandb.ai/ma23m011-iit-madras/DA6401_Assignment1_ma23m011' target=\"_blank\">Weights & Biases</a> (<a href='https://wandb.me/developer-guide' target=\"_blank\">docs</a>)<br>Sweep page: <a href='https://wandb.ai/ma23m011-iit-madras/DA6401_Assignment1_ma23m011/sweeps/augzj4ot' target=\"_blank\">https://wandb.ai/ma23m011-iit-madras/DA6401_Assignment1_ma23m011/sweeps/augzj4ot</a>"
            ]
          },
          "metadata": {}
        },
        {
          "output_type": "display_data",
          "data": {
            "text/plain": [
              "<IPython.core.display.HTML object>"
            ],
            "text/html": [
              " View project at <a href='https://wandb.ai/ma23m011-iit-madras/DA6401_Assignment1_ma23m011' target=\"_blank\">https://wandb.ai/ma23m011-iit-madras/DA6401_Assignment1_ma23m011</a>"
            ]
          },
          "metadata": {}
        },
        {
          "output_type": "display_data",
          "data": {
            "text/plain": [
              "<IPython.core.display.HTML object>"
            ],
            "text/html": [
              " View sweep at <a href='https://wandb.ai/ma23m011-iit-madras/DA6401_Assignment1_ma23m011/sweeps/augzj4ot' target=\"_blank\">https://wandb.ai/ma23m011-iit-madras/DA6401_Assignment1_ma23m011/sweeps/augzj4ot</a>"
            ]
          },
          "metadata": {}
        },
        {
          "output_type": "display_data",
          "data": {
            "text/plain": [
              "<IPython.core.display.HTML object>"
            ],
            "text/html": [
              " View run at <a href='https://wandb.ai/ma23m011-iit-madras/DA6401_Assignment1_ma23m011/runs/dx0vrx9x' target=\"_blank\">https://wandb.ai/ma23m011-iit-madras/DA6401_Assignment1_ma23m011/runs/dx0vrx9x</a>"
            ]
          },
          "metadata": {}
        },
        {
          "output_type": "stream",
          "name": "stdout",
          "text": [
            "Epoch 1: Train Loss = 2.8152, Train Acc = 9.9963, Val Loss = 2.8154, Val Acc = 10.0333\n",
            "Epoch 2: Train Loss = 2.6685, Train Acc = 10.0648, Val Loss = 2.6691, Val Acc = 9.4167\n",
            "Epoch 3: Train Loss = 2.5638, Train Acc = 10.0167, Val Loss = 2.5643, Val Acc = 9.8500\n",
            "Epoch 4: Train Loss = 2.4889, Train Acc = 9.9704, Val Loss = 2.4889, Val Acc = 10.2667\n",
            "Epoch 5: Train Loss = 2.4356, Train Acc = 10.0648, Val Loss = 2.4361, Val Acc = 9.4167\n",
            "Epoch 6: Train Loss = 2.3978, Train Acc = 10.0648, Val Loss = 2.3990, Val Acc = 9.4167\n",
            "Epoch 7: Train Loss = 2.3704, Train Acc = 10.0167, Val Loss = 2.3707, Val Acc = 9.8500\n",
            "Epoch 8: Train Loss = 2.3511, Train Acc = 9.9389, Val Loss = 2.3510, Val Acc = 10.5500\n",
            "Epoch 9: Train Loss = 2.3371, Train Acc = 9.9444, Val Loss = 2.3370, Val Acc = 10.5000\n",
            "Epoch 10: Train Loss = 2.3273, Train Acc = 10.0167, Val Loss = 2.3278, Val Acc = 9.8500\n"
          ]
        },
        {
          "output_type": "display_data",
          "data": {
            "text/plain": [
              "<IPython.core.display.HTML object>"
            ],
            "text/html": []
          },
          "metadata": {}
        },
        {
          "output_type": "display_data",
          "data": {
            "text/plain": [
              "<IPython.core.display.HTML object>"
            ],
            "text/html": [
              "<br>    <style><br>        .wandb-row {<br>            display: flex;<br>            flex-direction: row;<br>            flex-wrap: wrap;<br>            justify-content: flex-start;<br>            width: 100%;<br>        }<br>        .wandb-col {<br>            display: flex;<br>            flex-direction: column;<br>            flex-basis: 100%;<br>            flex: 1;<br>            padding: 10px;<br>        }<br>    </style><br><div class=\"wandb-row\"><div class=\"wandb-col\"><h3>Run history:</h3><br/><table class=\"wandb\"><tr><td>Train_accuracy</td><td>▄█▅▃██▅▁▁▅</td></tr><tr><td>Train_loss</td><td>█▆▄▃▃▂▂▁▁▁</td></tr><tr><td>Val_accuracy</td><td>▅▁▄▆▁▁▄██▄</td></tr><tr><td>Val_loss</td><td>█▆▄▃▃▂▂▁▁▁</td></tr><tr><td>epoch</td><td>▁▂▃▃▄▅▆▆▇█</td></tr></table><br/></div><div class=\"wandb-col\"><h3>Run summary:</h3><br/><table class=\"wandb\"><tr><td>Train_accuracy</td><td>10.01667</td></tr><tr><td>Train_loss</td><td>2.32735</td></tr><tr><td>Val_accuracy</td><td>9.85</td></tr><tr><td>Val_loss</td><td>2.32782</td></tr><tr><td>epoch</td><td>10</td></tr></table><br/></div></div>"
            ]
          },
          "metadata": {}
        },
        {
          "output_type": "display_data",
          "data": {
            "text/plain": [
              "<IPython.core.display.HTML object>"
            ],
            "text/html": [
              " View run <strong style=\"color:#cdcd00\">-ac_sigmoid-hs_32-epc_10-hl_4-regu_0.5-eta_0.0001-optmz_sgd-batch_16-wght_random</strong> at: <a href='https://wandb.ai/ma23m011-iit-madras/DA6401_Assignment1_ma23m011/runs/dx0vrx9x' target=\"_blank\">https://wandb.ai/ma23m011-iit-madras/DA6401_Assignment1_ma23m011/runs/dx0vrx9x</a><br> View project at: <a href='https://wandb.ai/ma23m011-iit-madras/DA6401_Assignment1_ma23m011' target=\"_blank\">https://wandb.ai/ma23m011-iit-madras/DA6401_Assignment1_ma23m011</a><br>Synced 5 W&B file(s), 0 media file(s), 0 artifact file(s) and 0 other file(s)"
            ]
          },
          "metadata": {}
        },
        {
          "output_type": "display_data",
          "data": {
            "text/plain": [
              "<IPython.core.display.HTML object>"
            ],
            "text/html": [
              "Find logs at: <code>./wandb/run-20250310_023508-dx0vrx9x/logs</code>"
            ]
          },
          "metadata": {}
        },
        {
          "output_type": "stream",
          "name": "stderr",
          "text": [
            "\u001b[34m\u001b[1mwandb\u001b[0m: Agent Starting Run: s89s5usw with config:\n",
            "\u001b[34m\u001b[1mwandb\u001b[0m: \tactivation: relu\n",
            "\u001b[34m\u001b[1mwandb\u001b[0m: \tbatch_size: 16\n",
            "\u001b[34m\u001b[1mwandb\u001b[0m: \tepochs: 5\n",
            "\u001b[34m\u001b[1mwandb\u001b[0m: \thidden_layers: 5\n",
            "\u001b[34m\u001b[1mwandb\u001b[0m: \thidden_size: 64\n",
            "\u001b[34m\u001b[1mwandb\u001b[0m: \tlearning_rate: 0.0001\n",
            "\u001b[34m\u001b[1mwandb\u001b[0m: \toptimizer: adam\n",
            "\u001b[34m\u001b[1mwandb\u001b[0m: \tweight_decay: 0.5\n",
            "\u001b[34m\u001b[1mwandb\u001b[0m: \tweight_init: xavier\n"
          ]
        },
        {
          "output_type": "display_data",
          "data": {
            "text/plain": [
              "<IPython.core.display.HTML object>"
            ],
            "text/html": [
              "Tracking run with wandb version 0.19.7"
            ]
          },
          "metadata": {}
        },
        {
          "output_type": "display_data",
          "data": {
            "text/plain": [
              "<IPython.core.display.HTML object>"
            ],
            "text/html": [
              "Run data is saved locally in <code>/content/wandb/run-20250310_023604-s89s5usw</code>"
            ]
          },
          "metadata": {}
        },
        {
          "output_type": "display_data",
          "data": {
            "text/plain": [
              "<IPython.core.display.HTML object>"
            ],
            "text/html": [
              "Syncing run <strong><a href='https://wandb.ai/ma23m011-iit-madras/DA6401_Assignment1_ma23m011/runs/s89s5usw' target=\"_blank\">genial-sweep-66</a></strong> to <a href='https://wandb.ai/ma23m011-iit-madras/DA6401_Assignment1_ma23m011' target=\"_blank\">Weights & Biases</a> (<a href='https://wandb.me/developer-guide' target=\"_blank\">docs</a>)<br>Sweep page: <a href='https://wandb.ai/ma23m011-iit-madras/DA6401_Assignment1_ma23m011/sweeps/augzj4ot' target=\"_blank\">https://wandb.ai/ma23m011-iit-madras/DA6401_Assignment1_ma23m011/sweeps/augzj4ot</a>"
            ]
          },
          "metadata": {}
        },
        {
          "output_type": "display_data",
          "data": {
            "text/plain": [
              "<IPython.core.display.HTML object>"
            ],
            "text/html": [
              " View project at <a href='https://wandb.ai/ma23m011-iit-madras/DA6401_Assignment1_ma23m011' target=\"_blank\">https://wandb.ai/ma23m011-iit-madras/DA6401_Assignment1_ma23m011</a>"
            ]
          },
          "metadata": {}
        },
        {
          "output_type": "display_data",
          "data": {
            "text/plain": [
              "<IPython.core.display.HTML object>"
            ],
            "text/html": [
              " View sweep at <a href='https://wandb.ai/ma23m011-iit-madras/DA6401_Assignment1_ma23m011/sweeps/augzj4ot' target=\"_blank\">https://wandb.ai/ma23m011-iit-madras/DA6401_Assignment1_ma23m011/sweeps/augzj4ot</a>"
            ]
          },
          "metadata": {}
        },
        {
          "output_type": "display_data",
          "data": {
            "text/plain": [
              "<IPython.core.display.HTML object>"
            ],
            "text/html": [
              " View run at <a href='https://wandb.ai/ma23m011-iit-madras/DA6401_Assignment1_ma23m011/runs/s89s5usw' target=\"_blank\">https://wandb.ai/ma23m011-iit-madras/DA6401_Assignment1_ma23m011/runs/s89s5usw</a>"
            ]
          },
          "metadata": {}
        },
        {
          "output_type": "stream",
          "name": "stdout",
          "text": [
            "Epoch 1: Train Loss = 22.7030, Train Acc = 77.5500, Val Loss = 22.7028, Val Acc = 77.4000\n",
            "Epoch 2: Train Loss = 17.4345, Train Acc = 79.6574, Val Loss = 17.4341, Val Acc = 79.3167\n",
            "Epoch 3: Train Loss = 15.2125, Train Acc = 79.6796, Val Loss = 15.2086, Val Acc = 79.6500\n",
            "Epoch 4: Train Loss = 14.0184, Train Acc = 80.2593, Val Loss = 14.0179, Val Acc = 80.1333\n",
            "Epoch 5: Train Loss = 13.2884, Train Acc = 81.0389, Val Loss = 13.2885, Val Acc = 80.8667\n"
          ]
        },
        {
          "output_type": "display_data",
          "data": {
            "text/plain": [
              "<IPython.core.display.HTML object>"
            ],
            "text/html": []
          },
          "metadata": {}
        },
        {
          "output_type": "display_data",
          "data": {
            "text/plain": [
              "<IPython.core.display.HTML object>"
            ],
            "text/html": [
              "<br>    <style><br>        .wandb-row {<br>            display: flex;<br>            flex-direction: row;<br>            flex-wrap: wrap;<br>            justify-content: flex-start;<br>            width: 100%;<br>        }<br>        .wandb-col {<br>            display: flex;<br>            flex-direction: column;<br>            flex-basis: 100%;<br>            flex: 1;<br>            padding: 10px;<br>        }<br>    </style><br><div class=\"wandb-row\"><div class=\"wandb-col\"><h3>Run history:</h3><br/><table class=\"wandb\"><tr><td>Train_accuracy</td><td>▁▅▅▆█</td></tr><tr><td>Train_loss</td><td>█▄▂▂▁</td></tr><tr><td>Val_accuracy</td><td>▁▅▆▇█</td></tr><tr><td>Val_loss</td><td>█▄▂▂▁</td></tr><tr><td>epoch</td><td>▁▃▅▆█</td></tr></table><br/></div><div class=\"wandb-col\"><h3>Run summary:</h3><br/><table class=\"wandb\"><tr><td>Train_accuracy</td><td>81.03889</td></tr><tr><td>Train_loss</td><td>13.28844</td></tr><tr><td>Val_accuracy</td><td>80.86667</td></tr><tr><td>Val_loss</td><td>13.28846</td></tr><tr><td>epoch</td><td>5</td></tr></table><br/></div></div>"
            ]
          },
          "metadata": {}
        },
        {
          "output_type": "display_data",
          "data": {
            "text/plain": [
              "<IPython.core.display.HTML object>"
            ],
            "text/html": [
              " View run <strong style=\"color:#cdcd00\">-ac_relu-hs_64-epc_5-hl_5-regu_0.5-eta_0.0001-optmz_adam-batch_16-wght_xavier</strong> at: <a href='https://wandb.ai/ma23m011-iit-madras/DA6401_Assignment1_ma23m011/runs/s89s5usw' target=\"_blank\">https://wandb.ai/ma23m011-iit-madras/DA6401_Assignment1_ma23m011/runs/s89s5usw</a><br> View project at: <a href='https://wandb.ai/ma23m011-iit-madras/DA6401_Assignment1_ma23m011' target=\"_blank\">https://wandb.ai/ma23m011-iit-madras/DA6401_Assignment1_ma23m011</a><br>Synced 5 W&B file(s), 0 media file(s), 0 artifact file(s) and 0 other file(s)"
            ]
          },
          "metadata": {}
        },
        {
          "output_type": "display_data",
          "data": {
            "text/plain": [
              "<IPython.core.display.HTML object>"
            ],
            "text/html": [
              "Find logs at: <code>./wandb/run-20250310_023604-s89s5usw/logs</code>"
            ]
          },
          "metadata": {}
        },
        {
          "output_type": "stream",
          "name": "stderr",
          "text": [
            "\u001b[34m\u001b[1mwandb\u001b[0m: Agent Starting Run: o4gqkhjc with config:\n",
            "\u001b[34m\u001b[1mwandb\u001b[0m: \tactivation: tanh\n",
            "\u001b[34m\u001b[1mwandb\u001b[0m: \tbatch_size: 32\n",
            "\u001b[34m\u001b[1mwandb\u001b[0m: \tepochs: 5\n",
            "\u001b[34m\u001b[1mwandb\u001b[0m: \thidden_layers: 5\n",
            "\u001b[34m\u001b[1mwandb\u001b[0m: \thidden_size: 128\n",
            "\u001b[34m\u001b[1mwandb\u001b[0m: \tlearning_rate: 0.001\n",
            "\u001b[34m\u001b[1mwandb\u001b[0m: \toptimizer: nadam\n",
            "\u001b[34m\u001b[1mwandb\u001b[0m: \tweight_decay: 0.0005\n",
            "\u001b[34m\u001b[1mwandb\u001b[0m: \tweight_init: xavier\n"
          ]
        },
        {
          "output_type": "display_data",
          "data": {
            "text/plain": [
              "<IPython.core.display.HTML object>"
            ],
            "text/html": [
              "Tracking run with wandb version 0.19.7"
            ]
          },
          "metadata": {}
        },
        {
          "output_type": "display_data",
          "data": {
            "text/plain": [
              "<IPython.core.display.HTML object>"
            ],
            "text/html": [
              "Run data is saved locally in <code>/content/wandb/run-20250310_023710-o4gqkhjc</code>"
            ]
          },
          "metadata": {}
        },
        {
          "output_type": "display_data",
          "data": {
            "text/plain": [
              "<IPython.core.display.HTML object>"
            ],
            "text/html": [
              "Syncing run <strong><a href='https://wandb.ai/ma23m011-iit-madras/DA6401_Assignment1_ma23m011/runs/o4gqkhjc' target=\"_blank\">rose-sweep-67</a></strong> to <a href='https://wandb.ai/ma23m011-iit-madras/DA6401_Assignment1_ma23m011' target=\"_blank\">Weights & Biases</a> (<a href='https://wandb.me/developer-guide' target=\"_blank\">docs</a>)<br>Sweep page: <a href='https://wandb.ai/ma23m011-iit-madras/DA6401_Assignment1_ma23m011/sweeps/augzj4ot' target=\"_blank\">https://wandb.ai/ma23m011-iit-madras/DA6401_Assignment1_ma23m011/sweeps/augzj4ot</a>"
            ]
          },
          "metadata": {}
        },
        {
          "output_type": "display_data",
          "data": {
            "text/plain": [
              "<IPython.core.display.HTML object>"
            ],
            "text/html": [
              " View project at <a href='https://wandb.ai/ma23m011-iit-madras/DA6401_Assignment1_ma23m011' target=\"_blank\">https://wandb.ai/ma23m011-iit-madras/DA6401_Assignment1_ma23m011</a>"
            ]
          },
          "metadata": {}
        },
        {
          "output_type": "display_data",
          "data": {
            "text/plain": [
              "<IPython.core.display.HTML object>"
            ],
            "text/html": [
              " View sweep at <a href='https://wandb.ai/ma23m011-iit-madras/DA6401_Assignment1_ma23m011/sweeps/augzj4ot' target=\"_blank\">https://wandb.ai/ma23m011-iit-madras/DA6401_Assignment1_ma23m011/sweeps/augzj4ot</a>"
            ]
          },
          "metadata": {}
        },
        {
          "output_type": "display_data",
          "data": {
            "text/plain": [
              "<IPython.core.display.HTML object>"
            ],
            "text/html": [
              " View run at <a href='https://wandb.ai/ma23m011-iit-madras/DA6401_Assignment1_ma23m011/runs/o4gqkhjc' target=\"_blank\">https://wandb.ai/ma23m011-iit-madras/DA6401_Assignment1_ma23m011/runs/o4gqkhjc</a>"
            ]
          },
          "metadata": {}
        },
        {
          "output_type": "stream",
          "name": "stdout",
          "text": [
            "Epoch 1: Train Loss = nan, Train Acc = 9.9444, Val Loss = nan, Val Acc = 10.5000\n",
            "Epoch 2: Train Loss = nan, Train Acc = 9.9444, Val Loss = nan, Val Acc = 10.5000\n",
            "Epoch 3: Train Loss = nan, Train Acc = 9.9444, Val Loss = nan, Val Acc = 10.5000\n",
            "Epoch 4: Train Loss = nan, Train Acc = 9.9444, Val Loss = nan, Val Acc = 10.5000\n",
            "Epoch 5: Train Loss = nan, Train Acc = 9.9444, Val Loss = nan, Val Acc = 10.5000\n"
          ]
        },
        {
          "output_type": "display_data",
          "data": {
            "text/plain": [
              "<IPython.core.display.HTML object>"
            ],
            "text/html": []
          },
          "metadata": {}
        },
        {
          "output_type": "display_data",
          "data": {
            "text/plain": [
              "<IPython.core.display.HTML object>"
            ],
            "text/html": [
              "<br>    <style><br>        .wandb-row {<br>            display: flex;<br>            flex-direction: row;<br>            flex-wrap: wrap;<br>            justify-content: flex-start;<br>            width: 100%;<br>        }<br>        .wandb-col {<br>            display: flex;<br>            flex-direction: column;<br>            flex-basis: 100%;<br>            flex: 1;<br>            padding: 10px;<br>        }<br>    </style><br><div class=\"wandb-row\"><div class=\"wandb-col\"><h3>Run history:</h3><br/><table class=\"wandb\"><tr><td>Train_accuracy</td><td>▁▁▁▁▁</td></tr><tr><td>Val_accuracy</td><td>▁▁▁▁▁</td></tr><tr><td>epoch</td><td>▁▃▅▆█</td></tr></table><br/></div><div class=\"wandb-col\"><h3>Run summary:</h3><br/><table class=\"wandb\"><tr><td>Train_accuracy</td><td>9.94444</td></tr><tr><td>Train_loss</td><td>nan</td></tr><tr><td>Val_accuracy</td><td>10.5</td></tr><tr><td>Val_loss</td><td>nan</td></tr><tr><td>epoch</td><td>5</td></tr></table><br/></div></div>"
            ]
          },
          "metadata": {}
        },
        {
          "output_type": "display_data",
          "data": {
            "text/plain": [
              "<IPython.core.display.HTML object>"
            ],
            "text/html": [
              " View run <strong style=\"color:#cdcd00\">-ac_tanh-hs_128-epc_5-hl_5-regu_0.0005-eta_0.001-optmz_nadam-batch_32-wght_xavier</strong> at: <a href='https://wandb.ai/ma23m011-iit-madras/DA6401_Assignment1_ma23m011/runs/o4gqkhjc' target=\"_blank\">https://wandb.ai/ma23m011-iit-madras/DA6401_Assignment1_ma23m011/runs/o4gqkhjc</a><br> View project at: <a href='https://wandb.ai/ma23m011-iit-madras/DA6401_Assignment1_ma23m011' target=\"_blank\">https://wandb.ai/ma23m011-iit-madras/DA6401_Assignment1_ma23m011</a><br>Synced 5 W&B file(s), 0 media file(s), 0 artifact file(s) and 0 other file(s)"
            ]
          },
          "metadata": {}
        },
        {
          "output_type": "display_data",
          "data": {
            "text/plain": [
              "<IPython.core.display.HTML object>"
            ],
            "text/html": [
              "Find logs at: <code>./wandb/run-20250310_023710-o4gqkhjc/logs</code>"
            ]
          },
          "metadata": {}
        },
        {
          "output_type": "stream",
          "name": "stderr",
          "text": [
            "\u001b[34m\u001b[1mwandb\u001b[0m: Agent Starting Run: 5w1ry5c6 with config:\n",
            "\u001b[34m\u001b[1mwandb\u001b[0m: \tactivation: relu\n",
            "\u001b[34m\u001b[1mwandb\u001b[0m: \tbatch_size: 64\n",
            "\u001b[34m\u001b[1mwandb\u001b[0m: \tepochs: 5\n",
            "\u001b[34m\u001b[1mwandb\u001b[0m: \thidden_layers: 3\n",
            "\u001b[34m\u001b[1mwandb\u001b[0m: \thidden_size: 32\n",
            "\u001b[34m\u001b[1mwandb\u001b[0m: \tlearning_rate: 0.0001\n",
            "\u001b[34m\u001b[1mwandb\u001b[0m: \toptimizer: adam\n",
            "\u001b[34m\u001b[1mwandb\u001b[0m: \tweight_decay: 0.0005\n",
            "\u001b[34m\u001b[1mwandb\u001b[0m: \tweight_init: xavier\n"
          ]
        },
        {
          "output_type": "display_data",
          "data": {
            "text/plain": [
              "<IPython.core.display.HTML object>"
            ],
            "text/html": [
              "Tracking run with wandb version 0.19.7"
            ]
          },
          "metadata": {}
        },
        {
          "output_type": "display_data",
          "data": {
            "text/plain": [
              "<IPython.core.display.HTML object>"
            ],
            "text/html": [
              "Run data is saved locally in <code>/content/wandb/run-20250310_023907-5w1ry5c6</code>"
            ]
          },
          "metadata": {}
        },
        {
          "output_type": "display_data",
          "data": {
            "text/plain": [
              "<IPython.core.display.HTML object>"
            ],
            "text/html": [
              "Syncing run <strong><a href='https://wandb.ai/ma23m011-iit-madras/DA6401_Assignment1_ma23m011/runs/5w1ry5c6' target=\"_blank\">hopeful-sweep-68</a></strong> to <a href='https://wandb.ai/ma23m011-iit-madras/DA6401_Assignment1_ma23m011' target=\"_blank\">Weights & Biases</a> (<a href='https://wandb.me/developer-guide' target=\"_blank\">docs</a>)<br>Sweep page: <a href='https://wandb.ai/ma23m011-iit-madras/DA6401_Assignment1_ma23m011/sweeps/augzj4ot' target=\"_blank\">https://wandb.ai/ma23m011-iit-madras/DA6401_Assignment1_ma23m011/sweeps/augzj4ot</a>"
            ]
          },
          "metadata": {}
        },
        {
          "output_type": "display_data",
          "data": {
            "text/plain": [
              "<IPython.core.display.HTML object>"
            ],
            "text/html": [
              " View project at <a href='https://wandb.ai/ma23m011-iit-madras/DA6401_Assignment1_ma23m011' target=\"_blank\">https://wandb.ai/ma23m011-iit-madras/DA6401_Assignment1_ma23m011</a>"
            ]
          },
          "metadata": {}
        },
        {
          "output_type": "display_data",
          "data": {
            "text/plain": [
              "<IPython.core.display.HTML object>"
            ],
            "text/html": [
              " View sweep at <a href='https://wandb.ai/ma23m011-iit-madras/DA6401_Assignment1_ma23m011/sweeps/augzj4ot' target=\"_blank\">https://wandb.ai/ma23m011-iit-madras/DA6401_Assignment1_ma23m011/sweeps/augzj4ot</a>"
            ]
          },
          "metadata": {}
        },
        {
          "output_type": "display_data",
          "data": {
            "text/plain": [
              "<IPython.core.display.HTML object>"
            ],
            "text/html": [
              " View run at <a href='https://wandb.ai/ma23m011-iit-madras/DA6401_Assignment1_ma23m011/runs/5w1ry5c6' target=\"_blank\">https://wandb.ai/ma23m011-iit-madras/DA6401_Assignment1_ma23m011/runs/5w1ry5c6</a>"
            ]
          },
          "metadata": {}
        },
        {
          "output_type": "stream",
          "name": "stdout",
          "text": [
            "Epoch 1: Train Loss = 0.7682, Train Acc = 72.6907, Val Loss = 0.7568, Val Acc = 73.4000\n",
            "Epoch 2: Train Loss = 0.6313, Train Acc = 79.3944, Val Loss = 0.6285, Val Acc = 79.2500\n",
            "Epoch 3: Train Loss = 0.5612, Train Acc = 81.9907, Val Loss = 0.5618, Val Acc = 81.2833\n",
            "Epoch 4: Train Loss = 0.5266, Train Acc = 83.3352, Val Loss = 0.5296, Val Acc = 82.9167\n",
            "Epoch 5: Train Loss = 0.5030, Train Acc = 84.0593, Val Loss = 0.5069, Val Acc = 83.2667\n"
          ]
        },
        {
          "output_type": "display_data",
          "data": {
            "text/plain": [
              "<IPython.core.display.HTML object>"
            ],
            "text/html": []
          },
          "metadata": {}
        },
        {
          "output_type": "display_data",
          "data": {
            "text/plain": [
              "<IPython.core.display.HTML object>"
            ],
            "text/html": [
              "<br>    <style><br>        .wandb-row {<br>            display: flex;<br>            flex-direction: row;<br>            flex-wrap: wrap;<br>            justify-content: flex-start;<br>            width: 100%;<br>        }<br>        .wandb-col {<br>            display: flex;<br>            flex-direction: column;<br>            flex-basis: 100%;<br>            flex: 1;<br>            padding: 10px;<br>        }<br>    </style><br><div class=\"wandb-row\"><div class=\"wandb-col\"><h3>Run history:</h3><br/><table class=\"wandb\"><tr><td>Train_accuracy</td><td>▁▅▇██</td></tr><tr><td>Train_loss</td><td>█▄▃▂▁</td></tr><tr><td>Val_accuracy</td><td>▁▅▇██</td></tr><tr><td>Val_loss</td><td>█▄▃▂▁</td></tr><tr><td>epoch</td><td>▁▃▅▆█</td></tr></table><br/></div><div class=\"wandb-col\"><h3>Run summary:</h3><br/><table class=\"wandb\"><tr><td>Train_accuracy</td><td>84.05926</td></tr><tr><td>Train_loss</td><td>0.50298</td></tr><tr><td>Val_accuracy</td><td>83.26667</td></tr><tr><td>Val_loss</td><td>0.50686</td></tr><tr><td>epoch</td><td>5</td></tr></table><br/></div></div>"
            ]
          },
          "metadata": {}
        },
        {
          "output_type": "display_data",
          "data": {
            "text/plain": [
              "<IPython.core.display.HTML object>"
            ],
            "text/html": [
              " View run <strong style=\"color:#cdcd00\">-ac_relu-hs_32-epc_5-hl_3-regu_0.0005-eta_0.0001-optmz_adam-batch_64-wght_xavier</strong> at: <a href='https://wandb.ai/ma23m011-iit-madras/DA6401_Assignment1_ma23m011/runs/5w1ry5c6' target=\"_blank\">https://wandb.ai/ma23m011-iit-madras/DA6401_Assignment1_ma23m011/runs/5w1ry5c6</a><br> View project at: <a href='https://wandb.ai/ma23m011-iit-madras/DA6401_Assignment1_ma23m011' target=\"_blank\">https://wandb.ai/ma23m011-iit-madras/DA6401_Assignment1_ma23m011</a><br>Synced 5 W&B file(s), 0 media file(s), 0 artifact file(s) and 0 other file(s)"
            ]
          },
          "metadata": {}
        },
        {
          "output_type": "display_data",
          "data": {
            "text/plain": [
              "<IPython.core.display.HTML object>"
            ],
            "text/html": [
              "Find logs at: <code>./wandb/run-20250310_023907-5w1ry5c6/logs</code>"
            ]
          },
          "metadata": {}
        },
        {
          "output_type": "stream",
          "name": "stderr",
          "text": [
            "\u001b[34m\u001b[1mwandb\u001b[0m: Agent Starting Run: tb2gf883 with config:\n",
            "\u001b[34m\u001b[1mwandb\u001b[0m: \tactivation: tanh\n",
            "\u001b[34m\u001b[1mwandb\u001b[0m: \tbatch_size: 16\n",
            "\u001b[34m\u001b[1mwandb\u001b[0m: \tepochs: 10\n",
            "\u001b[34m\u001b[1mwandb\u001b[0m: \thidden_layers: 3\n",
            "\u001b[34m\u001b[1mwandb\u001b[0m: \thidden_size: 128\n",
            "\u001b[34m\u001b[1mwandb\u001b[0m: \tlearning_rate: 0.0001\n",
            "\u001b[34m\u001b[1mwandb\u001b[0m: \toptimizer: rmsprop\n",
            "\u001b[34m\u001b[1mwandb\u001b[0m: \tweight_decay: 0.5\n",
            "\u001b[34m\u001b[1mwandb\u001b[0m: \tweight_init: random\n"
          ]
        },
        {
          "output_type": "display_data",
          "data": {
            "text/plain": [
              "<IPython.core.display.HTML object>"
            ],
            "text/html": [
              "Tracking run with wandb version 0.19.7"
            ]
          },
          "metadata": {}
        },
        {
          "output_type": "display_data",
          "data": {
            "text/plain": [
              "<IPython.core.display.HTML object>"
            ],
            "text/html": [
              "Run data is saved locally in <code>/content/wandb/run-20250310_023928-tb2gf883</code>"
            ]
          },
          "metadata": {}
        },
        {
          "output_type": "display_data",
          "data": {
            "text/plain": [
              "<IPython.core.display.HTML object>"
            ],
            "text/html": [
              "Syncing run <strong><a href='https://wandb.ai/ma23m011-iit-madras/DA6401_Assignment1_ma23m011/runs/tb2gf883' target=\"_blank\">driven-sweep-69</a></strong> to <a href='https://wandb.ai/ma23m011-iit-madras/DA6401_Assignment1_ma23m011' target=\"_blank\">Weights & Biases</a> (<a href='https://wandb.me/developer-guide' target=\"_blank\">docs</a>)<br>Sweep page: <a href='https://wandb.ai/ma23m011-iit-madras/DA6401_Assignment1_ma23m011/sweeps/augzj4ot' target=\"_blank\">https://wandb.ai/ma23m011-iit-madras/DA6401_Assignment1_ma23m011/sweeps/augzj4ot</a>"
            ]
          },
          "metadata": {}
        },
        {
          "output_type": "display_data",
          "data": {
            "text/plain": [
              "<IPython.core.display.HTML object>"
            ],
            "text/html": [
              " View project at <a href='https://wandb.ai/ma23m011-iit-madras/DA6401_Assignment1_ma23m011' target=\"_blank\">https://wandb.ai/ma23m011-iit-madras/DA6401_Assignment1_ma23m011</a>"
            ]
          },
          "metadata": {}
        },
        {
          "output_type": "display_data",
          "data": {
            "text/plain": [
              "<IPython.core.display.HTML object>"
            ],
            "text/html": [
              " View sweep at <a href='https://wandb.ai/ma23m011-iit-madras/DA6401_Assignment1_ma23m011/sweeps/augzj4ot' target=\"_blank\">https://wandb.ai/ma23m011-iit-madras/DA6401_Assignment1_ma23m011/sweeps/augzj4ot</a>"
            ]
          },
          "metadata": {}
        },
        {
          "output_type": "display_data",
          "data": {
            "text/plain": [
              "<IPython.core.display.HTML object>"
            ],
            "text/html": [
              " View run at <a href='https://wandb.ai/ma23m011-iit-madras/DA6401_Assignment1_ma23m011/runs/tb2gf883' target=\"_blank\">https://wandb.ai/ma23m011-iit-madras/DA6401_Assignment1_ma23m011/runs/tb2gf883</a>"
            ]
          },
          "metadata": {}
        },
        {
          "output_type": "stream",
          "name": "stdout",
          "text": [
            "Epoch 1: Train Loss = 2.3027, Train Acc = 11.5148, Val Loss = 2.3027, Val Acc = 10.5333\n",
            "Epoch 2: Train Loss = 2.3027, Train Acc = 11.1648, Val Loss = 2.3027, Val Acc = 10.2500\n",
            "Epoch 3: Train Loss = 2.3027, Train Acc = 11.2907, Val Loss = 2.3027, Val Acc = 10.3833\n",
            "Epoch 4: Train Loss = 2.3027, Train Acc = 11.2148, Val Loss = 2.3027, Val Acc = 10.3333\n",
            "Epoch 5: Train Loss = 2.3027, Train Acc = 11.1093, Val Loss = 2.3027, Val Acc = 10.2167\n",
            "Epoch 6: Train Loss = 2.3027, Train Acc = 11.3870, Val Loss = 2.3027, Val Acc = 10.4667\n",
            "Epoch 7: Train Loss = 2.3027, Train Acc = 11.4222, Val Loss = 2.3027, Val Acc = 10.5000\n",
            "Epoch 8: Train Loss = 2.3027, Train Acc = 11.4056, Val Loss = 2.3027, Val Acc = 10.4833\n",
            "Epoch 9: Train Loss = 2.3027, Train Acc = 11.3667, Val Loss = 2.3027, Val Acc = 10.4500\n",
            "Epoch 10: Train Loss = 2.3027, Train Acc = 11.3037, Val Loss = 2.3027, Val Acc = 10.4167\n"
          ]
        },
        {
          "output_type": "display_data",
          "data": {
            "text/plain": [
              "<IPython.core.display.HTML object>"
            ],
            "text/html": []
          },
          "metadata": {}
        },
        {
          "output_type": "display_data",
          "data": {
            "text/plain": [
              "<IPython.core.display.HTML object>"
            ],
            "text/html": [
              "<br>    <style><br>        .wandb-row {<br>            display: flex;<br>            flex-direction: row;<br>            flex-wrap: wrap;<br>            justify-content: flex-start;<br>            width: 100%;<br>        }<br>        .wandb-col {<br>            display: flex;<br>            flex-direction: column;<br>            flex-basis: 100%;<br>            flex: 1;<br>            padding: 10px;<br>        }<br>    </style><br><div class=\"wandb-row\"><div class=\"wandb-col\"><h3>Run history:</h3><br/><table class=\"wandb\"><tr><td>Train_accuracy</td><td>█▂▄▃▁▆▆▆▅▄</td></tr><tr><td>Train_loss</td><td>▁▁▁▁▁▁▁▁▁▁</td></tr><tr><td>Val_accuracy</td><td>█▂▅▄▁▇▇▇▆▅</td></tr><tr><td>Val_loss</td><td>▁▁▁▁▁▁▁▁▁▁</td></tr><tr><td>epoch</td><td>▁▂▃▃▄▅▆▆▇█</td></tr></table><br/></div><div class=\"wandb-col\"><h3>Run summary:</h3><br/><table class=\"wandb\"><tr><td>Train_accuracy</td><td>11.3037</td></tr><tr><td>Train_loss</td><td>2.30267</td></tr><tr><td>Val_accuracy</td><td>10.41667</td></tr><tr><td>Val_loss</td><td>2.30267</td></tr><tr><td>epoch</td><td>10</td></tr></table><br/></div></div>"
            ]
          },
          "metadata": {}
        },
        {
          "output_type": "display_data",
          "data": {
            "text/plain": [
              "<IPython.core.display.HTML object>"
            ],
            "text/html": [
              " View run <strong style=\"color:#cdcd00\">-ac_tanh-hs_128-epc_10-hl_3-regu_0.5-eta_0.0001-optmz_rmsprop-batch_16-wght_random</strong> at: <a href='https://wandb.ai/ma23m011-iit-madras/DA6401_Assignment1_ma23m011/runs/tb2gf883' target=\"_blank\">https://wandb.ai/ma23m011-iit-madras/DA6401_Assignment1_ma23m011/runs/tb2gf883</a><br> View project at: <a href='https://wandb.ai/ma23m011-iit-madras/DA6401_Assignment1_ma23m011' target=\"_blank\">https://wandb.ai/ma23m011-iit-madras/DA6401_Assignment1_ma23m011</a><br>Synced 5 W&B file(s), 0 media file(s), 0 artifact file(s) and 0 other file(s)"
            ]
          },
          "metadata": {}
        },
        {
          "output_type": "display_data",
          "data": {
            "text/plain": [
              "<IPython.core.display.HTML object>"
            ],
            "text/html": [
              "Find logs at: <code>./wandb/run-20250310_023928-tb2gf883/logs</code>"
            ]
          },
          "metadata": {}
        },
        {
          "output_type": "stream",
          "name": "stderr",
          "text": [
            "\u001b[34m\u001b[1mwandb\u001b[0m: Agent Starting Run: jvsm84x2 with config:\n",
            "\u001b[34m\u001b[1mwandb\u001b[0m: \tactivation: sigmoid\n",
            "\u001b[34m\u001b[1mwandb\u001b[0m: \tbatch_size: 64\n",
            "\u001b[34m\u001b[1mwandb\u001b[0m: \tepochs: 5\n",
            "\u001b[34m\u001b[1mwandb\u001b[0m: \thidden_layers: 5\n",
            "\u001b[34m\u001b[1mwandb\u001b[0m: \thidden_size: 128\n",
            "\u001b[34m\u001b[1mwandb\u001b[0m: \tlearning_rate: 0.0001\n",
            "\u001b[34m\u001b[1mwandb\u001b[0m: \toptimizer: sgd\n",
            "\u001b[34m\u001b[1mwandb\u001b[0m: \tweight_decay: 0.5\n",
            "\u001b[34m\u001b[1mwandb\u001b[0m: \tweight_init: random\n"
          ]
        },
        {
          "output_type": "display_data",
          "data": {
            "text/plain": [
              "<IPython.core.display.HTML object>"
            ],
            "text/html": [
              "Tracking run with wandb version 0.19.7"
            ]
          },
          "metadata": {}
        },
        {
          "output_type": "display_data",
          "data": {
            "text/plain": [
              "<IPython.core.display.HTML object>"
            ],
            "text/html": [
              "Run data is saved locally in <code>/content/wandb/run-20250310_024311-jvsm84x2</code>"
            ]
          },
          "metadata": {}
        },
        {
          "output_type": "display_data",
          "data": {
            "text/plain": [
              "<IPython.core.display.HTML object>"
            ],
            "text/html": [
              "Syncing run <strong><a href='https://wandb.ai/ma23m011-iit-madras/DA6401_Assignment1_ma23m011/runs/jvsm84x2' target=\"_blank\">spring-sweep-70</a></strong> to <a href='https://wandb.ai/ma23m011-iit-madras/DA6401_Assignment1_ma23m011' target=\"_blank\">Weights & Biases</a> (<a href='https://wandb.me/developer-guide' target=\"_blank\">docs</a>)<br>Sweep page: <a href='https://wandb.ai/ma23m011-iit-madras/DA6401_Assignment1_ma23m011/sweeps/augzj4ot' target=\"_blank\">https://wandb.ai/ma23m011-iit-madras/DA6401_Assignment1_ma23m011/sweeps/augzj4ot</a>"
            ]
          },
          "metadata": {}
        },
        {
          "output_type": "display_data",
          "data": {
            "text/plain": [
              "<IPython.core.display.HTML object>"
            ],
            "text/html": [
              " View project at <a href='https://wandb.ai/ma23m011-iit-madras/DA6401_Assignment1_ma23m011' target=\"_blank\">https://wandb.ai/ma23m011-iit-madras/DA6401_Assignment1_ma23m011</a>"
            ]
          },
          "metadata": {}
        },
        {
          "output_type": "display_data",
          "data": {
            "text/plain": [
              "<IPython.core.display.HTML object>"
            ],
            "text/html": [
              " View sweep at <a href='https://wandb.ai/ma23m011-iit-madras/DA6401_Assignment1_ma23m011/sweeps/augzj4ot' target=\"_blank\">https://wandb.ai/ma23m011-iit-madras/DA6401_Assignment1_ma23m011/sweeps/augzj4ot</a>"
            ]
          },
          "metadata": {}
        },
        {
          "output_type": "display_data",
          "data": {
            "text/plain": [
              "<IPython.core.display.HTML object>"
            ],
            "text/html": [
              " View run at <a href='https://wandb.ai/ma23m011-iit-madras/DA6401_Assignment1_ma23m011/runs/jvsm84x2' target=\"_blank\">https://wandb.ai/ma23m011-iit-madras/DA6401_Assignment1_ma23m011/runs/jvsm84x2</a>"
            ]
          },
          "metadata": {}
        },
        {
          "output_type": "stream",
          "name": "stdout",
          "text": [
            "Epoch 1: Train Loss = 6.1599, Train Acc = 9.9444, Val Loss = 6.1595, Val Acc = 10.5000\n",
            "Epoch 2: Train Loss = 5.8489, Train Acc = 9.9963, Val Loss = 5.8493, Val Acc = 10.0333\n",
            "Epoch 3: Train Loss = 5.5612, Train Acc = 9.9963, Val Loss = 5.5614, Val Acc = 10.0333\n",
            "Epoch 4: Train Loss = 5.2968, Train Acc = 10.0167, Val Loss = 5.2970, Val Acc = 9.8500\n",
            "Epoch 5: Train Loss = 5.0548, Train Acc = 10.0833, Val Loss = 5.0551, Val Acc = 9.2500\n"
          ]
        },
        {
          "output_type": "display_data",
          "data": {
            "text/plain": [
              "<IPython.core.display.HTML object>"
            ],
            "text/html": []
          },
          "metadata": {}
        },
        {
          "output_type": "display_data",
          "data": {
            "text/plain": [
              "<IPython.core.display.HTML object>"
            ],
            "text/html": [
              "<br>    <style><br>        .wandb-row {<br>            display: flex;<br>            flex-direction: row;<br>            flex-wrap: wrap;<br>            justify-content: flex-start;<br>            width: 100%;<br>        }<br>        .wandb-col {<br>            display: flex;<br>            flex-direction: column;<br>            flex-basis: 100%;<br>            flex: 1;<br>            padding: 10px;<br>        }<br>    </style><br><div class=\"wandb-row\"><div class=\"wandb-col\"><h3>Run history:</h3><br/><table class=\"wandb\"><tr><td>Train_accuracy</td><td>▁▄▄▅█</td></tr><tr><td>Train_loss</td><td>█▆▄▃▁</td></tr><tr><td>Val_accuracy</td><td>█▅▅▄▁</td></tr><tr><td>Val_loss</td><td>█▆▄▃▁</td></tr><tr><td>epoch</td><td>▁▃▅▆█</td></tr></table><br/></div><div class=\"wandb-col\"><h3>Run summary:</h3><br/><table class=\"wandb\"><tr><td>Train_accuracy</td><td>10.08333</td></tr><tr><td>Train_loss</td><td>5.05484</td></tr><tr><td>Val_accuracy</td><td>9.25</td></tr><tr><td>Val_loss</td><td>5.05514</td></tr><tr><td>epoch</td><td>5</td></tr></table><br/></div></div>"
            ]
          },
          "metadata": {}
        },
        {
          "output_type": "display_data",
          "data": {
            "text/plain": [
              "<IPython.core.display.HTML object>"
            ],
            "text/html": [
              " View run <strong style=\"color:#cdcd00\">-ac_sigmoid-hs_128-epc_5-hl_5-regu_0.5-eta_0.0001-optmz_sgd-batch_64-wght_random</strong> at: <a href='https://wandb.ai/ma23m011-iit-madras/DA6401_Assignment1_ma23m011/runs/jvsm84x2' target=\"_blank\">https://wandb.ai/ma23m011-iit-madras/DA6401_Assignment1_ma23m011/runs/jvsm84x2</a><br> View project at: <a href='https://wandb.ai/ma23m011-iit-madras/DA6401_Assignment1_ma23m011' target=\"_blank\">https://wandb.ai/ma23m011-iit-madras/DA6401_Assignment1_ma23m011</a><br>Synced 5 W&B file(s), 0 media file(s), 0 artifact file(s) and 0 other file(s)"
            ]
          },
          "metadata": {}
        },
        {
          "output_type": "display_data",
          "data": {
            "text/plain": [
              "<IPython.core.display.HTML object>"
            ],
            "text/html": [
              "Find logs at: <code>./wandb/run-20250310_024311-jvsm84x2/logs</code>"
            ]
          },
          "metadata": {}
        },
        {
          "output_type": "stream",
          "name": "stderr",
          "text": [
            "\u001b[34m\u001b[1mwandb\u001b[0m: Sweep Agent: Waiting for job.\n",
            "\u001b[34m\u001b[1mwandb\u001b[0m: Job received.\n",
            "\u001b[34m\u001b[1mwandb\u001b[0m: Agent Starting Run: oioyc2zt with config:\n",
            "\u001b[34m\u001b[1mwandb\u001b[0m: \tactivation: tanh\n",
            "\u001b[34m\u001b[1mwandb\u001b[0m: \tbatch_size: 32\n",
            "\u001b[34m\u001b[1mwandb\u001b[0m: \tepochs: 10\n",
            "\u001b[34m\u001b[1mwandb\u001b[0m: \thidden_layers: 4\n",
            "\u001b[34m\u001b[1mwandb\u001b[0m: \thidden_size: 128\n",
            "\u001b[34m\u001b[1mwandb\u001b[0m: \tlearning_rate: 0.0001\n",
            "\u001b[34m\u001b[1mwandb\u001b[0m: \toptimizer: nadam\n",
            "\u001b[34m\u001b[1mwandb\u001b[0m: \tweight_decay: 0.0005\n",
            "\u001b[34m\u001b[1mwandb\u001b[0m: \tweight_init: random\n"
          ]
        },
        {
          "output_type": "display_data",
          "data": {
            "text/plain": [
              "<IPython.core.display.HTML object>"
            ],
            "text/html": [
              "Tracking run with wandb version 0.19.7"
            ]
          },
          "metadata": {}
        },
        {
          "output_type": "display_data",
          "data": {
            "text/plain": [
              "<IPython.core.display.HTML object>"
            ],
            "text/html": [
              "Run data is saved locally in <code>/content/wandb/run-20250310_024417-oioyc2zt</code>"
            ]
          },
          "metadata": {}
        },
        {
          "output_type": "display_data",
          "data": {
            "text/plain": [
              "<IPython.core.display.HTML object>"
            ],
            "text/html": [
              "Syncing run <strong><a href='https://wandb.ai/ma23m011-iit-madras/DA6401_Assignment1_ma23m011/runs/oioyc2zt' target=\"_blank\">lunar-sweep-71</a></strong> to <a href='https://wandb.ai/ma23m011-iit-madras/DA6401_Assignment1_ma23m011' target=\"_blank\">Weights & Biases</a> (<a href='https://wandb.me/developer-guide' target=\"_blank\">docs</a>)<br>Sweep page: <a href='https://wandb.ai/ma23m011-iit-madras/DA6401_Assignment1_ma23m011/sweeps/augzj4ot' target=\"_blank\">https://wandb.ai/ma23m011-iit-madras/DA6401_Assignment1_ma23m011/sweeps/augzj4ot</a>"
            ]
          },
          "metadata": {}
        },
        {
          "output_type": "display_data",
          "data": {
            "text/plain": [
              "<IPython.core.display.HTML object>"
            ],
            "text/html": [
              " View project at <a href='https://wandb.ai/ma23m011-iit-madras/DA6401_Assignment1_ma23m011' target=\"_blank\">https://wandb.ai/ma23m011-iit-madras/DA6401_Assignment1_ma23m011</a>"
            ]
          },
          "metadata": {}
        },
        {
          "output_type": "display_data",
          "data": {
            "text/plain": [
              "<IPython.core.display.HTML object>"
            ],
            "text/html": [
              " View sweep at <a href='https://wandb.ai/ma23m011-iit-madras/DA6401_Assignment1_ma23m011/sweeps/augzj4ot' target=\"_blank\">https://wandb.ai/ma23m011-iit-madras/DA6401_Assignment1_ma23m011/sweeps/augzj4ot</a>"
            ]
          },
          "metadata": {}
        },
        {
          "output_type": "display_data",
          "data": {
            "text/plain": [
              "<IPython.core.display.HTML object>"
            ],
            "text/html": [
              " View run at <a href='https://wandb.ai/ma23m011-iit-madras/DA6401_Assignment1_ma23m011/runs/oioyc2zt' target=\"_blank\">https://wandb.ai/ma23m011-iit-madras/DA6401_Assignment1_ma23m011/runs/oioyc2zt</a>"
            ]
          },
          "metadata": {}
        },
        {
          "output_type": "stream",
          "name": "stdout",
          "text": [
            "Epoch 1: Train Loss = 722734865817470336.0000, Train Acc = 9.9907, Val Loss = 722734865817470336.0000, Val Acc = 10.0833\n",
            "Epoch 2: Train Loss = 463056920392379578449920.0000, Train Acc = 9.9648, Val Loss = 463056920392379578449920.0000, Val Acc = 10.3167\n",
            "Epoch 3: Train Loss = 11601498445118740.0000, Train Acc = 10.0519, Val Loss = 11601498445118740.0000, Val Acc = 9.3500\n",
            "Epoch 4: Train Loss = 25524071459367696.0000, Train Acc = 9.9444, Val Loss = 25524071459367696.0000, Val Acc = 10.5000\n",
            "Epoch 5: Train Loss = 13605208962459108.0000, Train Acc = 10.0296, Val Loss = 13605208962459108.0000, Val Acc = 9.7333\n",
            "Epoch 6: Train Loss = 2173926819976102144.0000, Train Acc = 10.0648, Val Loss = 2173926819976102144.0000, Val Acc = 9.4167\n",
            "Epoch 7: Train Loss = 84626583626872464.0000, Train Acc = 9.9963, Val Loss = 84626583626872464.0000, Val Acc = 10.0333\n",
            "Epoch 8: Train Loss = 3680944580912692.5000, Train Acc = 10.0167, Val Loss = 3680944580912692.5000, Val Acc = 9.8500\n",
            "Epoch 9: Train Loss = 30270462777259784.0000, Train Acc = 10.0167, Val Loss = 30270462777259784.0000, Val Acc = 9.8500\n",
            "Epoch 10: Train Loss = 703655994296872320.0000, Train Acc = 10.0648, Val Loss = 703655994296872320.0000, Val Acc = 9.4167\n"
          ]
        },
        {
          "output_type": "display_data",
          "data": {
            "text/plain": [
              "<IPython.core.display.HTML object>"
            ],
            "text/html": []
          },
          "metadata": {}
        },
        {
          "output_type": "display_data",
          "data": {
            "text/plain": [
              "<IPython.core.display.HTML object>"
            ],
            "text/html": [
              "<br>    <style><br>        .wandb-row {<br>            display: flex;<br>            flex-direction: row;<br>            flex-wrap: wrap;<br>            justify-content: flex-start;<br>            width: 100%;<br>        }<br>        .wandb-col {<br>            display: flex;<br>            flex-direction: column;<br>            flex-basis: 100%;<br>            flex: 1;<br>            padding: 10px;<br>        }<br>    </style><br><div class=\"wandb-row\"><div class=\"wandb-col\"><h3>Run history:</h3><br/><table class=\"wandb\"><tr><td>Train_accuracy</td><td>▄▂▇▁▆█▄▅▅█</td></tr><tr><td>Train_loss</td><td>▁█▁▁▁▁▁▁▁▁</td></tr><tr><td>Val_accuracy</td><td>▅▇▁█▃▁▅▄▄▁</td></tr><tr><td>Val_loss</td><td>▁█▁▁▁▁▁▁▁▁</td></tr><tr><td>epoch</td><td>▁▂▃▃▄▅▆▆▇█</td></tr></table><br/></div><div class=\"wandb-col\"><h3>Run summary:</h3><br/><table class=\"wandb\"><tr><td>Train_accuracy</td><td>10.06481</td></tr><tr><td>Train_loss</td><td>7.036559942968723e+17</td></tr><tr><td>Val_accuracy</td><td>9.41667</td></tr><tr><td>Val_loss</td><td>7.036559942968723e+17</td></tr><tr><td>epoch</td><td>10</td></tr></table><br/></div></div>"
            ]
          },
          "metadata": {}
        },
        {
          "output_type": "display_data",
          "data": {
            "text/plain": [
              "<IPython.core.display.HTML object>"
            ],
            "text/html": [
              " View run <strong style=\"color:#cdcd00\">-ac_tanh-hs_128-epc_10-hl_4-regu_0.0005-eta_0.0001-optmz_nadam-batch_32-wght_random</strong> at: <a href='https://wandb.ai/ma23m011-iit-madras/DA6401_Assignment1_ma23m011/runs/oioyc2zt' target=\"_blank\">https://wandb.ai/ma23m011-iit-madras/DA6401_Assignment1_ma23m011/runs/oioyc2zt</a><br> View project at: <a href='https://wandb.ai/ma23m011-iit-madras/DA6401_Assignment1_ma23m011' target=\"_blank\">https://wandb.ai/ma23m011-iit-madras/DA6401_Assignment1_ma23m011</a><br>Synced 5 W&B file(s), 0 media file(s), 0 artifact file(s) and 0 other file(s)"
            ]
          },
          "metadata": {}
        },
        {
          "output_type": "display_data",
          "data": {
            "text/plain": [
              "<IPython.core.display.HTML object>"
            ],
            "text/html": [
              "Find logs at: <code>./wandb/run-20250310_024417-oioyc2zt/logs</code>"
            ]
          },
          "metadata": {}
        },
        {
          "output_type": "stream",
          "name": "stderr",
          "text": [
            "\u001b[34m\u001b[1mwandb\u001b[0m: Agent Starting Run: 3muqwe4p with config:\n",
            "\u001b[34m\u001b[1mwandb\u001b[0m: \tactivation: relu\n",
            "\u001b[34m\u001b[1mwandb\u001b[0m: \tbatch_size: 64\n",
            "\u001b[34m\u001b[1mwandb\u001b[0m: \tepochs: 10\n",
            "\u001b[34m\u001b[1mwandb\u001b[0m: \thidden_layers: 4\n",
            "\u001b[34m\u001b[1mwandb\u001b[0m: \thidden_size: 128\n",
            "\u001b[34m\u001b[1mwandb\u001b[0m: \tlearning_rate: 0.001\n",
            "\u001b[34m\u001b[1mwandb\u001b[0m: \toptimizer: rmsprop\n",
            "\u001b[34m\u001b[1mwandb\u001b[0m: \tweight_decay: 0.0005\n",
            "\u001b[34m\u001b[1mwandb\u001b[0m: \tweight_init: random\n"
          ]
        },
        {
          "output_type": "display_data",
          "data": {
            "text/plain": [
              "<IPython.core.display.HTML object>"
            ],
            "text/html": [
              "Tracking run with wandb version 0.19.7"
            ]
          },
          "metadata": {}
        },
        {
          "output_type": "display_data",
          "data": {
            "text/plain": [
              "<IPython.core.display.HTML object>"
            ],
            "text/html": [
              "Run data is saved locally in <code>/content/wandb/run-20250310_024740-3muqwe4p</code>"
            ]
          },
          "metadata": {}
        },
        {
          "output_type": "display_data",
          "data": {
            "text/plain": [
              "<IPython.core.display.HTML object>"
            ],
            "text/html": [
              "Syncing run <strong><a href='https://wandb.ai/ma23m011-iit-madras/DA6401_Assignment1_ma23m011/runs/3muqwe4p' target=\"_blank\">dark-sweep-72</a></strong> to <a href='https://wandb.ai/ma23m011-iit-madras/DA6401_Assignment1_ma23m011' target=\"_blank\">Weights & Biases</a> (<a href='https://wandb.me/developer-guide' target=\"_blank\">docs</a>)<br>Sweep page: <a href='https://wandb.ai/ma23m011-iit-madras/DA6401_Assignment1_ma23m011/sweeps/augzj4ot' target=\"_blank\">https://wandb.ai/ma23m011-iit-madras/DA6401_Assignment1_ma23m011/sweeps/augzj4ot</a>"
            ]
          },
          "metadata": {}
        },
        {
          "output_type": "display_data",
          "data": {
            "text/plain": [
              "<IPython.core.display.HTML object>"
            ],
            "text/html": [
              " View project at <a href='https://wandb.ai/ma23m011-iit-madras/DA6401_Assignment1_ma23m011' target=\"_blank\">https://wandb.ai/ma23m011-iit-madras/DA6401_Assignment1_ma23m011</a>"
            ]
          },
          "metadata": {}
        },
        {
          "output_type": "display_data",
          "data": {
            "text/plain": [
              "<IPython.core.display.HTML object>"
            ],
            "text/html": [
              " View sweep at <a href='https://wandb.ai/ma23m011-iit-madras/DA6401_Assignment1_ma23m011/sweeps/augzj4ot' target=\"_blank\">https://wandb.ai/ma23m011-iit-madras/DA6401_Assignment1_ma23m011/sweeps/augzj4ot</a>"
            ]
          },
          "metadata": {}
        },
        {
          "output_type": "display_data",
          "data": {
            "text/plain": [
              "<IPython.core.display.HTML object>"
            ],
            "text/html": [
              " View run at <a href='https://wandb.ai/ma23m011-iit-madras/DA6401_Assignment1_ma23m011/runs/3muqwe4p' target=\"_blank\">https://wandb.ai/ma23m011-iit-madras/DA6401_Assignment1_ma23m011/runs/3muqwe4p</a>"
            ]
          },
          "metadata": {}
        },
        {
          "output_type": "stream",
          "name": "stdout",
          "text": [
            "Epoch 1: Train Loss = 0.7217, Train Acc = 67.4537, Val Loss = 0.7238, Val Acc = 67.7000\n",
            "Epoch 2: Train Loss = 0.5072, Train Acc = 84.8167, Val Loss = 0.5294, Val Acc = 83.9167\n",
            "Epoch 3: Train Loss = 0.4990, Train Acc = 86.5222, Val Loss = 0.5492, Val Acc = 85.1667\n",
            "Epoch 4: Train Loss = 0.4949, Train Acc = 87.5574, Val Loss = 0.5408, Val Acc = 86.5000\n",
            "Epoch 5: Train Loss = 0.5121, Train Acc = 88.5222, Val Loss = 0.5659, Val Acc = 86.9333\n",
            "Epoch 6: Train Loss = 0.5357, Train Acc = 88.3352, Val Loss = 0.6092, Val Acc = 87.1833\n",
            "Epoch 7: Train Loss = 0.5749, Train Acc = 88.3741, Val Loss = 0.6363, Val Acc = 87.0167\n",
            "Epoch 8: Train Loss = 0.5920, Train Acc = 88.3056, Val Loss = 0.6779, Val Acc = 86.9167\n",
            "Epoch 9: Train Loss = 0.6198, Train Acc = 88.6481, Val Loss = 0.6937, Val Acc = 86.6833\n",
            "Epoch 10: Train Loss = 0.6122, Train Acc = 89.5704, Val Loss = 0.6958, Val Acc = 87.7000\n"
          ]
        },
        {
          "output_type": "display_data",
          "data": {
            "text/plain": [
              "<IPython.core.display.HTML object>"
            ],
            "text/html": []
          },
          "metadata": {}
        },
        {
          "output_type": "display_data",
          "data": {
            "text/plain": [
              "<IPython.core.display.HTML object>"
            ],
            "text/html": [
              "<br>    <style><br>        .wandb-row {<br>            display: flex;<br>            flex-direction: row;<br>            flex-wrap: wrap;<br>            justify-content: flex-start;<br>            width: 100%;<br>        }<br>        .wandb-col {<br>            display: flex;<br>            flex-direction: column;<br>            flex-basis: 100%;<br>            flex: 1;<br>            padding: 10px;<br>        }<br>    </style><br><div class=\"wandb-row\"><div class=\"wandb-col\"><h3>Run history:</h3><br/><table class=\"wandb\"><tr><td>Train_accuracy</td><td>▁▆▇▇██████</td></tr><tr><td>Train_loss</td><td>█▁▁▁▂▂▃▄▅▅</td></tr><tr><td>Val_accuracy</td><td>▁▇▇███████</td></tr><tr><td>Val_loss</td><td>█▁▂▁▂▄▅▆▇▇</td></tr><tr><td>epoch</td><td>▁▂▃▃▄▅▆▆▇█</td></tr></table><br/></div><div class=\"wandb-col\"><h3>Run summary:</h3><br/><table class=\"wandb\"><tr><td>Train_accuracy</td><td>89.57037</td></tr><tr><td>Train_loss</td><td>0.61222</td></tr><tr><td>Val_accuracy</td><td>87.7</td></tr><tr><td>Val_loss</td><td>0.69584</td></tr><tr><td>epoch</td><td>10</td></tr></table><br/></div></div>"
            ]
          },
          "metadata": {}
        },
        {
          "output_type": "display_data",
          "data": {
            "text/plain": [
              "<IPython.core.display.HTML object>"
            ],
            "text/html": [
              " View run <strong style=\"color:#cdcd00\">-ac_relu-hs_128-epc_10-hl_4-regu_0.0005-eta_0.001-optmz_rmsprop-batch_64-wght_random</strong> at: <a href='https://wandb.ai/ma23m011-iit-madras/DA6401_Assignment1_ma23m011/runs/3muqwe4p' target=\"_blank\">https://wandb.ai/ma23m011-iit-madras/DA6401_Assignment1_ma23m011/runs/3muqwe4p</a><br> View project at: <a href='https://wandb.ai/ma23m011-iit-madras/DA6401_Assignment1_ma23m011' target=\"_blank\">https://wandb.ai/ma23m011-iit-madras/DA6401_Assignment1_ma23m011</a><br>Synced 5 W&B file(s), 0 media file(s), 0 artifact file(s) and 0 other file(s)"
            ]
          },
          "metadata": {}
        },
        {
          "output_type": "display_data",
          "data": {
            "text/plain": [
              "<IPython.core.display.HTML object>"
            ],
            "text/html": [
              "Find logs at: <code>./wandb/run-20250310_024740-3muqwe4p/logs</code>"
            ]
          },
          "metadata": {}
        },
        {
          "output_type": "stream",
          "name": "stderr",
          "text": [
            "\u001b[34m\u001b[1mwandb\u001b[0m: Agent Starting Run: vj5dv2wz with config:\n",
            "\u001b[34m\u001b[1mwandb\u001b[0m: \tactivation: sigmoid\n",
            "\u001b[34m\u001b[1mwandb\u001b[0m: \tbatch_size: 16\n",
            "\u001b[34m\u001b[1mwandb\u001b[0m: \tepochs: 5\n",
            "\u001b[34m\u001b[1mwandb\u001b[0m: \thidden_layers: 3\n",
            "\u001b[34m\u001b[1mwandb\u001b[0m: \thidden_size: 128\n",
            "\u001b[34m\u001b[1mwandb\u001b[0m: \tlearning_rate: 0.0001\n",
            "\u001b[34m\u001b[1mwandb\u001b[0m: \toptimizer: mgd\n",
            "\u001b[34m\u001b[1mwandb\u001b[0m: \tweight_decay: 0.0005\n",
            "\u001b[34m\u001b[1mwandb\u001b[0m: \tweight_init: xavier\n"
          ]
        },
        {
          "output_type": "display_data",
          "data": {
            "text/plain": [
              "<IPython.core.display.HTML object>"
            ],
            "text/html": [
              "Tracking run with wandb version 0.19.7"
            ]
          },
          "metadata": {}
        },
        {
          "output_type": "display_data",
          "data": {
            "text/plain": [
              "<IPython.core.display.HTML object>"
            ],
            "text/html": [
              "Run data is saved locally in <code>/content/wandb/run-20250310_024912-vj5dv2wz</code>"
            ]
          },
          "metadata": {}
        },
        {
          "output_type": "display_data",
          "data": {
            "text/plain": [
              "<IPython.core.display.HTML object>"
            ],
            "text/html": [
              "Syncing run <strong><a href='https://wandb.ai/ma23m011-iit-madras/DA6401_Assignment1_ma23m011/runs/vj5dv2wz' target=\"_blank\">prime-sweep-73</a></strong> to <a href='https://wandb.ai/ma23m011-iit-madras/DA6401_Assignment1_ma23m011' target=\"_blank\">Weights & Biases</a> (<a href='https://wandb.me/developer-guide' target=\"_blank\">docs</a>)<br>Sweep page: <a href='https://wandb.ai/ma23m011-iit-madras/DA6401_Assignment1_ma23m011/sweeps/augzj4ot' target=\"_blank\">https://wandb.ai/ma23m011-iit-madras/DA6401_Assignment1_ma23m011/sweeps/augzj4ot</a>"
            ]
          },
          "metadata": {}
        },
        {
          "output_type": "display_data",
          "data": {
            "text/plain": [
              "<IPython.core.display.HTML object>"
            ],
            "text/html": [
              " View project at <a href='https://wandb.ai/ma23m011-iit-madras/DA6401_Assignment1_ma23m011' target=\"_blank\">https://wandb.ai/ma23m011-iit-madras/DA6401_Assignment1_ma23m011</a>"
            ]
          },
          "metadata": {}
        },
        {
          "output_type": "display_data",
          "data": {
            "text/plain": [
              "<IPython.core.display.HTML object>"
            ],
            "text/html": [
              " View sweep at <a href='https://wandb.ai/ma23m011-iit-madras/DA6401_Assignment1_ma23m011/sweeps/augzj4ot' target=\"_blank\">https://wandb.ai/ma23m011-iit-madras/DA6401_Assignment1_ma23m011/sweeps/augzj4ot</a>"
            ]
          },
          "metadata": {}
        },
        {
          "output_type": "display_data",
          "data": {
            "text/plain": [
              "<IPython.core.display.HTML object>"
            ],
            "text/html": [
              " View run at <a href='https://wandb.ai/ma23m011-iit-madras/DA6401_Assignment1_ma23m011/runs/vj5dv2wz' target=\"_blank\">https://wandb.ai/ma23m011-iit-madras/DA6401_Assignment1_ma23m011/runs/vj5dv2wz</a>"
            ]
          },
          "metadata": {}
        },
        {
          "output_type": "stream",
          "name": "stdout",
          "text": [
            "Epoch 1: Train Loss = 2.5973, Train Acc = 9.9444, Val Loss = 2.5824, Val Acc = 10.5000\n",
            "Epoch 2: Train Loss = 2.5973, Train Acc = 9.9444, Val Loss = 2.5824, Val Acc = 10.5000\n",
            "Epoch 3: Train Loss = 2.5973, Train Acc = 9.9444, Val Loss = 2.5824, Val Acc = 10.5000\n",
            "Epoch 4: Train Loss = 2.5973, Train Acc = 9.9444, Val Loss = 2.5824, Val Acc = 10.5000\n",
            "Epoch 5: Train Loss = 2.5973, Train Acc = 9.9444, Val Loss = 2.5824, Val Acc = 10.5000\n"
          ]
        },
        {
          "output_type": "display_data",
          "data": {
            "text/plain": [
              "<IPython.core.display.HTML object>"
            ],
            "text/html": []
          },
          "metadata": {}
        },
        {
          "output_type": "display_data",
          "data": {
            "text/plain": [
              "<IPython.core.display.HTML object>"
            ],
            "text/html": [
              "<br>    <style><br>        .wandb-row {<br>            display: flex;<br>            flex-direction: row;<br>            flex-wrap: wrap;<br>            justify-content: flex-start;<br>            width: 100%;<br>        }<br>        .wandb-col {<br>            display: flex;<br>            flex-direction: column;<br>            flex-basis: 100%;<br>            flex: 1;<br>            padding: 10px;<br>        }<br>    </style><br><div class=\"wandb-row\"><div class=\"wandb-col\"><h3>Run history:</h3><br/><table class=\"wandb\"><tr><td>Train_accuracy</td><td>▁▁▁▁▁</td></tr><tr><td>Train_loss</td><td>▁▁▁▁▁</td></tr><tr><td>Val_accuracy</td><td>▁▁▁▁▁</td></tr><tr><td>Val_loss</td><td>▁▁▁▁▁</td></tr><tr><td>epoch</td><td>▁▃▅▆█</td></tr></table><br/></div><div class=\"wandb-col\"><h3>Run summary:</h3><br/><table class=\"wandb\"><tr><td>Train_accuracy</td><td>9.94444</td></tr><tr><td>Train_loss</td><td>2.59731</td></tr><tr><td>Val_accuracy</td><td>10.5</td></tr><tr><td>Val_loss</td><td>2.58241</td></tr><tr><td>epoch</td><td>5</td></tr></table><br/></div></div>"
            ]
          },
          "metadata": {}
        },
        {
          "output_type": "display_data",
          "data": {
            "text/plain": [
              "<IPython.core.display.HTML object>"
            ],
            "text/html": [
              " View run <strong style=\"color:#cdcd00\">-ac_sigmoid-hs_128-epc_5-hl_3-regu_0.0005-eta_0.0001-optmz_mgd-batch_16-wght_xavier</strong> at: <a href='https://wandb.ai/ma23m011-iit-madras/DA6401_Assignment1_ma23m011/runs/vj5dv2wz' target=\"_blank\">https://wandb.ai/ma23m011-iit-madras/DA6401_Assignment1_ma23m011/runs/vj5dv2wz</a><br> View project at: <a href='https://wandb.ai/ma23m011-iit-madras/DA6401_Assignment1_ma23m011' target=\"_blank\">https://wandb.ai/ma23m011-iit-madras/DA6401_Assignment1_ma23m011</a><br>Synced 5 W&B file(s), 0 media file(s), 0 artifact file(s) and 0 other file(s)"
            ]
          },
          "metadata": {}
        },
        {
          "output_type": "display_data",
          "data": {
            "text/plain": [
              "<IPython.core.display.HTML object>"
            ],
            "text/html": [
              "Find logs at: <code>./wandb/run-20250310_024912-vj5dv2wz/logs</code>"
            ]
          },
          "metadata": {}
        },
        {
          "output_type": "stream",
          "name": "stderr",
          "text": [
            "\u001b[34m\u001b[1mwandb\u001b[0m: Sweep Agent: Waiting for job.\n",
            "\u001b[34m\u001b[1mwandb\u001b[0m: Job received.\n",
            "\u001b[34m\u001b[1mwandb\u001b[0m: Agent Starting Run: 1uzeeuqu with config:\n",
            "\u001b[34m\u001b[1mwandb\u001b[0m: \tactivation: relu\n",
            "\u001b[34m\u001b[1mwandb\u001b[0m: \tbatch_size: 16\n",
            "\u001b[34m\u001b[1mwandb\u001b[0m: \tepochs: 10\n",
            "\u001b[34m\u001b[1mwandb\u001b[0m: \thidden_layers: 3\n",
            "\u001b[34m\u001b[1mwandb\u001b[0m: \thidden_size: 64\n",
            "\u001b[34m\u001b[1mwandb\u001b[0m: \tlearning_rate: 0.0001\n",
            "\u001b[34m\u001b[1mwandb\u001b[0m: \toptimizer: nadam\n",
            "\u001b[34m\u001b[1mwandb\u001b[0m: \tweight_decay: 0.0005\n",
            "\u001b[34m\u001b[1mwandb\u001b[0m: \tweight_init: random\n"
          ]
        },
        {
          "output_type": "display_data",
          "data": {
            "text/plain": [
              "<IPython.core.display.HTML object>"
            ],
            "text/html": [
              "Tracking run with wandb version 0.19.7"
            ]
          },
          "metadata": {}
        },
        {
          "output_type": "display_data",
          "data": {
            "text/plain": [
              "<IPython.core.display.HTML object>"
            ],
            "text/html": [
              "Run data is saved locally in <code>/content/wandb/run-20250310_025028-1uzeeuqu</code>"
            ]
          },
          "metadata": {}
        },
        {
          "output_type": "display_data",
          "data": {
            "text/plain": [
              "<IPython.core.display.HTML object>"
            ],
            "text/html": [
              "Syncing run <strong><a href='https://wandb.ai/ma23m011-iit-madras/DA6401_Assignment1_ma23m011/runs/1uzeeuqu' target=\"_blank\">balmy-sweep-74</a></strong> to <a href='https://wandb.ai/ma23m011-iit-madras/DA6401_Assignment1_ma23m011' target=\"_blank\">Weights & Biases</a> (<a href='https://wandb.me/developer-guide' target=\"_blank\">docs</a>)<br>Sweep page: <a href='https://wandb.ai/ma23m011-iit-madras/DA6401_Assignment1_ma23m011/sweeps/augzj4ot' target=\"_blank\">https://wandb.ai/ma23m011-iit-madras/DA6401_Assignment1_ma23m011/sweeps/augzj4ot</a>"
            ]
          },
          "metadata": {}
        },
        {
          "output_type": "display_data",
          "data": {
            "text/plain": [
              "<IPython.core.display.HTML object>"
            ],
            "text/html": [
              " View project at <a href='https://wandb.ai/ma23m011-iit-madras/DA6401_Assignment1_ma23m011' target=\"_blank\">https://wandb.ai/ma23m011-iit-madras/DA6401_Assignment1_ma23m011</a>"
            ]
          },
          "metadata": {}
        },
        {
          "output_type": "display_data",
          "data": {
            "text/plain": [
              "<IPython.core.display.HTML object>"
            ],
            "text/html": [
              " View sweep at <a href='https://wandb.ai/ma23m011-iit-madras/DA6401_Assignment1_ma23m011/sweeps/augzj4ot' target=\"_blank\">https://wandb.ai/ma23m011-iit-madras/DA6401_Assignment1_ma23m011/sweeps/augzj4ot</a>"
            ]
          },
          "metadata": {}
        },
        {
          "output_type": "display_data",
          "data": {
            "text/plain": [
              "<IPython.core.display.HTML object>"
            ],
            "text/html": [
              " View run at <a href='https://wandb.ai/ma23m011-iit-madras/DA6401_Assignment1_ma23m011/runs/1uzeeuqu' target=\"_blank\">https://wandb.ai/ma23m011-iit-madras/DA6401_Assignment1_ma23m011/runs/1uzeeuqu</a>"
            ]
          },
          "metadata": {}
        },
        {
          "output_type": "stream",
          "name": "stdout",
          "text": [
            "Epoch 1: Train Loss = nan, Train Acc = 9.9444, Val Loss = nan, Val Acc = 10.5000\n",
            "Epoch 2: Train Loss = nan, Train Acc = 9.9444, Val Loss = nan, Val Acc = 10.5000\n",
            "Epoch 3: Train Loss = nan, Train Acc = 9.9444, Val Loss = nan, Val Acc = 10.5000\n",
            "Epoch 4: Train Loss = nan, Train Acc = 9.9444, Val Loss = nan, Val Acc = 10.5000\n",
            "Epoch 5: Train Loss = nan, Train Acc = 9.9444, Val Loss = nan, Val Acc = 10.5000\n",
            "Epoch 6: Train Loss = nan, Train Acc = 9.9444, Val Loss = nan, Val Acc = 10.5000\n",
            "Epoch 7: Train Loss = nan, Train Acc = 9.9444, Val Loss = nan, Val Acc = 10.5000\n",
            "Epoch 8: Train Loss = nan, Train Acc = 9.9444, Val Loss = nan, Val Acc = 10.5000\n",
            "Epoch 9: Train Loss = nan, Train Acc = 9.9444, Val Loss = nan, Val Acc = 10.5000\n",
            "Epoch 10: Train Loss = nan, Train Acc = 9.9444, Val Loss = nan, Val Acc = 10.5000\n"
          ]
        },
        {
          "output_type": "display_data",
          "data": {
            "text/plain": [
              "<IPython.core.display.HTML object>"
            ],
            "text/html": []
          },
          "metadata": {}
        },
        {
          "output_type": "display_data",
          "data": {
            "text/plain": [
              "<IPython.core.display.HTML object>"
            ],
            "text/html": [
              "<br>    <style><br>        .wandb-row {<br>            display: flex;<br>            flex-direction: row;<br>            flex-wrap: wrap;<br>            justify-content: flex-start;<br>            width: 100%;<br>        }<br>        .wandb-col {<br>            display: flex;<br>            flex-direction: column;<br>            flex-basis: 100%;<br>            flex: 1;<br>            padding: 10px;<br>        }<br>    </style><br><div class=\"wandb-row\"><div class=\"wandb-col\"><h3>Run history:</h3><br/><table class=\"wandb\"><tr><td>Train_accuracy</td><td>▁▁▁▁▁▁▁▁▁▁</td></tr><tr><td>Val_accuracy</td><td>▁▁▁▁▁▁▁▁▁▁</td></tr><tr><td>epoch</td><td>▁▂▃▃▄▅▆▆▇█</td></tr></table><br/></div><div class=\"wandb-col\"><h3>Run summary:</h3><br/><table class=\"wandb\"><tr><td>Train_accuracy</td><td>9.94444</td></tr><tr><td>Train_loss</td><td>nan</td></tr><tr><td>Val_accuracy</td><td>10.5</td></tr><tr><td>Val_loss</td><td>nan</td></tr><tr><td>epoch</td><td>10</td></tr></table><br/></div></div>"
            ]
          },
          "metadata": {}
        },
        {
          "output_type": "display_data",
          "data": {
            "text/plain": [
              "<IPython.core.display.HTML object>"
            ],
            "text/html": [
              " View run <strong style=\"color:#cdcd00\">-ac_relu-hs_64-epc_10-hl_3-regu_0.0005-eta_0.0001-optmz_nadam-batch_16-wght_random</strong> at: <a href='https://wandb.ai/ma23m011-iit-madras/DA6401_Assignment1_ma23m011/runs/1uzeeuqu' target=\"_blank\">https://wandb.ai/ma23m011-iit-madras/DA6401_Assignment1_ma23m011/runs/1uzeeuqu</a><br> View project at: <a href='https://wandb.ai/ma23m011-iit-madras/DA6401_Assignment1_ma23m011' target=\"_blank\">https://wandb.ai/ma23m011-iit-madras/DA6401_Assignment1_ma23m011</a><br>Synced 5 W&B file(s), 0 media file(s), 0 artifact file(s) and 0 other file(s)"
            ]
          },
          "metadata": {}
        },
        {
          "output_type": "display_data",
          "data": {
            "text/plain": [
              "<IPython.core.display.HTML object>"
            ],
            "text/html": [
              "Find logs at: <code>./wandb/run-20250310_025028-1uzeeuqu/logs</code>"
            ]
          },
          "metadata": {}
        },
        {
          "output_type": "stream",
          "name": "stderr",
          "text": [
            "\u001b[34m\u001b[1mwandb\u001b[0m: Agent Starting Run: kfz5guth with config:\n",
            "\u001b[34m\u001b[1mwandb\u001b[0m: \tactivation: relu\n",
            "\u001b[34m\u001b[1mwandb\u001b[0m: \tbatch_size: 32\n",
            "\u001b[34m\u001b[1mwandb\u001b[0m: \tepochs: 10\n",
            "\u001b[34m\u001b[1mwandb\u001b[0m: \thidden_layers: 5\n",
            "\u001b[34m\u001b[1mwandb\u001b[0m: \thidden_size: 32\n",
            "\u001b[34m\u001b[1mwandb\u001b[0m: \tlearning_rate: 0.0001\n",
            "\u001b[34m\u001b[1mwandb\u001b[0m: \toptimizer: nag\n",
            "\u001b[34m\u001b[1mwandb\u001b[0m: \tweight_decay: 0\n",
            "\u001b[34m\u001b[1mwandb\u001b[0m: \tweight_init: xavier\n"
          ]
        },
        {
          "output_type": "display_data",
          "data": {
            "text/plain": [
              "<IPython.core.display.HTML object>"
            ],
            "text/html": [
              "Tracking run with wandb version 0.19.7"
            ]
          },
          "metadata": {}
        },
        {
          "output_type": "display_data",
          "data": {
            "text/plain": [
              "<IPython.core.display.HTML object>"
            ],
            "text/html": [
              "Run data is saved locally in <code>/content/wandb/run-20250310_025210-kfz5guth</code>"
            ]
          },
          "metadata": {}
        },
        {
          "output_type": "display_data",
          "data": {
            "text/plain": [
              "<IPython.core.display.HTML object>"
            ],
            "text/html": [
              "Syncing run <strong><a href='https://wandb.ai/ma23m011-iit-madras/DA6401_Assignment1_ma23m011/runs/kfz5guth' target=\"_blank\">major-sweep-75</a></strong> to <a href='https://wandb.ai/ma23m011-iit-madras/DA6401_Assignment1_ma23m011' target=\"_blank\">Weights & Biases</a> (<a href='https://wandb.me/developer-guide' target=\"_blank\">docs</a>)<br>Sweep page: <a href='https://wandb.ai/ma23m011-iit-madras/DA6401_Assignment1_ma23m011/sweeps/augzj4ot' target=\"_blank\">https://wandb.ai/ma23m011-iit-madras/DA6401_Assignment1_ma23m011/sweeps/augzj4ot</a>"
            ]
          },
          "metadata": {}
        },
        {
          "output_type": "display_data",
          "data": {
            "text/plain": [
              "<IPython.core.display.HTML object>"
            ],
            "text/html": [
              " View project at <a href='https://wandb.ai/ma23m011-iit-madras/DA6401_Assignment1_ma23m011' target=\"_blank\">https://wandb.ai/ma23m011-iit-madras/DA6401_Assignment1_ma23m011</a>"
            ]
          },
          "metadata": {}
        },
        {
          "output_type": "display_data",
          "data": {
            "text/plain": [
              "<IPython.core.display.HTML object>"
            ],
            "text/html": [
              " View sweep at <a href='https://wandb.ai/ma23m011-iit-madras/DA6401_Assignment1_ma23m011/sweeps/augzj4ot' target=\"_blank\">https://wandb.ai/ma23m011-iit-madras/DA6401_Assignment1_ma23m011/sweeps/augzj4ot</a>"
            ]
          },
          "metadata": {}
        },
        {
          "output_type": "display_data",
          "data": {
            "text/plain": [
              "<IPython.core.display.HTML object>"
            ],
            "text/html": [
              " View run at <a href='https://wandb.ai/ma23m011-iit-madras/DA6401_Assignment1_ma23m011/runs/kfz5guth' target=\"_blank\">https://wandb.ai/ma23m011-iit-madras/DA6401_Assignment1_ma23m011/runs/kfz5guth</a>"
            ]
          },
          "metadata": {}
        },
        {
          "output_type": "stream",
          "name": "stdout",
          "text": [
            "Epoch 1: Train Loss = 2.3111, Train Acc = 10.0630, Val Loss = 2.3137, Val Acc = 9.4167\n",
            "Epoch 2: Train Loss = 2.3111, Train Acc = 10.0630, Val Loss = 2.3137, Val Acc = 9.4167\n",
            "Epoch 3: Train Loss = 2.3111, Train Acc = 10.0630, Val Loss = 2.3137, Val Acc = 9.4167\n",
            "Epoch 4: Train Loss = 2.3111, Train Acc = 10.0630, Val Loss = 2.3137, Val Acc = 9.4167\n",
            "Epoch 5: Train Loss = 2.3111, Train Acc = 10.0630, Val Loss = 2.3137, Val Acc = 9.4167\n",
            "Epoch 6: Train Loss = 2.3111, Train Acc = 10.0630, Val Loss = 2.3137, Val Acc = 9.4167\n",
            "Epoch 7: Train Loss = 2.3111, Train Acc = 10.0630, Val Loss = 2.3137, Val Acc = 9.4167\n",
            "Epoch 8: Train Loss = 2.3111, Train Acc = 10.0630, Val Loss = 2.3137, Val Acc = 9.4167\n",
            "Epoch 9: Train Loss = 2.3111, Train Acc = 10.0630, Val Loss = 2.3137, Val Acc = 9.4167\n",
            "Epoch 10: Train Loss = 2.3111, Train Acc = 10.0630, Val Loss = 2.3137, Val Acc = 9.4167\n"
          ]
        },
        {
          "output_type": "display_data",
          "data": {
            "text/plain": [
              "<IPython.core.display.HTML object>"
            ],
            "text/html": []
          },
          "metadata": {}
        },
        {
          "output_type": "display_data",
          "data": {
            "text/plain": [
              "<IPython.core.display.HTML object>"
            ],
            "text/html": [
              "<br>    <style><br>        .wandb-row {<br>            display: flex;<br>            flex-direction: row;<br>            flex-wrap: wrap;<br>            justify-content: flex-start;<br>            width: 100%;<br>        }<br>        .wandb-col {<br>            display: flex;<br>            flex-direction: column;<br>            flex-basis: 100%;<br>            flex: 1;<br>            padding: 10px;<br>        }<br>    </style><br><div class=\"wandb-row\"><div class=\"wandb-col\"><h3>Run history:</h3><br/><table class=\"wandb\"><tr><td>Train_accuracy</td><td>▁▁▁▁▁▁▁▁▁▁</td></tr><tr><td>Train_loss</td><td>▁▁▁▁▁▁▁▁▁▁</td></tr><tr><td>Val_accuracy</td><td>▁▁▁▁▁▁▁▁▁▁</td></tr><tr><td>Val_loss</td><td>▁▁▁▁▁▁▁▁▁▁</td></tr><tr><td>epoch</td><td>▁▂▃▃▄▅▆▆▇█</td></tr></table><br/></div><div class=\"wandb-col\"><h3>Run summary:</h3><br/><table class=\"wandb\"><tr><td>Train_accuracy</td><td>10.06296</td></tr><tr><td>Train_loss</td><td>2.31109</td></tr><tr><td>Val_accuracy</td><td>9.41667</td></tr><tr><td>Val_loss</td><td>2.31369</td></tr><tr><td>epoch</td><td>10</td></tr></table><br/></div></div>"
            ]
          },
          "metadata": {}
        },
        {
          "output_type": "display_data",
          "data": {
            "text/plain": [
              "<IPython.core.display.HTML object>"
            ],
            "text/html": [
              " View run <strong style=\"color:#cdcd00\">-ac_relu-hs_32-epc_10-hl_5-regu_0-eta_0.0001-optmz_nag-batch_32-wght_xavier</strong> at: <a href='https://wandb.ai/ma23m011-iit-madras/DA6401_Assignment1_ma23m011/runs/kfz5guth' target=\"_blank\">https://wandb.ai/ma23m011-iit-madras/DA6401_Assignment1_ma23m011/runs/kfz5guth</a><br> View project at: <a href='https://wandb.ai/ma23m011-iit-madras/DA6401_Assignment1_ma23m011' target=\"_blank\">https://wandb.ai/ma23m011-iit-madras/DA6401_Assignment1_ma23m011</a><br>Synced 5 W&B file(s), 0 media file(s), 0 artifact file(s) and 0 other file(s)"
            ]
          },
          "metadata": {}
        },
        {
          "output_type": "display_data",
          "data": {
            "text/plain": [
              "<IPython.core.display.HTML object>"
            ],
            "text/html": [
              "Find logs at: <code>./wandb/run-20250310_025210-kfz5guth/logs</code>"
            ]
          },
          "metadata": {}
        },
        {
          "output_type": "stream",
          "name": "stderr",
          "text": [
            "\u001b[34m\u001b[1mwandb\u001b[0m: Agent Starting Run: nhqvm03y with config:\n",
            "\u001b[34m\u001b[1mwandb\u001b[0m: \tactivation: tanh\n",
            "\u001b[34m\u001b[1mwandb\u001b[0m: \tbatch_size: 16\n",
            "\u001b[34m\u001b[1mwandb\u001b[0m: \tepochs: 10\n",
            "\u001b[34m\u001b[1mwandb\u001b[0m: \thidden_layers: 4\n",
            "\u001b[34m\u001b[1mwandb\u001b[0m: \thidden_size: 32\n",
            "\u001b[34m\u001b[1mwandb\u001b[0m: \tlearning_rate: 0.0001\n",
            "\u001b[34m\u001b[1mwandb\u001b[0m: \toptimizer: rmsprop\n",
            "\u001b[34m\u001b[1mwandb\u001b[0m: \tweight_decay: 0.0005\n",
            "\u001b[34m\u001b[1mwandb\u001b[0m: \tweight_init: xavier\n"
          ]
        },
        {
          "output_type": "display_data",
          "data": {
            "text/plain": [
              "<IPython.core.display.HTML object>"
            ],
            "text/html": [
              "Tracking run with wandb version 0.19.7"
            ]
          },
          "metadata": {}
        },
        {
          "output_type": "display_data",
          "data": {
            "text/plain": [
              "<IPython.core.display.HTML object>"
            ],
            "text/html": [
              "Run data is saved locally in <code>/content/wandb/run-20250310_025246-nhqvm03y</code>"
            ]
          },
          "metadata": {}
        },
        {
          "output_type": "display_data",
          "data": {
            "text/plain": [
              "<IPython.core.display.HTML object>"
            ],
            "text/html": [
              "Syncing run <strong><a href='https://wandb.ai/ma23m011-iit-madras/DA6401_Assignment1_ma23m011/runs/nhqvm03y' target=\"_blank\">daily-sweep-76</a></strong> to <a href='https://wandb.ai/ma23m011-iit-madras/DA6401_Assignment1_ma23m011' target=\"_blank\">Weights & Biases</a> (<a href='https://wandb.me/developer-guide' target=\"_blank\">docs</a>)<br>Sweep page: <a href='https://wandb.ai/ma23m011-iit-madras/DA6401_Assignment1_ma23m011/sweeps/augzj4ot' target=\"_blank\">https://wandb.ai/ma23m011-iit-madras/DA6401_Assignment1_ma23m011/sweeps/augzj4ot</a>"
            ]
          },
          "metadata": {}
        },
        {
          "output_type": "display_data",
          "data": {
            "text/plain": [
              "<IPython.core.display.HTML object>"
            ],
            "text/html": [
              " View project at <a href='https://wandb.ai/ma23m011-iit-madras/DA6401_Assignment1_ma23m011' target=\"_blank\">https://wandb.ai/ma23m011-iit-madras/DA6401_Assignment1_ma23m011</a>"
            ]
          },
          "metadata": {}
        },
        {
          "output_type": "display_data",
          "data": {
            "text/plain": [
              "<IPython.core.display.HTML object>"
            ],
            "text/html": [
              " View sweep at <a href='https://wandb.ai/ma23m011-iit-madras/DA6401_Assignment1_ma23m011/sweeps/augzj4ot' target=\"_blank\">https://wandb.ai/ma23m011-iit-madras/DA6401_Assignment1_ma23m011/sweeps/augzj4ot</a>"
            ]
          },
          "metadata": {}
        },
        {
          "output_type": "display_data",
          "data": {
            "text/plain": [
              "<IPython.core.display.HTML object>"
            ],
            "text/html": [
              " View run at <a href='https://wandb.ai/ma23m011-iit-madras/DA6401_Assignment1_ma23m011/runs/nhqvm03y' target=\"_blank\">https://wandb.ai/ma23m011-iit-madras/DA6401_Assignment1_ma23m011/runs/nhqvm03y</a>"
            ]
          },
          "metadata": {}
        },
        {
          "output_type": "stream",
          "name": "stdout",
          "text": [
            "Epoch 1: Train Loss = 0.5942, Train Acc = 81.7074, Val Loss = 0.5928, Val Acc = 81.6167\n",
            "Epoch 2: Train Loss = 0.5028, Train Acc = 84.4556, Val Loss = 0.5104, Val Acc = 84.1333\n",
            "Epoch 3: Train Loss = 0.4813, Train Acc = 84.9204, Val Loss = 0.4857, Val Acc = 84.2500\n",
            "Epoch 4: Train Loss = 0.4410, Train Acc = 86.4630, Val Loss = 0.4521, Val Acc = 85.8833\n",
            "Epoch 5: Train Loss = 0.4292, Train Acc = 86.9500, Val Loss = 0.4436, Val Acc = 86.1667\n",
            "Epoch 6: Train Loss = 0.4232, Train Acc = 87.1426, Val Loss = 0.4395, Val Acc = 86.4167\n",
            "Epoch 7: Train Loss = 0.4100, Train Acc = 87.6056, Val Loss = 0.4326, Val Acc = 86.4167\n",
            "Epoch 8: Train Loss = 0.4028, Train Acc = 87.9963, Val Loss = 0.4252, Val Acc = 86.8333\n",
            "Epoch 9: Train Loss = 0.4005, Train Acc = 88.2093, Val Loss = 0.4299, Val Acc = 87.1167\n",
            "Epoch 10: Train Loss = 0.3986, Train Acc = 88.4222, Val Loss = 0.4269, Val Acc = 87.3667\n"
          ]
        },
        {
          "output_type": "display_data",
          "data": {
            "text/plain": [
              "<IPython.core.display.HTML object>"
            ],
            "text/html": []
          },
          "metadata": {}
        },
        {
          "output_type": "display_data",
          "data": {
            "text/plain": [
              "<IPython.core.display.HTML object>"
            ],
            "text/html": [
              "<br>    <style><br>        .wandb-row {<br>            display: flex;<br>            flex-direction: row;<br>            flex-wrap: wrap;<br>            justify-content: flex-start;<br>            width: 100%;<br>        }<br>        .wandb-col {<br>            display: flex;<br>            flex-direction: column;<br>            flex-basis: 100%;<br>            flex: 1;<br>            padding: 10px;<br>        }<br>    </style><br><div class=\"wandb-row\"><div class=\"wandb-col\"><h3>Run history:</h3><br/><table class=\"wandb\"><tr><td>Train_accuracy</td><td>▁▄▄▆▆▇▇███</td></tr><tr><td>Train_loss</td><td>█▅▄▃▂▂▁▁▁▁</td></tr><tr><td>Val_accuracy</td><td>▁▄▄▆▇▇▇▇██</td></tr><tr><td>Val_loss</td><td>█▅▄▂▂▂▁▁▁▁</td></tr><tr><td>epoch</td><td>▁▂▃▃▄▅▆▆▇█</td></tr></table><br/></div><div class=\"wandb-col\"><h3>Run summary:</h3><br/><table class=\"wandb\"><tr><td>Train_accuracy</td><td>88.42222</td></tr><tr><td>Train_loss</td><td>0.39861</td></tr><tr><td>Val_accuracy</td><td>87.36667</td></tr><tr><td>Val_loss</td><td>0.42688</td></tr><tr><td>epoch</td><td>10</td></tr></table><br/></div></div>"
            ]
          },
          "metadata": {}
        },
        {
          "output_type": "display_data",
          "data": {
            "text/plain": [
              "<IPython.core.display.HTML object>"
            ],
            "text/html": [
              " View run <strong style=\"color:#cdcd00\">-ac_tanh-hs_32-epc_10-hl_4-regu_0.0005-eta_0.0001-optmz_rmsprop-batch_16-wght_xavier</strong> at: <a href='https://wandb.ai/ma23m011-iit-madras/DA6401_Assignment1_ma23m011/runs/nhqvm03y' target=\"_blank\">https://wandb.ai/ma23m011-iit-madras/DA6401_Assignment1_ma23m011/runs/nhqvm03y</a><br> View project at: <a href='https://wandb.ai/ma23m011-iit-madras/DA6401_Assignment1_ma23m011' target=\"_blank\">https://wandb.ai/ma23m011-iit-madras/DA6401_Assignment1_ma23m011</a><br>Synced 5 W&B file(s), 0 media file(s), 0 artifact file(s) and 0 other file(s)"
            ]
          },
          "metadata": {}
        },
        {
          "output_type": "display_data",
          "data": {
            "text/plain": [
              "<IPython.core.display.HTML object>"
            ],
            "text/html": [
              "Find logs at: <code>./wandb/run-20250310_025246-nhqvm03y/logs</code>"
            ]
          },
          "metadata": {}
        },
        {
          "output_type": "stream",
          "name": "stderr",
          "text": [
            "\u001b[34m\u001b[1mwandb\u001b[0m: Agent Starting Run: p75v5626 with config:\n",
            "\u001b[34m\u001b[1mwandb\u001b[0m: \tactivation: sigmoid\n",
            "\u001b[34m\u001b[1mwandb\u001b[0m: \tbatch_size: 64\n",
            "\u001b[34m\u001b[1mwandb\u001b[0m: \tepochs: 5\n",
            "\u001b[34m\u001b[1mwandb\u001b[0m: \thidden_layers: 4\n",
            "\u001b[34m\u001b[1mwandb\u001b[0m: \thidden_size: 32\n",
            "\u001b[34m\u001b[1mwandb\u001b[0m: \tlearning_rate: 0.001\n",
            "\u001b[34m\u001b[1mwandb\u001b[0m: \toptimizer: mgd\n",
            "\u001b[34m\u001b[1mwandb\u001b[0m: \tweight_decay: 0.0005\n",
            "\u001b[34m\u001b[1mwandb\u001b[0m: \tweight_init: xavier\n"
          ]
        },
        {
          "output_type": "display_data",
          "data": {
            "text/plain": [
              "<IPython.core.display.HTML object>"
            ],
            "text/html": [
              "Tracking run with wandb version 0.19.7"
            ]
          },
          "metadata": {}
        },
        {
          "output_type": "display_data",
          "data": {
            "text/plain": [
              "<IPython.core.display.HTML object>"
            ],
            "text/html": [
              "Run data is saved locally in <code>/content/wandb/run-20250310_025402-p75v5626</code>"
            ]
          },
          "metadata": {}
        },
        {
          "output_type": "display_data",
          "data": {
            "text/plain": [
              "<IPython.core.display.HTML object>"
            ],
            "text/html": [
              "Syncing run <strong><a href='https://wandb.ai/ma23m011-iit-madras/DA6401_Assignment1_ma23m011/runs/p75v5626' target=\"_blank\">flowing-sweep-77</a></strong> to <a href='https://wandb.ai/ma23m011-iit-madras/DA6401_Assignment1_ma23m011' target=\"_blank\">Weights & Biases</a> (<a href='https://wandb.me/developer-guide' target=\"_blank\">docs</a>)<br>Sweep page: <a href='https://wandb.ai/ma23m011-iit-madras/DA6401_Assignment1_ma23m011/sweeps/augzj4ot' target=\"_blank\">https://wandb.ai/ma23m011-iit-madras/DA6401_Assignment1_ma23m011/sweeps/augzj4ot</a>"
            ]
          },
          "metadata": {}
        },
        {
          "output_type": "display_data",
          "data": {
            "text/plain": [
              "<IPython.core.display.HTML object>"
            ],
            "text/html": [
              " View project at <a href='https://wandb.ai/ma23m011-iit-madras/DA6401_Assignment1_ma23m011' target=\"_blank\">https://wandb.ai/ma23m011-iit-madras/DA6401_Assignment1_ma23m011</a>"
            ]
          },
          "metadata": {}
        },
        {
          "output_type": "display_data",
          "data": {
            "text/plain": [
              "<IPython.core.display.HTML object>"
            ],
            "text/html": [
              " View sweep at <a href='https://wandb.ai/ma23m011-iit-madras/DA6401_Assignment1_ma23m011/sweeps/augzj4ot' target=\"_blank\">https://wandb.ai/ma23m011-iit-madras/DA6401_Assignment1_ma23m011/sweeps/augzj4ot</a>"
            ]
          },
          "metadata": {}
        },
        {
          "output_type": "display_data",
          "data": {
            "text/plain": [
              "<IPython.core.display.HTML object>"
            ],
            "text/html": [
              " View run at <a href='https://wandb.ai/ma23m011-iit-madras/DA6401_Assignment1_ma23m011/runs/p75v5626' target=\"_blank\">https://wandb.ai/ma23m011-iit-madras/DA6401_Assignment1_ma23m011/runs/p75v5626</a>"
            ]
          },
          "metadata": {}
        },
        {
          "output_type": "stream",
          "name": "stdout",
          "text": [
            "Epoch 1: Train Loss = 2.5548, Train Acc = 9.9907, Val Loss = 2.5519, Val Acc = 10.0833\n",
            "Epoch 2: Train Loss = 2.5548, Train Acc = 9.9907, Val Loss = 2.5519, Val Acc = 10.0833\n",
            "Epoch 3: Train Loss = 2.5548, Train Acc = 9.9907, Val Loss = 2.5519, Val Acc = 10.0833\n",
            "Epoch 4: Train Loss = 2.5548, Train Acc = 9.9907, Val Loss = 2.5519, Val Acc = 10.0833\n",
            "Epoch 5: Train Loss = 2.5548, Train Acc = 9.9907, Val Loss = 2.5519, Val Acc = 10.0833\n"
          ]
        },
        {
          "output_type": "display_data",
          "data": {
            "text/plain": [
              "<IPython.core.display.HTML object>"
            ],
            "text/html": []
          },
          "metadata": {}
        },
        {
          "output_type": "display_data",
          "data": {
            "text/plain": [
              "<IPython.core.display.HTML object>"
            ],
            "text/html": [
              "<br>    <style><br>        .wandb-row {<br>            display: flex;<br>            flex-direction: row;<br>            flex-wrap: wrap;<br>            justify-content: flex-start;<br>            width: 100%;<br>        }<br>        .wandb-col {<br>            display: flex;<br>            flex-direction: column;<br>            flex-basis: 100%;<br>            flex: 1;<br>            padding: 10px;<br>        }<br>    </style><br><div class=\"wandb-row\"><div class=\"wandb-col\"><h3>Run history:</h3><br/><table class=\"wandb\"><tr><td>Train_accuracy</td><td>▁▁▁▁▁</td></tr><tr><td>Train_loss</td><td>▁▁▁▁▁</td></tr><tr><td>Val_accuracy</td><td>▁▁▁▁▁</td></tr><tr><td>Val_loss</td><td>▁▁▁▁▁</td></tr><tr><td>epoch</td><td>▁▃▅▆█</td></tr></table><br/></div><div class=\"wandb-col\"><h3>Run summary:</h3><br/><table class=\"wandb\"><tr><td>Train_accuracy</td><td>9.99074</td></tr><tr><td>Train_loss</td><td>2.55481</td></tr><tr><td>Val_accuracy</td><td>10.08333</td></tr><tr><td>Val_loss</td><td>2.55188</td></tr><tr><td>epoch</td><td>5</td></tr></table><br/></div></div>"
            ]
          },
          "metadata": {}
        },
        {
          "output_type": "display_data",
          "data": {
            "text/plain": [
              "<IPython.core.display.HTML object>"
            ],
            "text/html": [
              " View run <strong style=\"color:#cdcd00\">-ac_sigmoid-hs_32-epc_5-hl_4-regu_0.0005-eta_0.001-optmz_mgd-batch_64-wght_xavier</strong> at: <a href='https://wandb.ai/ma23m011-iit-madras/DA6401_Assignment1_ma23m011/runs/p75v5626' target=\"_blank\">https://wandb.ai/ma23m011-iit-madras/DA6401_Assignment1_ma23m011/runs/p75v5626</a><br> View project at: <a href='https://wandb.ai/ma23m011-iit-madras/DA6401_Assignment1_ma23m011' target=\"_blank\">https://wandb.ai/ma23m011-iit-madras/DA6401_Assignment1_ma23m011</a><br>Synced 5 W&B file(s), 0 media file(s), 0 artifact file(s) and 0 other file(s)"
            ]
          },
          "metadata": {}
        },
        {
          "output_type": "display_data",
          "data": {
            "text/plain": [
              "<IPython.core.display.HTML object>"
            ],
            "text/html": [
              "Find logs at: <code>./wandb/run-20250310_025402-p75v5626/logs</code>"
            ]
          },
          "metadata": {}
        },
        {
          "output_type": "stream",
          "name": "stderr",
          "text": [
            "\u001b[34m\u001b[1mwandb\u001b[0m: Agent Starting Run: xmaes1y8 with config:\n",
            "\u001b[34m\u001b[1mwandb\u001b[0m: \tactivation: tanh\n",
            "\u001b[34m\u001b[1mwandb\u001b[0m: \tbatch_size: 32\n",
            "\u001b[34m\u001b[1mwandb\u001b[0m: \tepochs: 5\n",
            "\u001b[34m\u001b[1mwandb\u001b[0m: \thidden_layers: 3\n",
            "\u001b[34m\u001b[1mwandb\u001b[0m: \thidden_size: 64\n",
            "\u001b[34m\u001b[1mwandb\u001b[0m: \tlearning_rate: 0.001\n",
            "\u001b[34m\u001b[1mwandb\u001b[0m: \toptimizer: sgd\n",
            "\u001b[34m\u001b[1mwandb\u001b[0m: \tweight_decay: 0.0005\n",
            "\u001b[34m\u001b[1mwandb\u001b[0m: \tweight_init: random\n"
          ]
        },
        {
          "output_type": "display_data",
          "data": {
            "text/plain": [
              "<IPython.core.display.HTML object>"
            ],
            "text/html": [
              "Tracking run with wandb version 0.19.7"
            ]
          },
          "metadata": {}
        },
        {
          "output_type": "display_data",
          "data": {
            "text/plain": [
              "<IPython.core.display.HTML object>"
            ],
            "text/html": [
              "Run data is saved locally in <code>/content/wandb/run-20250310_025423-xmaes1y8</code>"
            ]
          },
          "metadata": {}
        },
        {
          "output_type": "display_data",
          "data": {
            "text/plain": [
              "<IPython.core.display.HTML object>"
            ],
            "text/html": [
              "Syncing run <strong><a href='https://wandb.ai/ma23m011-iit-madras/DA6401_Assignment1_ma23m011/runs/xmaes1y8' target=\"_blank\">playful-sweep-78</a></strong> to <a href='https://wandb.ai/ma23m011-iit-madras/DA6401_Assignment1_ma23m011' target=\"_blank\">Weights & Biases</a> (<a href='https://wandb.me/developer-guide' target=\"_blank\">docs</a>)<br>Sweep page: <a href='https://wandb.ai/ma23m011-iit-madras/DA6401_Assignment1_ma23m011/sweeps/augzj4ot' target=\"_blank\">https://wandb.ai/ma23m011-iit-madras/DA6401_Assignment1_ma23m011/sweeps/augzj4ot</a>"
            ]
          },
          "metadata": {}
        },
        {
          "output_type": "display_data",
          "data": {
            "text/plain": [
              "<IPython.core.display.HTML object>"
            ],
            "text/html": [
              " View project at <a href='https://wandb.ai/ma23m011-iit-madras/DA6401_Assignment1_ma23m011' target=\"_blank\">https://wandb.ai/ma23m011-iit-madras/DA6401_Assignment1_ma23m011</a>"
            ]
          },
          "metadata": {}
        },
        {
          "output_type": "display_data",
          "data": {
            "text/plain": [
              "<IPython.core.display.HTML object>"
            ],
            "text/html": [
              " View sweep at <a href='https://wandb.ai/ma23m011-iit-madras/DA6401_Assignment1_ma23m011/sweeps/augzj4ot' target=\"_blank\">https://wandb.ai/ma23m011-iit-madras/DA6401_Assignment1_ma23m011/sweeps/augzj4ot</a>"
            ]
          },
          "metadata": {}
        },
        {
          "output_type": "display_data",
          "data": {
            "text/plain": [
              "<IPython.core.display.HTML object>"
            ],
            "text/html": [
              " View run at <a href='https://wandb.ai/ma23m011-iit-madras/DA6401_Assignment1_ma23m011/runs/xmaes1y8' target=\"_blank\">https://wandb.ai/ma23m011-iit-madras/DA6401_Assignment1_ma23m011/runs/xmaes1y8</a>"
            ]
          },
          "metadata": {}
        },
        {
          "output_type": "stream",
          "name": "stdout",
          "text": [
            "Epoch 1: Train Loss = 2.3038, Train Acc = 10.0833, Val Loss = 2.3041, Val Acc = 9.2500\n",
            "Epoch 2: Train Loss = 1.2890, Train Acc = 46.0815, Val Loss = 1.2874, Val Acc = 46.6833\n",
            "Epoch 3: Train Loss = 0.7650, Train Acc = 70.9500, Val Loss = 0.7630, Val Acc = 71.1500\n",
            "Epoch 4: Train Loss = 0.5875, Train Acc = 79.2481, Val Loss = 0.5972, Val Acc = 79.1167\n",
            "Epoch 5: Train Loss = 0.5153, Train Acc = 82.8333, Val Loss = 0.5376, Val Acc = 81.6167\n"
          ]
        },
        {
          "output_type": "display_data",
          "data": {
            "text/plain": [
              "<IPython.core.display.HTML object>"
            ],
            "text/html": []
          },
          "metadata": {}
        },
        {
          "output_type": "display_data",
          "data": {
            "text/plain": [
              "<IPython.core.display.HTML object>"
            ],
            "text/html": [
              "<br>    <style><br>        .wandb-row {<br>            display: flex;<br>            flex-direction: row;<br>            flex-wrap: wrap;<br>            justify-content: flex-start;<br>            width: 100%;<br>        }<br>        .wandb-col {<br>            display: flex;<br>            flex-direction: column;<br>            flex-basis: 100%;<br>            flex: 1;<br>            padding: 10px;<br>        }<br>    </style><br><div class=\"wandb-row\"><div class=\"wandb-col\"><h3>Run history:</h3><br/><table class=\"wandb\"><tr><td>Train_accuracy</td><td>▁▄▇██</td></tr><tr><td>Train_loss</td><td>█▄▂▁▁</td></tr><tr><td>Val_accuracy</td><td>▁▅▇██</td></tr><tr><td>Val_loss</td><td>█▄▂▁▁</td></tr><tr><td>epoch</td><td>▁▃▅▆█</td></tr></table><br/></div><div class=\"wandb-col\"><h3>Run summary:</h3><br/><table class=\"wandb\"><tr><td>Train_accuracy</td><td>82.83333</td></tr><tr><td>Train_loss</td><td>0.51535</td></tr><tr><td>Val_accuracy</td><td>81.61667</td></tr><tr><td>Val_loss</td><td>0.53759</td></tr><tr><td>epoch</td><td>5</td></tr></table><br/></div></div>"
            ]
          },
          "metadata": {}
        },
        {
          "output_type": "display_data",
          "data": {
            "text/plain": [
              "<IPython.core.display.HTML object>"
            ],
            "text/html": [
              " View run <strong style=\"color:#cdcd00\">-ac_tanh-hs_64-epc_5-hl_3-regu_0.0005-eta_0.001-optmz_sgd-batch_32-wght_random</strong> at: <a href='https://wandb.ai/ma23m011-iit-madras/DA6401_Assignment1_ma23m011/runs/xmaes1y8' target=\"_blank\">https://wandb.ai/ma23m011-iit-madras/DA6401_Assignment1_ma23m011/runs/xmaes1y8</a><br> View project at: <a href='https://wandb.ai/ma23m011-iit-madras/DA6401_Assignment1_ma23m011' target=\"_blank\">https://wandb.ai/ma23m011-iit-madras/DA6401_Assignment1_ma23m011</a><br>Synced 5 W&B file(s), 0 media file(s), 0 artifact file(s) and 0 other file(s)"
            ]
          },
          "metadata": {}
        },
        {
          "output_type": "display_data",
          "data": {
            "text/plain": [
              "<IPython.core.display.HTML object>"
            ],
            "text/html": [
              "Find logs at: <code>./wandb/run-20250310_025423-xmaes1y8/logs</code>"
            ]
          },
          "metadata": {}
        },
        {
          "output_type": "stream",
          "name": "stderr",
          "text": [
            "\u001b[34m\u001b[1mwandb\u001b[0m: Agent Starting Run: lv4m1lkc with config:\n",
            "\u001b[34m\u001b[1mwandb\u001b[0m: \tactivation: sigmoid\n",
            "\u001b[34m\u001b[1mwandb\u001b[0m: \tbatch_size: 16\n",
            "\u001b[34m\u001b[1mwandb\u001b[0m: \tepochs: 5\n",
            "\u001b[34m\u001b[1mwandb\u001b[0m: \thidden_layers: 4\n",
            "\u001b[34m\u001b[1mwandb\u001b[0m: \thidden_size: 32\n",
            "\u001b[34m\u001b[1mwandb\u001b[0m: \tlearning_rate: 0.0001\n",
            "\u001b[34m\u001b[1mwandb\u001b[0m: \toptimizer: nag\n",
            "\u001b[34m\u001b[1mwandb\u001b[0m: \tweight_decay: 0.5\n",
            "\u001b[34m\u001b[1mwandb\u001b[0m: \tweight_init: xavier\n"
          ]
        },
        {
          "output_type": "display_data",
          "data": {
            "text/plain": [
              "<IPython.core.display.HTML object>"
            ],
            "text/html": [
              "Tracking run with wandb version 0.19.7"
            ]
          },
          "metadata": {}
        },
        {
          "output_type": "display_data",
          "data": {
            "text/plain": [
              "<IPython.core.display.HTML object>"
            ],
            "text/html": [
              "Run data is saved locally in <code>/content/wandb/run-20250310_025459-lv4m1lkc</code>"
            ]
          },
          "metadata": {}
        },
        {
          "output_type": "display_data",
          "data": {
            "text/plain": [
              "<IPython.core.display.HTML object>"
            ],
            "text/html": [
              "Syncing run <strong><a href='https://wandb.ai/ma23m011-iit-madras/DA6401_Assignment1_ma23m011/runs/lv4m1lkc' target=\"_blank\">eager-sweep-79</a></strong> to <a href='https://wandb.ai/ma23m011-iit-madras/DA6401_Assignment1_ma23m011' target=\"_blank\">Weights & Biases</a> (<a href='https://wandb.me/developer-guide' target=\"_blank\">docs</a>)<br>Sweep page: <a href='https://wandb.ai/ma23m011-iit-madras/DA6401_Assignment1_ma23m011/sweeps/augzj4ot' target=\"_blank\">https://wandb.ai/ma23m011-iit-madras/DA6401_Assignment1_ma23m011/sweeps/augzj4ot</a>"
            ]
          },
          "metadata": {}
        },
        {
          "output_type": "display_data",
          "data": {
            "text/plain": [
              "<IPython.core.display.HTML object>"
            ],
            "text/html": [
              " View project at <a href='https://wandb.ai/ma23m011-iit-madras/DA6401_Assignment1_ma23m011' target=\"_blank\">https://wandb.ai/ma23m011-iit-madras/DA6401_Assignment1_ma23m011</a>"
            ]
          },
          "metadata": {}
        },
        {
          "output_type": "display_data",
          "data": {
            "text/plain": [
              "<IPython.core.display.HTML object>"
            ],
            "text/html": [
              " View sweep at <a href='https://wandb.ai/ma23m011-iit-madras/DA6401_Assignment1_ma23m011/sweeps/augzj4ot' target=\"_blank\">https://wandb.ai/ma23m011-iit-madras/DA6401_Assignment1_ma23m011/sweeps/augzj4ot</a>"
            ]
          },
          "metadata": {}
        },
        {
          "output_type": "display_data",
          "data": {
            "text/plain": [
              "<IPython.core.display.HTML object>"
            ],
            "text/html": [
              " View run at <a href='https://wandb.ai/ma23m011-iit-madras/DA6401_Assignment1_ma23m011/runs/lv4m1lkc' target=\"_blank\">https://wandb.ai/ma23m011-iit-madras/DA6401_Assignment1_ma23m011/runs/lv4m1lkc</a>"
            ]
          },
          "metadata": {}
        },
        {
          "output_type": "stream",
          "name": "stdout",
          "text": [
            "Epoch 1: Train Loss = 36.5878, Train Acc = 9.9648, Val Loss = 36.5697, Val Acc = 10.3167\n",
            "Epoch 2: Train Loss = 36.5878, Train Acc = 9.9648, Val Loss = 36.5697, Val Acc = 10.3167\n",
            "Epoch 3: Train Loss = 36.5878, Train Acc = 9.9648, Val Loss = 36.5697, Val Acc = 10.3167\n",
            "Epoch 4: Train Loss = 36.5878, Train Acc = 9.9648, Val Loss = 36.5697, Val Acc = 10.3167\n",
            "Epoch 5: Train Loss = 36.5878, Train Acc = 9.9648, Val Loss = 36.5697, Val Acc = 10.3167\n"
          ]
        },
        {
          "output_type": "display_data",
          "data": {
            "text/plain": [
              "<IPython.core.display.HTML object>"
            ],
            "text/html": []
          },
          "metadata": {}
        },
        {
          "output_type": "display_data",
          "data": {
            "text/plain": [
              "<IPython.core.display.HTML object>"
            ],
            "text/html": [
              "<br>    <style><br>        .wandb-row {<br>            display: flex;<br>            flex-direction: row;<br>            flex-wrap: wrap;<br>            justify-content: flex-start;<br>            width: 100%;<br>        }<br>        .wandb-col {<br>            display: flex;<br>            flex-direction: column;<br>            flex-basis: 100%;<br>            flex: 1;<br>            padding: 10px;<br>        }<br>    </style><br><div class=\"wandb-row\"><div class=\"wandb-col\"><h3>Run history:</h3><br/><table class=\"wandb\"><tr><td>Train_accuracy</td><td>▁▁▁▁▁</td></tr><tr><td>Train_loss</td><td>▁▁▁▁▁</td></tr><tr><td>Val_accuracy</td><td>▁▁▁▁▁</td></tr><tr><td>Val_loss</td><td>▁▁▁▁▁</td></tr><tr><td>epoch</td><td>▁▃▅▆█</td></tr></table><br/></div><div class=\"wandb-col\"><h3>Run summary:</h3><br/><table class=\"wandb\"><tr><td>Train_accuracy</td><td>9.96481</td></tr><tr><td>Train_loss</td><td>36.58783</td></tr><tr><td>Val_accuracy</td><td>10.31667</td></tr><tr><td>Val_loss</td><td>36.56973</td></tr><tr><td>epoch</td><td>5</td></tr></table><br/></div></div>"
            ]
          },
          "metadata": {}
        },
        {
          "output_type": "display_data",
          "data": {
            "text/plain": [
              "<IPython.core.display.HTML object>"
            ],
            "text/html": [
              " View run <strong style=\"color:#cdcd00\">-ac_sigmoid-hs_32-epc_5-hl_4-regu_0.5-eta_0.0001-optmz_nag-batch_16-wght_xavier</strong> at: <a href='https://wandb.ai/ma23m011-iit-madras/DA6401_Assignment1_ma23m011/runs/lv4m1lkc' target=\"_blank\">https://wandb.ai/ma23m011-iit-madras/DA6401_Assignment1_ma23m011/runs/lv4m1lkc</a><br> View project at: <a href='https://wandb.ai/ma23m011-iit-madras/DA6401_Assignment1_ma23m011' target=\"_blank\">https://wandb.ai/ma23m011-iit-madras/DA6401_Assignment1_ma23m011</a><br>Synced 5 W&B file(s), 0 media file(s), 0 artifact file(s) and 0 other file(s)"
            ]
          },
          "metadata": {}
        },
        {
          "output_type": "display_data",
          "data": {
            "text/plain": [
              "<IPython.core.display.HTML object>"
            ],
            "text/html": [
              "Find logs at: <code>./wandb/run-20250310_025459-lv4m1lkc/logs</code>"
            ]
          },
          "metadata": {}
        },
        {
          "output_type": "stream",
          "name": "stderr",
          "text": [
            "\u001b[34m\u001b[1mwandb\u001b[0m: Agent Starting Run: niti1vc0 with config:\n",
            "\u001b[34m\u001b[1mwandb\u001b[0m: \tactivation: relu\n",
            "\u001b[34m\u001b[1mwandb\u001b[0m: \tbatch_size: 16\n",
            "\u001b[34m\u001b[1mwandb\u001b[0m: \tepochs: 10\n",
            "\u001b[34m\u001b[1mwandb\u001b[0m: \thidden_layers: 5\n",
            "\u001b[34m\u001b[1mwandb\u001b[0m: \thidden_size: 64\n",
            "\u001b[34m\u001b[1mwandb\u001b[0m: \tlearning_rate: 0.0001\n",
            "\u001b[34m\u001b[1mwandb\u001b[0m: \toptimizer: sgd\n",
            "\u001b[34m\u001b[1mwandb\u001b[0m: \tweight_decay: 0.5\n",
            "\u001b[34m\u001b[1mwandb\u001b[0m: \tweight_init: xavier\n"
          ]
        },
        {
          "output_type": "display_data",
          "data": {
            "text/plain": [
              "<IPython.core.display.HTML object>"
            ],
            "text/html": [
              "Tracking run with wandb version 0.19.7"
            ]
          },
          "metadata": {}
        },
        {
          "output_type": "display_data",
          "data": {
            "text/plain": [
              "<IPython.core.display.HTML object>"
            ],
            "text/html": [
              "Run data is saved locally in <code>/content/wandb/run-20250310_025530-niti1vc0</code>"
            ]
          },
          "metadata": {}
        },
        {
          "output_type": "display_data",
          "data": {
            "text/plain": [
              "<IPython.core.display.HTML object>"
            ],
            "text/html": [
              "Syncing run <strong><a href='https://wandb.ai/ma23m011-iit-madras/DA6401_Assignment1_ma23m011/runs/niti1vc0' target=\"_blank\">sunny-sweep-80</a></strong> to <a href='https://wandb.ai/ma23m011-iit-madras/DA6401_Assignment1_ma23m011' target=\"_blank\">Weights & Biases</a> (<a href='https://wandb.me/developer-guide' target=\"_blank\">docs</a>)<br>Sweep page: <a href='https://wandb.ai/ma23m011-iit-madras/DA6401_Assignment1_ma23m011/sweeps/augzj4ot' target=\"_blank\">https://wandb.ai/ma23m011-iit-madras/DA6401_Assignment1_ma23m011/sweeps/augzj4ot</a>"
            ]
          },
          "metadata": {}
        },
        {
          "output_type": "display_data",
          "data": {
            "text/plain": [
              "<IPython.core.display.HTML object>"
            ],
            "text/html": [
              " View project at <a href='https://wandb.ai/ma23m011-iit-madras/DA6401_Assignment1_ma23m011' target=\"_blank\">https://wandb.ai/ma23m011-iit-madras/DA6401_Assignment1_ma23m011</a>"
            ]
          },
          "metadata": {}
        },
        {
          "output_type": "display_data",
          "data": {
            "text/plain": [
              "<IPython.core.display.HTML object>"
            ],
            "text/html": [
              " View sweep at <a href='https://wandb.ai/ma23m011-iit-madras/DA6401_Assignment1_ma23m011/sweeps/augzj4ot' target=\"_blank\">https://wandb.ai/ma23m011-iit-madras/DA6401_Assignment1_ma23m011/sweeps/augzj4ot</a>"
            ]
          },
          "metadata": {}
        },
        {
          "output_type": "display_data",
          "data": {
            "text/plain": [
              "<IPython.core.display.HTML object>"
            ],
            "text/html": [
              " View run at <a href='https://wandb.ai/ma23m011-iit-madras/DA6401_Assignment1_ma23m011/runs/niti1vc0' target=\"_blank\">https://wandb.ai/ma23m011-iit-madras/DA6401_Assignment1_ma23m011/runs/niti1vc0</a>"
            ]
          },
          "metadata": {}
        },
        {
          "output_type": "stream",
          "name": "stdout",
          "text": [
            "Epoch 1: Train Loss = 62.5538, Train Acc = 60.2056, Val Loss = 62.5387, Val Acc = 60.8333\n",
            "Epoch 2: Train Loss = 47.6153, Train Acc = 68.0796, Val Loss = 47.6029, Val Acc = 69.1667\n",
            "Epoch 3: Train Loss = 36.5547, Train Acc = 69.5407, Val Loss = 36.5459, Val Acc = 70.4167\n",
            "Epoch 4: Train Loss = 28.6094, Train Acc = 71.0685, Val Loss = 28.6010, Val Acc = 71.2167\n",
            "Epoch 5: Train Loss = 22.9221, Train Acc = 72.4056, Val Loss = 22.9117, Val Acc = 73.2000\n",
            "Epoch 6: Train Loss = 18.8623, Train Acc = 72.6278, Val Loss = 18.8545, Val Acc = 72.9833\n",
            "Epoch 7: Train Loss = 15.9476, Train Acc = 73.5481, Val Loss = 15.9385, Val Acc = 73.5500\n",
            "Epoch 8: Train Loss = 13.8573, Train Acc = 74.4759, Val Loss = 13.8524, Val Acc = 74.6333\n",
            "Epoch 9: Train Loss = 12.3898, Train Acc = 74.7833, Val Loss = 12.3801, Val Acc = 75.5667\n",
            "Epoch 10: Train Loss = 11.3626, Train Acc = 74.6074, Val Loss = 11.3551, Val Acc = 75.3167\n"
          ]
        },
        {
          "output_type": "display_data",
          "data": {
            "text/plain": [
              "<IPython.core.display.HTML object>"
            ],
            "text/html": []
          },
          "metadata": {}
        },
        {
          "output_type": "display_data",
          "data": {
            "text/plain": [
              "<IPython.core.display.HTML object>"
            ],
            "text/html": [
              "<br>    <style><br>        .wandb-row {<br>            display: flex;<br>            flex-direction: row;<br>            flex-wrap: wrap;<br>            justify-content: flex-start;<br>            width: 100%;<br>        }<br>        .wandb-col {<br>            display: flex;<br>            flex-direction: column;<br>            flex-basis: 100%;<br>            flex: 1;<br>            padding: 10px;<br>        }<br>    </style><br><div class=\"wandb-row\"><div class=\"wandb-col\"><h3>Run history:</h3><br/><table class=\"wandb\"><tr><td>Train_accuracy</td><td>▁▅▅▆▇▇▇███</td></tr><tr><td>Train_loss</td><td>█▆▄▃▃▂▂▁▁▁</td></tr><tr><td>Val_accuracy</td><td>▁▅▆▆▇▇▇███</td></tr><tr><td>Val_loss</td><td>█▆▄▃▃▂▂▁▁▁</td></tr><tr><td>epoch</td><td>▁▂▃▃▄▅▆▆▇█</td></tr></table><br/></div><div class=\"wandb-col\"><h3>Run summary:</h3><br/><table class=\"wandb\"><tr><td>Train_accuracy</td><td>74.60741</td></tr><tr><td>Train_loss</td><td>11.36259</td></tr><tr><td>Val_accuracy</td><td>75.31667</td></tr><tr><td>Val_loss</td><td>11.35507</td></tr><tr><td>epoch</td><td>10</td></tr></table><br/></div></div>"
            ]
          },
          "metadata": {}
        },
        {
          "output_type": "display_data",
          "data": {
            "text/plain": [
              "<IPython.core.display.HTML object>"
            ],
            "text/html": [
              " View run <strong style=\"color:#cdcd00\">-ac_relu-hs_64-epc_10-hl_5-regu_0.5-eta_0.0001-optmz_sgd-batch_16-wght_xavier</strong> at: <a href='https://wandb.ai/ma23m011-iit-madras/DA6401_Assignment1_ma23m011/runs/niti1vc0' target=\"_blank\">https://wandb.ai/ma23m011-iit-madras/DA6401_Assignment1_ma23m011/runs/niti1vc0</a><br> View project at: <a href='https://wandb.ai/ma23m011-iit-madras/DA6401_Assignment1_ma23m011' target=\"_blank\">https://wandb.ai/ma23m011-iit-madras/DA6401_Assignment1_ma23m011</a><br>Synced 5 W&B file(s), 0 media file(s), 0 artifact file(s) and 0 other file(s)"
            ]
          },
          "metadata": {}
        },
        {
          "output_type": "display_data",
          "data": {
            "text/plain": [
              "<IPython.core.display.HTML object>"
            ],
            "text/html": [
              "Find logs at: <code>./wandb/run-20250310_025530-niti1vc0/logs</code>"
            ]
          },
          "metadata": {}
        },
        {
          "output_type": "stream",
          "name": "stderr",
          "text": [
            "\u001b[34m\u001b[1mwandb\u001b[0m: Agent Starting Run: 1b3r88cz with config:\n",
            "\u001b[34m\u001b[1mwandb\u001b[0m: \tactivation: sigmoid\n",
            "\u001b[34m\u001b[1mwandb\u001b[0m: \tbatch_size: 64\n",
            "\u001b[34m\u001b[1mwandb\u001b[0m: \tepochs: 5\n",
            "\u001b[34m\u001b[1mwandb\u001b[0m: \thidden_layers: 3\n",
            "\u001b[34m\u001b[1mwandb\u001b[0m: \thidden_size: 64\n",
            "\u001b[34m\u001b[1mwandb\u001b[0m: \tlearning_rate: 0.001\n",
            "\u001b[34m\u001b[1mwandb\u001b[0m: \toptimizer: nag\n",
            "\u001b[34m\u001b[1mwandb\u001b[0m: \tweight_decay: 0.5\n",
            "\u001b[34m\u001b[1mwandb\u001b[0m: \tweight_init: xavier\n"
          ]
        },
        {
          "output_type": "display_data",
          "data": {
            "text/plain": [
              "<IPython.core.display.HTML object>"
            ],
            "text/html": [
              "Tracking run with wandb version 0.19.7"
            ]
          },
          "metadata": {}
        },
        {
          "output_type": "display_data",
          "data": {
            "text/plain": [
              "<IPython.core.display.HTML object>"
            ],
            "text/html": [
              "Run data is saved locally in <code>/content/wandb/run-20250310_025652-1b3r88cz</code>"
            ]
          },
          "metadata": {}
        },
        {
          "output_type": "display_data",
          "data": {
            "text/plain": [
              "<IPython.core.display.HTML object>"
            ],
            "text/html": [
              "Syncing run <strong><a href='https://wandb.ai/ma23m011-iit-madras/DA6401_Assignment1_ma23m011/runs/1b3r88cz' target=\"_blank\">eternal-sweep-81</a></strong> to <a href='https://wandb.ai/ma23m011-iit-madras/DA6401_Assignment1_ma23m011' target=\"_blank\">Weights & Biases</a> (<a href='https://wandb.me/developer-guide' target=\"_blank\">docs</a>)<br>Sweep page: <a href='https://wandb.ai/ma23m011-iit-madras/DA6401_Assignment1_ma23m011/sweeps/augzj4ot' target=\"_blank\">https://wandb.ai/ma23m011-iit-madras/DA6401_Assignment1_ma23m011/sweeps/augzj4ot</a>"
            ]
          },
          "metadata": {}
        },
        {
          "output_type": "display_data",
          "data": {
            "text/plain": [
              "<IPython.core.display.HTML object>"
            ],
            "text/html": [
              " View project at <a href='https://wandb.ai/ma23m011-iit-madras/DA6401_Assignment1_ma23m011' target=\"_blank\">https://wandb.ai/ma23m011-iit-madras/DA6401_Assignment1_ma23m011</a>"
            ]
          },
          "metadata": {}
        },
        {
          "output_type": "display_data",
          "data": {
            "text/plain": [
              "<IPython.core.display.HTML object>"
            ],
            "text/html": [
              " View sweep at <a href='https://wandb.ai/ma23m011-iit-madras/DA6401_Assignment1_ma23m011/sweeps/augzj4ot' target=\"_blank\">https://wandb.ai/ma23m011-iit-madras/DA6401_Assignment1_ma23m011/sweeps/augzj4ot</a>"
            ]
          },
          "metadata": {}
        },
        {
          "output_type": "display_data",
          "data": {
            "text/plain": [
              "<IPython.core.display.HTML object>"
            ],
            "text/html": [
              " View run at <a href='https://wandb.ai/ma23m011-iit-madras/DA6401_Assignment1_ma23m011/runs/1b3r88cz' target=\"_blank\">https://wandb.ai/ma23m011-iit-madras/DA6401_Assignment1_ma23m011/runs/1b3r88cz</a>"
            ]
          },
          "metadata": {}
        },
        {
          "output_type": "stream",
          "name": "stdout",
          "text": [
            "Epoch 1: Train Loss = 52.8502, Train Acc = 10.0648, Val Loss = 52.8530, Val Acc = 9.4167\n",
            "Epoch 2: Train Loss = 52.8502, Train Acc = 10.0648, Val Loss = 52.8530, Val Acc = 9.4167\n",
            "Epoch 3: Train Loss = 52.8502, Train Acc = 10.0648, Val Loss = 52.8530, Val Acc = 9.4167\n",
            "Epoch 4: Train Loss = 52.8502, Train Acc = 10.0648, Val Loss = 52.8530, Val Acc = 9.4167\n",
            "Epoch 5: Train Loss = 52.8502, Train Acc = 10.0648, Val Loss = 52.8530, Val Acc = 9.4167\n"
          ]
        },
        {
          "output_type": "display_data",
          "data": {
            "text/plain": [
              "<IPython.core.display.HTML object>"
            ],
            "text/html": []
          },
          "metadata": {}
        },
        {
          "output_type": "display_data",
          "data": {
            "text/plain": [
              "<IPython.core.display.HTML object>"
            ],
            "text/html": [
              "<br>    <style><br>        .wandb-row {<br>            display: flex;<br>            flex-direction: row;<br>            flex-wrap: wrap;<br>            justify-content: flex-start;<br>            width: 100%;<br>        }<br>        .wandb-col {<br>            display: flex;<br>            flex-direction: column;<br>            flex-basis: 100%;<br>            flex: 1;<br>            padding: 10px;<br>        }<br>    </style><br><div class=\"wandb-row\"><div class=\"wandb-col\"><h3>Run history:</h3><br/><table class=\"wandb\"><tr><td>Train_accuracy</td><td>▁▁▁▁▁</td></tr><tr><td>Train_loss</td><td>▁▁▁▁▁</td></tr><tr><td>Val_accuracy</td><td>▁▁▁▁▁</td></tr><tr><td>Val_loss</td><td>▁▁▁▁▁</td></tr><tr><td>epoch</td><td>▁▃▅▆█</td></tr></table><br/></div><div class=\"wandb-col\"><h3>Run summary:</h3><br/><table class=\"wandb\"><tr><td>Train_accuracy</td><td>10.06481</td></tr><tr><td>Train_loss</td><td>52.85019</td></tr><tr><td>Val_accuracy</td><td>9.41667</td></tr><tr><td>Val_loss</td><td>52.85297</td></tr><tr><td>epoch</td><td>5</td></tr></table><br/></div></div>"
            ]
          },
          "metadata": {}
        },
        {
          "output_type": "display_data",
          "data": {
            "text/plain": [
              "<IPython.core.display.HTML object>"
            ],
            "text/html": [
              " View run <strong style=\"color:#cdcd00\">-ac_sigmoid-hs_64-epc_5-hl_3-regu_0.5-eta_0.001-optmz_nag-batch_64-wght_xavier</strong> at: <a href='https://wandb.ai/ma23m011-iit-madras/DA6401_Assignment1_ma23m011/runs/1b3r88cz' target=\"_blank\">https://wandb.ai/ma23m011-iit-madras/DA6401_Assignment1_ma23m011/runs/1b3r88cz</a><br> View project at: <a href='https://wandb.ai/ma23m011-iit-madras/DA6401_Assignment1_ma23m011' target=\"_blank\">https://wandb.ai/ma23m011-iit-madras/DA6401_Assignment1_ma23m011</a><br>Synced 5 W&B file(s), 0 media file(s), 0 artifact file(s) and 0 other file(s)"
            ]
          },
          "metadata": {}
        },
        {
          "output_type": "display_data",
          "data": {
            "text/plain": [
              "<IPython.core.display.HTML object>"
            ],
            "text/html": [
              "Find logs at: <code>./wandb/run-20250310_025652-1b3r88cz/logs</code>"
            ]
          },
          "metadata": {}
        },
        {
          "output_type": "stream",
          "name": "stderr",
          "text": [
            "\u001b[34m\u001b[1mwandb\u001b[0m: Agent Starting Run: dkru0gyr with config:\n",
            "\u001b[34m\u001b[1mwandb\u001b[0m: \tactivation: sigmoid\n",
            "\u001b[34m\u001b[1mwandb\u001b[0m: \tbatch_size: 32\n",
            "\u001b[34m\u001b[1mwandb\u001b[0m: \tepochs: 5\n",
            "\u001b[34m\u001b[1mwandb\u001b[0m: \thidden_layers: 3\n",
            "\u001b[34m\u001b[1mwandb\u001b[0m: \thidden_size: 128\n",
            "\u001b[34m\u001b[1mwandb\u001b[0m: \tlearning_rate: 0.001\n",
            "\u001b[34m\u001b[1mwandb\u001b[0m: \toptimizer: nag\n",
            "\u001b[34m\u001b[1mwandb\u001b[0m: \tweight_decay: 0.0005\n",
            "\u001b[34m\u001b[1mwandb\u001b[0m: \tweight_init: xavier\n"
          ]
        },
        {
          "output_type": "display_data",
          "data": {
            "text/plain": [
              "<IPython.core.display.HTML object>"
            ],
            "text/html": [
              "Tracking run with wandb version 0.19.7"
            ]
          },
          "metadata": {}
        },
        {
          "output_type": "display_data",
          "data": {
            "text/plain": [
              "<IPython.core.display.HTML object>"
            ],
            "text/html": [
              "Run data is saved locally in <code>/content/wandb/run-20250310_025717-dkru0gyr</code>"
            ]
          },
          "metadata": {}
        },
        {
          "output_type": "display_data",
          "data": {
            "text/plain": [
              "<IPython.core.display.HTML object>"
            ],
            "text/html": [
              "Syncing run <strong><a href='https://wandb.ai/ma23m011-iit-madras/DA6401_Assignment1_ma23m011/runs/dkru0gyr' target=\"_blank\">quiet-sweep-82</a></strong> to <a href='https://wandb.ai/ma23m011-iit-madras/DA6401_Assignment1_ma23m011' target=\"_blank\">Weights & Biases</a> (<a href='https://wandb.me/developer-guide' target=\"_blank\">docs</a>)<br>Sweep page: <a href='https://wandb.ai/ma23m011-iit-madras/DA6401_Assignment1_ma23m011/sweeps/augzj4ot' target=\"_blank\">https://wandb.ai/ma23m011-iit-madras/DA6401_Assignment1_ma23m011/sweeps/augzj4ot</a>"
            ]
          },
          "metadata": {}
        },
        {
          "output_type": "display_data",
          "data": {
            "text/plain": [
              "<IPython.core.display.HTML object>"
            ],
            "text/html": [
              " View project at <a href='https://wandb.ai/ma23m011-iit-madras/DA6401_Assignment1_ma23m011' target=\"_blank\">https://wandb.ai/ma23m011-iit-madras/DA6401_Assignment1_ma23m011</a>"
            ]
          },
          "metadata": {}
        },
        {
          "output_type": "display_data",
          "data": {
            "text/plain": [
              "<IPython.core.display.HTML object>"
            ],
            "text/html": [
              " View sweep at <a href='https://wandb.ai/ma23m011-iit-madras/DA6401_Assignment1_ma23m011/sweeps/augzj4ot' target=\"_blank\">https://wandb.ai/ma23m011-iit-madras/DA6401_Assignment1_ma23m011/sweeps/augzj4ot</a>"
            ]
          },
          "metadata": {}
        },
        {
          "output_type": "display_data",
          "data": {
            "text/plain": [
              "<IPython.core.display.HTML object>"
            ],
            "text/html": [
              " View run at <a href='https://wandb.ai/ma23m011-iit-madras/DA6401_Assignment1_ma23m011/runs/dkru0gyr' target=\"_blank\">https://wandb.ai/ma23m011-iit-madras/DA6401_Assignment1_ma23m011/runs/dkru0gyr</a>"
            ]
          },
          "metadata": {}
        },
        {
          "output_type": "stream",
          "name": "stdout",
          "text": [
            "Epoch 1: Train Loss = 2.4675, Train Acc = 9.9704, Val Loss = 2.4671, Val Acc = 10.2667\n",
            "Epoch 2: Train Loss = 2.4675, Train Acc = 9.9704, Val Loss = 2.4671, Val Acc = 10.2667\n",
            "Epoch 3: Train Loss = 2.4675, Train Acc = 9.9704, Val Loss = 2.4671, Val Acc = 10.2667\n",
            "Epoch 4: Train Loss = 2.4675, Train Acc = 9.9704, Val Loss = 2.4671, Val Acc = 10.2667\n",
            "Epoch 5: Train Loss = 2.4675, Train Acc = 9.9704, Val Loss = 2.4671, Val Acc = 10.2667\n"
          ]
        },
        {
          "output_type": "display_data",
          "data": {
            "text/plain": [
              "<IPython.core.display.HTML object>"
            ],
            "text/html": []
          },
          "metadata": {}
        },
        {
          "output_type": "display_data",
          "data": {
            "text/plain": [
              "<IPython.core.display.HTML object>"
            ],
            "text/html": [
              "<br>    <style><br>        .wandb-row {<br>            display: flex;<br>            flex-direction: row;<br>            flex-wrap: wrap;<br>            justify-content: flex-start;<br>            width: 100%;<br>        }<br>        .wandb-col {<br>            display: flex;<br>            flex-direction: column;<br>            flex-basis: 100%;<br>            flex: 1;<br>            padding: 10px;<br>        }<br>    </style><br><div class=\"wandb-row\"><div class=\"wandb-col\"><h3>Run history:</h3><br/><table class=\"wandb\"><tr><td>Train_accuracy</td><td>▁▁▁▁▁</td></tr><tr><td>Train_loss</td><td>▁▁▁▁▁</td></tr><tr><td>Val_accuracy</td><td>▁▁▁▁▁</td></tr><tr><td>Val_loss</td><td>▁▁▁▁▁</td></tr><tr><td>epoch</td><td>▁▃▅▆█</td></tr></table><br/></div><div class=\"wandb-col\"><h3>Run summary:</h3><br/><table class=\"wandb\"><tr><td>Train_accuracy</td><td>9.97037</td></tr><tr><td>Train_loss</td><td>2.46747</td></tr><tr><td>Val_accuracy</td><td>10.26667</td></tr><tr><td>Val_loss</td><td>2.46705</td></tr><tr><td>epoch</td><td>5</td></tr></table><br/></div></div>"
            ]
          },
          "metadata": {}
        },
        {
          "output_type": "display_data",
          "data": {
            "text/plain": [
              "<IPython.core.display.HTML object>"
            ],
            "text/html": [
              " View run <strong style=\"color:#cdcd00\">-ac_sigmoid-hs_128-epc_5-hl_3-regu_0.0005-eta_0.001-optmz_nag-batch_32-wght_xavier</strong> at: <a href='https://wandb.ai/ma23m011-iit-madras/DA6401_Assignment1_ma23m011/runs/dkru0gyr' target=\"_blank\">https://wandb.ai/ma23m011-iit-madras/DA6401_Assignment1_ma23m011/runs/dkru0gyr</a><br> View project at: <a href='https://wandb.ai/ma23m011-iit-madras/DA6401_Assignment1_ma23m011' target=\"_blank\">https://wandb.ai/ma23m011-iit-madras/DA6401_Assignment1_ma23m011</a><br>Synced 5 W&B file(s), 0 media file(s), 0 artifact file(s) and 0 other file(s)"
            ]
          },
          "metadata": {}
        },
        {
          "output_type": "display_data",
          "data": {
            "text/plain": [
              "<IPython.core.display.HTML object>"
            ],
            "text/html": [
              "Find logs at: <code>./wandb/run-20250310_025717-dkru0gyr/logs</code>"
            ]
          },
          "metadata": {}
        },
        {
          "output_type": "stream",
          "name": "stderr",
          "text": [
            "\u001b[34m\u001b[1mwandb\u001b[0m: Agent Starting Run: ok5gn20h with config:\n",
            "\u001b[34m\u001b[1mwandb\u001b[0m: \tactivation: sigmoid\n",
            "\u001b[34m\u001b[1mwandb\u001b[0m: \tbatch_size: 64\n",
            "\u001b[34m\u001b[1mwandb\u001b[0m: \tepochs: 5\n",
            "\u001b[34m\u001b[1mwandb\u001b[0m: \thidden_layers: 4\n",
            "\u001b[34m\u001b[1mwandb\u001b[0m: \thidden_size: 128\n",
            "\u001b[34m\u001b[1mwandb\u001b[0m: \tlearning_rate: 0.0001\n",
            "\u001b[34m\u001b[1mwandb\u001b[0m: \toptimizer: sgd\n",
            "\u001b[34m\u001b[1mwandb\u001b[0m: \tweight_decay: 0\n",
            "\u001b[34m\u001b[1mwandb\u001b[0m: \tweight_init: xavier\n"
          ]
        },
        {
          "output_type": "display_data",
          "data": {
            "text/plain": [
              "<IPython.core.display.HTML object>"
            ],
            "text/html": [
              "Tracking run with wandb version 0.19.7"
            ]
          },
          "metadata": {}
        },
        {
          "output_type": "display_data",
          "data": {
            "text/plain": [
              "<IPython.core.display.HTML object>"
            ],
            "text/html": [
              "Run data is saved locally in <code>/content/wandb/run-20250310_025808-ok5gn20h</code>"
            ]
          },
          "metadata": {}
        },
        {
          "output_type": "display_data",
          "data": {
            "text/plain": [
              "<IPython.core.display.HTML object>"
            ],
            "text/html": [
              "Syncing run <strong><a href='https://wandb.ai/ma23m011-iit-madras/DA6401_Assignment1_ma23m011/runs/ok5gn20h' target=\"_blank\">driven-sweep-83</a></strong> to <a href='https://wandb.ai/ma23m011-iit-madras/DA6401_Assignment1_ma23m011' target=\"_blank\">Weights & Biases</a> (<a href='https://wandb.me/developer-guide' target=\"_blank\">docs</a>)<br>Sweep page: <a href='https://wandb.ai/ma23m011-iit-madras/DA6401_Assignment1_ma23m011/sweeps/augzj4ot' target=\"_blank\">https://wandb.ai/ma23m011-iit-madras/DA6401_Assignment1_ma23m011/sweeps/augzj4ot</a>"
            ]
          },
          "metadata": {}
        },
        {
          "output_type": "display_data",
          "data": {
            "text/plain": [
              "<IPython.core.display.HTML object>"
            ],
            "text/html": [
              " View project at <a href='https://wandb.ai/ma23m011-iit-madras/DA6401_Assignment1_ma23m011' target=\"_blank\">https://wandb.ai/ma23m011-iit-madras/DA6401_Assignment1_ma23m011</a>"
            ]
          },
          "metadata": {}
        },
        {
          "output_type": "display_data",
          "data": {
            "text/plain": [
              "<IPython.core.display.HTML object>"
            ],
            "text/html": [
              " View sweep at <a href='https://wandb.ai/ma23m011-iit-madras/DA6401_Assignment1_ma23m011/sweeps/augzj4ot' target=\"_blank\">https://wandb.ai/ma23m011-iit-madras/DA6401_Assignment1_ma23m011/sweeps/augzj4ot</a>"
            ]
          },
          "metadata": {}
        },
        {
          "output_type": "display_data",
          "data": {
            "text/plain": [
              "<IPython.core.display.HTML object>"
            ],
            "text/html": [
              " View run at <a href='https://wandb.ai/ma23m011-iit-madras/DA6401_Assignment1_ma23m011/runs/ok5gn20h' target=\"_blank\">https://wandb.ai/ma23m011-iit-madras/DA6401_Assignment1_ma23m011/runs/ok5gn20h</a>"
            ]
          },
          "metadata": {}
        },
        {
          "output_type": "stream",
          "name": "stdout",
          "text": [
            "Epoch 1: Train Loss = 2.3024, Train Acc = 9.9704, Val Loss = 2.3024, Val Acc = 10.2667\n",
            "Epoch 2: Train Loss = 2.3023, Train Acc = 9.9685, Val Loss = 2.3029, Val Acc = 10.3167\n",
            "Epoch 3: Train Loss = 2.3028, Train Acc = 10.0648, Val Loss = 2.3048, Val Acc = 9.4167\n",
            "Epoch 4: Train Loss = 2.3017, Train Acc = 10.0648, Val Loss = 2.3019, Val Acc = 9.4167\n",
            "Epoch 5: Train Loss = 2.3013, Train Acc = 9.9444, Val Loss = 2.3009, Val Acc = 10.5000\n"
          ]
        },
        {
          "output_type": "display_data",
          "data": {
            "text/plain": [
              "<IPython.core.display.HTML object>"
            ],
            "text/html": []
          },
          "metadata": {}
        },
        {
          "output_type": "display_data",
          "data": {
            "text/plain": [
              "<IPython.core.display.HTML object>"
            ],
            "text/html": [
              "<br>    <style><br>        .wandb-row {<br>            display: flex;<br>            flex-direction: row;<br>            flex-wrap: wrap;<br>            justify-content: flex-start;<br>            width: 100%;<br>        }<br>        .wandb-col {<br>            display: flex;<br>            flex-direction: column;<br>            flex-basis: 100%;<br>            flex: 1;<br>            padding: 10px;<br>        }<br>    </style><br><div class=\"wandb-row\"><div class=\"wandb-col\"><h3>Run history:</h3><br/><table class=\"wandb\"><tr><td>Train_accuracy</td><td>▃▂██▁</td></tr><tr><td>Train_loss</td><td>▆▆█▃▁</td></tr><tr><td>Val_accuracy</td><td>▆▇▁▁█</td></tr><tr><td>Val_loss</td><td>▄▅█▃▁</td></tr><tr><td>epoch</td><td>▁▃▅▆█</td></tr></table><br/></div><div class=\"wandb-col\"><h3>Run summary:</h3><br/><table class=\"wandb\"><tr><td>Train_accuracy</td><td>9.94444</td></tr><tr><td>Train_loss</td><td>2.30128</td></tr><tr><td>Val_accuracy</td><td>10.5</td></tr><tr><td>Val_loss</td><td>2.30095</td></tr><tr><td>epoch</td><td>5</td></tr></table><br/></div></div>"
            ]
          },
          "metadata": {}
        },
        {
          "output_type": "display_data",
          "data": {
            "text/plain": [
              "<IPython.core.display.HTML object>"
            ],
            "text/html": [
              " View run <strong style=\"color:#cdcd00\">-ac_sigmoid-hs_128-epc_5-hl_4-regu_0-eta_0.0001-optmz_sgd-batch_64-wght_xavier</strong> at: <a href='https://wandb.ai/ma23m011-iit-madras/DA6401_Assignment1_ma23m011/runs/ok5gn20h' target=\"_blank\">https://wandb.ai/ma23m011-iit-madras/DA6401_Assignment1_ma23m011/runs/ok5gn20h</a><br> View project at: <a href='https://wandb.ai/ma23m011-iit-madras/DA6401_Assignment1_ma23m011' target=\"_blank\">https://wandb.ai/ma23m011-iit-madras/DA6401_Assignment1_ma23m011</a><br>Synced 5 W&B file(s), 0 media file(s), 0 artifact file(s) and 0 other file(s)"
            ]
          },
          "metadata": {}
        },
        {
          "output_type": "display_data",
          "data": {
            "text/plain": [
              "<IPython.core.display.HTML object>"
            ],
            "text/html": [
              "Find logs at: <code>./wandb/run-20250310_025808-ok5gn20h/logs</code>"
            ]
          },
          "metadata": {}
        },
        {
          "output_type": "stream",
          "name": "stderr",
          "text": [
            "\u001b[34m\u001b[1mwandb\u001b[0m: Agent Starting Run: 6umjki3v with config:\n",
            "\u001b[34m\u001b[1mwandb\u001b[0m: \tactivation: tanh\n",
            "\u001b[34m\u001b[1mwandb\u001b[0m: \tbatch_size: 64\n",
            "\u001b[34m\u001b[1mwandb\u001b[0m: \tepochs: 10\n",
            "\u001b[34m\u001b[1mwandb\u001b[0m: \thidden_layers: 4\n",
            "\u001b[34m\u001b[1mwandb\u001b[0m: \thidden_size: 128\n",
            "\u001b[34m\u001b[1mwandb\u001b[0m: \tlearning_rate: 0.001\n",
            "\u001b[34m\u001b[1mwandb\u001b[0m: \toptimizer: sgd\n",
            "\u001b[34m\u001b[1mwandb\u001b[0m: \tweight_decay: 0.0005\n",
            "\u001b[34m\u001b[1mwandb\u001b[0m: \tweight_init: random\n"
          ]
        },
        {
          "output_type": "display_data",
          "data": {
            "text/plain": [
              "<IPython.core.display.HTML object>"
            ],
            "text/html": [
              "Tracking run with wandb version 0.19.7"
            ]
          },
          "metadata": {}
        },
        {
          "output_type": "display_data",
          "data": {
            "text/plain": [
              "<IPython.core.display.HTML object>"
            ],
            "text/html": [
              "Run data is saved locally in <code>/content/wandb/run-20250310_025935-6umjki3v</code>"
            ]
          },
          "metadata": {}
        },
        {
          "output_type": "display_data",
          "data": {
            "text/plain": [
              "<IPython.core.display.HTML object>"
            ],
            "text/html": [
              "Syncing run <strong><a href='https://wandb.ai/ma23m011-iit-madras/DA6401_Assignment1_ma23m011/runs/6umjki3v' target=\"_blank\">celestial-sweep-84</a></strong> to <a href='https://wandb.ai/ma23m011-iit-madras/DA6401_Assignment1_ma23m011' target=\"_blank\">Weights & Biases</a> (<a href='https://wandb.me/developer-guide' target=\"_blank\">docs</a>)<br>Sweep page: <a href='https://wandb.ai/ma23m011-iit-madras/DA6401_Assignment1_ma23m011/sweeps/augzj4ot' target=\"_blank\">https://wandb.ai/ma23m011-iit-madras/DA6401_Assignment1_ma23m011/sweeps/augzj4ot</a>"
            ]
          },
          "metadata": {}
        },
        {
          "output_type": "display_data",
          "data": {
            "text/plain": [
              "<IPython.core.display.HTML object>"
            ],
            "text/html": [
              " View project at <a href='https://wandb.ai/ma23m011-iit-madras/DA6401_Assignment1_ma23m011' target=\"_blank\">https://wandb.ai/ma23m011-iit-madras/DA6401_Assignment1_ma23m011</a>"
            ]
          },
          "metadata": {}
        },
        {
          "output_type": "display_data",
          "data": {
            "text/plain": [
              "<IPython.core.display.HTML object>"
            ],
            "text/html": [
              " View sweep at <a href='https://wandb.ai/ma23m011-iit-madras/DA6401_Assignment1_ma23m011/sweeps/augzj4ot' target=\"_blank\">https://wandb.ai/ma23m011-iit-madras/DA6401_Assignment1_ma23m011/sweeps/augzj4ot</a>"
            ]
          },
          "metadata": {}
        },
        {
          "output_type": "display_data",
          "data": {
            "text/plain": [
              "<IPython.core.display.HTML object>"
            ],
            "text/html": [
              " View run at <a href='https://wandb.ai/ma23m011-iit-madras/DA6401_Assignment1_ma23m011/runs/6umjki3v' target=\"_blank\">https://wandb.ai/ma23m011-iit-madras/DA6401_Assignment1_ma23m011/runs/6umjki3v</a>"
            ]
          },
          "metadata": {}
        },
        {
          "output_type": "stream",
          "name": "stdout",
          "text": [
            "Epoch 1: Train Loss = 2.3064, Train Acc = 10.0648, Val Loss = 2.3068, Val Acc = 9.4167\n",
            "Epoch 2: Train Loss = 2.3064, Train Acc = 9.9389, Val Loss = 2.3063, Val Acc = 10.5500\n",
            "Epoch 3: Train Loss = 2.3064, Train Acc = 9.9963, Val Loss = 2.3067, Val Acc = 10.0333\n",
            "Epoch 4: Train Loss = 1.7080, Train Acc = 25.4907, Val Loss = 1.7121, Val Acc = 24.5000\n",
            "Epoch 5: Train Loss = 1.1150, Train Acc = 49.6630, Val Loss = 1.1077, Val Acc = 49.7667\n",
            "Epoch 6: Train Loss = 0.7533, Train Acc = 71.9111, Val Loss = 0.7419, Val Acc = 72.9333\n",
            "Epoch 7: Train Loss = 0.5912, Train Acc = 79.7648, Val Loss = 0.5978, Val Acc = 79.7500\n",
            "Epoch 8: Train Loss = 0.5292, Train Acc = 82.2222, Val Loss = 0.5392, Val Acc = 81.4500\n",
            "Epoch 9: Train Loss = 0.5449, Train Acc = 81.9759, Val Loss = 0.5733, Val Acc = 80.7667\n",
            "Epoch 10: Train Loss = 0.4837, Train Acc = 83.9944, Val Loss = 0.5051, Val Acc = 83.1167\n"
          ]
        },
        {
          "output_type": "display_data",
          "data": {
            "text/plain": [
              "<IPython.core.display.HTML object>"
            ],
            "text/html": []
          },
          "metadata": {}
        },
        {
          "output_type": "display_data",
          "data": {
            "text/plain": [
              "<IPython.core.display.HTML object>"
            ],
            "text/html": [
              "<br>    <style><br>        .wandb-row {<br>            display: flex;<br>            flex-direction: row;<br>            flex-wrap: wrap;<br>            justify-content: flex-start;<br>            width: 100%;<br>        }<br>        .wandb-col {<br>            display: flex;<br>            flex-direction: column;<br>            flex-basis: 100%;<br>            flex: 1;<br>            padding: 10px;<br>        }<br>    </style><br><div class=\"wandb-row\"><div class=\"wandb-col\"><h3>Run history:</h3><br/><table class=\"wandb\"><tr><td>Train_accuracy</td><td>▁▁▁▂▅▇████</td></tr><tr><td>Train_loss</td><td>███▆▃▂▁▁▁▁</td></tr><tr><td>Val_accuracy</td><td>▁▁▁▂▅▇████</td></tr><tr><td>Val_loss</td><td>███▆▃▂▁▁▁▁</td></tr><tr><td>epoch</td><td>▁▂▃▃▄▅▆▆▇█</td></tr></table><br/></div><div class=\"wandb-col\"><h3>Run summary:</h3><br/><table class=\"wandb\"><tr><td>Train_accuracy</td><td>83.99444</td></tr><tr><td>Train_loss</td><td>0.48366</td></tr><tr><td>Val_accuracy</td><td>83.11667</td></tr><tr><td>Val_loss</td><td>0.50508</td></tr><tr><td>epoch</td><td>10</td></tr></table><br/></div></div>"
            ]
          },
          "metadata": {}
        },
        {
          "output_type": "display_data",
          "data": {
            "text/plain": [
              "<IPython.core.display.HTML object>"
            ],
            "text/html": [
              " View run <strong style=\"color:#cdcd00\">-ac_tanh-hs_128-epc_10-hl_4-regu_0.0005-eta_0.001-optmz_sgd-batch_64-wght_random</strong> at: <a href='https://wandb.ai/ma23m011-iit-madras/DA6401_Assignment1_ma23m011/runs/6umjki3v' target=\"_blank\">https://wandb.ai/ma23m011-iit-madras/DA6401_Assignment1_ma23m011/runs/6umjki3v</a><br> View project at: <a href='https://wandb.ai/ma23m011-iit-madras/DA6401_Assignment1_ma23m011' target=\"_blank\">https://wandb.ai/ma23m011-iit-madras/DA6401_Assignment1_ma23m011</a><br>Synced 5 W&B file(s), 0 media file(s), 0 artifact file(s) and 0 other file(s)"
            ]
          },
          "metadata": {}
        },
        {
          "output_type": "display_data",
          "data": {
            "text/plain": [
              "<IPython.core.display.HTML object>"
            ],
            "text/html": [
              "Find logs at: <code>./wandb/run-20250310_025935-6umjki3v/logs</code>"
            ]
          },
          "metadata": {}
        },
        {
          "output_type": "stream",
          "name": "stderr",
          "text": [
            "\u001b[34m\u001b[1mwandb\u001b[0m: Agent Starting Run: o3zbfcpl with config:\n",
            "\u001b[34m\u001b[1mwandb\u001b[0m: \tactivation: tanh\n",
            "\u001b[34m\u001b[1mwandb\u001b[0m: \tbatch_size: 64\n",
            "\u001b[34m\u001b[1mwandb\u001b[0m: \tepochs: 10\n",
            "\u001b[34m\u001b[1mwandb\u001b[0m: \thidden_layers: 5\n",
            "\u001b[34m\u001b[1mwandb\u001b[0m: \thidden_size: 32\n",
            "\u001b[34m\u001b[1mwandb\u001b[0m: \tlearning_rate: 0.001\n",
            "\u001b[34m\u001b[1mwandb\u001b[0m: \toptimizer: nag\n",
            "\u001b[34m\u001b[1mwandb\u001b[0m: \tweight_decay: 0.0005\n",
            "\u001b[34m\u001b[1mwandb\u001b[0m: \tweight_init: random\n"
          ]
        },
        {
          "output_type": "display_data",
          "data": {
            "text/plain": [
              "<IPython.core.display.HTML object>"
            ],
            "text/html": [
              "Tracking run with wandb version 0.19.7"
            ]
          },
          "metadata": {}
        },
        {
          "output_type": "display_data",
          "data": {
            "text/plain": [
              "<IPython.core.display.HTML object>"
            ],
            "text/html": [
              "Run data is saved locally in <code>/content/wandb/run-20250310_030157-o3zbfcpl</code>"
            ]
          },
          "metadata": {}
        },
        {
          "output_type": "display_data",
          "data": {
            "text/plain": [
              "<IPython.core.display.HTML object>"
            ],
            "text/html": [
              "Syncing run <strong><a href='https://wandb.ai/ma23m011-iit-madras/DA6401_Assignment1_ma23m011/runs/o3zbfcpl' target=\"_blank\">graceful-sweep-85</a></strong> to <a href='https://wandb.ai/ma23m011-iit-madras/DA6401_Assignment1_ma23m011' target=\"_blank\">Weights & Biases</a> (<a href='https://wandb.me/developer-guide' target=\"_blank\">docs</a>)<br>Sweep page: <a href='https://wandb.ai/ma23m011-iit-madras/DA6401_Assignment1_ma23m011/sweeps/augzj4ot' target=\"_blank\">https://wandb.ai/ma23m011-iit-madras/DA6401_Assignment1_ma23m011/sweeps/augzj4ot</a>"
            ]
          },
          "metadata": {}
        },
        {
          "output_type": "display_data",
          "data": {
            "text/plain": [
              "<IPython.core.display.HTML object>"
            ],
            "text/html": [
              " View project at <a href='https://wandb.ai/ma23m011-iit-madras/DA6401_Assignment1_ma23m011' target=\"_blank\">https://wandb.ai/ma23m011-iit-madras/DA6401_Assignment1_ma23m011</a>"
            ]
          },
          "metadata": {}
        },
        {
          "output_type": "display_data",
          "data": {
            "text/plain": [
              "<IPython.core.display.HTML object>"
            ],
            "text/html": [
              " View sweep at <a href='https://wandb.ai/ma23m011-iit-madras/DA6401_Assignment1_ma23m011/sweeps/augzj4ot' target=\"_blank\">https://wandb.ai/ma23m011-iit-madras/DA6401_Assignment1_ma23m011/sweeps/augzj4ot</a>"
            ]
          },
          "metadata": {}
        },
        {
          "output_type": "display_data",
          "data": {
            "text/plain": [
              "<IPython.core.display.HTML object>"
            ],
            "text/html": [
              " View run at <a href='https://wandb.ai/ma23m011-iit-madras/DA6401_Assignment1_ma23m011/runs/o3zbfcpl' target=\"_blank\">https://wandb.ai/ma23m011-iit-madras/DA6401_Assignment1_ma23m011/runs/o3zbfcpl</a>"
            ]
          },
          "metadata": {}
        },
        {
          "output_type": "stream",
          "name": "stdout",
          "text": [
            "Epoch 1: Train Loss = 2.3033, Train Acc = 11.3852, Val Loss = 2.3033, Val Acc = 11.2667\n",
            "Epoch 2: Train Loss = 2.3033, Train Acc = 11.3852, Val Loss = 2.3033, Val Acc = 11.2667\n",
            "Epoch 3: Train Loss = 2.3033, Train Acc = 11.3852, Val Loss = 2.3033, Val Acc = 11.2667\n",
            "Epoch 4: Train Loss = 2.3033, Train Acc = 11.3852, Val Loss = 2.3033, Val Acc = 11.2667\n",
            "Epoch 5: Train Loss = 2.3033, Train Acc = 11.3852, Val Loss = 2.3033, Val Acc = 11.2667\n",
            "Epoch 6: Train Loss = 2.3033, Train Acc = 11.3852, Val Loss = 2.3033, Val Acc = 11.2667\n",
            "Epoch 7: Train Loss = 2.3033, Train Acc = 11.3852, Val Loss = 2.3033, Val Acc = 11.2667\n",
            "Epoch 8: Train Loss = 2.3033, Train Acc = 11.3852, Val Loss = 2.3033, Val Acc = 11.2667\n",
            "Epoch 9: Train Loss = 2.3033, Train Acc = 11.3852, Val Loss = 2.3033, Val Acc = 11.2667\n",
            "Epoch 10: Train Loss = 2.3033, Train Acc = 11.3852, Val Loss = 2.3033, Val Acc = 11.2667\n"
          ]
        },
        {
          "output_type": "display_data",
          "data": {
            "text/plain": [
              "<IPython.core.display.HTML object>"
            ],
            "text/html": []
          },
          "metadata": {}
        },
        {
          "output_type": "display_data",
          "data": {
            "text/plain": [
              "<IPython.core.display.HTML object>"
            ],
            "text/html": [
              "<br>    <style><br>        .wandb-row {<br>            display: flex;<br>            flex-direction: row;<br>            flex-wrap: wrap;<br>            justify-content: flex-start;<br>            width: 100%;<br>        }<br>        .wandb-col {<br>            display: flex;<br>            flex-direction: column;<br>            flex-basis: 100%;<br>            flex: 1;<br>            padding: 10px;<br>        }<br>    </style><br><div class=\"wandb-row\"><div class=\"wandb-col\"><h3>Run history:</h3><br/><table class=\"wandb\"><tr><td>Train_accuracy</td><td>▁▁▁▁▁▁▁▁▁▁</td></tr><tr><td>Train_loss</td><td>▁▁▁▁▁▁▁▁▁▁</td></tr><tr><td>Val_accuracy</td><td>▁▁▁▁▁▁▁▁▁▁</td></tr><tr><td>Val_loss</td><td>▁▁▁▁▁▁▁▁▁▁</td></tr><tr><td>epoch</td><td>▁▂▃▃▄▅▆▆▇█</td></tr></table><br/></div><div class=\"wandb-col\"><h3>Run summary:</h3><br/><table class=\"wandb\"><tr><td>Train_accuracy</td><td>11.38519</td></tr><tr><td>Train_loss</td><td>2.30332</td></tr><tr><td>Val_accuracy</td><td>11.26667</td></tr><tr><td>Val_loss</td><td>2.30332</td></tr><tr><td>epoch</td><td>10</td></tr></table><br/></div></div>"
            ]
          },
          "metadata": {}
        },
        {
          "output_type": "display_data",
          "data": {
            "text/plain": [
              "<IPython.core.display.HTML object>"
            ],
            "text/html": [
              " View run <strong style=\"color:#cdcd00\">-ac_tanh-hs_32-epc_10-hl_5-regu_0.0005-eta_0.001-optmz_nag-batch_64-wght_random</strong> at: <a href='https://wandb.ai/ma23m011-iit-madras/DA6401_Assignment1_ma23m011/runs/o3zbfcpl' target=\"_blank\">https://wandb.ai/ma23m011-iit-madras/DA6401_Assignment1_ma23m011/runs/o3zbfcpl</a><br> View project at: <a href='https://wandb.ai/ma23m011-iit-madras/DA6401_Assignment1_ma23m011' target=\"_blank\">https://wandb.ai/ma23m011-iit-madras/DA6401_Assignment1_ma23m011</a><br>Synced 5 W&B file(s), 0 media file(s), 0 artifact file(s) and 0 other file(s)"
            ]
          },
          "metadata": {}
        },
        {
          "output_type": "display_data",
          "data": {
            "text/plain": [
              "<IPython.core.display.HTML object>"
            ],
            "text/html": [
              "Find logs at: <code>./wandb/run-20250310_030157-o3zbfcpl/logs</code>"
            ]
          },
          "metadata": {}
        },
        {
          "output_type": "stream",
          "name": "stderr",
          "text": [
            "\u001b[34m\u001b[1mwandb\u001b[0m: Agent Starting Run: xehkn19j with config:\n",
            "\u001b[34m\u001b[1mwandb\u001b[0m: \tactivation: tanh\n",
            "\u001b[34m\u001b[1mwandb\u001b[0m: \tbatch_size: 64\n",
            "\u001b[34m\u001b[1mwandb\u001b[0m: \tepochs: 10\n",
            "\u001b[34m\u001b[1mwandb\u001b[0m: \thidden_layers: 3\n",
            "\u001b[34m\u001b[1mwandb\u001b[0m: \thidden_size: 128\n",
            "\u001b[34m\u001b[1mwandb\u001b[0m: \tlearning_rate: 0.0001\n",
            "\u001b[34m\u001b[1mwandb\u001b[0m: \toptimizer: nag\n",
            "\u001b[34m\u001b[1mwandb\u001b[0m: \tweight_decay: 0\n",
            "\u001b[34m\u001b[1mwandb\u001b[0m: \tweight_init: random\n"
          ]
        },
        {
          "output_type": "display_data",
          "data": {
            "text/plain": [
              "<IPython.core.display.HTML object>"
            ],
            "text/html": [
              "Tracking run with wandb version 0.19.7"
            ]
          },
          "metadata": {}
        },
        {
          "output_type": "display_data",
          "data": {
            "text/plain": [
              "<IPython.core.display.HTML object>"
            ],
            "text/html": [
              "Run data is saved locally in <code>/content/wandb/run-20250310_030243-xehkn19j</code>"
            ]
          },
          "metadata": {}
        },
        {
          "output_type": "display_data",
          "data": {
            "text/plain": [
              "<IPython.core.display.HTML object>"
            ],
            "text/html": [
              "Syncing run <strong><a href='https://wandb.ai/ma23m011-iit-madras/DA6401_Assignment1_ma23m011/runs/xehkn19j' target=\"_blank\">avid-sweep-86</a></strong> to <a href='https://wandb.ai/ma23m011-iit-madras/DA6401_Assignment1_ma23m011' target=\"_blank\">Weights & Biases</a> (<a href='https://wandb.me/developer-guide' target=\"_blank\">docs</a>)<br>Sweep page: <a href='https://wandb.ai/ma23m011-iit-madras/DA6401_Assignment1_ma23m011/sweeps/augzj4ot' target=\"_blank\">https://wandb.ai/ma23m011-iit-madras/DA6401_Assignment1_ma23m011/sweeps/augzj4ot</a>"
            ]
          },
          "metadata": {}
        },
        {
          "output_type": "display_data",
          "data": {
            "text/plain": [
              "<IPython.core.display.HTML object>"
            ],
            "text/html": [
              " View project at <a href='https://wandb.ai/ma23m011-iit-madras/DA6401_Assignment1_ma23m011' target=\"_blank\">https://wandb.ai/ma23m011-iit-madras/DA6401_Assignment1_ma23m011</a>"
            ]
          },
          "metadata": {}
        },
        {
          "output_type": "display_data",
          "data": {
            "text/plain": [
              "<IPython.core.display.HTML object>"
            ],
            "text/html": [
              " View sweep at <a href='https://wandb.ai/ma23m011-iit-madras/DA6401_Assignment1_ma23m011/sweeps/augzj4ot' target=\"_blank\">https://wandb.ai/ma23m011-iit-madras/DA6401_Assignment1_ma23m011/sweeps/augzj4ot</a>"
            ]
          },
          "metadata": {}
        },
        {
          "output_type": "display_data",
          "data": {
            "text/plain": [
              "<IPython.core.display.HTML object>"
            ],
            "text/html": [
              " View run at <a href='https://wandb.ai/ma23m011-iit-madras/DA6401_Assignment1_ma23m011/runs/xehkn19j' target=\"_blank\">https://wandb.ai/ma23m011-iit-madras/DA6401_Assignment1_ma23m011/runs/xehkn19j</a>"
            ]
          },
          "metadata": {}
        },
        {
          "output_type": "stream",
          "name": "stdout",
          "text": [
            "Epoch 1: Train Loss = 2.3026, Train Acc = 11.7556, Val Loss = 2.3026, Val Acc = 12.2167\n",
            "Epoch 2: Train Loss = 2.3026, Train Acc = 11.7556, Val Loss = 2.3026, Val Acc = 12.2167\n",
            "Epoch 3: Train Loss = 2.3026, Train Acc = 11.7556, Val Loss = 2.3026, Val Acc = 12.2167\n",
            "Epoch 4: Train Loss = 2.3026, Train Acc = 11.7556, Val Loss = 2.3026, Val Acc = 12.2167\n",
            "Epoch 5: Train Loss = 2.3026, Train Acc = 11.7556, Val Loss = 2.3026, Val Acc = 12.2167\n",
            "Epoch 6: Train Loss = 2.3026, Train Acc = 11.7556, Val Loss = 2.3026, Val Acc = 12.2167\n",
            "Epoch 7: Train Loss = 2.3026, Train Acc = 11.7556, Val Loss = 2.3026, Val Acc = 12.2167\n",
            "Epoch 8: Train Loss = 2.3026, Train Acc = 11.7556, Val Loss = 2.3026, Val Acc = 12.2167\n",
            "Epoch 9: Train Loss = 2.3026, Train Acc = 11.7556, Val Loss = 2.3026, Val Acc = 12.2167\n",
            "Epoch 10: Train Loss = 2.3026, Train Acc = 11.7556, Val Loss = 2.3026, Val Acc = 12.2167\n"
          ]
        },
        {
          "output_type": "display_data",
          "data": {
            "text/plain": [
              "<IPython.core.display.HTML object>"
            ],
            "text/html": []
          },
          "metadata": {}
        },
        {
          "output_type": "display_data",
          "data": {
            "text/plain": [
              "<IPython.core.display.HTML object>"
            ],
            "text/html": [
              "<br>    <style><br>        .wandb-row {<br>            display: flex;<br>            flex-direction: row;<br>            flex-wrap: wrap;<br>            justify-content: flex-start;<br>            width: 100%;<br>        }<br>        .wandb-col {<br>            display: flex;<br>            flex-direction: column;<br>            flex-basis: 100%;<br>            flex: 1;<br>            padding: 10px;<br>        }<br>    </style><br><div class=\"wandb-row\"><div class=\"wandb-col\"><h3>Run history:</h3><br/><table class=\"wandb\"><tr><td>Train_accuracy</td><td>▁▁▁▁▁▁▁▁▁▁</td></tr><tr><td>Train_loss</td><td>▁▁▁▁▁▁▁▁▁▁</td></tr><tr><td>Val_accuracy</td><td>▁▁▁▁▁▁▁▁▁▁</td></tr><tr><td>Val_loss</td><td>▁▁▁▁▁▁▁▁▁▁</td></tr><tr><td>epoch</td><td>▁▂▃▃▄▅▆▆▇█</td></tr></table><br/></div><div class=\"wandb-col\"><h3>Run summary:</h3><br/><table class=\"wandb\"><tr><td>Train_accuracy</td><td>11.75556</td></tr><tr><td>Train_loss</td><td>2.30256</td></tr><tr><td>Val_accuracy</td><td>12.21667</td></tr><tr><td>Val_loss</td><td>2.30255</td></tr><tr><td>epoch</td><td>10</td></tr></table><br/></div></div>"
            ]
          },
          "metadata": {}
        },
        {
          "output_type": "display_data",
          "data": {
            "text/plain": [
              "<IPython.core.display.HTML object>"
            ],
            "text/html": [
              " View run <strong style=\"color:#cdcd00\">-ac_tanh-hs_128-epc_10-hl_3-regu_0-eta_0.0001-optmz_nag-batch_64-wght_random</strong> at: <a href='https://wandb.ai/ma23m011-iit-madras/DA6401_Assignment1_ma23m011/runs/xehkn19j' target=\"_blank\">https://wandb.ai/ma23m011-iit-madras/DA6401_Assignment1_ma23m011/runs/xehkn19j</a><br> View project at: <a href='https://wandb.ai/ma23m011-iit-madras/DA6401_Assignment1_ma23m011' target=\"_blank\">https://wandb.ai/ma23m011-iit-madras/DA6401_Assignment1_ma23m011</a><br>Synced 5 W&B file(s), 0 media file(s), 0 artifact file(s) and 0 other file(s)"
            ]
          },
          "metadata": {}
        },
        {
          "output_type": "display_data",
          "data": {
            "text/plain": [
              "<IPython.core.display.HTML object>"
            ],
            "text/html": [
              "Find logs at: <code>./wandb/run-20250310_030243-xehkn19j/logs</code>"
            ]
          },
          "metadata": {}
        },
        {
          "output_type": "stream",
          "name": "stderr",
          "text": [
            "\u001b[34m\u001b[1mwandb\u001b[0m: Sweep Agent: Waiting for job.\n",
            "\u001b[34m\u001b[1mwandb\u001b[0m: Job received.\n",
            "\u001b[34m\u001b[1mwandb\u001b[0m: Agent Starting Run: 2xkppit3 with config:\n",
            "\u001b[34m\u001b[1mwandb\u001b[0m: \tactivation: sigmoid\n",
            "\u001b[34m\u001b[1mwandb\u001b[0m: \tbatch_size: 32\n",
            "\u001b[34m\u001b[1mwandb\u001b[0m: \tepochs: 10\n",
            "\u001b[34m\u001b[1mwandb\u001b[0m: \thidden_layers: 3\n",
            "\u001b[34m\u001b[1mwandb\u001b[0m: \thidden_size: 32\n",
            "\u001b[34m\u001b[1mwandb\u001b[0m: \tlearning_rate: 0.0001\n",
            "\u001b[34m\u001b[1mwandb\u001b[0m: \toptimizer: mgd\n",
            "\u001b[34m\u001b[1mwandb\u001b[0m: \tweight_decay: 0.5\n",
            "\u001b[34m\u001b[1mwandb\u001b[0m: \tweight_init: random\n"
          ]
        },
        {
          "output_type": "display_data",
          "data": {
            "text/plain": [
              "<IPython.core.display.HTML object>"
            ],
            "text/html": [
              "Tracking run with wandb version 0.19.7"
            ]
          },
          "metadata": {}
        },
        {
          "output_type": "display_data",
          "data": {
            "text/plain": [
              "<IPython.core.display.HTML object>"
            ],
            "text/html": [
              "Run data is saved locally in <code>/content/wandb/run-20250310_030429-2xkppit3</code>"
            ]
          },
          "metadata": {}
        },
        {
          "output_type": "display_data",
          "data": {
            "text/plain": [
              "<IPython.core.display.HTML object>"
            ],
            "text/html": [
              "Syncing run <strong><a href='https://wandb.ai/ma23m011-iit-madras/DA6401_Assignment1_ma23m011/runs/2xkppit3' target=\"_blank\">frosty-sweep-87</a></strong> to <a href='https://wandb.ai/ma23m011-iit-madras/DA6401_Assignment1_ma23m011' target=\"_blank\">Weights & Biases</a> (<a href='https://wandb.me/developer-guide' target=\"_blank\">docs</a>)<br>Sweep page: <a href='https://wandb.ai/ma23m011-iit-madras/DA6401_Assignment1_ma23m011/sweeps/augzj4ot' target=\"_blank\">https://wandb.ai/ma23m011-iit-madras/DA6401_Assignment1_ma23m011/sweeps/augzj4ot</a>"
            ]
          },
          "metadata": {}
        },
        {
          "output_type": "display_data",
          "data": {
            "text/plain": [
              "<IPython.core.display.HTML object>"
            ],
            "text/html": [
              " View project at <a href='https://wandb.ai/ma23m011-iit-madras/DA6401_Assignment1_ma23m011' target=\"_blank\">https://wandb.ai/ma23m011-iit-madras/DA6401_Assignment1_ma23m011</a>"
            ]
          },
          "metadata": {}
        },
        {
          "output_type": "display_data",
          "data": {
            "text/plain": [
              "<IPython.core.display.HTML object>"
            ],
            "text/html": [
              " View sweep at <a href='https://wandb.ai/ma23m011-iit-madras/DA6401_Assignment1_ma23m011/sweeps/augzj4ot' target=\"_blank\">https://wandb.ai/ma23m011-iit-madras/DA6401_Assignment1_ma23m011/sweeps/augzj4ot</a>"
            ]
          },
          "metadata": {}
        },
        {
          "output_type": "display_data",
          "data": {
            "text/plain": [
              "<IPython.core.display.HTML object>"
            ],
            "text/html": [
              " View run at <a href='https://wandb.ai/ma23m011-iit-madras/DA6401_Assignment1_ma23m011/runs/2xkppit3' target=\"_blank\">https://wandb.ai/ma23m011-iit-madras/DA6401_Assignment1_ma23m011/runs/2xkppit3</a>"
            ]
          },
          "metadata": {}
        },
        {
          "output_type": "stream",
          "name": "stdout",
          "text": [
            "Epoch 1: Train Loss = 2.9865, Train Acc = 9.9963, Val Loss = 2.9865, Val Acc = 10.0333\n",
            "Epoch 2: Train Loss = 2.9865, Train Acc = 9.9963, Val Loss = 2.9865, Val Acc = 10.0333\n",
            "Epoch 3: Train Loss = 2.9865, Train Acc = 9.9963, Val Loss = 2.9865, Val Acc = 10.0333\n",
            "Epoch 4: Train Loss = 2.9865, Train Acc = 9.9963, Val Loss = 2.9865, Val Acc = 10.0333\n",
            "Epoch 5: Train Loss = 2.9865, Train Acc = 9.9963, Val Loss = 2.9865, Val Acc = 10.0333\n",
            "Epoch 6: Train Loss = 2.9865, Train Acc = 9.9963, Val Loss = 2.9865, Val Acc = 10.0333\n",
            "Epoch 7: Train Loss = 2.9865, Train Acc = 9.9963, Val Loss = 2.9865, Val Acc = 10.0333\n",
            "Epoch 8: Train Loss = 2.9865, Train Acc = 9.9963, Val Loss = 2.9865, Val Acc = 10.0333\n",
            "Epoch 9: Train Loss = 2.9865, Train Acc = 9.9963, Val Loss = 2.9865, Val Acc = 10.0333\n",
            "Epoch 10: Train Loss = 2.9865, Train Acc = 9.9963, Val Loss = 2.9865, Val Acc = 10.0333\n"
          ]
        },
        {
          "output_type": "display_data",
          "data": {
            "text/plain": [
              "<IPython.core.display.HTML object>"
            ],
            "text/html": []
          },
          "metadata": {}
        },
        {
          "output_type": "display_data",
          "data": {
            "text/plain": [
              "<IPython.core.display.HTML object>"
            ],
            "text/html": [
              "<br>    <style><br>        .wandb-row {<br>            display: flex;<br>            flex-direction: row;<br>            flex-wrap: wrap;<br>            justify-content: flex-start;<br>            width: 100%;<br>        }<br>        .wandb-col {<br>            display: flex;<br>            flex-direction: column;<br>            flex-basis: 100%;<br>            flex: 1;<br>            padding: 10px;<br>        }<br>    </style><br><div class=\"wandb-row\"><div class=\"wandb-col\"><h3>Run history:</h3><br/><table class=\"wandb\"><tr><td>Train_accuracy</td><td>▁▁▁▁▁▁▁▁▁▁</td></tr><tr><td>Train_loss</td><td>▁▁▁▁▁▁▁▁▁▁</td></tr><tr><td>Val_accuracy</td><td>▁▁▁▁▁▁▁▁▁▁</td></tr><tr><td>Val_loss</td><td>▁▁▁▁▁▁▁▁▁▁</td></tr><tr><td>epoch</td><td>▁▂▃▃▄▅▆▆▇█</td></tr></table><br/></div><div class=\"wandb-col\"><h3>Run summary:</h3><br/><table class=\"wandb\"><tr><td>Train_accuracy</td><td>9.9963</td></tr><tr><td>Train_loss</td><td>2.98654</td></tr><tr><td>Val_accuracy</td><td>10.03333</td></tr><tr><td>Val_loss</td><td>2.98647</td></tr><tr><td>epoch</td><td>10</td></tr></table><br/></div></div>"
            ]
          },
          "metadata": {}
        },
        {
          "output_type": "display_data",
          "data": {
            "text/plain": [
              "<IPython.core.display.HTML object>"
            ],
            "text/html": [
              " View run <strong style=\"color:#cdcd00\">-ac_sigmoid-hs_32-epc_10-hl_3-regu_0.5-eta_0.0001-optmz_mgd-batch_32-wght_random</strong> at: <a href='https://wandb.ai/ma23m011-iit-madras/DA6401_Assignment1_ma23m011/runs/2xkppit3' target=\"_blank\">https://wandb.ai/ma23m011-iit-madras/DA6401_Assignment1_ma23m011/runs/2xkppit3</a><br> View project at: <a href='https://wandb.ai/ma23m011-iit-madras/DA6401_Assignment1_ma23m011' target=\"_blank\">https://wandb.ai/ma23m011-iit-madras/DA6401_Assignment1_ma23m011</a><br>Synced 5 W&B file(s), 0 media file(s), 0 artifact file(s) and 0 other file(s)"
            ]
          },
          "metadata": {}
        },
        {
          "output_type": "display_data",
          "data": {
            "text/plain": [
              "<IPython.core.display.HTML object>"
            ],
            "text/html": [
              "Find logs at: <code>./wandb/run-20250310_030429-2xkppit3/logs</code>"
            ]
          },
          "metadata": {}
        },
        {
          "output_type": "stream",
          "name": "stderr",
          "text": [
            "\u001b[34m\u001b[1mwandb\u001b[0m: Agent Starting Run: 9rax2stm with config:\n",
            "\u001b[34m\u001b[1mwandb\u001b[0m: \tactivation: relu\n",
            "\u001b[34m\u001b[1mwandb\u001b[0m: \tbatch_size: 16\n",
            "\u001b[34m\u001b[1mwandb\u001b[0m: \tepochs: 10\n",
            "\u001b[34m\u001b[1mwandb\u001b[0m: \thidden_layers: 5\n",
            "\u001b[34m\u001b[1mwandb\u001b[0m: \thidden_size: 64\n",
            "\u001b[34m\u001b[1mwandb\u001b[0m: \tlearning_rate: 0.0001\n",
            "\u001b[34m\u001b[1mwandb\u001b[0m: \toptimizer: mgd\n",
            "\u001b[34m\u001b[1mwandb\u001b[0m: \tweight_decay: 0.5\n",
            "\u001b[34m\u001b[1mwandb\u001b[0m: \tweight_init: xavier\n"
          ]
        },
        {
          "output_type": "display_data",
          "data": {
            "text/plain": [
              "<IPython.core.display.HTML object>"
            ],
            "text/html": [
              "Tracking run with wandb version 0.19.7"
            ]
          },
          "metadata": {}
        },
        {
          "output_type": "display_data",
          "data": {
            "text/plain": [
              "<IPython.core.display.HTML object>"
            ],
            "text/html": [
              "Run data is saved locally in <code>/content/wandb/run-20250310_030506-9rax2stm</code>"
            ]
          },
          "metadata": {}
        },
        {
          "output_type": "display_data",
          "data": {
            "text/plain": [
              "<IPython.core.display.HTML object>"
            ],
            "text/html": [
              "Syncing run <strong><a href='https://wandb.ai/ma23m011-iit-madras/DA6401_Assignment1_ma23m011/runs/9rax2stm' target=\"_blank\">radiant-sweep-88</a></strong> to <a href='https://wandb.ai/ma23m011-iit-madras/DA6401_Assignment1_ma23m011' target=\"_blank\">Weights & Biases</a> (<a href='https://wandb.me/developer-guide' target=\"_blank\">docs</a>)<br>Sweep page: <a href='https://wandb.ai/ma23m011-iit-madras/DA6401_Assignment1_ma23m011/sweeps/augzj4ot' target=\"_blank\">https://wandb.ai/ma23m011-iit-madras/DA6401_Assignment1_ma23m011/sweeps/augzj4ot</a>"
            ]
          },
          "metadata": {}
        },
        {
          "output_type": "display_data",
          "data": {
            "text/plain": [
              "<IPython.core.display.HTML object>"
            ],
            "text/html": [
              " View project at <a href='https://wandb.ai/ma23m011-iit-madras/DA6401_Assignment1_ma23m011' target=\"_blank\">https://wandb.ai/ma23m011-iit-madras/DA6401_Assignment1_ma23m011</a>"
            ]
          },
          "metadata": {}
        },
        {
          "output_type": "display_data",
          "data": {
            "text/plain": [
              "<IPython.core.display.HTML object>"
            ],
            "text/html": [
              " View sweep at <a href='https://wandb.ai/ma23m011-iit-madras/DA6401_Assignment1_ma23m011/sweeps/augzj4ot' target=\"_blank\">https://wandb.ai/ma23m011-iit-madras/DA6401_Assignment1_ma23m011/sweeps/augzj4ot</a>"
            ]
          },
          "metadata": {}
        },
        {
          "output_type": "display_data",
          "data": {
            "text/plain": [
              "<IPython.core.display.HTML object>"
            ],
            "text/html": [
              " View run at <a href='https://wandb.ai/ma23m011-iit-madras/DA6401_Assignment1_ma23m011/runs/9rax2stm' target=\"_blank\">https://wandb.ai/ma23m011-iit-madras/DA6401_Assignment1_ma23m011/runs/9rax2stm</a>"
            ]
          },
          "metadata": {}
        },
        {
          "output_type": "stream",
          "name": "stdout",
          "text": [
            "Epoch 1: Train Loss = 85.8443, Train Acc = 10.1315, Val Loss = 85.8479, Val Acc = 9.3000\n",
            "Epoch 2: Train Loss = 85.8443, Train Acc = 10.1315, Val Loss = 85.8479, Val Acc = 9.3000\n",
            "Epoch 3: Train Loss = 85.8443, Train Acc = 10.1315, Val Loss = 85.8479, Val Acc = 9.3000\n",
            "Epoch 4: Train Loss = 85.8443, Train Acc = 10.1315, Val Loss = 85.8479, Val Acc = 9.3000\n",
            "Epoch 5: Train Loss = 85.8443, Train Acc = 10.1315, Val Loss = 85.8479, Val Acc = 9.3000\n",
            "Epoch 6: Train Loss = 85.8443, Train Acc = 10.1315, Val Loss = 85.8479, Val Acc = 9.3000\n",
            "Epoch 7: Train Loss = 85.8443, Train Acc = 10.1315, Val Loss = 85.8479, Val Acc = 9.3000\n",
            "Epoch 8: Train Loss = 85.8443, Train Acc = 10.1315, Val Loss = 85.8479, Val Acc = 9.3000\n",
            "Epoch 9: Train Loss = 85.8443, Train Acc = 10.1315, Val Loss = 85.8479, Val Acc = 9.3000\n",
            "Epoch 10: Train Loss = 85.8443, Train Acc = 10.1315, Val Loss = 85.8479, Val Acc = 9.3000\n"
          ]
        },
        {
          "output_type": "display_data",
          "data": {
            "text/plain": [
              "<IPython.core.display.HTML object>"
            ],
            "text/html": []
          },
          "metadata": {}
        },
        {
          "output_type": "display_data",
          "data": {
            "text/plain": [
              "<IPython.core.display.HTML object>"
            ],
            "text/html": [
              "<br>    <style><br>        .wandb-row {<br>            display: flex;<br>            flex-direction: row;<br>            flex-wrap: wrap;<br>            justify-content: flex-start;<br>            width: 100%;<br>        }<br>        .wandb-col {<br>            display: flex;<br>            flex-direction: column;<br>            flex-basis: 100%;<br>            flex: 1;<br>            padding: 10px;<br>        }<br>    </style><br><div class=\"wandb-row\"><div class=\"wandb-col\"><h3>Run history:</h3><br/><table class=\"wandb\"><tr><td>Train_accuracy</td><td>▁▁▁▁▁▁▁▁▁▁</td></tr><tr><td>Train_loss</td><td>▁▁▁▁▁▁▁▁▁▁</td></tr><tr><td>Val_accuracy</td><td>▁▁▁▁▁▁▁▁▁▁</td></tr><tr><td>Val_loss</td><td>▁▁▁▁▁▁▁▁▁▁</td></tr><tr><td>epoch</td><td>▁▂▃▃▄▅▆▆▇█</td></tr></table><br/></div><div class=\"wandb-col\"><h3>Run summary:</h3><br/><table class=\"wandb\"><tr><td>Train_accuracy</td><td>10.13148</td></tr><tr><td>Train_loss</td><td>85.84427</td></tr><tr><td>Val_accuracy</td><td>9.3</td></tr><tr><td>Val_loss</td><td>85.8479</td></tr><tr><td>epoch</td><td>10</td></tr></table><br/></div></div>"
            ]
          },
          "metadata": {}
        },
        {
          "output_type": "display_data",
          "data": {
            "text/plain": [
              "<IPython.core.display.HTML object>"
            ],
            "text/html": [
              " View run <strong style=\"color:#cdcd00\">-ac_relu-hs_64-epc_10-hl_5-regu_0.5-eta_0.0001-optmz_mgd-batch_16-wght_xavier</strong> at: <a href='https://wandb.ai/ma23m011-iit-madras/DA6401_Assignment1_ma23m011/runs/9rax2stm' target=\"_blank\">https://wandb.ai/ma23m011-iit-madras/DA6401_Assignment1_ma23m011/runs/9rax2stm</a><br> View project at: <a href='https://wandb.ai/ma23m011-iit-madras/DA6401_Assignment1_ma23m011' target=\"_blank\">https://wandb.ai/ma23m011-iit-madras/DA6401_Assignment1_ma23m011</a><br>Synced 5 W&B file(s), 0 media file(s), 0 artifact file(s) and 0 other file(s)"
            ]
          },
          "metadata": {}
        },
        {
          "output_type": "display_data",
          "data": {
            "text/plain": [
              "<IPython.core.display.HTML object>"
            ],
            "text/html": [
              "Find logs at: <code>./wandb/run-20250310_030506-9rax2stm/logs</code>"
            ]
          },
          "metadata": {}
        },
        {
          "output_type": "stream",
          "name": "stderr",
          "text": [
            "\u001b[34m\u001b[1mwandb\u001b[0m: Sweep Agent: Waiting for job.\n",
            "\u001b[34m\u001b[1mwandb\u001b[0m: Job received.\n",
            "\u001b[34m\u001b[1mwandb\u001b[0m: Agent Starting Run: qgm4gr05 with config:\n",
            "\u001b[34m\u001b[1mwandb\u001b[0m: \tactivation: tanh\n",
            "\u001b[34m\u001b[1mwandb\u001b[0m: \tbatch_size: 64\n",
            "\u001b[34m\u001b[1mwandb\u001b[0m: \tepochs: 5\n",
            "\u001b[34m\u001b[1mwandb\u001b[0m: \thidden_layers: 4\n",
            "\u001b[34m\u001b[1mwandb\u001b[0m: \thidden_size: 64\n",
            "\u001b[34m\u001b[1mwandb\u001b[0m: \tlearning_rate: 0.0001\n",
            "\u001b[34m\u001b[1mwandb\u001b[0m: \toptimizer: rmsprop\n",
            "\u001b[34m\u001b[1mwandb\u001b[0m: \tweight_decay: 0\n",
            "\u001b[34m\u001b[1mwandb\u001b[0m: \tweight_init: random\n"
          ]
        },
        {
          "output_type": "display_data",
          "data": {
            "text/plain": [
              "<IPython.core.display.HTML object>"
            ],
            "text/html": [
              "Tracking run with wandb version 0.19.7"
            ]
          },
          "metadata": {}
        },
        {
          "output_type": "display_data",
          "data": {
            "text/plain": [
              "<IPython.core.display.HTML object>"
            ],
            "text/html": [
              "Run data is saved locally in <code>/content/wandb/run-20250310_030627-qgm4gr05</code>"
            ]
          },
          "metadata": {}
        },
        {
          "output_type": "display_data",
          "data": {
            "text/plain": [
              "<IPython.core.display.HTML object>"
            ],
            "text/html": [
              "Syncing run <strong><a href='https://wandb.ai/ma23m011-iit-madras/DA6401_Assignment1_ma23m011/runs/qgm4gr05' target=\"_blank\">misunderstood-sweep-89</a></strong> to <a href='https://wandb.ai/ma23m011-iit-madras/DA6401_Assignment1_ma23m011' target=\"_blank\">Weights & Biases</a> (<a href='https://wandb.me/developer-guide' target=\"_blank\">docs</a>)<br>Sweep page: <a href='https://wandb.ai/ma23m011-iit-madras/DA6401_Assignment1_ma23m011/sweeps/augzj4ot' target=\"_blank\">https://wandb.ai/ma23m011-iit-madras/DA6401_Assignment1_ma23m011/sweeps/augzj4ot</a>"
            ]
          },
          "metadata": {}
        },
        {
          "output_type": "display_data",
          "data": {
            "text/plain": [
              "<IPython.core.display.HTML object>"
            ],
            "text/html": [
              " View project at <a href='https://wandb.ai/ma23m011-iit-madras/DA6401_Assignment1_ma23m011' target=\"_blank\">https://wandb.ai/ma23m011-iit-madras/DA6401_Assignment1_ma23m011</a>"
            ]
          },
          "metadata": {}
        },
        {
          "output_type": "display_data",
          "data": {
            "text/plain": [
              "<IPython.core.display.HTML object>"
            ],
            "text/html": [
              " View sweep at <a href='https://wandb.ai/ma23m011-iit-madras/DA6401_Assignment1_ma23m011/sweeps/augzj4ot' target=\"_blank\">https://wandb.ai/ma23m011-iit-madras/DA6401_Assignment1_ma23m011/sweeps/augzj4ot</a>"
            ]
          },
          "metadata": {}
        },
        {
          "output_type": "display_data",
          "data": {
            "text/plain": [
              "<IPython.core.display.HTML object>"
            ],
            "text/html": [
              " View run at <a href='https://wandb.ai/ma23m011-iit-madras/DA6401_Assignment1_ma23m011/runs/qgm4gr05' target=\"_blank\">https://wandb.ai/ma23m011-iit-madras/DA6401_Assignment1_ma23m011/runs/qgm4gr05</a>"
            ]
          },
          "metadata": {}
        },
        {
          "output_type": "stream",
          "name": "stdout",
          "text": [
            "Epoch 1: Train Loss = 1.6817, Train Acc = 20.6870, Val Loss = 1.6835, Val Acc = 20.0833\n",
            "Epoch 2: Train Loss = 1.6625, Train Acc = 22.4944, Val Loss = 1.6636, Val Acc = 21.2833\n",
            "Epoch 3: Train Loss = 1.5311, Train Acc = 37.0759, Val Loss = 1.5306, Val Acc = 37.2500\n",
            "Epoch 4: Train Loss = 1.1822, Train Acc = 43.5593, Val Loss = 1.1765, Val Acc = 43.9500\n",
            "Epoch 5: Train Loss = 1.0423, Train Acc = 62.0463, Val Loss = 1.0414, Val Acc = 63.1667\n"
          ]
        },
        {
          "output_type": "display_data",
          "data": {
            "text/plain": [
              "<IPython.core.display.HTML object>"
            ],
            "text/html": []
          },
          "metadata": {}
        },
        {
          "output_type": "display_data",
          "data": {
            "text/plain": [
              "<IPython.core.display.HTML object>"
            ],
            "text/html": [
              "<br>    <style><br>        .wandb-row {<br>            display: flex;<br>            flex-direction: row;<br>            flex-wrap: wrap;<br>            justify-content: flex-start;<br>            width: 100%;<br>        }<br>        .wandb-col {<br>            display: flex;<br>            flex-direction: column;<br>            flex-basis: 100%;<br>            flex: 1;<br>            padding: 10px;<br>        }<br>    </style><br><div class=\"wandb-row\"><div class=\"wandb-col\"><h3>Run history:</h3><br/><table class=\"wandb\"><tr><td>Train_accuracy</td><td>▁▁▄▅█</td></tr><tr><td>Train_loss</td><td>██▆▃▁</td></tr><tr><td>Val_accuracy</td><td>▁▁▄▅█</td></tr><tr><td>Val_loss</td><td>██▆▂▁</td></tr><tr><td>epoch</td><td>▁▃▅▆█</td></tr></table><br/></div><div class=\"wandb-col\"><h3>Run summary:</h3><br/><table class=\"wandb\"><tr><td>Train_accuracy</td><td>62.0463</td></tr><tr><td>Train_loss</td><td>1.04229</td></tr><tr><td>Val_accuracy</td><td>63.16667</td></tr><tr><td>Val_loss</td><td>1.04141</td></tr><tr><td>epoch</td><td>5</td></tr></table><br/></div></div>"
            ]
          },
          "metadata": {}
        },
        {
          "output_type": "display_data",
          "data": {
            "text/plain": [
              "<IPython.core.display.HTML object>"
            ],
            "text/html": [
              " View run <strong style=\"color:#cdcd00\">-ac_tanh-hs_64-epc_5-hl_4-regu_0-eta_0.0001-optmz_rmsprop-batch_64-wght_random</strong> at: <a href='https://wandb.ai/ma23m011-iit-madras/DA6401_Assignment1_ma23m011/runs/qgm4gr05' target=\"_blank\">https://wandb.ai/ma23m011-iit-madras/DA6401_Assignment1_ma23m011/runs/qgm4gr05</a><br> View project at: <a href='https://wandb.ai/ma23m011-iit-madras/DA6401_Assignment1_ma23m011' target=\"_blank\">https://wandb.ai/ma23m011-iit-madras/DA6401_Assignment1_ma23m011</a><br>Synced 5 W&B file(s), 0 media file(s), 0 artifact file(s) and 0 other file(s)"
            ]
          },
          "metadata": {}
        },
        {
          "output_type": "display_data",
          "data": {
            "text/plain": [
              "<IPython.core.display.HTML object>"
            ],
            "text/html": [
              "Find logs at: <code>./wandb/run-20250310_030627-qgm4gr05/logs</code>"
            ]
          },
          "metadata": {}
        },
        {
          "output_type": "stream",
          "name": "stderr",
          "text": [
            "\u001b[34m\u001b[1mwandb\u001b[0m: Agent Starting Run: 6cg2ukvf with config:\n",
            "\u001b[34m\u001b[1mwandb\u001b[0m: \tactivation: tanh\n",
            "\u001b[34m\u001b[1mwandb\u001b[0m: \tbatch_size: 16\n",
            "\u001b[34m\u001b[1mwandb\u001b[0m: \tepochs: 10\n",
            "\u001b[34m\u001b[1mwandb\u001b[0m: \thidden_layers: 4\n",
            "\u001b[34m\u001b[1mwandb\u001b[0m: \thidden_size: 64\n",
            "\u001b[34m\u001b[1mwandb\u001b[0m: \tlearning_rate: 0.001\n",
            "\u001b[34m\u001b[1mwandb\u001b[0m: \toptimizer: adam\n",
            "\u001b[34m\u001b[1mwandb\u001b[0m: \tweight_decay: 0.5\n",
            "\u001b[34m\u001b[1mwandb\u001b[0m: \tweight_init: xavier\n"
          ]
        },
        {
          "output_type": "display_data",
          "data": {
            "text/plain": [
              "<IPython.core.display.HTML object>"
            ],
            "text/html": [
              "Tracking run with wandb version 0.19.7"
            ]
          },
          "metadata": {}
        },
        {
          "output_type": "display_data",
          "data": {
            "text/plain": [
              "<IPython.core.display.HTML object>"
            ],
            "text/html": [
              "Run data is saved locally in <code>/content/wandb/run-20250310_030708-6cg2ukvf</code>"
            ]
          },
          "metadata": {}
        },
        {
          "output_type": "display_data",
          "data": {
            "text/plain": [
              "<IPython.core.display.HTML object>"
            ],
            "text/html": [
              "Syncing run <strong><a href='https://wandb.ai/ma23m011-iit-madras/DA6401_Assignment1_ma23m011/runs/6cg2ukvf' target=\"_blank\">dulcet-sweep-90</a></strong> to <a href='https://wandb.ai/ma23m011-iit-madras/DA6401_Assignment1_ma23m011' target=\"_blank\">Weights & Biases</a> (<a href='https://wandb.me/developer-guide' target=\"_blank\">docs</a>)<br>Sweep page: <a href='https://wandb.ai/ma23m011-iit-madras/DA6401_Assignment1_ma23m011/sweeps/augzj4ot' target=\"_blank\">https://wandb.ai/ma23m011-iit-madras/DA6401_Assignment1_ma23m011/sweeps/augzj4ot</a>"
            ]
          },
          "metadata": {}
        },
        {
          "output_type": "display_data",
          "data": {
            "text/plain": [
              "<IPython.core.display.HTML object>"
            ],
            "text/html": [
              " View project at <a href='https://wandb.ai/ma23m011-iit-madras/DA6401_Assignment1_ma23m011' target=\"_blank\">https://wandb.ai/ma23m011-iit-madras/DA6401_Assignment1_ma23m011</a>"
            ]
          },
          "metadata": {}
        },
        {
          "output_type": "display_data",
          "data": {
            "text/plain": [
              "<IPython.core.display.HTML object>"
            ],
            "text/html": [
              " View sweep at <a href='https://wandb.ai/ma23m011-iit-madras/DA6401_Assignment1_ma23m011/sweeps/augzj4ot' target=\"_blank\">https://wandb.ai/ma23m011-iit-madras/DA6401_Assignment1_ma23m011/sweeps/augzj4ot</a>"
            ]
          },
          "metadata": {}
        },
        {
          "output_type": "display_data",
          "data": {
            "text/plain": [
              "<IPython.core.display.HTML object>"
            ],
            "text/html": [
              " View run at <a href='https://wandb.ai/ma23m011-iit-madras/DA6401_Assignment1_ma23m011/runs/6cg2ukvf' target=\"_blank\">https://wandb.ai/ma23m011-iit-madras/DA6401_Assignment1_ma23m011/runs/6cg2ukvf</a>"
            ]
          },
          "metadata": {}
        },
        {
          "output_type": "stream",
          "name": "stdout",
          "text": [
            "Epoch 1: Train Loss = 9.8871, Train Acc = 74.5130, Val Loss = 9.8842, Val Acc = 74.6167\n",
            "Epoch 2: Train Loss = 9.9827, Train Acc = 76.9167, Val Loss = 9.9813, Val Acc = 76.4500\n",
            "Epoch 3: Train Loss = 10.0212, Train Acc = 74.3426, Val Loss = 10.0284, Val Acc = 73.7167\n",
            "Epoch 4: Train Loss = 10.1358, Train Acc = 77.7019, Val Loss = 10.1322, Val Acc = 77.7000\n",
            "Epoch 5: Train Loss = 10.0038, Train Acc = 78.3241, Val Loss = 9.9988, Val Acc = 78.3333\n",
            "Epoch 6: Train Loss = 9.9041, Train Acc = 77.5648, Val Loss = 9.9021, Val Acc = 77.7000\n",
            "Epoch 7: Train Loss = 9.9617, Train Acc = 77.5296, Val Loss = 9.9578, Val Acc = 77.6667\n",
            "Epoch 8: Train Loss = 10.1285, Train Acc = 77.5759, Val Loss = 10.1250, Val Acc = 77.2500\n",
            "Epoch 9: Train Loss = 9.9377, Train Acc = 76.9185, Val Loss = 9.9304, Val Acc = 76.9833\n",
            "Epoch 10: Train Loss = 10.1187, Train Acc = 76.8889, Val Loss = 10.1163, Val Acc = 77.4833\n"
          ]
        },
        {
          "output_type": "display_data",
          "data": {
            "text/plain": [
              "<IPython.core.display.HTML object>"
            ],
            "text/html": []
          },
          "metadata": {}
        },
        {
          "output_type": "display_data",
          "data": {
            "text/plain": [
              "<IPython.core.display.HTML object>"
            ],
            "text/html": [
              "<br>    <style><br>        .wandb-row {<br>            display: flex;<br>            flex-direction: row;<br>            flex-wrap: wrap;<br>            justify-content: flex-start;<br>            width: 100%;<br>        }<br>        .wandb-col {<br>            display: flex;<br>            flex-direction: column;<br>            flex-basis: 100%;<br>            flex: 1;<br>            padding: 10px;<br>        }<br>    </style><br><div class=\"wandb-row\"><div class=\"wandb-col\"><h3>Run history:</h3><br/><table class=\"wandb\"><tr><td>Train_accuracy</td><td>▁▆▁▇█▇▇▇▆▅</td></tr><tr><td>Train_loss</td><td>▁▄▅█▄▁▃█▂█</td></tr><tr><td>Val_accuracy</td><td>▂▅▁▇█▇▇▆▆▇</td></tr><tr><td>Val_loss</td><td>▁▄▅█▄▂▃█▂█</td></tr><tr><td>epoch</td><td>▁▂▃▃▄▅▆▆▇█</td></tr></table><br/></div><div class=\"wandb-col\"><h3>Run summary:</h3><br/><table class=\"wandb\"><tr><td>Train_accuracy</td><td>76.88889</td></tr><tr><td>Train_loss</td><td>10.11871</td></tr><tr><td>Val_accuracy</td><td>77.48333</td></tr><tr><td>Val_loss</td><td>10.11628</td></tr><tr><td>epoch</td><td>10</td></tr></table><br/></div></div>"
            ]
          },
          "metadata": {}
        },
        {
          "output_type": "display_data",
          "data": {
            "text/plain": [
              "<IPython.core.display.HTML object>"
            ],
            "text/html": [
              " View run <strong style=\"color:#cdcd00\">-ac_tanh-hs_64-epc_10-hl_4-regu_0.5-eta_0.001-optmz_adam-batch_16-wght_xavier</strong> at: <a href='https://wandb.ai/ma23m011-iit-madras/DA6401_Assignment1_ma23m011/runs/6cg2ukvf' target=\"_blank\">https://wandb.ai/ma23m011-iit-madras/DA6401_Assignment1_ma23m011/runs/6cg2ukvf</a><br> View project at: <a href='https://wandb.ai/ma23m011-iit-madras/DA6401_Assignment1_ma23m011' target=\"_blank\">https://wandb.ai/ma23m011-iit-madras/DA6401_Assignment1_ma23m011</a><br>Synced 5 W&B file(s), 0 media file(s), 0 artifact file(s) and 0 other file(s)"
            ]
          },
          "metadata": {}
        },
        {
          "output_type": "display_data",
          "data": {
            "text/plain": [
              "<IPython.core.display.HTML object>"
            ],
            "text/html": [
              "Find logs at: <code>./wandb/run-20250310_030708-6cg2ukvf/logs</code>"
            ]
          },
          "metadata": {}
        },
        {
          "output_type": "stream",
          "name": "stderr",
          "text": [
            "\u001b[34m\u001b[1mwandb\u001b[0m: Agent Starting Run: 9r3ht50e with config:\n",
            "\u001b[34m\u001b[1mwandb\u001b[0m: \tactivation: relu\n",
            "\u001b[34m\u001b[1mwandb\u001b[0m: \tbatch_size: 64\n",
            "\u001b[34m\u001b[1mwandb\u001b[0m: \tepochs: 10\n",
            "\u001b[34m\u001b[1mwandb\u001b[0m: \thidden_layers: 4\n",
            "\u001b[34m\u001b[1mwandb\u001b[0m: \thidden_size: 32\n",
            "\u001b[34m\u001b[1mwandb\u001b[0m: \tlearning_rate: 0.001\n",
            "\u001b[34m\u001b[1mwandb\u001b[0m: \toptimizer: mgd\n",
            "\u001b[34m\u001b[1mwandb\u001b[0m: \tweight_decay: 0\n",
            "\u001b[34m\u001b[1mwandb\u001b[0m: \tweight_init: xavier\n"
          ]
        },
        {
          "output_type": "display_data",
          "data": {
            "text/plain": [
              "<IPython.core.display.HTML object>"
            ],
            "text/html": [
              "Tracking run with wandb version 0.19.7"
            ]
          },
          "metadata": {}
        },
        {
          "output_type": "display_data",
          "data": {
            "text/plain": [
              "<IPython.core.display.HTML object>"
            ],
            "text/html": [
              "Run data is saved locally in <code>/content/wandb/run-20250310_030935-9r3ht50e</code>"
            ]
          },
          "metadata": {}
        },
        {
          "output_type": "display_data",
          "data": {
            "text/plain": [
              "<IPython.core.display.HTML object>"
            ],
            "text/html": [
              "Syncing run <strong><a href='https://wandb.ai/ma23m011-iit-madras/DA6401_Assignment1_ma23m011/runs/9r3ht50e' target=\"_blank\">summer-sweep-91</a></strong> to <a href='https://wandb.ai/ma23m011-iit-madras/DA6401_Assignment1_ma23m011' target=\"_blank\">Weights & Biases</a> (<a href='https://wandb.me/developer-guide' target=\"_blank\">docs</a>)<br>Sweep page: <a href='https://wandb.ai/ma23m011-iit-madras/DA6401_Assignment1_ma23m011/sweeps/augzj4ot' target=\"_blank\">https://wandb.ai/ma23m011-iit-madras/DA6401_Assignment1_ma23m011/sweeps/augzj4ot</a>"
            ]
          },
          "metadata": {}
        },
        {
          "output_type": "display_data",
          "data": {
            "text/plain": [
              "<IPython.core.display.HTML object>"
            ],
            "text/html": [
              " View project at <a href='https://wandb.ai/ma23m011-iit-madras/DA6401_Assignment1_ma23m011' target=\"_blank\">https://wandb.ai/ma23m011-iit-madras/DA6401_Assignment1_ma23m011</a>"
            ]
          },
          "metadata": {}
        },
        {
          "output_type": "display_data",
          "data": {
            "text/plain": [
              "<IPython.core.display.HTML object>"
            ],
            "text/html": [
              " View sweep at <a href='https://wandb.ai/ma23m011-iit-madras/DA6401_Assignment1_ma23m011/sweeps/augzj4ot' target=\"_blank\">https://wandb.ai/ma23m011-iit-madras/DA6401_Assignment1_ma23m011/sweeps/augzj4ot</a>"
            ]
          },
          "metadata": {}
        },
        {
          "output_type": "display_data",
          "data": {
            "text/plain": [
              "<IPython.core.display.HTML object>"
            ],
            "text/html": [
              " View run at <a href='https://wandb.ai/ma23m011-iit-madras/DA6401_Assignment1_ma23m011/runs/9r3ht50e' target=\"_blank\">https://wandb.ai/ma23m011-iit-madras/DA6401_Assignment1_ma23m011/runs/9r3ht50e</a>"
            ]
          },
          "metadata": {}
        },
        {
          "output_type": "stream",
          "name": "stdout",
          "text": [
            "Epoch 1: Train Loss = 2.2987, Train Acc = 11.7519, Val Loss = 2.2972, Val Acc = 12.3667\n",
            "Epoch 2: Train Loss = 2.2987, Train Acc = 11.7519, Val Loss = 2.2972, Val Acc = 12.3667\n",
            "Epoch 3: Train Loss = 2.2987, Train Acc = 11.7519, Val Loss = 2.2972, Val Acc = 12.3667\n",
            "Epoch 4: Train Loss = 2.2987, Train Acc = 11.7519, Val Loss = 2.2972, Val Acc = 12.3667\n",
            "Epoch 5: Train Loss = 2.2987, Train Acc = 11.7519, Val Loss = 2.2972, Val Acc = 12.3667\n",
            "Epoch 6: Train Loss = 2.2987, Train Acc = 11.7519, Val Loss = 2.2972, Val Acc = 12.3667\n",
            "Epoch 7: Train Loss = 2.2987, Train Acc = 11.7519, Val Loss = 2.2972, Val Acc = 12.3667\n",
            "Epoch 8: Train Loss = 2.2987, Train Acc = 11.7519, Val Loss = 2.2972, Val Acc = 12.3667\n",
            "Epoch 9: Train Loss = 2.2987, Train Acc = 11.7519, Val Loss = 2.2972, Val Acc = 12.3667\n",
            "Epoch 10: Train Loss = 2.2987, Train Acc = 11.7519, Val Loss = 2.2972, Val Acc = 12.3667\n"
          ]
        },
        {
          "output_type": "display_data",
          "data": {
            "text/plain": [
              "<IPython.core.display.HTML object>"
            ],
            "text/html": []
          },
          "metadata": {}
        },
        {
          "output_type": "display_data",
          "data": {
            "text/plain": [
              "<IPython.core.display.HTML object>"
            ],
            "text/html": [
              "<br>    <style><br>        .wandb-row {<br>            display: flex;<br>            flex-direction: row;<br>            flex-wrap: wrap;<br>            justify-content: flex-start;<br>            width: 100%;<br>        }<br>        .wandb-col {<br>            display: flex;<br>            flex-direction: column;<br>            flex-basis: 100%;<br>            flex: 1;<br>            padding: 10px;<br>        }<br>    </style><br><div class=\"wandb-row\"><div class=\"wandb-col\"><h3>Run history:</h3><br/><table class=\"wandb\"><tr><td>Train_accuracy</td><td>▁▁▁▁▁▁▁▁▁▁</td></tr><tr><td>Train_loss</td><td>▁▁▁▁▁▁▁▁▁▁</td></tr><tr><td>Val_accuracy</td><td>▁▁▁▁▁▁▁▁▁▁</td></tr><tr><td>Val_loss</td><td>▁▁▁▁▁▁▁▁▁▁</td></tr><tr><td>epoch</td><td>▁▂▃▃▄▅▆▆▇█</td></tr></table><br/></div><div class=\"wandb-col\"><h3>Run summary:</h3><br/><table class=\"wandb\"><tr><td>Train_accuracy</td><td>11.75185</td></tr><tr><td>Train_loss</td><td>2.29868</td></tr><tr><td>Val_accuracy</td><td>12.36667</td></tr><tr><td>Val_loss</td><td>2.29723</td></tr><tr><td>epoch</td><td>10</td></tr></table><br/></div></div>"
            ]
          },
          "metadata": {}
        },
        {
          "output_type": "display_data",
          "data": {
            "text/plain": [
              "<IPython.core.display.HTML object>"
            ],
            "text/html": [
              " View run <strong style=\"color:#cdcd00\">-ac_relu-hs_32-epc_10-hl_4-regu_0-eta_0.001-optmz_mgd-batch_64-wght_xavier</strong> at: <a href='https://wandb.ai/ma23m011-iit-madras/DA6401_Assignment1_ma23m011/runs/9r3ht50e' target=\"_blank\">https://wandb.ai/ma23m011-iit-madras/DA6401_Assignment1_ma23m011/runs/9r3ht50e</a><br> View project at: <a href='https://wandb.ai/ma23m011-iit-madras/DA6401_Assignment1_ma23m011' target=\"_blank\">https://wandb.ai/ma23m011-iit-madras/DA6401_Assignment1_ma23m011</a><br>Synced 5 W&B file(s), 0 media file(s), 0 artifact file(s) and 0 other file(s)"
            ]
          },
          "metadata": {}
        },
        {
          "output_type": "display_data",
          "data": {
            "text/plain": [
              "<IPython.core.display.HTML object>"
            ],
            "text/html": [
              "Find logs at: <code>./wandb/run-20250310_030935-9r3ht50e/logs</code>"
            ]
          },
          "metadata": {}
        },
        {
          "output_type": "stream",
          "name": "stderr",
          "text": [
            "\u001b[34m\u001b[1mwandb\u001b[0m: Agent Starting Run: xhl7gkhi with config:\n",
            "\u001b[34m\u001b[1mwandb\u001b[0m: \tactivation: sigmoid\n",
            "\u001b[34m\u001b[1mwandb\u001b[0m: \tbatch_size: 32\n",
            "\u001b[34m\u001b[1mwandb\u001b[0m: \tepochs: 10\n",
            "\u001b[34m\u001b[1mwandb\u001b[0m: \thidden_layers: 4\n",
            "\u001b[34m\u001b[1mwandb\u001b[0m: \thidden_size: 64\n",
            "\u001b[34m\u001b[1mwandb\u001b[0m: \tlearning_rate: 0.001\n",
            "\u001b[34m\u001b[1mwandb\u001b[0m: \toptimizer: sgd\n",
            "\u001b[34m\u001b[1mwandb\u001b[0m: \tweight_decay: 0\n",
            "\u001b[34m\u001b[1mwandb\u001b[0m: \tweight_init: random\n"
          ]
        },
        {
          "output_type": "display_data",
          "data": {
            "text/plain": [
              "<IPython.core.display.HTML object>"
            ],
            "text/html": [
              "Tracking run with wandb version 0.19.7"
            ]
          },
          "metadata": {}
        },
        {
          "output_type": "display_data",
          "data": {
            "text/plain": [
              "<IPython.core.display.HTML object>"
            ],
            "text/html": [
              "Run data is saved locally in <code>/content/wandb/run-20250310_031006-xhl7gkhi</code>"
            ]
          },
          "metadata": {}
        },
        {
          "output_type": "display_data",
          "data": {
            "text/plain": [
              "<IPython.core.display.HTML object>"
            ],
            "text/html": [
              "Syncing run <strong><a href='https://wandb.ai/ma23m011-iit-madras/DA6401_Assignment1_ma23m011/runs/xhl7gkhi' target=\"_blank\">major-sweep-92</a></strong> to <a href='https://wandb.ai/ma23m011-iit-madras/DA6401_Assignment1_ma23m011' target=\"_blank\">Weights & Biases</a> (<a href='https://wandb.me/developer-guide' target=\"_blank\">docs</a>)<br>Sweep page: <a href='https://wandb.ai/ma23m011-iit-madras/DA6401_Assignment1_ma23m011/sweeps/augzj4ot' target=\"_blank\">https://wandb.ai/ma23m011-iit-madras/DA6401_Assignment1_ma23m011/sweeps/augzj4ot</a>"
            ]
          },
          "metadata": {}
        },
        {
          "output_type": "display_data",
          "data": {
            "text/plain": [
              "<IPython.core.display.HTML object>"
            ],
            "text/html": [
              " View project at <a href='https://wandb.ai/ma23m011-iit-madras/DA6401_Assignment1_ma23m011' target=\"_blank\">https://wandb.ai/ma23m011-iit-madras/DA6401_Assignment1_ma23m011</a>"
            ]
          },
          "metadata": {}
        },
        {
          "output_type": "display_data",
          "data": {
            "text/plain": [
              "<IPython.core.display.HTML object>"
            ],
            "text/html": [
              " View sweep at <a href='https://wandb.ai/ma23m011-iit-madras/DA6401_Assignment1_ma23m011/sweeps/augzj4ot' target=\"_blank\">https://wandb.ai/ma23m011-iit-madras/DA6401_Assignment1_ma23m011/sweeps/augzj4ot</a>"
            ]
          },
          "metadata": {}
        },
        {
          "output_type": "display_data",
          "data": {
            "text/plain": [
              "<IPython.core.display.HTML object>"
            ],
            "text/html": [
              " View run at <a href='https://wandb.ai/ma23m011-iit-madras/DA6401_Assignment1_ma23m011/runs/xhl7gkhi' target=\"_blank\">https://wandb.ai/ma23m011-iit-madras/DA6401_Assignment1_ma23m011/runs/xhl7gkhi</a>"
            ]
          },
          "metadata": {}
        },
        {
          "output_type": "stream",
          "name": "stdout",
          "text": [
            "Epoch 1: Train Loss = 2.3067, Train Acc = 10.0833, Val Loss = 2.3072, Val Acc = 9.2500\n",
            "Epoch 2: Train Loss = 2.3071, Train Acc = 10.0648, Val Loss = 2.3089, Val Acc = 9.4167\n",
            "Epoch 3: Train Loss = 2.3049, Train Acc = 9.9907, Val Loss = 2.3038, Val Acc = 10.0833\n",
            "Epoch 4: Train Loss = 2.3059, Train Acc = 9.9907, Val Loss = 2.3067, Val Acc = 10.0833\n",
            "Epoch 5: Train Loss = 2.3054, Train Acc = 9.9704, Val Loss = 2.3038, Val Acc = 10.2667\n",
            "Epoch 6: Train Loss = 2.3047, Train Acc = 10.0296, Val Loss = 2.3041, Val Acc = 9.7333\n",
            "Epoch 7: Train Loss = 2.3074, Train Acc = 9.9648, Val Loss = 2.3056, Val Acc = 10.3167\n",
            "Epoch 8: Train Loss = 2.3059, Train Acc = 9.9963, Val Loss = 2.3069, Val Acc = 10.0333\n",
            "Epoch 9: Train Loss = 2.3042, Train Acc = 9.9963, Val Loss = 2.3052, Val Acc = 10.0333\n",
            "Epoch 10: Train Loss = 2.3047, Train Acc = 10.0167, Val Loss = 2.3057, Val Acc = 9.8500\n"
          ]
        },
        {
          "output_type": "display_data",
          "data": {
            "text/plain": [
              "<IPython.core.display.HTML object>"
            ],
            "text/html": []
          },
          "metadata": {}
        },
        {
          "output_type": "display_data",
          "data": {
            "text/plain": [
              "<IPython.core.display.HTML object>"
            ],
            "text/html": [
              "<br>    <style><br>        .wandb-row {<br>            display: flex;<br>            flex-direction: row;<br>            flex-wrap: wrap;<br>            justify-content: flex-start;<br>            width: 100%;<br>        }<br>        .wandb-col {<br>            display: flex;<br>            flex-direction: column;<br>            flex-basis: 100%;<br>            flex: 1;<br>            padding: 10px;<br>        }<br>    </style><br><div class=\"wandb-row\"><div class=\"wandb-col\"><h3>Run history:</h3><br/><table class=\"wandb\"><tr><td>Train_accuracy</td><td>█▇▃▃▁▅▁▃▃▄</td></tr><tr><td>Train_loss</td><td>▆▇▂▅▄▂█▅▁▂</td></tr><tr><td>Val_accuracy</td><td>▁▂▆▆█▄█▆▆▅</td></tr><tr><td>Val_loss</td><td>▆█▁▅▁▁▄▅▃▄</td></tr><tr><td>epoch</td><td>▁▂▃▃▄▅▆▆▇█</td></tr></table><br/></div><div class=\"wandb-col\"><h3>Run summary:</h3><br/><table class=\"wandb\"><tr><td>Train_accuracy</td><td>10.01667</td></tr><tr><td>Train_loss</td><td>2.3047</td></tr><tr><td>Val_accuracy</td><td>9.85</td></tr><tr><td>Val_loss</td><td>2.30565</td></tr><tr><td>epoch</td><td>10</td></tr></table><br/></div></div>"
            ]
          },
          "metadata": {}
        },
        {
          "output_type": "display_data",
          "data": {
            "text/plain": [
              "<IPython.core.display.HTML object>"
            ],
            "text/html": [
              " View run <strong style=\"color:#cdcd00\">-ac_sigmoid-hs_64-epc_10-hl_4-regu_0-eta_0.001-optmz_sgd-batch_32-wght_random</strong> at: <a href='https://wandb.ai/ma23m011-iit-madras/DA6401_Assignment1_ma23m011/runs/xhl7gkhi' target=\"_blank\">https://wandb.ai/ma23m011-iit-madras/DA6401_Assignment1_ma23m011/runs/xhl7gkhi</a><br> View project at: <a href='https://wandb.ai/ma23m011-iit-madras/DA6401_Assignment1_ma23m011' target=\"_blank\">https://wandb.ai/ma23m011-iit-madras/DA6401_Assignment1_ma23m011</a><br>Synced 5 W&B file(s), 0 media file(s), 0 artifact file(s) and 0 other file(s)"
            ]
          },
          "metadata": {}
        },
        {
          "output_type": "display_data",
          "data": {
            "text/plain": [
              "<IPython.core.display.HTML object>"
            ],
            "text/html": [
              "Find logs at: <code>./wandb/run-20250310_031006-xhl7gkhi/logs</code>"
            ]
          },
          "metadata": {}
        },
        {
          "output_type": "stream",
          "name": "stderr",
          "text": [
            "\u001b[34m\u001b[1mwandb\u001b[0m: Agent Starting Run: epy1hgtl with config:\n",
            "\u001b[34m\u001b[1mwandb\u001b[0m: \tactivation: tanh\n",
            "\u001b[34m\u001b[1mwandb\u001b[0m: \tbatch_size: 16\n",
            "\u001b[34m\u001b[1mwandb\u001b[0m: \tepochs: 10\n",
            "\u001b[34m\u001b[1mwandb\u001b[0m: \thidden_layers: 5\n",
            "\u001b[34m\u001b[1mwandb\u001b[0m: \thidden_size: 32\n",
            "\u001b[34m\u001b[1mwandb\u001b[0m: \tlearning_rate: 0.001\n",
            "\u001b[34m\u001b[1mwandb\u001b[0m: \toptimizer: mgd\n",
            "\u001b[34m\u001b[1mwandb\u001b[0m: \tweight_decay: 0\n",
            "\u001b[34m\u001b[1mwandb\u001b[0m: \tweight_init: xavier\n"
          ]
        },
        {
          "output_type": "display_data",
          "data": {
            "text/plain": [
              "<IPython.core.display.HTML object>"
            ],
            "text/html": [
              "Tracking run with wandb version 0.19.7"
            ]
          },
          "metadata": {}
        },
        {
          "output_type": "display_data",
          "data": {
            "text/plain": [
              "<IPython.core.display.HTML object>"
            ],
            "text/html": [
              "Run data is saved locally in <code>/content/wandb/run-20250310_031112-epy1hgtl</code>"
            ]
          },
          "metadata": {}
        },
        {
          "output_type": "display_data",
          "data": {
            "text/plain": [
              "<IPython.core.display.HTML object>"
            ],
            "text/html": [
              "Syncing run <strong><a href='https://wandb.ai/ma23m011-iit-madras/DA6401_Assignment1_ma23m011/runs/epy1hgtl' target=\"_blank\">exalted-sweep-93</a></strong> to <a href='https://wandb.ai/ma23m011-iit-madras/DA6401_Assignment1_ma23m011' target=\"_blank\">Weights & Biases</a> (<a href='https://wandb.me/developer-guide' target=\"_blank\">docs</a>)<br>Sweep page: <a href='https://wandb.ai/ma23m011-iit-madras/DA6401_Assignment1_ma23m011/sweeps/augzj4ot' target=\"_blank\">https://wandb.ai/ma23m011-iit-madras/DA6401_Assignment1_ma23m011/sweeps/augzj4ot</a>"
            ]
          },
          "metadata": {}
        },
        {
          "output_type": "display_data",
          "data": {
            "text/plain": [
              "<IPython.core.display.HTML object>"
            ],
            "text/html": [
              " View project at <a href='https://wandb.ai/ma23m011-iit-madras/DA6401_Assignment1_ma23m011' target=\"_blank\">https://wandb.ai/ma23m011-iit-madras/DA6401_Assignment1_ma23m011</a>"
            ]
          },
          "metadata": {}
        },
        {
          "output_type": "display_data",
          "data": {
            "text/plain": [
              "<IPython.core.display.HTML object>"
            ],
            "text/html": [
              " View sweep at <a href='https://wandb.ai/ma23m011-iit-madras/DA6401_Assignment1_ma23m011/sweeps/augzj4ot' target=\"_blank\">https://wandb.ai/ma23m011-iit-madras/DA6401_Assignment1_ma23m011/sweeps/augzj4ot</a>"
            ]
          },
          "metadata": {}
        },
        {
          "output_type": "display_data",
          "data": {
            "text/plain": [
              "<IPython.core.display.HTML object>"
            ],
            "text/html": [
              " View run at <a href='https://wandb.ai/ma23m011-iit-madras/DA6401_Assignment1_ma23m011/runs/epy1hgtl' target=\"_blank\">https://wandb.ai/ma23m011-iit-madras/DA6401_Assignment1_ma23m011/runs/epy1hgtl</a>"
            ]
          },
          "metadata": {}
        },
        {
          "output_type": "stream",
          "name": "stdout",
          "text": [
            "Epoch 1: Train Loss = 2.2973, Train Acc = 12.4944, Val Loss = 2.3000, Val Acc = 11.9333\n",
            "Epoch 2: Train Loss = 2.2973, Train Acc = 12.4944, Val Loss = 2.3000, Val Acc = 11.9333\n",
            "Epoch 3: Train Loss = 2.2973, Train Acc = 12.4944, Val Loss = 2.3000, Val Acc = 11.9333\n",
            "Epoch 4: Train Loss = 2.2973, Train Acc = 12.4944, Val Loss = 2.3000, Val Acc = 11.9333\n",
            "Epoch 5: Train Loss = 2.2973, Train Acc = 12.4944, Val Loss = 2.3000, Val Acc = 11.9333\n",
            "Epoch 6: Train Loss = 2.2973, Train Acc = 12.4944, Val Loss = 2.3000, Val Acc = 11.9333\n",
            "Epoch 7: Train Loss = 2.2973, Train Acc = 12.4944, Val Loss = 2.3000, Val Acc = 11.9333\n",
            "Epoch 8: Train Loss = 2.2973, Train Acc = 12.4944, Val Loss = 2.3000, Val Acc = 11.9333\n",
            "Epoch 9: Train Loss = 2.2973, Train Acc = 12.4944, Val Loss = 2.3000, Val Acc = 11.9333\n",
            "Epoch 10: Train Loss = 2.2973, Train Acc = 12.4944, Val Loss = 2.3000, Val Acc = 11.9333\n"
          ]
        },
        {
          "output_type": "display_data",
          "data": {
            "text/plain": [
              "<IPython.core.display.HTML object>"
            ],
            "text/html": []
          },
          "metadata": {}
        },
        {
          "output_type": "display_data",
          "data": {
            "text/plain": [
              "<IPython.core.display.HTML object>"
            ],
            "text/html": [
              "<br>    <style><br>        .wandb-row {<br>            display: flex;<br>            flex-direction: row;<br>            flex-wrap: wrap;<br>            justify-content: flex-start;<br>            width: 100%;<br>        }<br>        .wandb-col {<br>            display: flex;<br>            flex-direction: column;<br>            flex-basis: 100%;<br>            flex: 1;<br>            padding: 10px;<br>        }<br>    </style><br><div class=\"wandb-row\"><div class=\"wandb-col\"><h3>Run history:</h3><br/><table class=\"wandb\"><tr><td>Train_accuracy</td><td>▁▁▁▁▁▁▁▁▁▁</td></tr><tr><td>Train_loss</td><td>▁▁▁▁▁▁▁▁▁▁</td></tr><tr><td>Val_accuracy</td><td>▁▁▁▁▁▁▁▁▁▁</td></tr><tr><td>Val_loss</td><td>▁▁▁▁▁▁▁▁▁▁</td></tr><tr><td>epoch</td><td>▁▂▃▃▄▅▆▆▇█</td></tr></table><br/></div><div class=\"wandb-col\"><h3>Run summary:</h3><br/><table class=\"wandb\"><tr><td>Train_accuracy</td><td>12.49444</td></tr><tr><td>Train_loss</td><td>2.29726</td></tr><tr><td>Val_accuracy</td><td>11.93333</td></tr><tr><td>Val_loss</td><td>2.30004</td></tr><tr><td>epoch</td><td>10</td></tr></table><br/></div></div>"
            ]
          },
          "metadata": {}
        },
        {
          "output_type": "display_data",
          "data": {
            "text/plain": [
              "<IPython.core.display.HTML object>"
            ],
            "text/html": [
              " View run <strong style=\"color:#cdcd00\">-ac_tanh-hs_32-epc_10-hl_5-regu_0-eta_0.001-optmz_mgd-batch_16-wght_xavier</strong> at: <a href='https://wandb.ai/ma23m011-iit-madras/DA6401_Assignment1_ma23m011/runs/epy1hgtl' target=\"_blank\">https://wandb.ai/ma23m011-iit-madras/DA6401_Assignment1_ma23m011/runs/epy1hgtl</a><br> View project at: <a href='https://wandb.ai/ma23m011-iit-madras/DA6401_Assignment1_ma23m011' target=\"_blank\">https://wandb.ai/ma23m011-iit-madras/DA6401_Assignment1_ma23m011</a><br>Synced 5 W&B file(s), 0 media file(s), 0 artifact file(s) and 0 other file(s)"
            ]
          },
          "metadata": {}
        },
        {
          "output_type": "display_data",
          "data": {
            "text/plain": [
              "<IPython.core.display.HTML object>"
            ],
            "text/html": [
              "Find logs at: <code>./wandb/run-20250310_031112-epy1hgtl/logs</code>"
            ]
          },
          "metadata": {}
        },
        {
          "output_type": "stream",
          "name": "stderr",
          "text": [
            "\u001b[34m\u001b[1mwandb\u001b[0m: Agent Starting Run: 29cawqu5 with config:\n",
            "\u001b[34m\u001b[1mwandb\u001b[0m: \tactivation: sigmoid\n",
            "\u001b[34m\u001b[1mwandb\u001b[0m: \tbatch_size: 64\n",
            "\u001b[34m\u001b[1mwandb\u001b[0m: \tepochs: 5\n",
            "\u001b[34m\u001b[1mwandb\u001b[0m: \thidden_layers: 3\n",
            "\u001b[34m\u001b[1mwandb\u001b[0m: \thidden_size: 32\n",
            "\u001b[34m\u001b[1mwandb\u001b[0m: \tlearning_rate: 0.0001\n",
            "\u001b[34m\u001b[1mwandb\u001b[0m: \toptimizer: adam\n",
            "\u001b[34m\u001b[1mwandb\u001b[0m: \tweight_decay: 0.0005\n",
            "\u001b[34m\u001b[1mwandb\u001b[0m: \tweight_init: random\n"
          ]
        },
        {
          "output_type": "display_data",
          "data": {
            "text/plain": [
              "<IPython.core.display.HTML object>"
            ],
            "text/html": [
              "Tracking run with wandb version 0.19.7"
            ]
          },
          "metadata": {}
        },
        {
          "output_type": "display_data",
          "data": {
            "text/plain": [
              "<IPython.core.display.HTML object>"
            ],
            "text/html": [
              "Run data is saved locally in <code>/content/wandb/run-20250310_031219-29cawqu5</code>"
            ]
          },
          "metadata": {}
        },
        {
          "output_type": "display_data",
          "data": {
            "text/plain": [
              "<IPython.core.display.HTML object>"
            ],
            "text/html": [
              "Syncing run <strong><a href='https://wandb.ai/ma23m011-iit-madras/DA6401_Assignment1_ma23m011/runs/29cawqu5' target=\"_blank\">winter-sweep-94</a></strong> to <a href='https://wandb.ai/ma23m011-iit-madras/DA6401_Assignment1_ma23m011' target=\"_blank\">Weights & Biases</a> (<a href='https://wandb.me/developer-guide' target=\"_blank\">docs</a>)<br>Sweep page: <a href='https://wandb.ai/ma23m011-iit-madras/DA6401_Assignment1_ma23m011/sweeps/augzj4ot' target=\"_blank\">https://wandb.ai/ma23m011-iit-madras/DA6401_Assignment1_ma23m011/sweeps/augzj4ot</a>"
            ]
          },
          "metadata": {}
        },
        {
          "output_type": "display_data",
          "data": {
            "text/plain": [
              "<IPython.core.display.HTML object>"
            ],
            "text/html": [
              " View project at <a href='https://wandb.ai/ma23m011-iit-madras/DA6401_Assignment1_ma23m011' target=\"_blank\">https://wandb.ai/ma23m011-iit-madras/DA6401_Assignment1_ma23m011</a>"
            ]
          },
          "metadata": {}
        },
        {
          "output_type": "display_data",
          "data": {
            "text/plain": [
              "<IPython.core.display.HTML object>"
            ],
            "text/html": [
              " View sweep at <a href='https://wandb.ai/ma23m011-iit-madras/DA6401_Assignment1_ma23m011/sweeps/augzj4ot' target=\"_blank\">https://wandb.ai/ma23m011-iit-madras/DA6401_Assignment1_ma23m011/sweeps/augzj4ot</a>"
            ]
          },
          "metadata": {}
        },
        {
          "output_type": "display_data",
          "data": {
            "text/plain": [
              "<IPython.core.display.HTML object>"
            ],
            "text/html": [
              " View run at <a href='https://wandb.ai/ma23m011-iit-madras/DA6401_Assignment1_ma23m011/runs/29cawqu5' target=\"_blank\">https://wandb.ai/ma23m011-iit-madras/DA6401_Assignment1_ma23m011/runs/29cawqu5</a>"
            ]
          },
          "metadata": {}
        },
        {
          "output_type": "stream",
          "name": "stdout",
          "text": [
            "Epoch 1: Train Loss = 2.2526, Train Acc = 20.3019, Val Loss = 2.2536, Val Acc = 19.1667\n",
            "Epoch 2: Train Loss = 1.8380, Train Acc = 20.0852, Val Loss = 1.8400, Val Acc = 20.0667\n",
            "Epoch 3: Train Loss = 1.7697, Train Acc = 20.4741, Val Loss = 1.7708, Val Acc = 20.5667\n",
            "Epoch 4: Train Loss = 1.7439, Train Acc = 23.4333, Val Loss = 1.7448, Val Acc = 23.1167\n",
            "Epoch 5: Train Loss = 1.6817, Train Acc = 29.7556, Val Loss = 1.6835, Val Acc = 28.7167\n"
          ]
        },
        {
          "output_type": "display_data",
          "data": {
            "text/plain": [
              "<IPython.core.display.HTML object>"
            ],
            "text/html": []
          },
          "metadata": {}
        },
        {
          "output_type": "display_data",
          "data": {
            "text/plain": [
              "<IPython.core.display.HTML object>"
            ],
            "text/html": [
              "<br>    <style><br>        .wandb-row {<br>            display: flex;<br>            flex-direction: row;<br>            flex-wrap: wrap;<br>            justify-content: flex-start;<br>            width: 100%;<br>        }<br>        .wandb-col {<br>            display: flex;<br>            flex-direction: column;<br>            flex-basis: 100%;<br>            flex: 1;<br>            padding: 10px;<br>        }<br>    </style><br><div class=\"wandb-row\"><div class=\"wandb-col\"><h3>Run history:</h3><br/><table class=\"wandb\"><tr><td>Train_accuracy</td><td>▁▁▁▃█</td></tr><tr><td>Train_loss</td><td>█▃▂▂▁</td></tr><tr><td>Val_accuracy</td><td>▁▂▂▄█</td></tr><tr><td>Val_loss</td><td>█▃▂▂▁</td></tr><tr><td>epoch</td><td>▁▃▅▆█</td></tr></table><br/></div><div class=\"wandb-col\"><h3>Run summary:</h3><br/><table class=\"wandb\"><tr><td>Train_accuracy</td><td>29.75556</td></tr><tr><td>Train_loss</td><td>1.68174</td></tr><tr><td>Val_accuracy</td><td>28.71667</td></tr><tr><td>Val_loss</td><td>1.6835</td></tr><tr><td>epoch</td><td>5</td></tr></table><br/></div></div>"
            ]
          },
          "metadata": {}
        },
        {
          "output_type": "display_data",
          "data": {
            "text/plain": [
              "<IPython.core.display.HTML object>"
            ],
            "text/html": [
              " View run <strong style=\"color:#cdcd00\">-ac_sigmoid-hs_32-epc_5-hl_3-regu_0.0005-eta_0.0001-optmz_adam-batch_64-wght_random</strong> at: <a href='https://wandb.ai/ma23m011-iit-madras/DA6401_Assignment1_ma23m011/runs/29cawqu5' target=\"_blank\">https://wandb.ai/ma23m011-iit-madras/DA6401_Assignment1_ma23m011/runs/29cawqu5</a><br> View project at: <a href='https://wandb.ai/ma23m011-iit-madras/DA6401_Assignment1_ma23m011' target=\"_blank\">https://wandb.ai/ma23m011-iit-madras/DA6401_Assignment1_ma23m011</a><br>Synced 5 W&B file(s), 0 media file(s), 0 artifact file(s) and 0 other file(s)"
            ]
          },
          "metadata": {}
        },
        {
          "output_type": "display_data",
          "data": {
            "text/plain": [
              "<IPython.core.display.HTML object>"
            ],
            "text/html": [
              "Find logs at: <code>./wandb/run-20250310_031219-29cawqu5/logs</code>"
            ]
          },
          "metadata": {}
        },
        {
          "output_type": "stream",
          "name": "stderr",
          "text": [
            "\u001b[34m\u001b[1mwandb\u001b[0m: Agent Starting Run: 547abcde with config:\n",
            "\u001b[34m\u001b[1mwandb\u001b[0m: \tactivation: sigmoid\n",
            "\u001b[34m\u001b[1mwandb\u001b[0m: \tbatch_size: 32\n",
            "\u001b[34m\u001b[1mwandb\u001b[0m: \tepochs: 10\n",
            "\u001b[34m\u001b[1mwandb\u001b[0m: \thidden_layers: 4\n",
            "\u001b[34m\u001b[1mwandb\u001b[0m: \thidden_size: 32\n",
            "\u001b[34m\u001b[1mwandb\u001b[0m: \tlearning_rate: 0.0001\n",
            "\u001b[34m\u001b[1mwandb\u001b[0m: \toptimizer: rmsprop\n",
            "\u001b[34m\u001b[1mwandb\u001b[0m: \tweight_decay: 0.5\n",
            "\u001b[34m\u001b[1mwandb\u001b[0m: \tweight_init: xavier\n"
          ]
        },
        {
          "output_type": "display_data",
          "data": {
            "text/plain": [
              "<IPython.core.display.HTML object>"
            ],
            "text/html": [
              "Tracking run with wandb version 0.19.7"
            ]
          },
          "metadata": {}
        },
        {
          "output_type": "display_data",
          "data": {
            "text/plain": [
              "<IPython.core.display.HTML object>"
            ],
            "text/html": [
              "Run data is saved locally in <code>/content/wandb/run-20250310_031245-547abcde</code>"
            ]
          },
          "metadata": {}
        },
        {
          "output_type": "display_data",
          "data": {
            "text/plain": [
              "<IPython.core.display.HTML object>"
            ],
            "text/html": [
              "Syncing run <strong><a href='https://wandb.ai/ma23m011-iit-madras/DA6401_Assignment1_ma23m011/runs/547abcde' target=\"_blank\">swept-sweep-95</a></strong> to <a href='https://wandb.ai/ma23m011-iit-madras/DA6401_Assignment1_ma23m011' target=\"_blank\">Weights & Biases</a> (<a href='https://wandb.me/developer-guide' target=\"_blank\">docs</a>)<br>Sweep page: <a href='https://wandb.ai/ma23m011-iit-madras/DA6401_Assignment1_ma23m011/sweeps/augzj4ot' target=\"_blank\">https://wandb.ai/ma23m011-iit-madras/DA6401_Assignment1_ma23m011/sweeps/augzj4ot</a>"
            ]
          },
          "metadata": {}
        },
        {
          "output_type": "display_data",
          "data": {
            "text/plain": [
              "<IPython.core.display.HTML object>"
            ],
            "text/html": [
              " View project at <a href='https://wandb.ai/ma23m011-iit-madras/DA6401_Assignment1_ma23m011' target=\"_blank\">https://wandb.ai/ma23m011-iit-madras/DA6401_Assignment1_ma23m011</a>"
            ]
          },
          "metadata": {}
        },
        {
          "output_type": "display_data",
          "data": {
            "text/plain": [
              "<IPython.core.display.HTML object>"
            ],
            "text/html": [
              " View sweep at <a href='https://wandb.ai/ma23m011-iit-madras/DA6401_Assignment1_ma23m011/sweeps/augzj4ot' target=\"_blank\">https://wandb.ai/ma23m011-iit-madras/DA6401_Assignment1_ma23m011/sweeps/augzj4ot</a>"
            ]
          },
          "metadata": {}
        },
        {
          "output_type": "display_data",
          "data": {
            "text/plain": [
              "<IPython.core.display.HTML object>"
            ],
            "text/html": [
              " View run at <a href='https://wandb.ai/ma23m011-iit-madras/DA6401_Assignment1_ma23m011/runs/547abcde' target=\"_blank\">https://wandb.ai/ma23m011-iit-madras/DA6401_Assignment1_ma23m011/runs/547abcde</a>"
            ]
          },
          "metadata": {}
        },
        {
          "output_type": "stream",
          "name": "stdout",
          "text": [
            "Epoch 1: Train Loss = 9.4163, Train Acc = 10.0648, Val Loss = 9.4169, Val Acc = 9.4167\n",
            "Epoch 2: Train Loss = 4.6126, Train Acc = 10.0833, Val Loss = 4.6131, Val Acc = 9.2500\n",
            "Epoch 3: Train Loss = 3.6100, Train Acc = 10.0648, Val Loss = 3.6104, Val Acc = 9.4167\n",
            "Epoch 4: Train Loss = 3.2993, Train Acc = 10.0833, Val Loss = 3.2998, Val Acc = 9.2500\n",
            "Epoch 5: Train Loss = 3.1184, Train Acc = 10.0648, Val Loss = 3.1190, Val Acc = 9.4167\n",
            "Epoch 6: Train Loss = 2.9851, Train Acc = 10.0833, Val Loss = 2.9851, Val Acc = 9.2500\n",
            "Epoch 7: Train Loss = 2.8774, Train Acc = 10.0648, Val Loss = 2.8780, Val Acc = 9.4167\n",
            "Epoch 8: Train Loss = 2.7883, Train Acc = 9.9389, Val Loss = 2.7882, Val Acc = 10.5500\n",
            "Epoch 9: Train Loss = 2.7133, Train Acc = 9.9963, Val Loss = 2.7135, Val Acc = 10.0333\n",
            "Epoch 10: Train Loss = 2.6526, Train Acc = 10.0296, Val Loss = 2.6533, Val Acc = 9.7333\n"
          ]
        },
        {
          "output_type": "display_data",
          "data": {
            "text/plain": [
              "<IPython.core.display.HTML object>"
            ],
            "text/html": []
          },
          "metadata": {}
        },
        {
          "output_type": "display_data",
          "data": {
            "text/plain": [
              "<IPython.core.display.HTML object>"
            ],
            "text/html": [
              "<br>    <style><br>        .wandb-row {<br>            display: flex;<br>            flex-direction: row;<br>            flex-wrap: wrap;<br>            justify-content: flex-start;<br>            width: 100%;<br>        }<br>        .wandb-col {<br>            display: flex;<br>            flex-direction: column;<br>            flex-basis: 100%;<br>            flex: 1;<br>            padding: 10px;<br>        }<br>    </style><br><div class=\"wandb-row\"><div class=\"wandb-col\"><h3>Run history:</h3><br/><table class=\"wandb\"><tr><td>Train_accuracy</td><td>▇█▇█▇█▇▁▄▅</td></tr><tr><td>Train_loss</td><td>█▃▂▂▁▁▁▁▁▁</td></tr><tr><td>Val_accuracy</td><td>▂▁▂▁▂▁▂█▅▄</td></tr><tr><td>Val_loss</td><td>█▃▂▂▁▁▁▁▁▁</td></tr><tr><td>epoch</td><td>▁▂▃▃▄▅▆▆▇█</td></tr></table><br/></div><div class=\"wandb-col\"><h3>Run summary:</h3><br/><table class=\"wandb\"><tr><td>Train_accuracy</td><td>10.02963</td></tr><tr><td>Train_loss</td><td>2.6526</td></tr><tr><td>Val_accuracy</td><td>9.73333</td></tr><tr><td>Val_loss</td><td>2.6533</td></tr><tr><td>epoch</td><td>10</td></tr></table><br/></div></div>"
            ]
          },
          "metadata": {}
        },
        {
          "output_type": "display_data",
          "data": {
            "text/plain": [
              "<IPython.core.display.HTML object>"
            ],
            "text/html": [
              " View run <strong style=\"color:#cdcd00\">-ac_sigmoid-hs_32-epc_10-hl_4-regu_0.5-eta_0.0001-optmz_rmsprop-batch_32-wght_xavier</strong> at: <a href='https://wandb.ai/ma23m011-iit-madras/DA6401_Assignment1_ma23m011/runs/547abcde' target=\"_blank\">https://wandb.ai/ma23m011-iit-madras/DA6401_Assignment1_ma23m011/runs/547abcde</a><br> View project at: <a href='https://wandb.ai/ma23m011-iit-madras/DA6401_Assignment1_ma23m011' target=\"_blank\">https://wandb.ai/ma23m011-iit-madras/DA6401_Assignment1_ma23m011</a><br>Synced 5 W&B file(s), 0 media file(s), 0 artifact file(s) and 0 other file(s)"
            ]
          },
          "metadata": {}
        },
        {
          "output_type": "display_data",
          "data": {
            "text/plain": [
              "<IPython.core.display.HTML object>"
            ],
            "text/html": [
              "Find logs at: <code>./wandb/run-20250310_031245-547abcde/logs</code>"
            ]
          },
          "metadata": {}
        },
        {
          "output_type": "stream",
          "name": "stderr",
          "text": [
            "\u001b[34m\u001b[1mwandb\u001b[0m: Agent Starting Run: s4zactvo with config:\n",
            "\u001b[34m\u001b[1mwandb\u001b[0m: \tactivation: relu\n",
            "\u001b[34m\u001b[1mwandb\u001b[0m: \tbatch_size: 64\n",
            "\u001b[34m\u001b[1mwandb\u001b[0m: \tepochs: 10\n",
            "\u001b[34m\u001b[1mwandb\u001b[0m: \thidden_layers: 3\n",
            "\u001b[34m\u001b[1mwandb\u001b[0m: \thidden_size: 128\n",
            "\u001b[34m\u001b[1mwandb\u001b[0m: \tlearning_rate: 0.0001\n",
            "\u001b[34m\u001b[1mwandb\u001b[0m: \toptimizer: mgd\n",
            "\u001b[34m\u001b[1mwandb\u001b[0m: \tweight_decay: 0\n",
            "\u001b[34m\u001b[1mwandb\u001b[0m: \tweight_init: xavier\n"
          ]
        },
        {
          "output_type": "display_data",
          "data": {
            "text/plain": [
              "<IPython.core.display.HTML object>"
            ],
            "text/html": [
              "Tracking run with wandb version 0.19.7"
            ]
          },
          "metadata": {}
        },
        {
          "output_type": "display_data",
          "data": {
            "text/plain": [
              "<IPython.core.display.HTML object>"
            ],
            "text/html": [
              "Run data is saved locally in <code>/content/wandb/run-20250310_031335-s4zactvo</code>"
            ]
          },
          "metadata": {}
        },
        {
          "output_type": "display_data",
          "data": {
            "text/plain": [
              "<IPython.core.display.HTML object>"
            ],
            "text/html": [
              "Syncing run <strong><a href='https://wandb.ai/ma23m011-iit-madras/DA6401_Assignment1_ma23m011/runs/s4zactvo' target=\"_blank\">earnest-sweep-96</a></strong> to <a href='https://wandb.ai/ma23m011-iit-madras/DA6401_Assignment1_ma23m011' target=\"_blank\">Weights & Biases</a> (<a href='https://wandb.me/developer-guide' target=\"_blank\">docs</a>)<br>Sweep page: <a href='https://wandb.ai/ma23m011-iit-madras/DA6401_Assignment1_ma23m011/sweeps/augzj4ot' target=\"_blank\">https://wandb.ai/ma23m011-iit-madras/DA6401_Assignment1_ma23m011/sweeps/augzj4ot</a>"
            ]
          },
          "metadata": {}
        },
        {
          "output_type": "display_data",
          "data": {
            "text/plain": [
              "<IPython.core.display.HTML object>"
            ],
            "text/html": [
              " View project at <a href='https://wandb.ai/ma23m011-iit-madras/DA6401_Assignment1_ma23m011' target=\"_blank\">https://wandb.ai/ma23m011-iit-madras/DA6401_Assignment1_ma23m011</a>"
            ]
          },
          "metadata": {}
        },
        {
          "output_type": "display_data",
          "data": {
            "text/plain": [
              "<IPython.core.display.HTML object>"
            ],
            "text/html": [
              " View sweep at <a href='https://wandb.ai/ma23m011-iit-madras/DA6401_Assignment1_ma23m011/sweeps/augzj4ot' target=\"_blank\">https://wandb.ai/ma23m011-iit-madras/DA6401_Assignment1_ma23m011/sweeps/augzj4ot</a>"
            ]
          },
          "metadata": {}
        },
        {
          "output_type": "display_data",
          "data": {
            "text/plain": [
              "<IPython.core.display.HTML object>"
            ],
            "text/html": [
              " View run at <a href='https://wandb.ai/ma23m011-iit-madras/DA6401_Assignment1_ma23m011/runs/s4zactvo' target=\"_blank\">https://wandb.ai/ma23m011-iit-madras/DA6401_Assignment1_ma23m011/runs/s4zactvo</a>"
            ]
          },
          "metadata": {}
        },
        {
          "output_type": "stream",
          "name": "stdout",
          "text": [
            "Epoch 1: Train Loss = 2.3143, Train Acc = 9.8167, Val Loss = 2.3162, Val Acc = 9.2333\n",
            "Epoch 2: Train Loss = 2.3143, Train Acc = 9.8167, Val Loss = 2.3162, Val Acc = 9.2333\n",
            "Epoch 3: Train Loss = 2.3143, Train Acc = 9.8167, Val Loss = 2.3162, Val Acc = 9.2333\n",
            "Epoch 4: Train Loss = 2.3143, Train Acc = 9.8167, Val Loss = 2.3162, Val Acc = 9.2333\n",
            "Epoch 5: Train Loss = 2.3143, Train Acc = 9.8167, Val Loss = 2.3162, Val Acc = 9.2333\n",
            "Epoch 6: Train Loss = 2.3143, Train Acc = 9.8167, Val Loss = 2.3162, Val Acc = 9.2333\n",
            "Epoch 7: Train Loss = 2.3143, Train Acc = 9.8167, Val Loss = 2.3162, Val Acc = 9.2333\n",
            "Epoch 8: Train Loss = 2.3143, Train Acc = 9.8167, Val Loss = 2.3162, Val Acc = 9.2333\n",
            "Epoch 9: Train Loss = 2.3143, Train Acc = 9.8167, Val Loss = 2.3162, Val Acc = 9.2333\n",
            "Epoch 10: Train Loss = 2.3143, Train Acc = 9.8167, Val Loss = 2.3162, Val Acc = 9.2333\n"
          ]
        },
        {
          "output_type": "display_data",
          "data": {
            "text/plain": [
              "<IPython.core.display.HTML object>"
            ],
            "text/html": []
          },
          "metadata": {}
        },
        {
          "output_type": "display_data",
          "data": {
            "text/plain": [
              "<IPython.core.display.HTML object>"
            ],
            "text/html": [
              "<br>    <style><br>        .wandb-row {<br>            display: flex;<br>            flex-direction: row;<br>            flex-wrap: wrap;<br>            justify-content: flex-start;<br>            width: 100%;<br>        }<br>        .wandb-col {<br>            display: flex;<br>            flex-direction: column;<br>            flex-basis: 100%;<br>            flex: 1;<br>            padding: 10px;<br>        }<br>    </style><br><div class=\"wandb-row\"><div class=\"wandb-col\"><h3>Run history:</h3><br/><table class=\"wandb\"><tr><td>Train_accuracy</td><td>▁▁▁▁▁▁▁▁▁▁</td></tr><tr><td>Train_loss</td><td>▁▁▁▁▁▁▁▁▁▁</td></tr><tr><td>Val_accuracy</td><td>▁▁▁▁▁▁▁▁▁▁</td></tr><tr><td>Val_loss</td><td>▁▁▁▁▁▁▁▁▁▁</td></tr><tr><td>epoch</td><td>▁▂▃▃▄▅▆▆▇█</td></tr></table><br/></div><div class=\"wandb-col\"><h3>Run summary:</h3><br/><table class=\"wandb\"><tr><td>Train_accuracy</td><td>9.81667</td></tr><tr><td>Train_loss</td><td>2.31429</td></tr><tr><td>Val_accuracy</td><td>9.23333</td></tr><tr><td>Val_loss</td><td>2.31616</td></tr><tr><td>epoch</td><td>10</td></tr></table><br/></div></div>"
            ]
          },
          "metadata": {}
        },
        {
          "output_type": "display_data",
          "data": {
            "text/plain": [
              "<IPython.core.display.HTML object>"
            ],
            "text/html": [
              " View run <strong style=\"color:#cdcd00\">-ac_relu-hs_128-epc_10-hl_3-regu_0-eta_0.0001-optmz_mgd-batch_64-wght_xavier</strong> at: <a href='https://wandb.ai/ma23m011-iit-madras/DA6401_Assignment1_ma23m011/runs/s4zactvo' target=\"_blank\">https://wandb.ai/ma23m011-iit-madras/DA6401_Assignment1_ma23m011/runs/s4zactvo</a><br> View project at: <a href='https://wandb.ai/ma23m011-iit-madras/DA6401_Assignment1_ma23m011' target=\"_blank\">https://wandb.ai/ma23m011-iit-madras/DA6401_Assignment1_ma23m011</a><br>Synced 5 W&B file(s), 0 media file(s), 0 artifact file(s) and 0 other file(s)"
            ]
          },
          "metadata": {}
        },
        {
          "output_type": "display_data",
          "data": {
            "text/plain": [
              "<IPython.core.display.HTML object>"
            ],
            "text/html": [
              "Find logs at: <code>./wandb/run-20250310_031335-s4zactvo/logs</code>"
            ]
          },
          "metadata": {}
        },
        {
          "output_type": "stream",
          "name": "stderr",
          "text": [
            "\u001b[34m\u001b[1mwandb\u001b[0m: Agent Starting Run: xzw7clhn with config:\n",
            "\u001b[34m\u001b[1mwandb\u001b[0m: \tactivation: tanh\n",
            "\u001b[34m\u001b[1mwandb\u001b[0m: \tbatch_size: 64\n",
            "\u001b[34m\u001b[1mwandb\u001b[0m: \tepochs: 10\n",
            "\u001b[34m\u001b[1mwandb\u001b[0m: \thidden_layers: 5\n",
            "\u001b[34m\u001b[1mwandb\u001b[0m: \thidden_size: 32\n",
            "\u001b[34m\u001b[1mwandb\u001b[0m: \tlearning_rate: 0.001\n",
            "\u001b[34m\u001b[1mwandb\u001b[0m: \toptimizer: adam\n",
            "\u001b[34m\u001b[1mwandb\u001b[0m: \tweight_decay: 0\n",
            "\u001b[34m\u001b[1mwandb\u001b[0m: \tweight_init: random\n"
          ]
        },
        {
          "output_type": "display_data",
          "data": {
            "text/plain": [
              "<IPython.core.display.HTML object>"
            ],
            "text/html": [
              "Tracking run with wandb version 0.19.7"
            ]
          },
          "metadata": {}
        },
        {
          "output_type": "display_data",
          "data": {
            "text/plain": [
              "<IPython.core.display.HTML object>"
            ],
            "text/html": [
              "Run data is saved locally in <code>/content/wandb/run-20250310_031437-xzw7clhn</code>"
            ]
          },
          "metadata": {}
        },
        {
          "output_type": "display_data",
          "data": {
            "text/plain": [
              "<IPython.core.display.HTML object>"
            ],
            "text/html": [
              "Syncing run <strong><a href='https://wandb.ai/ma23m011-iit-madras/DA6401_Assignment1_ma23m011/runs/xzw7clhn' target=\"_blank\">drawn-sweep-97</a></strong> to <a href='https://wandb.ai/ma23m011-iit-madras/DA6401_Assignment1_ma23m011' target=\"_blank\">Weights & Biases</a> (<a href='https://wandb.me/developer-guide' target=\"_blank\">docs</a>)<br>Sweep page: <a href='https://wandb.ai/ma23m011-iit-madras/DA6401_Assignment1_ma23m011/sweeps/augzj4ot' target=\"_blank\">https://wandb.ai/ma23m011-iit-madras/DA6401_Assignment1_ma23m011/sweeps/augzj4ot</a>"
            ]
          },
          "metadata": {}
        },
        {
          "output_type": "display_data",
          "data": {
            "text/plain": [
              "<IPython.core.display.HTML object>"
            ],
            "text/html": [
              " View project at <a href='https://wandb.ai/ma23m011-iit-madras/DA6401_Assignment1_ma23m011' target=\"_blank\">https://wandb.ai/ma23m011-iit-madras/DA6401_Assignment1_ma23m011</a>"
            ]
          },
          "metadata": {}
        },
        {
          "output_type": "display_data",
          "data": {
            "text/plain": [
              "<IPython.core.display.HTML object>"
            ],
            "text/html": [
              " View sweep at <a href='https://wandb.ai/ma23m011-iit-madras/DA6401_Assignment1_ma23m011/sweeps/augzj4ot' target=\"_blank\">https://wandb.ai/ma23m011-iit-madras/DA6401_Assignment1_ma23m011/sweeps/augzj4ot</a>"
            ]
          },
          "metadata": {}
        },
        {
          "output_type": "display_data",
          "data": {
            "text/plain": [
              "<IPython.core.display.HTML object>"
            ],
            "text/html": [
              " View run at <a href='https://wandb.ai/ma23m011-iit-madras/DA6401_Assignment1_ma23m011/runs/xzw7clhn' target=\"_blank\">https://wandb.ai/ma23m011-iit-madras/DA6401_Assignment1_ma23m011/runs/xzw7clhn</a>"
            ]
          },
          "metadata": {}
        },
        {
          "output_type": "stream",
          "name": "stdout",
          "text": [
            "Epoch 1: Train Loss = 1.3219, Train Acc = 39.1074, Val Loss = 1.3142, Val Acc = 38.9167\n",
            "Epoch 2: Train Loss = 0.8364, Train Acc = 70.3241, Val Loss = 0.8436, Val Acc = 70.2000\n",
            "Epoch 3: Train Loss = 0.6125, Train Acc = 79.5519, Val Loss = 0.6278, Val Acc = 78.9000\n",
            "Epoch 4: Train Loss = 0.5288, Train Acc = 81.6519, Val Loss = 0.5568, Val Acc = 80.8833\n",
            "Epoch 5: Train Loss = 0.4632, Train Acc = 84.6796, Val Loss = 0.5009, Val Acc = 83.0667\n",
            "Epoch 6: Train Loss = 0.4126, Train Acc = 86.3278, Val Loss = 0.4465, Val Acc = 84.9667\n",
            "Epoch 7: Train Loss = 0.3816, Train Acc = 86.9519, Val Loss = 0.4150, Val Acc = 86.1667\n",
            "Epoch 8: Train Loss = 0.3683, Train Acc = 87.5204, Val Loss = 0.4146, Val Acc = 85.3500\n",
            "Epoch 9: Train Loss = 0.3928, Train Acc = 86.1741, Val Loss = 0.4536, Val Acc = 84.3000\n",
            "Epoch 10: Train Loss = 0.3768, Train Acc = 87.0000, Val Loss = 0.4344, Val Acc = 84.7333\n"
          ]
        },
        {
          "output_type": "display_data",
          "data": {
            "text/plain": [
              "<IPython.core.display.HTML object>"
            ],
            "text/html": []
          },
          "metadata": {}
        },
        {
          "output_type": "display_data",
          "data": {
            "text/plain": [
              "<IPython.core.display.HTML object>"
            ],
            "text/html": [
              "<br>    <style><br>        .wandb-row {<br>            display: flex;<br>            flex-direction: row;<br>            flex-wrap: wrap;<br>            justify-content: flex-start;<br>            width: 100%;<br>        }<br>        .wandb-col {<br>            display: flex;<br>            flex-direction: column;<br>            flex-basis: 100%;<br>            flex: 1;<br>            padding: 10px;<br>        }<br>    </style><br><div class=\"wandb-row\"><div class=\"wandb-col\"><h3>Run history:</h3><br/><table class=\"wandb\"><tr><td>Train_accuracy</td><td>▁▆▇▇██████</td></tr><tr><td>Train_loss</td><td>█▄▃▂▂▁▁▁▁▁</td></tr><tr><td>Val_accuracy</td><td>▁▆▇▇██████</td></tr><tr><td>Val_loss</td><td>█▄▃▂▂▁▁▁▁▁</td></tr><tr><td>epoch</td><td>▁▂▃▃▄▅▆▆▇█</td></tr></table><br/></div><div class=\"wandb-col\"><h3>Run summary:</h3><br/><table class=\"wandb\"><tr><td>Train_accuracy</td><td>87</td></tr><tr><td>Train_loss</td><td>0.37682</td></tr><tr><td>Val_accuracy</td><td>84.73333</td></tr><tr><td>Val_loss</td><td>0.43445</td></tr><tr><td>epoch</td><td>10</td></tr></table><br/></div></div>"
            ]
          },
          "metadata": {}
        },
        {
          "output_type": "display_data",
          "data": {
            "text/plain": [
              "<IPython.core.display.HTML object>"
            ],
            "text/html": [
              " View run <strong style=\"color:#cdcd00\">-ac_tanh-hs_32-epc_10-hl_5-regu_0-eta_0.001-optmz_adam-batch_64-wght_random</strong> at: <a href='https://wandb.ai/ma23m011-iit-madras/DA6401_Assignment1_ma23m011/runs/xzw7clhn' target=\"_blank\">https://wandb.ai/ma23m011-iit-madras/DA6401_Assignment1_ma23m011/runs/xzw7clhn</a><br> View project at: <a href='https://wandb.ai/ma23m011-iit-madras/DA6401_Assignment1_ma23m011' target=\"_blank\">https://wandb.ai/ma23m011-iit-madras/DA6401_Assignment1_ma23m011</a><br>Synced 5 W&B file(s), 0 media file(s), 0 artifact file(s) and 0 other file(s)"
            ]
          },
          "metadata": {}
        },
        {
          "output_type": "display_data",
          "data": {
            "text/plain": [
              "<IPython.core.display.HTML object>"
            ],
            "text/html": [
              "Find logs at: <code>./wandb/run-20250310_031437-xzw7clhn/logs</code>"
            ]
          },
          "metadata": {}
        },
        {
          "output_type": "stream",
          "name": "stderr",
          "text": [
            "\u001b[34m\u001b[1mwandb\u001b[0m: Sweep Agent: Waiting for job.\n",
            "\u001b[34m\u001b[1mwandb\u001b[0m: Job received.\n",
            "\u001b[34m\u001b[1mwandb\u001b[0m: Agent Starting Run: e3jerdtg with config:\n",
            "\u001b[34m\u001b[1mwandb\u001b[0m: \tactivation: relu\n",
            "\u001b[34m\u001b[1mwandb\u001b[0m: \tbatch_size: 64\n",
            "\u001b[34m\u001b[1mwandb\u001b[0m: \tepochs: 10\n",
            "\u001b[34m\u001b[1mwandb\u001b[0m: \thidden_layers: 3\n",
            "\u001b[34m\u001b[1mwandb\u001b[0m: \thidden_size: 32\n",
            "\u001b[34m\u001b[1mwandb\u001b[0m: \tlearning_rate: 0.0001\n",
            "\u001b[34m\u001b[1mwandb\u001b[0m: \toptimizer: adam\n",
            "\u001b[34m\u001b[1mwandb\u001b[0m: \tweight_decay: 0\n",
            "\u001b[34m\u001b[1mwandb\u001b[0m: \tweight_init: xavier\n"
          ]
        },
        {
          "output_type": "display_data",
          "data": {
            "text/plain": [
              "<IPython.core.display.HTML object>"
            ],
            "text/html": [
              "Tracking run with wandb version 0.19.7"
            ]
          },
          "metadata": {}
        },
        {
          "output_type": "display_data",
          "data": {
            "text/plain": [
              "<IPython.core.display.HTML object>"
            ],
            "text/html": [
              "Run data is saved locally in <code>/content/wandb/run-20250310_031537-e3jerdtg</code>"
            ]
          },
          "metadata": {}
        },
        {
          "output_type": "display_data",
          "data": {
            "text/plain": [
              "<IPython.core.display.HTML object>"
            ],
            "text/html": [
              "Syncing run <strong><a href='https://wandb.ai/ma23m011-iit-madras/DA6401_Assignment1_ma23m011/runs/e3jerdtg' target=\"_blank\">scarlet-sweep-98</a></strong> to <a href='https://wandb.ai/ma23m011-iit-madras/DA6401_Assignment1_ma23m011' target=\"_blank\">Weights & Biases</a> (<a href='https://wandb.me/developer-guide' target=\"_blank\">docs</a>)<br>Sweep page: <a href='https://wandb.ai/ma23m011-iit-madras/DA6401_Assignment1_ma23m011/sweeps/augzj4ot' target=\"_blank\">https://wandb.ai/ma23m011-iit-madras/DA6401_Assignment1_ma23m011/sweeps/augzj4ot</a>"
            ]
          },
          "metadata": {}
        },
        {
          "output_type": "display_data",
          "data": {
            "text/plain": [
              "<IPython.core.display.HTML object>"
            ],
            "text/html": [
              " View project at <a href='https://wandb.ai/ma23m011-iit-madras/DA6401_Assignment1_ma23m011' target=\"_blank\">https://wandb.ai/ma23m011-iit-madras/DA6401_Assignment1_ma23m011</a>"
            ]
          },
          "metadata": {}
        },
        {
          "output_type": "display_data",
          "data": {
            "text/plain": [
              "<IPython.core.display.HTML object>"
            ],
            "text/html": [
              " View sweep at <a href='https://wandb.ai/ma23m011-iit-madras/DA6401_Assignment1_ma23m011/sweeps/augzj4ot' target=\"_blank\">https://wandb.ai/ma23m011-iit-madras/DA6401_Assignment1_ma23m011/sweeps/augzj4ot</a>"
            ]
          },
          "metadata": {}
        },
        {
          "output_type": "display_data",
          "data": {
            "text/plain": [
              "<IPython.core.display.HTML object>"
            ],
            "text/html": [
              " View run at <a href='https://wandb.ai/ma23m011-iit-madras/DA6401_Assignment1_ma23m011/runs/e3jerdtg' target=\"_blank\">https://wandb.ai/ma23m011-iit-madras/DA6401_Assignment1_ma23m011/runs/e3jerdtg</a>"
            ]
          },
          "metadata": {}
        },
        {
          "output_type": "stream",
          "name": "stdout",
          "text": [
            "Epoch 1: Train Loss = 0.7012, Train Acc = 76.4389, Val Loss = 0.6887, Val Acc = 77.1167\n",
            "Epoch 2: Train Loss = 0.5673, Train Acc = 80.7444, Val Loss = 0.5625, Val Acc = 80.9833\n",
            "Epoch 3: Train Loss = 0.5132, Train Acc = 82.4278, Val Loss = 0.5113, Val Acc = 82.3000\n",
            "Epoch 4: Train Loss = 0.4795, Train Acc = 83.3130, Val Loss = 0.4820, Val Acc = 83.3667\n",
            "Epoch 5: Train Loss = 0.4573, Train Acc = 84.0759, Val Loss = 0.4586, Val Acc = 83.7000\n",
            "Epoch 6: Train Loss = 0.4415, Train Acc = 84.6389, Val Loss = 0.4450, Val Acc = 83.9667\n",
            "Epoch 7: Train Loss = 0.4328, Train Acc = 84.8278, Val Loss = 0.4372, Val Acc = 84.0833\n",
            "Epoch 8: Train Loss = 0.4206, Train Acc = 85.4704, Val Loss = 0.4299, Val Acc = 84.6000\n",
            "Epoch 9: Train Loss = 0.4132, Train Acc = 85.5944, Val Loss = 0.4189, Val Acc = 85.0333\n",
            "Epoch 10: Train Loss = 0.4042, Train Acc = 86.0833, Val Loss = 0.4161, Val Acc = 85.0833\n"
          ]
        },
        {
          "output_type": "display_data",
          "data": {
            "text/plain": [
              "<IPython.core.display.HTML object>"
            ],
            "text/html": []
          },
          "metadata": {}
        },
        {
          "output_type": "display_data",
          "data": {
            "text/plain": [
              "<IPython.core.display.HTML object>"
            ],
            "text/html": [
              "<br>    <style><br>        .wandb-row {<br>            display: flex;<br>            flex-direction: row;<br>            flex-wrap: wrap;<br>            justify-content: flex-start;<br>            width: 100%;<br>        }<br>        .wandb-col {<br>            display: flex;<br>            flex-direction: column;<br>            flex-basis: 100%;<br>            flex: 1;<br>            padding: 10px;<br>        }<br>    </style><br><div class=\"wandb-row\"><div class=\"wandb-col\"><h3>Run history:</h3><br/><table class=\"wandb\"><tr><td>Train_accuracy</td><td>▁▄▅▆▇▇▇███</td></tr><tr><td>Train_loss</td><td>█▅▄▃▂▂▂▁▁▁</td></tr><tr><td>Val_accuracy</td><td>▁▄▆▆▇▇▇███</td></tr><tr><td>Val_loss</td><td>█▅▃▃▂▂▂▁▁▁</td></tr><tr><td>epoch</td><td>▁▂▃▃▄▅▆▆▇█</td></tr></table><br/></div><div class=\"wandb-col\"><h3>Run summary:</h3><br/><table class=\"wandb\"><tr><td>Train_accuracy</td><td>86.08333</td></tr><tr><td>Train_loss</td><td>0.40418</td></tr><tr><td>Val_accuracy</td><td>85.08333</td></tr><tr><td>Val_loss</td><td>0.41612</td></tr><tr><td>epoch</td><td>10</td></tr></table><br/></div></div>"
            ]
          },
          "metadata": {}
        },
        {
          "output_type": "display_data",
          "data": {
            "text/plain": [
              "<IPython.core.display.HTML object>"
            ],
            "text/html": [
              " View run <strong style=\"color:#cdcd00\">-ac_relu-hs_32-epc_10-hl_3-regu_0-eta_0.0001-optmz_adam-batch_64-wght_xavier</strong> at: <a href='https://wandb.ai/ma23m011-iit-madras/DA6401_Assignment1_ma23m011/runs/e3jerdtg' target=\"_blank\">https://wandb.ai/ma23m011-iit-madras/DA6401_Assignment1_ma23m011/runs/e3jerdtg</a><br> View project at: <a href='https://wandb.ai/ma23m011-iit-madras/DA6401_Assignment1_ma23m011' target=\"_blank\">https://wandb.ai/ma23m011-iit-madras/DA6401_Assignment1_ma23m011</a><br>Synced 5 W&B file(s), 0 media file(s), 0 artifact file(s) and 0 other file(s)"
            ]
          },
          "metadata": {}
        },
        {
          "output_type": "display_data",
          "data": {
            "text/plain": [
              "<IPython.core.display.HTML object>"
            ],
            "text/html": [
              "Find logs at: <code>./wandb/run-20250310_031537-e3jerdtg/logs</code>"
            ]
          },
          "metadata": {}
        },
        {
          "output_type": "stream",
          "name": "stderr",
          "text": [
            "\u001b[34m\u001b[1mwandb\u001b[0m: Agent Starting Run: v9yy5tau with config:\n",
            "\u001b[34m\u001b[1mwandb\u001b[0m: \tactivation: sigmoid\n",
            "\u001b[34m\u001b[1mwandb\u001b[0m: \tbatch_size: 64\n",
            "\u001b[34m\u001b[1mwandb\u001b[0m: \tepochs: 10\n",
            "\u001b[34m\u001b[1mwandb\u001b[0m: \thidden_layers: 3\n",
            "\u001b[34m\u001b[1mwandb\u001b[0m: \thidden_size: 64\n",
            "\u001b[34m\u001b[1mwandb\u001b[0m: \tlearning_rate: 0.0001\n",
            "\u001b[34m\u001b[1mwandb\u001b[0m: \toptimizer: mgd\n",
            "\u001b[34m\u001b[1mwandb\u001b[0m: \tweight_decay: 0\n",
            "\u001b[34m\u001b[1mwandb\u001b[0m: \tweight_init: xavier\n"
          ]
        },
        {
          "output_type": "display_data",
          "data": {
            "text/plain": [
              "<IPython.core.display.HTML object>"
            ],
            "text/html": [
              "Tracking run with wandb version 0.19.7"
            ]
          },
          "metadata": {}
        },
        {
          "output_type": "display_data",
          "data": {
            "text/plain": [
              "<IPython.core.display.HTML object>"
            ],
            "text/html": [
              "Run data is saved locally in <code>/content/wandb/run-20250310_031613-v9yy5tau</code>"
            ]
          },
          "metadata": {}
        },
        {
          "output_type": "display_data",
          "data": {
            "text/plain": [
              "<IPython.core.display.HTML object>"
            ],
            "text/html": [
              "Syncing run <strong><a href='https://wandb.ai/ma23m011-iit-madras/DA6401_Assignment1_ma23m011/runs/v9yy5tau' target=\"_blank\">comic-sweep-99</a></strong> to <a href='https://wandb.ai/ma23m011-iit-madras/DA6401_Assignment1_ma23m011' target=\"_blank\">Weights & Biases</a> (<a href='https://wandb.me/developer-guide' target=\"_blank\">docs</a>)<br>Sweep page: <a href='https://wandb.ai/ma23m011-iit-madras/DA6401_Assignment1_ma23m011/sweeps/augzj4ot' target=\"_blank\">https://wandb.ai/ma23m011-iit-madras/DA6401_Assignment1_ma23m011/sweeps/augzj4ot</a>"
            ]
          },
          "metadata": {}
        },
        {
          "output_type": "display_data",
          "data": {
            "text/plain": [
              "<IPython.core.display.HTML object>"
            ],
            "text/html": [
              " View project at <a href='https://wandb.ai/ma23m011-iit-madras/DA6401_Assignment1_ma23m011' target=\"_blank\">https://wandb.ai/ma23m011-iit-madras/DA6401_Assignment1_ma23m011</a>"
            ]
          },
          "metadata": {}
        },
        {
          "output_type": "display_data",
          "data": {
            "text/plain": [
              "<IPython.core.display.HTML object>"
            ],
            "text/html": [
              " View sweep at <a href='https://wandb.ai/ma23m011-iit-madras/DA6401_Assignment1_ma23m011/sweeps/augzj4ot' target=\"_blank\">https://wandb.ai/ma23m011-iit-madras/DA6401_Assignment1_ma23m011/sweeps/augzj4ot</a>"
            ]
          },
          "metadata": {}
        },
        {
          "output_type": "display_data",
          "data": {
            "text/plain": [
              "<IPython.core.display.HTML object>"
            ],
            "text/html": [
              " View run at <a href='https://wandb.ai/ma23m011-iit-madras/DA6401_Assignment1_ma23m011/runs/v9yy5tau' target=\"_blank\">https://wandb.ai/ma23m011-iit-madras/DA6401_Assignment1_ma23m011/runs/v9yy5tau</a>"
            ]
          },
          "metadata": {}
        },
        {
          "output_type": "stream",
          "name": "stdout",
          "text": [
            "Epoch 1: Train Loss = 2.5404, Train Acc = 9.9907, Val Loss = 2.5444, Val Acc = 10.0833\n",
            "Epoch 2: Train Loss = 2.5404, Train Acc = 9.9907, Val Loss = 2.5444, Val Acc = 10.0833\n",
            "Epoch 3: Train Loss = 2.5404, Train Acc = 9.9907, Val Loss = 2.5444, Val Acc = 10.0833\n",
            "Epoch 4: Train Loss = 2.5404, Train Acc = 9.9907, Val Loss = 2.5444, Val Acc = 10.0833\n",
            "Epoch 5: Train Loss = 2.5404, Train Acc = 9.9907, Val Loss = 2.5444, Val Acc = 10.0833\n",
            "Epoch 6: Train Loss = 2.5404, Train Acc = 9.9907, Val Loss = 2.5444, Val Acc = 10.0833\n",
            "Epoch 7: Train Loss = 2.5404, Train Acc = 9.9907, Val Loss = 2.5444, Val Acc = 10.0833\n",
            "Epoch 8: Train Loss = 2.5404, Train Acc = 9.9907, Val Loss = 2.5444, Val Acc = 10.0833\n",
            "Epoch 9: Train Loss = 2.5404, Train Acc = 9.9907, Val Loss = 2.5444, Val Acc = 10.0833\n",
            "Epoch 10: Train Loss = 2.5404, Train Acc = 9.9907, Val Loss = 2.5444, Val Acc = 10.0833\n"
          ]
        },
        {
          "output_type": "display_data",
          "data": {
            "text/plain": [
              "<IPython.core.display.HTML object>"
            ],
            "text/html": []
          },
          "metadata": {}
        },
        {
          "output_type": "display_data",
          "data": {
            "text/plain": [
              "<IPython.core.display.HTML object>"
            ],
            "text/html": [
              "<br>    <style><br>        .wandb-row {<br>            display: flex;<br>            flex-direction: row;<br>            flex-wrap: wrap;<br>            justify-content: flex-start;<br>            width: 100%;<br>        }<br>        .wandb-col {<br>            display: flex;<br>            flex-direction: column;<br>            flex-basis: 100%;<br>            flex: 1;<br>            padding: 10px;<br>        }<br>    </style><br><div class=\"wandb-row\"><div class=\"wandb-col\"><h3>Run history:</h3><br/><table class=\"wandb\"><tr><td>Train_accuracy</td><td>▁▁▁▁▁▁▁▁▁▁</td></tr><tr><td>Train_loss</td><td>▁▁▁▁▁▁▁▁▁▁</td></tr><tr><td>Val_accuracy</td><td>▁▁▁▁▁▁▁▁▁▁</td></tr><tr><td>Val_loss</td><td>▁▁▁▁▁▁▁▁▁▁</td></tr><tr><td>epoch</td><td>▁▂▃▃▄▅▆▆▇█</td></tr></table><br/></div><div class=\"wandb-col\"><h3>Run summary:</h3><br/><table class=\"wandb\"><tr><td>Train_accuracy</td><td>9.99074</td></tr><tr><td>Train_loss</td><td>2.54042</td></tr><tr><td>Val_accuracy</td><td>10.08333</td></tr><tr><td>Val_loss</td><td>2.54441</td></tr><tr><td>epoch</td><td>10</td></tr></table><br/></div></div>"
            ]
          },
          "metadata": {}
        },
        {
          "output_type": "display_data",
          "data": {
            "text/plain": [
              "<IPython.core.display.HTML object>"
            ],
            "text/html": [
              " View run <strong style=\"color:#cdcd00\">-ac_sigmoid-hs_64-epc_10-hl_3-regu_0-eta_0.0001-optmz_mgd-batch_64-wght_xavier</strong> at: <a href='https://wandb.ai/ma23m011-iit-madras/DA6401_Assignment1_ma23m011/runs/v9yy5tau' target=\"_blank\">https://wandb.ai/ma23m011-iit-madras/DA6401_Assignment1_ma23m011/runs/v9yy5tau</a><br> View project at: <a href='https://wandb.ai/ma23m011-iit-madras/DA6401_Assignment1_ma23m011' target=\"_blank\">https://wandb.ai/ma23m011-iit-madras/DA6401_Assignment1_ma23m011</a><br>Synced 5 W&B file(s), 0 media file(s), 0 artifact file(s) and 0 other file(s)"
            ]
          },
          "metadata": {}
        },
        {
          "output_type": "display_data",
          "data": {
            "text/plain": [
              "<IPython.core.display.HTML object>"
            ],
            "text/html": [
              "Find logs at: <code>./wandb/run-20250310_031613-v9yy5tau/logs</code>"
            ]
          },
          "metadata": {}
        },
        {
          "output_type": "stream",
          "name": "stderr",
          "text": [
            "\u001b[34m\u001b[1mwandb\u001b[0m: Agent Starting Run: t7t2zvgs with config:\n",
            "\u001b[34m\u001b[1mwandb\u001b[0m: \tactivation: relu\n",
            "\u001b[34m\u001b[1mwandb\u001b[0m: \tbatch_size: 16\n",
            "\u001b[34m\u001b[1mwandb\u001b[0m: \tepochs: 10\n",
            "\u001b[34m\u001b[1mwandb\u001b[0m: \thidden_layers: 4\n",
            "\u001b[34m\u001b[1mwandb\u001b[0m: \thidden_size: 32\n",
            "\u001b[34m\u001b[1mwandb\u001b[0m: \tlearning_rate: 0.0001\n",
            "\u001b[34m\u001b[1mwandb\u001b[0m: \toptimizer: mgd\n",
            "\u001b[34m\u001b[1mwandb\u001b[0m: \tweight_decay: 0.0005\n",
            "\u001b[34m\u001b[1mwandb\u001b[0m: \tweight_init: random\n"
          ]
        },
        {
          "output_type": "display_data",
          "data": {
            "text/plain": [
              "<IPython.core.display.HTML object>"
            ],
            "text/html": [
              "Tracking run with wandb version 0.19.7"
            ]
          },
          "metadata": {}
        },
        {
          "output_type": "display_data",
          "data": {
            "text/plain": [
              "<IPython.core.display.HTML object>"
            ],
            "text/html": [
              "Run data is saved locally in <code>/content/wandb/run-20250310_031654-t7t2zvgs</code>"
            ]
          },
          "metadata": {}
        },
        {
          "output_type": "display_data",
          "data": {
            "text/plain": [
              "<IPython.core.display.HTML object>"
            ],
            "text/html": [
              "Syncing run <strong><a href='https://wandb.ai/ma23m011-iit-madras/DA6401_Assignment1_ma23m011/runs/t7t2zvgs' target=\"_blank\">exalted-sweep-100</a></strong> to <a href='https://wandb.ai/ma23m011-iit-madras/DA6401_Assignment1_ma23m011' target=\"_blank\">Weights & Biases</a> (<a href='https://wandb.me/developer-guide' target=\"_blank\">docs</a>)<br>Sweep page: <a href='https://wandb.ai/ma23m011-iit-madras/DA6401_Assignment1_ma23m011/sweeps/augzj4ot' target=\"_blank\">https://wandb.ai/ma23m011-iit-madras/DA6401_Assignment1_ma23m011/sweeps/augzj4ot</a>"
            ]
          },
          "metadata": {}
        },
        {
          "output_type": "display_data",
          "data": {
            "text/plain": [
              "<IPython.core.display.HTML object>"
            ],
            "text/html": [
              " View project at <a href='https://wandb.ai/ma23m011-iit-madras/DA6401_Assignment1_ma23m011' target=\"_blank\">https://wandb.ai/ma23m011-iit-madras/DA6401_Assignment1_ma23m011</a>"
            ]
          },
          "metadata": {}
        },
        {
          "output_type": "display_data",
          "data": {
            "text/plain": [
              "<IPython.core.display.HTML object>"
            ],
            "text/html": [
              " View sweep at <a href='https://wandb.ai/ma23m011-iit-madras/DA6401_Assignment1_ma23m011/sweeps/augzj4ot' target=\"_blank\">https://wandb.ai/ma23m011-iit-madras/DA6401_Assignment1_ma23m011/sweeps/augzj4ot</a>"
            ]
          },
          "metadata": {}
        },
        {
          "output_type": "display_data",
          "data": {
            "text/plain": [
              "<IPython.core.display.HTML object>"
            ],
            "text/html": [
              " View run at <a href='https://wandb.ai/ma23m011-iit-madras/DA6401_Assignment1_ma23m011/runs/t7t2zvgs' target=\"_blank\">https://wandb.ai/ma23m011-iit-madras/DA6401_Assignment1_ma23m011/runs/t7t2zvgs</a>"
            ]
          },
          "metadata": {}
        },
        {
          "output_type": "stream",
          "name": "stdout",
          "text": [
            "Epoch 1: Train Loss = 2.3033, Train Acc = 8.3963, Val Loss = 2.3033, Val Acc = 8.6833\n",
            "Epoch 2: Train Loss = 2.3033, Train Acc = 8.3963, Val Loss = 2.3033, Val Acc = 8.6833\n",
            "Epoch 3: Train Loss = 2.3033, Train Acc = 8.3963, Val Loss = 2.3033, Val Acc = 8.6833\n",
            "Epoch 4: Train Loss = 2.3033, Train Acc = 8.3963, Val Loss = 2.3033, Val Acc = 8.6833\n",
            "Epoch 5: Train Loss = 2.3033, Train Acc = 8.3963, Val Loss = 2.3033, Val Acc = 8.6833\n",
            "Epoch 6: Train Loss = 2.3033, Train Acc = 8.3963, Val Loss = 2.3033, Val Acc = 8.6833\n",
            "Epoch 7: Train Loss = 2.3033, Train Acc = 8.3963, Val Loss = 2.3033, Val Acc = 8.6833\n",
            "Epoch 8: Train Loss = 2.3033, Train Acc = 8.3963, Val Loss = 2.3033, Val Acc = 8.6833\n",
            "Epoch 9: Train Loss = 2.3033, Train Acc = 8.3963, Val Loss = 2.3033, Val Acc = 8.6833\n",
            "Epoch 10: Train Loss = 2.3033, Train Acc = 8.3963, Val Loss = 2.3033, Val Acc = 8.6833\n"
          ]
        },
        {
          "output_type": "display_data",
          "data": {
            "text/plain": [
              "<IPython.core.display.HTML object>"
            ],
            "text/html": []
          },
          "metadata": {}
        },
        {
          "output_type": "display_data",
          "data": {
            "text/plain": [
              "<IPython.core.display.HTML object>"
            ],
            "text/html": [
              "<br>    <style><br>        .wandb-row {<br>            display: flex;<br>            flex-direction: row;<br>            flex-wrap: wrap;<br>            justify-content: flex-start;<br>            width: 100%;<br>        }<br>        .wandb-col {<br>            display: flex;<br>            flex-direction: column;<br>            flex-basis: 100%;<br>            flex: 1;<br>            padding: 10px;<br>        }<br>    </style><br><div class=\"wandb-row\"><div class=\"wandb-col\"><h3>Run history:</h3><br/><table class=\"wandb\"><tr><td>Train_accuracy</td><td>▁▁▁▁▁▁▁▁▁▁</td></tr><tr><td>Train_loss</td><td>▁▁▁▁▁▁▁▁▁▁</td></tr><tr><td>Val_accuracy</td><td>▁▁▁▁▁▁▁▁▁▁</td></tr><tr><td>Val_loss</td><td>▁▁▁▁▁▁▁▁▁▁</td></tr><tr><td>epoch</td><td>▁▂▃▃▄▅▆▆▇█</td></tr></table><br/></div><div class=\"wandb-col\"><h3>Run summary:</h3><br/><table class=\"wandb\"><tr><td>Train_accuracy</td><td>8.3963</td></tr><tr><td>Train_loss</td><td>2.3033</td></tr><tr><td>Val_accuracy</td><td>8.68333</td></tr><tr><td>Val_loss</td><td>2.3033</td></tr><tr><td>epoch</td><td>10</td></tr></table><br/></div></div>"
            ]
          },
          "metadata": {}
        },
        {
          "output_type": "display_data",
          "data": {
            "text/plain": [
              "<IPython.core.display.HTML object>"
            ],
            "text/html": [
              " View run <strong style=\"color:#cdcd00\">-ac_relu-hs_32-epc_10-hl_4-regu_0.0005-eta_0.0001-optmz_mgd-batch_16-wght_random</strong> at: <a href='https://wandb.ai/ma23m011-iit-madras/DA6401_Assignment1_ma23m011/runs/t7t2zvgs' target=\"_blank\">https://wandb.ai/ma23m011-iit-madras/DA6401_Assignment1_ma23m011/runs/t7t2zvgs</a><br> View project at: <a href='https://wandb.ai/ma23m011-iit-madras/DA6401_Assignment1_ma23m011' target=\"_blank\">https://wandb.ai/ma23m011-iit-madras/DA6401_Assignment1_ma23m011</a><br>Synced 5 W&B file(s), 0 media file(s), 0 artifact file(s) and 0 other file(s)"
            ]
          },
          "metadata": {}
        },
        {
          "output_type": "display_data",
          "data": {
            "text/plain": [
              "<IPython.core.display.HTML object>"
            ],
            "text/html": [
              "Find logs at: <code>./wandb/run-20250310_031654-t7t2zvgs/logs</code>"
            ]
          },
          "metadata": {}
        }
      ]
    },
    {
      "cell_type": "code",
      "source": [],
      "metadata": {
        "id": "uO_sVCxcM79D"
      },
      "execution_count": null,
      "outputs": []
    },
    {
      "cell_type": "code",
      "source": [],
      "metadata": {
        "id": "ueruHkdgM768"
      },
      "execution_count": null,
      "outputs": []
    },
    {
      "cell_type": "code",
      "source": [],
      "metadata": {
        "id": "D2GVJhvfM7xn"
      },
      "execution_count": null,
      "outputs": []
    },
    {
      "cell_type": "code",
      "source": [],
      "metadata": {
        "id": "YDh-NvbfM7jT"
      },
      "execution_count": null,
      "outputs": []
    }
  ]
}