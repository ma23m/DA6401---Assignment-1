{
  "nbformat": 4,
  "nbformat_minor": 0,
  "metadata": {
    "colab": {
      "provenance": []
    },
    "kernelspec": {
      "name": "python3",
      "display_name": "Python 3"
    },
    "language_info": {
      "name": "python"
    },
    "widgets": {
      "application/vnd.jupyter.widget-state+json": {
        "f5b287da767c45eda82374e631c3b8c1": {
          "model_module": "@jupyter-widgets/controls",
          "model_name": "VBoxModel",
          "model_module_version": "1.5.0",
          "state": {
            "_dom_classes": [],
            "_model_module": "@jupyter-widgets/controls",
            "_model_module_version": "1.5.0",
            "_model_name": "VBoxModel",
            "_view_count": null,
            "_view_module": "@jupyter-widgets/controls",
            "_view_module_version": "1.5.0",
            "_view_name": "VBoxView",
            "box_style": "",
            "children": [
              "IPY_MODEL_b3653d1cb97241f29b1d6f07a2f56d83",
              "IPY_MODEL_fb6569163c8a4f139a16881d775864c6"
            ],
            "layout": "IPY_MODEL_0db798c1c9ee41ceb81a2ff37e6abe19"
          }
        },
        "b3653d1cb97241f29b1d6f07a2f56d83": {
          "model_module": "@jupyter-widgets/controls",
          "model_name": "IntSliderModel",
          "model_module_version": "1.5.0",
          "state": {
            "_dom_classes": [],
            "_model_module": "@jupyter-widgets/controls",
            "_model_module_version": "1.5.0",
            "_model_name": "IntSliderModel",
            "_view_count": null,
            "_view_module": "@jupyter-widgets/controls",
            "_view_module_version": "1.5.0",
            "_view_name": "IntSliderView",
            "continuous_update": true,
            "description": "Step",
            "description_tooltip": null,
            "disabled": false,
            "layout": "IPY_MODEL_1235537ebf014135a05f9a485bf7b02e",
            "max": 2,
            "min": 0,
            "orientation": "horizontal",
            "readout": true,
            "readout_format": "d",
            "step": 1,
            "style": "IPY_MODEL_e68d4e71ed65422c906f9d13c0a9727a",
            "value": 1
          }
        },
        "fb6569163c8a4f139a16881d775864c6": {
          "model_module": "@jupyter-widgets/controls",
          "model_name": "IntSliderModel",
          "model_module_version": "1.5.0",
          "state": {
            "_dom_classes": [],
            "_model_module": "@jupyter-widgets/controls",
            "_model_module_version": "1.5.0",
            "_model_name": "IntSliderModel",
            "_view_count": null,
            "_view_module": "@jupyter-widgets/controls",
            "_view_module_version": "1.5.0",
            "_view_name": "IntSliderView",
            "continuous_update": true,
            "description": "Index",
            "description_tooltip": null,
            "disabled": false,
            "layout": "IPY_MODEL_7bf098e544d74627be36d8a4a02f5e51",
            "max": 35,
            "min": 1,
            "orientation": "horizontal",
            "readout": true,
            "readout_format": "d",
            "step": 1,
            "style": "IPY_MODEL_755c7b0323e74903a14dc8320380528e",
            "value": 1
          }
        },
        "0db798c1c9ee41ceb81a2ff37e6abe19": {
          "model_module": "@jupyter-widgets/base",
          "model_name": "LayoutModel",
          "model_module_version": "1.2.0",
          "state": {
            "_model_module": "@jupyter-widgets/base",
            "_model_module_version": "1.2.0",
            "_model_name": "LayoutModel",
            "_view_count": null,
            "_view_module": "@jupyter-widgets/base",
            "_view_module_version": "1.2.0",
            "_view_name": "LayoutView",
            "align_content": null,
            "align_items": null,
            "align_self": null,
            "border": null,
            "bottom": null,
            "display": null,
            "flex": null,
            "flex_flow": null,
            "grid_area": null,
            "grid_auto_columns": null,
            "grid_auto_flow": null,
            "grid_auto_rows": null,
            "grid_column": null,
            "grid_gap": null,
            "grid_row": null,
            "grid_template_areas": null,
            "grid_template_columns": null,
            "grid_template_rows": null,
            "height": null,
            "justify_content": null,
            "justify_items": null,
            "left": null,
            "margin": null,
            "max_height": null,
            "max_width": null,
            "min_height": null,
            "min_width": null,
            "object_fit": null,
            "object_position": null,
            "order": null,
            "overflow": null,
            "overflow_x": null,
            "overflow_y": null,
            "padding": null,
            "right": null,
            "top": null,
            "visibility": null,
            "width": null
          }
        },
        "1235537ebf014135a05f9a485bf7b02e": {
          "model_module": "@jupyter-widgets/base",
          "model_name": "LayoutModel",
          "model_module_version": "1.2.0",
          "state": {
            "_model_module": "@jupyter-widgets/base",
            "_model_module_version": "1.2.0",
            "_model_name": "LayoutModel",
            "_view_count": null,
            "_view_module": "@jupyter-widgets/base",
            "_view_module_version": "1.2.0",
            "_view_name": "LayoutView",
            "align_content": null,
            "align_items": null,
            "align_self": null,
            "border": null,
            "bottom": null,
            "display": null,
            "flex": null,
            "flex_flow": null,
            "grid_area": null,
            "grid_auto_columns": null,
            "grid_auto_flow": null,
            "grid_auto_rows": null,
            "grid_column": null,
            "grid_gap": null,
            "grid_row": null,
            "grid_template_areas": null,
            "grid_template_columns": null,
            "grid_template_rows": null,
            "height": null,
            "justify_content": null,
            "justify_items": null,
            "left": null,
            "margin": null,
            "max_height": null,
            "max_width": null,
            "min_height": null,
            "min_width": null,
            "object_fit": null,
            "object_position": null,
            "order": null,
            "overflow": null,
            "overflow_x": null,
            "overflow_y": null,
            "padding": null,
            "right": null,
            "top": null,
            "visibility": null,
            "width": null
          }
        },
        "e68d4e71ed65422c906f9d13c0a9727a": {
          "model_module": "@jupyter-widgets/controls",
          "model_name": "SliderStyleModel",
          "model_module_version": "1.5.0",
          "state": {
            "_model_module": "@jupyter-widgets/controls",
            "_model_module_version": "1.5.0",
            "_model_name": "SliderStyleModel",
            "_view_count": null,
            "_view_module": "@jupyter-widgets/base",
            "_view_module_version": "1.2.0",
            "_view_name": "StyleView",
            "description_width": "",
            "handle_color": null
          }
        },
        "7bf098e544d74627be36d8a4a02f5e51": {
          "model_module": "@jupyter-widgets/base",
          "model_name": "LayoutModel",
          "model_module_version": "1.2.0",
          "state": {
            "_model_module": "@jupyter-widgets/base",
            "_model_module_version": "1.2.0",
            "_model_name": "LayoutModel",
            "_view_count": null,
            "_view_module": "@jupyter-widgets/base",
            "_view_module_version": "1.2.0",
            "_view_name": "LayoutView",
            "align_content": null,
            "align_items": null,
            "align_self": null,
            "border": null,
            "bottom": null,
            "display": null,
            "flex": null,
            "flex_flow": null,
            "grid_area": null,
            "grid_auto_columns": null,
            "grid_auto_flow": null,
            "grid_auto_rows": null,
            "grid_column": null,
            "grid_gap": null,
            "grid_row": null,
            "grid_template_areas": null,
            "grid_template_columns": null,
            "grid_template_rows": null,
            "height": null,
            "justify_content": null,
            "justify_items": null,
            "left": null,
            "margin": null,
            "max_height": null,
            "max_width": null,
            "min_height": null,
            "min_width": null,
            "object_fit": null,
            "object_position": null,
            "order": null,
            "overflow": null,
            "overflow_x": null,
            "overflow_y": null,
            "padding": null,
            "right": null,
            "top": null,
            "visibility": null,
            "width": null
          }
        },
        "755c7b0323e74903a14dc8320380528e": {
          "model_module": "@jupyter-widgets/controls",
          "model_name": "SliderStyleModel",
          "model_module_version": "1.5.0",
          "state": {
            "_model_module": "@jupyter-widgets/controls",
            "_model_module_version": "1.5.0",
            "_model_name": "SliderStyleModel",
            "_view_count": null,
            "_view_module": "@jupyter-widgets/base",
            "_view_module_version": "1.2.0",
            "_view_name": "StyleView",
            "description_width": "",
            "handle_color": null
          }
        },
        "55d11947e1bb40d28c9b43ab48183274": {
          "model_module": "@jupyter-widgets/output",
          "model_name": "OutputModel",
          "model_module_version": "1.0.0",
          "state": {
            "_dom_classes": [],
            "_model_module": "@jupyter-widgets/output",
            "_model_module_version": "1.0.0",
            "_model_name": "OutputModel",
            "_view_count": null,
            "_view_module": "@jupyter-widgets/output",
            "_view_module_version": "1.0.0",
            "_view_name": "OutputView",
            "layout": "IPY_MODEL_6228b919051746559624f59878752631",
            "msg_id": "",
            "outputs": [
              {
                "output_type": "display_data",
                "data": {
                  "text/plain": "<Figure size 1000x600 with 10 Axes>",
                  "image/png": "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\n"
                },
                "metadata": {}
              }
            ]
          }
        },
        "6228b919051746559624f59878752631": {
          "model_module": "@jupyter-widgets/base",
          "model_name": "LayoutModel",
          "model_module_version": "1.2.0",
          "state": {
            "_model_module": "@jupyter-widgets/base",
            "_model_module_version": "1.2.0",
            "_model_name": "LayoutModel",
            "_view_count": null,
            "_view_module": "@jupyter-widgets/base",
            "_view_module_version": "1.2.0",
            "_view_name": "LayoutView",
            "align_content": null,
            "align_items": null,
            "align_self": null,
            "border": null,
            "bottom": null,
            "display": null,
            "flex": null,
            "flex_flow": null,
            "grid_area": null,
            "grid_auto_columns": null,
            "grid_auto_flow": null,
            "grid_auto_rows": null,
            "grid_column": null,
            "grid_gap": null,
            "grid_row": null,
            "grid_template_areas": null,
            "grid_template_columns": null,
            "grid_template_rows": null,
            "height": null,
            "justify_content": null,
            "justify_items": null,
            "left": null,
            "margin": null,
            "max_height": null,
            "max_width": null,
            "min_height": null,
            "min_width": null,
            "object_fit": null,
            "object_position": null,
            "order": null,
            "overflow": null,
            "overflow_x": null,
            "overflow_y": null,
            "padding": null,
            "right": null,
            "top": null,
            "visibility": null,
            "width": null
          }
        }
      }
    }
  },
  "cells": [
    {
      "cell_type": "code",
      "execution_count": null,
      "metadata": {
        "colab": {
          "base_uri": "https://localhost:8080/"
        },
        "id": "vWWryhaI0gUv",
        "outputId": "b795a587-707c-49ab-8e9d-b5e9ec2beea7"
      },
      "outputs": [
        {
          "output_type": "stream",
          "name": "stdout",
          "text": [
            "Requirement already satisfied: wandb in /usr/local/lib/python3.11/dist-packages (0.19.7)\n",
            "Requirement already satisfied: click!=8.0.0,>=7.1 in /usr/local/lib/python3.11/dist-packages (from wandb) (8.1.8)\n",
            "Requirement already satisfied: docker-pycreds>=0.4.0 in /usr/local/lib/python3.11/dist-packages (from wandb) (0.4.0)\n",
            "Requirement already satisfied: gitpython!=3.1.29,>=1.0.0 in /usr/local/lib/python3.11/dist-packages (from wandb) (3.1.44)\n",
            "Requirement already satisfied: platformdirs in /usr/local/lib/python3.11/dist-packages (from wandb) (4.3.6)\n",
            "Requirement already satisfied: protobuf!=4.21.0,!=5.28.0,<6,>=3.19.0 in /usr/local/lib/python3.11/dist-packages (from wandb) (4.25.6)\n",
            "Requirement already satisfied: psutil>=5.0.0 in /usr/local/lib/python3.11/dist-packages (from wandb) (5.9.5)\n",
            "Requirement already satisfied: pydantic<3,>=2.6 in /usr/local/lib/python3.11/dist-packages (from wandb) (2.10.6)\n",
            "Requirement already satisfied: pyyaml in /usr/local/lib/python3.11/dist-packages (from wandb) (6.0.2)\n",
            "Requirement already satisfied: requests<3,>=2.0.0 in /usr/local/lib/python3.11/dist-packages (from wandb) (2.32.3)\n",
            "Requirement already satisfied: sentry-sdk>=2.0.0 in /usr/local/lib/python3.11/dist-packages (from wandb) (2.22.0)\n",
            "Requirement already satisfied: setproctitle in /usr/local/lib/python3.11/dist-packages (from wandb) (1.3.4)\n",
            "Requirement already satisfied: setuptools in /usr/local/lib/python3.11/dist-packages (from wandb) (75.1.0)\n",
            "Requirement already satisfied: typing-extensions<5,>=4.4 in /usr/local/lib/python3.11/dist-packages (from wandb) (4.12.2)\n",
            "Requirement already satisfied: six>=1.4.0 in /usr/local/lib/python3.11/dist-packages (from docker-pycreds>=0.4.0->wandb) (1.17.0)\n",
            "Requirement already satisfied: gitdb<5,>=4.0.1 in /usr/local/lib/python3.11/dist-packages (from gitpython!=3.1.29,>=1.0.0->wandb) (4.0.12)\n",
            "Requirement already satisfied: annotated-types>=0.6.0 in /usr/local/lib/python3.11/dist-packages (from pydantic<3,>=2.6->wandb) (0.7.0)\n",
            "Requirement already satisfied: pydantic-core==2.27.2 in /usr/local/lib/python3.11/dist-packages (from pydantic<3,>=2.6->wandb) (2.27.2)\n",
            "Requirement already satisfied: charset-normalizer<4,>=2 in /usr/local/lib/python3.11/dist-packages (from requests<3,>=2.0.0->wandb) (3.4.1)\n",
            "Requirement already satisfied: idna<4,>=2.5 in /usr/local/lib/python3.11/dist-packages (from requests<3,>=2.0.0->wandb) (3.10)\n",
            "Requirement already satisfied: urllib3<3,>=1.21.1 in /usr/local/lib/python3.11/dist-packages (from requests<3,>=2.0.0->wandb) (2.3.0)\n",
            "Requirement already satisfied: certifi>=2017.4.17 in /usr/local/lib/python3.11/dist-packages (from requests<3,>=2.0.0->wandb) (2025.1.31)\n",
            "Requirement already satisfied: smmap<6,>=3.0.1 in /usr/local/lib/python3.11/dist-packages (from gitdb<5,>=4.0.1->gitpython!=3.1.29,>=1.0.0->wandb) (5.0.2)\n"
          ]
        }
      ],
      "source": [
        "!pip install wandb"
      ]
    },
    {
      "cell_type": "code",
      "source": [
        "import wandb\n",
        "wandb.login()"
      ],
      "metadata": {
        "colab": {
          "base_uri": "https://localhost:8080/",
          "height": 214
        },
        "id": "XeqLhecV3m3Q",
        "outputId": "afd99ea3-4ad2-49ad-baf4-b9c6afb9b751"
      },
      "execution_count": null,
      "outputs": [
        {
          "output_type": "stream",
          "name": "stderr",
          "text": [
            "\u001b[34m\u001b[1mwandb\u001b[0m: Using wandb-core as the SDK backend.  Please refer to https://wandb.me/wandb-core for more information.\n"
          ]
        },
        {
          "output_type": "display_data",
          "data": {
            "text/plain": [
              "<IPython.core.display.Javascript object>"
            ],
            "application/javascript": [
              "\n",
              "        window._wandbApiKey = new Promise((resolve, reject) => {\n",
              "            function loadScript(url) {\n",
              "            return new Promise(function(resolve, reject) {\n",
              "                let newScript = document.createElement(\"script\");\n",
              "                newScript.onerror = reject;\n",
              "                newScript.onload = resolve;\n",
              "                document.body.appendChild(newScript);\n",
              "                newScript.src = url;\n",
              "            });\n",
              "            }\n",
              "            loadScript(\"https://cdn.jsdelivr.net/npm/postmate/build/postmate.min.js\").then(() => {\n",
              "            const iframe = document.createElement('iframe')\n",
              "            iframe.style.cssText = \"width:0;height:0;border:none\"\n",
              "            document.body.appendChild(iframe)\n",
              "            const handshake = new Postmate({\n",
              "                container: iframe,\n",
              "                url: 'https://wandb.ai/authorize'\n",
              "            });\n",
              "            const timeout = setTimeout(() => reject(\"Couldn't auto authenticate\"), 5000)\n",
              "            handshake.then(function(child) {\n",
              "                child.on('authorize', data => {\n",
              "                    clearTimeout(timeout)\n",
              "                    resolve(data)\n",
              "                });\n",
              "            });\n",
              "            })\n",
              "        });\n",
              "    "
            ]
          },
          "metadata": {}
        },
        {
          "output_type": "stream",
          "name": "stderr",
          "text": [
            "\u001b[34m\u001b[1mwandb\u001b[0m: Logging into wandb.ai. (Learn how to deploy a W&B server locally: https://wandb.me/wandb-server)\n",
            "\u001b[34m\u001b[1mwandb\u001b[0m: You can find your API key in your browser here: https://wandb.ai/authorize\n",
            "wandb: Paste an API key from your profile and hit enter:"
          ]
        },
        {
          "name": "stdout",
          "output_type": "stream",
          "text": [
            " ··········\n"
          ]
        },
        {
          "output_type": "stream",
          "name": "stderr",
          "text": [
            "\u001b[34m\u001b[1mwandb\u001b[0m: \u001b[33mWARNING\u001b[0m If you're specifying your api key in code, ensure this code is not shared publicly.\n",
            "\u001b[34m\u001b[1mwandb\u001b[0m: \u001b[33mWARNING\u001b[0m Consider setting the WANDB_API_KEY environment variable, or running `wandb login` from the command line.\n",
            "\u001b[34m\u001b[1mwandb\u001b[0m: No netrc file found, creating one.\n",
            "\u001b[34m\u001b[1mwandb\u001b[0m: Appending key for api.wandb.ai to your netrc file: /root/.netrc\n",
            "\u001b[34m\u001b[1mwandb\u001b[0m: Currently logged in as: \u001b[33mma23m011\u001b[0m (\u001b[33mma23m011-iit-madras\u001b[0m) to \u001b[32mhttps://api.wandb.ai\u001b[0m. Use \u001b[1m`wandb login --relogin`\u001b[0m to force relogin\n"
          ]
        },
        {
          "output_type": "execute_result",
          "data": {
            "text/plain": [
              "True"
            ]
          },
          "metadata": {},
          "execution_count": 2
        }
      ]
    },
    {
      "cell_type": "code",
      "source": [
        "# For visualization import Matplotlib\n",
        "import matplotlib.pyplot as plt\n",
        "# For numerical operations import NumPy\n",
        "import numpy as np\n",
        "# For interactive UI import ipywidgets\n",
        "import ipywidgets as widgets\n",
        "# For logging import Weights & Biases\n",
        "import wandb\n",
        "# To show UI elements import display\n",
        "from IPython.display import display\n",
        "# Fashion-MNIST dataset import\n",
        "from keras.datasets import fashion_mnist\n",
        "\n",
        "# Initialize Weights & Biases project\n",
        "wandb.init(project=\"DA6401_Assignment1_ma23m011\", name=\"image_grid\")\n",
        "\n",
        "# Load Fashion-MNIST dataset\n",
        "(fmnist_train_images, fmnist_train_labels), _ = fashion_mnist.load_data()\n",
        "\n",
        "# Class labels name defines for Fashion-MNIST data set\n",
        "ClassLabelNames = [\"T-shirt\", \"Trouser\", \"Pullover\", \"Dress\", \"Coat\",\"Sandal\", \"Shirt\", \"Sneaker\", \"Bag\", \"Ankle boot\"]\n",
        "\n",
        "\n",
        "#  To visualize images define function\n",
        "def VisualizeImage(step=1, index=0):\n",
        "    fig, axes = plt.subplots(2, 5, figsize=(10, 6))  # Create 2x5 grid images\n",
        "    fig.suptitle(\"Fashion-MNIST Dataset Examples\", fontsize=14)  # Title set for all printed images\n",
        "\n",
        "    img = []  # Define empty images list for weight and bias logging\n",
        "\n",
        "    for j in range(10):\n",
        "        all_indices = np.where(fmnist_train_labels == j)[0]  # from class j get all indices\n",
        "        adjust_index = index * step  # Adjusted index computed\n",
        "\n",
        "        if adjust_index >= len(all_indices):  # Ensure index is within bounds\n",
        "            adjust_index = len(all_indices) - 1\n",
        "\n",
        "        image_index = all_indices[adjust_index]  # The final image index\n",
        "\n",
        "        axis = axes[j // 5, j % 5]  # Subplot position select\n",
        "        axis.imshow(fmnist_train_images[image_index], cmap='gray')  # Display all images\n",
        "        axis.set_title(f\"{ClassLabelNames[j]}\\nIndex: {index}\", fontsize=10, pad=4)\n",
        "\n",
        "        axis.axis(\"off\")  #Axis ticks remove\n",
        "\n",
        "        # To log in wandb append image\n",
        "        img.append(wandb.Image(fmnist_train_images[image_index],\n",
        "                                  caption=f\"{ClassLabelNames[j]} (Index: {index})\"))\n",
        "\n",
        "    plt.tight_layout()  #To avoid overlap adjust layout\n",
        "    plt.show()  # Show the figure\n",
        "\n",
        "    # Log image grid to weight and bias\n",
        "    wandb.log({\"fashion_mnist_dataset\": img, \"Step\": step, \"Index\": index})\n",
        "\n",
        "# Create sliders for step size selection\n",
        "StepSlider = widgets.IntSlider(value=1, min=0, max=2, step=1, description=\"Step\")\n",
        "\n",
        "# Create sliders for image index selection\n",
        "IndexSlider = widgets.IntSlider(value=0, min=1, max=35, step=1, description=\"Index\")\n",
        "\n",
        "# Group sliders in a UI box\n",
        "u_i_element = widgets.VBox([StepSlider, IndexSlider])\n",
        "\n",
        "# Link sliders to the visualization function interactively\n",
        "output_visualize = widgets.interactive_output(VisualizeImage, {'step': StepSlider, 'index': IndexSlider})\n",
        "\n",
        "# Display UI elements and output\n",
        "display(u_i_element, output_visualize)\n"
      ],
      "metadata": {
        "colab": {
          "base_uri": "https://localhost:8080/",
          "height": 623,
          "referenced_widgets": [
            "f5b287da767c45eda82374e631c3b8c1",
            "b3653d1cb97241f29b1d6f07a2f56d83",
            "fb6569163c8a4f139a16881d775864c6",
            "0db798c1c9ee41ceb81a2ff37e6abe19",
            "1235537ebf014135a05f9a485bf7b02e",
            "e68d4e71ed65422c906f9d13c0a9727a",
            "7bf098e544d74627be36d8a4a02f5e51",
            "755c7b0323e74903a14dc8320380528e",
            "55d11947e1bb40d28c9b43ab48183274",
            "6228b919051746559624f59878752631"
          ]
        },
        "id": "x5c6FZmrVDH5",
        "outputId": "3553af26-fbb3-4de6-b375-50639ee5260c"
      },
      "execution_count": 19,
      "outputs": [
        {
          "output_type": "display_data",
          "data": {
            "text/plain": [
              "VBox(children=(IntSlider(value=1, description='Step', max=2), IntSlider(value=1, description='Index', max=35, …"
            ],
            "application/vnd.jupyter.widget-view+json": {
              "version_major": 2,
              "version_minor": 0,
              "model_id": "f5b287da767c45eda82374e631c3b8c1"
            }
          },
          "metadata": {}
        },
        {
          "output_type": "display_data",
          "data": {
            "text/plain": [
              "Output()"
            ],
            "application/vnd.jupyter.widget-view+json": {
              "version_major": 2,
              "version_minor": 0,
              "model_id": "55d11947e1bb40d28c9b43ab48183274"
            }
          },
          "metadata": {}
        }
      ]
    },
    {
      "cell_type": "code",
      "source": [],
      "metadata": {
        "id": "_QranL9LV6N_"
      },
      "execution_count": null,
      "outputs": []
    }
  ]
}