{
  "nbformat": 4,
  "nbformat_minor": 0,
  "metadata": {
    "colab": {
      "provenance": []
    },
    "kernelspec": {
      "name": "python3",
      "display_name": "Python 3"
    },
    "language_info": {
      "name": "python"
    }
  },
  "cells": [
    {
      "cell_type": "markdown",
      "source": [
        "NAME: MOUSINA BARMAN\n",
        "\n",
        "ROLL: MA23M011\n",
        "\n",
        "DA6401_assignment1"
      ],
      "metadata": {
        "id": "A8oEzcVcECIu"
      }
    },
    {
      "cell_type": "code",
      "source": [
        "import numpy as np\n",
        "import matplotlib.pyplot as plt\n",
        "from keras.datasets import fashion_mnist\n",
        "from sklearn.model_selection import train_test_split\n",
        "\n",
        "# Load the Fashion-MnIST dataset\n",
        "(X_trn, Y_trn), (X_tst, Y_tst) = fashion_mnist.load_data()\n",
        "X_trn, X_valid, Y_trn, Y_valid = train_test_split(X_trn, Y_trn, test_size=0.2, random_state=42)\n",
        "\n",
        "# Define class labels\n",
        "class_names = {0: \"T-shirt/top\", 1: \"Trouser\", 2: \"Pullover\", 3: \"Dress\", 4: \"Coat\",\n",
        "                5: \"Sandal\", 6: \"Shirt\", 7: \"Sneaker\", 8: \"Bag\", 9: \"Ankle boot\"}\n",
        "\n",
        "\n",
        "\n",
        "plt.figure(figsize=(10, 10))\n",
        "for name in range(10):\n",
        "    k = next(i for i, j in enumerate(Y_trn) if j == name)\n",
        "    plt.subplot(5, 5, name + 1)\n",
        "    plt.xticks([])\n",
        "    plt.yticks([])\n",
        "    plt.grid(False)\n",
        "    plt.imshow(X_trn[k], cmap=plt.cm.binary)\n",
        "    plt.xlabel(class_names[name])\n",
        "plt.show()\n",
        "\n",
        "\n",
        "# Function to flatten images\n",
        "def fltn_img(img):\n",
        "    return img.reshape(img.shape[0], -1)\n",
        "\n",
        "# Function to normalize images\n",
        "def normalize_img(img):\n",
        "    return img / 255.0\n",
        "\n",
        "# Apply preprocessing functions\n",
        "X_trn = normalize_img(fltn_img(X_trn))\n",
        "X_valid = normalize_img(fltn_img(X_valid))\n",
        "X_tst = normalize_img(fltn_img(X_tst))\n",
        "\n",
        "# Function to convert labels to one-hot encoding\n",
        "def oneHotEncode(array):\n",
        "    mattrix = np.zeros((len(array), 10))\n",
        "    for i in range(len(array)):\n",
        "        mattrix[i, array[i]] = 1\n",
        "    return mattrix\n",
        "\n",
        "# Convert labels to one-hot encoding\n",
        "Y_trn = oneHotEncode(Y_trn)\n",
        "Y_valid = oneHotEncode(Y_valid)\n",
        "Y_tst = oneHotEncode(Y_tst)\n",
        "\n",
        "print(\"The shape of training images:\", X_trn.shape)\n",
        "print(\"The shape of training labels:\", Y_trn.shape)\n",
        "print(\"The shape of validation images:\", X_valid.shape)\n",
        "print(\"The shape of validation labels:\", Y_valid.shape)\n",
        "print(\"The shape of testing images shape:\", X_tst.shape)\n",
        "print(\"The shape of testing labels:\", Y_tst.shape)\n",
        "\n",
        "\n"
      ],
      "metadata": {
        "colab": {
          "base_uri": "https://localhost:8080/",
          "height": 452
        },
        "id": "Y-6ACIO1C_k2",
        "outputId": "38b09a13-d450-4fd2-e13c-b5785c6573ff"
      },
      "execution_count": 30,
      "outputs": [
        {
          "output_type": "display_data",
          "data": {
            "text/plain": [
              "<Figure size 1000x1000 with 10 Axes>"
            ],
            "image/png": "[encoded data removed]"
          },
          "metadata": {}
        },
        {
          "output_type": "stream",
          "name": "stdout",
          "text": [
            "The shape of training images: (48000, 784)\n",
            "The shape of training labels: (48000, 10)\n",
            "The shape of validation images: (12000, 784)\n",
            "The shape of validation labels: (12000, 10)\n",
            "The shape of testing images shape: (10000, 784)\n",
            "The shape of testing labels: (10000, 10)\n"
          ]
        }
      ]
    },
    {
      "cell_type": "markdown",
      "source": [
        "**Question 2 (10 Marks)**\n",
        "\n",
        "\n",
        "**Implement a feedforward neural network which takes images from the fashion-mnist data as input and outputs a probability distribution over the 10 classes.**\n",
        "\n",
        "**Your code should be flexible such that it is easy to change the number of hidden layers and the number of neurons in each hidden layer.**"
      ],
      "metadata": {
        "id": "p4sut6yRNH7J"
      }
    },
    {
      "cell_type": "markdown",
      "source": [
        "Feed Forward neural network for Full Batch Data Set"
      ],
      "metadata": {
        "id": "3zYCylBW2fvX"
      }
    },
    {
      "cell_type": "code",
      "execution_count": 31,
      "metadata": {
        "id": "kt8q-F_qBRaG"
      },
      "outputs": [],
      "source": [
        "def sigmoid(x):\n",
        "  return 1 /(1 + np.exp(-x))\n",
        "\n",
        "def relu(x):\n",
        "  return np.maximum(0, x)\n",
        "\n",
        "def tanh(x):\n",
        "\treturn np.tanh(x)\n",
        "\n",
        "def grad_sigmoid(x):\n",
        "  return sigmoid(x)*(1-sigmoid(x))\n",
        "\n",
        "def grad_relu(x):\n",
        "  return np.where(x <= 0, 0, 1)\n",
        "\n",
        "def grad_tanh(x):\n",
        "  return (1 - (tanh(x))**2)\n",
        "\n",
        "def softmax(x):\n",
        "  x = x - np.max(x)\n",
        "  return np.exp(x)/np.sum(np.exp(x),axis=0)\n",
        "\n",
        "def activ(x, act_f):\n",
        "  if act_f == 'sigmoid':\n",
        "    return sigmoid(x)\n",
        "  elif act_f == 'relu':\n",
        "    return relu(x)\n",
        "  else:\n",
        "    return tanh(x)\n",
        "\n",
        "\n",
        "def grad_act(x, act_f):\n",
        "  if act_f == 'sigmoid':\n",
        "    return grad_sigmoid(x)\n",
        "  elif act_f == 'relu':\n",
        "    return grad_relu(x)\n",
        "  else:\n",
        "    return grad_tanh(x)\n",
        "\n",
        "\n",
        "def initial_network( hidden_lyr_num,hidden_lyr_nod_num, paramt, input_dimm, output_dimm ):\n",
        "    network_dimm = []\n",
        "    for i in range(hidden_lyr_num):\n",
        "      network_dimm.append(hidden_lyr_nod_num[i])\n",
        "\n",
        "    dimm = [input_dimm] + network_dimm + [output_dimm]\n",
        "    theta_0 = {}\n",
        "    if paramt == 'random':\n",
        "      for i in range(1, hidden_lyr_num+2):\n",
        "        theta_0['W' + str(i)] = np.random.randn(dimm[i], dimm[i-1])\n",
        "        theta_0['b' + str(i)] = np.random.randn(dimm[i], 1)\n",
        "    if paramt == 'xavier':\n",
        "      for i in range(1, hidden_lyr_num+2):\n",
        "        scal_factr = np.sqrt(2 / dimm[i - 1])# Compute the scaling factor for weight initialization\n",
        "        theta_0['W' + str(i)] = np.random.randn(dimm[i], dimm[i - 1]) * scal_factr\n",
        "        theta_0['b' + str(i)] = np.random.randn(dimm[i], 1) * scal_factr\n",
        "    return theta_0\n",
        "\n",
        "\n",
        "def ForwardProp(x,theta_0, hidden_lyr_num,input_dimm):\n",
        "  a = {}\n",
        "  a['a'+str(0)] = np.zeros((input_dimm,1))\n",
        "  h = {'h0':x}\n",
        "  for i in range(1,hidden_lyr_num+1):\n",
        "    a[\"a\" + str(i)] = np.dot(theta_0['W' + str(i)],h['h' + str(i-1)]) + theta_0['b' + str(i)]\n",
        "    h['h' + str(i)] = sigmoid(a[\"a\" + str(i)])\n",
        "  a['a' + str(hidden_lyr_num+1)] = np.dot(theta_0['W'+str(hidden_lyr_num+1)],h['h'+str(hidden_lyr_num)]) + theta_0['b'+str(hidden_lyr_num+1)]\n",
        "  Y_Pred = softmax(a['a' + str(hidden_lyr_num+1)])\n",
        "  return a,h,Y_Pred\n",
        "\n",
        "\n",
        "def BackProp(x, Y_true, hidden_lyr_num, theta_0, input_dimm):\n",
        "    m = x.shape[0]\n",
        "    #n=hidden_lyr_num+1\n",
        "    a, h, Y_Pred = ForwardProp(x, theta_0, hidden_lyr_num,input_dimm)\n",
        "    deriv_w_b = {}\n",
        "    deriv_h_a = {}\n",
        "    deriv_h_a['a' + str(hidden_lyr_num+1)] = -1 * (Y_true.T - Y_Pred)\n",
        "    for i in range(hidden_lyr_num+1, 0, -1):\n",
        "        deriv_w_b['W' + str(i)] = (1/m)*np.dot(deriv_h_a['a' + str(i)], h['h' + str(i-1)].T)\n",
        "        deriv_w_b['b' + str(i)] = (1/m)*np.mean(deriv_h_a['a' + str(i)], axis=1, keepdims=True)  # Adjusted dimension\n",
        "        deriv_h_a['h' + str(i-1)] = np.dot(theta_0['W' + str(i)].T, deriv_h_a['a' + str(i)])\n",
        "        deriv_h_a['a' + str(i-1)] = deriv_h_a['h' + str(i-1)] * (grad_sigmoid(a['a' + str(i-1)]))\n",
        "\n",
        "    return deriv_w_b\n",
        "\n",
        "\n",
        "def GradientDec(step_size, theta_0, x, Y_true, hidden_lyr_num,input_dimm):\n",
        "  for epoch in range(100):\n",
        "    gradient = BackProp(x, Y_true, hidden_lyr_num, theta_0,input_dimm)\n",
        "    for i in range(1, hidden_lyr_num+2):\n",
        "      theta_0['W' + str(i)] -= step_size*gradient['W' + str(i)]\n",
        "      theta_0['b' + str(i)] -= step_size*gradient['b' + str(i)]\n",
        "  return theta_0\n",
        "\n",
        "\n",
        "def CalAccuracy(X_tst,Y_tst,theta_0_new, hidden_lyr_num,input_dimm):\n",
        "  a,h,Y_tst_Pred = ForwardProp(X_tst,theta_0_new, hidden_lyr_num,input_dimm)\n",
        "\n",
        "  assert Y_tst.shape == Y_tst_Pred.shape\n",
        "  Y_tst = np.argmax(Y_tst, axis = 0)\n",
        "  Y_tst_Pred = np.argmax(Y_tst_Pred, axis = 0)\n",
        "  true_predictions = 0\n",
        "  for i in range(Y_tst.shape[0]):\n",
        "    if Y_tst[i] == Y_tst_Pred[i]:\n",
        "      true_predictions += 1\n",
        "  accu = true_predictions /Y_tst.shape[0]\n",
        "\n",
        "  return accu\n"
      ]
    },
    {
      "cell_type": "code",
      "execution_count": 32,
      "metadata": {
        "id": "25t4E460iv-k"
      },
      "outputs": [],
      "source": [
        "#Batch gradient descent\n",
        "\n",
        "def GradientDec(step_size, theta_0, x, Y_true, hidden_lyr_num, input_dimm):\n",
        "    loss_val = []  # List to store the loss for each epoch\n",
        "    for epoch in range(100):\n",
        "        gradient = BackProp(x, Y_true, hidden_lyr_num, theta_0, input_dimm)\n",
        "        for i in range(1, hidden_lyr_num + 2):\n",
        "            theta_0['W' + str(i)] -= step_size * gradient['W' + str(i)]\n",
        "            theta_0['b' + str(i)] -= step_size * gradient['b' + str(i)]\n",
        "\n",
        "        # Compute and store the loss for this epoch\n",
        "        a, _, Y_Pred = ForwardProp(x, theta_0, hidden_lyr_num, input_dimm)\n",
        "        loss = -np.mean(np.sum(Y_true.T * np.log(Y_Pred), axis=0))\n",
        "        loss_val.append(loss)\n",
        "\n",
        "        print(f\"Epoch {epoch+1}, Loss: {loss}\")\n",
        "\n",
        "    # Plot the loss function over epochs\n",
        "    plt.plot(loss_val)\n",
        "    plt.xlabel('Epoch')\n",
        "    plt.ylabel('Loss')\n",
        "    plt.title('Training Loss vs Epochs')\n",
        "    plt.show()\n",
        "\n",
        "    return theta_0 , loss_val\n",
        "\n",
        "\n"
      ]
    },
    {
      "cell_type": "markdown",
      "source": [
        "**Question 3 (24 Marks)**\n",
        "\n",
        "**Implement the backpropagation algorithm with support for the following optimisation functions**\n",
        "\n",
        "**sgd**\n",
        "\n",
        "**momentum based gradient descent**\n",
        "\n",
        "**nesterov accelerated gradient descent**\n",
        "\n",
        "**rmsprop**\n",
        "\n",
        "**adam**\n",
        "\n",
        "**nadam**\n",
        "\n",
        "**note that the code should be flexible enough to work with different batch sizes.**\n"
      ],
      "metadata": {
        "id": "mjYOEcs4enwM"
      }
    },
    {
      "cell_type": "code",
      "execution_count": 33,
      "metadata": {
        "id": "ldD81L417KII"
      },
      "outputs": [],
      "source": [
        "\n",
        "def cross_entropy_f(Y_true,Y_Pred):\n",
        "    epsln = 1e-15  # to prevent log(0) which is undefined\n",
        "    Y_Pred = np.clip(Y_Pred, epsln, 1 - epsln)\n",
        "    loss = -np.mean(np.sum(Y_true * np.log(Y_Pred), axis=0))\n",
        "    return loss\n",
        "\n",
        "\n",
        "def ForwardProp(x,theta_0,activ_f,hidden_lyr_num,input_dimm):\n",
        "  a = {}\n",
        "  a['a'+str(0)] = np.zeros((input_dimm,1))\n",
        "  h = {'h0':x}\n",
        "  for i in range(1,hidden_lyr_num+1):\n",
        "    a[\"a\" + str(i)] = np.dot(theta_0['W' + str(i)],h['h' + str(i-1)]) + theta_0['b' + str(i)]\n",
        "    h['h' + str(i)] = activ(a[\"a\" + str(i)], activ_f)\n",
        "  a['a'+str(hidden_lyr_num+1)] = np.dot(theta_0['W'+str(hidden_lyr_num+1)],h['h'+str(hidden_lyr_num)]) + theta_0['b'+str(hidden_lyr_num+1)]\n",
        "  Y_Pred = softmax(a['a'+str(hidden_lyr_num+1)])\n",
        "\n",
        "  return a,h,Y_Pred\n",
        "\n",
        "def BackProp(x, Y_true, activ_f, hidden_lyr_num, theta_0,input_dimm):\n",
        "\n",
        "  a,h,Y_Pred = ForwardProp(x,theta_0,activ_f, hidden_lyr_num,input_dimm)\n",
        "  #n=hidden_lyr_num+1\n",
        "  deriv_w_b = {}\n",
        "  deriv_h_a = {}\n",
        "  deriv_h_a['a'+str(hidden_lyr_num+1)] = -1*(Y_true - Y_Pred)\n",
        "  for i in range(hidden_lyr_num+1, 0, -1):\n",
        "    deriv_w_b ['W' + str(i)] = np.dot(deriv_h_a['a' + str(i)],h['h' + str(i-1)].T)\n",
        "    deriv_w_b['b' + str(i)] = deriv_h_a['a' + str(i)]\n",
        "    deriv_h_a['h' + str(i-1)] = np.dot(theta_0['W' + str(i)].T,deriv_h_a['a' + str(i)] )\n",
        "    deriv_h_a['a' + str(i-1)] = deriv_h_a['h' + str(i-1)]*(grad_act(a['a' + str(i-1)], activ_f))\n",
        "\n",
        "  return deriv_w_b\n"
      ]
    },
    {
      "cell_type": "markdown",
      "source": [
        "**Stochastic Gradient Decent**"
      ],
      "metadata": {
        "id": "VsNa5p20UFCg"
      }
    },
    {
      "cell_type": "code",
      "source": [
        "\n",
        "def stoch_grad_dec(step_size, X_trn, Y_trn, X_valid, Y_valid, epochs, act_f, hidden_lyr_num,hidden_lyr_nod_num, paramt,batch_size, input_dimm, output_dimm):\n",
        "  theta_0 = initial_network( hidden_lyr_num, hidden_lyr_nod_num, paramt, input_dimm, output_dimm )\n",
        "  loss_val = []  # List to store the loss for each epoch\n",
        "  len = X_trn.shape[0]\n",
        "\n",
        "  for epoch in range(epochs):\n",
        "      count_of_pts = 0\n",
        "      arr_val = np.arange(len)\n",
        "      np.random.shuffle(arr_val)\n",
        "      new_gradient = {key: np.zeros_like(value) for key, value in theta_0.items()}\n",
        "      for j in range(len):\n",
        "          count_of_pts += 1\n",
        "          x = X_trn[arr_val[j],:].reshape(-1, 1)\n",
        "          Y_true = Y_trn[arr_val[j],:].reshape(-1, 1)\n",
        "          gradient = BackProp(x,Y_true, act_f, hidden_lyr_num, theta_0,input_dimm)\n",
        "          for k in range(1, hidden_lyr_num + 2):\n",
        "            new_gradient['W'+str(k)] += gradient['W'+str(k)]\n",
        "            new_gradient['b'+str(k)] += gradient['b'+str(k)]\n",
        "          if count_of_pts % batch_size == 0:\n",
        "            for i in range(1, hidden_lyr_num + 2):\n",
        "                theta_0['W' + str(i)] -= step_size * new_gradient['W' + str(i)]\n",
        "                theta_0['b' + str(i)] -= step_size * new_gradient['b' + str(i)]\n",
        "\n",
        "      # Compute and store the loss and accuracy for this epoch\n",
        "      acc = calAccuracy(X_trn,Y_trn,theta_0,act_f, hidden_lyr_num,input_dimm)\n",
        "      a, _, Y_Pred= ForwardProp(X_trn.T,theta_0,act_f, hidden_lyr_num,input_dimm)\n",
        "      loss = cross_entropy_f(Y_trn.T, Y_Pred)\n",
        "      loss_val.append(loss)\n",
        "      validation_accu = calAccuracy(X_valid,Y_valid,theta_0,act_f, hidden_lyr_num,input_dimm)\n",
        "\n",
        "\n",
        "      print(f\"Epoch {epoch+1}, Loss: {loss} , Accuracy: {acc*100}\")\n",
        "      #wandb.log({'training_loss': loss})\n",
        "      #wandb.log({'training_accuracy': acc*100})\n",
        "      #wandb.log({'Validation_accuracy': validation_accu * 100})\n",
        "      #wandb.log({'epoch': epoch})\n",
        "      print({'training_loss': loss})\n",
        "      print({'training_accuracy': acc*100})\n",
        "      print({'Validation_accuracy': validation_accu * 100})\n",
        "      print({'epoch': epoch})\n",
        "\n",
        "\n",
        "\n",
        "  # Plot the loss function over epochs\n",
        "  plt.plot(loss_val)\n",
        "  plt.xlabel('Epoch')\n",
        "  plt.ylabel('Loss')\n",
        "  plt.title('Training Loss vs Epochs')\n",
        "  plt.show()\n",
        "\n",
        "  return theta_0\n",
        "\n",
        "def calAccuracy(X_tst,Y_tst,theta_0_new,act_f, hidden_lyr_num,input_dimm):\n",
        "  len = X_tst.shape[0]\n",
        "  true_predictions = 0\n",
        "  for i in range(len):\n",
        "    X_test = X_tst[i,:].reshape(-1, 1)\n",
        "    a,h,Y_tst_Pred = ForwardProp(X_test,theta_0_new, act_f, hidden_lyr_num,input_dimm)\n",
        "\n",
        "    Y1 = np.argmax(Y_tst[i,:].reshape(-1, 1), axis = 0)\n",
        "    Y2 = np.argmax(Y_tst_Pred, axis = 0)\n",
        "\n",
        "    if Y1 == Y2:\n",
        "      true_predictions += 1\n",
        "  accu = true_predictions /Y_tst.shape[0]\n",
        "\n",
        "  return accu\n",
        "\n"
      ],
      "metadata": {
        "id": "awKRS7PUUGvy"
      },
      "execution_count": 52,
      "outputs": []
    },
    {
      "cell_type": "markdown",
      "source": [
        "**Momentum Based Gradient Decent**"
      ],
      "metadata": {
        "id": "vIWowjS5u4TR"
      }
    },
    {
      "cell_type": "code",
      "execution_count": 61,
      "metadata": {
        "id": "NU6mchEUTNwZ"
      },
      "outputs": [],
      "source": [
        "def momentum_grad_dec(step_size, theta_0, X_trn, Y_trn, X_valid, Y_valid, act_f, epochs, hidden_lyr_num, input_dimm, batch_size, beta_val=0.9):\n",
        "    loss_val = []  # List to store the loss for each epoch\n",
        "    len = X_trn.shape[0]\n",
        "    V = {key: np.zeros_like(value) for key, value in theta_0.items()}  # Initialize velocities\n",
        "    Prev_V = {key: np.zeros_like(value) for key, value in theta_0.items()}\n",
        "    for epoch in range(epochs):  # Adjust the number of epochs as needed\n",
        "        count_of_pts = 0\n",
        "        loss = 0\n",
        "        itr_no = 0\n",
        "        count_of_batch = 0\n",
        "        new_gradient = {key: np.zeros_like(value) for key, value in theta_0.items()}\n",
        "        for j in range(len):\n",
        "            count_of_pts += 1\n",
        "            x = X_trn[j, :].reshape(-1, 1)\n",
        "            Y_true = Y_trn[j, :].reshape(-1, 1)\n",
        "            gradient = BackProp(x, Y_true,act_f, hidden_lyr_num, theta_0, input_dimm)\n",
        "            for i in range(hidden_lyr_num+1, 0, -1):\n",
        "                new_gradient['W' + str(i)] += gradient['W' + str(i)]\n",
        "                new_gradient['b' + str(i)] += gradient['b' + str(i)]\n",
        "\n",
        "            if count_of_pts % batch_size == 0:\n",
        "              count_of_batch += 1\n",
        "              for i in range(1, hidden_lyr_num + 2):\n",
        "                  # Update velocity\n",
        "                  V['W' + str(i)] = beta_val * Prev_V['W' + str(i)] + step_size * new_gradient['W' + str(i)]\n",
        "                  V['b' + str(i)] = beta_val * Prev_V['b' + str(i)] + step_size * new_gradient['b' + str(i)]\n",
        "\n",
        "              for i in range(1, hidden_lyr_num + 2):\n",
        "                  # Update parameters\n",
        "                  theta_0['W' + str(i)] -= V['W' + str(i)]\n",
        "                  theta_0['b' + str(i)] -= V['b' + str(i)]\n",
        "\n",
        "              for i in range(1, hidden_lyr_num + 2):\n",
        "                  Prev_V['W' + str(i)] = V['W' + str(i)]\n",
        "                  Prev_V['b' + str(i)] = V['b' + str(i)]\n",
        "\n",
        "\n",
        "        acc = calAccuracy(X_trn,Y_trn,theta_0,act_f, hidden_lyr_num,input_dimm)\n",
        "        a, _, Y_Pred = ForwardProp(X_trn.T,theta_0,act_f, hidden_lyr_num,input_dimm)\n",
        "        loss = cross_entropy_f(Y_trn.T, Y_Pred)\n",
        "        loss_val.append(loss)\n",
        "        validation_accu =calAccuracy(X_valid,Y_valid,theta_0,act_f, hidden_lyr_num,input_dimm)\n",
        "\n",
        "\n",
        "        print(f\"Epoch {epoch+1}, Loss: {loss} , Accuracy: {acc*100}\")\n",
        "        wandb.log({'training_loss': loss})\n",
        "        wandb.log({'training_accuracy': acc*100})\n",
        "        wandb.log({'Validation_accuracy': validation_accu * 100})\n",
        "        wandb.log({'epoch': epoch})\n",
        "        #print({'training_loss': loss})\n",
        "        #print({'training_accuracy': acc*100})\n",
        "        #print({'Validation_accuracy': validation_accu * 100})\n",
        "        #print({'epoch': epoch})\n",
        "\n",
        "\n",
        "\n",
        "    # Plot the loss function over epochs\n",
        "    plt.plot(loss_val)\n",
        "    plt.xlabel('Epoch')\n",
        "    plt.ylabel('Loss')\n",
        "    plt.title('Training Loss vs Epochs')\n",
        "    plt.show()\n",
        "\n",
        "    return theta_0\n",
        "\n"
      ]
    },
    {
      "cell_type": "markdown",
      "source": [
        "**nestrov Gradient Descent**"
      ],
      "metadata": {
        "id": "gAOVcJra23UX"
      }
    },
    {
      "cell_type": "code",
      "execution_count": 62,
      "metadata": {
        "id": "zwa3RMrmSRMN"
      },
      "outputs": [],
      "source": [
        "def nestrov(step_size, theta_0, X_trn, Y_trn, X_valid, Y_valid, act_f, epochs, hidden_lyr_num, input_dimm, batch_size, beta_val=0.9):\n",
        "    loss_val = []\n",
        "    len = X_trn.shape[0]\n",
        "    V = {key: np.zeros_like(value) for key, value in theta_0.items()}\n",
        "    Prev_V = {key: np.zeros_like(value) for key, value in theta_0.items()}\n",
        "    for epoch in range(epochs):\n",
        "        new_gradient = {key: np.zeros_like(value) for key, value in theta_0.items()}\n",
        "        count_of_pts = 0\n",
        "        count_of_batch = 0\n",
        "        loss = 0\n",
        "        itr_no = 0\n",
        "        for j in range(len):\n",
        "            count_of_pts += 1\n",
        "            x = X_trn[j, :].reshape(-1, 1)\n",
        "            Y_true = Y_trn[j, :].reshape(-1, 1)\n",
        "\n",
        "            for i in range(1, hidden_lyr_num + 2):\n",
        "              theta_0['W' + str(i)] -= beta_val * Prev_V['W' + str(i)]\n",
        "              theta_0['b' + str(i)] -= beta_val * Prev_V['b' + str(i)]\n",
        "\n",
        "            gradient = BackProp(x, Y_true,act_f, hidden_lyr_num, theta_0, input_dimm)\n",
        "            for i in range(hidden_lyr_num+1, 0, -1):\n",
        "                new_gradient['W' + str(i)] += gradient['W' + str(i)]\n",
        "                new_gradient['b' + str(i)] += gradient['b' + str(i)]\n",
        "\n",
        "            if count_of_pts % batch_size == 0:\n",
        "              count_of_batch += 1\n",
        "              for i in range(1, hidden_lyr_num + 2):\n",
        "                  # Update velocity\n",
        "                  V['W' + str(i)] = beta_val * Prev_V['W' + str(i)] + step_size * new_gradient['W' + str(i)]\n",
        "                  V['b' + str(i)] = beta_val * Prev_V['b' + str(i)] + step_size * new_gradient['b' + str(i)]\n",
        "\n",
        "              for i in range(1, hidden_lyr_num + 2):\n",
        "                  # Update parameters\n",
        "                  theta_0['W' + str(i)] -= V['W' + str(i)]\n",
        "                  theta_0['W' + str(i)] -= V['b' + str(i)]\n",
        "\n",
        "              for i in range(1, hidden_lyr_num + 2):\n",
        "                  Prev_V['W' + str(i)]  = V['W' + str(i)]\n",
        "                  Prev_V['b' + str(i)] = V['W' + str(i)]\n",
        "        acc = calAccuracy(X_trn,Y_trn,theta_0,act_f, hidden_lyr_num,input_dimm)\n",
        "        a, _, Y_Pred = ForwardProp(X_trn.T,theta_0,act_f, hidden_lyr_num,input_dimm)\n",
        "        loss = cross_entropy_f(Y_trn.T, Y_Pred)\n",
        "        loss_val.append(loss)\n",
        "        validation_accu =calAccuracy(X_valid,Y_valid,theta_0,act_f, hidden_lyr_num,input_dimm)\n",
        "\n",
        "        print(f\"Epoch {epoch+1}, Loss: {loss} , Accuracy: {acc*100}\")\n",
        "        wandb.log({'training_loss': loss})\n",
        "        wandb.log({'training_accuracy': acc*100})\n",
        "        wandb.log({'Validation_accuracy': validation_accu * 100})\n",
        "        wandb.log({'epoch': epoch})\n",
        "        #print({'training_loss': loss})\n",
        "        #print({'training_accuracy': acc*100})\n",
        "        #print({'Validation_accuracy': validation_accu * 100})\n",
        "        #print({'epoch': epoch})\n",
        "\n",
        "\n",
        "    # Plot the loss function over epochs\n",
        "    plt.plot(loss_val)\n",
        "    plt.xlabel('Epoch')\n",
        "    plt.ylabel('Loss')\n",
        "    plt.title('Training Loss over Epochs')\n",
        "    plt.show()\n",
        "\n",
        "    return theta_0\n"
      ]
    },
    {
      "cell_type": "markdown",
      "source": [
        "**RMsprop**"
      ],
      "metadata": {
        "id": "4Qx85ZLp3Lyv"
      }
    },
    {
      "cell_type": "code",
      "execution_count": 63,
      "metadata": {
        "id": "dpe_Pn_Y5HZm"
      },
      "outputs": [],
      "source": [
        "def RMSprop(step_size, theta_0, X_trn, Y_trn, X_valid, Y_valid, act_f, epochs, hidden_lyr_num, input_dimm, batch_size,eps=0.01, beta_val=0.9):\n",
        "    loss_val = []\n",
        "    len = X_trn.shape[0]\n",
        "    V = {key: np.zeros_like(value) for key, value in theta_0.items()}\n",
        "    Prev_V = {key: np.zeros_like(value) for key, value in theta_0.items()}\n",
        "    for epoch in range(epochs):\n",
        "        count_of_pts = 0\n",
        "        count_of_batch = 0\n",
        "        loss = 0\n",
        "        itr_no = 0\n",
        "        new_gradient = {key: np.zeros_like(value) for key, value in theta_0.items()}\n",
        "        for j in range(len):\n",
        "            count_of_pts += 1\n",
        "            x = X_trn[j, :].reshape(-1, 1)\n",
        "            Y_true = Y_trn[j, :].reshape(-1, 1)\n",
        "            gradient = BackProp(x, Y_true,act_f, hidden_lyr_num, theta_0, input_dimm)\n",
        "            for i in range(hidden_lyr_num+1, 0, -1):\n",
        "                new_gradient['W' + str(i)] += gradient['W' + str(i)]\n",
        "                new_gradient['b' + str(i)] += gradient['b' + str(i)]\n",
        "\n",
        "            if count_of_pts % batch_size == 0:\n",
        "              count_of_batch += 1\n",
        "              for i in range(1,hidden_lyr_num + 2):\n",
        "                  # Update velocity\n",
        "                  V['W' + str(i)] = beta_val * Prev_V['W' + str(i)] + (1-beta_val)* ((new_gradient['W' + str(i)])**2)\n",
        "                  V['b' + str(i)] = beta_val * Prev_V['b' + str(i)] + (1-beta_val)* ((new_gradient['b' + str(i)])**2)\n",
        "\n",
        "              for i in range(1,hidden_lyr_num + 2):\n",
        "                  # Update parameters\n",
        "                  theta_0['W' + str(i)] -= (step_size/ (np.sqrt(V['W' + str(i)] + eps)) )*new_gradient['W' + str(i)]\n",
        "                  theta_0['b' + str(i)] -= (step_size/ (np.sqrt(V['b' + str(i)] + eps)) )*new_gradient['b' + str(i)]\n",
        "\n",
        "              for i in range(1, hidden_lyr_num + 2):\n",
        "                  Prev_V['W' + str(i)] = V['W' + str(i)]\n",
        "                  Prev_V['W' + str(i)] = V['b' + str(i)]\n",
        "\n",
        "\n",
        "        acc = calAccuracy(X_trn,Y_trn,theta_0,act_f, hidden_lyr_num,input_dimm)\n",
        "        a, _, Y_Pred = ForwardProp(X_trn.T,theta_0,act_f, hidden_lyr_num,input_dimm)\n",
        "        loss = cross_entropy_f(Y_trn.T, Y_Pred)\n",
        "        loss_val.append(loss)\n",
        "        validation_accu =calAccuracy(X_valid,Y_valid,theta_0,act_f, hidden_lyr_num,input_dimm)\n",
        "\n",
        "        print(f\"Epoch {epoch+1}, Loss: {loss} , Accuracy: {acc*100}\")\n",
        "        wandb.log({'training_loss': loss})\n",
        "        wandb.log({'training_accuracy': acc*100})\n",
        "        wandb.log({'Validation_accuracy': validation_accu * 100})\n",
        "        wandb.log({'epoch': epoch})\n",
        "        #print({'training_loss': loss})\n",
        "        #print({'training_accuracy': acc*100})\n",
        "        #print({'Validation_accuracy': validation_accu * 100})\n",
        "        #print({'epoch': epoch})\n",
        "\n",
        "\n",
        "\n",
        "    # Plot the loss function over epochs\n",
        "    plt.plot(loss_val)\n",
        "    plt.xlabel('Epoch')\n",
        "    plt.ylabel('Loss')\n",
        "    plt.title('Training Loss vs Epochs')\n",
        "    plt.show()\n",
        "\n",
        "    return theta_0\n",
        "\n"
      ]
    },
    {
      "cell_type": "markdown",
      "source": [
        "**Adam**"
      ],
      "metadata": {
        "id": "yzJjMob83ARy"
      }
    },
    {
      "cell_type": "code",
      "execution_count": 64,
      "metadata": {
        "id": "vzDeqA7133g5"
      },
      "outputs": [],
      "source": [
        "def adam(step_size, theta_0, X_trn, Y_trn, X_valid, Y_valid, act_f, epochs, hidden_lyr_num, input_dimm,batch_size,eps, beta1_val=0.9,beta2_val= 0.99):\n",
        "    loss_val = []  # List to store the loss for each epoch\n",
        "    len = X_trn.shape[0]\n",
        "    V = {key: np.zeros_like(value) for key, value in theta_0.items()}\n",
        "    Prev_V = {key: np.zeros_like(value) for key, value in theta_0.items()}\n",
        "    V_cap = {key: np.zeros_like(value) for key, value in theta_0.items()}\n",
        "\n",
        "    M = {key: np.zeros_like(value) for key, value in theta_0.items()}\n",
        "    Prev_M = {key: np.zeros_like(value) for key, value in theta_0.items()}\n",
        "    M_cap = {key: np.zeros_like(value) for key, value in theta_0.items()}\n",
        "\n",
        "    for epoch in range(epochs):  # Adjust the number of epochs as needed\n",
        "        t = 0\n",
        "        count_of_pts = 0\n",
        "        count_of_batch = 0\n",
        "        loss = 0\n",
        "        itr_no = 0\n",
        "        new_gradient = {key: np.zeros_like(value) for key, value in theta_0.items()}\n",
        "        for j in range(len):\n",
        "            x = X_trn[j, :].reshape(-1, 1)\n",
        "            Y_true = Y_trn[j, :].reshape(-1, 1)\n",
        "            gradient = BackProp(x, Y_true,act_f, hidden_lyr_num, theta_0, input_dimm)\n",
        "            for i in range(hidden_lyr_num+1, 0, -1):\n",
        "                new_gradient['W' + str(i)] += gradient['W' + str(i)]\n",
        "                new_gradient['b' + str(i)] += gradient['b' + str(i)]\n",
        "\n",
        "            count_of_pts = count_of_pts + 1\n",
        "            if count_of_pts % batch_size == 0:\n",
        "              t = t + 1\n",
        "              count_of_batch += 1\n",
        "\n",
        "              for i in range(1, hidden_lyr_num + 2):\n",
        "                  M['W' + str(i)] = beta1_val * Prev_M['W' + str(i)] + (1-beta1_val)* new_gradient['W' + str(i)]\n",
        "                  M['b' + str(i)] = beta1_val * Prev_M['b' + str(i)] + (1-beta1_val)*new_gradient['b' + str(i)]\n",
        "\n",
        "              for i in range(1, hidden_lyr_num + 2):\n",
        "                  M_cap['W' + str(i)] = (1/(1-np.power(beta1_val,t))) * M['W' + str(i)]\n",
        "                  M_cap['b' + str(i)] = (1/(1-np.power(beta1_val,t))) * M['b' + str(i)]\n",
        "                  Prev_M['W' + str(i)] = M['W' + str(i)]\n",
        "                  Prev_M['b' + str(i)] = M['b' + str(i)]\n",
        "\n",
        "              for i in range(1, hidden_lyr_num + 2):\n",
        "                  V['W' + str(i)] = beta2_val * Prev_V['W' + str(i)] + (1-beta2_val)* new_gradient['W' + str(i)]\n",
        "                  V['b' + str(i)] = beta2_val * Prev_V['b' + str(i)] + (1-beta2_val)* new_gradient['b' + str(i)]\n",
        "\n",
        "              for i in range(1, hidden_lyr_num + 2):\n",
        "                  V_cap['W' + str(i)] = (1/(1-np.power(beta2_val,t))) *V['W' + str(i)]\n",
        "                  V_cap['b' + str(i)] = (1/(1-np.power(beta2_val,t))) * V['b' + str(i)]\n",
        "                  Prev_V['W' + str(i)] = V['W' + str(i)]\n",
        "                  Prev_V['b' + str(i)] = V['b' + str(i)]\n",
        "\n",
        "\n",
        "              for i in range(1, hidden_lyr_num + 2):\n",
        "                  # Update parameters\n",
        "                  theta_0['W' + str(i)] -= (step_size / (np.sqrt(V_cap['W' + str(i)]+ eps))) * (M_cap['W' + str(i)])\n",
        "                  theta_0['b' + str(i)] -= (step_size / (np.sqrt(V_cap['b' + str(i)]+ eps))) * (M_cap['b' + str(i)])\n",
        "\n",
        "\n",
        "                  x_batch = X_trn[itr_no:itr_no+batch_size].T\n",
        "                  y_batch = Y_trn[itr_no:itr_no+batch_size]\n",
        "                  itr_no += batch_size\n",
        "\n",
        "\n",
        "        acc = calAccuracy(X_trn,Y_trn,theta_0,act_f, hidden_lyr_num,input_dimm)\n",
        "        a, _, Y_Pred = ForwardProp(X_trn.T,theta_0,act_f, hidden_lyr_num,input_dimm)\n",
        "        loss = cross_entropy_f(Y_trn.T, Y_Pred)\n",
        "        loss_val.append(loss)\n",
        "        validation_accu =calAccuracy(X_valid,Y_valid,theta_0,act_f, hidden_lyr_num,input_dimm)\n",
        "\n",
        "        print(f\"Epoch {epoch+1}, Loss: {loss} , Accuracy: {acc*100}\")\n",
        "        wandb.log({'training_loss': loss})\n",
        "        wandb.log({'training_accuracy': acc*100})\n",
        "        wandb.log({'Validation_accuracy': validation_accu * 100})\n",
        "        wandb.log({'epoch': epoch})\n",
        "        #print({'training_loss': loss})\n",
        "        #print({'training_accuracy': acc*100})\n",
        "        #print({'Validation_accuracy': validation_accu * 100})\n",
        "        #print({'epoch': epoch})\n",
        "\n",
        "\n",
        "\n",
        "    # Plot the loss function over epochs\n",
        "    plt.plot(loss_val)\n",
        "    plt.xlabel('Epoch')\n",
        "    plt.ylabel('Loss')\n",
        "    plt.title('Training Loss vs Epochs')\n",
        "    plt.show()\n",
        "\n",
        "    return theta_0\n"
      ]
    },
    {
      "cell_type": "markdown",
      "source": [
        "**nadam**"
      ],
      "metadata": {
        "id": "aomObn_63XtZ"
      }
    },
    {
      "cell_type": "code",
      "execution_count": 65,
      "metadata": {
        "id": "XybSYPPKADyH"
      },
      "outputs": [],
      "source": [
        "def nadam(step_size, theta_0, X_trn, Y_trn, X_valid, Y_valid, act_f, epochs, hidden_lyr_num, input_dimm,batch_size,eps, beta1_val=0.9,beta2_val= 0.99):\n",
        "    loss_val = []  # List to store the loss for each epoch\n",
        "    len = X_trn.shape[0]\n",
        "    V = {key: np.zeros_like(value) for key, value in theta_0.items()}\n",
        "    Prev_V = {key: np.zeros_like(value) for key, value in theta_0.items()}\n",
        "    V_cap = {key: np.zeros_like(value) for key, value in theta_0.items()}\n",
        "\n",
        "    M = {key: np.zeros_like(value) for key, value in theta_0.items()}\n",
        "    Prev_M = {key: np.zeros_like(value) for key, value in theta_0.items()}\n",
        "    M_cap = {key: np.zeros_like(value) for key, value in theta_0.items()}\n",
        "\n",
        "\n",
        "    for epoch in range(epochs):\n",
        "        t = 0\n",
        "        count_of_pts = 0\n",
        "        count_of_batch = 0\n",
        "        loss = 0\n",
        "        itr_no = 0\n",
        "        new_gradient = {key: np.zeros_like(value) for key, value in theta_0.items()}\n",
        "        for j in range(len):\n",
        "            x = X_trn[j, :].reshape(-1, 1)\n",
        "            Y_true = Y_trn[j, :].reshape(-1, 1)\n",
        "            gradient = BackProp(x, Y_true,act_f, hidden_lyr_num, theta_0, input_dimm)\n",
        "            for i in range(hidden_lyr_num+1, 0, -1):\n",
        "                new_gradient['W' + str(i)] += gradient['W' + str(i)]\n",
        "                new_gradient['b' + str(i)] += gradient['b' + str(i)]\n",
        "            count_of_pts += 1\n",
        "            if count_of_pts % batch_size == 0:\n",
        "              t = t + 1\n",
        "              count_of_batch += 1\n",
        "\n",
        "              for i in range(1, hidden_lyr_num + 2):\n",
        "                  M['W' + str(i)] = beta1_val * Prev_M['W' + str(i)] + (1-beta1_val)* new_gradient['W' + str(i)]\n",
        "                  M['b' + str(i)] = beta1_val * Prev_M['b' + str(i)] + (1-beta1_val)*new_gradient['b' + str(i)]\n",
        "\n",
        "\n",
        "              for i in range(1, hidden_lyr_num + 2):\n",
        "                  M_cap['W' + str(i)] = (1/(1-np.power(beta1_val,t))) * M['W' + str(i)]\n",
        "                  M_cap['b' + str(i)] = (1/(1-np.power(beta1_val,t))) * M['b' + str(i)]\n",
        "                  Prev_M['W' + str(i)] = M['W' + str(i)]\n",
        "                  Prev_M['b' + str(i)] = M['b' + str(i)]\n",
        "\n",
        "              for i in range(1, hidden_lyr_num + 2):\n",
        "                  V['W' + str(i)] = beta2_val * Prev_V['W' + str(i)] + (1-beta2_val)* ((new_gradient['W' + str(i)])**2)\n",
        "                  V['b' + str(i)] = beta2_val * Prev_V['b' + str(i)] + (1-beta2_val)* ((new_gradient['b' + str(i)])**2)\n",
        "              for i in range(1, hidden_lyr_num + 2):\n",
        "                  V_cap['W' + str(i)] = (1/(1-np.power(beta2_val,t))) *V['W' + str(i)]\n",
        "                  V_cap['b' + str(i)] = (1/(1-np.power(beta2_val,t))) * V['b' + str(i)]\n",
        "                  Prev_V['W' + str(i)] = V['W' + str(i)]\n",
        "                  Prev_V['b' + str(i)] = V['b' + str(i)]\n",
        "\n",
        "\n",
        "              for i in range(1, hidden_lyr_num + 2):\n",
        "                  # Update parameters\n",
        "                  theta_0['W' + str(i)] -= (step_size/ (np.sqrt(V_cap['W' + str(i)] + eps)) )*(beta1_val*(M_cap['W' + str(i)])+((1-beta1_val)* new_gradient['W' + str(i)])/(1-np.power(beta1_val,t)))\n",
        "                  theta_0['b' + str(i)] -= (step_size/ (np.sqrt(V_cap['b' + str(i)] + eps)) )*(beta1_val*(M_cap['b' + str(i)])+((1-beta1_val)* new_gradient['b' + str(i)])/(1-np.power(beta1_val,t)))\n",
        "\n",
        "        acc = calAccuracy(X_trn,Y_trn,theta_0,act_f, hidden_lyr_num,input_dimm)\n",
        "        a, _, Y_Pred = ForwardProp(X_trn.T,theta_0,act_f, hidden_lyr_num,input_dimm)\n",
        "        loss = cross_entropy_f(Y_trn.T, Y_Pred)\n",
        "        loss_val.append(loss)\n",
        "        validation_accu =calAccuracy(X_valid,Y_valid,theta_0,act_f, hidden_lyr_num,input_dimm)\n",
        "\n",
        "        print(f\"Epoch {epoch+1}, Loss: {loss} , Accuracy: {acc*100}\")\n",
        "        wandb.log({'training_loss': loss})\n",
        "        wandb.log({'training_accuracy': acc*100})\n",
        "        wandb.log({'Validation_accuracy': validation_accu * 100})\n",
        "        wandb.log({'epoch': epoch})\n",
        "        #print({'training_loss': loss})\n",
        "        #print({'training_accuracy': acc*100})\n",
        "        #print({'Validation_accuracy': validation_accu * 100})\n",
        "        #print({'epoch': epoch})\n",
        "\n",
        "\n",
        "\n",
        "\n",
        "    plt.plot(loss_val)\n",
        "    plt.xlabel('Epoch')\n",
        "    plt.ylabel('Loss')\n",
        "    plt.title('Training Loss vs Epochs')\n",
        "    plt.show()\n",
        "\n",
        "    return theta_0\n"
      ]
    },
    {
      "cell_type": "code",
      "source": [
        "def model_train(step_size, X_trn, Y_trn, X_valid, Y_valid, optimizer, regular_param, epochs, act_f, hidden_lyr_num, hidden_lyr_nod_num,\n",
        "                paramt, input_dimm, output_dimm, batch_size, eps, beta_val=0.9, beta1_val=0.9, beta2_val=0.99):\n",
        "\n",
        "    theta_0 = initial_network(hidden_lyr_num, hidden_lyr_nod_num, paramt, input_dimm, output_dimm)\n",
        "\n",
        "    if optimizer == 'sgd':\n",
        "        W_b = stoch_grad_dec(step_size, X_trn, Y_trn, X_valid, Y_valid, epochs, act_f, hidden_lyr_num, hidden_lyr_nod_num, paramt, batch_size, input_dimm, output_dimm)\n",
        "    elif optimizer == 'momentum':\n",
        "        W_b = momentum_grad_dec(step_size, theta_0, X_trn, Y_trn, X_valid, Y_valid, act_f, epochs, hidden_lyr_num, input_dimm, batch_size, beta_val)\n",
        "    elif optimizer == 'nag':\n",
        "        W_b = nestrov(step_size, theta_0, X_trn, Y_trn, X_valid, Y_valid, act_f, epochs, hidden_lyr_num, input_dimm, batch_size, beta_val)\n",
        "    elif optimizer == 'RMSprop':\n",
        "        W_b = RMSprop(step_size, theta_0, X_trn, Y_trn, X_valid, Y_valid, act_f, epochs, hidden_lyr_num, input_dimm, batch_size, eps, beta_val)\n",
        "    elif optimizer == 'adam':\n",
        "        W_b = adam(step_size, theta_0, X_trn, Y_trn, X_valid, Y_valid, act_f, epochs, hidden_lyr_num, input_dimm, batch_size, eps, beta1_val, beta2_val)\n",
        "    elif optimizer == 'nadam':\n",
        "        W_b = nadam(step_size, theta_0, X_trn, Y_trn, X_valid, Y_valid, act_f, epochs, hidden_lyr_num, input_dimm, batch_size, eps, beta1_val, beta2_val)\n",
        "\n",
        "# Define parameters\n",
        "step_size = 0.0001\n",
        "optimizer = 'sgd'\n",
        "regular_param = 0.0001\n",
        "epochs = 10\n",
        "act_f = 'sigmoid'\n",
        "hidden_lyr_num = 3\n",
        "hidden_lyr_nod_num = [32, 64, 128]\n",
        "paramt = 'xavier'\n",
        "input_dimm = 784\n",
        "output_dimm = 10\n",
        "batch_size = 32\n",
        "eps = 1e-5\n",
        "\n",
        "# Call the function (Ensure X_trn, Y_trn, X_valid, Y_valid are defined)\n",
        "#model_train(step_size, X_trn, Y_trn, X_valid, Y_valid, optimizer, regular_param, epochs, act_f, hidden_lyr_num, hidden_lyr_nod_num, paramt, input_dimm, output_dimm, batch_size, eps, beta_val=0.9, beta1_val=0.9, beta2_val=0.99)\n"
      ],
      "metadata": {
        "id": "Eu9xtCnjLo8D"
      },
      "execution_count": 67,
      "outputs": []
    },
    {
      "cell_type": "code",
      "source": [],
      "metadata": {
        "id": "pRbyWr0AE2yt"
      },
      "execution_count": 67,
      "outputs": []
    },
    {
      "cell_type": "markdown",
      "source": [
        "**Model Training**"
      ],
      "metadata": {
        "id": "_NBImn043jiq"
      }
    },
    {
      "cell_type": "code",
      "source": [
        "import wandb\n",
        "wandb.login(key='580e769ee2f34eafdded556ce52aaf31c265ad3b')  # Ensure WandB login before initialization"
      ],
      "metadata": {
        "colab": {
          "base_uri": "https://localhost:8080/"
        },
        "id": "XeqLhecV3m3Q",
        "outputId": "f96c05e3-9712-4697-dafc-7e7df23f3619"
      },
      "execution_count": 68,
      "outputs": [
        {
          "output_type": "stream",
          "name": "stderr",
          "text": [
            "\u001b[34m\u001b[1mwandb\u001b[0m: \u001b[33mWARNING\u001b[0m If you're specifying your api key in code, ensure this code is not shared publicly.\n",
            "\u001b[34m\u001b[1mwandb\u001b[0m: \u001b[33mWARNING\u001b[0m Consider setting the WANDB_API_KEY environment variable, or running `wandb login` from the command line.\n",
            "\u001b[34m\u001b[1mwandb\u001b[0m: Appending key for api.wandb.ai to your netrc file: /root/.netrc\n"
          ]
        },
        {
          "output_type": "execute_result",
          "data": {
            "text/plain": [
              "True"
            ]
          },
          "metadata": {},
          "execution_count": 68
        }
      ]
    },
    {
      "cell_type": "code",
      "execution_count": 69,
      "metadata": {
        "id": "8bPyudGY49Hy"
      },
      "outputs": [],
      "source": [
        "from types import SimpleNamespace\n",
        "import random"
      ]
    },
    {
      "cell_type": "code",
      "source": [
        "\n",
        "\n",
        "# Initialize WandB sweep\n",
        "sweep_config = {\n",
        "    \"method\": \"bayes\",  # Bayesian optimization for efficiency\n",
        "    \"metric\": {\"name\": \"val_accuracy\", \"goal\": \"maximize\"},\n",
        "    \"parameters\": {\n",
        "        \"epochs\": {\"values\": [5, 10]},\n",
        "        \"hidden_layer\": {\"values\": [3, 4, 5]},\n",
        "        \"hidden_size\": {\"values\": [32, 64, 128]},\n",
        "        \"weight_decay\": {\"values\": [0, 0.0005, 0.5]},\n",
        "        \"learning_rate\": {\"values\": [1e-3, 1e-4]},\n",
        "        \"optimizer\": {\"values\": [\"sgd\", \"momentum\", \"nag\", \"RMSprop\", \"adam\", \"nadam\"]},\n",
        "        \"batch_size\": {\"values\": [16, 32, 64]},\n",
        "        \"weight\": {\"values\": [\"random\", \"Xavier\"]},\n",
        "        \"activation\": {\"values\": [\"sigmoid\", \"tanh\", \"relu\"]},\n",
        "    }\n",
        "}\n",
        "\n",
        "sweep_id = wandb.sweep(sweep=sweep_config, project=\"DA6401_Assignment1_ma23m011\")\n",
        "\n",
        "\n",
        "def main():\n",
        "    \"\"\"Main function executed for each WandB sweep run.\"\"\"\n",
        "    with wandb.init() as run:\n",
        "        config = wandb.config\n",
        "        run_name = (f\"ac-{config.activation}_hs-{config.hidden_size}_epc-{config.epochs}_\"\n",
        "                    f\"hl-{config.hidden_layer}_wd-{config.weight_decay}_step_size-{config.learning_rate}_\"\n",
        "                    f\"opt-{config.optimizer}_bs-{config.batch_size}_wi-{config.weight}\")\n",
        "\n",
        "        wandb.run.name = run_name\n",
        "\n",
        "        # Train the model using selected hyperparameters\n",
        "        model_train(\n",
        "            step_size=config.learning_rate,\n",
        "            X_trn=X_trn,\n",
        "            Y_trn=Y_trn,\n",
        "            X_valid=X_valid,\n",
        "            Y_valid=Y_valid,\n",
        "            optimizer=config.optimizer,\n",
        "            regular_param=config.weight_decay,\n",
        "            epochs=config.epochs,\n",
        "            act_f=config.activation,\n",
        "            hidden_lyr_num=config.hidden_layer,\n",
        "            hidden_lyr_nod_num=[config.hidden_size] * config.hidden_layer,\n",
        "            paramt=config.weight,\n",
        "            input_dimm=784,\n",
        "            output_dimm=10,\n",
        "            batch_size=config.batch_size,\n",
        "            eps=0.01,\n",
        "            beta1_val=0.9,\n",
        "            beta2_val=0.99\n",
        "        )\n",
        "\n",
        "\n",
        "# Start the sweep with multiple runs\n",
        "wandb.agent(sweep_id, function=main, count=7)\n",
        "\n",
        "# Finalize the WandB session\n",
        "wandb.finish()\n"
      ],
      "metadata": {
        "colab": {
          "base_uri": "https://localhost:8080/",
          "height": 1000
        },
        "id": "F2EIosxkgcjc",
        "outputId": "3a581cb7-92a2-4e0f-9a78-7d39b3b3ccd9"
      },
      "execution_count": null,
      "outputs": [
        {
          "output_type": "stream",
          "name": "stdout",
          "text": [
            "Create sweep with ID: 14bwgxxy\n",
            "Sweep URL: https://wandb.ai/ma23m011-iit-madras/DA6401_Assignment1_ma23m011/sweeps/14bwgxxy\n"
          ]
        },
        {
          "output_type": "stream",
          "name": "stderr",
          "text": [
            "\u001b[34m\u001b[1mwandb\u001b[0m: Agent Starting Run: 6ffhq8i7 with config:\n",
            "\u001b[34m\u001b[1mwandb\u001b[0m: \tactivation: sigmoid\n",
            "\u001b[34m\u001b[1mwandb\u001b[0m: \tbatch_size: 32\n",
            "\u001b[34m\u001b[1mwandb\u001b[0m: \tepochs: 5\n",
            "\u001b[34m\u001b[1mwandb\u001b[0m: \thidden_layer: 5\n",
            "\u001b[34m\u001b[1mwandb\u001b[0m: \thidden_size: 128\n",
            "\u001b[34m\u001b[1mwandb\u001b[0m: \tlearning_rate: 0.0001\n",
            "\u001b[34m\u001b[1mwandb\u001b[0m: \toptimizer: adam\n",
            "\u001b[34m\u001b[1mwandb\u001b[0m: \tweight: random\n",
            "\u001b[34m\u001b[1mwandb\u001b[0m: \tweight_decay: 0\n"
          ]
        },
        {
          "output_type": "display_data",
          "data": {
            "text/plain": [
              "<IPython.core.display.HTML object>"
            ],
            "text/html": [
              "Tracking run with wandb version 0.19.7"
            ]
          },
          "metadata": {}
        },
        {
          "output_type": "display_data",
          "data": {
            "text/plain": [
              "<IPython.core.display.HTML object>"
            ],
            "text/html": [
              "Run data is saved locally in <code>/content/wandb/run-20250309_045927-6ffhq8i7</code>"
            ]
          },
          "metadata": {}
        },
        {
          "output_type": "display_data",
          "data": {
            "text/plain": [
              "<IPython.core.display.HTML object>"
            ],
            "text/html": [
              "Syncing run <strong><a href='https://wandb.ai/ma23m011-iit-madras/DA6401_Assignment1_ma23m011/runs/6ffhq8i7' target=\"_blank\">lyric-sweep-1</a></strong> to <a href='https://wandb.ai/ma23m011-iit-madras/DA6401_Assignment1_ma23m011' target=\"_blank\">Weights & Biases</a> (<a href='https://wandb.me/developer-guide' target=\"_blank\">docs</a>)<br>Sweep page: <a href='https://wandb.ai/ma23m011-iit-madras/DA6401_Assignment1_ma23m011/sweeps/14bwgxxy' target=\"_blank\">https://wandb.ai/ma23m011-iit-madras/DA6401_Assignment1_ma23m011/sweeps/14bwgxxy</a>"
            ]
          },
          "metadata": {}
        },
        {
          "output_type": "display_data",
          "data": {
            "text/plain": [
              "<IPython.core.display.HTML object>"
            ],
            "text/html": [
              " View project at <a href='https://wandb.ai/ma23m011-iit-madras/DA6401_Assignment1_ma23m011' target=\"_blank\">https://wandb.ai/ma23m011-iit-madras/DA6401_Assignment1_ma23m011</a>"
            ]
          },
          "metadata": {}
        },
        {
          "output_type": "display_data",
          "data": {
            "text/plain": [
              "<IPython.core.display.HTML object>"
            ],
            "text/html": [
              " View sweep at <a href='https://wandb.ai/ma23m011-iit-madras/DA6401_Assignment1_ma23m011/sweeps/14bwgxxy' target=\"_blank\">https://wandb.ai/ma23m011-iit-madras/DA6401_Assignment1_ma23m011/sweeps/14bwgxxy</a>"
            ]
          },
          "metadata": {}
        },
        {
          "output_type": "display_data",
          "data": {
            "text/plain": [
              "<IPython.core.display.HTML object>"
            ],
            "text/html": [
              " View run at <a href='https://wandb.ai/ma23m011-iit-madras/DA6401_Assignment1_ma23m011/runs/6ffhq8i7' target=\"_blank\">https://wandb.ai/ma23m011-iit-madras/DA6401_Assignment1_ma23m011/runs/6ffhq8i7</a>"
            ]
          },
          "metadata": {}
        },
        {
          "output_type": "stream",
          "name": "stderr",
          "text": [
            "<ipython-input-64-766fabe3cd8c>:55: RuntimeWarning: invalid value encountered in sqrt\n",
            "  theta_0['W' + str(i)] -= (step_size / (np.sqrt(V_cap['W' + str(i)]+ eps))) * (M_cap['W' + str(i)])\n",
            "<ipython-input-64-766fabe3cd8c>:56: RuntimeWarning: invalid value encountered in sqrt\n",
            "  theta_0['b' + str(i)] -= (step_size / (np.sqrt(V_cap['b' + str(i)]+ eps))) * (M_cap['b' + str(i)])\n"
          ]
        },
        {
          "output_type": "stream",
          "name": "stdout",
          "text": [
            "Epoch 1, Loss: nan , Accuracy: 9.995833333333334\n",
            "Epoch 2, Loss: nan , Accuracy: 9.995833333333334\n",
            "Epoch 3, Loss: nan , Accuracy: 9.995833333333334\n",
            "Epoch 4, Loss: nan , Accuracy: 9.995833333333334\n",
            "Epoch 5, Loss: nan , Accuracy: 9.995833333333334\n"
          ]
        },
        {
          "output_type": "display_data",
          "data": {
            "text/plain": [
              "<Figure size 640x480 with 1 Axes>"
            ],
            "image/png": "[encoded data removed]"
          },
          "metadata": {}
        },
        {
          "output_type": "display_data",
          "data": {
            "text/plain": [
              "<IPython.core.display.HTML object>"
            ],
            "text/html": []
          },
          "metadata": {}
        },
        {
          "output_type": "display_data",
          "data": {
            "text/plain": [
              "<IPython.core.display.HTML object>"
            ],
            "text/html": [
              "<br>    <style><br>        .wandb-row {<br>            display: flex;<br>            flex-direction: row;<br>            flex-wrap: wrap;<br>            justify-content: flex-start;<br>            width: 100%;<br>        }<br>        .wandb-col {<br>            display: flex;<br>            flex-direction: column;<br>            flex-basis: 100%;<br>            flex: 1;<br>            padding: 10px;<br>        }<br>    </style><br><div class=\"wandb-row\"><div class=\"wandb-col\"><h3>Run history:</h3><br/><table class=\"wandb\"><tr><td>Validation_accuracy</td><td>▁▁▁▁▁</td></tr><tr><td>epoch</td><td>▁▃▅▆█</td></tr><tr><td>training_accuracy</td><td>▁▁▁▁▁</td></tr></table><br/></div><div class=\"wandb-col\"><h3>Run summary:</h3><br/><table class=\"wandb\"><tr><td>Validation_accuracy</td><td>10.01667</td></tr><tr><td>epoch</td><td>4</td></tr><tr><td>training_accuracy</td><td>9.99583</td></tr><tr><td>training_loss</td><td>nan</td></tr></table><br/></div></div>"
            ]
          },
          "metadata": {}
        },
        {
          "output_type": "display_data",
          "data": {
            "text/plain": [
              "<IPython.core.display.HTML object>"
            ],
            "text/html": [
              " View run <strong style=\"color:#cdcd00\">ac-sigmoid_hs-128_epc-5_hl-5_wd-0_step_size-0.0001_opt-adam_bs-32_wi-random</strong> at: <a href='https://wandb.ai/ma23m011-iit-madras/DA6401_Assignment1_ma23m011/runs/6ffhq8i7' target=\"_blank\">https://wandb.ai/ma23m011-iit-madras/DA6401_Assignment1_ma23m011/runs/6ffhq8i7</a><br> View project at: <a href='https://wandb.ai/ma23m011-iit-madras/DA6401_Assignment1_ma23m011' target=\"_blank\">https://wandb.ai/ma23m011-iit-madras/DA6401_Assignment1_ma23m011</a><br>Synced 5 W&B file(s), 0 media file(s), 0 artifact file(s) and 0 other file(s)"
            ]
          },
          "metadata": {}
        },
        {
          "output_type": "display_data",
          "data": {
            "text/plain": [
              "<IPython.core.display.HTML object>"
            ],
            "text/html": [
              "Find logs at: <code>./wandb/run-20250309_045927-6ffhq8i7/logs</code>"
            ]
          },
          "metadata": {}
        },
        {
          "output_type": "stream",
          "name": "stderr",
          "text": [
            "\u001b[34m\u001b[1mwandb\u001b[0m: Agent Starting Run: h51zr68j with config:\n",
            "\u001b[34m\u001b[1mwandb\u001b[0m: \tactivation: sigmoid\n",
            "\u001b[34m\u001b[1mwandb\u001b[0m: \tbatch_size: 64\n",
            "\u001b[34m\u001b[1mwandb\u001b[0m: \tepochs: 10\n",
            "\u001b[34m\u001b[1mwandb\u001b[0m: \thidden_layer: 3\n",
            "\u001b[34m\u001b[1mwandb\u001b[0m: \thidden_size: 32\n",
            "\u001b[34m\u001b[1mwandb\u001b[0m: \tlearning_rate: 0.001\n",
            "\u001b[34m\u001b[1mwandb\u001b[0m: \toptimizer: sgd\n",
            "\u001b[34m\u001b[1mwandb\u001b[0m: \tweight: random\n",
            "\u001b[34m\u001b[1mwandb\u001b[0m: \tweight_decay: 0.0005\n"
          ]
        },
        {
          "output_type": "display_data",
          "data": {
            "text/plain": [
              "<IPython.core.display.HTML object>"
            ],
            "text/html": [
              "Tracking run with wandb version 0.19.7"
            ]
          },
          "metadata": {}
        },
        {
          "output_type": "display_data",
          "data": {
            "text/plain": [
              "<IPython.core.display.HTML object>"
            ],
            "text/html": [
              "Run data is saved locally in <code>/content/wandb/run-20250309_050353-h51zr68j</code>"
            ]
          },
          "metadata": {}
        },
        {
          "output_type": "display_data",
          "data": {
            "text/plain": [
              "<IPython.core.display.HTML object>"
            ],
            "text/html": [
              "Syncing run <strong><a href='https://wandb.ai/ma23m011-iit-madras/DA6401_Assignment1_ma23m011/runs/h51zr68j' target=\"_blank\">revived-sweep-2</a></strong> to <a href='https://wandb.ai/ma23m011-iit-madras/DA6401_Assignment1_ma23m011' target=\"_blank\">Weights & Biases</a> (<a href='https://wandb.me/developer-guide' target=\"_blank\">docs</a>)<br>Sweep page: <a href='https://wandb.ai/ma23m011-iit-madras/DA6401_Assignment1_ma23m011/sweeps/14bwgxxy' target=\"_blank\">https://wandb.ai/ma23m011-iit-madras/DA6401_Assignment1_ma23m011/sweeps/14bwgxxy</a>"
            ]
          },
          "metadata": {}
        },
        {
          "output_type": "display_data",
          "data": {
            "text/plain": [
              "<IPython.core.display.HTML object>"
            ],
            "text/html": [
              " View project at <a href='https://wandb.ai/ma23m011-iit-madras/DA6401_Assignment1_ma23m011' target=\"_blank\">https://wandb.ai/ma23m011-iit-madras/DA6401_Assignment1_ma23m011</a>"
            ]
          },
          "metadata": {}
        },
        {
          "output_type": "display_data",
          "data": {
            "text/plain": [
              "<IPython.core.display.HTML object>"
            ],
            "text/html": [
              " View sweep at <a href='https://wandb.ai/ma23m011-iit-madras/DA6401_Assignment1_ma23m011/sweeps/14bwgxxy' target=\"_blank\">https://wandb.ai/ma23m011-iit-madras/DA6401_Assignment1_ma23m011/sweeps/14bwgxxy</a>"
            ]
          },
          "metadata": {}
        },
        {
          "output_type": "display_data",
          "data": {
            "text/plain": [
              "<IPython.core.display.HTML object>"
            ],
            "text/html": [
              " View run at <a href='https://wandb.ai/ma23m011-iit-madras/DA6401_Assignment1_ma23m011/runs/h51zr68j' target=\"_blank\">https://wandb.ai/ma23m011-iit-madras/DA6401_Assignment1_ma23m011/runs/h51zr68j</a>"
            ]
          },
          "metadata": {}
        },
        {
          "output_type": "stream",
          "name": "stderr",
          "text": [
            "<ipython-input-31-a70bfbe05f64>:2: RuntimeWarning: overflow encountered in exp\n",
            "  return 1 /(1 + np.exp(-x))\n"
          ]
        },
        {
          "output_type": "stream",
          "name": "stdout",
          "text": [
            "Epoch 1, Loss: 7.937117947002892 , Accuracy: 9.977083333333333\n",
            "{'training_loss': 7.937117947002892}\n",
            "{'training_accuracy': 9.977083333333333}\n",
            "{'Validation_accuracy': 10.091666666666667}\n",
            "{'epoch': 0}\n",
            "Epoch 2, Loss: 4.890278182510229 , Accuracy: 10.085416666666665\n",
            "{'training_loss': 4.890278182510229}\n",
            "{'training_accuracy': 10.085416666666665}\n",
            "{'Validation_accuracy': 9.658333333333333}\n",
            "{'epoch': 1}\n",
            "Epoch 3, Loss: 7.081843915133221 , Accuracy: 9.960416666666665\n",
            "{'training_loss': 7.081843915133221}\n",
            "{'training_accuracy': 9.960416666666665}\n",
            "{'Validation_accuracy': 10.158333333333333}\n",
            "{'epoch': 2}\n",
            "Epoch 4, Loss: 4.097147722640444 , Accuracy: 9.960416666666665\n",
            "{'training_loss': 4.097147722640444}\n",
            "{'training_accuracy': 9.960416666666665}\n",
            "{'Validation_accuracy': 10.158333333333333}\n",
            "{'epoch': 3}\n",
            "Epoch 5, Loss: 3.895247771071126 , Accuracy: 9.995833333333334\n",
            "{'training_loss': 3.895247771071126}\n",
            "{'training_accuracy': 9.995833333333334}\n",
            "{'Validation_accuracy': 10.016666666666667}\n",
            "{'epoch': 4}\n",
            "Epoch 6, Loss: 4.3025021700162505 , Accuracy: 9.960416666666665\n",
            "{'training_loss': 4.3025021700162505}\n",
            "{'training_accuracy': 9.960416666666665}\n",
            "{'Validation_accuracy': 10.158333333333333}\n",
            "{'epoch': 5}\n",
            "Epoch 7, Loss: 4.122670144534315 , Accuracy: 9.9625\n",
            "{'training_loss': 4.122670144534315}\n",
            "{'training_accuracy': 9.9625}\n",
            "{'Validation_accuracy': 10.15}\n",
            "{'epoch': 6}\n",
            "Epoch 8, Loss: 5.129258730335015 , Accuracy: 9.989583333333334\n",
            "{'training_loss': 5.129258730335015}\n",
            "{'training_accuracy': 9.989583333333334}\n",
            "{'Validation_accuracy': 10.041666666666666}\n",
            "{'epoch': 7}\n",
            "Epoch 9, Loss: 3.7681851267024165 , Accuracy: 9.99375\n",
            "{'training_loss': 3.7681851267024165}\n",
            "{'training_accuracy': 9.99375}\n",
            "{'Validation_accuracy': 10.025}\n",
            "{'epoch': 8}\n",
            "Epoch 10, Loss: 4.055520891001233 , Accuracy: 9.99375\n",
            "{'training_loss': 4.055520891001233}\n",
            "{'training_accuracy': 9.99375}\n",
            "{'Validation_accuracy': 10.025}\n",
            "{'epoch': 9}\n"
          ]
        },
        {
          "output_type": "display_data",
          "data": {
            "text/plain": [
              "<Figure size 640x480 with 1 Axes>"
            ],
            "image/png": "[encoded data removed]"
          },
          "metadata": {}
        },
        {
          "output_type": "display_data",
          "data": {
            "text/plain": [
              "<IPython.core.display.HTML object>"
            ],
            "text/html": []
          },
          "metadata": {}
        },
        {
          "output_type": "display_data",
          "data": {
            "text/plain": [
              "<IPython.core.display.HTML object>"
            ],
            "text/html": [
              " View run <strong style=\"color:#cdcd00\">ac-sigmoid_hs-32_epc-10_hl-3_wd-0.0005_step_size-0.001_opt-sgd_bs-64_wi-random</strong> at: <a href='https://wandb.ai/ma23m011-iit-madras/DA6401_Assignment1_ma23m011/runs/h51zr68j' target=\"_blank\">https://wandb.ai/ma23m011-iit-madras/DA6401_Assignment1_ma23m011/runs/h51zr68j</a><br> View project at: <a href='https://wandb.ai/ma23m011-iit-madras/DA6401_Assignment1_ma23m011' target=\"_blank\">https://wandb.ai/ma23m011-iit-madras/DA6401_Assignment1_ma23m011</a><br>Synced 5 W&B file(s), 0 media file(s), 0 artifact file(s) and 0 other file(s)"
            ]
          },
          "metadata": {}
        },
        {
          "output_type": "display_data",
          "data": {
            "text/plain": [
              "<IPython.core.display.HTML object>"
            ],
            "text/html": [
              "Find logs at: <code>./wandb/run-20250309_050353-h51zr68j/logs</code>"
            ]
          },
          "metadata": {}
        },
        {
          "output_type": "stream",
          "name": "stderr",
          "text": [
            "\u001b[34m\u001b[1mwandb\u001b[0m: Agent Starting Run: ykxq0sxf with config:\n",
            "\u001b[34m\u001b[1mwandb\u001b[0m: \tactivation: tanh\n",
            "\u001b[34m\u001b[1mwandb\u001b[0m: \tbatch_size: 32\n",
            "\u001b[34m\u001b[1mwandb\u001b[0m: \tepochs: 10\n",
            "\u001b[34m\u001b[1mwandb\u001b[0m: \thidden_layer: 4\n",
            "\u001b[34m\u001b[1mwandb\u001b[0m: \thidden_size: 32\n",
            "\u001b[34m\u001b[1mwandb\u001b[0m: \tlearning_rate: 0.001\n",
            "\u001b[34m\u001b[1mwandb\u001b[0m: \toptimizer: momentum\n",
            "\u001b[34m\u001b[1mwandb\u001b[0m: \tweight: random\n",
            "\u001b[34m\u001b[1mwandb\u001b[0m: \tweight_decay: 0\n"
          ]
        },
        {
          "output_type": "display_data",
          "data": {
            "text/plain": [
              "<IPython.core.display.HTML object>"
            ],
            "text/html": [
              "Tracking run with wandb version 0.19.7"
            ]
          },
          "metadata": {}
        },
        {
          "output_type": "display_data",
          "data": {
            "text/plain": [
              "<IPython.core.display.HTML object>"
            ],
            "text/html": [
              "Run data is saved locally in <code>/content/wandb/run-20250309_050724-ykxq0sxf</code>"
            ]
          },
          "metadata": {}
        },
        {
          "output_type": "display_data",
          "data": {
            "text/plain": [
              "<IPython.core.display.HTML object>"
            ],
            "text/html": [
              "Syncing run <strong><a href='https://wandb.ai/ma23m011-iit-madras/DA6401_Assignment1_ma23m011/runs/ykxq0sxf' target=\"_blank\">prime-sweep-3</a></strong> to <a href='https://wandb.ai/ma23m011-iit-madras/DA6401_Assignment1_ma23m011' target=\"_blank\">Weights & Biases</a> (<a href='https://wandb.me/developer-guide' target=\"_blank\">docs</a>)<br>Sweep page: <a href='https://wandb.ai/ma23m011-iit-madras/DA6401_Assignment1_ma23m011/sweeps/14bwgxxy' target=\"_blank\">https://wandb.ai/ma23m011-iit-madras/DA6401_Assignment1_ma23m011/sweeps/14bwgxxy</a>"
            ]
          },
          "metadata": {}
        },
        {
          "output_type": "display_data",
          "data": {
            "text/plain": [
              "<IPython.core.display.HTML object>"
            ],
            "text/html": [
              " View project at <a href='https://wandb.ai/ma23m011-iit-madras/DA6401_Assignment1_ma23m011' target=\"_blank\">https://wandb.ai/ma23m011-iit-madras/DA6401_Assignment1_ma23m011</a>"
            ]
          },
          "metadata": {}
        },
        {
          "output_type": "display_data",
          "data": {
            "text/plain": [
              "<IPython.core.display.HTML object>"
            ],
            "text/html": [
              " View sweep at <a href='https://wandb.ai/ma23m011-iit-madras/DA6401_Assignment1_ma23m011/sweeps/14bwgxxy' target=\"_blank\">https://wandb.ai/ma23m011-iit-madras/DA6401_Assignment1_ma23m011/sweeps/14bwgxxy</a>"
            ]
          },
          "metadata": {}
        },
        {
          "output_type": "display_data",
          "data": {
            "text/plain": [
              "<IPython.core.display.HTML object>"
            ],
            "text/html": [
              " View run at <a href='https://wandb.ai/ma23m011-iit-madras/DA6401_Assignment1_ma23m011/runs/ykxq0sxf' target=\"_blank\">https://wandb.ai/ma23m011-iit-madras/DA6401_Assignment1_ma23m011/runs/ykxq0sxf</a>"
            ]
          },
          "metadata": {}
        },
        {
          "output_type": "stream",
          "name": "stdout",
          "text": [
            "Epoch 1, Loss: 31.086337871102725 , Accuracy: 9.995833333333334\n",
            "Epoch 2, Loss: 31.086337871102725 , Accuracy: 9.995833333333334\n",
            "Epoch 3, Loss: 31.097850796567695 , Accuracy: 9.9625\n",
            "Epoch 4, Loss: 31.086337871102725 , Accuracy: 9.995833333333334\n",
            "Epoch 5, Loss: 31.097850796567695 , Accuracy: 9.9625\n",
            "Epoch 6, Loss: 31.088496544627404 , Accuracy: 9.989583333333334\n",
            "Epoch 7, Loss: 31.09281389167677 , Accuracy: 9.977083333333333\n",
            "Epoch 8, Loss: 31.086337871102725 , Accuracy: 9.995833333333334\n",
            "Epoch 9, Loss: 31.098570354409254 , Accuracy: 9.960416666666665\n",
            "Epoch 10, Loss: 31.09281389167677 , Accuracy: 9.977083333333333\n"
          ]
        },
        {
          "output_type": "display_data",
          "data": {
            "text/plain": [
              "<Figure size 640x480 with 1 Axes>"
            ],
            "image/png": "[encoded data removed]"
          },
          "metadata": {}
        },
        {
          "output_type": "display_data",
          "data": {
            "text/plain": [
              "<IPython.core.display.HTML object>"
            ],
            "text/html": []
          },
          "metadata": {}
        },
        {
          "output_type": "display_data",
          "data": {
            "text/plain": [
              "<IPython.core.display.HTML object>"
            ],
            "text/html": [
              "<br>    <style><br>        .wandb-row {<br>            display: flex;<br>            flex-direction: row;<br>            flex-wrap: wrap;<br>            justify-content: flex-start;<br>            width: 100%;<br>        }<br>        .wandb-col {<br>            display: flex;<br>            flex-direction: column;<br>            flex-basis: 100%;<br>            flex: 1;<br>            padding: 10px;<br>        }<br>    </style><br><div class=\"wandb-row\"><div class=\"wandb-col\"><h3>Run history:</h3><br/><table class=\"wandb\"><tr><td>Validation_accuracy</td><td>▁▁█▁█▂▅▁█▅</td></tr><tr><td>epoch</td><td>▁▂▃▃▄▅▆▆▇█</td></tr><tr><td>training_accuracy</td><td>██▁█▁▇▄█▁▄</td></tr><tr><td>training_loss</td><td>▁▁█▁█▂▅▁█▅</td></tr></table><br/></div><div class=\"wandb-col\"><h3>Run summary:</h3><br/><table class=\"wandb\"><tr><td>Validation_accuracy</td><td>10.09167</td></tr><tr><td>epoch</td><td>9</td></tr><tr><td>training_accuracy</td><td>9.97708</td></tr><tr><td>training_loss</td><td>31.09281</td></tr></table><br/></div></div>"
            ]
          },
          "metadata": {}
        },
        {
          "output_type": "display_data",
          "data": {
            "text/plain": [
              "<IPython.core.display.HTML object>"
            ],
            "text/html": [
              " View run <strong style=\"color:#cdcd00\">ac-tanh_hs-32_epc-10_hl-4_wd-0_step_size-0.001_opt-momentum_bs-32_wi-random</strong> at: <a href='https://wandb.ai/ma23m011-iit-madras/DA6401_Assignment1_ma23m011/runs/ykxq0sxf' target=\"_blank\">https://wandb.ai/ma23m011-iit-madras/DA6401_Assignment1_ma23m011/runs/ykxq0sxf</a><br> View project at: <a href='https://wandb.ai/ma23m011-iit-madras/DA6401_Assignment1_ma23m011' target=\"_blank\">https://wandb.ai/ma23m011-iit-madras/DA6401_Assignment1_ma23m011</a><br>Synced 5 W&B file(s), 0 media file(s), 0 artifact file(s) and 0 other file(s)"
            ]
          },
          "metadata": {}
        },
        {
          "output_type": "display_data",
          "data": {
            "text/plain": [
              "<IPython.core.display.HTML object>"
            ],
            "text/html": [
              "Find logs at: <code>./wandb/run-20250309_050724-ykxq0sxf/logs</code>"
            ]
          },
          "metadata": {}
        },
        {
          "output_type": "stream",
          "name": "stderr",
          "text": [
            "\u001b[34m\u001b[1mwandb\u001b[0m: Agent Starting Run: u1q4k6xz with config:\n",
            "\u001b[34m\u001b[1mwandb\u001b[0m: \tactivation: tanh\n",
            "\u001b[34m\u001b[1mwandb\u001b[0m: \tbatch_size: 32\n",
            "\u001b[34m\u001b[1mwandb\u001b[0m: \tepochs: 10\n",
            "\u001b[34m\u001b[1mwandb\u001b[0m: \thidden_layer: 4\n",
            "\u001b[34m\u001b[1mwandb\u001b[0m: \thidden_size: 32\n",
            "\u001b[34m\u001b[1mwandb\u001b[0m: \tlearning_rate: 0.0001\n",
            "\u001b[34m\u001b[1mwandb\u001b[0m: \toptimizer: RMSprop\n",
            "\u001b[34m\u001b[1mwandb\u001b[0m: \tweight: random\n",
            "\u001b[34m\u001b[1mwandb\u001b[0m: \tweight_decay: 0.0005\n"
          ]
        },
        {
          "output_type": "display_data",
          "data": {
            "text/plain": [
              "<IPython.core.display.HTML object>"
            ],
            "text/html": [
              "Tracking run with wandb version 0.19.7"
            ]
          },
          "metadata": {}
        },
        {
          "output_type": "display_data",
          "data": {
            "text/plain": [
              "<IPython.core.display.HTML object>"
            ],
            "text/html": [
              "Run data is saved locally in <code>/content/wandb/run-20250309_051020-u1q4k6xz</code>"
            ]
          },
          "metadata": {}
        },
        {
          "output_type": "display_data",
          "data": {
            "text/plain": [
              "<IPython.core.display.HTML object>"
            ],
            "text/html": [
              "Syncing run <strong><a href='https://wandb.ai/ma23m011-iit-madras/DA6401_Assignment1_ma23m011/runs/u1q4k6xz' target=\"_blank\">polished-sweep-4</a></strong> to <a href='https://wandb.ai/ma23m011-iit-madras/DA6401_Assignment1_ma23m011' target=\"_blank\">Weights & Biases</a> (<a href='https://wandb.me/developer-guide' target=\"_blank\">docs</a>)<br>Sweep page: <a href='https://wandb.ai/ma23m011-iit-madras/DA6401_Assignment1_ma23m011/sweeps/14bwgxxy' target=\"_blank\">https://wandb.ai/ma23m011-iit-madras/DA6401_Assignment1_ma23m011/sweeps/14bwgxxy</a>"
            ]
          },
          "metadata": {}
        },
        {
          "output_type": "display_data",
          "data": {
            "text/plain": [
              "<IPython.core.display.HTML object>"
            ],
            "text/html": [
              " View project at <a href='https://wandb.ai/ma23m011-iit-madras/DA6401_Assignment1_ma23m011' target=\"_blank\">https://wandb.ai/ma23m011-iit-madras/DA6401_Assignment1_ma23m011</a>"
            ]
          },
          "metadata": {}
        },
        {
          "output_type": "display_data",
          "data": {
            "text/plain": [
              "<IPython.core.display.HTML object>"
            ],
            "text/html": [
              " View sweep at <a href='https://wandb.ai/ma23m011-iit-madras/DA6401_Assignment1_ma23m011/sweeps/14bwgxxy' target=\"_blank\">https://wandb.ai/ma23m011-iit-madras/DA6401_Assignment1_ma23m011/sweeps/14bwgxxy</a>"
            ]
          },
          "metadata": {}
        },
        {
          "output_type": "display_data",
          "data": {
            "text/plain": [
              "<IPython.core.display.HTML object>"
            ],
            "text/html": [
              " View run at <a href='https://wandb.ai/ma23m011-iit-madras/DA6401_Assignment1_ma23m011/runs/u1q4k6xz' target=\"_blank\">https://wandb.ai/ma23m011-iit-madras/DA6401_Assignment1_ma23m011/runs/u1q4k6xz</a>"
            ]
          },
          "metadata": {}
        },
        {
          "output_type": "stream",
          "name": "stdout",
          "text": [
            "Epoch 1, Loss: 1.7911967592589673 , Accuracy: 43.983333333333334\n",
            "Epoch 2, Loss: 1.00361226532671 , Accuracy: 62.38541666666667\n",
            "Epoch 3, Loss: 0.9134723152591816 , Accuracy: 61.90833333333333\n",
            "Epoch 4, Loss: 0.9129417628059074 , Accuracy: 62.516666666666666\n",
            "Epoch 5, Loss: 0.8628760216265343 , Accuracy: 64.76666666666667\n",
            "Epoch 6, Loss: 0.9042170262692751 , Accuracy: 59.577083333333334\n"
          ]
        }
      ]
    },
    {
      "cell_type": "code",
      "source": [],
      "metadata": {
        "id": "IO30gubhJV-J"
      },
      "execution_count": null,
      "outputs": []
    },
    {
      "cell_type": "code",
      "execution_count": null,
      "metadata": {
        "id": "WfsH4sSvwPQT"
      },
      "outputs": [],
      "source": [
        "def opt_RMSprop(step_size, theta_0, X_trn, Y_trn,X_valid, Y_valid,act_f, epochs, hidden_lyr_num, input_dimm,batch_size, eps=0.01, beta_val=0.9):\n",
        "    loss_val = []\n",
        "    length = X_trn.shape[0]\n",
        "    V = {key: np.zeros_like(value) for key, value in theta_0.items()}\n",
        "    Prev_V = {key: np.zeros_like(value) for key, value in theta_0.items()}\n",
        "    for epoch in range(epochs):\n",
        "        count_of_pts = 0\n",
        "        loss = 0\n",
        "        new_gradient = {key: np.zeros_like(value) for key, value in theta_0.items()}\n",
        "        for j in range(length):\n",
        "            count_of_pts += 1\n",
        "            z = X_trn[j, :].reshape(-1, 1)\n",
        "            Y_true = Y_trn[j, :].reshape(-1, 1)\n",
        "            gradient = BackProp(z, Y_true,act_f, hidden_lyr_num, theta_0, input_dimm)\n",
        "            for i in range(hidden_lyr_num+1, 0, -1):\n",
        "                new_gradient['W'+str(i)] += gradient['W'+str(i)]\n",
        "                new_gradient['b'+str(i)] += gradient['b'+str(i)]\n",
        "\n",
        "            if count_of_pts % batch_size == 0:\n",
        "\n",
        "              for i in range(1, hidden_lyr_num + 2):\n",
        "                  # Update velocity\n",
        "                  V['W' + str(i)] = beta_val * Prev_V['W' + str(i)] + (1-beta_val)* ((new_gradient['W'+str(i)])**2)\n",
        "                  V['b' + str(i)] = beta_val * Prev_V['b' + str(i)] + (1-beta_val)* ((new_gradient['b'+str(i)])**2)\n",
        "\n",
        "              for i in range(1, hidden_lyr_num + 2):\n",
        "                  # Update parameters\n",
        "                  theta_0['W' + str(i)] -= (step_size/ (np.sqrt(V['W' + str(i)] + eps)) )*new_gradient['W'+str(i)]\n",
        "                  theta_0['b' + str(i)] -= (step_size/ (np.sqrt(V['b' + str(i)] + eps)) )*new_gradient['b'+str(i)]\n",
        "\n",
        "              for i in range(1, hidden_lyr_num + 2):\n",
        "                  Prev_V['W' + str(i)] = V['W' + str(i)]\n",
        "                  Prev_V['b' + str(i)] = V['b' + str(i)]\n",
        "\n",
        "\n",
        "        acc = calAccuracy(X_trn,Y_trn,theta_0,act_f, hidden_lyr_num,input_dimm)\n",
        "        a, _, Y_Pred = ForwardProp(X_trn.T,theta_0,act_f, hidden_lyr_num,input_dimm)\n",
        "        loss = cross_entropy_f(Y_trn.T, Y_Pred)\n",
        "        loss_val.append(loss)\n",
        "        validation_accuracy = calAccuracy(X_valid,Y_valid,theta_0,act_f, hidden_lyr_num,input_dimm)\n",
        "        print(f\"Epoch {epoch+1}, Train_Loss: {loss} , Train_Accuracy: {acc*100},Test accutacy: {validation_accuracy*100}\")\n",
        "\n",
        "    # Plot the loss function over epochs\n",
        "    plt.plot(loss_val)\n",
        "    plt.xlabel('Epoch')\n",
        "    plt.ylabel('Loss')\n",
        "    plt.title('Training Loss vs Epochs')\n",
        "    plt.show()\n",
        "\n",
        "    return theta_0\n",
        "\n",
        "def opt_Adam(step_size, theta_0, X_trn, Y_trn, X_valid, Y_valid, act_f, epochs, hidden_lyr_num, input_dimm,batch_size,eps, beta1_val=0.9,beta2_val= 0.99):\n",
        "    loss_val = []\n",
        "    length = X_trn.shape[0]\n",
        "    V = {key: np.zeros_like(value) for key, value in theta_0.items()}\n",
        "    Prev_V = {key: np.zeros_like(value) for key, value in theta_0.items()}\n",
        "    V_cap = {key: np.zeros_like(value) for key, value in theta_0.items()}\n",
        "\n",
        "    M = {key: np.zeros_like(value) for key, value in theta_0.items()}\n",
        "    Prev_M = {key: np.zeros_like(value) for key, value in theta_0.items()}\n",
        "    M_cap = {key: np.zeros_like(value) for key, value in theta_0.items()}\n",
        "\n",
        "    for epoch in range(epochs):\n",
        "        t = 0\n",
        "        count_of_pts = 0\n",
        "        loss = 0\n",
        "        new_gradient = {key: np.zeros_like(value) for key, value in theta_0.items()}\n",
        "        for j in range(length):\n",
        "            z = X_trn[j, :].reshape(-1, 1)\n",
        "            Y_true = Y_trn[j, :].reshape(-1, 1)\n",
        "            gradient = BackProp(z, Y_true,act_f, hidden_lyr_num, theta_0, input_dimm)\n",
        "            for i in range(hidden_lyr_num+1, 0, -1):\n",
        "                new_gradient['W'+str(i)] += gradient['W'+str(i)]\n",
        "                new_gradient['b'+str(i)] += gradient['b'+str(i)]\n",
        "\n",
        "            count_of_pts = count_of_pts + 1\n",
        "            if count_of_pts % batch_size == 0:\n",
        "              t = t + 1\n",
        "\n",
        "              for i in range(1, hidden_lyr_num + 2):\n",
        "                  M['W' + str(i)] = beta1_val * Prev_M['W' + str(i)] + (1-beta1_val)* new_gradient['W'+str(i)]\n",
        "                  M['b' + str(i)] = beta1_val * Prev_M['b' + str(i)] + (1-beta1_val)* new_gradient['b'+str(i)]\n",
        "\n",
        "              for i in range(1, hidden_lyr_num + 2):\n",
        "                  M_cap['W' + str(i)] = (1/(1-np.power(beta1_val,t))) * M['W' + str(i)]\n",
        "                  M_cap['b' + str(i)] = (1/(1-np.power(beta1_val,t))) * M['b' + str(i)]\n",
        "                  Prev_M['W' + str(i)] = M['W' + str(i)]\n",
        "                  Prev_M['b' + str(i)] = M['b' + str(i)]\n",
        "\n",
        "              for i in range(1, hidden_lyr_num + 2):\n",
        "                  V['W' + str(i)] = beta2_val * Prev_V['W' + str(i)] + (1-beta2_val)* ((new_gradient['W'+str(i)])**2)\n",
        "                  V['b' + str(i)] = beta2_val * Prev_V['b' + str(i)] + (1-beta2_val)* ((new_gradient['b'+str(i)])**2)\n",
        "\n",
        "              for i in range(1, hidden_lyr_num + 2):\n",
        "                  V_cap['W' + str(i)] = (1/(1-np.power(beta2_val,t))) * V['W' + str(i)]\n",
        "                  V_cap['b' + str(i)] = (1/(1-np.power(beta2_val,t))) * V['b' + str(i)]\n",
        "                  Prev_V['W' + str(i)] = V['W' + str(i)]\n",
        "                  Prev_V['b' + str(i)] = V['b' + str(i)]\n",
        "\n",
        "\n",
        "              for i in range(1, hidden_lyr_num + 2):\n",
        "                  # Update parameters\n",
        "                  theta_0['W' + str(i)] -= (step_size/ (np.sqrt(V_cap['W' + str(i)] + eps)) )*(M_cap['W'+str(i)])\n",
        "                  theta_0['b' + str(i)] -= (step_size/ (np.sqrt(V_cap['b' + str(i)] + eps)) )*(M_cap['b'+str(i)])\n",
        "\n",
        "\n",
        "        acc = calAccuracy(X_trn,Y_trn,theta_0,act_f, hidden_lyr_num,input_dimm)\n",
        "        a, _, Y_Pred = ForwardProp(X_trn.T,theta_0,act_f, hidden_lyr_num,input_dimm)\n",
        "        loss = cross_entropy_f(Y_trn.T, Y_Pred)\n",
        "        loss_val.append(loss)\n",
        "        validation_accuracy = calAccuracy(X_valid,Y_valid,theta_0,act_f, hidden_lyr_num,input_dimm)\n",
        "        print(f\"Epoch {epoch+1}, Train_Loss: {loss} , Train_Accuracy: {acc*100},Test accutacy: {validation_accuracy*100}\")\n",
        "    # Plot the loss function over epochs\n",
        "    plt.plot(loss_val)\n",
        "    plt.xlabel('Epoch')\n",
        "    plt.ylabel('Loss')\n",
        "    plt.title('Training Loss vs Epochs')\n",
        "    plt.show()\n",
        "\n",
        "    return theta_0\n",
        "\n",
        "def opt_Nadam(step_size, theta_0, X_trn, Y_trn,X_valid, Y_valid,act_f, epochs, hidden_lyr_num, input_dimm, batch_size,eps, beta1_val=0.9,beta2_val=0.99):\n",
        "    loss_val = []\n",
        "    length = X_trn.shape[0]\n",
        "    V = {key: np.zeros_like(value) for key, value in theta_0.items()}\n",
        "    Prev_V = {key: np.zeros_like(value) for key, value in theta_0.items()}\n",
        "    V_cap = {key: np.zeros_like(value) for key, value in theta_0.items()}\n",
        "\n",
        "    M = {key: np.zeros_like(value) for key, value in theta_0.items()}\n",
        "    Prev_M = {key: np.zeros_like(value) for key, value in theta_0.items()}\n",
        "    M_cap = {key: np.zeros_like(value) for key, value in theta_0.items()}\n",
        "\n",
        "    for epoch in range(epochs):\n",
        "        t = 0\n",
        "        count_of_pts = 0\n",
        "        loss = 0\n",
        "        new_gradient = {key: np.zeros_like(value) for key, value in theta_0.items()}\n",
        "        for j in range(length):\n",
        "            z = X_trn[j, :].reshape(-1, 1)\n",
        "            Y_true = Y_trn[j, :].reshape(-1, 1)\n",
        "            gradient = BackProp(z, Y_true,act_f, hidden_lyr_num, theta_0, input_dimm)\n",
        "            for i in range(hidden_lyr_num+1, 0, -1):\n",
        "                new_gradient['W'+str(i)] += gradient['W'+str(i)]\n",
        "                new_gradient['b'+str(i)] += gradient['b'+str(i)]\n",
        "\n",
        "            count_of_pts += 1\n",
        "            if count_of_pts % batch_size == 0:\n",
        "              t = t + 1\n",
        "\n",
        "              for i in range(1, hidden_lyr_num + 2):\n",
        "                  M['W' + str(i)] = beta1_val * Prev_M['W' + str(i)] + (1-beta1_val)* new_gradient['W'+str(i)]\n",
        "                  M['b' + str(i)] = beta1_val * Prev_M['b' + str(i)] + (1-beta1_val)* new_gradient['b'+str(i)]\n",
        "\n",
        "              for i in range(1, hidden_lyr_num + 2):\n",
        "                  M_cap['W' + str(i)] = (1/(1-np.power(beta1_val,t))) * M['W' + str(i)]\n",
        "                  M_cap['b' + str(i)] = (1/(1-np.power(beta1_val,t))) * M['b' + str(i)]\n",
        "                  Prev_M['W' + str(i)] = M['W' + str(i)]\n",
        "                  Prev_M['b' + str(i)] = M['b' + str(i)]\n",
        "\n",
        "              for i in range(1, hidden_lyr_num + 2):\n",
        "                  V['W' + str(i)] = beta2_val * Prev_V['W' + str(i)] + (1-beta2_val)* ((new_gradient['W'+str(i)])**2)\n",
        "                  V['b' + str(i)] = beta2_val * Prev_V['b' + str(i)] + (1-beta2_val)* ((new_gradient['b'+str(i)])**2)\n",
        "\n",
        "              for i in range(1, hidden_lyr_num + 2):\n",
        "                  V_cap['W' + str(i)] = (1/(1-np.power(beta2_val,t))) * V['W' + str(i)]\n",
        "                  V_cap['b' + str(i)] = (1/(1-np.power(beta2_val,t))) * V['b' + str(i)]\n",
        "                  Prev_V['W' + str(i)] = V['W' + str(i)]\n",
        "                  Prev_V['b' + str(i)] = V['b' + str(i)]\n",
        "\n",
        "\n",
        "              for i in range(1, hidden_lyr_num + 2):\n",
        "                  # Update parameters\n",
        "                  theta_0['W' + str(i)] -= (step_size/ (np.sqrt(V_cap['W' + str(i)] + eps)) )*(beta1_val*(M_cap['W'+str(i)])+((1-beta1_val)*(new_gradient['W'+str(i)]))/(1-np.power(beta1_val,t)))\n",
        "                  theta_0['b' + str(i)] -= (step_size/ (np.sqrt(V_cap['b' + str(i)] + eps)) )*(beta1_val*(M_cap['b'+str(i)])+((1-beta1_val)*(new_gradient['b'+str(i)]))/(1-np.power(beta1_val,t)))\n",
        "\n",
        "        acc = calAccuracy(X_trn,Y_trn,theta_0,act_f, hidden_lyr_num,input_dimm)\n",
        "        a, _, Y_Pred = ForwardProp(X_trn.T,theta_0,act_f, hidden_lyr_num,input_dimm)\n",
        "        loss = cross_entropy_f(Y_trn.T, Y_Pred)\n",
        "        loss_val.append(loss)\n",
        "        test_accuracy = calAccuracy(X_valid,Y_valid,theta_0,act_f, hidden_lyr_num,input_dimm)\n",
        "\n",
        "        print(f\"Epoch {epoch+1}, Train_Loss: {loss} , Train_Accuracy: {acc*100},Test accutacy: {test_accuracy*100}\")\n",
        "\n",
        "    plt.plot(loss_val)\n",
        "    plt.xlabel('Epoch')\n",
        "    plt.ylabel('Loss')\n",
        "    plt.title('Training Loss vs Epochs')\n",
        "    plt.show()\n",
        "\n",
        "    return theta_0\n"
      ]
    },
    {
      "cell_type": "code",
      "execution_count": null,
      "metadata": {
        "id": "MRL7AWnZNoEB"
      },
      "outputs": [],
      "source": [
        "ideal_epochs = 10\n",
        "ideal_weight = 'xavier'\n",
        "ideal_act_fc = 'relu'\n",
        "ideal_hidden_size = 128\n",
        "ideal_batch_size = 64\n",
        "ideal_optimizer = 'RMSprop'\n",
        "ideal_hidden_layer = 5\n",
        "ideal_weight_decay = 0\n",
        "ideal_learning_rate = 0.0001\n",
        "\n",
        "\n"
      ]
    },
    {
      "cell_type": "code",
      "execution_count": null,
      "metadata": {
        "id": "khCAnohSOF-e",
        "colab": {
          "base_uri": "https://localhost:8080/",
          "height": 297
        },
        "outputId": "32651b5c-1ee8-4056-f1da-ba1d7333bac9"
      },
      "outputs": [
        {
          "output_type": "error",
          "ename": "TypeError",
          "evalue": "'int' object is not subscriptable",
          "traceback": [
            "\u001b[0;31m---------------------------------------------------------------------------\u001b[0m",
            "\u001b[0;31mTypeError\u001b[0m                                 Traceback (most recent call last)",
            "\u001b[0;32m<ipython-input-91-0584a58633ec>\u001b[0m in \u001b[0;36m<cell line: 0>\u001b[0;34m()\u001b[0m\n\u001b[0;32m----> 1\u001b[0;31m \u001b[0mW_b1\u001b[0m \u001b[0;34m=\u001b[0m \u001b[0minitial_network\u001b[0m\u001b[0;34m(\u001b[0m \u001b[0mhidden_lyr_num\u001b[0m\u001b[0;34m=\u001b[0m\u001b[0;36m5\u001b[0m\u001b[0;34m,\u001b[0m\u001b[0mhidden_lyr_nod_num\u001b[0m\u001b[0;34m=\u001b[0m\u001b[0;36m128\u001b[0m\u001b[0;34m,\u001b[0m \u001b[0mparamt\u001b[0m\u001b[0;34m=\u001b[0m\u001b[0;34m'xavier'\u001b[0m\u001b[0;34m,\u001b[0m\u001b[0minput_dimm\u001b[0m\u001b[0;34m=\u001b[0m\u001b[0;36m784\u001b[0m \u001b[0;34m,\u001b[0m \u001b[0moutput_dimm\u001b[0m\u001b[0;34m=\u001b[0m\u001b[0;36m10\u001b[0m \u001b[0;34m)\u001b[0m\u001b[0;34m\u001b[0m\u001b[0;34m\u001b[0m\u001b[0m\n\u001b[0m\u001b[1;32m      2\u001b[0m \u001b[0mW_b_rms\u001b[0m\u001b[0;34m=\u001b[0m \u001b[0mopt_RMSprop\u001b[0m\u001b[0;34m(\u001b[0m\u001b[0;36m0.0001\u001b[0m\u001b[0;34m,\u001b[0m \u001b[0mW_b1\u001b[0m\u001b[0;34m,\u001b[0m \u001b[0mX_trn\u001b[0m\u001b[0;34m,\u001b[0m \u001b[0mY_trn\u001b[0m\u001b[0;34m,\u001b[0m \u001b[0mX_tst\u001b[0m\u001b[0;34m,\u001b[0m \u001b[0mY_tst\u001b[0m\u001b[0;34m,\u001b[0m\u001b[0mact_f\u001b[0m\u001b[0;34m=\u001b[0m\u001b[0;34m'relu'\u001b[0m\u001b[0;34m,\u001b[0m \u001b[0mepochs\u001b[0m\u001b[0;34m=\u001b[0m\u001b[0;36m10\u001b[0m\u001b[0;34m,\u001b[0m \u001b[0mhidden_lyr_num\u001b[0m\u001b[0;34m=\u001b[0m\u001b[0;36m5\u001b[0m\u001b[0;34m,\u001b[0m \u001b[0minput_dimm\u001b[0m\u001b[0;34m=\u001b[0m\u001b[0;36m784\u001b[0m \u001b[0;34m,\u001b[0m\u001b[0mbatch_size\u001b[0m\u001b[0;34m=\u001b[0m\u001b[0;36m64\u001b[0m\u001b[0;34m,\u001b[0m \u001b[0meps\u001b[0m\u001b[0;34m=\u001b[0m\u001b[0;36m0.01\u001b[0m\u001b[0;34m,\u001b[0m \u001b[0mbeta_val\u001b[0m\u001b[0;34m=\u001b[0m\u001b[0;36m0.9\u001b[0m\u001b[0;34m)\u001b[0m\u001b[0;34m\u001b[0m\u001b[0;34m\u001b[0m\u001b[0m\n",
            "\u001b[0;32m<ipython-input-75-dd5888777cf6>\u001b[0m in \u001b[0;36minitial_network\u001b[0;34m(hidden_lyr_num, hidden_lyr_nod_num, paramt, input_dimm, output_dimm)\u001b[0m\n\u001b[1;32m     42\u001b[0m     \u001b[0mnetwork_dimm\u001b[0m \u001b[0;34m=\u001b[0m \u001b[0;34m[\u001b[0m\u001b[0;34m]\u001b[0m\u001b[0;34m\u001b[0m\u001b[0;34m\u001b[0m\u001b[0m\n\u001b[1;32m     43\u001b[0m     \u001b[0;32mfor\u001b[0m \u001b[0mi\u001b[0m \u001b[0;32min\u001b[0m \u001b[0mrange\u001b[0m\u001b[0;34m(\u001b[0m\u001b[0mhidden_lyr_num\u001b[0m\u001b[0;34m)\u001b[0m\u001b[0;34m:\u001b[0m\u001b[0;34m\u001b[0m\u001b[0;34m\u001b[0m\u001b[0m\n\u001b[0;32m---> 44\u001b[0;31m       \u001b[0mnetwork_dimm\u001b[0m\u001b[0;34m.\u001b[0m\u001b[0mappend\u001b[0m\u001b[0;34m(\u001b[0m\u001b[0mhidden_lyr_nod_num\u001b[0m\u001b[0;34m[\u001b[0m\u001b[0mi\u001b[0m\u001b[0;34m]\u001b[0m\u001b[0;34m)\u001b[0m\u001b[0;34m\u001b[0m\u001b[0;34m\u001b[0m\u001b[0m\n\u001b[0m\u001b[1;32m     45\u001b[0m \u001b[0;34m\u001b[0m\u001b[0m\n\u001b[1;32m     46\u001b[0m     \u001b[0mdimm\u001b[0m \u001b[0;34m=\u001b[0m \u001b[0;34m[\u001b[0m\u001b[0minput_dimm\u001b[0m\u001b[0;34m]\u001b[0m \u001b[0;34m+\u001b[0m \u001b[0mnetwork_dimm\u001b[0m \u001b[0;34m+\u001b[0m \u001b[0;34m[\u001b[0m\u001b[0moutput_dimm\u001b[0m\u001b[0;34m]\u001b[0m\u001b[0;34m\u001b[0m\u001b[0;34m\u001b[0m\u001b[0m\n",
            "\u001b[0;31mTypeError\u001b[0m: 'int' object is not subscriptable"
          ]
        }
      ],
      "source": [
        "W_b1 = initial_network( hidden_lyr_num=5,hidden_lyr_nod_num=128, paramt='xavier',input_dimm=784 , output_dimm=10 )\n",
        "W_b_rms= opt_RMSprop(0.0001, W_b1, X_trn, Y_trn, X_tst, Y_tst,act_f='relu', epochs=10, hidden_lyr_num=5, input_dimm=784 ,batch_size=64, eps=0.01, beta_val=0.9)\n"
      ]
    },
    {
      "cell_type": "code",
      "source": [],
      "metadata": {
        "id": "Hns1_mzIwTkE"
      },
      "execution_count": null,
      "outputs": []
    },
    {
      "cell_type": "code",
      "execution_count": null,
      "metadata": {
        "id": "aZP70346hw3Y",
        "colab": {
          "base_uri": "https://localhost:8080/",
          "height": 211
        },
        "outputId": "721ade5a-2ed9-4c56-f222-44bfb8cebb8a"
      },
      "outputs": [
        {
          "output_type": "error",
          "ename": "NameError",
          "evalue": "name 'W_b_rms' is not defined",
          "traceback": [
            "\u001b[0;31m---------------------------------------------------------------------------\u001b[0m",
            "\u001b[0;31mNameError\u001b[0m                                 Traceback (most recent call last)",
            "\u001b[0;32m<ipython-input-92-be078047c248>\u001b[0m in \u001b[0;36m<cell line: 0>\u001b[0;34m()\u001b[0m\n\u001b[1;32m      4\u001b[0m \u001b[0;32mfor\u001b[0m \u001b[0mi\u001b[0m \u001b[0;32min\u001b[0m \u001b[0mrange\u001b[0m\u001b[0;34m(\u001b[0m\u001b[0ml\u001b[0m\u001b[0;34m)\u001b[0m\u001b[0;34m:\u001b[0m\u001b[0;34m\u001b[0m\u001b[0;34m\u001b[0m\u001b[0m\n\u001b[1;32m      5\u001b[0m   \u001b[0mX_tes\u001b[0m \u001b[0;34m=\u001b[0m \u001b[0mX_tst\u001b[0m\u001b[0;34m[\u001b[0m\u001b[0mi\u001b[0m\u001b[0;34m,\u001b[0m\u001b[0;34m:\u001b[0m\u001b[0;34m]\u001b[0m\u001b[0;34m.\u001b[0m\u001b[0mreshape\u001b[0m\u001b[0;34m(\u001b[0m\u001b[0;34m-\u001b[0m\u001b[0;36m1\u001b[0m\u001b[0;34m,\u001b[0m \u001b[0;36m1\u001b[0m\u001b[0;34m)\u001b[0m\u001b[0;34m\u001b[0m\u001b[0;34m\u001b[0m\u001b[0m\n\u001b[0;32m----> 6\u001b[0;31m   \u001b[0ma\u001b[0m\u001b[0;34m,\u001b[0m\u001b[0mh\u001b[0m\u001b[0;34m,\u001b[0m\u001b[0mY_tst_Pred\u001b[0m \u001b[0;34m=\u001b[0m \u001b[0mForwardProp\u001b[0m\u001b[0;34m(\u001b[0m\u001b[0mX_tes\u001b[0m\u001b[0;34m,\u001b[0m\u001b[0mW_b_rms\u001b[0m\u001b[0;34m,\u001b[0m \u001b[0mact_f\u001b[0m\u001b[0;34m=\u001b[0m\u001b[0;34m'relu'\u001b[0m\u001b[0;34m,\u001b[0m \u001b[0mhidden_lyr_num\u001b[0m\u001b[0;34m=\u001b[0m\u001b[0;36m5\u001b[0m\u001b[0;34m,\u001b[0m\u001b[0minput_dimm\u001b[0m\u001b[0;34m=\u001b[0m\u001b[0;36m784\u001b[0m\u001b[0;34m)\u001b[0m\u001b[0;34m\u001b[0m\u001b[0;34m\u001b[0m\u001b[0m\n\u001b[0m\u001b[1;32m      7\u001b[0m   \u001b[0my1\u001b[0m \u001b[0;34m=\u001b[0m \u001b[0mnp\u001b[0m\u001b[0;34m.\u001b[0m\u001b[0margmax\u001b[0m\u001b[0;34m(\u001b[0m\u001b[0mY_tst\u001b[0m\u001b[0;34m[\u001b[0m\u001b[0mi\u001b[0m\u001b[0;34m,\u001b[0m\u001b[0;34m:\u001b[0m\u001b[0;34m]\u001b[0m\u001b[0;34m.\u001b[0m\u001b[0mreshape\u001b[0m\u001b[0;34m(\u001b[0m\u001b[0;34m-\u001b[0m\u001b[0;36m1\u001b[0m\u001b[0;34m,\u001b[0m \u001b[0;36m1\u001b[0m\u001b[0;34m)\u001b[0m\u001b[0;34m,\u001b[0m \u001b[0maxis\u001b[0m \u001b[0;34m=\u001b[0m \u001b[0;36m0\u001b[0m\u001b[0;34m)\u001b[0m\u001b[0;34m\u001b[0m\u001b[0;34m\u001b[0m\u001b[0m\n\u001b[1;32m      8\u001b[0m   \u001b[0my_test_label\u001b[0m\u001b[0;34m.\u001b[0m\u001b[0mappend\u001b[0m\u001b[0;34m(\u001b[0m\u001b[0my1\u001b[0m\u001b[0;34m)\u001b[0m\u001b[0;34m\u001b[0m\u001b[0;34m\u001b[0m\u001b[0m\n",
            "\u001b[0;31mNameError\u001b[0m: name 'W_b_rms' is not defined"
          ]
        }
      ],
      "source": [
        "y_test_label = []\n",
        "Y_tst_Pred_label = []\n",
        "l = X_tst.shape[0]\n",
        "for i in range(l):\n",
        "  X_tes = X_tst[i,:].reshape(-1, 1)\n",
        "  a,h,Y_tst_Pred = ForwardProp(X_tes,W_b_rms, act_f='relu', hidden_lyr_num=5,input_dimm=784)\n",
        "  y1 = np.argmax(Y_tst[i,:].reshape(-1, 1), axis = 0)\n",
        "  y_test_label.append(y1)\n",
        "  y2 = np.argmax(Y_tst_Pred, axis = 0)\n",
        "  Y_tst_Pred_label.append(y2)\n",
        "\n",
        "from sklearn.metrics import confusion_matrix, ConfusionMatrixDisplay\n",
        "\n",
        "cm = confusion_matrix(y_test_label[:10000], Y_tst_Pred_label[:10000])\n",
        "\n",
        "class_name = [\"T-shirt/top\", \"Trouser\", \"Pullover\", \"Dress\",\"Coat\",\"Sandal\",\"Shirt\", \"Sneaker\", \"Bag\",\"Ankle boot\"]\n",
        "\n",
        "cm_display = ConfusionMatrixDisplay(confusion_matrix=cm, display_labels=class_name)\n",
        "\n",
        "# Plot the confusion matrix\n",
        "fig, ax = plt.subplots(figsize=(10, 8))\n",
        "cm_display.plot(ax=ax, cmap=plt.cm.Reds)\n",
        "plt.title('Confusion Matrix')\n",
        "plt.xlabel('Predicted Label')\n",
        "plt.ylabel('True Label')\n",
        "plt.show()\n"
      ]
    },
    {
      "cell_type": "code",
      "execution_count": null,
      "metadata": {
        "id": "Y0gk9etK9KVz",
        "colab": {
          "base_uri": "https://localhost:8080/"
        },
        "outputId": "6d092cd0-c056-468c-c51c-bf270ed01f62"
      },
      "outputs": [
        {
          "output_type": "stream",
          "name": "stdout",
          "text": [
            "Downloading data from https://storage.googleapis.com/tensorflow/tf-keras-datasets/mnist.npz\n",
            "\u001b[1m11490434/11490434\u001b[0m \u001b[32m━━━━━━━━━━━━━━━━━━━━\u001b[0m\u001b[37m\u001b[0m \u001b[1m0s\u001b[0m 0us/step\n",
            "(60000, 28, 28) (60000,) (10000, 28, 28) (10000,)\n"
          ]
        }
      ],
      "source": [
        "from keras.datasets import mnist\n",
        "(Xtrain, ytrain), (Xtest, ytest) = mnist.load_data()\n",
        "print(Xtrain.shape, ytrain.shape, Xtest.shape, ytest.shape)"
      ]
    },
    {
      "cell_type": "code",
      "source": [],
      "metadata": {
        "id": "cS9cDucuwbp_"
      },
      "execution_count": null,
      "outputs": []
    },
    {
      "cell_type": "code",
      "execution_count": null,
      "metadata": {
        "id": "8Smrg2N99asV",
        "colab": {
          "base_uri": "https://localhost:8080/"
        },
        "outputId": "ee79bb05-bfb1-44a1-829e-72f48d5cb58e"
      },
      "outputs": [
        {
          "output_type": "stream",
          "name": "stdout",
          "text": [
            "Training images shape: (60000, 784)\n",
            "Training labels shape: (60000, 10)\n",
            "Testing images shape: (10000, 784)\n",
            "Testing labels shape: (10000, 10)\n"
          ]
        }
      ],
      "source": [
        "import numpy as np\n",
        "import matplotlib.pyplot as plt\n",
        "\n",
        "# Flatten the image data\n",
        "X_trn = Xtrain.reshape(Xtrain.shape[0], -1)\n",
        "X_test = Xtest.reshape(Xtest.shape[0], -1)\n",
        "\n",
        "# Normalize the image data\n",
        "MX_trn = X_trn / 255.0\n",
        "MX_test = X_test / 255.0\n",
        "\n",
        "def one_hot_encod(arr):\n",
        "  mat = np.zeros((len(arr),10))\n",
        "  for i in range(len(arr)):\n",
        "    mat[i,arr[i]] = 1\n",
        "  return mat\n",
        "# Convert labels to one-hot encoding\n",
        "MY_trn =  one_hot_encod(ytrain)\n",
        "MY_test =  one_hot_encod(ytest)\n",
        "print(\"Training images shape:\", MX_trn.shape)\n",
        "print(\"Training labels shape:\", MY_trn.shape)\n",
        "print(\"Testing images shape:\", MX_test.shape)\n",
        "print(\"Testing labels shape:\", MY_test.shape)\n"
      ]
    },
    {
      "cell_type": "code",
      "source": [],
      "metadata": {
        "id": "8edf_6LqwcyW"
      },
      "execution_count": null,
      "outputs": []
    },
    {
      "cell_type": "code",
      "execution_count": null,
      "metadata": {
        "id": "cVTb8eU49v22",
        "colab": {
          "base_uri": "https://localhost:8080/",
          "height": 228
        },
        "outputId": "1bb60dfc-3584-4356-c927-f3767f22cd9d"
      },
      "outputs": [
        {
          "output_type": "error",
          "ename": "TypeError",
          "evalue": "initial_network() got an unexpected keyword argument 'num_nodes_hidden_layers'",
          "traceback": [
            "\u001b[0;31m---------------------------------------------------------------------------\u001b[0m",
            "\u001b[0;31mTypeError\u001b[0m                                 Traceback (most recent call last)",
            "\u001b[0;32m<ipython-input-96-a4bccf3847c7>\u001b[0m in \u001b[0;36m<cell line: 0>\u001b[0;34m()\u001b[0m\n\u001b[1;32m      2\u001b[0m \u001b[0;31m#step_size = 0.0001 , hidden_lyr_num = 5 , num_nodes_hidden_layers= 128, weight = xavior, act_f = 'relu' , epoch = 10 , batch_size = 64\u001b[0m\u001b[0;34m\u001b[0m\u001b[0;34m\u001b[0m\u001b[0m\n\u001b[1;32m      3\u001b[0m \u001b[0;31m#----------------------------------------------------\u001b[0m\u001b[0;34m\u001b[0m\u001b[0;34m\u001b[0m\u001b[0m\n\u001b[0;32m----> 4\u001b[0;31m \u001b[0mW_b1\u001b[0m \u001b[0;34m=\u001b[0m \u001b[0minitial_network\u001b[0m\u001b[0;34m(\u001b[0m \u001b[0mhidden_lyr_num\u001b[0m\u001b[0;34m=\u001b[0m\u001b[0;36m5\u001b[0m\u001b[0;34m,\u001b[0m \u001b[0mnum_nodes_hidden_layers\u001b[0m\u001b[0;34m=\u001b[0m\u001b[0;36m128\u001b[0m\u001b[0;34m,\u001b[0m \u001b[0mweight\u001b[0m\u001b[0;34m=\u001b[0m\u001b[0;34m'xavier'\u001b[0m\u001b[0;34m,\u001b[0m\u001b[0minput_dimm\u001b[0m\u001b[0;34m=\u001b[0m\u001b[0;36m784\u001b[0m \u001b[0;34m,\u001b[0m \u001b[0moutput_dimm\u001b[0m\u001b[0;34m=\u001b[0m\u001b[0;36m10\u001b[0m \u001b[0;34m)\u001b[0m\u001b[0;34m\u001b[0m\u001b[0;34m\u001b[0m\u001b[0m\n\u001b[0m\u001b[1;32m      5\u001b[0m \u001b[0mWb1\u001b[0m \u001b[0;34m=\u001b[0m\u001b[0mopt_RMSprop\u001b[0m\u001b[0;34m(\u001b[0m\u001b[0;36m0.0001\u001b[0m\u001b[0;34m,\u001b[0m \u001b[0mW_b1\u001b[0m\u001b[0;34m,\u001b[0m \u001b[0mMX_trn\u001b[0m\u001b[0;34m,\u001b[0m \u001b[0mMY_trn\u001b[0m\u001b[0;34m,\u001b[0m\u001b[0mMX_test\u001b[0m\u001b[0;34m,\u001b[0m \u001b[0mMY_test\u001b[0m\u001b[0;34m,\u001b[0m\u001b[0mact_f\u001b[0m\u001b[0;34m=\u001b[0m\u001b[0;34m'relu'\u001b[0m\u001b[0;34m,\u001b[0m \u001b[0mepochs\u001b[0m\u001b[0;34m=\u001b[0m\u001b[0;36m10\u001b[0m\u001b[0;34m,\u001b[0m \u001b[0mhidden_lyr_num\u001b[0m\u001b[0;34m=\u001b[0m\u001b[0;36m5\u001b[0m\u001b[0;34m,\u001b[0m \u001b[0minput_dimm\u001b[0m\u001b[0;34m=\u001b[0m\u001b[0;36m784\u001b[0m \u001b[0;34m,\u001b[0m\u001b[0mbatch_size\u001b[0m\u001b[0;34m=\u001b[0m\u001b[0;36m64\u001b[0m\u001b[0;34m,\u001b[0m \u001b[0meps\u001b[0m\u001b[0;34m=\u001b[0m\u001b[0;36m0.01\u001b[0m\u001b[0;34m,\u001b[0m \u001b[0mbeta_val\u001b[0m\u001b[0;34m=\u001b[0m\u001b[0;36m0.9\u001b[0m\u001b[0;34m)\u001b[0m\u001b[0;34m\u001b[0m\u001b[0;34m\u001b[0m\u001b[0m\n\u001b[1;32m      6\u001b[0m \u001b[0;34m\u001b[0m\u001b[0m\n",
            "\u001b[0;31mTypeError\u001b[0m: initial_network() got an unexpected keyword argument 'num_nodes_hidden_layers'"
          ]
        }
      ],
      "source": [
        "#---------------------------------------------------\n",
        "#step_size = 0.0001 , hidden_lyr_num = 5 , num_nodes_hidden_layers= 128, weight = xavior, act_f = 'relu' , epoch = 10 , batch_size = 64\n",
        "#----------------------------------------------------\n",
        "W_b1 = initial_network( hidden_lyr_num=5, num_nodes_hidden_layers=128, weight='xavier',input_dimm=784 , output_dimm=10 )\n",
        "Wb1 =opt_RMSprop(0.0001, W_b1, MX_trn, MY_trn,MX_test, MY_test,act_f='relu', epochs=10, hidden_lyr_num=5, input_dimm=784 ,batch_size=64, eps=0.01, beta_val=0.9)\n",
        "\n",
        "#---------------------------------------------------\n",
        "# step_size = 0.0001 , hidden_lyr_num = 3 , num_nodes_hidden_layers= 128, weight = xavior, act_f = 'sigmoid' , epoch = 10 , batch_size = 32\n",
        "#----------------------------------------------------\n",
        "W_b2 = initial_network( hidden_lyr_num=3, num_nodes_hidden_layers=128, weight='xavier',input_dimm=784 , output_dimm=10 )\n",
        "Wb2 = opt_Adam(0.0001,  W_b2, MX_trn, MY_trn,MX_test, MY_test, act_f='sigmoid', epochs=10, hidden_lyr_num=3, input_dimm=784,batch_size=32 ,eps=0.01, beta1_val=0.9,beta2_val= 0.99)\n",
        "\n",
        "\n",
        "#---------------------------------------------------\n",
        "# step_size = 0.0001 , hidden_lyr_num = 3 , num_nodes_hidden_layers= 64, weight = xavior, act_f = 'relu' , epoch = 10 , batch_size = 32\n",
        "#----------------------------------------------------\n",
        "W_b3 = initial_network(hidden_lyr_num=3, num_nodes_hidden_layers=64, weight='xavier',input_dimm=784 , output_dimm=10)\n",
        "Wb3 = opt_Nadam(0.0001, W_b3, MX_trn, MY_trn,MX_test, MY_test,act_f='relu', epochs=10, hidden_lyr_num=3, input_dimm=784,batch_size=32,eps=0.01, beta1_val=0.9,beta2_val=0.99)\n"
      ]
    },
    {
      "cell_type": "code",
      "source": [],
      "metadata": {
        "id": "1IxGpJCSP3_7"
      },
      "execution_count": null,
      "outputs": []
    }
  ]
}